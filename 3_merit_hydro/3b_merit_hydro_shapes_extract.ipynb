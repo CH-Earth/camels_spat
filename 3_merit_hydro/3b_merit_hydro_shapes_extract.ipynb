{
 "cells": [
  {
   "cell_type": "markdown",
   "id": "b308c8ac",
   "metadata": {},
   "source": [
    "# Extract MERIT Hydro basin delineations\n",
    "Extracts the `.7z` file and deletes it after unzipping is complete. Keeps only the North America shapefiles we're after."
   ]
  },
  {
   "cell_type": "code",
   "execution_count": 13,
   "id": "2ec73ac7",
   "metadata": {},
   "outputs": [],
   "source": [
    "import os\n",
    "import sys\n",
    "import py7zr\n",
    "import shutil\n",
    "from pathlib import Path\n",
    "sys.path.append(str(Path().absolute().parent))\n",
    "import python_cs_functions as cs"
   ]
  },
  {
   "cell_type": "markdown",
   "id": "73793dff",
   "metadata": {},
   "source": [
    "### Config handling"
   ]
  },
  {
   "cell_type": "code",
   "execution_count": 2,
   "id": "0bd4a19f",
   "metadata": {},
   "outputs": [],
   "source": [
    "# Specify where the config file can be found\n",
    "config_file = '../0_config/config.txt'"
   ]
  },
  {
   "cell_type": "code",
   "execution_count": 3,
   "id": "4855e428",
   "metadata": {},
   "outputs": [],
   "source": [
    "# Get the required info from the config file\n",
    "data_path = cs.read_from_config(config_file,'data_path')\n",
    "merit_path = cs.read_from_config(config_file,'merit_path')"
   ]
  },
  {
   "cell_type": "markdown",
   "id": "f51e3ac2",
   "metadata": {},
   "source": [
    "### Make data folder"
   ]
  },
  {
   "cell_type": "code",
   "execution_count": 4,
   "id": "4fa8ede1",
   "metadata": {},
   "outputs": [],
   "source": [
    "# Construct the download location\n",
    "download_folder = Path(data_path) / merit_path / 'shapes'"
   ]
  },
  {
   "cell_type": "code",
   "execution_count": 22,
   "id": "ae234594",
   "metadata": {},
   "outputs": [],
   "source": [
    "data_file = 'CWARHM_data.7z'"
   ]
  },
  {
   "cell_type": "markdown",
   "id": "4597b33b",
   "metadata": {},
   "source": [
    "### Extract the data"
   ]
  },
  {
   "cell_type": "code",
   "execution_count": 8,
   "id": "6c2cb578",
   "metadata": {},
   "outputs": [],
   "source": [
    "# Source: https://stackoverflow.com/a/63012687\n",
    "with py7zr.SevenZipFile( download_folder/data_file, mode='r') as z:\n",
    "    z.extractall(download_folder)"
   ]
  },
  {
   "cell_type": "code",
   "execution_count": 12,
   "id": "783427fa",
   "metadata": {},
   "outputs": [
    {
     "data": {
      "text/plain": [
       "'C:\\\\Globus endpoint\\\\CAMELS_spat\\\\merit_hydro_files\\\\shapes\\\\river_network'"
      ]
     },
     "execution_count": 12,
     "metadata": {},
     "output_type": "execute_result"
    }
   ],
   "source": [
    "# Move the data we're after to the main folders\n",
    "data_root = download_folder / 'domain_NorthAmerica' / 'shapefiles'\n",
    "shutil.move(str(data_root / 'catchment'), str(download_folder))\n",
    "shutil.move(str(data_root / 'river_network'), str(download_folder))"
   ]
  },
  {
   "cell_type": "markdown",
   "id": "7fa31667",
   "metadata": {},
   "source": [
    "### Remove everything we don't need"
   ]
  },
  {
   "cell_type": "code",
   "execution_count": 17,
   "id": "162db610",
   "metadata": {},
   "outputs": [],
   "source": [
    "# Find all 'domain_' folders we extracted\n",
    "domain_folders = [f for f in os.listdir(download_folder) if 'domain_' in f]"
   ]
  },
  {
   "cell_type": "code",
   "execution_count": 19,
   "id": "8fa3b11a",
   "metadata": {},
   "outputs": [],
   "source": [
    "# Remove the 'domain_' folders\n",
    "for domain_folder in domain_folders:\n",
    "    shutil.rmtree(download_folder/domain_folder)"
   ]
  },
  {
   "cell_type": "code",
   "execution_count": 23,
   "id": "4681075b",
   "metadata": {},
   "outputs": [],
   "source": [
    "# Remove the source file\n",
    "os.remove(download_folder/data_file)"
   ]
  },
  {
   "cell_type": "code",
   "execution_count": null,
   "id": "0007da19",
   "metadata": {},
   "outputs": [],
   "source": []
  }
 ],
 "metadata": {
  "kernelspec": {
   "display_name": "camels-spat-env",
   "language": "python",
   "name": "camels-spat-env"
  },
  "language_info": {
   "codemirror_mode": {
    "name": "ipython",
    "version": 3
   },
   "file_extension": ".py",
   "mimetype": "text/x-python",
   "name": "python",
   "nbconvert_exporter": "python",
   "pygments_lexer": "ipython3",
   "version": "3.8.2"
  }
 },
 "nbformat": 4,
 "nbformat_minor": 5
}
