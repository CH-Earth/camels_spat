{
 "cells": [
  {
   "cell_type": "markdown",
   "id": "588fe114",
   "metadata": {},
   "source": [
    "# Download MERIT Hydro flow direction grid"
   ]
  },
  {
   "cell_type": "code",
   "execution_count": 1,
   "id": "a29c0dcc",
   "metadata": {},
   "outputs": [],
   "source": [
    "import sys\n",
    "from pathlib import Path\n",
    "sys.path.append(str(Path().absolute().parent))\n",
    "import python_cs_functions as cs"
   ]
  },
  {
   "cell_type": "markdown",
   "id": "73793dff",
   "metadata": {},
   "source": [
    "### Config handling"
   ]
  },
  {
   "cell_type": "code",
   "execution_count": 2,
   "id": "0bd4a19f",
   "metadata": {},
   "outputs": [],
   "source": [
    "# Specify where the config file can be found\n",
    "config_file = '../0_config/config.txt'"
   ]
  },
  {
   "cell_type": "code",
   "execution_count": 8,
   "id": "4855e428",
   "metadata": {},
   "outputs": [],
   "source": [
    "# Get the required info from the config file\n",
    "data_path  = cs.read_from_config(config_file,'data_path')\n",
    "merit_path = cs.read_from_config(config_file,'merit_path')\n",
    "merit_url  = cs.read_from_config(config_file,'merit_flow_dir_url')\n",
    "merit_area = cs.read_from_config(config_file,'merit_download_area')"
   ]
  },
  {
   "cell_type": "markdown",
   "id": "f51e3ac2",
   "metadata": {},
   "source": [
    "### Make output folder"
   ]
  },
  {
   "cell_type": "code",
   "execution_count": 4,
   "id": "4fa8ede1",
   "metadata": {},
   "outputs": [],
   "source": [
    "# Construct the download location\n",
    "download_folder = Path(data_path) / merit_path / 'flow_direction_grid'"
   ]
  },
  {
   "cell_type": "code",
   "execution_count": 5,
   "id": "ac6e3ce1",
   "metadata": {},
   "outputs": [],
   "source": [
    "# Make sure the download folder exists\n",
    "download_folder.mkdir(parents=True, exist_ok=True)"
   ]
  },
  {
   "cell_type": "markdown",
   "id": "71457c74",
   "metadata": {},
   "source": [
    "### Download settings"
   ]
  },
  {
   "cell_type": "code",
   "execution_count": 6,
   "id": "d6dba828",
   "metadata": {},
   "outputs": [],
   "source": [
    "usr,pwd = cs.read_merit_credentials()"
   ]
  },
  {
   "cell_type": "code",
   "execution_count": 7,
   "id": "834de23e",
   "metadata": {},
   "outputs": [],
   "source": [
    "merit_lon,merit_lat = cs.convert_coordinates_to_merit_download_lists(merit_area)"
   ]
  },
  {
   "cell_type": "markdown",
   "id": "8f3d98ad",
   "metadata": {},
   "source": [
    "### Download the data"
   ]
  },
  {
   "cell_type": "code",
   "execution_count": 9,
   "id": "b330a37f",
   "metadata": {
    "scrolled": false
   },
   "outputs": [
    {
     "name": "stdout",
     "output_type": "stream",
     "text": [
      "WARNING: download_merit_hydro_grid: MERIT Hydro data does not contain data for dir_n00w150.tar. Aborting download.\n",
      "Successfully downloaded http://hydro.iis.u-tokyo.ac.jp/~yamadai/MERIT_Hydro/distribute/v1.0/dir_n30w150.tar\n",
      "Successfully downloaded http://hydro.iis.u-tokyo.ac.jp/~yamadai/MERIT_Hydro/distribute/v1.0/dir_n60w150.tar\n",
      "Successfully downloaded http://hydro.iis.u-tokyo.ac.jp/~yamadai/MERIT_Hydro/distribute/v1.0/dir_n00w120.tar\n",
      "Successfully downloaded http://hydro.iis.u-tokyo.ac.jp/~yamadai/MERIT_Hydro/distribute/v1.0/dir_n30w120.tar\n",
      "Successfully downloaded http://hydro.iis.u-tokyo.ac.jp/~yamadai/MERIT_Hydro/distribute/v1.0/dir_n60w120.tar\n",
      "Successfully downloaded http://hydro.iis.u-tokyo.ac.jp/~yamadai/MERIT_Hydro/distribute/v1.0/dir_n00w090.tar\n",
      "Successfully downloaded http://hydro.iis.u-tokyo.ac.jp/~yamadai/MERIT_Hydro/distribute/v1.0/dir_n30w090.tar\n",
      "Successfully downloaded http://hydro.iis.u-tokyo.ac.jp/~yamadai/MERIT_Hydro/distribute/v1.0/dir_n60w090.tar\n",
      "Successfully downloaded http://hydro.iis.u-tokyo.ac.jp/~yamadai/MERIT_Hydro/distribute/v1.0/dir_n00w060.tar\n",
      "Successfully downloaded http://hydro.iis.u-tokyo.ac.jp/~yamadai/MERIT_Hydro/distribute/v1.0/dir_n30w060.tar\n",
      "Successfully downloaded http://hydro.iis.u-tokyo.ac.jp/~yamadai/MERIT_Hydro/distribute/v1.0/dir_n60w060.tar\n"
     ]
    }
   ],
   "source": [
    "for dl_lon in merit_lon:\n",
    "    for dl_lat in merit_lat:\n",
    "        file_url = merit_url.format(dl_lat,dl_lon) # Replace placeholder values in url with download coordinates\n",
    "        cs.download_merit_hydro_grid(file_url, usr, pwd, download_folder)"
   ]
  },
  {
   "cell_type": "code",
   "execution_count": null,
   "id": "c6e41794",
   "metadata": {},
   "outputs": [],
   "source": []
  }
 ],
 "metadata": {
  "kernelspec": {
   "display_name": "camels-spat-env",
   "language": "python",
   "name": "camels-spat-env"
  },
  "language_info": {
   "codemirror_mode": {
    "name": "ipython",
    "version": 3
   },
   "file_extension": ".py",
   "mimetype": "text/x-python",
   "name": "python",
   "nbconvert_exporter": "python",
   "pygments_lexer": "ipython3",
   "version": "3.8.2"
  }
 },
 "nbformat": 4,
 "nbformat_minor": 5
}
