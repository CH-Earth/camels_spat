{
 "cells": [
  {
   "cell_type": "markdown",
   "id": "588fe114",
   "metadata": {},
   "source": [
    "# Download MERIT Hydro basin delineations\n",
    "We'll grab the full set of shapefiles used by CWARHM and retain only the North America ones.\n",
    "\n",
    "Code adapted from CWARHM toolbox (Knoben et al., 2022a; Knoben et al., 2022b).\n",
    "\n",
    "#### References\n",
    "Knoben, W. J. M., Clark, M. P., Bales, J., Bennett, A., Gharari, S., Marsh, C. B., Nijssen, B., Pietroniro, A., Spiteri, R. J., Tang, G., Tarboton, D. G., & Wood, A. W. (2022a). Community Workflows to Advance Reproducibility in Hydrologic Modeling:  Separating model-agnostic and model-specific configuration steps in applications of large-domain hydrologic models [Preprint].  Hydrology. https://doi.org/10.1002/essoar.10509195.2\n",
    "\n",
    "Knoben, W. J. M., Marsh, C. B., & Tang, G. (2022b). CH-Earth/CWARHM: Initial release (v1.0.0). Zenodo. https://doi.org/10.5281/zenodo.6968609"
   ]
  },
  {
   "cell_type": "code",
   "execution_count": 8,
   "id": "a29c0dcc",
   "metadata": {},
   "outputs": [],
   "source": [
    "import sys\n",
    "from pathlib import Path\n",
    "from hs_restclient import HydroShare, HydroShareAuthBasic\n",
    "sys.path.append(str(Path().absolute().parent))\n",
    "import python_cs_functions as cs"
   ]
  },
  {
   "cell_type": "markdown",
   "id": "73793dff",
   "metadata": {},
   "source": [
    "### Config handling"
   ]
  },
  {
   "cell_type": "code",
   "execution_count": 2,
   "id": "0bd4a19f",
   "metadata": {},
   "outputs": [],
   "source": [
    "# Specify where the config file can be found\n",
    "config_file = '../0_config/config.txt'"
   ]
  },
  {
   "cell_type": "code",
   "execution_count": 3,
   "id": "4855e428",
   "metadata": {},
   "outputs": [],
   "source": [
    "# Get the required info from the config file\n",
    "data_path   = cs.read_from_config(config_file,'data_path')\n",
    "merit_path  = cs.read_from_config(config_file,'merit_path')\n",
    "merit_hs_id = cs.read_from_config(config_file,'merit_shps_hs_id')"
   ]
  },
  {
   "cell_type": "markdown",
   "id": "f51e3ac2",
   "metadata": {},
   "source": [
    "### Make output folder"
   ]
  },
  {
   "cell_type": "code",
   "execution_count": 4,
   "id": "4fa8ede1",
   "metadata": {},
   "outputs": [],
   "source": [
    "# Construct the download location\n",
    "download_folder = Path(data_path) / merit_path / 'shapes'"
   ]
  },
  {
   "cell_type": "code",
   "execution_count": 5,
   "id": "ac6e3ce1",
   "metadata": {},
   "outputs": [],
   "source": [
    "# Make sure the download folder exists\n",
    "download_folder.mkdir(parents=True, exist_ok=True)"
   ]
  },
  {
   "cell_type": "markdown",
   "id": "71457c74",
   "metadata": {},
   "source": [
    "### Download settings"
   ]
  },
  {
   "cell_type": "code",
   "execution_count": 6,
   "id": "d6dba828",
   "metadata": {},
   "outputs": [],
   "source": [
    "usr,pwd = cs.read_hydroshare_credentials()"
   ]
  },
  {
   "cell_type": "markdown",
   "id": "8f3d98ad",
   "metadata": {},
   "source": [
    "### Download the data"
   ]
  },
  {
   "cell_type": "code",
   "execution_count": 9,
   "id": "b330a37f",
   "metadata": {
    "scrolled": false
   },
   "outputs": [],
   "source": [
    "# Authenticate the user\n",
    "auth = HydroShareAuthBasic(username = usr, password = pwd)"
   ]
  },
  {
   "cell_type": "code",
   "execution_count": 10,
   "id": "c6e41794",
   "metadata": {},
   "outputs": [],
   "source": [
    "# Make a hydroshare object - note: needs authentication\n",
    "hs = HydroShare(auth=auth)"
   ]
  },
  {
   "cell_type": "code",
   "execution_count": 15,
   "id": "e976cfe3",
   "metadata": {},
   "outputs": [],
   "source": [
    "# Specify the resource ID and download the resource data\n",
    "# By using getResourceFile() instead of getResource(), we skip the step where HydroShare compresses the data further \n",
    "#  and adds various parent folders to the resource\n",
    "out = hs.getResourceFile(merit_hs_id, \"CWARHM_data.7z\", destination = download_folder)"
   ]
  },
  {
   "cell_type": "code",
   "execution_count": null,
   "id": "af6c4f2f",
   "metadata": {},
   "outputs": [],
   "source": []
  }
 ],
 "metadata": {
  "kernelspec": {
   "display_name": "camels-spat-env",
   "language": "python",
   "name": "camels-spat-env"
  },
  "language_info": {
   "codemirror_mode": {
    "name": "ipython",
    "version": 3
   },
   "file_extension": ".py",
   "mimetype": "text/x-python",
   "name": "python",
   "nbconvert_exporter": "python",
   "pygments_lexer": "ipython3",
   "version": "3.8.2"
  }
 },
 "nbformat": 4,
 "nbformat_minor": 5
}
