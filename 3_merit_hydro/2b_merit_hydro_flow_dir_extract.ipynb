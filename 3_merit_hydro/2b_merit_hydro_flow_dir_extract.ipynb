{
 "cells": [
  {
   "cell_type": "markdown",
   "id": "b308c8ac",
   "metadata": {},
   "source": [
    "# Extract MERIT Hydro flow direction grid\n",
    "Extracts the `.tar` file and deletes it after unzipping is complete. "
   ]
  },
  {
   "cell_type": "code",
   "execution_count": 1,
   "id": "2ec73ac7",
   "metadata": {},
   "outputs": [],
   "source": [
    "import os\n",
    "import sys\n",
    "import tarfile\n",
    "from pathlib import Path\n",
    "sys.path.append(str(Path().absolute().parent))\n",
    "import python_cs_functions as cs"
   ]
  },
  {
   "cell_type": "markdown",
   "id": "73793dff",
   "metadata": {},
   "source": [
    "### Config handling"
   ]
  },
  {
   "cell_type": "code",
   "execution_count": 2,
   "id": "0bd4a19f",
   "metadata": {},
   "outputs": [],
   "source": [
    "# Specify where the config file can be found\n",
    "config_file = '../0_config/config.txt'"
   ]
  },
  {
   "cell_type": "code",
   "execution_count": 3,
   "id": "4855e428",
   "metadata": {},
   "outputs": [],
   "source": [
    "# Get the required info from the config file\n",
    "data_path = cs.read_from_config(config_file,'data_path')\n",
    "merit_path = cs.read_from_config(config_file,'merit_path')"
   ]
  },
  {
   "cell_type": "markdown",
   "id": "f51e3ac2",
   "metadata": {},
   "source": [
    "### Make data folder"
   ]
  },
  {
   "cell_type": "code",
   "execution_count": 4,
   "id": "4fa8ede1",
   "metadata": {},
   "outputs": [],
   "source": [
    "# Construct the download location\n",
    "download_folder = Path(data_path) / merit_path / 'flow_direction_grid'"
   ]
  },
  {
   "cell_type": "markdown",
   "id": "4597b33b",
   "metadata": {},
   "source": [
    "### Extract the data"
   ]
  },
  {
   "cell_type": "code",
   "execution_count": 5,
   "id": "261976aa",
   "metadata": {},
   "outputs": [],
   "source": [
    "# Find the file names\n",
    "files = [ f for f in os.listdir(download_folder) if os.path.isfile(\n",
    "            os.path.join(download_folder,f))]"
   ]
  },
  {
   "cell_type": "code",
   "execution_count": 7,
   "id": "16d53b5d",
   "metadata": {},
   "outputs": [],
   "source": [
    "for file in files:\n",
    "    tar_file = tarfile.open(download_folder/file)\n",
    "    tar_file.extractall(download_folder)\n",
    "    tar_file.close()\n",
    "    os.remove(download_folder/file)"
   ]
  },
  {
   "cell_type": "code",
   "execution_count": null,
   "id": "4690cb4b",
   "metadata": {},
   "outputs": [],
   "source": []
  }
 ],
 "metadata": {
  "kernelspec": {
   "display_name": "camels-spat-env",
   "language": "python",
   "name": "camels-spat-env"
  },
  "language_info": {
   "codemirror_mode": {
    "name": "ipython",
    "version": 3
   },
   "file_extension": ".py",
   "mimetype": "text/x-python",
   "name": "python",
   "nbconvert_exporter": "python",
   "pygments_lexer": "ipython3",
   "version": "3.8.2"
  }
 },
 "nbformat": 4,
 "nbformat_minor": 5
}
