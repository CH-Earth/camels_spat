{
 "cells": [
  {
   "cell_type": "markdown",
   "id": "b308c8ac",
   "metadata": {},
   "source": [
    "# Merge MERIT Hydro flow direction grid\n",
    "Merges the individual files into a single large GeoTIFF."
   ]
  },
  {
   "cell_type": "code",
   "execution_count": 1,
   "id": "2ec73ac7",
   "metadata": {},
   "outputs": [],
   "source": [
    "import os\n",
    "import sys\n",
    "import shutil\n",
    "from osgeo import gdal\n",
    "from pathlib import Path\n",
    "sys.path.append(str(Path().absolute().parent))\n",
    "import python_cs_functions as cs"
   ]
  },
  {
   "cell_type": "markdown",
   "id": "73793dff",
   "metadata": {},
   "source": [
    "### Config handling"
   ]
  },
  {
   "cell_type": "code",
   "execution_count": 2,
   "id": "0bd4a19f",
   "metadata": {},
   "outputs": [],
   "source": [
    "# Specify where the config file can be found\n",
    "config_file = '../0_config/config.txt'"
   ]
  },
  {
   "cell_type": "code",
   "execution_count": 3,
   "id": "4855e428",
   "metadata": {},
   "outputs": [],
   "source": [
    "# Get the required info from the config file\n",
    "data_path   = cs.read_from_config(config_file,'data_path')\n",
    "merit_path  = cs.read_from_config(config_file,'merit_path')\n",
    "subset_area = cs.read_from_config(config_file,'merit_subset_area')"
   ]
  },
  {
   "cell_type": "code",
   "execution_count": 4,
   "id": "d9ac1202",
   "metadata": {},
   "outputs": [],
   "source": [
    "# Convert subsetting string into a list of four floats\n",
    "subset_coor = list(map(float,subset_area.split(',')))"
   ]
  },
  {
   "cell_type": "markdown",
   "id": "f51e3ac2",
   "metadata": {},
   "source": [
    "### Define data locations"
   ]
  },
  {
   "cell_type": "code",
   "execution_count": 5,
   "id": "4fa8ede1",
   "metadata": {},
   "outputs": [],
   "source": [
    "# Construct the download location\n",
    "download_folder = Path(data_path) / merit_path / 'flow_direction_grid'"
   ]
  },
  {
   "cell_type": "code",
   "execution_count": 6,
   "id": "da3a4d4d",
   "metadata": {},
   "outputs": [],
   "source": [
    "# Name of the merged GeoTIFF\n",
    "merged_file = 'merit_hydro_dir.tif'"
   ]
  },
  {
   "cell_type": "markdown",
   "id": "4597b33b",
   "metadata": {},
   "source": [
    "### Merge the data into a GeoTIFF\n",
    "The MERIT Hydro downloads cover a larger area than we are interested in. To save disk space we subset the download region to a smaller region before merging the individual `.tif` files into a single large one."
   ]
  },
  {
   "cell_type": "code",
   "execution_count": 7,
   "id": "261976aa",
   "metadata": {},
   "outputs": [],
   "source": [
    "# Find the file names\n",
    "all_files = []\n",
    "for dir_path, dir_names, file_names in os.walk(download_folder):\n",
    "    for file_name in file_names:\n",
    "        if file_name.endswith('.tif'): # ensure we don't accidentally get .aux files from QGIS or something similar\n",
    "            all_files.append(os.path.join(dir_path,file_name))"
   ]
  },
  {
   "cell_type": "code",
   "execution_count": 8,
   "id": "9f19202b",
   "metadata": {},
   "outputs": [],
   "source": [
    "# Convert subsetting area into a usable GDAL setting\n",
    "# subset_area = [lon_min, lon_max, lat_min, lat_max]\n",
    "# GDAL window = [ulx, uly, lrx, lry]; [upper left x, upper left y, lower right x, lower right y]\n",
    "# Mapping:\n",
    "#   ulx = lon_min = subset_area[0]\n",
    "#   uly = lat_max = subset_area[3]\n",
    "#   lrx = lon_max = subset_area[1]\n",
    "#   lry = lat_min = subset_area[2]\n",
    "window = [subset_coor[0], subset_coor[3], subset_coor[1], subset_coor[2]]"
   ]
  },
  {
   "cell_type": "code",
   "execution_count": 9,
   "id": "5875d603",
   "metadata": {},
   "outputs": [],
   "source": [
    "cs.merge_merit_downloads_into_area_of_interest(all_files, str(download_folder/merged_file), window)"
   ]
  },
  {
   "cell_type": "markdown",
   "id": "be76d72e",
   "metadata": {},
   "source": [
    "### Delete the individual GeoTIFF files to save space"
   ]
  },
  {
   "cell_type": "code",
   "execution_count": 10,
   "id": "9fd3142c",
   "metadata": {},
   "outputs": [],
   "source": [
    "# Structure to delete:\n",
    "# - folder1\n",
    "#    |- file1\n",
    "#    |- file2\n",
    "#    |- ..\n",
    "# - folder2\n",
    "#    |- ..\n",
    "\n",
    "# Loop over all individual files and ...\n",
    "for file in all_files:\n",
    "    \n",
    "    # Find the parent folder the file is in\n",
    "    remove_this = os.path.dirname(file) \n",
    "    \n",
    "    # Check if this folder still exists and ...\n",
    "    if os.path.isdir(remove_this):\n",
    "        shutil.rmtree(remove_this) # Remove the folder and everything in it if so"
   ]
  },
  {
   "cell_type": "code",
   "execution_count": null,
   "id": "14704f6f",
   "metadata": {},
   "outputs": [],
   "source": []
  }
 ],
 "metadata": {
  "kernelspec": {
   "display_name": "camels-spat-env",
   "language": "python",
   "name": "camels-spat-env"
  },
  "language_info": {
   "codemirror_mode": {
    "name": "ipython",
    "version": 3
   },
   "file_extension": ".py",
   "mimetype": "text/x-python",
   "name": "python",
   "nbconvert_exporter": "python",
   "pygments_lexer": "ipython3",
   "version": "3.8.2"
  }
 },
 "nbformat": 4,
 "nbformat_minor": 5
}
