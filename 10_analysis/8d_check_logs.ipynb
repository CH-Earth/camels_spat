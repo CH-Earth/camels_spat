{
 "cells": [
  {
   "cell_type": "markdown",
   "id": "608b94c8-1d1e-4e2a-90d6-965beabec748",
   "metadata": {},
   "source": [
    "# opens the log files and gets the years of data per category"
   ]
  },
  {
   "cell_type": "code",
   "execution_count": 20,
   "id": "e2487b89-e624-4263-abd2-7ef3b6ba021f",
   "metadata": {},
   "outputs": [],
   "source": [
    "import os\n",
    "import pandas as pd\n",
    "import glob\n",
    "import re\n",
    "import matplotlib.pyplot as plt\n",
    "import numpy as np"
   ]
  },
  {
   "cell_type": "code",
   "execution_count": 21,
   "id": "c0b05bfb-3383-4c07-a7fb-a77ca77a6916",
   "metadata": {},
   "outputs": [],
   "source": [
    "def contains_oom_error(file_path):\n",
    "    \"\"\"Checks if the log file contains an OOM (Out of Memory) error.\"\"\"\n",
    "    with open(file_path, \"r\") as file:\n",
    "        for line in file:\n",
    "            if \"oom_kill\" in line.lower() or \"OOM Killed\" in line or \"error: Detected\" in line:\n",
    "                return True  # OOM error detected, skip this file\n",
    "    return False\n",
    "    \n",
    "def extract_data_from_log(file_path):\n",
    "    \"\"\"Extracts category and years from a log file.\"\"\"\n",
    "    data = []\n",
    "    station_id = None  # Variable to store the station ID\n",
    "\n",
    "    with open(file_path, \"r\") as file:\n",
    "        for line in file:\n",
    "            # Extract station ID (Assumes it's the first uppercase word in the file)\n",
    "            match_station = re.match(r\"^[A-Z0-9_]+$\", line.strip())\n",
    "            if match_station:\n",
    "                station_id = match_station.group(0)\n",
    "                continue  # Move to the next line\n",
    "\n",
    "            # Extract category and years\n",
    "            match_data = re.match(r\"(\\S+)\\s+(\\S+)\\s+:\\s+(\\d+)\\s+years\", line.strip())\n",
    "            if match_data:\n",
    "                category = match_data.group(1)\n",
    "                subcategory = match_data.group(2)\n",
    "                years = int(match_data.group(3))\n",
    "                data.append([station_id, category, subcategory, years])\n",
    "\n",
    "    return data\n",
    "\n",
    "def process_logs(folder_path):\n",
    "    \"\"\"Processes all .out log files in the specified folder, skipping OOM error logs.\"\"\"\n",
    "    log_files = glob.glob(os.path.join(folder_path, \"*.out\"))\n",
    "    all_data = []\n",
    "\n",
    "    oom_count = 0\n",
    "    for file_path in log_files:\n",
    "        # Skip file if it contains an OOM error\n",
    "        if contains_oom_error(file_path):\n",
    "            oom_count += 1\n",
    "            print(f\"{oom_count:02}. Skipping {file_path} due to OOM error.\")\n",
    "            continue\n",
    "\n",
    "        log_data = extract_data_from_log(file_path)\n",
    "        all_data.extend(log_data)\n",
    "\n",
    "    # Convert to DataFrame\n",
    "    df = pd.DataFrame(all_data, columns=[\"Station\", \"Category\", \"Subcategory\", \"Years\"])\n",
    "    return df"
   ]
  },
  {
   "cell_type": "code",
   "execution_count": 22,
   "id": "c8d193f2-c7e6-4d9a-8e25-8bda35e73a07",
   "metadata": {},
   "outputs": [
    {
     "name": "stdout",
     "output_type": "stream",
     "text": [
      "01. Skipping ./logs/forcing_check_1/slurm-2457743_630.out due to OOM error.\n",
      "02. Skipping ./logs/forcing_check_1/slurm-2457743_1132.out due to OOM error.\n",
      "03. Skipping ./logs/forcing_check_1/slurm-2457743_599.out due to OOM error.\n",
      "04. Skipping ./logs/forcing_check_1/slurm-2457743_741.out due to OOM error.\n",
      "05. Skipping ./logs/forcing_check_1/slurm-2457743_718.out due to OOM error.\n",
      "06. Skipping ./logs/forcing_check_1/slurm-2457743_747.out due to OOM error.\n",
      "07. Skipping ./logs/forcing_check_1/slurm-2457743_219.out due to OOM error.\n",
      "08. Skipping ./logs/forcing_check_1/slurm-2457743_539.out due to OOM error.\n",
      "09. Skipping ./logs/forcing_check_1/slurm-2457743_552.out due to OOM error.\n",
      "10. Skipping ./logs/forcing_check_1/slurm-2457743_1094.out due to OOM error.\n",
      "11. Skipping ./logs/forcing_check_1/slurm-2457743_230.out due to OOM error.\n",
      "12. Skipping ./logs/forcing_check_1/slurm-2457743_427.out due to OOM error.\n",
      "13. Skipping ./logs/forcing_check_1/slurm-2457743_222.out due to OOM error.\n",
      "14. Skipping ./logs/forcing_check_1/slurm-2457743_448.out due to OOM error.\n",
      "15. Skipping ./logs/forcing_check_1/slurm-2457743_558.out due to OOM error.\n",
      "16. Skipping ./logs/forcing_check_1/slurm-2457743_645.out due to OOM error.\n",
      "17. Skipping ./logs/forcing_check_1/slurm-2457743_1155.out due to OOM error.\n",
      "18. Skipping ./logs/forcing_check_1/slurm-2457743_745.out due to OOM error.\n",
      "19. Skipping ./logs/forcing_check_1/slurm-2457743_1115.out due to OOM error.\n",
      "20. Skipping ./logs/forcing_check_1/slurm-2457743_656.out due to OOM error.\n",
      "21. Skipping ./logs/forcing_check_1/slurm-2457743_1050.out due to OOM error.\n",
      "22. Skipping ./logs/forcing_check_1/slurm-2457743_711.out due to OOM error.\n",
      "23. Skipping ./logs/forcing_check_1/slurm-2457743_440.out due to OOM error.\n",
      "24. Skipping ./logs/forcing_check_1/slurm-2457743_20.out due to OOM error.\n",
      "25. Skipping ./logs/forcing_check_1/slurm-2457743_923.out due to OOM error.\n",
      "26. Skipping ./logs/forcing_check_1/slurm-2457743_422.out due to OOM error.\n",
      "27. Skipping ./logs/forcing_check_1/slurm-2457743_535.out due to OOM error.\n",
      "28. Skipping ./logs/forcing_check_1/slurm-2457743_1186.out due to OOM error.\n",
      "29. Skipping ./logs/forcing_check_1/slurm-2457743_715.out due to OOM error.\n",
      "30. Skipping ./logs/forcing_check_1/slurm-2457743_221.out due to OOM error.\n"
     ]
    }
   ],
   "source": [
    "# Set the path to the folder containing log files\n",
    "folder_path = \"./logs/forcing_check_1\"\n",
    "\n",
    "# Process logs and create a DataFrame\n",
    "df = process_logs(folder_path)"
   ]
  },
  {
   "cell_type": "code",
   "execution_count": 23,
   "id": "bd0aa874-87d4-4daa-b9eb-fe75a6305b33",
   "metadata": {},
   "outputs": [],
   "source": [
    "def plot_year_distributions(df):\n",
    "    \"\"\"Plots the distribution of years for each category + subcategory in a 4-row, 3-column layout.\"\"\"\n",
    "    # Create a MultiIndex for easy grouping\n",
    "    df.set_index([\"Category\", \"Subcategory\"], inplace=True)\n",
    "\n",
    "    # Get unique categories and subcategories\n",
    "    unique_categories = df.index.get_level_values(0).unique()\n",
    "    unique_subcategories = df.index.get_level_values(1).unique()\n",
    "\n",
    "    # Define grid size\n",
    "    nrows = 4  # Fixed 4 rows\n",
    "    ncols = 3  # Fixed 3 columns per row\n",
    "    total_plots = len(unique_categories) * len(unique_subcategories)\n",
    "    \n",
    "    fig, axes = plt.subplots(nrows=nrows, ncols=ncols, figsize=(12, 10), sharex=True, sharey=True)\n",
    "\n",
    "    # Flatten axes array for easy indexing\n",
    "    axes = axes.flatten()\n",
    "\n",
    "    plot_idx = 0\n",
    "    for category in unique_categories:\n",
    "        for subcategory in unique_subcategories:\n",
    "            if (category, subcategory) in df.index:\n",
    "                subset = df.loc[(category, subcategory)]  # Select relevant data\n",
    "                ax = axes[plot_idx]  # Select corresponding subplot\n",
    "                ax.hist(subset[\"Years\"], bins=10, alpha=0.7, edgecolor=\"black\")\n",
    "                ax.set_title(f\"{category} - {subcategory}\")\n",
    "                ax.set_xlabel(\"Years\")\n",
    "                ax.set_ylabel(\"Frequency\")\n",
    "                plot_idx += 1\n",
    "\n",
    "    # Hide unused subplots if any\n",
    "    for i in range(plot_idx, len(axes)):\n",
    "        fig.delaxes(axes[i])\n",
    "\n",
    "    plt.tight_layout()\n",
    "    plt.show()"
   ]
  },
  {
   "cell_type": "code",
   "execution_count": 24,
   "id": "e97ecada-0abc-499f-afb1-5daf6d9d2ca3",
   "metadata": {},
   "outputs": [
    {
     "name": "stderr",
     "output_type": "stream",
     "text": [
      "/tmp/ipykernel_1409549/3306693526.py:23: PerformanceWarning: indexing past lexsort depth may impact performance.\n",
      "  if (category, subcategory) in df.index:\n",
      "/tmp/ipykernel_1409549/3306693526.py:24: PerformanceWarning: indexing past lexsort depth may impact performance.\n",
      "  subset = df.loc[(category, subcategory)]  # Select relevant data\n"
     ]
    },
    {
     "data": {
      "image/png": "[encoded data removed]",
      "text/plain": [
       "<Figure size 864x720 with 12 Axes>"
      ]
     },
     "metadata": {
      "needs_background": "light"
     },
     "output_type": "display_data"
    }
   ],
   "source": [
    "# Call the function with the extracted data\n",
    "plot_year_distributions(df)"
   ]
  },
  {
   "cell_type": "code",
   "execution_count": null,
   "id": "e1f2bc6b-3229-4636-be33-de0bb6aea8e4",
   "metadata": {},
   "outputs": [],
   "source": []
  }
 ],
 "metadata": {
  "kernelspec": {
   "display_name": "camels-spat-env-jupyter",
   "language": "python",
   "name": "camels-spat-env-jupyter"
  },
  "language_info": {
   "codemirror_mode": {
    "name": "ipython",
    "version": 3
   },
   "file_extension": ".py",
   "mimetype": "text/x-python",
   "name": "python",
   "nbconvert_exporter": "python",
   "pygments_lexer": "ipython3",
   "version": "3.10.2"
  }
 },
 "nbformat": 4,
 "nbformat_minor": 5
}
