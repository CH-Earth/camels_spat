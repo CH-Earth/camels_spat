{
 "cells": [
  {
   "cell_type": "markdown",
   "id": "be9ff100-269e-40bf-9a41-d0d339502fe2",
   "metadata": {},
   "source": [
    "## Disk usage analysis\n",
    "We have preprocessed data for 1697 basins. Here we provide an overview of the disk space needed to store this information, and create a plot that divides the data set into (i) headwater, (ii) meso-scale, and (iii) macro-scale basins."
   ]
  },
  {
   "cell_type": "code",
   "execution_count": 1,
   "id": "8169af04-0172-4ba0-aa76-ee5632832362",
   "metadata": {},
   "outputs": [],
   "source": [
    "import matplotlib.pyplot as plt\n",
    "import os\n",
    "import geopandas as gpd\n",
    "import matplotlib.pyplot as plt\n",
    "import numpy as np\n",
    "import pandas as pd\n",
    "import sys\n",
    "from pathlib import Path\n",
    "sys.path.append(str(Path().absolute().parent))\n",
    "import python_cs_functions as cs"
   ]
  },
  {
   "cell_type": "markdown",
   "id": "c3c5c684-0f47-4f60-b9bc-497db0812f96",
   "metadata": {},
   "source": [
    "### Config handling"
   ]
  },
  {
   "cell_type": "code",
   "execution_count": 2,
   "id": "ee63e2ce-0553-4983-9717-2cf6578c45c7",
   "metadata": {},
   "outputs": [],
   "source": [
    "# Specify where the config file can be found\n",
    "config_file = '../0_config/config.txt'"
   ]
  },
  {
   "cell_type": "code",
   "execution_count": 116,
   "id": "acb78a2c-1a22-4ffe-a871-318f70bf573e",
   "metadata": {},
   "outputs": [],
   "source": [
    "# Get the required info from the config file\n",
    "data_path            = cs.read_from_config(config_file,'data_path')\n",
    "\n",
    "# CAMELS-spat metadata\n",
    "cs_meta_path = cs.read_from_config(config_file,'cs_basin_path')\n",
    "cs_meta_name = cs.read_from_config(config_file,'cs_meta_name')\n",
    "cs_unusable_name = cs.read_from_config(config_file,'cs_unusable_name')\n",
    "\n",
    "# Basin folder\n",
    "cs_basin_folder = cs.read_from_config(config_file, 'cs_basin_path')\n",
    "basins_path = Path(data_path) / cs_basin_folder\n",
    "\n",
    "# Disk usage file\n",
    "du_file = basins_path / 'disk_usage.txt'\n",
    "\n",
    "# Image output folder\n",
    "image_folder = cs.read_from_config(config_file, 'image_path')\n",
    "image_path = Path(image_folder)"
   ]
  },
  {
   "cell_type": "code",
   "execution_count": 98,
   "id": "5509aad7-264b-4807-8d75-32d71a8aca5a",
   "metadata": {},
   "outputs": [],
   "source": [
    "image_path.mkdir(exist_ok=True, parents=True)"
   ]
  },
  {
   "cell_type": "markdown",
   "id": "16778afd-b197-46e0-b3ac-355481114a16",
   "metadata": {},
   "source": [
    "### Data loading"
   ]
  },
  {
   "cell_type": "code",
   "execution_count": 21,
   "id": "d90ec4b8-7844-487b-9036-c5fafa77c3ff",
   "metadata": {},
   "outputs": [],
   "source": [
    "# CAMELS-spat metadata file\n",
    "cs_meta_path = Path(data_path) / cs_meta_path\n",
    "cs_meta = pd.read_csv(cs_meta_path / cs_meta_name)"
   ]
  },
  {
   "cell_type": "code",
   "execution_count": 22,
   "id": "c7a13f0f-e676-40a6-9701-fd262c0c0733",
   "metadata": {},
   "outputs": [],
   "source": [
    "# Open list of unusable stations; Enforce reading IDs as string to keep leading 0's\n",
    "cs_unusable = pd.read_csv(cs_meta_path / cs_unusable_name, dtype={'Station_id': object})"
   ]
  },
  {
   "cell_type": "code",
   "execution_count": 33,
   "id": "8ec57f81-59aa-4042-bdc1-f947bb916ed6",
   "metadata": {},
   "outputs": [],
   "source": [
    "# Save the \"unusable\" dataframe for comparison\n",
    "cs_unusable_old = cs_unusable.copy()"
   ]
  },
  {
   "cell_type": "markdown",
   "id": "e97ef9b8-305f-4483-8155-9eeca76ca24d",
   "metadata": {},
   "source": [
    "### Get the disk usage values"
   ]
  },
  {
   "cell_type": "code",
   "execution_count": 5,
   "id": "2c4987a5-15ec-4374-ad59-faf272fc26f6",
   "metadata": {},
   "outputs": [],
   "source": [
    "def get_specific_folders_size(folder_paths):\n",
    "    total_size = 0\n",
    "\n",
    "    for folder in folder_paths:\n",
    "        folder = os.path.abspath(folder)  # Ensure absolute path\n",
    "        if not os.path.exists(folder):\n",
    "            print(f\"Warning: Folder {folder} does not exist, skipping.\")\n",
    "            continue\n",
    "\n",
    "        for file in os.listdir(folder):  # Only files in the specified folder\n",
    "            file_path = os.path.join(folder, file)\n",
    "            if os.path.isfile(file_path):  # Ensure it's a file\n",
    "                total_size += os.path.getsize(file_path)\n",
    "\n",
    "    return total_size  # Bytes"
   ]
  },
  {
   "cell_type": "code",
   "execution_count": 30,
   "id": "08bdb0cc-c31f-4f10-8710-9e03421c8239",
   "metadata": {},
   "outputs": [],
   "source": [
    "def return_subfolder_paths(basin):\n",
    "\n",
    "    main_folder = basins_path / 'basin_data' / basin\n",
    "    sub_folders = [\n",
    "        os.path.join(main_folder, \"forcing/raw\"),\n",
    "        os.path.join(main_folder, \"forcing/lumped\"),\n",
    "        os.path.join(main_folder, \"forcing/distributed\"),\n",
    "        os.path.join(main_folder, \"geospatial/forest_height/raw\"),\n",
    "        os.path.join(main_folder, \"geospatial/glclu2019/raw\"),\n",
    "        os.path.join(main_folder, \"geospatial/glhymps/raw\"),\n",
    "        os.path.join(main_folder, \"geospatial/hydrolakes/raw\"),\n",
    "        os.path.join(main_folder, \"geospatial/lai/raw\"),\n",
    "        os.path.join(main_folder, \"geospatial/lgrip30/raw\"),\n",
    "        os.path.join(main_folder, \"geospatial/merit/raw\"),\n",
    "        os.path.join(main_folder, \"geospatial/merit/aspect\"),\n",
    "        os.path.join(main_folder, \"geospatial/merit/slope\"),\n",
    "        os.path.join(main_folder, \"geospatial/modis_land/raw\"),\n",
    "        os.path.join(main_folder, \"geospatial/pelletier/raw\"),\n",
    "        os.path.join(main_folder, \"geospatial/soilgrids/raw/bdod\"),\n",
    "        os.path.join(main_folder, \"geospatial/soilgrids/raw/cfvo\"),\n",
    "        os.path.join(main_folder, \"geospatial/soilgrids/raw/clay\"),\n",
    "        os.path.join(main_folder, \"geospatial/soilgrids/raw/conductivity\"),\n",
    "        os.path.join(main_folder, \"geospatial/soilgrids/raw/porosity\"),\n",
    "        os.path.join(main_folder, \"geospatial/soilgrids/raw/sand\"),\n",
    "        os.path.join(main_folder, \"geospatial/soilgrids/raw/silt\"),\n",
    "        os.path.join(main_folder, \"geospatial/soilgrids/raw/clay\"),\n",
    "        os.path.join(main_folder, \"geospatial/worldclim/raw/annual\"),\n",
    "        os.path.join(main_folder, \"geospatial/worldclim/raw/aridity2\"),\n",
    "        os.path.join(main_folder, \"geospatial/worldclim/raw/fracsnow2\"),\n",
    "        os.path.join(main_folder, \"geospatial/worldclim/raw/pet\"),\n",
    "        os.path.join(main_folder, \"geospatial/worldclim/raw/snow2\"),\n",
    "        os.path.join(main_folder, \"observations\"),\n",
    "        os.path.join(main_folder, \"shapefiles/distributed\"),\n",
    "        os.path.join(main_folder, \"shapefiles/forcing_grids\"),\n",
    "        os.path.join(main_folder, \"shapefiles/lumped\"),\n",
    "        os.path.join(main_folder, \"shapefiles/reference\")\n",
    "    ]\n",
    "    \n",
    "    return sub_folders"
   ]
  },
  {
   "cell_type": "code",
   "execution_count": 31,
   "id": "d4d04251-d56c-4e6f-be35-d85ea90a1fe5",
   "metadata": {},
   "outputs": [
    {
     "name": "stdout",
     "output_type": "stream",
     "text": [
      "Warning: Folder /gpfs/tp/gwf/gwf_cmt/wknoben/camels_spat/camels-spat-data/basin_data/CAN_05RE002/geospatial/worldclim/raw/annual does not exist, skipping.\n",
      "Warning: Folder /gpfs/tp/gwf/gwf_cmt/wknoben/camels_spat/camels-spat-data/basin_data/CAN_05RE002/geospatial/worldclim/raw/aridity2 does not exist, skipping.\n",
      "Warning: Folder /gpfs/tp/gwf/gwf_cmt/wknoben/camels_spat/camels-spat-data/basin_data/CAN_05RE002/geospatial/worldclim/raw/fracsnow2 does not exist, skipping.\n",
      "Warning: Folder /gpfs/tp/gwf/gwf_cmt/wknoben/camels_spat/camels-spat-data/basin_data/CAN_05RE002/geospatial/worldclim/raw/pet does not exist, skipping.\n",
      "Warning: Folder /gpfs/tp/gwf/gwf_cmt/wknoben/camels_spat/camels-spat-data/basin_data/CAN_05RE002/geospatial/worldclim/raw/snow2 does not exist, skipping.\n",
      "Warning: Folder /gpfs/tp/gwf/gwf_cmt/wknoben/camels_spat/camels-spat-data/basin_data/CAN_05RE002/shapefiles/forcing_grids does not exist, skipping.\n",
      "Warning: Folder /gpfs/tp/gwf/gwf_cmt/wknoben/camels_spat/camels-spat-data/basin_data/CAN_06DA001/geospatial/worldclim/raw/annual does not exist, skipping.\n",
      "Warning: Folder /gpfs/tp/gwf/gwf_cmt/wknoben/camels_spat/camels-spat-data/basin_data/CAN_06DA001/geospatial/worldclim/raw/aridity2 does not exist, skipping.\n",
      "Warning: Folder /gpfs/tp/gwf/gwf_cmt/wknoben/camels_spat/camels-spat-data/basin_data/CAN_06DA001/geospatial/worldclim/raw/fracsnow2 does not exist, skipping.\n",
      "Warning: Folder /gpfs/tp/gwf/gwf_cmt/wknoben/camels_spat/camels-spat-data/basin_data/CAN_06DA001/geospatial/worldclim/raw/pet does not exist, skipping.\n",
      "Warning: Folder /gpfs/tp/gwf/gwf_cmt/wknoben/camels_spat/camels-spat-data/basin_data/CAN_06DA001/geospatial/worldclim/raw/snow2 does not exist, skipping.\n",
      "Warning: Folder /gpfs/tp/gwf/gwf_cmt/wknoben/camels_spat/camels-spat-data/basin_data/CAN_06DA001/shapefiles/forcing_grids does not exist, skipping.\n",
      "Warning: Folder /gpfs/tp/gwf/gwf_cmt/wknoben/camels_spat/camels-spat-data/basin_data/CAN_07BJ006/geospatial/worldclim/raw/annual does not exist, skipping.\n",
      "Warning: Folder /gpfs/tp/gwf/gwf_cmt/wknoben/camels_spat/camels-spat-data/basin_data/CAN_07BJ006/geospatial/worldclim/raw/aridity2 does not exist, skipping.\n",
      "Warning: Folder /gpfs/tp/gwf/gwf_cmt/wknoben/camels_spat/camels-spat-data/basin_data/CAN_07BJ006/geospatial/worldclim/raw/fracsnow2 does not exist, skipping.\n",
      "Warning: Folder /gpfs/tp/gwf/gwf_cmt/wknoben/camels_spat/camels-spat-data/basin_data/CAN_07BJ006/geospatial/worldclim/raw/pet does not exist, skipping.\n",
      "Warning: Folder /gpfs/tp/gwf/gwf_cmt/wknoben/camels_spat/camels-spat-data/basin_data/CAN_07BJ006/geospatial/worldclim/raw/snow2 does not exist, skipping.\n",
      "Warning: Folder /gpfs/tp/gwf/gwf_cmt/wknoben/camels_spat/camels-spat-data/basin_data/CAN_07BJ006/shapefiles/forcing_grids does not exist, skipping.\n",
      "Warning: Folder /gpfs/tp/gwf/gwf_cmt/wknoben/camels_spat/camels-spat-data/basin_data/CAN_07QD002/geospatial/worldclim/raw/annual does not exist, skipping.\n",
      "Warning: Folder /gpfs/tp/gwf/gwf_cmt/wknoben/camels_spat/camels-spat-data/basin_data/CAN_07QD002/geospatial/worldclim/raw/aridity2 does not exist, skipping.\n",
      "Warning: Folder /gpfs/tp/gwf/gwf_cmt/wknoben/camels_spat/camels-spat-data/basin_data/CAN_07QD002/geospatial/worldclim/raw/fracsnow2 does not exist, skipping.\n",
      "Warning: Folder /gpfs/tp/gwf/gwf_cmt/wknoben/camels_spat/camels-spat-data/basin_data/CAN_07QD002/geospatial/worldclim/raw/pet does not exist, skipping.\n",
      "Warning: Folder /gpfs/tp/gwf/gwf_cmt/wknoben/camels_spat/camels-spat-data/basin_data/CAN_07QD002/geospatial/worldclim/raw/snow2 does not exist, skipping.\n",
      "Warning: Folder /gpfs/tp/gwf/gwf_cmt/wknoben/camels_spat/camels-spat-data/basin_data/CAN_07QD002/shapefiles/forcing_grids does not exist, skipping.\n",
      "Warning: Folder /gpfs/tp/gwf/gwf_cmt/wknoben/camels_spat/camels-spat-data/basin_data/CAN_07SB017/geospatial/worldclim/raw/annual does not exist, skipping.\n",
      "Warning: Folder /gpfs/tp/gwf/gwf_cmt/wknoben/camels_spat/camels-spat-data/basin_data/CAN_07SB017/geospatial/worldclim/raw/aridity2 does not exist, skipping.\n",
      "Warning: Folder /gpfs/tp/gwf/gwf_cmt/wknoben/camels_spat/camels-spat-data/basin_data/CAN_07SB017/geospatial/worldclim/raw/fracsnow2 does not exist, skipping.\n",
      "Warning: Folder /gpfs/tp/gwf/gwf_cmt/wknoben/camels_spat/camels-spat-data/basin_data/CAN_07SB017/geospatial/worldclim/raw/pet does not exist, skipping.\n",
      "Warning: Folder /gpfs/tp/gwf/gwf_cmt/wknoben/camels_spat/camels-spat-data/basin_data/CAN_07SB017/geospatial/worldclim/raw/snow2 does not exist, skipping.\n",
      "Warning: Folder /gpfs/tp/gwf/gwf_cmt/wknoben/camels_spat/camels-spat-data/basin_data/CAN_07SB017/shapefiles/forcing_grids does not exist, skipping.\n",
      "Warning: Folder /gpfs/tp/gwf/gwf_cmt/wknoben/camels_spat/camels-spat-data/basin_data/CAN_08AA007/geospatial/worldclim/raw/annual does not exist, skipping.\n",
      "Warning: Folder /gpfs/tp/gwf/gwf_cmt/wknoben/camels_spat/camels-spat-data/basin_data/CAN_08AA007/geospatial/worldclim/raw/aridity2 does not exist, skipping.\n",
      "Warning: Folder /gpfs/tp/gwf/gwf_cmt/wknoben/camels_spat/camels-spat-data/basin_data/CAN_08AA007/geospatial/worldclim/raw/fracsnow2 does not exist, skipping.\n",
      "Warning: Folder /gpfs/tp/gwf/gwf_cmt/wknoben/camels_spat/camels-spat-data/basin_data/CAN_08AA007/geospatial/worldclim/raw/pet does not exist, skipping.\n",
      "Warning: Folder /gpfs/tp/gwf/gwf_cmt/wknoben/camels_spat/camels-spat-data/basin_data/CAN_08AA007/geospatial/worldclim/raw/snow2 does not exist, skipping.\n",
      "Warning: Folder /gpfs/tp/gwf/gwf_cmt/wknoben/camels_spat/camels-spat-data/basin_data/CAN_08AA007/shapefiles/forcing_grids does not exist, skipping.\n",
      "Warning: Folder /gpfs/tp/gwf/gwf_cmt/wknoben/camels_spat/camels-spat-data/basin_data/CAN_08KH011/geospatial/worldclim/raw/annual does not exist, skipping.\n",
      "Warning: Folder /gpfs/tp/gwf/gwf_cmt/wknoben/camels_spat/camels-spat-data/basin_data/CAN_08KH011/geospatial/worldclim/raw/aridity2 does not exist, skipping.\n",
      "Warning: Folder /gpfs/tp/gwf/gwf_cmt/wknoben/camels_spat/camels-spat-data/basin_data/CAN_08KH011/geospatial/worldclim/raw/fracsnow2 does not exist, skipping.\n",
      "Warning: Folder /gpfs/tp/gwf/gwf_cmt/wknoben/camels_spat/camels-spat-data/basin_data/CAN_08KH011/geospatial/worldclim/raw/pet does not exist, skipping.\n",
      "Warning: Folder /gpfs/tp/gwf/gwf_cmt/wknoben/camels_spat/camels-spat-data/basin_data/CAN_08KH011/geospatial/worldclim/raw/snow2 does not exist, skipping.\n",
      "Warning: Folder /gpfs/tp/gwf/gwf_cmt/wknoben/camels_spat/camels-spat-data/basin_data/CAN_08KH011/shapefiles/forcing_grids does not exist, skipping.\n",
      "Warning: Folder /gpfs/tp/gwf/gwf_cmt/wknoben/camels_spat/camels-spat-data/basin_data/CAN_08LD003/geospatial/worldclim/raw/annual does not exist, skipping.\n",
      "Warning: Folder /gpfs/tp/gwf/gwf_cmt/wknoben/camels_spat/camels-spat-data/basin_data/CAN_08LD003/geospatial/worldclim/raw/aridity2 does not exist, skipping.\n",
      "Warning: Folder /gpfs/tp/gwf/gwf_cmt/wknoben/camels_spat/camels-spat-data/basin_data/CAN_08LD003/geospatial/worldclim/raw/fracsnow2 does not exist, skipping.\n",
      "Warning: Folder /gpfs/tp/gwf/gwf_cmt/wknoben/camels_spat/camels-spat-data/basin_data/CAN_08LD003/geospatial/worldclim/raw/pet does not exist, skipping.\n",
      "Warning: Folder /gpfs/tp/gwf/gwf_cmt/wknoben/camels_spat/camels-spat-data/basin_data/CAN_08LD003/geospatial/worldclim/raw/snow2 does not exist, skipping.\n",
      "Warning: Folder /gpfs/tp/gwf/gwf_cmt/wknoben/camels_spat/camels-spat-data/basin_data/CAN_08LD003/shapefiles/forcing_grids does not exist, skipping.\n",
      "Warning: Folder /gpfs/tp/gwf/gwf_cmt/wknoben/camels_spat/camels-spat-data/basin_data/CAN_08LF023/geospatial/worldclim/raw/annual does not exist, skipping.\n",
      "Warning: Folder /gpfs/tp/gwf/gwf_cmt/wknoben/camels_spat/camels-spat-data/basin_data/CAN_08LF023/geospatial/worldclim/raw/aridity2 does not exist, skipping.\n",
      "Warning: Folder /gpfs/tp/gwf/gwf_cmt/wknoben/camels_spat/camels-spat-data/basin_data/CAN_08LF023/geospatial/worldclim/raw/fracsnow2 does not exist, skipping.\n",
      "Warning: Folder /gpfs/tp/gwf/gwf_cmt/wknoben/camels_spat/camels-spat-data/basin_data/CAN_08LF023/geospatial/worldclim/raw/pet does not exist, skipping.\n",
      "Warning: Folder /gpfs/tp/gwf/gwf_cmt/wknoben/camels_spat/camels-spat-data/basin_data/CAN_08LF023/geospatial/worldclim/raw/snow2 does not exist, skipping.\n",
      "Warning: Folder /gpfs/tp/gwf/gwf_cmt/wknoben/camels_spat/camels-spat-data/basin_data/CAN_08LF023/shapefiles/forcing_grids does not exist, skipping.\n",
      "Warning: Folder /gpfs/tp/gwf/gwf_cmt/wknoben/camels_spat/camels-spat-data/basin_data/CAN_08MG020/geospatial/worldclim/raw/annual does not exist, skipping.\n",
      "Warning: Folder /gpfs/tp/gwf/gwf_cmt/wknoben/camels_spat/camels-spat-data/basin_data/CAN_08MG020/geospatial/worldclim/raw/aridity2 does not exist, skipping.\n",
      "Warning: Folder /gpfs/tp/gwf/gwf_cmt/wknoben/camels_spat/camels-spat-data/basin_data/CAN_08MG020/geospatial/worldclim/raw/fracsnow2 does not exist, skipping.\n",
      "Warning: Folder /gpfs/tp/gwf/gwf_cmt/wknoben/camels_spat/camels-spat-data/basin_data/CAN_08MG020/geospatial/worldclim/raw/pet does not exist, skipping.\n",
      "Warning: Folder /gpfs/tp/gwf/gwf_cmt/wknoben/camels_spat/camels-spat-data/basin_data/CAN_08MG020/geospatial/worldclim/raw/snow2 does not exist, skipping.\n",
      "Warning: Folder /gpfs/tp/gwf/gwf_cmt/wknoben/camels_spat/camels-spat-data/basin_data/CAN_08MG020/shapefiles/forcing_grids does not exist, skipping.\n",
      "Warning: Folder /gpfs/tp/gwf/gwf_cmt/wknoben/camels_spat/camels-spat-data/basin_data/CAN_08MG022/geospatial/worldclim/raw/annual does not exist, skipping.\n",
      "Warning: Folder /gpfs/tp/gwf/gwf_cmt/wknoben/camels_spat/camels-spat-data/basin_data/CAN_08MG022/geospatial/worldclim/raw/aridity2 does not exist, skipping.\n",
      "Warning: Folder /gpfs/tp/gwf/gwf_cmt/wknoben/camels_spat/camels-spat-data/basin_data/CAN_08MG022/geospatial/worldclim/raw/fracsnow2 does not exist, skipping.\n",
      "Warning: Folder /gpfs/tp/gwf/gwf_cmt/wknoben/camels_spat/camels-spat-data/basin_data/CAN_08MG022/geospatial/worldclim/raw/pet does not exist, skipping.\n",
      "Warning: Folder /gpfs/tp/gwf/gwf_cmt/wknoben/camels_spat/camels-spat-data/basin_data/CAN_08MG022/geospatial/worldclim/raw/snow2 does not exist, skipping.\n",
      "Warning: Folder /gpfs/tp/gwf/gwf_cmt/wknoben/camels_spat/camels-spat-data/basin_data/CAN_08MG022/shapefiles/forcing_grids does not exist, skipping.\n",
      "Warning: Folder /gpfs/tp/gwf/gwf_cmt/wknoben/camels_spat/camels-spat-data/basin_data/CAN_09AA004/geospatial/worldclim/raw/annual does not exist, skipping.\n",
      "Warning: Folder /gpfs/tp/gwf/gwf_cmt/wknoben/camels_spat/camels-spat-data/basin_data/CAN_09AA004/geospatial/worldclim/raw/aridity2 does not exist, skipping.\n",
      "Warning: Folder /gpfs/tp/gwf/gwf_cmt/wknoben/camels_spat/camels-spat-data/basin_data/CAN_09AA004/geospatial/worldclim/raw/fracsnow2 does not exist, skipping.\n",
      "Warning: Folder /gpfs/tp/gwf/gwf_cmt/wknoben/camels_spat/camels-spat-data/basin_data/CAN_09AA004/geospatial/worldclim/raw/pet does not exist, skipping.\n",
      "Warning: Folder /gpfs/tp/gwf/gwf_cmt/wknoben/camels_spat/camels-spat-data/basin_data/CAN_09AA004/geospatial/worldclim/raw/snow2 does not exist, skipping.\n",
      "Warning: Folder /gpfs/tp/gwf/gwf_cmt/wknoben/camels_spat/camels-spat-data/basin_data/CAN_09AA004/shapefiles/forcing_grids does not exist, skipping.\n",
      "Warning: Folder /gpfs/tp/gwf/gwf_cmt/wknoben/camels_spat/camels-spat-data/basin_data/CAN_09AE002/geospatial/worldclim/raw/annual does not exist, skipping.\n",
      "Warning: Folder /gpfs/tp/gwf/gwf_cmt/wknoben/camels_spat/camels-spat-data/basin_data/CAN_09AE002/geospatial/worldclim/raw/aridity2 does not exist, skipping.\n",
      "Warning: Folder /gpfs/tp/gwf/gwf_cmt/wknoben/camels_spat/camels-spat-data/basin_data/CAN_09AE002/geospatial/worldclim/raw/fracsnow2 does not exist, skipping.\n",
      "Warning: Folder /gpfs/tp/gwf/gwf_cmt/wknoben/camels_spat/camels-spat-data/basin_data/CAN_09AE002/geospatial/worldclim/raw/pet does not exist, skipping.\n",
      "Warning: Folder /gpfs/tp/gwf/gwf_cmt/wknoben/camels_spat/camels-spat-data/basin_data/CAN_09AE002/geospatial/worldclim/raw/snow2 does not exist, skipping.\n",
      "Warning: Folder /gpfs/tp/gwf/gwf_cmt/wknoben/camels_spat/camels-spat-data/basin_data/CAN_09AE002/shapefiles/forcing_grids does not exist, skipping.\n"
     ]
    }
   ],
   "source": [
    "basin_ids = []\n",
    "data_size = []\n",
    "for ix,row in cs_meta.iterrows():\n",
    "    basin_id = row['Country'] + '_' + row['Station_id'] # construct basin id, which is also folder name\n",
    "    sub_folders = return_subfolder_paths(basin_id)\n",
    "    size_bytes = get_specific_folders_size(sub_folders)\n",
    "    basin_ids.append(basin_id)\n",
    "    data_size.append(size_bytes / (1024 ** 3)) # bytes to GB"
   ]
  },
  {
   "cell_type": "markdown",
   "id": "af998610-8626-4966-90f1-d284e2d0d486",
   "metadata": {},
   "source": [
    "Manual checks confirm that these missing basins are the ones we skipped throughout the project, because there was no discharge data for these (just water levels)."
   ]
  },
  {
   "cell_type": "code",
   "execution_count": 74,
   "id": "6383b0a5-d6e6-430a-85b9-e70322831022",
   "metadata": {},
   "outputs": [],
   "source": [
    "# Turn the whole thing into a dataframe\n",
    "du = pd.DataFrame(data=data_size, index=basin_ids, columns=['size_gb'])"
   ]
  },
  {
   "cell_type": "code",
   "execution_count": 75,
   "id": "9cb78f67-bc8a-4647-bda2-dbf605a78e04",
   "metadata": {},
   "outputs": [],
   "source": [
    "du.to_csv(du_file, index_label='Station_id')"
   ]
  },
  {
   "cell_type": "markdown",
   "id": "e0410be4-7de9-4814-8e79-238a587abbd5",
   "metadata": {
    "jp-MarkdownHeadingCollapsed": true
   },
   "source": [
    "### Do some data cleaning"
   ]
  },
  {
   "cell_type": "markdown",
   "id": "dbd97b56-fdfe-4a94-b2c3-7889d19a0fb7",
   "metadata": {},
   "source": [
    "Get rid of the final row (i.e. the full dataset size)\n"
   ]
  },
  {
   "cell_type": "code",
   "execution_count": 8,
   "id": "fac9bd12-7078-498e-9ecb-faa9df974a5c",
   "metadata": {},
   "outputs": [],
   "source": [
    "du = du.drop(du.index[-1],axis=0)"
   ]
  },
  {
   "cell_type": "markdown",
   "id": "cebdf53f-4244-43a6-9138-92d9a44f1e8d",
   "metadata": {},
   "source": [
    "Convert human readable values into GB\n"
   ]
  },
  {
   "cell_type": "code",
   "execution_count": 9,
   "id": "c97133f4-ffd2-4549-bee3-ffbc0a929eb7",
   "metadata": {},
   "outputs": [],
   "source": [
    "def convert_size_to_mb(row):\n",
    "    letter = extract_letter_from_size(row['size'])\n",
    "    number = extract_number_from_size(row['size'])\n",
    "    mbytes = convert_letter_to_multiple(letter)\n",
    "    return number * mbytes"
   ]
  },
  {
   "cell_type": "code",
   "execution_count": 10,
   "id": "741073b7-6c51-4cf0-8153-0ce15b732040",
   "metadata": {},
   "outputs": [],
   "source": [
    "def extract_letter_from_size(size):\n",
    "    return size[-1]"
   ]
  },
  {
   "cell_type": "code",
   "execution_count": 11,
   "id": "394f5b0e-a46a-4567-b2d4-724c676777b5",
   "metadata": {},
   "outputs": [],
   "source": [
    "def convert_letter_to_multiple(letter):\n",
    "\n",
    "    '''Takes a size abbreviation and converts to gigabytes'''\n",
    "\n",
    "    if letter.lower() == 'k':\n",
    "        mp = 1/(1024**2)\n",
    "    elif letter.lower() == 'm':\n",
    "        mp = 1/1024\n",
    "    elif letter.lower() == 'g':\n",
    "        mp = 1\n",
    "    return mp"
   ]
  },
  {
   "cell_type": "code",
   "execution_count": 12,
   "id": "3fbf57ed-fa90-429d-854f-c4ad473a6af0",
   "metadata": {},
   "outputs": [],
   "source": [
    "def extract_number_from_size(size):\n",
    "    return float(size[:-1])"
   ]
  },
  {
   "cell_type": "code",
   "execution_count": 13,
   "id": "c6e7a40e-e582-4a42-8bee-4cda03e6a72d",
   "metadata": {},
   "outputs": [],
   "source": [
    "du['size_gb'] = du.apply(lambda row: convert_size_to_mb(row), axis=1)"
   ]
  },
  {
   "cell_type": "markdown",
   "id": "03c9015c-4743-4139-ba21-5c9b785b8dfa",
   "metadata": {},
   "source": [
    "Convert file path to basin ID"
   ]
  },
  {
   "cell_type": "code",
   "execution_count": 14,
   "id": "fcd948ba-853a-4948-88b6-200366e9450b",
   "metadata": {},
   "outputs": [],
   "source": [
    "def folder_path_to_basin_id(path):\n",
    "    return os.path.basename(path)[4:]"
   ]
  },
  {
   "cell_type": "code",
   "execution_count": 15,
   "id": "49355391-bbbb-42b0-b8b0-2288504b355e",
   "metadata": {},
   "outputs": [],
   "source": [
    "du['Station_id'] = du.apply(lambda row: folder_path_to_basin_id(row['folder']), axis=1)"
   ]
  },
  {
   "cell_type": "markdown",
   "id": "7281ff60-468e-4e31-a934-a18e4dc7d217",
   "metadata": {},
   "source": [
    "### Check if headwater basin"
   ]
  },
  {
   "cell_type": "code",
   "execution_count": 61,
   "id": "8fe93f3b-66a2-4e7d-9fe8-7e0af7430970",
   "metadata": {},
   "outputs": [],
   "source": [
    "debug_message = f'\\n!!! CHECK DEBUGGING STATUS: \\n- Full run'"
   ]
  },
  {
   "cell_type": "code",
   "execution_count": 63,
   "id": "d58c2d18-e614-4f80-bd1a-c5e0d3bc6d6c",
   "metadata": {},
   "outputs": [
    {
     "name": "stdout",
     "output_type": "stream",
     "text": [
      "\n",
      "!!! CHECK DEBUGGING STATUS: \n",
      "- Full run\n"
     ]
    }
   ],
   "source": [
    "basins = []\n",
    "headwaters = []\n",
    "hrus = []\n",
    "\n",
    "print(debug_message)\n",
    "for ix,row in cs_meta.iterrows():\n",
    "\n",
    "    # Get shapefile path\n",
    "    basin_id, _, shp_dist_path, _, _ = cs.prepare_delineation_outputs(cs_meta, ix, basins_path)\n",
    "    shp_name = shp_dist_path.name # string\n",
    "    shp_path = shp_dist_path.parent # Path()\n",
    "    \n",
    "    # load the shapefile and check number of subbasins\n",
    "    shp = gpd.read_file(shp_path / shp_name.format('basin'))\n",
    "    basins.append(basin_id[4:])\n",
    "    if len(shp) == 1:\n",
    "        headwaters.append(1)\n",
    "    else:\n",
    "        headwaters.append(0)\n",
    "    hrus.append(len(shp))"
   ]
  },
  {
   "cell_type": "code",
   "execution_count": 64,
   "id": "27513bd6-8fb7-48c0-9633-70766f5346d6",
   "metadata": {},
   "outputs": [],
   "source": [
    "# Create a new dataframe\n",
    "merge_this = pd.DataFrame({'Station_id': basins, 'is_headwater': headwaters, 'sub_basins': hrus})"
   ]
  },
  {
   "cell_type": "code",
   "execution_count": 67,
   "id": "ce998068-0f17-428e-b6e7-eeb2e0997eaa",
   "metadata": {},
   "outputs": [],
   "source": [
    "cs_meta_new = pd.merge(cs_meta,merge_this, on='Station_id')"
   ]
  },
  {
   "cell_type": "code",
   "execution_count": 68,
   "id": "ecea71f5-28a3-4abd-ba95-63fbe3b4a70e",
   "metadata": {},
   "outputs": [],
   "source": [
    "cs_meta_new.to_csv(cs_meta_path / cs_meta_name, encoding='utf-8', index=False)"
   ]
  },
  {
   "cell_type": "markdown",
   "id": "70b1a0d1-cd70-4227-804e-9d035836293c",
   "metadata": {},
   "source": [
    "### Disk space analyis\n",
    "Disk size is a function of basin are and shape, number of subbasins, and length of available streamflow observations. Cutting basins over a given area seems sensible, because we can also use area to divide the data set into smaller partitions.\n",
    "\n",
    "Here we analyse how the cumulative data size changes for different area thresholds."
   ]
  },
  {
   "cell_type": "code",
   "execution_count": 83,
   "id": "9f39fa4b-a013-48b8-98d5-a9bb806d5656",
   "metadata": {},
   "outputs": [],
   "source": [
    "# Get the disk space usage as a dataframe, and also get the metadata\n",
    "du = pd.read_csv(du_file)\n",
    "cs_meta = pd.read_csv(cs_meta_path / cs_meta_name)"
   ]
  },
  {
   "cell_type": "code",
   "execution_count": 84,
   "id": "ce6431f6-81f7-4671-9ab7-626b44be9087",
   "metadata": {},
   "outputs": [],
   "source": [
    "# Get the station ID to match what we already have\n",
    "du['Station_id'] = du['Station_id'].apply(lambda x: x[4:])"
   ]
  },
  {
   "cell_type": "code",
   "execution_count": 85,
   "id": "977cce00-33ac-4de5-878b-dbffc47da03f",
   "metadata": {},
   "outputs": [],
   "source": [
    "# Add is_headwater to du dataframe\n",
    "du = pd.merge(du, cs_meta[['Station_id','Basin_area_km2','is_headwater','sub_basins']], on='Station_id')"
   ]
  },
  {
   "cell_type": "code",
   "execution_count": 86,
   "id": "4a0d8f57-390c-49e3-a274-8abf2c51f2d2",
   "metadata": {},
   "outputs": [],
   "source": [
    "# Calculate the mean sub-basin area (unsure yet if this will be used)\n",
    "du['mean_subbasin_area'] = du['Basin_area_km2'] / du['sub_basins']"
   ]
  },
  {
   "cell_type": "code",
   "execution_count": 87,
   "id": "1eca2579-1592-40f5-8f76-34d2c562bd83",
   "metadata": {},
   "outputs": [],
   "source": [
    "# Sort by disk space needs first\n",
    "du_sort = du.sort_values(by='size_gb').reset_index(drop=True)"
   ]
  },
  {
   "cell_type": "code",
   "execution_count": 88,
   "id": "f5ee0a58-6ee2-4fea-a207-b2500117f2bd",
   "metadata": {},
   "outputs": [],
   "source": [
    "# Make sure we know total disk size\n",
    "du_sort['cum_sum_size_gb'] = du_sort['size_gb'].cumsum()"
   ]
  },
  {
   "cell_type": "code",
   "execution_count": 89,
   "id": "5c1b9a25-363a-41fa-b282-dc74eb80a95b",
   "metadata": {},
   "outputs": [
    {
     "data": {
      "image/png": "[encoded data removed]",
      "text/plain": [
       "<Figure size 648x216 with 3 Axes>"
      ]
     },
     "metadata": {
      "needs_background": "light"
     },
     "output_type": "display_data"
    }
   ],
   "source": [
    "# Have a look at how this data is actually structured:\n",
    "# Seems like area is a reasonable proxy for disk space needs, even if there are a few extremely odd outliers\n",
    "fig,ax = plt.subplots(1,3,figsize=(9,3))\n",
    "du_sort['cum_sum_size_gb'].plot(ax=ax[0]); ax[0].set_ylabel('Data set size [GB]'); ax[0].set_xlabel('Basin count [-]')\n",
    "du_sort['Basin_area_km2'].plot(ax=ax[1]);  ax[1].set_ylabel('Basin area [km^2]'); ax[0].set_xlabel('Basin count [-]')\n",
    "du_sort['sub_basins'].plot(ax=ax[2]);      ax[2].set_ylabel('Sub-basin count [-]'); ax[0].set_xlabel('Basin count [-]')\n",
    "plt.tight_layout()"
   ]
  },
  {
   "cell_type": "markdown",
   "id": "3961a92c-94d9-47b2-bfe7-03c4b38eb580",
   "metadata": {},
   "source": [
    "### Figure"
   ]
  },
  {
   "cell_type": "code",
   "execution_count": 90,
   "id": "f817a8bb-ba45-4a75-a999-4c82e8ae9273",
   "metadata": {},
   "outputs": [],
   "source": [
    "# Find the consequences of different area thresholds on disk space and number of basins\n",
    "area_th = np.linspace(0,4*10**5, num=100000)"
   ]
  },
  {
   "cell_type": "code",
   "execution_count": 91,
   "id": "5e5c27fd-5e27-45f7-9f48-4abb299186c5",
   "metadata": {},
   "outputs": [],
   "source": [
    "basin_count = []\n",
    "data_size = []\n",
    "for th in area_th:\n",
    "    mask = du_sort['Basin_area_km2'] <= th\n",
    "    basin_count.append(mask.sum())\n",
    "    data_size.append(du_sort[mask]['size_gb'].sum())"
   ]
  },
  {
   "cell_type": "code",
   "execution_count": 99,
   "id": "81e6d1cc-66fa-4612-83bf-a84873fc07dc",
   "metadata": {},
   "outputs": [
    {
     "data": {
      "image/png": "[encoded data removed]",
      "text/plain": [
       "<Figure size 288x288 with 2 Axes>"
      ]
     },
     "metadata": {
      "needs_background": "light"
     },
     "output_type": "display_data"
    }
   ],
   "source": [
    "# Make a plot to summary theshold impact\n",
    "fig, ax1 = plt.subplots(1,1,figsize=(4,4))\n",
    "ax2 = ax1.twinx()\n",
    "l1 = ax1.plot(area_th,basin_count, color='orange', label='basins')\n",
    "l2 = ax2.plot(area_th,data_size, label='size')\n",
    "\n",
    "ylim = ax1.get_ylim()\n",
    "l3 = ax1.plot([10**4,10**4],[ylim[0],ylim[1]], 'r', label='cut-off', linewidth=1)\n",
    "ax1.set_ylim(ylim[0],ylim[1])\n",
    "\n",
    "ax1.set_ylabel('Basins < area threshold [-]')\n",
    "ax2.set_ylabel('Data set size [GB]')\n",
    "ax1.set_xlabel('Area threshold [km^2]')\n",
    "ax1.set_xscale('log')\n",
    "\n",
    "lns = l1+l2+l3\n",
    "lbl = [l.get_label() for l in lns]\n",
    "ax2.legend(lns, lbl)\n",
    "\n",
    "ax1.grid()\n",
    "\n",
    "plt.tight_layout()\n",
    "plt.savefig(image_path/'data_set_size_by_area_threshold.png', dpi=300, bbox_inches='tight')"
   ]
  },
  {
   "cell_type": "code",
   "execution_count": 100,
   "id": "1e868271-934d-4827-a84b-dac804e4aba6",
   "metadata": {},
   "outputs": [],
   "source": [
    "# Seems 10^4 is a neat place to cap things\n",
    "area_threshold = 10**4 # [km^2]"
   ]
  },
  {
   "cell_type": "code",
   "execution_count": 106,
   "id": "7a702b1f-1724-4a6d-bad4-5037383fa234",
   "metadata": {},
   "outputs": [
    {
     "name": "stdout",
     "output_type": "stream",
     "text": [
      "Removing 113 basins, reducing disk space needs by 10039.010460832156 GB\n"
     ]
    }
   ],
   "source": [
    "# Check what we lose and gain\n",
    "look_here = np.argmin(np.abs(area_th - area_threshold)) # Find the array index closest to 10^4\n",
    "print(f'Removing {basin_count[-1]-basin_count[look_here]} basins, reducing disk space needs by {data_size[look_here]} GB')"
   ]
  },
  {
   "cell_type": "markdown",
   "id": "6e8b81b2-a274-4316-a24a-ba2f7711ffce",
   "metadata": {},
   "source": [
    "### Update unusable with excluded basins"
   ]
  },
  {
   "cell_type": "code",
   "execution_count": 107,
   "id": "104aa8d5-86c2-46f5-ad15-5cc15d53da3d",
   "metadata": {},
   "outputs": [],
   "source": [
    "# Remove the old analysis - that one only included ERA5 and EM-Earth data and was decidedly premature\n",
    "cs_unusable = cs_unusable[cs_unusable['Reason'] != 'Desire to limit disk space requirements']"
   ]
  },
  {
   "cell_type": "code",
   "execution_count": 108,
   "id": "80747254-e6c7-46ca-8d22-2d1cad80607c",
   "metadata": {},
   "outputs": [],
   "source": [
    "# Add the excluded basins\n",
    "mask = cs_meta['Basin_area_km2'] >= area_threshold"
   ]
  },
  {
   "cell_type": "code",
   "execution_count": 109,
   "id": "7fc64b34-88ca-4510-87d8-50f4264c89d7",
   "metadata": {},
   "outputs": [],
   "source": [
    "missing = 'n/a'\n",
    "reason = 'Desire to limit disk space requirements'"
   ]
  },
  {
   "cell_type": "code",
   "execution_count": 110,
   "id": "1c7005be-87a4-43f6-a780-b46575d500be",
   "metadata": {},
   "outputs": [],
   "source": [
    "# Make a dataframe that lists the basins we cannot use\n",
    "tmp = pd.DataFrame({'Country': cs_meta[mask]['Country'],\n",
    "                    'Station_id': cs_meta[mask]['Station_id'],\n",
    "                    'Missing': missing,\n",
    "                    'Reason': reason}).reset_index(drop=True)"
   ]
  },
  {
   "cell_type": "code",
   "execution_count": 112,
   "id": "e12c235a-e70d-4887-9b1c-4bb315d92ea6",
   "metadata": {},
   "outputs": [],
   "source": [
    "cs_unusable = pd.concat([cs_unusable,tmp]).reset_index(drop=True)"
   ]
  },
  {
   "cell_type": "code",
   "execution_count": 118,
   "id": "611fd8b6-a1b4-4e79-b9c0-b6ed643323bc",
   "metadata": {},
   "outputs": [],
   "source": [
    "cs_unusable.to_csv(cs_meta_path / cs_unusable_name, encoding='utf-8', index=False)"
   ]
  },
  {
   "cell_type": "code",
   "execution_count": 119,
   "id": "7591bc39-14ec-4290-aae4-cb7755af9773",
   "metadata": {},
   "outputs": [
    {
     "name": "stdout",
     "output_type": "stream",
     "text": [
      "Retaining 1426 out of 1698 basins.\n",
      "Note that for several basins we have identified more than one reason to remove them:\n"
     ]
    },
    {
     "data": {
      "text/plain": [
       "No real-time discharge observations available        180\n",
       "Desire to limit disk space requirements              113\n",
       "No discharge values available (only water levels)     13\n",
       "No Instantaneous Values of discharge available         4\n",
       "Name: Reason, dtype: int64"
      ]
     },
     "execution_count": 119,
     "metadata": {},
     "output_type": "execute_result"
    }
   ],
   "source": [
    "unique_ids = len(cs_unusable['Station_id'].unique())\n",
    "print(f'Retaining {len(cs_meta)-unique_ids} out of {len(cs_meta)} basins.')\n",
    "print('Note that for several basins we have identified more than one reason to remove them:')\n",
    "cs_unusable['Reason'].value_counts()"
   ]
  },
  {
   "cell_type": "markdown",
   "id": "3175bcab-128d-495a-99af-c83a88de7a77",
   "metadata": {},
   "source": [
    "### Disk space needs per basin category"
   ]
  },
  {
   "cell_type": "code",
   "execution_count": 120,
   "id": "b350c2e0-b9fd-4d3a-a4d9-e6c1f1380d30",
   "metadata": {},
   "outputs": [],
   "source": [
    "# Create a temporary meta-data file with only the 1426 final basins\n",
    "not_these = cs_unusable['Station_id'].unique() # we have some duplicates in here, this removes those\n",
    "tmp = du[~du['Station_id'].isin(not_these)].copy()"
   ]
  },
  {
   "cell_type": "code",
   "execution_count": 121,
   "id": "52ff5b1c-3be0-420a-b369-05bf3e07d41e",
   "metadata": {},
   "outputs": [],
   "source": [
    "tmp.reset_index(drop=True, inplace=True)"
   ]
  },
  {
   "cell_type": "code",
   "execution_count": 122,
   "id": "a9818c4a-6091-45cf-8b95-bc2aa27f02e2",
   "metadata": {},
   "outputs": [],
   "source": [
    "head_mask = tmp['is_headwater'] == 1\n",
    "meso_mask = (tmp['is_headwater'] == 0) & (tmp['Basin_area_km2'] <= 10**3)\n",
    "macr_mask = (tmp['is_headwater'] == 0) & (tmp['Basin_area_km2'] > 10**3) & (tmp['Basin_area_km2'] <= 10**4)"
   ]
  },
  {
   "cell_type": "code",
   "execution_count": 123,
   "id": "eb1e3881-e2d9-4616-b324-2af7dd71afa1",
   "metadata": {},
   "outputs": [],
   "source": [
    "# Stats\n",
    "head_numb = head_mask.sum()\n",
    "head_size = tmp[head_mask]['size_gb'].sum()\n",
    "head_area = tmp[head_mask]['Basin_area_km2'].mean()\n",
    "\n",
    "meso_numb = meso_mask.sum()\n",
    "meso_size = tmp[meso_mask]['size_gb'].sum()\n",
    "meso_area = tmp[meso_mask]['Basin_area_km2'].mean()\n",
    "meso_subs = tmp[meso_mask]['sub_basins'].mean()\n",
    "\n",
    "macr_numb = macr_mask.sum()\n",
    "macr_size = tmp[macr_mask]['size_gb'].sum()\n",
    "macr_area = tmp[macr_mask]['Basin_area_km2'].mean()\n",
    "macr_subs = tmp[macr_mask]['sub_basins'].mean()"
   ]
  },
  {
   "cell_type": "code",
   "execution_count": 124,
   "id": "d2354562-5830-497f-886a-12d2cb67b47d",
   "metadata": {},
   "outputs": [
    {
     "name": "stdout",
     "output_type": "stream",
     "text": [
      "Headwaters:\n",
      " Total number   = 304\n",
      " Total space    = 1100.53 GB\n",
      " Mean area      = 61.67 km2 \n",
      "\n",
      "Meso-scale:\n",
      " Total number   = 727\n",
      " Total space    = 3570.66 GB\n",
      " Mean area      = 401.45 km2\n",
      " Mean subbasins = 8.7 \n",
      "\n",
      "Macro-scale:\n",
      " Total number   = 395\n",
      " Total space    = 4403.02 GB\n",
      " Mean area      = 3029.03 km2\n",
      " Mean subbasins = 66.2 \n"
     ]
    }
   ],
   "source": [
    "print('Headwaters:')\n",
    "print(f' Total number   = {head_numb}')\n",
    "print(f' Total space    = {head_size:.2f} GB')\n",
    "print(f' Mean area      = {head_area:.2f} km2 \\n')\n",
    "print('Meso-scale:')\n",
    "print(f' Total number   = {meso_numb}')\n",
    "print(f' Total space    = {meso_size:.2f} GB')\n",
    "print(f' Mean area      = {meso_area:.2f} km2')\n",
    "print(f' Mean subbasins = {meso_subs:.1f} \\n')\n",
    "print('Macro-scale:')\n",
    "print(f' Total number   = {macr_numb}')\n",
    "print(f' Total space    = {macr_size:.2f} GB')\n",
    "print(f' Mean area      = {macr_area:.2f} km2')\n",
    "print(f' Mean subbasins = {macr_subs:.1f} ')"
   ]
  },
  {
   "cell_type": "markdown",
   "id": "dd3d7f36-88b2-481c-a0ea-3535fbddd452",
   "metadata": {},
   "source": [
    "### Update meta with subset category"
   ]
  },
  {
   "cell_type": "code",
   "execution_count": 130,
   "id": "a19da944-b560-40fc-af8a-daa54203d821",
   "metadata": {},
   "outputs": [],
   "source": [
    "cs_meta['subset_category'] = 'n/a'"
   ]
  },
  {
   "cell_type": "code",
   "execution_count": 132,
   "id": "5269fa0b-460c-41b3-966c-10f5c832304c",
   "metadata": {},
   "outputs": [],
   "source": [
    "head_mask = cs_meta['is_headwater'] == 1\n",
    "meso_mask = (cs_meta['is_headwater'] == 0) & (cs_meta['Basin_area_km2'] <= 10**3)\n",
    "macr_mask = (cs_meta['is_headwater'] == 0) & (cs_meta['Basin_area_km2'] > 10**3) & (cs_meta['Basin_area_km2'] <= 10**4)\n",
    "drop_mask = (cs_meta['is_headwater'] == 0) & (cs_meta['Basin_area_km2'] > 10**4)"
   ]
  },
  {
   "cell_type": "code",
   "execution_count": 133,
   "id": "2f235cfc-e3df-470b-8c8f-b61c193582cd",
   "metadata": {},
   "outputs": [],
   "source": [
    "cs_meta.loc[head_mask, 'subset_category'] = 'headwater'\n",
    "cs_meta.loc[meso_mask, 'subset_category'] = 'meso-scale'\n",
    "cs_meta.loc[macr_mask, 'subset_category'] = 'macro-scale'\n",
    "cs_meta.loc[drop_mask, 'subset_category'] = 'excluded'"
   ]
  },
  {
   "cell_type": "code",
   "execution_count": 134,
   "id": "87fe6596-dc98-4031-ac2c-9db208acfa14",
   "metadata": {},
   "outputs": [],
   "source": [
    "cs_meta.to_csv(cs_meta_path / cs_meta_name, encoding='utf-8', index=False)"
   ]
  },
  {
   "cell_type": "code",
   "execution_count": null,
   "id": "1474f70c-1ef7-4a62-aae0-712a6eb0de10",
   "metadata": {},
   "outputs": [],
   "source": []
  }
 ],
 "metadata": {
  "kernelspec": {
   "display_name": "camels-spat-env-jupyter",
   "language": "python",
   "name": "camels-spat-env-jupyter"
  },
  "language_info": {
   "codemirror_mode": {
    "name": "ipython",
    "version": 3
   },
   "file_extension": ".py",
   "mimetype": "text/x-python",
   "name": "python",
   "nbconvert_exporter": "python",
   "pygments_lexer": "ipython3",
   "version": "3.10.2"
  }
 },
 "nbformat": 4,
 "nbformat_minor": 5
}
