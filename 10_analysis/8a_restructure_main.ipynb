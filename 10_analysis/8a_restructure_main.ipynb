{
 "cells": [
  {
   "cell_type": "markdown",
   "id": "0f237099-02ac-43bc-a7a9-3df7cc56692a",
   "metadata": {},
   "source": [
    "# Restructure data\n",
    "This takes the work-in-progress files and moves them into the final data structure we want to upload.\n",
    "\n",
    "Almost all of the data is catchment-based so we can put this into a parallel run. Things to remember:\n",
    "- Do not redistribute the raw WorldClim data - this is not allowed.\n",
    "- Remember to put the main attribute file into the resulting attributes folder."
   ]
  },
  {
   "cell_type": "code",
   "execution_count": 1,
   "id": "55141ae2-8d41-40a3-931f-28ad636c2c56",
   "metadata": {},
   "outputs": [],
   "source": [
    "import os\n",
    "import geopandas as gpd\n",
    "import matplotlib.pyplot as plt\n",
    "import numpy as np\n",
    "import pandas as pd\n",
    "import xarray as xr\n",
    "import sys\n",
    "import warnings\n",
    "from datetime import datetime\n",
    "from pathlib import Path\n",
    "sys.path.append(str(Path().absolute().parent))\n",
    "import python_cs_functions as cs"
   ]
  },
  {
   "cell_type": "markdown",
   "id": "fe3c2ca7-63a6-45e7-b1ce-ec3813e8adf8",
   "metadata": {},
   "source": [
    "## Config handling"
   ]
  },
  {
   "cell_type": "code",
   "execution_count": 2,
   "id": "fc94ed62-7e0b-418c-9526-37cc9597beb5",
   "metadata": {},
   "outputs": [],
   "source": [
    "# Specify where the config file can be found\n",
    "config_file = '../0_config/config.txt'"
   ]
  },
  {
   "cell_type": "code",
   "execution_count": 3,
   "id": "1b357931-4d44-4457-a9b1-700c5c6a50e1",
   "metadata": {},
   "outputs": [],
   "source": [
    "# Get the required info from the config file\n",
    "data_path            = cs.read_from_config(config_file,'data_path')\n",
    "\n",
    "# CAMELS-spat metadata\n",
    "cs_meta_path = cs.read_from_config(config_file,'cs_basin_path')\n",
    "cs_meta_name = cs.read_from_config(config_file,'cs_meta_name')\n",
    "cs_unusable_name = cs.read_from_config(config_file,'cs_unusable_name')\n",
    "\n",
    "# Basin folder\n",
    "cs_basin_folder = cs.read_from_config(config_file, 'cs_basin_path')\n",
    "basins_path = Path(data_path) / cs_basin_folder\n",
    "\n",
    "# Attributes folder\n",
    "cs_att_folder = cs.read_from_config(config_file, 'att_path')\n",
    "att_path  = basins_path / 'camels_spat_attributes.csv'\n",
    "\n",
    "# Destination folder\n",
    "final_fold = cs.read_from_config(config_file, 'final_path')"
   ]
  },
  {
   "cell_type": "markdown",
   "id": "ebda6d28-5f18-4fd4-81fa-eb97a530257f",
   "metadata": {},
   "source": [
    "## Data loading"
   ]
  },
  {
   "cell_type": "code",
   "execution_count": 4,
   "id": "dc20c1b9-12f1-4b70-8776-8d1dfc1877b9",
   "metadata": {},
   "outputs": [],
   "source": [
    "# CAMELS-spat metadata file\n",
    "cs_meta_path = Path(data_path) / cs_meta_path\n",
    "cs_meta = pd.read_csv(cs_meta_path / cs_meta_name)"
   ]
  },
  {
   "cell_type": "code",
   "execution_count": 5,
   "id": "28d24e61-3176-4bf1-95d4-19890fd60d77",
   "metadata": {},
   "outputs": [],
   "source": [
    "# Open list of unusable stations; Enforce reading IDs as string to keep leading 0's\n",
    "cs_unusable = pd.read_csv(cs_meta_path / cs_unusable_name, dtype={'Station_id': object})"
   ]
  },
  {
   "cell_type": "markdown",
   "id": "90aa1d68-86eb-4d92-8636-6913833d8675",
   "metadata": {},
   "source": [
    "## General processing\n",
    "Steps:\n",
    "1. Set up the folder structure\n",
    "2. Subset and move the meta-data file to only the 1426 basins we want to keep\n",
    "3. Subset and move the main attributes file\n",
    "4. Add a `readme`, `citations`, and `known issues` file"
   ]
  },
  {
   "cell_type": "code",
   "execution_count": 6,
   "id": "6b1e661f-bad1-410c-85be-87fd68225ee5",
   "metadata": {},
   "outputs": [],
   "source": [
    "# Set the top level path\n",
    "dest_root = Path(final_fold) / 'camels-spat-upload'"
   ]
  },
  {
   "cell_type": "code",
   "execution_count": 7,
   "id": "5f0586dc-95d0-497d-a44c-82e060ad7d75",
   "metadata": {},
   "outputs": [],
   "source": [
    "# 1. Create the folder structure\n",
    "standard_subfolders = ['headwater','meso-scale','macro-scale']\n",
    "forcing_subfolders =  ['gridded','lumped','distributed']\n",
    "specific_subfolders = {\n",
    "    'attributes':   [], \n",
    "    'forcing':      ['daymet','em-earth','era5','rdrs'],\n",
    "    'geospatial':   ['forest-height','glclu2019','glhymps','hydrolakes','lai','lgrip30','merit','modis-land','pelletier','soilgrids','worldclim-derived'],\n",
    "    'observations': ['obs-daily','obs-hourly'],\n",
    "    'shapefiles':   ['delineation-outcomes','shapes-distributed','shapes-forcing','shapes-lumped','shapes-reference']\n",
    "}"
   ]
  },
  {
   "cell_type": "code",
   "execution_count": 493,
   "id": "5a5dbdcb-a995-42d1-9043-bb7d0e43e24e",
   "metadata": {},
   "outputs": [],
   "source": [
    "for main_folder, sub_folders in specific_subfolders.items():\n",
    "    for scale in standard_subfolders:\n",
    "        if main_folder == 'geospatial': # add dedicated metadata folder\n",
    "            Path(f\"{dest_root}/{main_folder}/_metadata\").mkdir(parents=True, exist_ok=True)\n",
    "        if len(sub_folders) == 0: # attributes\n",
    "            Path(f\"{dest_root}/{main_folder}/{scale}\").mkdir(parents=True, exist_ok=True)\n",
    "        else: # everything else\n",
    "            for sub_folder in sub_folders:\n",
    "                if main_folder == 'forcing':\n",
    "                    for aggregation in forcing_subfolders:\n",
    "                        Path(f\"{dest_root}/{main_folder}/{scale}/{sub_folder}/{sub_folder}-{aggregation}\").mkdir(parents=True, exist_ok=True)\n",
    "                else: # not forcing\n",
    "                    Path(f\"{dest_root}/{main_folder}/{scale}/{sub_folder}\").mkdir(parents=True, exist_ok=True)\n",
    "\n",
    "# Create an ERA5-invariant folder\n",
    "for scale in standard_subfolders:\n",
    "    Path(f\"{dest_root}/forcing/{scale}/era5/era5-invariants\").mkdir(parents=True, exist_ok=True)"
   ]
  },
  {
   "cell_type": "code",
   "execution_count": 8,
   "id": "f7fc1dcb-8b3b-4c1f-92c1-8101fec406c2",
   "metadata": {},
   "outputs": [],
   "source": [
    "# 2. Meta-data\n",
    "cs_meta_upload = cs_meta[~cs_meta.set_index(['Country', 'Station_id']).index.isin(cs_unusable.set_index(['Country', 'Station_id']).index)]"
   ]
  },
  {
   "cell_type": "code",
   "execution_count": null,
   "id": "fe3532a6-0392-449d-82c7-844e80f96407",
   "metadata": {},
   "outputs": [],
   "source": [
    "cs_meta_upload.to_csv(dest_root/'camels-spat-metadata.csv', index=False)"
   ]
  },
  {
   "cell_type": "code",
   "execution_count": 9,
   "id": "c35c73ad-fa9d-4efa-90b4-be99dc93f482",
   "metadata": {},
   "outputs": [],
   "source": [
    "# 3. Attributes\n",
    "cs_att = pd.read_csv(att_path, low_memory=False)\n",
    "drop_these = cs_unusable['Country'] + \"_\" + cs_unusable['Station_id']\n",
    "cs_att_upload = cs_att.drop(columns=drop_these, errors='ignore')"
   ]
  },
  {
   "cell_type": "code",
   "execution_count": null,
   "id": "b4a40c2c-a0e2-4a34-a973-2727e0a59d13",
   "metadata": {},
   "outputs": [],
   "source": [
    "cs_att_upload.to_csv(dest_root/'attributes'/'attributes-lumped.csv', index=False)"
   ]
  },
  {
   "cell_type": "code",
   "execution_count": 7,
   "id": "a1b13fb6-bbf1-48a1-8141-58a4cda54ff3",
   "metadata": {},
   "outputs": [],
   "source": [
    "# 4. readme, citations, known issues\n",
    "# We'll add these manually"
   ]
  },
  {
   "cell_type": "code",
   "execution_count": 10,
   "id": "1f7f2a4c-6c05-4562-adc1-a94873cb7144",
   "metadata": {},
   "outputs": [],
   "source": [
    "# 5. Basic check(s)\n",
    "# 5.1 Ensure we have the same basins in meta and attributes\n",
    "meta_basins = (cs_meta_upload['Country'] + '_' + cs_meta_upload['Station_id']).values\n",
    "attr_basins = cs_att_upload.columns.to_list()\n",
    "attr_basins.remove('Category')\n",
    "attr_basins.remove('Attribute')\n",
    "attr_basins.remove('Unit')\n",
    "attr_basins.remove('Source')\n",
    "assert (meta_basins == attr_basins).all(), \"Basins not in same order and/or mismatches\"\n",
    "\n",
    "# 5.2 Ensure we have the expected number of basins (1426)\n",
    "assert len(meta_basins) == 1426, \"Number of basins not 1426\""
   ]
  }
 ],
 "metadata": {
  "kernelspec": {
   "display_name": "camels-spat-env-jupyter",
   "language": "python",
   "name": "camels-spat-env-jupyter"
  },
  "language_info": {
   "codemirror_mode": {
    "name": "ipython",
    "version": 3
   },
   "file_extension": ".py",
   "mimetype": "text/x-python",
   "name": "python",
   "nbconvert_exporter": "python",
   "pygments_lexer": "ipython3",
   "version": "3.10.2"
  }
 },
 "nbformat": 4,
 "nbformat_minor": 5
}
