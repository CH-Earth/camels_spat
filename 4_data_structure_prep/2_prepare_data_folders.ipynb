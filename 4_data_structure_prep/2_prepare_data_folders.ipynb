{
 "cells": [
  {
   "cell_type": "markdown",
   "id": "09be70f2",
   "metadata": {},
   "source": [
    "# Prepare data folders\n",
    "Creates a destination folder tree for the CAMELS-spat catchments. Also copies reference files if available."
   ]
  },
  {
   "cell_type": "code",
   "execution_count": 1,
   "id": "d620051d",
   "metadata": {},
   "outputs": [],
   "source": [
    "import sys\n",
    "import pandas as pd\n",
    "import geopandas as gpd\n",
    "from pathlib import Path\n",
    "sys.path.append(str(Path().absolute().parent))\n",
    "import python_cs_functions as cs"
   ]
  },
  {
   "cell_type": "markdown",
   "id": "73793dff",
   "metadata": {},
   "source": [
    "### Config handling"
   ]
  },
  {
   "cell_type": "code",
   "execution_count": 2,
   "id": "0bd4a19f",
   "metadata": {},
   "outputs": [],
   "source": [
    "# Specify where the config file can be found\n",
    "config_file = '../0_config/config.txt'"
   ]
  },
  {
   "cell_type": "code",
   "execution_count": 3,
   "id": "4855e428",
   "metadata": {},
   "outputs": [],
   "source": [
    "# Get the required info from the config file\n",
    "data_path     = cs.read_from_config(config_file,'data_path')\n",
    "ref_shps_path = cs.read_from_config(config_file,'ref_shps_path')\n",
    "cs_meta_path  = cs.read_from_config(config_file,'cs_basin_path')\n",
    "cs_meta_name  = cs.read_from_config(config_file,'cs_meta_name')"
   ]
  },
  {
   "cell_type": "markdown",
   "id": "b8dc1d24",
   "metadata": {},
   "source": [
    "### Load the metadata and source shapefiles"
   ]
  },
  {
   "cell_type": "code",
   "execution_count": 4,
   "id": "5a6d6877",
   "metadata": {},
   "outputs": [],
   "source": [
    "# CAMELS-spat metadata file\n",
    "cs_meta_path = Path(data_path) / cs_meta_path\n",
    "cs_meta = pd.read_csv(cs_meta_path / cs_meta_name)"
   ]
  },
  {
   "cell_type": "code",
   "execution_count": 5,
   "id": "e9904766",
   "metadata": {},
   "outputs": [],
   "source": [
    "# Ensure that we know the correct column indices for what we're about to do\n",
    "c_ref,c_src,c_area  = 12,13,14\n",
    "assert (cs_meta.columns[c_ref]  == 'Ref_shape') # If these aren't true, they'll pop an error\n",
    "assert (cs_meta.columns[c_src]  == 'Ref_shape_source')\n",
    "assert (cs_meta.columns[c_area] == 'Ref_shape_area_km2')"
   ]
  },
  {
   "cell_type": "code",
   "execution_count": 6,
   "id": "4a2e8e25",
   "metadata": {},
   "outputs": [],
   "source": [
    "# Reference shapefiles\n",
    "ref_shps_path = Path(data_path) / ref_shps_path\n",
    "ref_camels_us = gpd.read_file(ref_shps_path / 'CAMELS-US' / 'HCDN_nhru_final_671.shp') # CAMELS-US\n",
    "ref_wsc2016   = gpd.read_file(ref_shps_path / 'RHBN-CAN' / 'WSC2016' / 'WSC2016_basins.shp') # WSC2016\n",
    "ref_wsc2022_b = gpd.read_file(ref_shps_path / 'RHBN-CAN' / 'WSC2022' / 'WSC2022_basins.shp') # WSC2022 basins\n",
    "ref_wsc2022_p = gpd.read_file(ref_shps_path / 'RHBN-CAN' / 'WSC2022' / 'WSC2022_basins.shp') # WSC2022 pour points\n",
    "ref_wsc2022_s = gpd.read_file(ref_shps_path / 'RHBN-CAN' / 'WSC2022' / 'WSC2022_basins.shp') # WSC2022 stations"
   ]
  },
  {
   "cell_type": "code",
   "execution_count": 7,
   "id": "4d6ca6ad",
   "metadata": {},
   "outputs": [],
   "source": [
    "# Make a dedicated data folder\n",
    "cs_basin_path = Path(data_path) / cs_meta_path / 'basin_data'\n",
    "cs_basin_path.mkdir(parents=True, exist_ok=True)"
   ]
  },
  {
   "cell_type": "code",
   "execution_count": 8,
   "id": "b3d8b9b3",
   "metadata": {},
   "outputs": [],
   "source": [
    "# For basin in CAMELS-spat metadata\n",
    "for i,row in cs_meta.iterrows():\n",
    "    \n",
    "    # 1. Make destination folder\n",
    "    dest = cs_basin_path / (row['Country'] + '_' + row['Station_id']) / 'shapefiles' / 'reference'\n",
    "    dest.mkdir(parents=True, exist_ok=True)\n",
    "    \n",
    "    # 2. Copy reference shape to destination if available\n",
    "    if row['Country'] == 'USA':\n",
    "        \n",
    "        # Check if a reference shape exists, and process if so\n",
    "        mask = ref_camels_us['hru_id'].astype('str') == row['Station_id'] # ref_camels_us['hru_id'] is type Int. Make Str for matching\n",
    "        if any(mask): \n",
    "            basin,src = cs.process_camels_us_ref_shape(ref_camels_us,mask) # Returns: basin shape in EPSG:4326\n",
    "            \n",
    "    elif row['Country'] == 'CAN':\n",
    "        \n",
    "        # Check if a reference shape exists in the WSC2022 data, and process if so\n",
    "        mask = ref_wsc2022_b['StationNum'] == row['Station_id']\n",
    "        if any(mask):\n",
    "            basin,src = cs.process_wsc2022_ref_shape(ref_wsc2022_b,mask) # Returns: basin shape in EPSG:4326\n",
    "        else:\n",
    "            # Check if a reference shape exists in the WSC2016 data, and process if so\n",
    "            # We do this only if we found nothing in WSC2022, because WSC2022 is supposed to be more accurate than WSC2016\n",
    "            mask = ref_wsc2016['Station'] == row['Station_id']\n",
    "            if any(mask):\n",
    "                basin,src = cs.process_wsc2016_ref_shape(ref_wsc2016,mask) # Returns: basin shape in EPSG:4326\n",
    "        \n",
    "    # 3. Update metadata file with reference shape info\n",
    "    if any(mask):\n",
    "        basin.to_file(dest / ('reference_' + row['Station_id'] + '.shp')) # Save to file    \n",
    "        cs_meta.iat[i,c_ref]  = 'yes'\n",
    "        cs_meta.iat[i,c_src]  = src\n",
    "        cs_meta.iat[i,c_area] = basin['Area_km2']\n",
    "    else: \n",
    "        cs_meta.iat[i,c_ref]  = 'no'\n",
    "        # Reference source is already at NaN in the metadata file, so we can leave that\n",
    "        # Reference area is already at -999 in the metadata file, so we can leave that    "
   ]
  },
  {
   "cell_type": "code",
   "execution_count": 9,
   "id": "d3b144aa",
   "metadata": {},
   "outputs": [],
   "source": [
    "# Save the updated metadata file\n",
    "cs_meta.to_csv(cs_meta_path / cs_meta_name)"
   ]
  },
  {
   "cell_type": "code",
   "execution_count": null,
   "id": "d28dc72b",
   "metadata": {},
   "outputs": [],
   "source": []
  }
 ],
 "metadata": {
  "kernelspec": {
   "display_name": "camels-spat-env",
   "language": "python",
   "name": "camels-spat-env"
  },
  "language_info": {
   "codemirror_mode": {
    "name": "ipython",
    "version": 3
   },
   "file_extension": ".py",
   "mimetype": "text/x-python",
   "name": "python",
   "nbconvert_exporter": "python",
   "pygments_lexer": "ipython3",
   "version": "3.8.2"
  }
 },
 "nbformat": 4,
 "nbformat_minor": 5
}
