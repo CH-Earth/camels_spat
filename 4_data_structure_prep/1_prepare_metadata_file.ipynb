{
 "cells": [
  {
   "cell_type": "markdown",
   "id": "0b03255c",
   "metadata": {},
   "source": [
    "# Prepare CAMELS-spat metadata file"
   ]
  },
  {
   "cell_type": "code",
   "execution_count": 3,
   "id": "75ef946e",
   "metadata": {},
   "outputs": [],
   "source": [
    "import sys\n",
    "import pandas as pd\n",
    "from pathlib import Path\n",
    "sys.path.append(str(Path().absolute().parent))\n",
    "import python_cs_functions as cs"
   ]
  },
  {
   "cell_type": "markdown",
   "id": "73793dff",
   "metadata": {},
   "source": [
    "### Config handling"
   ]
  },
  {
   "cell_type": "code",
   "execution_count": 4,
   "id": "0bd4a19f",
   "metadata": {},
   "outputs": [],
   "source": [
    "# Specify where the config file can be found\n",
    "config_file = '../0_config/config.txt'"
   ]
  },
  {
   "cell_type": "code",
   "execution_count": 5,
   "id": "4855e428",
   "metadata": {},
   "outputs": [],
   "source": [
    "# Get the required info from the config file\n",
    "data_path    = cs.read_from_config(config_file,'data_path')\n",
    "shps_path    = cs.read_from_config(config_file,'ref_shps_path')\n",
    "cs_meta_path = cs.read_from_config(config_file,'cs_basin_path')\n",
    "cs_meta_name = cs.read_from_config(config_file,'cs_meta_name')\n",
    "ref_can_rhbn_file = cs.read_from_config(config_file,'can_rhbn_meta_url')\n",
    "ref_can_hydt_file = cs.read_from_config(config_file,'can_hydat_db_url')\n",
    "ref_usa_topo_file = cs.read_from_config(config_file,'us_camels_topo_url')\n",
    "ref_usa_name_file = cs.read_from_config(config_file,'us_camels_name_url')"
   ]
  },
  {
   "cell_type": "markdown",
   "id": "5fe70d08",
   "metadata": {},
   "source": [
    "### Load the metadata files"
   ]
  },
  {
   "cell_type": "code",
   "execution_count": 6,
   "id": "b95fd0ed",
   "metadata": {},
   "outputs": [],
   "source": [
    "# Define RHBN and HYDAT metadata file location\n",
    "ref_can_rhbn_name = ref_can_rhbn_file.split('/')[-1].strip().replace('xlsx','csv') # file name\n",
    "ref_can_rhbn_data = Path(data_path) / shps_path / 'RHBN-CAN' / ref_can_rhbn_name # full path to file\n",
    "ref_can_hydt_name = ref_can_hydt_file.split('/')[-1].strip().replace('.zip','_RHBN_2020_subset.csv')\n",
    "ref_can_hydt_data = Path(data_path) / shps_path / 'RHBN-CAN' / ref_can_hydt_name "
   ]
  },
  {
   "cell_type": "code",
   "execution_count": 7,
   "id": "11d23b33",
   "metadata": {},
   "outputs": [],
   "source": [
    "# Define CAMELS-US metadata file locations\n",
    "ref_usa_topo_name = ref_usa_topo_file.split('/')[-1].strip().replace('txt','csv')\n",
    "ref_usa_topo_meta = Path(data_path) / shps_path / 'CAMELS-US' / ref_usa_topo_name\n",
    "ref_usa_name_name = ref_usa_name_file.split('/')[-1].strip().replace('txt','csv')\n",
    "ref_usa_name_meta = Path(data_path) / shps_path / 'CAMELS-US' / ref_usa_name_name"
   ]
  },
  {
   "cell_type": "code",
   "execution_count": 8,
   "id": "ccc3286e",
   "metadata": {},
   "outputs": [],
   "source": [
    "# Load the metadata files\n",
    "rhbn_data = pd.read_csv(str(ref_can_rhbn_data))\n",
    "hydt_data = pd.read_csv(str(ref_can_hydt_data))\n",
    "cmls_topo = pd.read_csv(str(ref_usa_topo_meta))\n",
    "cmls_name = pd.read_csv(str(ref_usa_name_meta))"
   ]
  },
  {
   "cell_type": "code",
   "execution_count": 9,
   "id": "591836f6",
   "metadata": {},
   "outputs": [],
   "source": [
    "# Merge the RHBN and HYDAT files into one\n",
    "rhbn_meta = rhbn_data.merge(hydt_data, on='STATION_NUMBER')"
   ]
  },
  {
   "cell_type": "code",
   "execution_count": 10,
   "id": "c7686381",
   "metadata": {},
   "outputs": [],
   "source": [
    "# Merge the CAMELS files into one\n",
    "cmls_meta = cmls_name.merge(cmls_topo, on='gauge_id')"
   ]
  },
  {
   "cell_type": "markdown",
   "id": "f51e3ac2",
   "metadata": {},
   "source": [
    "### Make data folder"
   ]
  },
  {
   "cell_type": "code",
   "execution_count": 30,
   "id": "59b116fb",
   "metadata": {},
   "outputs": [],
   "source": [
    "cs_meta_path = Path(data_path) / cs_meta_path\n",
    "cs_meta_path.mkdir(parents=True, exist_ok=True)"
   ]
  },
  {
   "cell_type": "markdown",
   "id": "19d03d98",
   "metadata": {},
   "source": [
    "### Make the csv"
   ]
  },
  {
   "cell_type": "code",
   "execution_count": 25,
   "id": "37ed37ea",
   "metadata": {},
   "outputs": [],
   "source": [
    "# Concatenate RHBN and CAMELS-US metadata\n",
    "# Note: we do this in a loop so we can harmonize the different column names. Not super elegant but it's a one-off thing\\\n",
    "# Note: appending to lists is much quicker than appending to dataframe (https://stackoverflow.com/a/56746204)\n",
    "data = []\n",
    "# CANADA\n",
    "for i,row in rhbn_meta.iterrows(): \n",
    "    data.append(['CAN',                                      # Country\n",
    "                 row['STATION_NUMBER'], row['STATION_NAME'], # Station ID, Station name\n",
    "                 row['LATITUDE'], row['LONGITUDE'], 'HYDAT', # Station lat, station lon, station source\n",
    "                 -999, -999, 'n/a',                          # Outlet lat, outlet lon, outlet source (to be filled later)\n",
    "                 -999, -999,                                 # Mapped lat, lon onto river (to be filled later)\n",
    "                 -999, -999, 'n/a',                          # Manual outlet lat, manual outlet lon, flag (to be filled later)\n",
    "                 -999,                                       # CAMELS-spat basin area (to be filled later)\n",
    "                 'HYDAT gross drainage area', row['DRAINAGE_AREA_GROSS'], # Reference area 1 source, reference area 1 km2\n",
    "                 'HYDAT effective drainage area', row['DRAINAGE_AREA_EFFECT'], # Reference area 2 source, reference area 2 km2\n",
    "                 'n/a', 'n/a', -999, -1])                    # Do we have a ref shape?, ref shape source, shape area, overlap\n",
    "\n",
    "# CAMELS-US\n",
    "for i,row in cmls_meta.iterrows(): \n",
    "    data.append(['USA',                                      # Country\n",
    "                 f\"{row['gauge_id']:08}\", row['gauge_name'], # Station ID, Station name // gauges need leading zeroes for IDs <8 numbers for sorting and searching on USGS database purposes\n",
    "                 row['gauge_lat'],row['gauge_lon'], 'CAMELS-US', # Station lat, station lon, station source\n",
    "                 -999, -999, 'n/a',                          # Outlet lat, outlet lon, outlet source (to be filled later)\n",
    "                 -999, -999,                                 # Mapped lat, lon onto river (to be filled later)\n",
    "                 -999, -999, 'n/a',                          # Manual outlet lat, manual outlet lon, flag (to be filled later)\n",
    "                 -999,                                       # CAMELS-spat basin area (to be filled later)\n",
    "                 'GAGES II area', row['area_gages2'],        # Reference area 1 source, reference area 1 km2\n",
    "                 'Geospatial fabric area', row['area_geospa_fabric'], # Reference area 1 source, reference area 1 km2\n",
    "                 'n/a', 'n/a', -999, -1])                    # Do we have a ref shape?, ref shape source, shape area, overlap\n",
    "\n",
    "# Convert to dataframe\n",
    "cs_meta = pd.DataFrame(data, columns = ['Country',\n",
    "                                        'Station_id' , 'Station_name',\n",
    "                                        'Station_lat', 'Station_lon', 'Station_source',\n",
    "                                        'Outlet_lat' , 'Outlet_lon', 'Outlet_source',\n",
    "                                        'Mapped_lat' , 'Mapped_lon',\n",
    "                                        'Manual_lat' , 'Manual_lon', 'Manual_outlet_location',\n",
    "                                        'Basin_area_km2',\n",
    "                                        'Ref_area_1_src', 'Ref_area_1_km2',\n",
    "                                        'Ref_area_2_src', 'Ref_area_2_km2',\n",
    "                                        'Ref_shape', 'Ref_shape_source', 'Ref_shape_area_km2','Ref_and_new_shape_fractional_overlap'])"
   ]
  },
  {
   "cell_type": "code",
   "execution_count": 31,
   "id": "f44a3008",
   "metadata": {},
   "outputs": [],
   "source": [
    "# Save the file\n",
    "cs_meta.to_csv(cs_meta_path/cs_meta_name, encoding='utf-8', index=False)"
   ]
  },
  {
   "cell_type": "code",
   "execution_count": null,
   "id": "14bdd877",
   "metadata": {},
   "outputs": [],
   "source": []
  }
 ],
 "metadata": {
  "kernelspec": {
   "display_name": "camels-spat-env",
   "language": "python",
   "name": "camels-spat-env"
  },
  "language_info": {
   "codemirror_mode": {
    "name": "ipython",
    "version": 3
   },
   "file_extension": ".py",
   "mimetype": "text/x-python",
   "name": "python",
   "nbconvert_exporter": "python",
   "pygments_lexer": "ipython3",
   "version": "3.8.2"
  }
 },
 "nbformat": 4,
 "nbformat_minor": 5
}
