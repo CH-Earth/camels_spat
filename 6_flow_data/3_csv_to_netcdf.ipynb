{
 "cells": [
  {
   "cell_type": "markdown",
   "id": "270e221c",
   "metadata": {},
   "source": [
    "# Convert .csv to .nc\n",
    "\n",
    "Netcdf instructions:\n",
    "- CF Conventions: http://cfconventions.org/\n",
    "- CF Standard names: http://cfconventions.org/Data/cf-standard-names/current/build/cf-standard-name-table.html\n",
    "- Oak Ridge National Lab guide: https://daac.ornl.gov/submit/netcdfrequirements/\n"
   ]
  },
  {
   "cell_type": "code",
   "execution_count": 18,
   "id": "25b0b9c0",
   "metadata": {},
   "outputs": [],
   "source": [
    "import os\n",
    "import sys\n",
    "import shutil\n",
    "import xarray as xr\n",
    "import pandas as pd\n",
    "from pathlib import Path\n",
    "from datetime import datetime\n",
    "sys.path.append(str(Path().absolute().parent))\n",
    "import python_cs_functions as cs"
   ]
  },
  {
   "cell_type": "markdown",
   "id": "73793dff",
   "metadata": {},
   "source": [
    "### Config handling"
   ]
  },
  {
   "cell_type": "code",
   "execution_count": 2,
   "id": "0bd4a19f",
   "metadata": {},
   "outputs": [],
   "source": [
    "# Specify where the config file can be found\n",
    "config_file = '../0_config/config.txt'"
   ]
  },
  {
   "cell_type": "code",
   "execution_count": 3,
   "id": "4855e428",
   "metadata": {},
   "outputs": [],
   "source": [
    "# Get the required info from the config file\n",
    "data_path     = cs.read_from_config(config_file,'data_path')\n",
    "\n",
    "# CAMELS-spat metadata\n",
    "cs_meta_path  = cs.read_from_config(config_file,'cs_basin_path')\n",
    "cs_meta_name  = cs.read_from_config(config_file,'cs_meta_name')\n",
    "cs_unusable_name = cs.read_from_config(config_file,'cs_unusable_name')\n",
    "\n",
    "# Basin folder\n",
    "cs_basin_folder = cs.read_from_config(config_file, 'cs_basin_path')\n",
    "basins_path = Path(data_path) / cs_basin_folder"
   ]
  },
  {
   "cell_type": "markdown",
   "id": "59f6f7d7",
   "metadata": {},
   "source": [
    "### Data loading"
   ]
  },
  {
   "cell_type": "code",
   "execution_count": 4,
   "id": "6c6e1dc7",
   "metadata": {},
   "outputs": [],
   "source": [
    "# CAMELS-spat metadata file\n",
    "cs_meta_path = Path(data_path) / cs_meta_path\n",
    "cs_meta = pd.read_csv(cs_meta_path / cs_meta_name)"
   ]
  },
  {
   "cell_type": "code",
   "execution_count": 5,
   "id": "37fa9525",
   "metadata": {},
   "outputs": [],
   "source": [
    "# Open list of unusable stations; Enforce reading IDs as string to keep leading 0's\n",
    "cs_unusable = pd.read_csv(cs_meta_path / cs_unusable_name, dtype={'Station_id': object}) "
   ]
  },
  {
   "cell_type": "markdown",
   "id": "6094121c",
   "metadata": {},
   "source": [
    "## Processing\n",
    "### NetCDF requirements:\n",
    "\n",
    "#### Time variable\n",
    "Needs to have attributes:\n",
    "- `standard_name` = `time`\n",
    "- `units`: CF conventions (e.g. `unit since date`)\n",
    "- `calendar`: http://cfconventions.org/Data/cf-conventions/cf-conventions-1.7/cf-conventions.html#calendar\n",
    "- `bounds` = `time_bnds`; a separate 2-dimensional variable that defines the start and end time points of each measurement. Variable \"time_bnds\" has the same attributes \"units\" and \"calendar\" as variable \"time\".\n",
    "\n",
    "#### Data variables\n",
    "Need to have attributes:\n",
    "- `units`: (UDUNITS-2) recommended\n",
    "- `long_name`: description of variable\n",
    "- `_FillValue`: ?\n",
    "\n",
    "#### Global attributes\n",
    "- `title`: data set name\n",
    "- `institution`: specifies where the original data was produced (USGS, WSC)\n",
    "- `source`: way data was derived?\n",
    "- `references`: USGS or WSC\n",
    "- `history`: audit trail for modifications to original data\n",
    "- `comment`: _optional_\n",
    "\n",
    "### Variables and attributes to be included\n",
    "- var: `time`\n",
    "- var: `time_bnds`\n",
    "- var: `q_obs`\n",
    "- var: `quality`\n",
    "- att: `country`\n",
    "- att: `station_id`\n",
    "- att: `station_name`"
   ]
  },
  {
   "cell_type": "code",
   "execution_count": 1,
   "id": "1da56af3",
   "metadata": {},
   "outputs": [],
   "source": [
    "# loop over basins, \n",
    "# - if basin is not in 'unusable'\n",
    "# -   load the flow data into pandas\n",
    "# -   convert to xarray/netcdf\n",
    "# -   (re)move the .csv file"
   ]
  },
  {
   "cell_type": "code",
   "execution_count": 27,
   "id": "ca64daad",
   "metadata": {},
   "outputs": [],
   "source": [
    "# Specify global attributes\n",
    "global_att_now = datetime.now().strftime(\"%Y-%m-%d %H:%M:%S\")\n",
    "global_att_ttl = 'CAMELS-spat streamflow data'\n",
    "global_att_ins = ['United States Geological Survey',\n",
    "                   'Water Survey of Canada']\n",
    "global_att_src = 'Streamflow derived from observed water levels'\n",
    "global_att_ref = ['U.S. Geological Survey, 2016, National Water Information System data available on the World Wide Web \\\n",
    "                   (USGS Water Data for the Nation), accessed 2023-03-23, at URL [http://waterdata.usgs.gov/nwis/]',\n",
    "                  'Original data extracted from the Environment and Climate Change Canada Real-time Hydrometric Data web \\\n",
    "                   site (https://wateroffice.ec.gc.ca/mainmenu/real_time_data_index_e.html) on 2023-04-05']\n",
    "global_att_his = f'{global_att_now} File prepared using scripts prepared for CAMELS-spat creation. See: \\\n",
    "                   https://github.com/CH-Earth/camels-spat'\n",
    "global_att_com = 'n/a'"
   ]
  },
  {
   "cell_type": "code",
   "execution_count": null,
   "id": "22f979a2",
   "metadata": {},
   "outputs": [],
   "source": []
  },
  {
   "cell_type": "code",
   "execution_count": null,
   "id": "33067be4",
   "metadata": {},
   "outputs": [],
   "source": []
  },
  {
   "cell_type": "code",
   "execution_count": null,
   "id": "255e7266",
   "metadata": {},
   "outputs": [],
   "source": []
  },
  {
   "cell_type": "code",
   "execution_count": null,
   "id": "05c3dc72",
   "metadata": {},
   "outputs": [],
   "source": []
  },
  {
   "cell_type": "code",
   "execution_count": 10,
   "id": "1bafe108",
   "metadata": {},
   "outputs": [],
   "source": [
    "file = 'C:/Globus endpoint/CAMELS_spat/camels-spat-data/basin_data/CAN_01AD003/observations/CAN_01AD003_flow_observations_hourly.csv'\n",
    "csv_can = pd.read_csv(file, index_col=0, parse_dates=True)"
   ]
  },
  {
   "cell_type": "code",
   "execution_count": 11,
   "id": "9818a1f1",
   "metadata": {},
   "outputs": [],
   "source": [
    "file = 'C:/Globus endpoint/CAMELS_spat/camels-spat-data/basin_data/USA_01013500/observations/USA_01013500_flow_observations_hourly.csv'\n",
    "csv_usa = pd.read_csv(file, index_col=0, parse_dates=True)"
   ]
  },
  {
   "cell_type": "code",
   "execution_count": 12,
   "id": "4a8d5ab7",
   "metadata": {},
   "outputs": [
    {
     "name": "stdout",
     "output_type": "stream",
     "text": [
      "Index(['Value/Valeur', 'based_on_obs', 'is_ice_affected',\n",
      "       'is_malfunction_affected', 'is_backwater_affected',\n",
      "       'is_below_sensor_level', 'minimum_data_quality'],\n",
      "      dtype='object')\n",
      "Index(['obs_00060', 'based_on_obs', 'is_ice_affected', 'minimum_data_quality'], dtype='object')\n"
     ]
    }
   ],
   "source": [
    "print(csv_can.columns)\n",
    "print(csv_usa.columns)"
   ]
  },
  {
   "cell_type": "code",
   "execution_count": null,
   "id": "34a728b0",
   "metadata": {},
   "outputs": [],
   "source": []
  },
  {
   "cell_type": "code",
   "execution_count": null,
   "id": "84a96d5c",
   "metadata": {},
   "outputs": [],
   "source": []
  },
  {
   "cell_type": "code",
   "execution_count": null,
   "id": "53f66b1a",
   "metadata": {},
   "outputs": [],
   "source": []
  }
 ],
 "metadata": {
  "kernelspec": {
   "display_name": "camels-spat-env",
   "language": "python",
   "name": "camels-spat-env"
  },
  "language_info": {
   "codemirror_mode": {
    "name": "ipython",
    "version": 3
   },
   "file_extension": ".py",
   "mimetype": "text/x-python",
   "name": "python",
   "nbconvert_exporter": "python",
   "pygments_lexer": "ipython3",
   "version": "3.8.2"
  }
 },
 "nbformat": 4,
 "nbformat_minor": 5
}
