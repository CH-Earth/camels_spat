{
 "cells": [
  {
   "cell_type": "markdown",
   "id": "0b99192f-aa27-4e37-b14c-477ba7e507cf",
   "metadata": {},
   "source": [
    "# Subset geotiffs to basin shapefile outlines"
   ]
  },
  {
   "cell_type": "code",
   "execution_count": 1,
   "id": "97b9310d-94d9-4aa2-abda-46ea730a9b0e",
   "metadata": {},
   "outputs": [],
   "source": [
    "import glob\n",
    "import os\n",
    "import pandas as pd\n",
    "import sys\n",
    "from pathlib import Path\n",
    "sys.path.append(str(Path().absolute().parent))\n",
    "import python_cs_functions as cs"
   ]
  },
  {
   "cell_type": "markdown",
   "id": "ac5966f0-83c0-4d8f-bcb8-19c6944c2c04",
   "metadata": {},
   "source": [
    "### Config handling"
   ]
  },
  {
   "cell_type": "code",
   "execution_count": 2,
   "id": "254a8f4c-33b7-4c8a-918b-dcc85d6abbbf",
   "metadata": {},
   "outputs": [],
   "source": [
    "# Specify where the config file can be found\n",
    "config_file = '../0_config/config.txt'"
   ]
  },
  {
   "cell_type": "code",
   "execution_count": 3,
   "id": "bca5f3bf-49d9-42f2-b6ba-199c85e029d9",
   "metadata": {},
   "outputs": [],
   "source": [
    "# Get the required info from the config file\n",
    "data_path            = cs.read_from_config(config_file,'data_path')\n",
    "geospatial_temp_path = cs.read_from_config(config_file,'geospatial_temp_path')\n",
    "\n",
    "# CAMELS-spat metadata\n",
    "cs_meta_path = cs.read_from_config(config_file,'cs_basin_path')\n",
    "cs_meta_name = cs.read_from_config(config_file,'cs_meta_name')\n",
    "cs_unusable_name = cs.read_from_config(config_file,'cs_unusable_name')\n",
    "\n",
    "# Basin folder\n",
    "cs_basin_folder = cs.read_from_config(config_file, 'cs_basin_path')\n",
    "basins_path = Path(data_path) / cs_basin_folder"
   ]
  },
  {
   "cell_type": "markdown",
   "id": "be55bc8b-b013-45b8-91a7-149e18589495",
   "metadata": {},
   "source": [
    "### Data loading"
   ]
  },
  {
   "cell_type": "code",
   "execution_count": 4,
   "id": "64d87a17-b1ea-4b4e-a0bb-eef09db4acce",
   "metadata": {},
   "outputs": [],
   "source": [
    "# CAMELS-spat metadata file\n",
    "cs_meta_path = Path(data_path) / cs_meta_path\n",
    "cs_meta = pd.read_csv(cs_meta_path / cs_meta_name)"
   ]
  },
  {
   "cell_type": "code",
   "execution_count": 5,
   "id": "3023ac13-b357-4c1e-b245-6c98f2250823",
   "metadata": {},
   "outputs": [],
   "source": [
    "# Open list of unusable stations; Enforce reading IDs as string to keep leading 0's\n",
    "cs_unusable = pd.read_csv(cs_meta_path / cs_unusable_name, dtype={'Station_id': object})"
   ]
  },
  {
   "cell_type": "markdown",
   "id": "b56dd802-2e68-4449-b8d0-67bd4dbb3436",
   "metadata": {},
   "source": [
    "### Find an overview of the data we have"
   ]
  },
  {
   "cell_type": "code",
   "execution_count": 6,
   "id": "0d0d96ef-d1c0-4d4d-9e6f-1aef2165aa56",
   "metadata": {},
   "outputs": [],
   "source": [
    "data_folder = Path(data_path) / geospatial_temp_path\n",
    "data_folders = glob.glob( str(data_folder/'*')) # E.g., geospatial_temp/lai"
   ]
  },
  {
   "cell_type": "code",
   "execution_count": 73,
   "id": "c20136e6-a05b-4e53-89f6-74baf5d2351a",
   "metadata": {},
   "outputs": [],
   "source": [
    "data_files = []\n",
    "for root, dirnames, filenames in os.walk(data_folder):\n",
    "    if filenames:\n",
    "        for file in filenames:\n",
    "            if file.endswith('.tif'):\n",
    "                data_files.append(Path(root + '/' + file))"
   ]
  },
  {
   "cell_type": "markdown",
   "id": "6d0bafa4-7464-4e7b-96ff-0343bcb4951f",
   "metadata": {},
   "source": [
    "### Processing"
   ]
  },
  {
   "cell_type": "code",
   "execution_count": 7,
   "id": "822ae384-63f8-4c57-9626-2dbeb25fd3fc",
   "metadata": {},
   "outputs": [],
   "source": [
    "debug_message = f'\\n!!! CHECK DEBUGGING STATUS: \\n- Testing 1 file \\n- Testing 1 basin'"
   ]
  },
  {
   "cell_type": "code",
   "execution_count": null,
   "id": "abb9312f-898b-49c0-96d1-54c9e913e808",
   "metadata": {},
   "outputs": [
    {
     "name": "stdout",
     "output_type": "stream",
     "text": [
      "\n",
      "!!! CHECK DEBUGGING STATUS: \n",
      "- Testing 1 file \n",
      "- Testing 1 basin\n",
      "Processing GeoTIFFs for CAN_01AD002\n"
     ]
    }
   ],
   "source": [
    "print(debug_message)\n",
    "for ix,row in cs_meta.iterrows():\n",
    "\n",
    "    # DEBUGGING\n",
    "    if ix != 0: continue\n",
    "\n",
    "    # Get shapefile path to determine download coordinates, and forcing destination path\n",
    "    basin_id, shp_lump_path, _, _, _ = cs.prepare_delineation_outputs(cs_meta, ix, basins_path)\n",
    "    print(f'Processing GeoTIFFs for {basin_id}')\n",
    "\n",
    "    # Loop over the files we want to subset\n",
    "    for file in data_files:\n",
    "\n",
    "        # Get the relative path compared to download folder; \n",
    "        # In other words, find which folders we want to create for the basin\n",
    "        relative_path = file.relative_to(data_folder)\n",
    "        des_folder = basins_path / 'basin_data' / basin_id / 'geospatial' / os.path.dirname(relative_path)\n",
    "        \n",
    "        # Subset the file\n",
    "        # 'buffer' adds a small, data-set dependent, buffer around the shapefile to ensure full coverage\n",
    "        cs.subset_geotiff_to_shapefile(file,shp_lump_path,des_folder, buffer=True) "
   ]
  },
  {
   "cell_type": "markdown",
   "id": "295c1892-88c3-4508-b85e-d21f5d494dff",
   "metadata": {},
   "source": [
    "### Functions"
   ]
  },
  {
   "cell_type": "code",
   "execution_count": 53,
   "id": "1c97bdff-19b7-4fd6-a24d-167df3e8d513",
   "metadata": {},
   "outputs": [],
   "source": [
    "import geopandas as gpd\n",
    "import warnings"
   ]
  },
  {
   "cell_type": "code",
   "execution_count": 75,
   "id": "d95558b0-a84b-46fb-8fd8-4da9d37d4eb4",
   "metadata": {},
   "outputs": [],
   "source": [
    "def subset_geotiff_to_shapefile(src_file,src_shape,des_folder,\n",
    "                                buffer=False,\n",
    "                                out_no_data = None):\n",
    "\n",
    "    # Input cleaning\n",
    "    des_folder.mkdir(parents=True, exist_ok=True)\n",
    "    des_file  = str(des_folder / os.path.basename(src_file))\n",
    "    src_file  = str(src_file)\n",
    "    src_shape = str(src_shape)\n",
    "    \n",
    "    # Handle buffering of shapefile, if requested\n",
    "    if buffer:\n",
    "        tmp_shape = src_shape.replace('.shp','_TEMP.shp')\n",
    "    \n",
    "        # Find buffer distance\n",
    "        src_tiff = gdal.Open(src_file, gdal.GA_ReadOnly)\n",
    "        pixel_x  = src_tiff.GetGeoTransform()[1]\n",
    "        pixel_y  = src_tiff.GetGeoTransform()[5]\n",
    "        buffer   = 0.5*(pixel_x**2 + pixel_y**2)**(0.5) # I.e., half the maximum distance from center to edge of pixel\n",
    "        src_tiff = None\n",
    "        \n",
    "        # Temporarily block warnings: \n",
    "        # gpd will tell us that buffering in EPSG:4326 is not accurate - this is fine because we're\n",
    "        # buffering in lat/lon units\n",
    "        with warnings.catch_warnings():\n",
    "            warnings.simplefilter('ignore') \n",
    "    \n",
    "            # Buffer the shapefile\n",
    "            shp = gpd.read_file(src_shape)\n",
    "            shp['geometry'] = shp.buffer(buffer)\n",
    "            shp.to_file(tmp_shape)\n",
    "    else:\n",
    "        # Not using buffered shape, but code below still needs 'tmp_shape' to have a value\n",
    "        tmp_shape = src_shape\n",
    "\n",
    "    # Clip\n",
    "    gdal.Warp(destNameOrDestDS = des_file,\n",
    "              srcDSOrSrcDSTab  = src_file,\n",
    "              cutlineDSName    = tmp_shape, # vector file\n",
    "              cropToCutline    = True, # Select True\n",
    "              copyMetadata     = True, # optional\n",
    "              #dstAlpha         = True, # Dropping the alpha band saves half the file size\n",
    "              dstNodata        = out_no_data,\n",
    "              srcSRS           = 'EPSG:4326',\n",
    "              dstSRS           = 'EPSG:4326',\n",
    "              #resampleAlg      = \"nearestneighbour\"\n",
    "             )\n",
    "    \n",
    "    # Remove buffered shapefile\n",
    "    if buffer:\n",
    "        os.remove(tmp_shape)"
   ]
  },
  {
   "cell_type": "code",
   "execution_count": null,
   "id": "3f55cfdf-538a-4cf3-80cc-05d818917ea7",
   "metadata": {},
   "outputs": [],
   "source": []
  }
 ],
 "metadata": {
  "kernelspec": {
   "display_name": "camels-spat-env",
   "language": "python",
   "name": "camels-spat-env"
  },
  "language_info": {
   "codemirror_mode": {
    "name": "ipython",
    "version": 3
   },
   "file_extension": ".py",
   "mimetype": "text/x-python",
   "name": "python",
   "nbconvert_exporter": "python",
   "pygments_lexer": "ipython3",
   "version": "3.11.6"
  }
 },
 "nbformat": 4,
 "nbformat_minor": 5
}
