{
 "cells": [
  {
   "cell_type": "markdown",
   "id": "eac14cb6-e36c-40ff-af6f-6a97883c94ae",
   "metadata": {},
   "source": [
    "# Download and process WorldClim data into a set of GeoTIFFs at native resolution"
   ]
  },
  {
   "cell_type": "code",
   "execution_count": 1,
   "id": "13b25464-3b95-4b55-a0d7-6478712f3fd1",
   "metadata": {},
   "outputs": [],
   "source": [
    "import os\n",
    "import sys\n",
    "import shutil\n",
    "import zipfile\n",
    "from pathlib import Path\n",
    "sys.path.append(str(Path().absolute().parent))\n",
    "import python_cs_functions as cs"
   ]
  },
  {
   "cell_type": "markdown",
   "id": "1105f8e2-2538-49f0-aa6e-62a49e7792c2",
   "metadata": {},
   "source": [
    "### Config handling                                                                                        "
   ]
  },
  {
   "cell_type": "code",
   "execution_count": 2,
   "id": "68e52698-c146-4983-afb9-28e5db7d4712",
   "metadata": {},
   "outputs": [],
   "source": [
    "# Specify where the config file can be found\n",
    "config_file = '../0_config/config.txt'"
   ]
  },
  {
   "cell_type": "code",
   "execution_count": 12,
   "id": "0ae2150d-cc19-46e1-991a-0796446ed551",
   "metadata": {},
   "outputs": [],
   "source": [
    "# Get the required info from the config file\n",
    "code_path            = cs.read_from_config(config_file,'code_path')\n",
    "data_path            = cs.read_from_config(config_file,'data_path')\n",
    "geospatial_temp_path = cs.read_from_config(config_file,'geospatial_temp_path')\n",
    "climate_path         = cs.read_from_config(config_file,'climate_path')\n",
    "climate_url_file     = cs.read_from_config(config_file,'climate_urls')\n",
    "download_area        = cs.read_from_config(config_file,'geospatial_area')"
   ]
  },
  {
   "cell_type": "markdown",
   "id": "0587e2d9-b3cb-4516-a6ba-c5f90cfc455a",
   "metadata": {},
   "source": [
    "### Download data"
   ]
  },
  {
   "cell_type": "code",
   "execution_count": 7,
   "id": "2d7e0754-65cb-4fde-b2a4-3de4b97251d9",
   "metadata": {},
   "outputs": [],
   "source": [
    "download_folder = Path(data_path) / geospatial_temp_path / climate_path / 'download'"
   ]
  },
  {
   "cell_type": "code",
   "execution_count": 8,
   "id": "68738b91-cf9c-48ac-b669-1944ce7a9132",
   "metadata": {},
   "outputs": [],
   "source": [
    "download_folder.mkdir(parents=True, exist_ok=True)"
   ]
  },
  {
   "cell_type": "code",
   "execution_count": 13,
   "id": "ffd97919-8032-4b25-9dc4-7a58b1b7656b",
   "metadata": {},
   "outputs": [
    {
     "name": "stdout",
     "output_type": "stream",
     "text": [
      "Successfully downloaded https://biogeo.ucdavis.edu/data/worldclim/v2.1/base/wc2.1_30s_tmin.zip\n",
      "\n",
      "Successfully downloaded https://biogeo.ucdavis.edu/data/worldclim/v2.1/base/wc2.1_30s_tmax.zip\n",
      "\n",
      "Successfully downloaded https://biogeo.ucdavis.edu/data/worldclim/v2.1/base/wc2.1_30s_tavg.zip\n",
      "\n",
      "Successfully downloaded https://biogeo.ucdavis.edu/data/worldclim/v2.1/base/wc2.1_30s_prec.zip\n",
      "\n",
      "Successfully downloaded https://biogeo.ucdavis.edu/data/worldclim/v2.1/base/wc2.1_30s_srad.zip\n",
      "\n",
      "Successfully downloaded https://biogeo.ucdavis.edu/data/worldclim/v2.1/base/wc2.1_30s_wind.zip\n",
      "\n",
      "Successfully downloaded https://biogeo.ucdavis.edu/data/worldclim/v2.1/base/wc2.1_30s_vapr.zip\n"
     ]
    }
   ],
   "source": [
    "with open(Path(code_path)/climate_url_file) as url_file:\n",
    "    for url in url_file:\n",
    "        cs.download_url_into_folder(url,download_folder)"
   ]
  },
  {
   "cell_type": "markdown",
   "id": "44e9a17d-772e-4f8b-ba8b-38758c7165eb",
   "metadata": {},
   "source": [
    "### Unzip"
   ]
  },
  {
   "cell_type": "code",
   "execution_count": 14,
   "id": "553ff9d3-873b-48f2-ab50-532b7907a7ea",
   "metadata": {},
   "outputs": [],
   "source": [
    "files = cs.find_files_in_folder(download_folder, '.zip')"
   ]
  },
  {
   "cell_type": "code",
   "execution_count": 16,
   "id": "eb93b898-a75c-4246-8751-fde946b28cd7",
   "metadata": {},
   "outputs": [],
   "source": [
    "for file in files:\n",
    "    with zipfile.ZipFile(download_folder/file, 'r') as zip_ref:\n",
    "        zip_ref.extractall(download_folder)\n",
    "    os.remove(download_folder/file)"
   ]
  },
  {
   "cell_type": "markdown",
   "id": "c2e1332f-8e6f-454a-94e9-caa501f110d1",
   "metadata": {},
   "source": [
    "### Subset files to domain"
   ]
  },
  {
   "cell_type": "code",
   "execution_count": 19,
   "id": "9e2c3894-2888-4bde-abdd-447ec08d2777",
   "metadata": {},
   "outputs": [],
   "source": [
    "raw_folder = Path(data_path) / geospatial_temp_path / climate_path / 'raw'"
   ]
  },
  {
   "cell_type": "code",
   "execution_count": 20,
   "id": "a3470a1d-981a-4259-9b0a-a0b1d59531e3",
   "metadata": {},
   "outputs": [],
   "source": [
    "raw_folder.mkdir(parents=True, exist_ok=True)"
   ]
  },
  {
   "cell_type": "code",
   "execution_count": 21,
   "id": "80b0b866-2353-4d7d-bc30-3dd417a953c2",
   "metadata": {},
   "outputs": [],
   "source": [
    "# Convert subsetting area into a usable GDAL setting\n",
    "# subset_area = [lon_min, lon_max, lat_min, lat_max]\n",
    "# GDAL window = [ulx, uly, lrx, lry]; [upper left x, upper left y, lower right x, lower right y]\n",
    "# Mapping:\n",
    "#   ulx = lon_min = subset_area[0]\n",
    "#   uly = lat_max = subset_area[3]\n",
    "#   lrx = lon_max = subset_area[1]\n",
    "#   lry = lat_min = subset_area[2]\n",
    "subset_coor = download_area.split(',')\n",
    "window = [subset_coor[0], subset_coor[3], subset_coor[1], subset_coor[2]]"
   ]
  },
  {
   "cell_type": "code",
   "execution_count": 17,
   "id": "141724e3-f8f4-4bf6-acd8-ccb7b2185985",
   "metadata": {},
   "outputs": [],
   "source": [
    "files = cs.find_files_in_folder(download_folder, '.tif')"
   ]
  },
  {
   "cell_type": "code",
   "execution_count": 25,
   "id": "c4f0c61f-df62-4476-8461-28b5fa0d0a8e",
   "metadata": {},
   "outputs": [],
   "source": [
    "for src_file in files:\n",
    "\n",
    "    # Ensure we move the files into folders for each variable\n",
    "    var = os.path.basename(src_file).split('_')[2] \n",
    "    des_folder = raw_folder / var\n",
    "    des_folder.mkdir(parents=True, exist_ok=True)\n",
    "\n",
    "    # Subset the file\n",
    "    des_file = des_folder/os.path.basename(src_file)\n",
    "    cs.subset_tif(src_file,des_file,window)"
   ]
  },
  {
   "cell_type": "markdown",
   "id": "2299b64c-43dc-4064-bea1-fe5360f4709a",
   "metadata": {},
   "source": [
    "### Delete the downloads to save space"
   ]
  },
  {
   "cell_type": "code",
   "execution_count": 26,
   "id": "ed8892a2-e82f-47d5-8eca-72a6b1ec1107",
   "metadata": {},
   "outputs": [],
   "source": [
    "if os.path.isdir(download_folder): \n",
    "    shutil.rmtree(download_folder)"
   ]
  },
  {
   "cell_type": "code",
   "execution_count": null,
   "id": "9d8ced61-08fb-408b-8f23-936b83b03a26",
   "metadata": {},
   "outputs": [],
   "source": []
  }
 ],
 "metadata": {
  "kernelspec": {
   "display_name": "camels-spat-env",
   "language": "python",
   "name": "camels-spat-env"
  },
  "language_info": {
   "codemirror_mode": {
    "name": "ipython",
    "version": 3
   },
   "file_extension": ".py",
   "mimetype": "text/x-python",
   "name": "python",
   "nbconvert_exporter": "python",
   "pygments_lexer": "ipython3",
   "version": "3.8.2"
  }
 },
 "nbformat": 4,
 "nbformat_minor": 5
}
