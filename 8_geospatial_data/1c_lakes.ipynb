{
 "cells": [
  {
   "cell_type": "markdown",
   "id": "2d79a4a7-526a-486f-8e35-c254732e4438",
   "metadata": {},
   "source": [
    "# Download and process HydroLAKES"
   ]
  },
  {
   "cell_type": "code",
   "execution_count": 28,
   "id": "a6d639c2-cf39-4988-a7b3-19fef8576e4b",
   "metadata": {},
   "outputs": [],
   "source": [
    "import geopandas as gpd\n",
    "import os\n",
    "import sys\n",
    "import shutil\n",
    "import zipfile\n",
    "from pathlib import Path\n",
    "sys.path.append(str(Path().absolute().parent))\n",
    "import python_cs_functions as cs"
   ]
  },
  {
   "cell_type": "markdown",
   "id": "6e48100e-a799-47f5-84f2-bdbdb0553f11",
   "metadata": {},
   "source": [
    "## Config handling"
   ]
  },
  {
   "cell_type": "code",
   "execution_count": 2,
   "id": "2249a1fb-aec5-4a6e-83f7-8cb486063212",
   "metadata": {},
   "outputs": [],
   "source": [
    "# Specify where the config file can be found\n",
    "config_file = '../0_config/config.txt'"
   ]
  },
  {
   "cell_type": "code",
   "execution_count": 8,
   "id": "ff72aaa5-02e8-47b5-9250-e69c2f57a6a6",
   "metadata": {},
   "outputs": [],
   "source": [
    "# Get the required info from the config file\n",
    "data_path            = cs.read_from_config(config_file,'data_path')\n",
    "geospatial_temp_path = cs.read_from_config(config_file,'geospatial_temp_path')\n",
    "lake_path            = cs.read_from_config(config_file,'lake_path')\n",
    "lake_url             = cs.read_from_config(config_file,'lake_url')"
   ]
  },
  {
   "cell_type": "markdown",
   "id": "52a8021f-c4fa-4d49-966a-de27b03286c7",
   "metadata": {},
   "source": [
    "### Download data"
   ]
  },
  {
   "cell_type": "code",
   "execution_count": 9,
   "id": "b1c7e189-75e7-4af5-af88-4fa43d076676",
   "metadata": {},
   "outputs": [],
   "source": [
    "download_folder = Path(data_path) / geospatial_temp_path / 'hydrolakes' / 'download'"
   ]
  },
  {
   "cell_type": "code",
   "execution_count": 10,
   "id": "6d0aeb41-edf0-4220-87e8-85b7f875f38c",
   "metadata": {},
   "outputs": [],
   "source": [
    "download_folder.mkdir(parents=True, exist_ok=True)"
   ]
  },
  {
   "cell_type": "code",
   "execution_count": 11,
   "id": "eca95987-ea26-4204-9910-f86b96ef6b7a",
   "metadata": {},
   "outputs": [
    {
     "name": "stdout",
     "output_type": "stream",
     "text": [
      "Successfully downloaded https://data.hydrosheds.org/file/hydrolakes/HydroLAKES_polys_v10_shp.zip\n"
     ]
    }
   ],
   "source": [
    "cs.download_url_into_folder(lake_url,download_folder)"
   ]
  },
  {
   "cell_type": "markdown",
   "id": "6fd274d8-1a85-4d4a-8f1e-03fa9e7b7cce",
   "metadata": {},
   "source": [
    "### Unzip"
   ]
  },
  {
   "cell_type": "code",
   "execution_count": 45,
   "id": "851aab34-5e0f-42c8-b6df-fbc93993cb67",
   "metadata": {},
   "outputs": [],
   "source": [
    "file = download_folder / os.path.basename(lake_url)"
   ]
  },
  {
   "cell_type": "code",
   "execution_count": 47,
   "id": "4290606c-17e3-4d8f-a473-c97de88889d3",
   "metadata": {},
   "outputs": [],
   "source": [
    "with zipfile.ZipFile(file,'r') as zip_ref:\n",
    "    #zip_ref.extractall(download_folder)\n",
    "    # Create a list to store the extracted file paths\n",
    "    extracted_files = []\n",
    "\n",
    "    # Extract all the contents of the zip file to the specified directory\n",
    "    for file_info in zip_ref.infolist():\n",
    "        zip_ref.extract(file_info, download_folder)\n",
    "        extracted_file_path = os.path.join(download_folder, file_info.filename)\n",
    "        extracted_files.append(extracted_file_path)"
   ]
  },
  {
   "cell_type": "markdown",
   "id": "64ebfbd2-7371-4085-a6c1-66c99524bb77",
   "metadata": {},
   "source": [
    "### Subset to area of interest"
   ]
  },
  {
   "cell_type": "code",
   "execution_count": 53,
   "id": "2fb397a2-460b-4f1c-addb-7eabd63195e9",
   "metadata": {},
   "outputs": [],
   "source": [
    "raw_folder = Path(data_path) / geospatial_temp_path / 'hydrolakes' / 'raw'"
   ]
  },
  {
   "cell_type": "code",
   "execution_count": 54,
   "id": "da8c838f-bd13-4bcc-9404-218679b03dc7",
   "metadata": {},
   "outputs": [],
   "source": [
    "raw_folder.mkdir(parents=True, exist_ok=True)"
   ]
  },
  {
   "cell_type": "code",
   "execution_count": 51,
   "id": "c9f166db-4dfc-4911-b29f-b5d702f0b2cb",
   "metadata": {},
   "outputs": [],
   "source": [
    "shp_file = [file for file in extracted_files if file.endswith('.shp')]"
   ]
  },
  {
   "cell_type": "code",
   "execution_count": 40,
   "id": "9b237e8d-c3ee-415b-b7a0-6dc090e5175e",
   "metadata": {},
   "outputs": [],
   "source": [
    "shp = gpd.read_file(shp_file[0])"
   ]
  },
  {
   "cell_type": "code",
   "execution_count": 42,
   "id": "6ae3468d-4d6c-4aba-a08a-a78956f1efcf",
   "metadata": {},
   "outputs": [],
   "source": [
    "shp_na = shp[shp['Continent'] == 'North America']"
   ]
  },
  {
   "cell_type": "code",
   "execution_count": 57,
   "id": "817e45b5-526f-43a8-98db-86eaa8671b78",
   "metadata": {},
   "outputs": [],
   "source": [
    "file_name = os.path.basename(shp_file[0]).replace('.shp','_NorthAmerica.shp')\n",
    "shp_na.to_file(raw_folder/file_name)"
   ]
  },
  {
   "cell_type": "markdown",
   "id": "b94d40ca-0b96-4991-8c04-777174500c74",
   "metadata": {},
   "source": [
    "### Remove temporary data to save space"
   ]
  },
  {
   "cell_type": "code",
   "execution_count": 58,
   "id": "58e00cdf-96b6-43ba-8773-ce7f5987270b",
   "metadata": {},
   "outputs": [],
   "source": [
    "if os.path.isdir(download_folder): \n",
    "    shutil.rmtree(download_folder)"
   ]
  },
  {
   "cell_type": "code",
   "execution_count": null,
   "id": "7cad4042-113c-408d-9a05-5f0f436625b0",
   "metadata": {},
   "outputs": [],
   "source": []
  }
 ],
 "metadata": {
  "kernelspec": {
   "display_name": "camels-spat-env",
   "language": "python",
   "name": "camels-spat-env"
  },
  "language_info": {
   "codemirror_mode": {
    "name": "ipython",
    "version": 3
   },
   "file_extension": ".py",
   "mimetype": "text/x-python",
   "name": "python",
   "nbconvert_exporter": "python",
   "pygments_lexer": "ipython3",
   "version": "3.8.2"
  }
 },
 "nbformat": 4,
 "nbformat_minor": 5
}
