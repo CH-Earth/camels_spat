{
 "cells": [
  {
   "cell_type": "markdown",
   "id": "eac14cb6-e36c-40ff-af6f-6a97883c94ae",
   "metadata": {},
   "source": [
    "# Download and process DEM into a single geotiff at native resolution"
   ]
  },
  {
   "cell_type": "code",
   "execution_count": 61,
   "id": "13b25464-3b95-4b55-a0d7-6478712f3fd1",
   "metadata": {},
   "outputs": [],
   "source": [
    "import os\n",
    "import sys\n",
    "import shutil\n",
    "import tarfile\n",
    "from pathlib import Path\n",
    "sys.path.append(str(Path().absolute().parent))\n",
    "import python_cs_functions as cs"
   ]
  },
  {
   "cell_type": "markdown",
   "id": "1105f8e2-2538-49f0-aa6e-62a49e7792c2",
   "metadata": {},
   "source": [
    "### Config handling                                                                                        "
   ]
  },
  {
   "cell_type": "code",
   "execution_count": 2,
   "id": "68e52698-c146-4983-afb9-28e5db7d4712",
   "metadata": {},
   "outputs": [],
   "source": [
    "# Specify where the config file can be found\n",
    "config_file = '../0_config/config.txt'"
   ]
  },
  {
   "cell_type": "code",
   "execution_count": 38,
   "id": "0ae2150d-cc19-46e1-991a-0796446ed551",
   "metadata": {},
   "outputs": [],
   "source": [
    "# Get the required info from the config file\n",
    "data_path            = cs.read_from_config(config_file,'data_path')\n",
    "geospatial_temp_path = cs.read_from_config(config_file,'geospatial_temp_path')\n",
    "dem_path             = cs.read_from_config(config_file,'dem_path')\n",
    "merit_url            = cs.read_from_config(config_file,'dem_url')\n",
    "download_area        = cs.read_from_config(config_file,'geospatial_area')"
   ]
  },
  {
   "cell_type": "markdown",
   "id": "10ea2ac7-7bdb-4574-bbf4-3d6dbc26f361",
   "metadata": {},
   "source": [
    "### Convert geospatial coordinates to specific download coordinates for this data product"
   ]
  },
  {
   "cell_type": "code",
   "execution_count": 27,
   "id": "fffe1307-35f2-4d82-bc14-16e99469151f",
   "metadata": {},
   "outputs": [],
   "source": [
    "download_coordinates = geospatial_coordinates_to_download_coordinates(download_area, 'merit')"
   ]
  },
  {
   "cell_type": "markdown",
   "id": "998d5126-0a72-4499-9add-1daf8d8db4cf",
   "metadata": {},
   "source": [
    "### Download data"
   ]
  },
  {
   "cell_type": "code",
   "execution_count": 29,
   "id": "2559ea0a-813a-43f9-adf3-daf6405559a5",
   "metadata": {},
   "outputs": [],
   "source": [
    "usr,pwd = cs.read_merit_credentials()"
   ]
  },
  {
   "cell_type": "code",
   "execution_count": 30,
   "id": "ef1c5752-601e-45be-805e-6a864eea5a39",
   "metadata": {},
   "outputs": [],
   "source": [
    "merit_lon,merit_lat = cs.convert_coordinates_to_merit_download_lists(download_coordinates)"
   ]
  },
  {
   "cell_type": "code",
   "execution_count": 34,
   "id": "e9133715-827b-4950-8e52-3e9c3ee381c9",
   "metadata": {},
   "outputs": [],
   "source": [
    "download_folder = Path(data_path) / geospatial_temp_path / 'merit' / 'download'"
   ]
  },
  {
   "cell_type": "code",
   "execution_count": 36,
   "id": "66258c99-33ce-4c45-be8b-d1aed74982fa",
   "metadata": {},
   "outputs": [],
   "source": [
    "download_folder.mkdir(parents=True, exist_ok=True)"
   ]
  },
  {
   "cell_type": "code",
   "execution_count": 39,
   "id": "b18b60bd-eca3-4bb8-a4cb-050585838f1b",
   "metadata": {},
   "outputs": [
    {
     "name": "stdout",
     "output_type": "stream",
     "text": [
      "Successfully downloaded http://hydro.iis.u-tokyo.ac.jp/~yamadai/MERIT_Hydro/distribute/v1.0/elv_n00w180.tar\n",
      "Successfully downloaded http://hydro.iis.u-tokyo.ac.jp/~yamadai/MERIT_Hydro/distribute/v1.0/elv_n30w180.tar\n",
      "Successfully downloaded http://hydro.iis.u-tokyo.ac.jp/~yamadai/MERIT_Hydro/distribute/v1.0/elv_n60w180.tar\n",
      "WARNING: download_merit_hydro_grid: MERIT Hydro data does not contain data for elv_n00w150.tar. Aborting download.\n",
      "Successfully downloaded http://hydro.iis.u-tokyo.ac.jp/~yamadai/MERIT_Hydro/distribute/v1.0/elv_n30w150.tar\n",
      "Successfully downloaded http://hydro.iis.u-tokyo.ac.jp/~yamadai/MERIT_Hydro/distribute/v1.0/elv_n60w150.tar\n",
      "Successfully downloaded http://hydro.iis.u-tokyo.ac.jp/~yamadai/MERIT_Hydro/distribute/v1.0/elv_n00w120.tar\n",
      "Successfully downloaded http://hydro.iis.u-tokyo.ac.jp/~yamadai/MERIT_Hydro/distribute/v1.0/elv_n30w120.tar\n",
      "Successfully downloaded http://hydro.iis.u-tokyo.ac.jp/~yamadai/MERIT_Hydro/distribute/v1.0/elv_n60w120.tar\n",
      "Successfully downloaded http://hydro.iis.u-tokyo.ac.jp/~yamadai/MERIT_Hydro/distribute/v1.0/elv_n00w090.tar\n",
      "Successfully downloaded http://hydro.iis.u-tokyo.ac.jp/~yamadai/MERIT_Hydro/distribute/v1.0/elv_n30w090.tar\n",
      "Successfully downloaded http://hydro.iis.u-tokyo.ac.jp/~yamadai/MERIT_Hydro/distribute/v1.0/elv_n60w090.tar\n",
      "Successfully downloaded http://hydro.iis.u-tokyo.ac.jp/~yamadai/MERIT_Hydro/distribute/v1.0/elv_n00w060.tar\n",
      "Successfully downloaded http://hydro.iis.u-tokyo.ac.jp/~yamadai/MERIT_Hydro/distribute/v1.0/elv_n30w060.tar\n",
      "Successfully downloaded http://hydro.iis.u-tokyo.ac.jp/~yamadai/MERIT_Hydro/distribute/v1.0/elv_n60w060.tar\n"
     ]
    }
   ],
   "source": [
    "for dl_lon in merit_lon:\n",
    "    for dl_lat in merit_lat:\n",
    "        file_url = merit_url.format(dl_lat,dl_lon) # Replace placeholder values in url with download coordinates\n",
    "        cs.download_merit_hydro_grid(file_url, usr, pwd, download_folder)"
   ]
  },
  {
   "cell_type": "markdown",
   "id": "86e0f3ec-7013-4989-8d35-a8f7eeafa105",
   "metadata": {},
   "source": [
    "### Unzip"
   ]
  },
  {
   "cell_type": "code",
   "execution_count": 41,
   "id": "5a178831-e7a0-44bd-92c8-3070351872a9",
   "metadata": {},
   "outputs": [],
   "source": [
    "# Find the file names\n",
    "files = [ f for f in os.listdir(download_folder) if os.path.isfile(\n",
    "            os.path.join(download_folder,f))]"
   ]
  },
  {
   "cell_type": "code",
   "execution_count": 43,
   "id": "4e56608a-45e4-4bec-a4cc-9355de9d2e08",
   "metadata": {},
   "outputs": [],
   "source": [
    "for file in files:\n",
    "    tar_file = tarfile.open(download_folder/file)\n",
    "    tar_file.extractall(download_folder)\n",
    "    tar_file.close()\n",
    "    os.remove(download_folder/file)"
   ]
  },
  {
   "cell_type": "markdown",
   "id": "d563d2b4-e0fc-4ff3-8a85-3c4009f4d94e",
   "metadata": {},
   "source": [
    "### Merge"
   ]
  },
  {
   "cell_type": "code",
   "execution_count": 44,
   "id": "c663846e-6d8e-4c5e-8eff-f17e0a1d7349",
   "metadata": {},
   "outputs": [],
   "source": [
    "# Define the output file\n",
    "merged_file = 'merit_hydro_elv.tif'"
   ]
  },
  {
   "cell_type": "code",
   "execution_count": 45,
   "id": "b783434b-d5f2-458c-af57-0105f931b079",
   "metadata": {},
   "outputs": [],
   "source": [
    "# Find the file names\n",
    "all_files = []\n",
    "for dir_path, dir_names, file_names in os.walk(download_folder):\n",
    "    for file_name in file_names:\n",
    "        if file_name.endswith('.tif'): # ensure we don't accidentally get .aux files from QGIS or something similar\n",
    "            all_files.append(os.path.join(dir_path,file_name))"
   ]
  },
  {
   "cell_type": "code",
   "execution_count": 47,
   "id": "b1efa46e-fad1-4801-955b-8e866eec26d1",
   "metadata": {},
   "outputs": [],
   "source": [
    "merged_folder = Path(data_path) / geospatial_temp_path / 'merit' / 'raw'\n",
    "merged_folder.mkdir(parents=True, exist_ok=True)"
   ]
  },
  {
   "cell_type": "code",
   "execution_count": 54,
   "id": "a0aeacbb-ffdd-4e55-bae6-28daa6f6b5d5",
   "metadata": {},
   "outputs": [],
   "source": [
    "# Convert subsetting area into a usable GDAL setting\n",
    "# subset_area = [lon_min, lon_max, lat_min, lat_max]\n",
    "# GDAL window = [ulx, uly, lrx, lry]; [upper left x, upper left y, lower right x, lower right y]\n",
    "# Mapping:\n",
    "#   ulx = lon_min = subset_area[0]\n",
    "#   uly = lat_max = subset_area[3]\n",
    "#   lrx = lon_max = subset_area[1]\n",
    "#   lry = lat_min = subset_area[2]\n",
    "subset_coor = download_area.split(',')\n",
    "window = [subset_coor[0], subset_coor[3], subset_coor[1], subset_coor[2]]"
   ]
  },
  {
   "cell_type": "code",
   "execution_count": 56,
   "id": "3d27939e-4bd1-41aa-9d7e-6a411e173b19",
   "metadata": {},
   "outputs": [],
   "source": [
    "cs.merge_merit_downloads_into_area_of_interest(all_files, str(merged_folder/merged_file), window)"
   ]
  },
  {
   "cell_type": "markdown",
   "id": "d6761a7e-49ea-467b-91c5-75878b4ae5a7",
   "metadata": {},
   "source": [
    "### Delete the individual GeoTIFF files to save space"
   ]
  },
  {
   "cell_type": "code",
   "execution_count": 63,
   "id": "86f06911-257d-4474-a1f9-a482ad862989",
   "metadata": {},
   "outputs": [],
   "source": [
    "if os.path.isdir(download_folder): \n",
    "    shutil.rmtree(download_folder)"
   ]
  },
  {
   "cell_type": "code",
   "execution_count": null,
   "id": "4242e1a0-ff16-4635-b254-018517f5d8e6",
   "metadata": {},
   "outputs": [],
   "source": []
  }
 ],
 "metadata": {
  "kernelspec": {
   "display_name": "camels-spat-env",
   "language": "python",
   "name": "camels-spat-env"
  },
  "language_info": {
   "codemirror_mode": {
    "name": "ipython",
    "version": 3
   },
   "file_extension": ".py",
   "mimetype": "text/x-python",
   "name": "python",
   "nbconvert_exporter": "python",
   "pygments_lexer": "ipython3",
   "version": "3.8.2"
  }
 },
 "nbformat": 4,
 "nbformat_minor": 5
}
