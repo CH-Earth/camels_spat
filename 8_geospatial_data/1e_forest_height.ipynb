{
 "cells": [
  {
   "cell_type": "markdown",
   "id": "eac14cb6-e36c-40ff-af6f-6a97883c94ae",
   "metadata": {},
   "source": [
    "# Download and process Forest Extent and Height Change, 2000-2020 data into a single geotiff at native resolution"
   ]
  },
  {
   "cell_type": "code",
   "execution_count": 1,
   "id": "13b25464-3b95-4b55-a0d7-6478712f3fd1",
   "metadata": {},
   "outputs": [],
   "source": [
    "import os\n",
    "import sys\n",
    "import shutil\n",
    "import tarfile\n",
    "from pathlib import Path\n",
    "sys.path.append(str(Path().absolute().parent))\n",
    "import python_cs_functions as cs"
   ]
  },
  {
   "cell_type": "markdown",
   "id": "1105f8e2-2538-49f0-aa6e-62a49e7792c2",
   "metadata": {},
   "source": [
    "### Config handling                                                                                        "
   ]
  },
  {
   "cell_type": "code",
   "execution_count": 2,
   "id": "68e52698-c146-4983-afb9-28e5db7d4712",
   "metadata": {},
   "outputs": [],
   "source": [
    "# Specify where the config file can be found\n",
    "config_file = '../0_config/config.txt'"
   ]
  },
  {
   "cell_type": "code",
   "execution_count": 13,
   "id": "0ae2150d-cc19-46e1-991a-0796446ed551",
   "metadata": {},
   "outputs": [],
   "source": [
    "# Get the required info from the config file\n",
    "data_path            = cs.read_from_config(config_file,'data_path')\n",
    "geospatial_temp_path = cs.read_from_config(config_file,'geospatial_temp_path')\n",
    "forest_path          = cs.read_from_config(config_file,'forest_path')\n",
    "forest_2000_url      = cs.read_from_config(config_file,'forest_2000_url')\n",
    "forest_2020_url      = cs.read_from_config(config_file,'forest_2020_url')\n",
    "download_area        = cs.read_from_config(config_file,'geospatial_area')"
   ]
  },
  {
   "cell_type": "markdown",
   "id": "10ea2ac7-7bdb-4574-bbf4-3d6dbc26f361",
   "metadata": {},
   "source": [
    "### Convert geospatial coordinates to specific download coordinates for this data product"
   ]
  },
  {
   "cell_type": "code",
   "execution_count": 4,
   "id": "fffe1307-35f2-4d82-bc14-16e99469151f",
   "metadata": {},
   "outputs": [
    {
     "name": "stdout",
     "output_type": "stream",
     "text": [
      "Returning coordinates as type <class 'str'> for use with glclu2019 download code.\n"
     ]
    }
   ],
   "source": [
    "download_coordinates = cs.geospatial_coordinates_to_download_coordinates(download_area, 'glclu2019')"
   ]
  },
  {
   "cell_type": "markdown",
   "id": "998d5126-0a72-4499-9add-1daf8d8db4cf",
   "metadata": {},
   "source": [
    "### Download data"
   ]
  },
  {
   "cell_type": "code",
   "execution_count": 6,
   "id": "ef1c5752-601e-45be-805e-6a864eea5a39",
   "metadata": {},
   "outputs": [],
   "source": [
    "forest_lon,forest_lat = cs.convert_coordinates_to_glclu2019_download_lists(download_coordinates)"
   ]
  },
  {
   "cell_type": "code",
   "execution_count": 7,
   "id": "e9133715-827b-4950-8e52-3e9c3ee381c9",
   "metadata": {},
   "outputs": [],
   "source": [
    "download_folder_2000 = Path(data_path) / geospatial_temp_path / 'forest_height' / 'download' / '2000'\n",
    "download_folder_2020 = Path(data_path) / geospatial_temp_path / 'forest_height' / 'download' / '2020'"
   ]
  },
  {
   "cell_type": "code",
   "execution_count": 8,
   "id": "66258c99-33ce-4c45-be8b-d1aed74982fa",
   "metadata": {},
   "outputs": [],
   "source": [
    "download_folder_2000.mkdir(parents=True, exist_ok=True)\n",
    "download_folder_2020.mkdir(parents=True, exist_ok=True)"
   ]
  },
  {
   "cell_type": "code",
   "execution_count": 14,
   "id": "06938afb-9ecb-4427-8626-51db13839945",
   "metadata": {},
   "outputs": [
    {
     "name": "stdout",
     "output_type": "stream",
     "text": [
      "WARNING: download_glclu2019_grid: Global Land Cover Land Use data does not contain data for 2000_10N_180W.tif. Aborting download.\n",
      "WARNING: download_glclu2019_grid: Global Land Cover Land Use data does not contain data for 2020_10N_180W.tif. Aborting download.\n",
      "WARNING: download_glclu2019_grid: Global Land Cover Land Use data does not contain data for 2000_20N_180W.tif. Aborting download.\n",
      "WARNING: download_glclu2019_grid: Global Land Cover Land Use data does not contain data for 2020_20N_180W.tif. Aborting download.\n",
      "WARNING: download_glclu2019_grid: Global Land Cover Land Use data does not contain data for 2000_30N_180W.tif. Aborting download.\n",
      "WARNING: download_glclu2019_grid: Global Land Cover Land Use data does not contain data for 2020_30N_180W.tif. Aborting download.\n",
      "WARNING: download_glclu2019_grid: Global Land Cover Land Use data does not contain data for 2000_40N_180W.tif. Aborting download.\n",
      "WARNING: download_glclu2019_grid: Global Land Cover Land Use data does not contain data for 2020_40N_180W.tif. Aborting download.\n",
      "WARNING: download_glclu2019_grid: Global Land Cover Land Use data does not contain data for 2000_50N_180W.tif. Aborting download.\n",
      "WARNING: download_glclu2019_grid: Global Land Cover Land Use data does not contain data for 2020_50N_180W.tif. Aborting download.\n",
      "Successfully downloaded https://glad.umd.edu/users/Potapov/GLCLUC2020/Forest_height_2000/2000_60N_180W.tif\n",
      "Successfully downloaded https://glad.umd.edu/users/Potapov/GLCLUC2020/Forest_height_2020/2020_60N_180W.tif\n",
      "WARNING: download_glclu2019_grid: Global Land Cover Land Use data does not contain data for 2000_70N_180W.tif. Aborting download.\n",
      "WARNING: download_glclu2019_grid: Global Land Cover Land Use data does not contain data for 2020_70N_180W.tif. Aborting download.\n",
      "WARNING: download_glclu2019_grid: Global Land Cover Land Use data does not contain data for 2000_80N_180W.tif. Aborting download.\n",
      "WARNING: download_glclu2019_grid: Global Land Cover Land Use data does not contain data for 2020_80N_180W.tif. Aborting download.\n",
      "WARNING: download_glclu2019_grid: Global Land Cover Land Use data does not contain data for 2000_10N_170W.tif. Aborting download.\n",
      "WARNING: download_glclu2019_grid: Global Land Cover Land Use data does not contain data for 2020_10N_170W.tif. Aborting download.\n",
      "WARNING: download_glclu2019_grid: Global Land Cover Land Use data does not contain data for 2000_20N_170W.tif. Aborting download.\n",
      "WARNING: download_glclu2019_grid: Global Land Cover Land Use data does not contain data for 2020_20N_170W.tif. Aborting download.\n",
      "Successfully downloaded https://glad.umd.edu/users/Potapov/GLCLUC2020/Forest_height_2000/2000_30N_170W.tif\n",
      "Successfully downloaded https://glad.umd.edu/users/Potapov/GLCLUC2020/Forest_height_2020/2020_30N_170W.tif\n",
      "WARNING: download_glclu2019_grid: Global Land Cover Land Use data does not contain data for 2000_40N_170W.tif. Aborting download.\n",
      "WARNING: download_glclu2019_grid: Global Land Cover Land Use data does not contain data for 2020_40N_170W.tif. Aborting download.\n",
      "WARNING: download_glclu2019_grid: Global Land Cover Land Use data does not contain data for 2000_50N_170W.tif. Aborting download.\n",
      "WARNING: download_glclu2019_grid: Global Land Cover Land Use data does not contain data for 2020_50N_170W.tif. Aborting download.\n",
      "Successfully downloaded https://glad.umd.edu/users/Potapov/GLCLUC2020/Forest_height_2000/2000_60N_170W.tif\n",
      "Successfully downloaded https://glad.umd.edu/users/Potapov/GLCLUC2020/Forest_height_2020/2020_60N_170W.tif\n",
      "Successfully downloaded https://glad.umd.edu/users/Potapov/GLCLUC2020/Forest_height_2000/2000_70N_170W.tif\n",
      "Successfully downloaded https://glad.umd.edu/users/Potapov/GLCLUC2020/Forest_height_2020/2020_70N_170W.tif\n",
      "Successfully downloaded https://glad.umd.edu/users/Potapov/GLCLUC2020/Forest_height_2000/2000_80N_170W.tif\n",
      "Successfully downloaded https://glad.umd.edu/users/Potapov/GLCLUC2020/Forest_height_2020/2020_80N_170W.tif\n",
      "WARNING: download_glclu2019_grid: Global Land Cover Land Use data does not contain data for 2000_10N_160W.tif. Aborting download.\n",
      "WARNING: download_glclu2019_grid: Global Land Cover Land Use data does not contain data for 2020_10N_160W.tif. Aborting download.\n",
      "Successfully downloaded https://glad.umd.edu/users/Potapov/GLCLUC2020/Forest_height_2000/2000_20N_160W.tif\n",
      "Successfully downloaded https://glad.umd.edu/users/Potapov/GLCLUC2020/Forest_height_2020/2020_20N_160W.tif\n",
      "Successfully downloaded https://glad.umd.edu/users/Potapov/GLCLUC2020/Forest_height_2000/2000_30N_160W.tif\n",
      "Successfully downloaded https://glad.umd.edu/users/Potapov/GLCLUC2020/Forest_height_2020/2020_30N_160W.tif\n",
      "WARNING: download_glclu2019_grid: Global Land Cover Land Use data does not contain data for 2000_40N_160W.tif. Aborting download.\n",
      "WARNING: download_glclu2019_grid: Global Land Cover Land Use data does not contain data for 2020_40N_160W.tif. Aborting download.\n",
      "WARNING: download_glclu2019_grid: Global Land Cover Land Use data does not contain data for 2000_50N_160W.tif. Aborting download.\n",
      "WARNING: download_glclu2019_grid: Global Land Cover Land Use data does not contain data for 2020_50N_160W.tif. Aborting download.\n",
      "Successfully downloaded https://glad.umd.edu/users/Potapov/GLCLUC2020/Forest_height_2000/2000_60N_160W.tif\n",
      "Successfully downloaded https://glad.umd.edu/users/Potapov/GLCLUC2020/Forest_height_2020/2020_60N_160W.tif\n",
      "Successfully downloaded https://glad.umd.edu/users/Potapov/GLCLUC2020/Forest_height_2000/2000_70N_160W.tif\n",
      "Successfully downloaded https://glad.umd.edu/users/Potapov/GLCLUC2020/Forest_height_2020/2020_70N_160W.tif\n",
      "Successfully downloaded https://glad.umd.edu/users/Potapov/GLCLUC2020/Forest_height_2000/2000_80N_160W.tif\n",
      "Successfully downloaded https://glad.umd.edu/users/Potapov/GLCLUC2020/Forest_height_2020/2020_80N_160W.tif\n",
      "WARNING: download_glclu2019_grid: Global Land Cover Land Use data does not contain data for 2000_10N_150W.tif. Aborting download.\n",
      "WARNING: download_glclu2019_grid: Global Land Cover Land Use data does not contain data for 2020_10N_150W.tif. Aborting download.\n",
      "WARNING: download_glclu2019_grid: Global Land Cover Land Use data does not contain data for 2000_20N_150W.tif. Aborting download.\n",
      "WARNING: download_glclu2019_grid: Global Land Cover Land Use data does not contain data for 2020_20N_150W.tif. Aborting download.\n",
      "WARNING: download_glclu2019_grid: Global Land Cover Land Use data does not contain data for 2000_30N_150W.tif. Aborting download.\n",
      "WARNING: download_glclu2019_grid: Global Land Cover Land Use data does not contain data for 2020_30N_150W.tif. Aborting download.\n",
      "WARNING: download_glclu2019_grid: Global Land Cover Land Use data does not contain data for 2000_40N_150W.tif. Aborting download.\n",
      "WARNING: download_glclu2019_grid: Global Land Cover Land Use data does not contain data for 2020_40N_150W.tif. Aborting download.\n",
      "WARNING: download_glclu2019_grid: Global Land Cover Land Use data does not contain data for 2000_50N_150W.tif. Aborting download.\n",
      "WARNING: download_glclu2019_grid: Global Land Cover Land Use data does not contain data for 2020_50N_150W.tif. Aborting download.\n",
      "Successfully downloaded https://glad.umd.edu/users/Potapov/GLCLUC2020/Forest_height_2000/2000_60N_150W.tif\n",
      "Successfully downloaded https://glad.umd.edu/users/Potapov/GLCLUC2020/Forest_height_2020/2020_60N_150W.tif\n",
      "Successfully downloaded https://glad.umd.edu/users/Potapov/GLCLUC2020/Forest_height_2000/2000_70N_150W.tif\n",
      "Successfully downloaded https://glad.umd.edu/users/Potapov/GLCLUC2020/Forest_height_2020/2020_70N_150W.tif\n",
      "Successfully downloaded https://glad.umd.edu/users/Potapov/GLCLUC2020/Forest_height_2000/2000_80N_150W.tif\n",
      "Successfully downloaded https://glad.umd.edu/users/Potapov/GLCLUC2020/Forest_height_2020/2020_80N_150W.tif\n",
      "WARNING: download_glclu2019_grid: Global Land Cover Land Use data does not contain data for 2000_10N_140W.tif. Aborting download.\n",
      "WARNING: download_glclu2019_grid: Global Land Cover Land Use data does not contain data for 2020_10N_140W.tif. Aborting download.\n",
      "WARNING: download_glclu2019_grid: Global Land Cover Land Use data does not contain data for 2000_20N_140W.tif. Aborting download.\n",
      "WARNING: download_glclu2019_grid: Global Land Cover Land Use data does not contain data for 2020_20N_140W.tif. Aborting download.\n",
      "WARNING: download_glclu2019_grid: Global Land Cover Land Use data does not contain data for 2000_30N_140W.tif. Aborting download.\n",
      "WARNING: download_glclu2019_grid: Global Land Cover Land Use data does not contain data for 2020_30N_140W.tif. Aborting download.\n",
      "WARNING: download_glclu2019_grid: Global Land Cover Land Use data does not contain data for 2000_40N_140W.tif. Aborting download.\n",
      "WARNING: download_glclu2019_grid: Global Land Cover Land Use data does not contain data for 2020_40N_140W.tif. Aborting download.\n",
      "WARNING: download_glclu2019_grid: Global Land Cover Land Use data does not contain data for 2000_50N_140W.tif. Aborting download.\n",
      "WARNING: download_glclu2019_grid: Global Land Cover Land Use data does not contain data for 2020_50N_140W.tif. Aborting download.\n",
      "Successfully downloaded https://glad.umd.edu/users/Potapov/GLCLUC2020/Forest_height_2000/2000_60N_140W.tif\n",
      "Successfully downloaded https://glad.umd.edu/users/Potapov/GLCLUC2020/Forest_height_2020/2020_60N_140W.tif\n",
      "Successfully downloaded https://glad.umd.edu/users/Potapov/GLCLUC2020/Forest_height_2000/2000_70N_140W.tif\n",
      "Successfully downloaded https://glad.umd.edu/users/Potapov/GLCLUC2020/Forest_height_2020/2020_70N_140W.tif\n",
      "Successfully downloaded https://glad.umd.edu/users/Potapov/GLCLUC2020/Forest_height_2000/2000_80N_140W.tif\n",
      "Successfully downloaded https://glad.umd.edu/users/Potapov/GLCLUC2020/Forest_height_2020/2020_80N_140W.tif\n",
      "WARNING: download_glclu2019_grid: Global Land Cover Land Use data does not contain data for 2000_10N_130W.tif. Aborting download.\n",
      "WARNING: download_glclu2019_grid: Global Land Cover Land Use data does not contain data for 2020_10N_130W.tif. Aborting download.\n",
      "WARNING: download_glclu2019_grid: Global Land Cover Land Use data does not contain data for 2000_20N_130W.tif. Aborting download.\n",
      "WARNING: download_glclu2019_grid: Global Land Cover Land Use data does not contain data for 2020_20N_130W.tif. Aborting download.\n",
      "WARNING: download_glclu2019_grid: Global Land Cover Land Use data does not contain data for 2000_30N_130W.tif. Aborting download.\n",
      "WARNING: download_glclu2019_grid: Global Land Cover Land Use data does not contain data for 2020_30N_130W.tif. Aborting download.\n",
      "Successfully downloaded https://glad.umd.edu/users/Potapov/GLCLUC2020/Forest_height_2000/2000_40N_130W.tif\n",
      "Successfully downloaded https://glad.umd.edu/users/Potapov/GLCLUC2020/Forest_height_2020/2020_40N_130W.tif\n",
      "Successfully downloaded https://glad.umd.edu/users/Potapov/GLCLUC2020/Forest_height_2000/2000_50N_130W.tif\n",
      "Successfully downloaded https://glad.umd.edu/users/Potapov/GLCLUC2020/Forest_height_2020/2020_50N_130W.tif\n",
      "Successfully downloaded https://glad.umd.edu/users/Potapov/GLCLUC2020/Forest_height_2000/2000_60N_130W.tif\n",
      "Successfully downloaded https://glad.umd.edu/users/Potapov/GLCLUC2020/Forest_height_2020/2020_60N_130W.tif\n",
      "Successfully downloaded https://glad.umd.edu/users/Potapov/GLCLUC2020/Forest_height_2000/2000_70N_130W.tif\n",
      "Successfully downloaded https://glad.umd.edu/users/Potapov/GLCLUC2020/Forest_height_2020/2020_70N_130W.tif\n",
      "Successfully downloaded https://glad.umd.edu/users/Potapov/GLCLUC2020/Forest_height_2000/2000_80N_130W.tif\n",
      "Successfully downloaded https://glad.umd.edu/users/Potapov/GLCLUC2020/Forest_height_2020/2020_80N_130W.tif\n",
      "WARNING: download_glclu2019_grid: Global Land Cover Land Use data does not contain data for 2000_10N_120W.tif. Aborting download.\n",
      "WARNING: download_glclu2019_grid: Global Land Cover Land Use data does not contain data for 2020_10N_120W.tif. Aborting download.\n",
      "WARNING: download_glclu2019_grid: Global Land Cover Land Use data does not contain data for 2000_20N_120W.tif. Aborting download.\n",
      "WARNING: download_glclu2019_grid: Global Land Cover Land Use data does not contain data for 2020_20N_120W.tif. Aborting download.\n",
      "Successfully downloaded https://glad.umd.edu/users/Potapov/GLCLUC2020/Forest_height_2000/2000_30N_120W.tif\n",
      "Successfully downloaded https://glad.umd.edu/users/Potapov/GLCLUC2020/Forest_height_2020/2020_30N_120W.tif\n",
      "Successfully downloaded https://glad.umd.edu/users/Potapov/GLCLUC2020/Forest_height_2000/2000_40N_120W.tif\n",
      "Successfully downloaded https://glad.umd.edu/users/Potapov/GLCLUC2020/Forest_height_2020/2020_40N_120W.tif\n",
      "Successfully downloaded https://glad.umd.edu/users/Potapov/GLCLUC2020/Forest_height_2000/2000_50N_120W.tif\n",
      "Successfully downloaded https://glad.umd.edu/users/Potapov/GLCLUC2020/Forest_height_2020/2020_50N_120W.tif\n",
      "Successfully downloaded https://glad.umd.edu/users/Potapov/GLCLUC2020/Forest_height_2000/2000_60N_120W.tif\n",
      "Successfully downloaded https://glad.umd.edu/users/Potapov/GLCLUC2020/Forest_height_2020/2020_60N_120W.tif\n",
      "Successfully downloaded https://glad.umd.edu/users/Potapov/GLCLUC2020/Forest_height_2000/2000_70N_120W.tif\n",
      "Successfully downloaded https://glad.umd.edu/users/Potapov/GLCLUC2020/Forest_height_2020/2020_70N_120W.tif\n",
      "WARNING: download_glclu2019_grid: Global Land Cover Land Use data does not contain data for 2000_80N_120W.tif. Aborting download.\n",
      "WARNING: download_glclu2019_grid: Global Land Cover Land Use data does not contain data for 2020_80N_120W.tif. Aborting download.\n",
      "WARNING: download_glclu2019_grid: Global Land Cover Land Use data does not contain data for 2000_10N_110W.tif. Aborting download.\n",
      "WARNING: download_glclu2019_grid: Global Land Cover Land Use data does not contain data for 2020_10N_110W.tif. Aborting download.\n",
      "Successfully downloaded https://glad.umd.edu/users/Potapov/GLCLUC2020/Forest_height_2000/2000_20N_110W.tif\n",
      "Successfully downloaded https://glad.umd.edu/users/Potapov/GLCLUC2020/Forest_height_2020/2020_20N_110W.tif\n",
      "Successfully downloaded https://glad.umd.edu/users/Potapov/GLCLUC2020/Forest_height_2000/2000_30N_110W.tif\n",
      "Successfully downloaded https://glad.umd.edu/users/Potapov/GLCLUC2020/Forest_height_2020/2020_30N_110W.tif\n",
      "Successfully downloaded https://glad.umd.edu/users/Potapov/GLCLUC2020/Forest_height_2000/2000_40N_110W.tif\n",
      "Successfully downloaded https://glad.umd.edu/users/Potapov/GLCLUC2020/Forest_height_2020/2020_40N_110W.tif\n",
      "Successfully downloaded https://glad.umd.edu/users/Potapov/GLCLUC2020/Forest_height_2000/2000_50N_110W.tif\n",
      "Successfully downloaded https://glad.umd.edu/users/Potapov/GLCLUC2020/Forest_height_2020/2020_50N_110W.tif\n",
      "Successfully downloaded https://glad.umd.edu/users/Potapov/GLCLUC2020/Forest_height_2000/2000_60N_110W.tif\n",
      "Successfully downloaded https://glad.umd.edu/users/Potapov/GLCLUC2020/Forest_height_2020/2020_60N_110W.tif\n",
      "Successfully downloaded https://glad.umd.edu/users/Potapov/GLCLUC2020/Forest_height_2000/2000_70N_110W.tif\n",
      "Successfully downloaded https://glad.umd.edu/users/Potapov/GLCLUC2020/Forest_height_2020/2020_70N_110W.tif\n",
      "WARNING: download_glclu2019_grid: Global Land Cover Land Use data does not contain data for 2000_80N_110W.tif. Aborting download.\n",
      "WARNING: download_glclu2019_grid: Global Land Cover Land Use data does not contain data for 2020_80N_110W.tif. Aborting download.\n",
      "WARNING: download_glclu2019_grid: Global Land Cover Land Use data does not contain data for 2000_10N_100W.tif. Aborting download.\n",
      "WARNING: download_glclu2019_grid: Global Land Cover Land Use data does not contain data for 2020_10N_100W.tif. Aborting download.\n",
      "Successfully downloaded https://glad.umd.edu/users/Potapov/GLCLUC2020/Forest_height_2000/2000_20N_100W.tif\n",
      "Successfully downloaded https://glad.umd.edu/users/Potapov/GLCLUC2020/Forest_height_2020/2020_20N_100W.tif\n",
      "Successfully downloaded https://glad.umd.edu/users/Potapov/GLCLUC2020/Forest_height_2000/2000_30N_100W.tif\n",
      "Successfully downloaded https://glad.umd.edu/users/Potapov/GLCLUC2020/Forest_height_2020/2020_30N_100W.tif\n",
      "Successfully downloaded https://glad.umd.edu/users/Potapov/GLCLUC2020/Forest_height_2000/2000_40N_100W.tif\n",
      "Successfully downloaded https://glad.umd.edu/users/Potapov/GLCLUC2020/Forest_height_2020/2020_40N_100W.tif\n",
      "Successfully downloaded https://glad.umd.edu/users/Potapov/GLCLUC2020/Forest_height_2000/2000_50N_100W.tif\n",
      "Successfully downloaded https://glad.umd.edu/users/Potapov/GLCLUC2020/Forest_height_2020/2020_50N_100W.tif\n",
      "Successfully downloaded https://glad.umd.edu/users/Potapov/GLCLUC2020/Forest_height_2000/2000_60N_100W.tif\n",
      "Successfully downloaded https://glad.umd.edu/users/Potapov/GLCLUC2020/Forest_height_2020/2020_60N_100W.tif\n",
      "Successfully downloaded https://glad.umd.edu/users/Potapov/GLCLUC2020/Forest_height_2000/2000_70N_100W.tif\n",
      "Successfully downloaded https://glad.umd.edu/users/Potapov/GLCLUC2020/Forest_height_2020/2020_70N_100W.tif\n",
      "WARNING: download_glclu2019_grid: Global Land Cover Land Use data does not contain data for 2000_80N_100W.tif. Aborting download.\n",
      "WARNING: download_glclu2019_grid: Global Land Cover Land Use data does not contain data for 2020_80N_100W.tif. Aborting download.\n",
      "Successfully downloaded https://glad.umd.edu/users/Potapov/GLCLUC2020/Forest_height_2000/2000_10N_090W.tif\n",
      "Successfully downloaded https://glad.umd.edu/users/Potapov/GLCLUC2020/Forest_height_2020/2020_10N_090W.tif\n",
      "Successfully downloaded https://glad.umd.edu/users/Potapov/GLCLUC2020/Forest_height_2000/2000_20N_090W.tif\n",
      "Successfully downloaded https://glad.umd.edu/users/Potapov/GLCLUC2020/Forest_height_2020/2020_20N_090W.tif\n",
      "Successfully downloaded https://glad.umd.edu/users/Potapov/GLCLUC2020/Forest_height_2000/2000_30N_090W.tif\n",
      "Successfully downloaded https://glad.umd.edu/users/Potapov/GLCLUC2020/Forest_height_2020/2020_30N_090W.tif\n",
      "Successfully downloaded https://glad.umd.edu/users/Potapov/GLCLUC2020/Forest_height_2000/2000_40N_090W.tif\n",
      "Successfully downloaded https://glad.umd.edu/users/Potapov/GLCLUC2020/Forest_height_2020/2020_40N_090W.tif\n",
      "Successfully downloaded https://glad.umd.edu/users/Potapov/GLCLUC2020/Forest_height_2000/2000_50N_090W.tif\n",
      "Successfully downloaded https://glad.umd.edu/users/Potapov/GLCLUC2020/Forest_height_2020/2020_50N_090W.tif\n",
      "Successfully downloaded https://glad.umd.edu/users/Potapov/GLCLUC2020/Forest_height_2000/2000_60N_090W.tif\n",
      "Successfully downloaded https://glad.umd.edu/users/Potapov/GLCLUC2020/Forest_height_2020/2020_60N_090W.tif\n",
      "Successfully downloaded https://glad.umd.edu/users/Potapov/GLCLUC2020/Forest_height_2000/2000_70N_090W.tif\n",
      "Successfully downloaded https://glad.umd.edu/users/Potapov/GLCLUC2020/Forest_height_2020/2020_70N_090W.tif\n",
      "WARNING: download_glclu2019_grid: Global Land Cover Land Use data does not contain data for 2000_80N_090W.tif. Aborting download.\n",
      "WARNING: download_glclu2019_grid: Global Land Cover Land Use data does not contain data for 2020_80N_090W.tif. Aborting download.\n",
      "Successfully downloaded https://glad.umd.edu/users/Potapov/GLCLUC2020/Forest_height_2000/2000_10N_080W.tif\n",
      "Successfully downloaded https://glad.umd.edu/users/Potapov/GLCLUC2020/Forest_height_2020/2020_10N_080W.tif\n",
      "Successfully downloaded https://glad.umd.edu/users/Potapov/GLCLUC2020/Forest_height_2000/2000_20N_080W.tif\n",
      "Successfully downloaded https://glad.umd.edu/users/Potapov/GLCLUC2020/Forest_height_2020/2020_20N_080W.tif\n",
      "Successfully downloaded https://glad.umd.edu/users/Potapov/GLCLUC2020/Forest_height_2000/2000_30N_080W.tif\n",
      "Successfully downloaded https://glad.umd.edu/users/Potapov/GLCLUC2020/Forest_height_2020/2020_30N_080W.tif\n",
      "Successfully downloaded https://glad.umd.edu/users/Potapov/GLCLUC2020/Forest_height_2000/2000_40N_080W.tif\n",
      "Successfully downloaded https://glad.umd.edu/users/Potapov/GLCLUC2020/Forest_height_2020/2020_40N_080W.tif\n",
      "Successfully downloaded https://glad.umd.edu/users/Potapov/GLCLUC2020/Forest_height_2000/2000_50N_080W.tif\n",
      "Successfully downloaded https://glad.umd.edu/users/Potapov/GLCLUC2020/Forest_height_2020/2020_50N_080W.tif\n",
      "Successfully downloaded https://glad.umd.edu/users/Potapov/GLCLUC2020/Forest_height_2000/2000_60N_080W.tif\n",
      "Successfully downloaded https://glad.umd.edu/users/Potapov/GLCLUC2020/Forest_height_2020/2020_60N_080W.tif\n",
      "Successfully downloaded https://glad.umd.edu/users/Potapov/GLCLUC2020/Forest_height_2000/2000_70N_080W.tif\n",
      "Successfully downloaded https://glad.umd.edu/users/Potapov/GLCLUC2020/Forest_height_2020/2020_70N_080W.tif\n",
      "WARNING: download_glclu2019_grid: Global Land Cover Land Use data does not contain data for 2000_80N_080W.tif. Aborting download.\n",
      "WARNING: download_glclu2019_grid: Global Land Cover Land Use data does not contain data for 2020_80N_080W.tif. Aborting download.\n",
      "Successfully downloaded https://glad.umd.edu/users/Potapov/GLCLUC2020/Forest_height_2000/2000_10N_070W.tif\n",
      "Successfully downloaded https://glad.umd.edu/users/Potapov/GLCLUC2020/Forest_height_2020/2020_10N_070W.tif\n",
      "Successfully downloaded https://glad.umd.edu/users/Potapov/GLCLUC2020/Forest_height_2000/2000_20N_070W.tif\n",
      "Successfully downloaded https://glad.umd.edu/users/Potapov/GLCLUC2020/Forest_height_2020/2020_20N_070W.tif\n",
      "WARNING: download_glclu2019_grid: Global Land Cover Land Use data does not contain data for 2000_30N_070W.tif. Aborting download.\n",
      "WARNING: download_glclu2019_grid: Global Land Cover Land Use data does not contain data for 2020_30N_070W.tif. Aborting download.\n",
      "WARNING: download_glclu2019_grid: Global Land Cover Land Use data does not contain data for 2000_40N_070W.tif. Aborting download.\n",
      "WARNING: download_glclu2019_grid: Global Land Cover Land Use data does not contain data for 2020_40N_070W.tif. Aborting download.\n",
      "Successfully downloaded https://glad.umd.edu/users/Potapov/GLCLUC2020/Forest_height_2000/2000_50N_070W.tif\n",
      "Successfully downloaded https://glad.umd.edu/users/Potapov/GLCLUC2020/Forest_height_2020/2020_50N_070W.tif\n",
      "Successfully downloaded https://glad.umd.edu/users/Potapov/GLCLUC2020/Forest_height_2000/2000_60N_070W.tif\n",
      "Successfully downloaded https://glad.umd.edu/users/Potapov/GLCLUC2020/Forest_height_2020/2020_60N_070W.tif\n",
      "Successfully downloaded https://glad.umd.edu/users/Potapov/GLCLUC2020/Forest_height_2000/2000_70N_070W.tif\n",
      "Successfully downloaded https://glad.umd.edu/users/Potapov/GLCLUC2020/Forest_height_2020/2020_70N_070W.tif\n",
      "WARNING: download_glclu2019_grid: Global Land Cover Land Use data does not contain data for 2000_80N_070W.tif. Aborting download.\n",
      "WARNING: download_glclu2019_grid: Global Land Cover Land Use data does not contain data for 2020_80N_070W.tif. Aborting download.\n",
      "Successfully downloaded https://glad.umd.edu/users/Potapov/GLCLUC2020/Forest_height_2000/2000_10N_060W.tif\n",
      "Successfully downloaded https://glad.umd.edu/users/Potapov/GLCLUC2020/Forest_height_2020/2020_10N_060W.tif\n",
      "Successfully downloaded https://glad.umd.edu/users/Potapov/GLCLUC2020/Forest_height_2000/2000_20N_060W.tif\n",
      "Successfully downloaded https://glad.umd.edu/users/Potapov/GLCLUC2020/Forest_height_2020/2020_20N_060W.tif\n",
      "WARNING: download_glclu2019_grid: Global Land Cover Land Use data does not contain data for 2000_30N_060W.tif. Aborting download.\n",
      "WARNING: download_glclu2019_grid: Global Land Cover Land Use data does not contain data for 2020_30N_060W.tif. Aborting download.\n",
      "WARNING: download_glclu2019_grid: Global Land Cover Land Use data does not contain data for 2000_40N_060W.tif. Aborting download.\n",
      "WARNING: download_glclu2019_grid: Global Land Cover Land Use data does not contain data for 2020_40N_060W.tif. Aborting download.\n",
      "Successfully downloaded https://glad.umd.edu/users/Potapov/GLCLUC2020/Forest_height_2000/2000_50N_060W.tif\n",
      "Successfully downloaded https://glad.umd.edu/users/Potapov/GLCLUC2020/Forest_height_2020/2020_50N_060W.tif\n",
      "Successfully downloaded https://glad.umd.edu/users/Potapov/GLCLUC2020/Forest_height_2000/2000_60N_060W.tif\n",
      "Successfully downloaded https://glad.umd.edu/users/Potapov/GLCLUC2020/Forest_height_2020/2020_60N_060W.tif\n",
      "WARNING: download_glclu2019_grid: Global Land Cover Land Use data does not contain data for 2000_70N_060W.tif. Aborting download.\n",
      "WARNING: download_glclu2019_grid: Global Land Cover Land Use data does not contain data for 2020_70N_060W.tif. Aborting download.\n",
      "WARNING: download_glclu2019_grid: Global Land Cover Land Use data does not contain data for 2000_80N_060W.tif. Aborting download.\n",
      "WARNING: download_glclu2019_grid: Global Land Cover Land Use data does not contain data for 2020_80N_060W.tif. Aborting download.\n",
      "Successfully downloaded https://glad.umd.edu/users/Potapov/GLCLUC2020/Forest_height_2000/2000_10N_050W.tif\n",
      "Successfully downloaded https://glad.umd.edu/users/Potapov/GLCLUC2020/Forest_height_2020/2020_10N_050W.tif\n",
      "WARNING: download_glclu2019_grid: Global Land Cover Land Use data does not contain data for 2000_20N_050W.tif. Aborting download.\n",
      "WARNING: download_glclu2019_grid: Global Land Cover Land Use data does not contain data for 2020_20N_050W.tif. Aborting download.\n",
      "WARNING: download_glclu2019_grid: Global Land Cover Land Use data does not contain data for 2000_30N_050W.tif. Aborting download.\n",
      "WARNING: download_glclu2019_grid: Global Land Cover Land Use data does not contain data for 2020_30N_050W.tif. Aborting download.\n",
      "WARNING: download_glclu2019_grid: Global Land Cover Land Use data does not contain data for 2000_40N_050W.tif. Aborting download.\n",
      "WARNING: download_glclu2019_grid: Global Land Cover Land Use data does not contain data for 2020_40N_050W.tif. Aborting download.\n",
      "WARNING: download_glclu2019_grid: Global Land Cover Land Use data does not contain data for 2000_50N_050W.tif. Aborting download.\n",
      "WARNING: download_glclu2019_grid: Global Land Cover Land Use data does not contain data for 2020_50N_050W.tif. Aborting download.\n",
      "WARNING: download_glclu2019_grid: Global Land Cover Land Use data does not contain data for 2000_60N_050W.tif. Aborting download.\n",
      "WARNING: download_glclu2019_grid: Global Land Cover Land Use data does not contain data for 2020_60N_050W.tif. Aborting download.\n",
      "WARNING: download_glclu2019_grid: Global Land Cover Land Use data does not contain data for 2000_70N_050W.tif. Aborting download.\n",
      "WARNING: download_glclu2019_grid: Global Land Cover Land Use data does not contain data for 2020_70N_050W.tif. Aborting download.\n",
      "WARNING: download_glclu2019_grid: Global Land Cover Land Use data does not contain data for 2000_80N_050W.tif. Aborting download.\n",
      "WARNING: download_glclu2019_grid: Global Land Cover Land Use data does not contain data for 2020_80N_050W.tif. Aborting download.\n"
     ]
    }
   ],
   "source": [
    "for dl_lon in forest_lon:\n",
    "    for dl_lat in forest_lat:\n",
    "        url_2000 = forest_2000_url.format(dl_lat,dl_lon) # Replace placeholder values in url with download coordinates\n",
    "        cs.download_glclu2019_grid(url_2000,download_folder_2000) # Despite the glcluc name, works for this data too\n",
    "        \n",
    "        url_2020 = forest_2020_url.format(dl_lat,dl_lon) \n",
    "        cs.download_glclu2019_grid(url_2020,download_folder_2020)"
   ]
  },
  {
   "cell_type": "markdown",
   "id": "d563d2b4-e0fc-4ff3-8a85-3c4009f4d94e",
   "metadata": {},
   "source": [
    "### Merge"
   ]
  },
  {
   "cell_type": "code",
   "execution_count": 15,
   "id": "c663846e-6d8e-4c5e-8eff-f17e0a1d7349",
   "metadata": {},
   "outputs": [],
   "source": [
    "# Define the output file\n",
    "merged_2000_file = 'forest_height_2000.tif'\n",
    "merged_2020_file = 'forest_height_2020.tif'\n",
    "merged_folder = Path(data_path) / geospatial_temp_path / 'forest_height' / 'raw' # We'll end up with two files in here only, so no need to separate into 'map' and 'strata'"
   ]
  },
  {
   "cell_type": "code",
   "execution_count": 16,
   "id": "26d7cbd3-628e-4041-9126-8d82f541e5ac",
   "metadata": {},
   "outputs": [],
   "source": [
    "cs.merge_glclu2019_files_into_one(merged_2000_file, download_folder_2000, merged_folder, download_area)"
   ]
  },
  {
   "cell_type": "code",
   "execution_count": 17,
   "id": "3d68dc35-9e7c-43b7-8fed-f405f6048073",
   "metadata": {},
   "outputs": [],
   "source": [
    "cs.merge_glclu2019_files_into_one(merged_2020_file, download_folder_2020, merged_folder, download_area)"
   ]
  },
  {
   "cell_type": "markdown",
   "id": "d6761a7e-49ea-467b-91c5-75878b4ae5a7",
   "metadata": {},
   "source": [
    "### Delete the individual GeoTIFF files to save space"
   ]
  },
  {
   "cell_type": "code",
   "execution_count": 19,
   "id": "452b1428-ca5c-4206-bc29-c1fdb7373154",
   "metadata": {},
   "outputs": [],
   "source": [
    "download_folder = Path(data_path) / geospatial_temp_path / 'forest_height' / 'download'\n",
    "if os.path.isdir(download_folder): \n",
    "    shutil.rmtree(download_folder) # main folder that contains the '2000' and '2020' folders"
   ]
  },
  {
   "cell_type": "code",
   "execution_count": null,
   "id": "9152aa3c-523f-447b-9648-cb265af61a77",
   "metadata": {},
   "outputs": [],
   "source": []
  }
 ],
 "metadata": {
  "kernelspec": {
   "display_name": "camels-spat-env",
   "language": "python",
   "name": "camels-spat-env"
  },
  "language_info": {
   "codemirror_mode": {
    "name": "ipython",
    "version": 3
   },
   "file_extension": ".py",
   "mimetype": "text/x-python",
   "name": "python",
   "nbconvert_exporter": "python",
   "pygments_lexer": "ipython3",
   "version": "3.8.2"
  }
 },
 "nbformat": 4,
 "nbformat_minor": 5
}
