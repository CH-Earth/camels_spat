{
 "cells": [
  {
   "cell_type": "markdown",
   "id": "eac14cb6-e36c-40ff-af6f-6a97883c94ae",
   "metadata": {},
   "source": [
    "# Download and process Global Land Cover Land Use 2019 data into a single geotiff at native resolution"
   ]
  },
  {
   "cell_type": "code",
   "execution_count": 2,
   "id": "13b25464-3b95-4b55-a0d7-6478712f3fd1",
   "metadata": {},
   "outputs": [],
   "source": [
    "import os\n",
    "import sys\n",
    "import shutil\n",
    "import tarfile\n",
    "from pathlib import Path\n",
    "sys.path.append(str(Path().absolute().parent))\n",
    "import python_cs_functions as cs"
   ]
  },
  {
   "cell_type": "markdown",
   "id": "1105f8e2-2538-49f0-aa6e-62a49e7792c2",
   "metadata": {},
   "source": [
    "### Config handling                                                                                        "
   ]
  },
  {
   "cell_type": "code",
   "execution_count": 3,
   "id": "68e52698-c146-4983-afb9-28e5db7d4712",
   "metadata": {},
   "outputs": [],
   "source": [
    "# Specify where the config file can be found\n",
    "config_file = '../0_config/config.txt'"
   ]
  },
  {
   "cell_type": "code",
   "execution_count": 4,
   "id": "0ae2150d-cc19-46e1-991a-0796446ed551",
   "metadata": {},
   "outputs": [],
   "source": [
    "# Get the required info from the config file\n",
    "data_path            = cs.read_from_config(config_file,'data_path')\n",
    "geospatial_temp_path = cs.read_from_config(config_file,'geospatial_temp_path')\n",
    "land_path            = cs.read_from_config(config_file,'land_path')\n",
    "land_map_url         = cs.read_from_config(config_file,'land_map_url')\n",
    "land_strata_url      = cs.read_from_config(config_file,'land_strata_url')\n",
    "strata_legend        = cs.read_from_config(config_file,'land_legend')\n",
    "download_area        = cs.read_from_config(config_file,'geospatial_area')"
   ]
  },
  {
   "cell_type": "markdown",
   "id": "10ea2ac7-7bdb-4574-bbf4-3d6dbc26f361",
   "metadata": {},
   "source": [
    "### Convert geospatial coordinates to specific download coordinates for this data product"
   ]
  },
  {
   "cell_type": "code",
   "execution_count": 8,
   "id": "fffe1307-35f2-4d82-bc14-16e99469151f",
   "metadata": {},
   "outputs": [
    {
     "name": "stdout",
     "output_type": "stream",
     "text": [
      "Returning coordinates as type <class 'str'> for use with glclu2019 download code.\n"
     ]
    }
   ],
   "source": [
    "download_coordinates = cs.geospatial_coordinates_to_download_coordinates(download_area, 'glclu2019')"
   ]
  },
  {
   "cell_type": "markdown",
   "id": "998d5126-0a72-4499-9add-1daf8d8db4cf",
   "metadata": {},
   "source": [
    "### Download data"
   ]
  },
  {
   "cell_type": "code",
   "execution_count": 45,
   "id": "ef1c5752-601e-45be-805e-6a864eea5a39",
   "metadata": {},
   "outputs": [],
   "source": [
    "glclu_lon,glclu_lat = cs.convert_coordinates_to_glclu2019_download_lists(download_coordinates)"
   ]
  },
  {
   "cell_type": "code",
   "execution_count": 58,
   "id": "e9133715-827b-4950-8e52-3e9c3ee381c9",
   "metadata": {},
   "outputs": [],
   "source": [
    "download_folder_map    = Path(data_path) / geospatial_temp_path / 'glclu2019' / 'download' / 'map'\n",
    "download_folder_strata = Path(data_path) / geospatial_temp_path / 'glclu2019' / 'download' / 'strata'"
   ]
  },
  {
   "cell_type": "code",
   "execution_count": 59,
   "id": "66258c99-33ce-4c45-be8b-d1aed74982fa",
   "metadata": {},
   "outputs": [],
   "source": [
    "download_folder_map.mkdir(parents=True, exist_ok=True)\n",
    "download_folder_strata.mkdir(parents=True, exist_ok=True)"
   ]
  },
  {
   "cell_type": "code",
   "execution_count": 60,
   "id": "06938afb-9ecb-4427-8626-51db13839945",
   "metadata": {},
   "outputs": [
    {
     "name": "stdout",
     "output_type": "stream",
     "text": [
      "WARNING: download_glclu2019_grid: Global Land Cover Land Use data does not contain data for 10N_180W.tif. Aborting download.\n",
      "WARNING: download_glclu2019_grid: Global Land Cover Land Use data does not contain data for 10N_180W.tif. Aborting download.\n",
      "WARNING: download_glclu2019_grid: Global Land Cover Land Use data does not contain data for 20N_180W.tif. Aborting download.\n",
      "WARNING: download_glclu2019_grid: Global Land Cover Land Use data does not contain data for 20N_180W.tif. Aborting download.\n",
      "WARNING: download_glclu2019_grid: Global Land Cover Land Use data does not contain data for 30N_180W.tif. Aborting download.\n",
      "WARNING: download_glclu2019_grid: Global Land Cover Land Use data does not contain data for 30N_180W.tif. Aborting download.\n",
      "WARNING: download_glclu2019_grid: Global Land Cover Land Use data does not contain data for 40N_180W.tif. Aborting download.\n",
      "WARNING: download_glclu2019_grid: Global Land Cover Land Use data does not contain data for 40N_180W.tif. Aborting download.\n",
      "WARNING: download_glclu2019_grid: Global Land Cover Land Use data does not contain data for 50N_180W.tif. Aborting download.\n",
      "WARNING: download_glclu2019_grid: Global Land Cover Land Use data does not contain data for 50N_180W.tif. Aborting download.\n",
      "Successfully downloaded https://storage.googleapis.com/earthenginepartners-hansen/GLCLU_2019/strata/60N_180W.tif\n",
      "Successfully downloaded https://storage.googleapis.com/earthenginepartners-hansen/GLCLU_2019/map/60N_180W.tif\n",
      "Successfully downloaded https://storage.googleapis.com/earthenginepartners-hansen/GLCLU_2019/strata/70N_180W.tif\n",
      "Successfully downloaded https://storage.googleapis.com/earthenginepartners-hansen/GLCLU_2019/map/70N_180W.tif\n",
      "WARNING: download_glclu2019_grid: Global Land Cover Land Use data does not contain data for 80N_180W.tif. Aborting download.\n",
      "WARNING: download_glclu2019_grid: Global Land Cover Land Use data does not contain data for 80N_180W.tif. Aborting download.\n",
      "WARNING: download_glclu2019_grid: Global Land Cover Land Use data does not contain data for 10N_170W.tif. Aborting download.\n",
      "WARNING: download_glclu2019_grid: Global Land Cover Land Use data does not contain data for 10N_170W.tif. Aborting download.\n",
      "WARNING: download_glclu2019_grid: Global Land Cover Land Use data does not contain data for 20N_170W.tif. Aborting download.\n",
      "WARNING: download_glclu2019_grid: Global Land Cover Land Use data does not contain data for 20N_170W.tif. Aborting download.\n",
      "Successfully downloaded https://storage.googleapis.com/earthenginepartners-hansen/GLCLU_2019/strata/30N_170W.tif\n",
      "Successfully downloaded https://storage.googleapis.com/earthenginepartners-hansen/GLCLU_2019/map/30N_170W.tif\n",
      "WARNING: download_glclu2019_grid: Global Land Cover Land Use data does not contain data for 40N_170W.tif. Aborting download.\n",
      "WARNING: download_glclu2019_grid: Global Land Cover Land Use data does not contain data for 40N_170W.tif. Aborting download.\n",
      "WARNING: download_glclu2019_grid: Global Land Cover Land Use data does not contain data for 50N_170W.tif. Aborting download.\n",
      "WARNING: download_glclu2019_grid: Global Land Cover Land Use data does not contain data for 50N_170W.tif. Aborting download.\n",
      "Successfully downloaded https://storage.googleapis.com/earthenginepartners-hansen/GLCLU_2019/strata/60N_170W.tif\n",
      "Successfully downloaded https://storage.googleapis.com/earthenginepartners-hansen/GLCLU_2019/map/60N_170W.tif\n",
      "Successfully downloaded https://storage.googleapis.com/earthenginepartners-hansen/GLCLU_2019/strata/70N_170W.tif\n",
      "Successfully downloaded https://storage.googleapis.com/earthenginepartners-hansen/GLCLU_2019/map/70N_170W.tif\n",
      "Successfully downloaded https://storage.googleapis.com/earthenginepartners-hansen/GLCLU_2019/strata/80N_170W.tif\n",
      "Successfully downloaded https://storage.googleapis.com/earthenginepartners-hansen/GLCLU_2019/map/80N_170W.tif\n",
      "WARNING: download_glclu2019_grid: Global Land Cover Land Use data does not contain data for 10N_160W.tif. Aborting download.\n",
      "WARNING: download_glclu2019_grid: Global Land Cover Land Use data does not contain data for 10N_160W.tif. Aborting download.\n",
      "Successfully downloaded https://storage.googleapis.com/earthenginepartners-hansen/GLCLU_2019/strata/20N_160W.tif\n",
      "Successfully downloaded https://storage.googleapis.com/earthenginepartners-hansen/GLCLU_2019/map/20N_160W.tif\n",
      "Successfully downloaded https://storage.googleapis.com/earthenginepartners-hansen/GLCLU_2019/strata/30N_160W.tif\n",
      "Successfully downloaded https://storage.googleapis.com/earthenginepartners-hansen/GLCLU_2019/map/30N_160W.tif\n",
      "WARNING: download_glclu2019_grid: Global Land Cover Land Use data does not contain data for 40N_160W.tif. Aborting download.\n",
      "WARNING: download_glclu2019_grid: Global Land Cover Land Use data does not contain data for 40N_160W.tif. Aborting download.\n",
      "WARNING: download_glclu2019_grid: Global Land Cover Land Use data does not contain data for 50N_160W.tif. Aborting download.\n",
      "WARNING: download_glclu2019_grid: Global Land Cover Land Use data does not contain data for 50N_160W.tif. Aborting download.\n",
      "Successfully downloaded https://storage.googleapis.com/earthenginepartners-hansen/GLCLU_2019/strata/60N_160W.tif\n",
      "Successfully downloaded https://storage.googleapis.com/earthenginepartners-hansen/GLCLU_2019/map/60N_160W.tif\n",
      "Successfully downloaded https://storage.googleapis.com/earthenginepartners-hansen/GLCLU_2019/strata/70N_160W.tif\n",
      "Successfully downloaded https://storage.googleapis.com/earthenginepartners-hansen/GLCLU_2019/map/70N_160W.tif\n",
      "Successfully downloaded https://storage.googleapis.com/earthenginepartners-hansen/GLCLU_2019/strata/80N_160W.tif\n",
      "Successfully downloaded https://storage.googleapis.com/earthenginepartners-hansen/GLCLU_2019/map/80N_160W.tif\n",
      "WARNING: download_glclu2019_grid: Global Land Cover Land Use data does not contain data for 10N_150W.tif. Aborting download.\n",
      "WARNING: download_glclu2019_grid: Global Land Cover Land Use data does not contain data for 10N_150W.tif. Aborting download.\n",
      "WARNING: download_glclu2019_grid: Global Land Cover Land Use data does not contain data for 20N_150W.tif. Aborting download.\n",
      "WARNING: download_glclu2019_grid: Global Land Cover Land Use data does not contain data for 20N_150W.tif. Aborting download.\n",
      "WARNING: download_glclu2019_grid: Global Land Cover Land Use data does not contain data for 30N_150W.tif. Aborting download.\n",
      "WARNING: download_glclu2019_grid: Global Land Cover Land Use data does not contain data for 30N_150W.tif. Aborting download.\n",
      "WARNING: download_glclu2019_grid: Global Land Cover Land Use data does not contain data for 40N_150W.tif. Aborting download.\n",
      "WARNING: download_glclu2019_grid: Global Land Cover Land Use data does not contain data for 40N_150W.tif. Aborting download.\n",
      "WARNING: download_glclu2019_grid: Global Land Cover Land Use data does not contain data for 50N_150W.tif. Aborting download.\n",
      "WARNING: download_glclu2019_grid: Global Land Cover Land Use data does not contain data for 50N_150W.tif. Aborting download.\n",
      "Successfully downloaded https://storage.googleapis.com/earthenginepartners-hansen/GLCLU_2019/strata/60N_150W.tif\n",
      "Successfully downloaded https://storage.googleapis.com/earthenginepartners-hansen/GLCLU_2019/map/60N_150W.tif\n",
      "Successfully downloaded https://storage.googleapis.com/earthenginepartners-hansen/GLCLU_2019/strata/70N_150W.tif\n",
      "Successfully downloaded https://storage.googleapis.com/earthenginepartners-hansen/GLCLU_2019/map/70N_150W.tif\n",
      "Successfully downloaded https://storage.googleapis.com/earthenginepartners-hansen/GLCLU_2019/strata/80N_150W.tif\n",
      "Successfully downloaded https://storage.googleapis.com/earthenginepartners-hansen/GLCLU_2019/map/80N_150W.tif\n",
      "WARNING: download_glclu2019_grid: Global Land Cover Land Use data does not contain data for 10N_140W.tif. Aborting download.\n",
      "WARNING: download_glclu2019_grid: Global Land Cover Land Use data does not contain data for 10N_140W.tif. Aborting download.\n",
      "WARNING: download_glclu2019_grid: Global Land Cover Land Use data does not contain data for 20N_140W.tif. Aborting download.\n",
      "WARNING: download_glclu2019_grid: Global Land Cover Land Use data does not contain data for 20N_140W.tif. Aborting download.\n",
      "WARNING: download_glclu2019_grid: Global Land Cover Land Use data does not contain data for 30N_140W.tif. Aborting download.\n",
      "WARNING: download_glclu2019_grid: Global Land Cover Land Use data does not contain data for 30N_140W.tif. Aborting download.\n",
      "WARNING: download_glclu2019_grid: Global Land Cover Land Use data does not contain data for 40N_140W.tif. Aborting download.\n",
      "WARNING: download_glclu2019_grid: Global Land Cover Land Use data does not contain data for 40N_140W.tif. Aborting download.\n",
      "WARNING: download_glclu2019_grid: Global Land Cover Land Use data does not contain data for 50N_140W.tif. Aborting download.\n",
      "WARNING: download_glclu2019_grid: Global Land Cover Land Use data does not contain data for 50N_140W.tif. Aborting download.\n",
      "Successfully downloaded https://storage.googleapis.com/earthenginepartners-hansen/GLCLU_2019/strata/60N_140W.tif\n",
      "Successfully downloaded https://storage.googleapis.com/earthenginepartners-hansen/GLCLU_2019/map/60N_140W.tif\n",
      "Successfully downloaded https://storage.googleapis.com/earthenginepartners-hansen/GLCLU_2019/strata/70N_140W.tif\n",
      "Successfully downloaded https://storage.googleapis.com/earthenginepartners-hansen/GLCLU_2019/map/70N_140W.tif\n",
      "Successfully downloaded https://storage.googleapis.com/earthenginepartners-hansen/GLCLU_2019/strata/80N_140W.tif\n",
      "Successfully downloaded https://storage.googleapis.com/earthenginepartners-hansen/GLCLU_2019/map/80N_140W.tif\n",
      "WARNING: download_glclu2019_grid: Global Land Cover Land Use data does not contain data for 10N_130W.tif. Aborting download.\n",
      "WARNING: download_glclu2019_grid: Global Land Cover Land Use data does not contain data for 10N_130W.tif. Aborting download.\n",
      "WARNING: download_glclu2019_grid: Global Land Cover Land Use data does not contain data for 20N_130W.tif. Aborting download.\n",
      "WARNING: download_glclu2019_grid: Global Land Cover Land Use data does not contain data for 20N_130W.tif. Aborting download.\n",
      "WARNING: download_glclu2019_grid: Global Land Cover Land Use data does not contain data for 30N_130W.tif. Aborting download.\n",
      "WARNING: download_glclu2019_grid: Global Land Cover Land Use data does not contain data for 30N_130W.tif. Aborting download.\n",
      "Successfully downloaded https://storage.googleapis.com/earthenginepartners-hansen/GLCLU_2019/strata/40N_130W.tif\n",
      "Successfully downloaded https://storage.googleapis.com/earthenginepartners-hansen/GLCLU_2019/map/40N_130W.tif\n",
      "Successfully downloaded https://storage.googleapis.com/earthenginepartners-hansen/GLCLU_2019/strata/50N_130W.tif\n",
      "Successfully downloaded https://storage.googleapis.com/earthenginepartners-hansen/GLCLU_2019/map/50N_130W.tif\n",
      "Successfully downloaded https://storage.googleapis.com/earthenginepartners-hansen/GLCLU_2019/strata/60N_130W.tif\n",
      "Successfully downloaded https://storage.googleapis.com/earthenginepartners-hansen/GLCLU_2019/map/60N_130W.tif\n",
      "Successfully downloaded https://storage.googleapis.com/earthenginepartners-hansen/GLCLU_2019/strata/70N_130W.tif\n",
      "Successfully downloaded https://storage.googleapis.com/earthenginepartners-hansen/GLCLU_2019/map/70N_130W.tif\n",
      "Successfully downloaded https://storage.googleapis.com/earthenginepartners-hansen/GLCLU_2019/strata/80N_130W.tif\n",
      "Successfully downloaded https://storage.googleapis.com/earthenginepartners-hansen/GLCLU_2019/map/80N_130W.tif\n",
      "WARNING: download_glclu2019_grid: Global Land Cover Land Use data does not contain data for 10N_120W.tif. Aborting download.\n",
      "WARNING: download_glclu2019_grid: Global Land Cover Land Use data does not contain data for 10N_120W.tif. Aborting download.\n",
      "WARNING: download_glclu2019_grid: Global Land Cover Land Use data does not contain data for 20N_120W.tif. Aborting download.\n",
      "WARNING: download_glclu2019_grid: Global Land Cover Land Use data does not contain data for 20N_120W.tif. Aborting download.\n",
      "Successfully downloaded https://storage.googleapis.com/earthenginepartners-hansen/GLCLU_2019/strata/30N_120W.tif\n",
      "Successfully downloaded https://storage.googleapis.com/earthenginepartners-hansen/GLCLU_2019/map/30N_120W.tif\n",
      "Successfully downloaded https://storage.googleapis.com/earthenginepartners-hansen/GLCLU_2019/strata/40N_120W.tif\n",
      "Successfully downloaded https://storage.googleapis.com/earthenginepartners-hansen/GLCLU_2019/map/40N_120W.tif\n",
      "Successfully downloaded https://storage.googleapis.com/earthenginepartners-hansen/GLCLU_2019/strata/50N_120W.tif\n",
      "Successfully downloaded https://storage.googleapis.com/earthenginepartners-hansen/GLCLU_2019/map/50N_120W.tif\n",
      "Successfully downloaded https://storage.googleapis.com/earthenginepartners-hansen/GLCLU_2019/strata/60N_120W.tif\n",
      "Successfully downloaded https://storage.googleapis.com/earthenginepartners-hansen/GLCLU_2019/map/60N_120W.tif\n",
      "Successfully downloaded https://storage.googleapis.com/earthenginepartners-hansen/GLCLU_2019/strata/70N_120W.tif\n",
      "Successfully downloaded https://storage.googleapis.com/earthenginepartners-hansen/GLCLU_2019/map/70N_120W.tif\n",
      "Successfully downloaded https://storage.googleapis.com/earthenginepartners-hansen/GLCLU_2019/strata/80N_120W.tif\n",
      "Successfully downloaded https://storage.googleapis.com/earthenginepartners-hansen/GLCLU_2019/map/80N_120W.tif\n",
      "WARNING: download_glclu2019_grid: Global Land Cover Land Use data does not contain data for 10N_110W.tif. Aborting download.\n",
      "WARNING: download_glclu2019_grid: Global Land Cover Land Use data does not contain data for 10N_110W.tif. Aborting download.\n",
      "Successfully downloaded https://storage.googleapis.com/earthenginepartners-hansen/GLCLU_2019/strata/20N_110W.tif\n",
      "Successfully downloaded https://storage.googleapis.com/earthenginepartners-hansen/GLCLU_2019/map/20N_110W.tif\n",
      "Successfully downloaded https://storage.googleapis.com/earthenginepartners-hansen/GLCLU_2019/strata/30N_110W.tif\n",
      "Successfully downloaded https://storage.googleapis.com/earthenginepartners-hansen/GLCLU_2019/map/30N_110W.tif\n",
      "Successfully downloaded https://storage.googleapis.com/earthenginepartners-hansen/GLCLU_2019/strata/40N_110W.tif\n",
      "Successfully downloaded https://storage.googleapis.com/earthenginepartners-hansen/GLCLU_2019/map/40N_110W.tif\n",
      "Successfully downloaded https://storage.googleapis.com/earthenginepartners-hansen/GLCLU_2019/strata/50N_110W.tif\n",
      "Successfully downloaded https://storage.googleapis.com/earthenginepartners-hansen/GLCLU_2019/map/50N_110W.tif\n",
      "Successfully downloaded https://storage.googleapis.com/earthenginepartners-hansen/GLCLU_2019/strata/60N_110W.tif\n",
      "Successfully downloaded https://storage.googleapis.com/earthenginepartners-hansen/GLCLU_2019/map/60N_110W.tif\n",
      "Successfully downloaded https://storage.googleapis.com/earthenginepartners-hansen/GLCLU_2019/strata/70N_110W.tif\n",
      "Successfully downloaded https://storage.googleapis.com/earthenginepartners-hansen/GLCLU_2019/map/70N_110W.tif\n",
      "Successfully downloaded https://storage.googleapis.com/earthenginepartners-hansen/GLCLU_2019/strata/80N_110W.tif\n",
      "Successfully downloaded https://storage.googleapis.com/earthenginepartners-hansen/GLCLU_2019/map/80N_110W.tif\n",
      "Successfully downloaded https://storage.googleapis.com/earthenginepartners-hansen/GLCLU_2019/strata/10N_100W.tif\n",
      "Successfully downloaded https://storage.googleapis.com/earthenginepartners-hansen/GLCLU_2019/map/10N_100W.tif\n",
      "Successfully downloaded https://storage.googleapis.com/earthenginepartners-hansen/GLCLU_2019/strata/20N_100W.tif\n",
      "Successfully downloaded https://storage.googleapis.com/earthenginepartners-hansen/GLCLU_2019/map/20N_100W.tif\n",
      "Successfully downloaded https://storage.googleapis.com/earthenginepartners-hansen/GLCLU_2019/strata/30N_100W.tif\n",
      "Successfully downloaded https://storage.googleapis.com/earthenginepartners-hansen/GLCLU_2019/map/30N_100W.tif\n",
      "Successfully downloaded https://storage.googleapis.com/earthenginepartners-hansen/GLCLU_2019/strata/40N_100W.tif\n",
      "Successfully downloaded https://storage.googleapis.com/earthenginepartners-hansen/GLCLU_2019/map/40N_100W.tif\n",
      "Successfully downloaded https://storage.googleapis.com/earthenginepartners-hansen/GLCLU_2019/strata/50N_100W.tif\n",
      "Successfully downloaded https://storage.googleapis.com/earthenginepartners-hansen/GLCLU_2019/map/50N_100W.tif\n",
      "Successfully downloaded https://storage.googleapis.com/earthenginepartners-hansen/GLCLU_2019/strata/60N_100W.tif\n",
      "Successfully downloaded https://storage.googleapis.com/earthenginepartners-hansen/GLCLU_2019/map/60N_100W.tif\n",
      "Successfully downloaded https://storage.googleapis.com/earthenginepartners-hansen/GLCLU_2019/strata/70N_100W.tif\n",
      "Successfully downloaded https://storage.googleapis.com/earthenginepartners-hansen/GLCLU_2019/map/70N_100W.tif\n",
      "Successfully downloaded https://storage.googleapis.com/earthenginepartners-hansen/GLCLU_2019/strata/80N_100W.tif\n",
      "Successfully downloaded https://storage.googleapis.com/earthenginepartners-hansen/GLCLU_2019/map/80N_100W.tif\n",
      "Successfully downloaded https://storage.googleapis.com/earthenginepartners-hansen/GLCLU_2019/strata/10N_090W.tif\n",
      "Successfully downloaded https://storage.googleapis.com/earthenginepartners-hansen/GLCLU_2019/map/10N_090W.tif\n",
      "Successfully downloaded https://storage.googleapis.com/earthenginepartners-hansen/GLCLU_2019/strata/20N_090W.tif\n",
      "Successfully downloaded https://storage.googleapis.com/earthenginepartners-hansen/GLCLU_2019/map/20N_090W.tif\n",
      "Successfully downloaded https://storage.googleapis.com/earthenginepartners-hansen/GLCLU_2019/strata/30N_090W.tif\n",
      "Successfully downloaded https://storage.googleapis.com/earthenginepartners-hansen/GLCLU_2019/map/30N_090W.tif\n",
      "Successfully downloaded https://storage.googleapis.com/earthenginepartners-hansen/GLCLU_2019/strata/40N_090W.tif\n",
      "Successfully downloaded https://storage.googleapis.com/earthenginepartners-hansen/GLCLU_2019/map/40N_090W.tif\n",
      "Successfully downloaded https://storage.googleapis.com/earthenginepartners-hansen/GLCLU_2019/strata/50N_090W.tif\n",
      "Successfully downloaded https://storage.googleapis.com/earthenginepartners-hansen/GLCLU_2019/map/50N_090W.tif\n",
      "Successfully downloaded https://storage.googleapis.com/earthenginepartners-hansen/GLCLU_2019/strata/60N_090W.tif\n",
      "Successfully downloaded https://storage.googleapis.com/earthenginepartners-hansen/GLCLU_2019/map/60N_090W.tif\n",
      "Successfully downloaded https://storage.googleapis.com/earthenginepartners-hansen/GLCLU_2019/strata/70N_090W.tif\n",
      "Successfully downloaded https://storage.googleapis.com/earthenginepartners-hansen/GLCLU_2019/map/70N_090W.tif\n",
      "Successfully downloaded https://storage.googleapis.com/earthenginepartners-hansen/GLCLU_2019/strata/80N_090W.tif\n",
      "Successfully downloaded https://storage.googleapis.com/earthenginepartners-hansen/GLCLU_2019/map/80N_090W.tif\n",
      "Successfully downloaded https://storage.googleapis.com/earthenginepartners-hansen/GLCLU_2019/strata/10N_080W.tif\n",
      "Successfully downloaded https://storage.googleapis.com/earthenginepartners-hansen/GLCLU_2019/map/10N_080W.tif\n",
      "Successfully downloaded https://storage.googleapis.com/earthenginepartners-hansen/GLCLU_2019/strata/20N_080W.tif\n",
      "Successfully downloaded https://storage.googleapis.com/earthenginepartners-hansen/GLCLU_2019/map/20N_080W.tif\n",
      "Successfully downloaded https://storage.googleapis.com/earthenginepartners-hansen/GLCLU_2019/strata/30N_080W.tif\n",
      "Successfully downloaded https://storage.googleapis.com/earthenginepartners-hansen/GLCLU_2019/map/30N_080W.tif\n",
      "Successfully downloaded https://storage.googleapis.com/earthenginepartners-hansen/GLCLU_2019/strata/40N_080W.tif\n",
      "Successfully downloaded https://storage.googleapis.com/earthenginepartners-hansen/GLCLU_2019/map/40N_080W.tif\n",
      "Successfully downloaded https://storage.googleapis.com/earthenginepartners-hansen/GLCLU_2019/strata/50N_080W.tif\n",
      "Successfully downloaded https://storage.googleapis.com/earthenginepartners-hansen/GLCLU_2019/map/50N_080W.tif\n",
      "Successfully downloaded https://storage.googleapis.com/earthenginepartners-hansen/GLCLU_2019/strata/60N_080W.tif\n",
      "Successfully downloaded https://storage.googleapis.com/earthenginepartners-hansen/GLCLU_2019/map/60N_080W.tif\n",
      "Successfully downloaded https://storage.googleapis.com/earthenginepartners-hansen/GLCLU_2019/strata/70N_080W.tif\n",
      "Successfully downloaded https://storage.googleapis.com/earthenginepartners-hansen/GLCLU_2019/map/70N_080W.tif\n",
      "Successfully downloaded https://storage.googleapis.com/earthenginepartners-hansen/GLCLU_2019/strata/80N_080W.tif\n",
      "Successfully downloaded https://storage.googleapis.com/earthenginepartners-hansen/GLCLU_2019/map/80N_080W.tif\n",
      "Successfully downloaded https://storage.googleapis.com/earthenginepartners-hansen/GLCLU_2019/strata/10N_070W.tif\n",
      "Successfully downloaded https://storage.googleapis.com/earthenginepartners-hansen/GLCLU_2019/map/10N_070W.tif\n",
      "Successfully downloaded https://storage.googleapis.com/earthenginepartners-hansen/GLCLU_2019/strata/20N_070W.tif\n",
      "Successfully downloaded https://storage.googleapis.com/earthenginepartners-hansen/GLCLU_2019/map/20N_070W.tif\n",
      "WARNING: download_glclu2019_grid: Global Land Cover Land Use data does not contain data for 30N_070W.tif. Aborting download.\n",
      "WARNING: download_glclu2019_grid: Global Land Cover Land Use data does not contain data for 30N_070W.tif. Aborting download.\n",
      "Successfully downloaded https://storage.googleapis.com/earthenginepartners-hansen/GLCLU_2019/strata/40N_070W.tif\n",
      "Successfully downloaded https://storage.googleapis.com/earthenginepartners-hansen/GLCLU_2019/map/40N_070W.tif\n",
      "Successfully downloaded https://storage.googleapis.com/earthenginepartners-hansen/GLCLU_2019/strata/50N_070W.tif\n",
      "Successfully downloaded https://storage.googleapis.com/earthenginepartners-hansen/GLCLU_2019/map/50N_070W.tif\n",
      "Successfully downloaded https://storage.googleapis.com/earthenginepartners-hansen/GLCLU_2019/strata/60N_070W.tif\n",
      "Successfully downloaded https://storage.googleapis.com/earthenginepartners-hansen/GLCLU_2019/map/60N_070W.tif\n",
      "Successfully downloaded https://storage.googleapis.com/earthenginepartners-hansen/GLCLU_2019/strata/70N_070W.tif\n",
      "Successfully downloaded https://storage.googleapis.com/earthenginepartners-hansen/GLCLU_2019/map/70N_070W.tif\n",
      "Successfully downloaded https://storage.googleapis.com/earthenginepartners-hansen/GLCLU_2019/strata/80N_070W.tif\n",
      "Successfully downloaded https://storage.googleapis.com/earthenginepartners-hansen/GLCLU_2019/map/80N_070W.tif\n",
      "Successfully downloaded https://storage.googleapis.com/earthenginepartners-hansen/GLCLU_2019/strata/10N_060W.tif\n",
      "Successfully downloaded https://storage.googleapis.com/earthenginepartners-hansen/GLCLU_2019/map/10N_060W.tif\n",
      "Successfully downloaded https://storage.googleapis.com/earthenginepartners-hansen/GLCLU_2019/strata/20N_060W.tif\n",
      "Successfully downloaded https://storage.googleapis.com/earthenginepartners-hansen/GLCLU_2019/map/20N_060W.tif\n",
      "WARNING: download_glclu2019_grid: Global Land Cover Land Use data does not contain data for 30N_060W.tif. Aborting download.\n",
      "WARNING: download_glclu2019_grid: Global Land Cover Land Use data does not contain data for 30N_060W.tif. Aborting download.\n",
      "WARNING: download_glclu2019_grid: Global Land Cover Land Use data does not contain data for 40N_060W.tif. Aborting download.\n",
      "WARNING: download_glclu2019_grid: Global Land Cover Land Use data does not contain data for 40N_060W.tif. Aborting download.\n",
      "Successfully downloaded https://storage.googleapis.com/earthenginepartners-hansen/GLCLU_2019/strata/50N_060W.tif\n",
      "Successfully downloaded https://storage.googleapis.com/earthenginepartners-hansen/GLCLU_2019/map/50N_060W.tif\n",
      "Successfully downloaded https://storage.googleapis.com/earthenginepartners-hansen/GLCLU_2019/strata/60N_060W.tif\n",
      "Successfully downloaded https://storage.googleapis.com/earthenginepartners-hansen/GLCLU_2019/map/60N_060W.tif\n",
      "WARNING: download_glclu2019_grid: Global Land Cover Land Use data does not contain data for 70N_060W.tif. Aborting download.\n",
      "WARNING: download_glclu2019_grid: Global Land Cover Land Use data does not contain data for 70N_060W.tif. Aborting download.\n",
      "WARNING: download_glclu2019_grid: Global Land Cover Land Use data does not contain data for 80N_060W.tif. Aborting download.\n",
      "WARNING: download_glclu2019_grid: Global Land Cover Land Use data does not contain data for 80N_060W.tif. Aborting download.\n",
      "Successfully downloaded https://storage.googleapis.com/earthenginepartners-hansen/GLCLU_2019/strata/10N_050W.tif\n",
      "Successfully downloaded https://storage.googleapis.com/earthenginepartners-hansen/GLCLU_2019/map/10N_050W.tif\n",
      "WARNING: download_glclu2019_grid: Global Land Cover Land Use data does not contain data for 20N_050W.tif. Aborting download.\n",
      "WARNING: download_glclu2019_grid: Global Land Cover Land Use data does not contain data for 20N_050W.tif. Aborting download.\n",
      "WARNING: download_glclu2019_grid: Global Land Cover Land Use data does not contain data for 30N_050W.tif. Aborting download.\n",
      "WARNING: download_glclu2019_grid: Global Land Cover Land Use data does not contain data for 30N_050W.tif. Aborting download.\n",
      "WARNING: download_glclu2019_grid: Global Land Cover Land Use data does not contain data for 40N_050W.tif. Aborting download.\n",
      "WARNING: download_glclu2019_grid: Global Land Cover Land Use data does not contain data for 40N_050W.tif. Aborting download.\n",
      "WARNING: download_glclu2019_grid: Global Land Cover Land Use data does not contain data for 50N_050W.tif. Aborting download.\n",
      "WARNING: download_glclu2019_grid: Global Land Cover Land Use data does not contain data for 50N_050W.tif. Aborting download.\n",
      "WARNING: download_glclu2019_grid: Global Land Cover Land Use data does not contain data for 60N_050W.tif. Aborting download.\n",
      "WARNING: download_glclu2019_grid: Global Land Cover Land Use data does not contain data for 60N_050W.tif. Aborting download.\n",
      "WARNING: download_glclu2019_grid: Global Land Cover Land Use data does not contain data for 70N_050W.tif. Aborting download.\n",
      "WARNING: download_glclu2019_grid: Global Land Cover Land Use data does not contain data for 70N_050W.tif. Aborting download.\n",
      "WARNING: download_glclu2019_grid: Global Land Cover Land Use data does not contain data for 80N_050W.tif. Aborting download.\n",
      "WARNING: download_glclu2019_grid: Global Land Cover Land Use data does not contain data for 80N_050W.tif. Aborting download.\n"
     ]
    }
   ],
   "source": [
    "for dl_lon in glclu_lon:\n",
    "    for dl_lat in glclu_lat:\n",
    "        map_url = land_map_url.format(dl_lat,dl_lon) # Replace placeholder values in url with download coordinates\n",
    "        cs.download_glclu2019_grid(map_url,download_folder_map)\n",
    "        \n",
    "        strata_url = land_strata_url.format(dl_lat,dl_lon)\n",
    "        cs.download_glclu2019_grid(strata_url,download_folder_strata)"
   ]
  },
  {
   "cell_type": "markdown",
   "id": "d563d2b4-e0fc-4ff3-8a85-3c4009f4d94e",
   "metadata": {},
   "source": [
    "### Merge"
   ]
  },
  {
   "cell_type": "code",
   "execution_count": 5,
   "id": "c663846e-6d8e-4c5e-8eff-f17e0a1d7349",
   "metadata": {},
   "outputs": [],
   "source": [
    "# Define the output file\n",
    "merged_map_file = 'glclu2019_map.tif'\n",
    "merged_strata_file = 'glclu2019_strata.tif'\n",
    "merged_folder = Path(data_path) / geospatial_temp_path / 'glclu2019' / 'raw' # We'll end up with two files in here only, so no need to separate into 'map' and 'strata'"
   ]
  },
  {
   "cell_type": "code",
   "execution_count": 66,
   "id": "26d7cbd3-628e-4041-9126-8d82f541e5ac",
   "metadata": {},
   "outputs": [],
   "source": [
    "cs.merge_glclu2019_files_into_one(merged_map_file, download_folder_map, merged_folder, download_area)"
   ]
  },
  {
   "cell_type": "code",
   "execution_count": 68,
   "id": "3d68dc35-9e7c-43b7-8fed-f405f6048073",
   "metadata": {},
   "outputs": [],
   "source": [
    "cs.merge_glclu2019_files_into_one(merged_strata_file, download_folder_strata, merged_folder, download_area)"
   ]
  },
  {
   "cell_type": "code",
   "execution_count": 6,
   "id": "d1671ca4-9461-4ee2-bd19-bc05b0949e5e",
   "metadata": {},
   "outputs": [
    {
     "name": "stdout",
     "output_type": "stream",
     "text": [
      "Successfully downloaded https://glad.umd.edu/sites/default/files/legend_0.xlsx\n"
     ]
    }
   ],
   "source": [
    "# Ensure we have the legend with the data\n",
    "cs.download_url_into_folder(strata_legend, merged_folder)"
   ]
  },
  {
   "cell_type": "markdown",
   "id": "d6761a7e-49ea-467b-91c5-75878b4ae5a7",
   "metadata": {},
   "source": [
    "### Delete the individual GeoTIFF files to save space"
   ]
  },
  {
   "cell_type": "code",
   "execution_count": 67,
   "id": "86f06911-257d-4474-a1f9-a482ad862989",
   "metadata": {},
   "outputs": [],
   "source": [
    "if os.path.isdir(download_folder_map): \n",
    "    shutil.rmtree(download_folder_map)"
   ]
  },
  {
   "cell_type": "code",
   "execution_count": 69,
   "id": "541f8819-6737-4a79-90c6-c2d3427317cc",
   "metadata": {},
   "outputs": [],
   "source": [
    "if os.path.isdir(download_folder_strata): \n",
    "    shutil.rmtree(download_folder_strata)"
   ]
  },
  {
   "cell_type": "code",
   "execution_count": 70,
   "id": "452b1428-ca5c-4206-bc29-c1fdb7373154",
   "metadata": {},
   "outputs": [],
   "source": [
    "if os.path.isdir(download_folder): \n",
    "    shutil.rmtree(download_folder) # main folder that contained the 'map' and 'strata' folders"
   ]
  },
  {
   "cell_type": "code",
   "execution_count": null,
   "id": "9152aa3c-523f-447b-9648-cb265af61a77",
   "metadata": {},
   "outputs": [],
   "source": []
  }
 ],
 "metadata": {
  "kernelspec": {
   "display_name": "camels-spat-env",
   "language": "python",
   "name": "camels-spat-env"
  },
  "language_info": {
   "codemirror_mode": {
    "name": "ipython",
    "version": 3
   },
   "file_extension": ".py",
   "mimetype": "text/x-python",
   "name": "python",
   "nbconvert_exporter": "python",
   "pygments_lexer": "ipython3",
   "version": "3.8.2"
  }
 },
 "nbformat": 4,
 "nbformat_minor": 5
}
