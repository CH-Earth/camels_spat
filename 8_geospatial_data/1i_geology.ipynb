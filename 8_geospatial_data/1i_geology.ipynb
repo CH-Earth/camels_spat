{
 "cells": [
  {
   "cell_type": "markdown",
   "id": "eac14cb6-e36c-40ff-af6f-6a97883c94ae",
   "metadata": {},
   "source": [
    "# Download and process GLHYMPS data into a set of shapefiles at native resolution"
   ]
  },
  {
   "cell_type": "code",
   "execution_count": 1,
   "id": "13b25464-3b95-4b55-a0d7-6478712f3fd1",
   "metadata": {},
   "outputs": [],
   "source": [
    "import os\n",
    "import sys\n",
    "import shutil\n",
    "import zipfile\n",
    "from pathlib import Path\n",
    "sys.path.append(str(Path().absolute().parent))\n",
    "import python_cs_functions as cs"
   ]
  },
  {
   "cell_type": "markdown",
   "id": "1105f8e2-2538-49f0-aa6e-62a49e7792c2",
   "metadata": {},
   "source": [
    "### Config handling                                                                                        "
   ]
  },
  {
   "cell_type": "code",
   "execution_count": 2,
   "id": "68e52698-c146-4983-afb9-28e5db7d4712",
   "metadata": {},
   "outputs": [],
   "source": [
    "# Specify where the config file can be found\n",
    "config_file = '../0_config/config.txt'"
   ]
  },
  {
   "cell_type": "code",
   "execution_count": 3,
   "id": "0ae2150d-cc19-46e1-991a-0796446ed551",
   "metadata": {},
   "outputs": [],
   "source": [
    "# Get the required info from the config file\n",
    "data_path            = cs.read_from_config(config_file,'data_path')\n",
    "geospatial_temp_path = cs.read_from_config(config_file,'geospatial_temp_path')\n",
    "geology_path         = cs.read_from_config(config_file,'geology_path')\n",
    "geology_url          = cs.read_from_config(config_file,'geology_url')\n",
    "download_area        = cs.read_from_config(config_file,'geospatial_area')"
   ]
  },
  {
   "cell_type": "markdown",
   "id": "61513bba-51f9-4b3b-9815-3784fea409da",
   "metadata": {},
   "source": [
    "### Setup"
   ]
  },
  {
   "cell_type": "code",
   "execution_count": 4,
   "id": "e9133715-827b-4950-8e52-3e9c3ee381c9",
   "metadata": {},
   "outputs": [],
   "source": [
    "# Folders\n",
    "download_folder = Path(data_path) / geospatial_temp_path / geology_path / 'download'\n",
    "raw_folder = Path(data_path) / geospatial_temp_path / geology_path / 'raw'"
   ]
  },
  {
   "cell_type": "code",
   "execution_count": 5,
   "id": "66258c99-33ce-4c45-be8b-d1aed74982fa",
   "metadata": {},
   "outputs": [],
   "source": [
    "download_folder.mkdir(parents=True, exist_ok=True)\n",
    "raw_folder.mkdir(parents=True, exist_ok=True)"
   ]
  },
  {
   "cell_type": "code",
   "execution_count": 6,
   "id": "325e043a-d1c1-477a-b711-3f100812dd3a",
   "metadata": {},
   "outputs": [],
   "source": [
    "# Convert subsetting area into a usable GDAL setting\n",
    "# subset_area = [lon_min, lon_max, lat_min, lat_max]\n",
    "# GDAL window = [ulx, uly, lrx, lry]; [upper left x, upper left y, lower right x, lower right y]\n",
    "# Mapping:\n",
    "#   ulx = lon_min = subset_area[0]\n",
    "#   uly = lat_max = subset_area[3]\n",
    "#   lrx = lon_max = subset_area[1]\n",
    "#   lry = lat_min = subset_area[2]\n",
    "subset_coor = download_area.split(',')\n",
    "window = [subset_coor[0], subset_coor[3], subset_coor[1], subset_coor[2]]"
   ]
  },
  {
   "cell_type": "markdown",
   "id": "6d9197de-2fac-4a5f-af8f-a882bd654307",
   "metadata": {},
   "source": [
    "### Downloading"
   ]
  },
  {
   "cell_type": "markdown",
   "id": "2ac8ca68-d5c8-4998-89ac-ce3c2c5e03e0",
   "metadata": {},
   "source": [
    "Unfortunately, this is a manual download because you'll need to accept a data license agreement (CC-BY 4.0). Such is life, I guess. Go here: https://borealisdata.ca/file.xhtml?fileId=72026&version=1.0\n",
    "\n"
   ]
  },
  {
   "cell_type": "markdown",
   "id": "44e9a17d-772e-4f8b-ba8b-38758c7165eb",
   "metadata": {},
   "source": [
    "### Unzip"
   ]
  },
  {
   "cell_type": "code",
   "execution_count": 19,
   "id": "553ff9d3-873b-48f2-ab50-532b7907a7ea",
   "metadata": {},
   "outputs": [],
   "source": [
    "file = cs.find_files_in_folder(download_folder, '.zip')[0] # function returns a list, but we know there's only 1 thing in there"
   ]
  },
  {
   "cell_type": "code",
   "execution_count": 20,
   "id": "eb93b898-a75c-4246-8751-fde946b28cd7",
   "metadata": {},
   "outputs": [],
   "source": [
    "with zipfile.ZipFile(download_folder/file, 'r') as zip_ref:\n",
    "    zip_ref.extractall(download_folder)"
   ]
  },
  {
   "cell_type": "code",
   "execution_count": 21,
   "id": "056b7e25-f8d9-435e-926d-e01146ea66a8",
   "metadata": {},
   "outputs": [],
   "source": [
    "os.remove(download_folder/file)"
   ]
  },
  {
   "cell_type": "markdown",
   "id": "14264fd0-0678-4ea8-9ea3-782433d2cc71",
   "metadata": {},
   "source": [
    "### Subset"
   ]
  },
  {
   "cell_type": "code",
   "execution_count": 6,
   "id": "6ecb25de-356d-4d84-b7fa-a7eda71ba80f",
   "metadata": {},
   "outputs": [],
   "source": [
    "import geopandas as gpd\n",
    "from shapely.geometry import box"
   ]
  },
  {
   "cell_type": "code",
   "execution_count": 9,
   "id": "9b83013b-6d7b-4825-ae2d-a7020e76b2e1",
   "metadata": {},
   "outputs": [],
   "source": [
    "gdb_file = download_folder / 'GLHYMPS' / 'GLHYMPS.gdb'"
   ]
  },
  {
   "cell_type": "code",
   "execution_count": 33,
   "id": "735a85be-fd5a-4aa6-8352-6906f3935787",
   "metadata": {},
   "outputs": [],
   "source": [
    "raw_file = raw_folder / 'glhymps.shp'"
   ]
  },
  {
   "cell_type": "code",
   "execution_count": 37,
   "id": "f9095a12-762e-49ac-8cbf-969b3a52dbe5",
   "metadata": {},
   "outputs": [
    {
     "name": "stderr",
     "output_type": "stream",
     "text": [
      "C:\\Users\\wmk934\\AppData\\Local\\Temp\\1\\ipykernel_9088\\3225398715.py:15: UserWarning: Column names longer than 10 characters will be truncated when saved to ESRI Shapefile.\n",
      "  subset.to_file(shp_file)\n"
     ]
    }
   ],
   "source": [
    "cs.process_glhymps(gdb_file,raw_file,download_area)"
   ]
  },
  {
   "cell_type": "markdown",
   "id": "33e6abed-a607-4a78-9d1e-6bb8de5ab747",
   "metadata": {},
   "source": [
    "### Remove temporary files"
   ]
  },
  {
   "cell_type": "code",
   "execution_count": 38,
   "id": "7179abe0-74dc-4f5c-82a6-3d46f1beda24",
   "metadata": {},
   "outputs": [
    {
     "data": {
      "text/plain": [
       "WindowsPath('C:/Globus endpoint/CAMELS_spat/geospatial_temp/glhymps/raw/readme.txt')"
      ]
     },
     "execution_count": 38,
     "metadata": {},
     "output_type": "execute_result"
    }
   ],
   "source": [
    "# Retain the readme\n",
    "shutil.move(download_folder / 'GLHYMPS' / 'readme.txt', raw_folder / 'readme.txt')"
   ]
  },
  {
   "cell_type": "code",
   "execution_count": 39,
   "id": "e3f342da-0b3a-4b92-a399-acbc459e51f3",
   "metadata": {},
   "outputs": [],
   "source": [
    "# Remove the download folder to save space\n",
    "shutil.rmtree(download_folder)"
   ]
  },
  {
   "cell_type": "code",
   "execution_count": null,
   "id": "1a959ffb-a95e-4154-8b54-157fb90b098a",
   "metadata": {},
   "outputs": [],
   "source": []
  }
 ],
 "metadata": {
  "kernelspec": {
   "display_name": "camels-spat-env",
   "language": "python",
   "name": "camels-spat-env"
  },
  "language_info": {
   "codemirror_mode": {
    "name": "ipython",
    "version": 3
   },
   "file_extension": ".py",
   "mimetype": "text/x-python",
   "name": "python",
   "nbconvert_exporter": "python",
   "pygments_lexer": "ipython3",
   "version": "3.8.2"
  }
 },
 "nbformat": 4,
 "nbformat_minor": 5
}
