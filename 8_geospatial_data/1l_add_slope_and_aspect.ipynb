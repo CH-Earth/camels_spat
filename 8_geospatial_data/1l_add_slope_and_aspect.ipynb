{
 "cells": [
  {
   "cell_type": "markdown",
   "id": "50fe5233-c08f-40be-ac74-79e31abc8225",
   "metadata": {},
   "source": [
    "# Derive slope and aspect\n",
    "We have the MERIT DEM. Here we derive slope and aspects maps from that. "
   ]
  },
  {
   "cell_type": "code",
   "execution_count": 1,
   "id": "ee279e8c-b243-4f34-9da4-7c24e594085e",
   "metadata": {},
   "outputs": [],
   "source": [
    "import sys\n",
    "from pathlib import Path\n",
    "sys.path.append(str(Path().absolute().parent))\n",
    "import python_cs_functions as cs"
   ]
  },
  {
   "cell_type": "markdown",
   "id": "900df168-a0d5-4830-aaac-8748bf439f42",
   "metadata": {},
   "source": [
    "### Config handling"
   ]
  },
  {
   "cell_type": "code",
   "execution_count": 2,
   "id": "aae5563b-338b-477d-8ec4-d5638df8518b",
   "metadata": {},
   "outputs": [],
   "source": [
    "# Specify where the config file can be found\n",
    "config_file = '../0_config/config.txt'"
   ]
  },
  {
   "cell_type": "code",
   "execution_count": 3,
   "id": "90c9c947-a00f-4e5d-a4eb-8adec6962e3d",
   "metadata": {},
   "outputs": [],
   "source": [
    "# Get the required info from the config file\n",
    "data_path            = cs.read_from_config(config_file,'data_path')\n",
    "geospatial_temp_path = cs.read_from_config(config_file,'geospatial_temp_path')\n",
    "dem_path             = cs.read_from_config(config_file,'dem_path')\n",
    "tar_crs              = cs.read_from_config(config_file,'dem_calc_crs')"
   ]
  },
  {
   "cell_type": "markdown",
   "id": "ff1defeb-f34f-4c00-82cf-1d8e801eaae9",
   "metadata": {},
   "source": [
    "### Data locations"
   ]
  },
  {
   "cell_type": "code",
   "execution_count": 8,
   "id": "b0ec3406-1692-444b-87c8-003614192a06",
   "metadata": {},
   "outputs": [],
   "source": [
    "dem_path = Path(data_path) / geospatial_temp_path / 'merit' / 'raw' / 'merit_hydro_elv.tif'"
   ]
  },
  {
   "cell_type": "code",
   "execution_count": 11,
   "id": "dfe0f8e3-c61a-40ca-875d-3424f27cbbd3",
   "metadata": {},
   "outputs": [],
   "source": [
    "temp_path = Path(data_path) / geospatial_temp_path / 'merit' / 'tmp' # needed for reprojections"
   ]
  },
  {
   "cell_type": "code",
   "execution_count": 10,
   "id": "08b87e62-702f-4fb7-9e33-84fbcbafdc28",
   "metadata": {},
   "outputs": [],
   "source": [
    "slope_path = Path(data_path) / geospatial_temp_path  / 'merit' / 'slope'\n",
    "aspect_path = Path(data_path) / geospatial_temp_path / 'merit' / 'aspect'"
   ]
  },
  {
   "cell_type": "code",
   "execution_count": 12,
   "id": "d1d5c47f-f150-40df-84a3-673eaad822a3",
   "metadata": {},
   "outputs": [],
   "source": [
    "slope_path.mkdir(exist_ok=True, parents=True)\n",
    "aspect_path.mkdir(exist_ok=True, parents=True)\n",
    "temp_path.mkdir(exist_ok=True, parents=True)"
   ]
  },
  {
   "cell_type": "markdown",
   "id": "537a3d17-8059-400f-b879-5de1ead59678",
   "metadata": {},
   "source": [
    "### Convert the DEM into a projection in meters\n",
    "We need this because calcualting a slope on in EPSG:4326 returns wonky results."
   ]
  },
  {
   "cell_type": "code",
   "execution_count": 13,
   "id": "0c3c3cdd-46ef-4530-ac61-3c5e1495c6e2",
   "metadata": {},
   "outputs": [],
   "source": [
    "from osgeo import gdal"
   ]
  },
  {
   "cell_type": "code",
   "execution_count": 14,
   "id": "ae5b4502-6692-4332-baf6-149ccd354ba3",
   "metadata": {},
   "outputs": [],
   "source": [
    "gdal.UseExceptions()"
   ]
  },
  {
   "cell_type": "code",
   "execution_count": null,
   "id": "5d798682-4999-4d31-bb51-e9788b3f5624",
   "metadata": {},
   "outputs": [],
   "source": [
    "tmp = tar_crs.replace(':','-') # because f-strings choke on this\n",
    "lcc_elev = str(temp_path / f'merit_hydro_elv_{tmp}.tif')"
   ]
  },
  {
   "cell_type": "code",
   "execution_count": null,
   "id": "76bb22e2-cb8b-432d-87e1-ddd0ea266951",
   "metadata": {},
   "outputs": [],
   "source": [
    "options = gdal.WarpOptions(format='GTiff',\n",
    "                           srcSRS='epsg:4326', dstSRS=tar_crs) # ignore compression for this temporary fileb"
   ]
  },
  {
   "cell_type": "code",
   "execution_count": null,
   "id": "2d7fa47d-da34-461d-9e21-2bcc4b4c3d41",
   "metadata": {},
   "outputs": [],
   "source": [
    "gdal.Warp(lcc_elev, dem_path, options=options)"
   ]
  },
  {
   "cell_type": "markdown",
   "id": "c42f36ef-719e-4820-bfa6-a2ccc8a27178",
   "metadata": {},
   "source": [
    "### Create slope and aspect files\n",
    "We'll run this through subprocess because for some reason I can't get `gdal.DEMProcessing` to work as expected."
   ]
  },
  {
   "cell_type": "code",
   "execution_count": 15,
   "id": "7ca42a7a-19be-4537-b335-ecd93ed98293",
   "metadata": {},
   "outputs": [],
   "source": [
    "import subprocess"
   ]
  },
  {
   "cell_type": "markdown",
   "id": "8bc230be-5475-4fb1-bcb8-caa15b60cbd6",
   "metadata": {},
   "source": [
    "#### Slope"
   ]
  },
  {
   "cell_type": "code",
   "execution_count": null,
   "id": "c72ba259-9d49-47c0-8960-52b8c9623860",
   "metadata": {},
   "outputs": [],
   "source": [
    "lcc_slope = str(temp_path / 'merit_hydro_slope.tif') # Still in ESRI:102009"
   ]
  },
  {
   "cell_type": "code",
   "execution_count": null,
   "id": "850d45ee-5879-4385-afe7-8bab8a84d3b8",
   "metadata": {},
   "outputs": [],
   "source": [
    "gdal_command = ['gdaldem', 'slope', lcc_elev, lcc_slope, \n",
    "                '-alg', 'Horn', '-compute_edges']#,\n",
    "                #'-co', 'COMPRESS=DEFLATE', '-co', 'BIGTIFF=YES']\n",
    "# can't compress here because gdalwarp is, apparently, quite bad at compression. We'll do this later"
   ]
  },
  {
   "cell_type": "code",
   "execution_count": null,
   "id": "3f107210-99de-48b5-bea7-a95678f59748",
   "metadata": {},
   "outputs": [],
   "source": [
    "subprocess.run(gdal_command)"
   ]
  },
  {
   "cell_type": "markdown",
   "id": "933d8b05-465d-49eb-bb2d-16b42aaf7a5e",
   "metadata": {},
   "source": [
    "#### Aspect"
   ]
  },
  {
   "cell_type": "code",
   "execution_count": null,
   "id": "7283cd68-f5c9-4487-be05-415d6068ae99",
   "metadata": {},
   "outputs": [],
   "source": [
    "lcc_aspect = str(temp_path / 'merit_hydro_aspect.tif') # Still in ESRI:102009"
   ]
  },
  {
   "cell_type": "code",
   "execution_count": null,
   "id": "85744bf4-42bc-4ec6-bc37-760beeac0e39",
   "metadata": {},
   "outputs": [],
   "source": [
    "gdal_command = ['gdaldem', 'aspect', lcc_elev, lcc_aspect, \n",
    "                '-alg', 'Horn', '-compute_edges']"
   ]
  },
  {
   "cell_type": "code",
   "execution_count": null,
   "id": "7c25657a-3dab-466f-a3be-5b5cbcd4e2ab",
   "metadata": {},
   "outputs": [],
   "source": [
    "subprocess.run(gdal_command)"
   ]
  },
  {
   "cell_type": "markdown",
   "id": "b4de011e-67a9-40be-8362-aef845cb7d39",
   "metadata": {},
   "source": [
    "### Transform back to EPSG:4326 and compress"
   ]
  },
  {
   "cell_type": "code",
   "execution_count": null,
   "id": "14f898ba-7fed-486d-ac63-1ec57341a3ed",
   "metadata": {},
   "outputs": [],
   "source": [
    "warp_options = gdal.WarpOptions(format='GTiff',srcSRS=tar_crs, dstSRS='epsg:4326')\n",
    "tran_options = ['COMPRESS=DEFLATE', 'BIGTIFF=YES']"
   ]
  },
  {
   "cell_type": "code",
   "execution_count": null,
   "id": "7efe5030-d4c7-4124-9e6c-d0363bb0adb3",
   "metadata": {},
   "outputs": [],
   "source": [
    "tmp_file = str(temp_path / 'transfer.tif')"
   ]
  },
  {
   "cell_type": "markdown",
   "id": "e0f780ed-313d-46f0-b0c9-e2f2b6a58563",
   "metadata": {},
   "source": [
    "#### Slope"
   ]
  },
  {
   "cell_type": "code",
   "execution_count": null,
   "id": "eabbb06f-ca0d-4e6d-b7ce-0e1d04fdb9d6",
   "metadata": {},
   "outputs": [],
   "source": [
    "slope_out = str(slope_path / 'merit_hydro_slope.tif')"
   ]
  },
  {
   "cell_type": "code",
   "execution_count": null,
   "id": "d49639d1-5beb-45f0-b370-b577889d39fe",
   "metadata": {},
   "outputs": [],
   "source": [
    "gdal.Warp(tmp_file, lcc_slope, options=warp_options).FlushCache() # Reproject"
   ]
  },
  {
   "cell_type": "code",
   "execution_count": null,
   "id": "81658bcf-a301-4665-99b4-c19daa49813d",
   "metadata": {},
   "outputs": [],
   "source": [
    "gdal.Translate(slope_out, tmp_file, creationOptions=tran_options).FlushCache()"
   ]
  },
  {
   "cell_type": "markdown",
   "id": "a9cee97e-2494-41ca-9653-8fb203cef56b",
   "metadata": {},
   "source": [
    "#### Aspect"
   ]
  },
  {
   "cell_type": "code",
   "execution_count": null,
   "id": "9a892777-d551-4b54-8852-292dcfc089c7",
   "metadata": {},
   "outputs": [],
   "source": [
    "aspect_out = str(aspect_path / 'merit_hydro_aspect.tif')"
   ]
  },
  {
   "cell_type": "code",
   "execution_count": null,
   "id": "744646a4-87ae-4010-ac52-ce2e297c163e",
   "metadata": {},
   "outputs": [],
   "source": [
    "gdal.Warp(tmp_file, lcc_aspect, options=warp_options).FlushCache() # Reproject"
   ]
  },
  {
   "cell_type": "code",
   "execution_count": null,
   "id": "70ed0b31-28d4-4f7e-9938-c1531e22e27c",
   "metadata": {},
   "outputs": [],
   "source": [
    "gdal.Translate(aspect_out, tmp_file, creationOptions=tran_options).FlushCache()"
   ]
  },
  {
   "cell_type": "markdown",
   "id": "b827e219-54d3-40d1-b681-00cfff6f4e4d",
   "metadata": {},
   "source": [
    "### Remove temp folder"
   ]
  },
  {
   "cell_type": "code",
   "execution_count": 17,
   "id": "a8c4acbc-8a57-472e-b8eb-7766af3c4c73",
   "metadata": {},
   "outputs": [],
   "source": [
    "import shutil"
   ]
  },
  {
   "cell_type": "code",
   "execution_count": 18,
   "id": "42c87ea0-1d00-4356-8aa2-da32b66db91a",
   "metadata": {},
   "outputs": [],
   "source": [
    "shutil.rmtree(temp_path)"
   ]
  },
  {
   "cell_type": "code",
   "execution_count": null,
   "id": "de2bf080-c567-4ca6-91b1-69ff339e0161",
   "metadata": {},
   "outputs": [],
   "source": []
  }
 ],
 "metadata": {
  "kernelspec": {
   "display_name": "camels-spat-env",
   "language": "python",
   "name": "camels-spat-env"
  },
  "language_info": {
   "codemirror_mode": {
    "name": "ipython",
    "version": 3
   },
   "file_extension": ".py",
   "mimetype": "text/x-python",
   "name": "python",
   "nbconvert_exporter": "python",
   "pygments_lexer": "ipython3",
   "version": "3.11.5"
  }
 },
 "nbformat": 4,
 "nbformat_minor": 5
}
