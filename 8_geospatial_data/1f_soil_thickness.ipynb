{
 "cells": [
  {
   "cell_type": "markdown",
   "id": "eac14cb6-e36c-40ff-af6f-6a97883c94ae",
   "metadata": {},
   "source": [
    "# Download and process Pelletier soil data set into geotiffs at native resolution"
   ]
  },
  {
   "cell_type": "code",
   "execution_count": 1,
   "id": "13b25464-3b95-4b55-a0d7-6478712f3fd1",
   "metadata": {},
   "outputs": [],
   "source": [
    "import os\n",
    "import sys\n",
    "import shutil\n",
    "from pathlib import Path\n",
    "sys.path.append(str(Path().absolute().parent))\n",
    "import python_cs_functions as cs"
   ]
  },
  {
   "cell_type": "markdown",
   "id": "1105f8e2-2538-49f0-aa6e-62a49e7792c2",
   "metadata": {},
   "source": [
    "### Config handling                                                                                        "
   ]
  },
  {
   "cell_type": "code",
   "execution_count": 2,
   "id": "68e52698-c146-4983-afb9-28e5db7d4712",
   "metadata": {},
   "outputs": [],
   "source": [
    "# Specify where the config file can be found\n",
    "config_file = '../0_config/config.txt'"
   ]
  },
  {
   "cell_type": "code",
   "execution_count": 3,
   "id": "0ae2150d-cc19-46e1-991a-0796446ed551",
   "metadata": {},
   "outputs": [],
   "source": [
    "# Get the required info from the config file\n",
    "code_path            = cs.read_from_config(config_file,'code_path')\n",
    "data_path            = cs.read_from_config(config_file,'data_path')\n",
    "geospatial_temp_path = cs.read_from_config(config_file,'geospatial_temp_path')\n",
    "soil_path            = cs.read_from_config(config_file,'soil_depth_path')\n",
    "soil_url_file        = cs.read_from_config(config_file,'soil_depth_urls')\n",
    "download_area        = cs.read_from_config(config_file,'geospatial_area')"
   ]
  },
  {
   "cell_type": "markdown",
   "id": "998d5126-0a72-4499-9add-1daf8d8db4cf",
   "metadata": {},
   "source": [
    "### Download data"
   ]
  },
  {
   "cell_type": "code",
   "execution_count": 4,
   "id": "e9133715-827b-4950-8e52-3e9c3ee381c9",
   "metadata": {},
   "outputs": [],
   "source": [
    "download_folder = Path(data_path) / geospatial_temp_path / soil_path / 'download'"
   ]
  },
  {
   "cell_type": "code",
   "execution_count": 5,
   "id": "66258c99-33ce-4c45-be8b-d1aed74982fa",
   "metadata": {},
   "outputs": [],
   "source": [
    "download_folder.mkdir(parents=True, exist_ok=True)"
   ]
  },
  {
   "cell_type": "code",
   "execution_count": 10,
   "id": "c64d2731-ffb9-4e45-9b6b-75d4db5841a4",
   "metadata": {},
   "outputs": [
    {
     "name": "stdout",
     "output_type": "stream",
     "text": [
      "Successfully downloaded https://daac.ornl.gov/daacdata/global_soil/Global_Soil_Regolith_Sediment/data/average_soil_and_sedimentary-deposit_thickness.tif\n",
      "\n",
      "Successfully downloaded https://daac.ornl.gov/daacdata/global_soil/Global_Soil_Regolith_Sediment/data/hill-slope_valley-bottom.tif\n",
      "\n",
      "Successfully downloaded https://daac.ornl.gov/daacdata/global_soil/Global_Soil_Regolith_Sediment/data/land_cover_mask.tif\n",
      "\n",
      "Successfully downloaded https://daac.ornl.gov/daacdata/global_soil/Global_Soil_Regolith_Sediment/data/upland_hill-slope_regolith_thickness.tif\n",
      "\n",
      "Successfully downloaded https://daac.ornl.gov/daacdata/global_soil/Global_Soil_Regolith_Sediment/data/upland_hill-slope_soil_thickness.tif\n",
      "\n",
      "Successfully downloaded https://daac.ornl.gov/daacdata/global_soil/Global_Soil_Regolith_Sediment/data/upland_valley-bottom_and_lowland_sedimentary_deposit_thickness.tif\n"
     ]
    }
   ],
   "source": [
    "with open(Path(code_path)/soil_url_file) as url_file:\n",
    "    for url in url_file:\n",
    "        cs.download_url_into_folder(url,download_folder)"
   ]
  },
  {
   "cell_type": "code",
   "execution_count": 5,
   "id": "16bb0e32-8d45-419a-a46e-edfb1f9d6d2f",
   "metadata": {},
   "outputs": [],
   "source": [
    "# Track files\n",
    "contents = os.listdir(download_folder)\n",
    "src_files = [download_folder/file for file in contents]"
   ]
  },
  {
   "cell_type": "markdown",
   "id": "d563d2b4-e0fc-4ff3-8a85-3c4009f4d94e",
   "metadata": {},
   "source": [
    "### Subset files to domain"
   ]
  },
  {
   "cell_type": "code",
   "execution_count": 6,
   "id": "23b32d3b-33a2-4467-b54c-3c92024c9c49",
   "metadata": {},
   "outputs": [],
   "source": [
    "des_folder = Path(data_path) / geospatial_temp_path / soil_path / 'raw'"
   ]
  },
  {
   "cell_type": "code",
   "execution_count": 7,
   "id": "254bf809-7879-4d37-bbd0-b390fa2bdbed",
   "metadata": {},
   "outputs": [],
   "source": [
    "des_folder.mkdir(parents=True, exist_ok=True)"
   ]
  },
  {
   "cell_type": "code",
   "execution_count": 8,
   "id": "f58e049b-25cf-436d-9a1e-e3397df2e78b",
   "metadata": {},
   "outputs": [],
   "source": [
    "# Convert subsetting area into a usable GDAL setting\n",
    "# subset_area = [lon_min, lon_max, lat_min, lat_max]\n",
    "# GDAL window = [ulx, uly, lrx, lry]; [upper left x, upper left y, lower right x, lower right y]\n",
    "# Mapping:\n",
    "#   ulx = lon_min = subset_area[0]\n",
    "#   uly = lat_max = subset_area[3]\n",
    "#   lrx = lon_max = subset_area[1]\n",
    "#   lry = lat_min = subset_area[2]\n",
    "subset_coor = download_area.split(',')\n",
    "window = [subset_coor[0], subset_coor[3], subset_coor[1], subset_coor[2]]"
   ]
  },
  {
   "cell_type": "code",
   "execution_count": 10,
   "id": "2139f435-2b9c-4d0b-b861-67287736dea8",
   "metadata": {},
   "outputs": [],
   "source": [
    "for src_file in src_files:\n",
    "    des_file = des_folder/os.path.basename(src_file)\n",
    "    cs.subset_tif(src_file,des_file,window)"
   ]
  },
  {
   "cell_type": "markdown",
   "id": "d6761a7e-49ea-467b-91c5-75878b4ae5a7",
   "metadata": {},
   "source": [
    "### Delete the individual GeoTIFF files to save space"
   ]
  },
  {
   "cell_type": "code",
   "execution_count": 11,
   "id": "452b1428-ca5c-4206-bc29-c1fdb7373154",
   "metadata": {},
   "outputs": [],
   "source": [
    "if os.path.isdir(download_folder): \n",
    "    shutil.rmtree(download_folder)"
   ]
  },
  {
   "cell_type": "code",
   "execution_count": null,
   "id": "9152aa3c-523f-447b-9648-cb265af61a77",
   "metadata": {},
   "outputs": [],
   "source": []
  }
 ],
 "metadata": {
  "kernelspec": {
   "display_name": "camels-spat-env",
   "language": "python",
   "name": "camels-spat-env"
  },
  "language_info": {
   "codemirror_mode": {
    "name": "ipython",
    "version": 3
   },
   "file_extension": ".py",
   "mimetype": "text/x-python",
   "name": "python",
   "nbconvert_exporter": "python",
   "pygments_lexer": "ipython3",
   "version": "3.8.2"
  }
 },
 "nbformat": 4,
 "nbformat_minor": 5
}
