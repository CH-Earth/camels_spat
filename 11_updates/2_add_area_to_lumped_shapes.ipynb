{
 "cells": [
  {
   "cell_type": "markdown",
   "id": "1d756661-a56b-4cc5-b483-566a3ca3053e",
   "metadata": {},
   "source": [
    "# Add total basin area to lumped shapefiles\n",
    "This brings them in line with the distributed files that have sub-basin areas in the `unitarea` field."
   ]
  },
  {
   "cell_type": "code",
   "execution_count": 23,
   "id": "3e2b107f-dab8-4741-8a13-90a516436f7a",
   "metadata": {},
   "outputs": [],
   "source": [
    "import warnings\n",
    "import geopandas as gpd\n",
    "from pathlib import Path"
   ]
  },
  {
   "cell_type": "code",
   "execution_count": 6,
   "id": "65a5f663-62a1-499e-b0eb-369ad50a13de",
   "metadata": {},
   "outputs": [],
   "source": [
    "# Data location\n",
    "cs_main_folder = Path(\"/scratch/gwf/gwf_cmt/wknoben/camels-spat-upload\")"
   ]
  },
  {
   "cell_type": "code",
   "execution_count": 7,
   "id": "3633db5f-79c5-4e48-bc17-48d1362a30a3",
   "metadata": {},
   "outputs": [],
   "source": [
    "# Destination location\n",
    "cs_update_folder = Path(\"/scratch/gwf/gwf_cmt/wknoben/camels-spat-upload-updates\")"
   ]
  },
  {
   "cell_type": "code",
   "execution_count": 8,
   "id": "57b24474-0dbc-4b48-8257-1b7edaa54956",
   "metadata": {},
   "outputs": [],
   "source": [
    "# Specify the folder structure\n",
    "shape_path_part1 = \"shapefiles\"\n",
    "shape_path_parts2 = [\"headwater\", \"macro-scale\", \"meso-scale\"]\n",
    "shape_path_part3 = \"shapes-lumped\""
   ]
  },
  {
   "cell_type": "code",
   "execution_count": 9,
   "id": "1d88dfe9-4c79-4206-ab88-68fd1b56c172",
   "metadata": {},
   "outputs": [],
   "source": [
    "# Specify the area-computation CRS\n",
    "ea_crs = \"ESRI:102008\""
   ]
  },
  {
   "cell_type": "code",
   "execution_count": 27,
   "id": "50af263a-faba-473c-b07e-1a2c6b8b4dcf",
   "metadata": {},
   "outputs": [],
   "source": [
    "for shape_path_part2 in shape_path_parts2:\n",
    "\n",
    "    # 1. Find the basin folders\n",
    "    shape_middle = f\"{shape_path_part1}/{shape_path_part2}/{shape_path_part3}\"\n",
    "    basin_paths = [f for f in (cs_main_folder / shape_middle).iterdir() if f.is_dir()]\n",
    "\n",
    "    # 2. Loop over the identified folders\n",
    "    for basin_path in basin_paths:\n",
    "\n",
    "        # 2.1. Extract the basin ID\n",
    "        basin_id = basin_path.name # just the final part, e.g. USA_08164300\n",
    "        \n",
    "        # 2.2. Load the lumped basin shapefile\n",
    "        bas = gpd.read_file(basin_path / f\"{basin_id}_lumped.shp\")\n",
    "\n",
    "        # 2.3. Calculate the area\n",
    "        area = (bas.to_crs(ea_crs).area / 10**6).iloc[0]\n",
    "\n",
    "        # 2.4. Add to the geodataframe, drop the FID column, and sort\n",
    "        bas['unitarea'] = area\n",
    "        bas = bas.drop(columns=['FID'])\n",
    "        bas = bas[['unitarea','geometry']]\n",
    "\n",
    "        # 2.5. Ensure the output directory exists, and save to file\n",
    "        des_folder = cs_update_folder / shape_middle / basin_id \n",
    "        des_folder.mkdir(exist_ok=True, parents=True)\n",
    "        with warnings.catch_warnings():\n",
    "            warnings.simplefilter(\"ignore\", category=FutureWarning)\n",
    "            bas.to_file(des_folder / f\"{basin_id}_lumped.shp\")   "
   ]
  },
  {
   "cell_type": "code",
   "execution_count": null,
   "id": "d499c554-55c4-4451-a659-068e3f62ba29",
   "metadata": {},
   "outputs": [],
   "source": []
  }
 ],
 "metadata": {
  "kernelspec": {
   "display_name": "camels-spat-env-jupyter",
   "language": "python",
   "name": "camels-spat-env-jupyter"
  },
  "language_info": {
   "codemirror_mode": {
    "name": "ipython",
    "version": 3
   },
   "file_extension": ".py",
   "mimetype": "text/x-python",
   "name": "python",
   "nbconvert_exporter": "python",
   "pygments_lexer": "ipython3",
   "version": "3.10.2"
  }
 },
 "nbformat": 4,
 "nbformat_minor": 5
}
