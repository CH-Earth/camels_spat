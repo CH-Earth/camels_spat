{
 "cells": [
  {
   "cell_type": "markdown",
   "id": "1d756661-a56b-4cc5-b483-566a3ca3053e",
   "metadata": {},
   "source": [
    "# Update units of attribute files\n",
    "The values were calculated correctly, but ended up with incorrect units in the attribute files. Here we fix these.\n",
    "\n",
    "- attributes-lumped:\n",
    "  - rainfall-runoff ratio units\n",
    "  - PET\n",
    "  - P\n",
    "- attributes-distributed:\n",
    "  - PET\n",
    "  - P"
   ]
  },
  {
   "cell_type": "code",
   "execution_count": 1,
   "id": "3e2b107f-dab8-4741-8a13-90a516436f7a",
   "metadata": {},
   "outputs": [],
   "source": [
    "import warnings\n",
    "import pandas as pd\n",
    "from pathlib import Path"
   ]
  },
  {
   "cell_type": "code",
   "execution_count": 2,
   "id": "65a5f663-62a1-499e-b0eb-369ad50a13de",
   "metadata": {},
   "outputs": [],
   "source": [
    "# Data location\n",
    "cs_main_folder = Path(\"/scratch/gwf/gwf_cmt/wknoben/camels-spat-upload\")"
   ]
  },
  {
   "cell_type": "code",
   "execution_count": 3,
   "id": "3633db5f-79c5-4e48-bc17-48d1362a30a3",
   "metadata": {},
   "outputs": [],
   "source": [
    "# Destination location\n",
    "cs_update_folder = Path(\"/scratch/gwf/gwf_cmt/wknoben/camels-spat-upload-updates\")"
   ]
  },
  {
   "cell_type": "code",
   "execution_count": 4,
   "id": "57b24474-0dbc-4b48-8257-1b7edaa54956",
   "metadata": {},
   "outputs": [],
   "source": [
    "# Specify the folder structure\n",
    "att_path_part1 = \"attributes\"\n",
    "att_path_parts2 = [\"headwater\", \"macro-scale\", \"meso-scale\"]"
   ]
  },
  {
   "cell_type": "markdown",
   "id": "c6a2194e-8adb-47f2-9de9-f4c747bcfe93",
   "metadata": {
    "jp-MarkdownHeadingCollapsed": true
   },
   "source": [
    "## Functions"
   ]
  },
  {
   "cell_type": "code",
   "execution_count": 6,
   "id": "aefc70e1-2d3f-48b1-b0aa-99eaa9b38fe7",
   "metadata": {},
   "outputs": [],
   "source": [
    "def replace_attribute_units(df):\n",
    "\n",
    "    '''Replaces units in an existing CAMELS-SPAT attribute file'''\n",
    "\n",
    "    # Define what to update (attribute, new unit)\n",
    "    update_this = {\n",
    "        # Climate attributes\n",
    "        'PR0_mean': 'mm year-1',\n",
    "        'PR0_std': 'mm year-1',\n",
    "        'pet1_mean': 'mm year-1',\n",
    "        'pet1_std': 'mm year-1',\n",
    "        'prec_mean': 'mm year-1',\n",
    "        'prec_std': 'mm year-1',\n",
    "        'pet2_mean': 'mm year-1',\n",
    "        'pet2_std': 'mm year-1',\n",
    "                    \n",
    "        # Streamflow attributes \n",
    "        'runoff_ratio_mean': '-',\n",
    "        'runoff_ratio_std': '-',\n",
    "   }\n",
    "\n",
    "    update_this_month = {\n",
    "        # Climate attributes\n",
    "        'pet1_mean_month_{}': 'mm month-1',\n",
    "        'pet1_std_month_{}': 'mm month-1',\n",
    "        'PR0_mean_month_{}': 'mm month-1',\n",
    "        'PR0_std_month_{}': 'mm month-1',\n",
    "        'pet2_mean_month_{}': 'mm month-1',\n",
    "        'pet2_std_month_{}': 'mm month-1',\n",
    "        'prec_mean_month_{}': 'mm month-1',\n",
    "        'prec_std_month_{}': 'mm month-1',\n",
    "    }\n",
    "    \n",
    "    # Update the fixed attributes\n",
    "    for attribute, unit in update_this.items():        \n",
    "        df.loc[df[\"Attribute\"] == attribute, \"Unit\"] = unit\n",
    "\n",
    "    # Update the monthly attributes\n",
    "    for attribute, unit in update_this_month.items():\n",
    "        for month in range(1,13):\n",
    "            df.loc[df[\"Attribute\"] == attribute.format(f\"{month:02}\"), \"Unit\"] = unit\n",
    "\n",
    "    return df"
   ]
  },
  {
   "cell_type": "markdown",
   "id": "931e6c5f-4289-4b49-acf1-1d69d3d91be0",
   "metadata": {
    "jp-MarkdownHeadingCollapsed": true
   },
   "source": [
    "## Lumped attributes"
   ]
  },
  {
   "cell_type": "code",
   "execution_count": 6,
   "id": "aa544340-1681-461d-b135-d94e86bbc860",
   "metadata": {},
   "outputs": [],
   "source": [
    "# Define location\n",
    "att_file = \"attributes-lumped.csv\"\n",
    "att_path = cs_main_folder / att_path_part1 / att_file"
   ]
  },
  {
   "cell_type": "code",
   "execution_count": 11,
   "id": "05e4d09e-7e88-446c-9a45-d66fd016037c",
   "metadata": {},
   "outputs": [],
   "source": [
    "# Open file\n",
    "att = pd.read_csv(att_path, low_memory=False)"
   ]
  },
  {
   "cell_type": "code",
   "execution_count": 31,
   "id": "fd23d263-54d3-42bc-8c01-cf1391381163",
   "metadata": {},
   "outputs": [],
   "source": [
    "# Replace units\n",
    "att_new = replace_attribute_units(att)"
   ]
  },
  {
   "cell_type": "code",
   "execution_count": 38,
   "id": "235b5991-66b6-4890-a149-6e81d0249854",
   "metadata": {},
   "outputs": [],
   "source": [
    "# Save to file\n",
    "des_folder = cs_update_folder / att_path_part1 \n",
    "des_folder.mkdir(exist_ok=True, parents=True)\n",
    "att_new.to_csv(des_folder / att_file, index=False)"
   ]
  },
  {
   "cell_type": "markdown",
   "id": "e730f798-be52-4090-976f-67f23df5e567",
   "metadata": {},
   "source": [
    "## Distributed attributes"
   ]
  },
  {
   "cell_type": "code",
   "execution_count": 9,
   "id": "11220f24-b006-49f2-9630-b8596fb2e6ae",
   "metadata": {},
   "outputs": [],
   "source": [
    "for att_path_part2 in att_path_parts2:\n",
    "\n",
    "    # 1. Find the files in this folder\n",
    "    att_middle = f\"{att_path_part1}/{att_path_part2}\"\n",
    "    basin_files = list((cs_main_folder / att_middle).glob('*.csv'))\n",
    "\n",
    "    # 2. Loop over the files\n",
    "    for basin_file in basin_files:\n",
    "\n",
    "        # 2.1. Extract the filename\n",
    "        att_file = basin_file.name\n",
    "\n",
    "        # 2.2. Load the file\n",
    "        att = pd.read_csv(basin_file, low_memory=False)\n",
    "\n",
    "        # 2.3. Replace units\n",
    "        att_new = replace_attribute_units(att)\n",
    "\n",
    "        # 2.4. Save to file\n",
    "        des_folder = cs_update_folder / att_middle \n",
    "        des_folder.mkdir(exist_ok=True, parents=True)\n",
    "        att_new.to_csv(des_folder / att_file, index=False)"
   ]
  },
  {
   "cell_type": "code",
   "execution_count": null,
   "id": "ed576624-822e-4baf-ac32-23e4ab01b07e",
   "metadata": {},
   "outputs": [],
   "source": []
  }
 ],
 "metadata": {
  "kernelspec": {
   "display_name": "camels-spat-env-jupyter",
   "language": "python",
   "name": "camels-spat-env-jupyter"
  },
  "language_info": {
   "codemirror_mode": {
    "name": "ipython",
    "version": 3
   },
   "file_extension": ".py",
   "mimetype": "text/x-python",
   "name": "python",
   "nbconvert_exporter": "python",
   "pygments_lexer": "ipython3",
   "version": "3.10.2"
  }
 },
 "nbformat": 4,
 "nbformat_minor": 5
}
