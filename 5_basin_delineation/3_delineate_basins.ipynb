{
 "cells": [
  {
   "cell_type": "markdown",
   "id": "121fd83e",
   "metadata": {},
   "source": [
    "# Delineate basins\n",
    "This script is the final version of a work-in-progress script that evolved over time. The work-in-progress script had a dedicated section that would allow manual re-runs of individual basins as part of basin delineation quality control. This QC approach was instrumental in creating the `2_manually_define_outlets.ipynb` script that precedes this notebook, and the \"delineation confidence notes\" that are part of this notebook. \n",
    "\n",
    "This work-in-progress script can be seen in older versions of the repo as `99_delineate_basins_one_by_one.ipynb`."
   ]
  },
  {
   "cell_type": "code",
   "execution_count": 1,
   "id": "e78b91f8",
   "metadata": {},
   "outputs": [],
   "source": [
    "import sys\n",
    "import shutil\n",
    "import warnings\n",
    "import numpy as np\n",
    "import pandas as pd\n",
    "import geopandas as gpd\n",
    "from pathlib import Path\n",
    "sys.path.append(str(Path().absolute().parent))\n",
    "import python_cs_functions as cs"
   ]
  },
  {
   "cell_type": "markdown",
   "id": "73793dff",
   "metadata": {},
   "source": [
    "### Config handling"
   ]
  },
  {
   "cell_type": "code",
   "execution_count": 2,
   "id": "0bd4a19f",
   "metadata": {},
   "outputs": [],
   "source": [
    "# Specify where the config file can be found\n",
    "config_file = '../0_config/config.txt'"
   ]
  },
  {
   "cell_type": "code",
   "execution_count": 3,
   "id": "4855e428",
   "metadata": {},
   "outputs": [],
   "source": [
    "# Get the required info from the config file\n",
    "data_path     = cs.read_from_config(config_file,'data_path')\n",
    "\n",
    "# CAMELS-spat metadata\n",
    "cs_meta_path  = cs.read_from_config(config_file,'cs_basin_path')\n",
    "cs_meta_name  = cs.read_from_config(config_file,'cs_meta_name')\n",
    "\n",
    "# MERIT Hydro data\n",
    "merit_path = cs.read_from_config(config_file, 'merit_path')\n",
    "merit_acc = Path(data_path) / merit_path / 'flow_accumulation_grid' / 'merit_hydro_acc.tif'\n",
    "merit_dir = Path(data_path) / merit_path / 'flow_direction_grid' / 'merit_hydro_dir.tif'\n",
    "merit_bas = Path(data_path) / merit_path / 'shapes' / 'basins' / 'cat_pfaf_7_8_MERIT_Hydro_v07_Basins_v01_bugfix1_hillslopes_pfaf_7_8_clean_fixed.shp'\n",
    "merit_riv = Path(data_path) / merit_path / 'shapes' / 'rivers' / 'riv_pfaf_7_8_MERIT_Hydro_v07_Basins_v01_bugfix1.shp'\n",
    "\n",
    "# Basin folder\n",
    "cs_basin_folder = cs.read_from_config(config_file, 'cs_basin_path')\n",
    "\n",
    "# CRS to use for area calculations and overlap\n",
    "crs = cs.read_from_config(config_file, 'equal_area_crs')"
   ]
  },
  {
   "cell_type": "markdown",
   "id": "59f6f7d7",
   "metadata": {},
   "source": [
    "### Data loading"
   ]
  },
  {
   "cell_type": "code",
   "execution_count": 4,
   "id": "6c6e1dc7",
   "metadata": {},
   "outputs": [],
   "source": [
    "# CAMELS-spat metadata file\n",
    "cs_meta_path = Path(data_path) / cs_meta_path\n",
    "cs_meta = pd.read_csv(cs_meta_path / cs_meta_name)"
   ]
  },
  {
   "cell_type": "code",
   "execution_count": 5,
   "id": "84f6eb60",
   "metadata": {},
   "outputs": [],
   "source": [
    "# Shapefiles\n",
    "basins_shp = gpd.read_file(merit_bas)\n",
    "rivers_shp = gpd.read_file(merit_riv)"
   ]
  },
  {
   "cell_type": "code",
   "execution_count": 6,
   "id": "48f4d8d5",
   "metadata": {},
   "outputs": [],
   "source": [
    "# Fix up the missing hillslopes\n",
    "# We are missing out on a single coastal hillslope in northern canada. Chances are we can complete the procedure anyway\n",
    "arctic_hill_files = [Path(data_path) / merit_path / 'shapes' / 'basins' / 'hillslope_84_clean_fixed.shp',\n",
    "                     Path(data_path) / merit_path / 'shapes' / 'basins' / 'hillslope_85_clean_fixed.shp']\n",
    "\n",
    "arctic_hill_84 = gpd.read_file(arctic_hill_files[0])\n",
    "arctic_hill_85 = gpd.read_file(arctic_hill_files[1])\n",
    "\n",
    "basins_shp = pd.concat([basins_shp,arctic_hill_84,arctic_hill_85])"
   ]
  },
  {
   "cell_type": "markdown",
   "id": "ccab40ca",
   "metadata": {},
   "source": [
    "### Delineation"
   ]
  },
  {
   "cell_type": "code",
   "execution_count": 7,
   "id": "807f10a9",
   "metadata": {},
   "outputs": [],
   "source": [
    "# Create a temporary directory for subsetting files\n",
    "tmp_dir = Path(data_path) / 'tmp'\n",
    "tmp_dir.mkdir(parents=True, exist_ok=True)"
   ]
  },
  {
   "cell_type": "code",
   "execution_count": 8,
   "id": "b4232763",
   "metadata": {},
   "outputs": [],
   "source": [
    "# Make sure we know the correct metadata columns\n",
    "c_area = np.where(cs_meta.columns == 'Basin_area_km2')[0][0]\n",
    "c_over = np.where(cs_meta.columns == 'Ref_and_new_shape_fractional_overlap')[0][0]\n",
    "\n",
    "assert (cs_meta.columns[c_area] == 'Basin_area_km2') # If these aren't true, they'll pop an error\n",
    "assert (cs_meta.columns[c_over] == 'Ref_and_new_shape_fractional_overlap')"
   ]
  },
  {
   "cell_type": "code",
   "execution_count": 9,
   "id": "b18645ff",
   "metadata": {},
   "outputs": [],
   "source": [
    "def delineation_loop(i,plot=False):\n",
    "    \n",
    "    '''Delineates basin for station at index i in the CAMELS-spat metadata file'''\n",
    "    \n",
    "    # Input:\n",
    "    # i - index in CAMELS-spat metadata file to process\n",
    "    \n",
    "    # 1. Prepare file paths and names\n",
    "    # --------------------------------------------------------------------------------------\n",
    "    basin_id, shp_lump_path, shp_dist_path, ref_path, plot_path = \\\n",
    "                                        cs.prepare_delineation_outputs(cs_meta, i, Path(data_path)/cs_basin_folder)\n",
    "    print('Now running basin {}. {}'.format(i,basin_id))\n",
    "    \n",
    "    # 2. Get the station or outlet location\n",
    "    # --------------------------------------------------------------------------------------\n",
    "    lat,lon = cs.read_delineation_coords(cs_meta,i)\n",
    "    #print('!!! Running with fixed lat/lon coordinates !!!'); lon,lat = -65.15583,47.70504\n",
    "    \n",
    "    # 3. Delineate the basin\n",
    "    # --------------------------------------------------------------------------------------\n",
    "    # 3a. Subset the Geotiffs for quicker processing\n",
    "    subset_window = cs.determine_pysheds_data_loading_window(lat,lon, str(merit_acc))\n",
    "    temp_acc,temp_dir = cs.subset_tifs_around_gauge(subset_window, \n",
    "                                                    str(merit_acc), \n",
    "                                                    str(merit_dir),\n",
    "                                                    temp_dir = tmp_dir)\n",
    "    grid,acc,fdir = cs.load_tifs_with_pysheds(str(temp_acc),str(temp_dir)) \n",
    "        \n",
    "    # 3b. Basin extraction\n",
    "    # Ignore future warnings for this part of the code to avoid FutureWarning screen spam by Shapely and Pandas\n",
    "    with warnings.catch_warnings():\n",
    "        warnings.simplefilter(action='ignore', category=FutureWarning)\n",
    "        \n",
    "        # Extract the full basin with pysheds\n",
    "        lump_basin = cs.delineate_catchment_with_pysheds(grid,lon,lat,fdir,shp_lump_path) # Saves file as part of function\n",
    "        lump_basin = cs.add_area_to_shape(lump_basin, column='unitarea', crs=crs)\n",
    "        \n",
    "        # Extract the MERIT Hydro basins and river network\n",
    "        dist_basin, dist_river = cs.subset_merit_hydro_to_basin(basins_shp,rivers_shp,lump_basin,shp_dist_path,\n",
    "                                                                lat,lon,crs=crs) # Ditto\n",
    "    \n",
    "    # 4. Delineation checks\n",
    "    # --------------------------------------------------------------------------------------\n",
    "    # 4a. Assert shape validity\n",
    "    if not all(lump_basin.is_valid): print('ERROR: Lumped shape not valid') # assert() throws SyntaxWarning over .is_valid\n",
    "    if not all(dist_basin.is_valid): print('ERROR: Distributed shape not valid')\n",
    "        \n",
    "    # 4b. Get areas and overlap\n",
    "    area_lump = (lump_basin.to_crs('ESRI:102008').area / 10**6)[0] # [km^2]\n",
    "    area_dist = dist_basin['unitarea'].sum() # [km^2]\n",
    "    overlap_lump = cs.calculate_basin_and_reference_overlap(lump_basin, ref_path, crs=crs) # Returns 'n/a' if no reference shape\n",
    "    overlap_dist = cs.calculate_basin_and_reference_overlap(dist_basin, ref_path, crs=crs) # Should be identical to lumped\n",
    "    \n",
    "    # 4c. Visual assessment of outcomes\n",
    "    ref_areas = cs.get_reference_areas(cs_meta,i) # [km^2] \n",
    "    stats = cs.prepare_plotting_stats(ref_areas,area_lump,area_dist,overlap_lump,overlap_dist) \n",
    "    #if plot:\n",
    "    #    cs.plot_discretization_results(basin_id, lump_basin, dist_basin, dist_river, ref_path, lat, lon, stats, plot_path)\n",
    "    cs.plot_discretization_results(basin_id, lump_basin, dist_basin, dist_river, ref_path, lat, lon, stats, \\\n",
    "                                   plot_path, to_screen=plot)\n",
    "    \n",
    "    # 4d. Update metadata file\n",
    "    cs_meta.iat[i,c_area] = area_dist\n",
    "    cs_meta.iat[i,c_over] = overlap_dist\n",
    "    \n",
    "    # 5 Clean up - no guarantee this will do anything, but who knows\n",
    "    del temp_acc, temp_dir, grid, acc, fdir, lump_basin, dist_basin, dist_river\n",
    "    \n",
    "    return"
   ]
  },
  {
   "cell_type": "code",
   "execution_count": 10,
   "id": "fa78603f",
   "metadata": {
    "scrolled": true
   },
   "outputs": [
    {
     "name": "stdout",
     "output_type": "stream",
     "text": [
      "Now running basin 0. CAN_01AD002\n",
      "Now running basin 1. CAN_01AD003\n",
      "Now running basin 2. CAN_01AE001\n",
      "Now running basin 3. CAN_01AF007\n",
      "Now running basin 4. CAN_01AF009\n",
      "Now running basin 5. CAN_01AJ003\n",
      "Now running basin 6. CAN_01AJ004\n",
      "Now running basin 7. CAN_01AJ010\n",
      "Now running basin 8. CAN_01AK001\n",
      "Now running basin 9. CAN_01AK006\n"
     ]
    },
    {
     "name": "stderr",
     "output_type": "stream",
     "text": [
      "C:\\Globus endpoint\\CAMELS_spat\\camels-spat-env\\lib\\site-packages\\geopandas\\io\\file.py:545: UserWarning: You are attempting to write an empty DataFrame to file. For some drivers, this operation may fail.\n",
      "  _to_file_fiona(df, filename, driver, schema, crs, mode, **kwargs)\n"
     ]
    },
    {
     "name": "stdout",
     "output_type": "stream",
     "text": [
      "Now running basin 10. CAN_01AK007\n",
      "Now running basin 11. CAN_01AL002\n",
      "Now running basin 12. CAN_01AL004\n"
     ]
    },
    {
     "name": "stderr",
     "output_type": "stream",
     "text": [
      "C:\\Globus endpoint\\CAMELS_spat\\camels-spat-env\\lib\\site-packages\\geopandas\\io\\file.py:545: UserWarning: You are attempting to write an empty DataFrame to file. For some drivers, this operation may fail.\n",
      "  _to_file_fiona(df, filename, driver, schema, crs, mode, **kwargs)\n"
     ]
    },
    {
     "name": "stdout",
     "output_type": "stream",
     "text": [
      "Now running basin 13. CAN_01AM001\n",
      "Now running basin 14. CAN_01AN002\n",
      "Now running basin 15. CAN_01AP002\n",
      "Now running basin 16. CAN_01AP004\n",
      "Now running basin 17. CAN_01AP006\n",
      "Now running basin 18. CAN_01AQ001\n",
      "Now running basin 19. CAN_01BC001\n",
      "Now running basin 20. CAN_01BD008\n",
      "Now running basin 21. CAN_01BE001\n",
      "Now running basin 22. CAN_01BG005\n",
      "Now running basin 23. CAN_01BG008\n",
      "Now running basin 24. CAN_01BG009\n",
      "Now running basin 25. CAN_01BH005\n",
      "Now running basin 26. CAN_01BH010\n",
      "Now running basin 27. CAN_01BJ003\n",
      "Now running basin 28. CAN_01BJ007\n",
      "Now running basin 29. CAN_01BJ010\n",
      "Now running basin 30. CAN_01BJ012\n",
      "Now running basin 31. CAN_01BL002\n",
      "Now running basin 32. CAN_01BL003\n",
      "Now running basin 33. CAN_01BO001\n",
      "Now running basin 34. CAN_01BP001\n",
      "Now running basin 35. CAN_01BP002\n",
      "Now running basin 36. CAN_01BQ001\n",
      "Now running basin 37. CAN_01BS001\n",
      "Now running basin 38. CAN_01BU002\n",
      "Now running basin 39. CAN_01BU009\n"
     ]
    },
    {
     "name": "stderr",
     "output_type": "stream",
     "text": [
      "C:\\Globus endpoint\\CAMELS_spat\\camels-spat-env\\lib\\site-packages\\geopandas\\io\\file.py:545: UserWarning: You are attempting to write an empty DataFrame to file. For some drivers, this operation may fail.\n",
      "  _to_file_fiona(df, filename, driver, schema, crs, mode, **kwargs)\n"
     ]
    },
    {
     "name": "stdout",
     "output_type": "stream",
     "text": [
      "Now running basin 40. CAN_01BV004\n",
      "Now running basin 41. CAN_01BV006\n",
      "Now running basin 42. CAN_01CA003\n",
      "Now running basin 43. CAN_01CC005\n",
      "Now running basin 44. CAN_01CD005\n"
     ]
    },
    {
     "name": "stderr",
     "output_type": "stream",
     "text": [
      "C:\\Globus endpoint\\CAMELS_spat\\camels-spat-env\\lib\\site-packages\\geopandas\\io\\file.py:545: UserWarning: You are attempting to write an empty DataFrame to file. For some drivers, this operation may fail.\n",
      "  _to_file_fiona(df, filename, driver, schema, crs, mode, **kwargs)\n"
     ]
    },
    {
     "name": "stdout",
     "output_type": "stream",
     "text": [
      "Now running basin 45. CAN_01DG003\n",
      "Now running basin 46. CAN_01DJ005\n",
      "Now running basin 47. CAN_01DL001\n",
      "Now running basin 48. CAN_01DP004\n",
      "Now running basin 49. CAN_01DR001\n",
      "Now running basin 50. CAN_01EC001\n",
      "Now running basin 51. CAN_01ED005\n",
      "Now running basin 52. CAN_01ED007\n",
      "Now running basin 53. CAN_01EE005\n"
     ]
    },
    {
     "name": "stderr",
     "output_type": "stream",
     "text": [
      "C:\\Globus endpoint\\CAMELS_spat\\camels-spat-env\\lib\\site-packages\\geopandas\\io\\file.py:545: UserWarning: You are attempting to write an empty DataFrame to file. For some drivers, this operation may fail.\n",
      "  _to_file_fiona(df, filename, driver, schema, crs, mode, **kwargs)\n"
     ]
    },
    {
     "name": "stdout",
     "output_type": "stream",
     "text": [
      "Now running basin 54. CAN_01EF001\n",
      "Now running basin 55. CAN_01EO001\n",
      "Now running basin 56. CAN_01FA001\n",
      "Now running basin 57. CAN_01FB001\n",
      "Now running basin 58. CAN_01FB003\n",
      "Now running basin 59. CAN_01FJ002\n"
     ]
    },
    {
     "name": "stderr",
     "output_type": "stream",
     "text": [
      "C:\\Globus endpoint\\CAMELS_spat\\camels-spat-env\\lib\\site-packages\\geopandas\\io\\file.py:545: UserWarning: You are attempting to write an empty DataFrame to file. For some drivers, this operation may fail.\n",
      "  _to_file_fiona(df, filename, driver, schema, crs, mode, **kwargs)\n"
     ]
    },
    {
     "name": "stdout",
     "output_type": "stream",
     "text": [
      "Now running basin 60. CAN_02AB008\n",
      "Now running basin 61. CAN_02AB014\n",
      "Now running basin 62. CAN_02AB017\n",
      "Now running basin 63. CAN_02AB021\n",
      "Now running basin 64. CAN_02AC001\n",
      "Now running basin 65. CAN_02AC002\n",
      "Now running basin 66. CAN_02AD010\n",
      "Now running basin 67. CAN_02AE001\n",
      "Now running basin 68. CAN_02BA003\n",
      "Now running basin 69. CAN_02BA005\n"
     ]
    },
    {
     "name": "stderr",
     "output_type": "stream",
     "text": [
      "C:\\Globus endpoint\\CAMELS_spat\\camels-spat-env\\lib\\site-packages\\geopandas\\io\\file.py:545: UserWarning: You are attempting to write an empty DataFrame to file. For some drivers, this operation may fail.\n",
      "  _to_file_fiona(df, filename, driver, schema, crs, mode, **kwargs)\n"
     ]
    },
    {
     "name": "stdout",
     "output_type": "stream",
     "text": [
      "Now running basin 70. CAN_02BB003\n",
      "Now running basin 71. CAN_02BF001\n",
      "Now running basin 72. CAN_02BF002\n",
      "Now running basin 73. CAN_02BF004\n",
      "Now running basin 74. CAN_02BF005\n"
     ]
    },
    {
     "name": "stderr",
     "output_type": "stream",
     "text": [
      "C:\\Globus endpoint\\CAMELS_spat\\camels-spat-env\\lib\\site-packages\\geopandas\\io\\file.py:545: UserWarning: You are attempting to write an empty DataFrame to file. For some drivers, this operation may fail.\n",
      "  _to_file_fiona(df, filename, driver, schema, crs, mode, **kwargs)\n"
     ]
    },
    {
     "name": "stdout",
     "output_type": "stream",
     "text": [
      "Now running basin 75. CAN_02BF006\n"
     ]
    },
    {
     "name": "stderr",
     "output_type": "stream",
     "text": [
      "C:\\Globus endpoint\\CAMELS_spat\\camels-spat-env\\lib\\site-packages\\geopandas\\io\\file.py:545: UserWarning: You are attempting to write an empty DataFrame to file. For some drivers, this operation may fail.\n",
      "  _to_file_fiona(df, filename, driver, schema, crs, mode, **kwargs)\n"
     ]
    },
    {
     "name": "stdout",
     "output_type": "stream",
     "text": [
      "Now running basin 76. CAN_02BF007\n"
     ]
    },
    {
     "name": "stderr",
     "output_type": "stream",
     "text": [
      "C:\\Globus endpoint\\CAMELS_spat\\camels-spat-env\\lib\\site-packages\\geopandas\\io\\file.py:545: UserWarning: You are attempting to write an empty DataFrame to file. For some drivers, this operation may fail.\n",
      "  _to_file_fiona(df, filename, driver, schema, crs, mode, **kwargs)\n"
     ]
    },
    {
     "name": "stdout",
     "output_type": "stream",
     "text": [
      "Now running basin 77. CAN_02BF008\n"
     ]
    },
    {
     "name": "stderr",
     "output_type": "stream",
     "text": [
      "C:\\Globus endpoint\\CAMELS_spat\\camels-spat-env\\lib\\site-packages\\geopandas\\io\\file.py:545: UserWarning: You are attempting to write an empty DataFrame to file. For some drivers, this operation may fail.\n",
      "  _to_file_fiona(df, filename, driver, schema, crs, mode, **kwargs)\n"
     ]
    },
    {
     "name": "stdout",
     "output_type": "stream",
     "text": [
      "Now running basin 78. CAN_02BF009\n"
     ]
    },
    {
     "name": "stderr",
     "output_type": "stream",
     "text": [
      "C:\\Globus endpoint\\CAMELS_spat\\camels-spat-env\\lib\\site-packages\\geopandas\\io\\file.py:545: UserWarning: You are attempting to write an empty DataFrame to file. For some drivers, this operation may fail.\n",
      "  _to_file_fiona(df, filename, driver, schema, crs, mode, **kwargs)\n"
     ]
    },
    {
     "name": "stdout",
     "output_type": "stream",
     "text": [
      "Now running basin 79. CAN_02BF012\n"
     ]
    },
    {
     "name": "stderr",
     "output_type": "stream",
     "text": [
      "C:\\Globus endpoint\\CAMELS_spat\\camels-spat-env\\lib\\site-packages\\geopandas\\io\\file.py:545: UserWarning: You are attempting to write an empty DataFrame to file. For some drivers, this operation may fail.\n",
      "  _to_file_fiona(df, filename, driver, schema, crs, mode, **kwargs)\n"
     ]
    },
    {
     "name": "stdout",
     "output_type": "stream",
     "text": [
      "Now running basin 80. CAN_02BF013\n"
     ]
    },
    {
     "name": "stderr",
     "output_type": "stream",
     "text": [
      "C:\\Globus endpoint\\CAMELS_spat\\camels-spat-env\\lib\\site-packages\\geopandas\\io\\file.py:545: UserWarning: You are attempting to write an empty DataFrame to file. For some drivers, this operation may fail.\n",
      "  _to_file_fiona(df, filename, driver, schema, crs, mode, **kwargs)\n"
     ]
    },
    {
     "name": "stdout",
     "output_type": "stream",
     "text": [
      "Now running basin 81. CAN_02CA002\n",
      "Now running basin 82. CAN_02CB003\n",
      "Now running basin 83. CAN_02CF007\n",
      "Now running basin 84. CAN_02CF008\n",
      "Now running basin 85. CAN_02CF011\n",
      "Now running basin 86. CAN_02CG003\n"
     ]
    },
    {
     "name": "stderr",
     "output_type": "stream",
     "text": [
      "C:\\Globus endpoint\\CAMELS_spat\\camels-spat-env\\lib\\site-packages\\geopandas\\io\\file.py:545: UserWarning: You are attempting to write an empty DataFrame to file. For some drivers, this operation may fail.\n",
      "  _to_file_fiona(df, filename, driver, schema, crs, mode, **kwargs)\n"
     ]
    },
    {
     "name": "stdout",
     "output_type": "stream",
     "text": [
      "Now running basin 87. CAN_02DB007\n",
      "Now running basin 88. CAN_02DC012\n",
      "Now running basin 89. CAN_02DD012\n",
      "Now running basin 90. CAN_02DD013\n",
      "Now running basin 91. CAN_02DD015\n",
      "Now running basin 92. CAN_02EA005\n",
      "Now running basin 93. CAN_02EA010\n",
      "Now running basin 94. CAN_02EB014\n",
      "Now running basin 95. CAN_02EC002\n",
      "Now running basin 96. CAN_02EC010\n",
      "Now running basin 97. CAN_02EC011\n",
      "Now running basin 98. CAN_02EC018\n",
      "Now running basin 99. CAN_02ED003\n",
      "Now running basin 100. CAN_02ED007\n",
      "Now running basin 101. CAN_02ED013\n",
      "Now running basin 102. CAN_02ED014\n",
      "Now running basin 103. CAN_02ED015\n",
      "Now running basin 104. CAN_02ED017\n",
      "Now running basin 105. CAN_02ED024\n",
      "Now running basin 106. CAN_02ED026\n",
      "Now running basin 107. CAN_02ED101\n",
      "Now running basin 108. CAN_02ED102\n",
      "Now running basin 109. CAN_02FA002\n",
      "Now running basin 110. CAN_02FA004\n",
      "Now running basin 111. CAN_02FB007\n",
      "Now running basin 112. CAN_02FB010\n",
      "Now running basin 113. CAN_02FC011\n",
      "Now running basin 114. CAN_02FC016\n",
      "Now running basin 115. CAN_02FC017\n",
      "Now running basin 116. CAN_02FD001\n",
      "Now running basin 117. CAN_02FD002\n",
      "Now running basin 118. CAN_02FE008\n",
      "Now running basin 119. CAN_02FE009\n",
      "Now running basin 120. CAN_02FE011\n",
      "Now running basin 121. CAN_02FE013\n",
      "Now running basin 122. CAN_02FE014\n",
      "Now running basin 123. CAN_02FF004\n",
      "Now running basin 124. CAN_02FF007\n",
      "Now running basin 125. CAN_02FF008\n",
      "Now running basin 126. CAN_02GA010\n",
      "Now running basin 127. CAN_02GA018\n",
      "Now running basin 128. CAN_02GA038\n",
      "Now running basin 129. CAN_02GA041\n",
      "Now running basin 130. CAN_02GA043\n"
     ]
    },
    {
     "name": "stderr",
     "output_type": "stream",
     "text": [
      "C:\\Globus endpoint\\CAMELS_spat\\camels-spat-env\\lib\\site-packages\\geopandas\\io\\file.py:545: UserWarning: You are attempting to write an empty DataFrame to file. For some drivers, this operation may fail.\n",
      "  _to_file_fiona(df, filename, driver, schema, crs, mode, **kwargs)\n"
     ]
    },
    {
     "name": "stdout",
     "output_type": "stream",
     "text": [
      "Now running basin 131. CAN_02GB007\n",
      "Now running basin 132. CAN_02GC002\n",
      "Now running basin 133. CAN_02GC010\n",
      "Now running basin 134. CAN_02GC018\n",
      "Now running basin 135. CAN_02GC021\n",
      "Now running basin 136. CAN_02GC029\n",
      "Now running basin 137. CAN_02GC030\n",
      "Now running basin 138. CAN_02GC031\n",
      "Now running basin 139. CAN_02GD004\n",
      "Now running basin 140. CAN_02GD010\n",
      "Now running basin 141. CAN_02GD019\n",
      "Now running basin 142. CAN_02GD021\n",
      "Now running basin 143. CAN_02GE007\n",
      "Now running basin 144. CAN_02GG002\n",
      "Now running basin 145. CAN_02GG003\n",
      "Now running basin 146. CAN_02GG005\n",
      "Now running basin 147. CAN_02GG006\n",
      "Now running basin 148. CAN_02GG009\n",
      "Now running basin 149. CAN_02GH002\n",
      "Now running basin 150. CAN_02GH003\n",
      "Now running basin 151. CAN_02HA006\n",
      "Now running basin 152. CAN_02HA020\n",
      "Now running basin 153. CAN_02HB012\n",
      "Now running basin 154. CAN_02HB022\n",
      "Now running basin 155. CAN_02HB023\n",
      "Now running basin 156. CAN_02HC019\n",
      "Now running basin 157. CAN_02HC023\n",
      "Now running basin 158. CAN_02HC025\n",
      "Now running basin 159. CAN_02HC038\n",
      "Now running basin 160. CAN_02HC047\n",
      "Now running basin 161. CAN_02HC049\n",
      "Now running basin 162. CAN_02HD009\n",
      "Now running basin 163. CAN_02HD012\n",
      "Now running basin 164. CAN_02HG001\n",
      "Now running basin 165. CAN_02HJ001\n",
      "Now running basin 166. CAN_02HK007\n",
      "Now running basin 167. CAN_02HK008\n",
      "Now running basin 168. CAN_02HL003\n",
      "Now running basin 169. CAN_02HL004\n",
      "Now running basin 170. CAN_02HL005\n",
      "Now running basin 171. CAN_02HM004\n",
      "Now running basin 172. CAN_02HM005\n",
      "Now running basin 173. CAN_02JB013\n",
      "Now running basin 174. CAN_02JC008\n",
      "Now running basin 175. CAN_02KF016\n",
      "Now running basin 176. CAN_02KF017\n",
      "Now running basin 177. CAN_02LA007\n",
      "Now running basin 178. CAN_02LB006\n",
      "Now running basin 179. CAN_02LB007\n",
      "Now running basin 180. CAN_02LB008\n",
      "Now running basin 181. CAN_02LB017\n",
      "Now running basin 182. CAN_02LB020\n",
      "Now running basin 183. CAN_02LB022\n",
      "Now running basin 184. CAN_02LC027\n",
      "Now running basin 185. CAN_02LC043\n",
      "Now running basin 186. CAN_02LD005\n",
      "Now running basin 187. CAN_02LG005\n",
      "Now running basin 188. CAN_02MB006\n",
      "Now running basin 189. CAN_02MC001\n",
      "Now running basin 190. CAN_02MC026\n",
      "Now running basin 191. CAN_02MC028\n",
      "Now running basin 192. CAN_02NE011\n",
      "Now running basin 193. CAN_02NF003\n",
      "Now running basin 194. CAN_02OA057\n",
      "Now running basin 195. CAN_02OB032\n",
      "Now running basin 196. CAN_02OB037\n",
      "Now running basin 197. CAN_02OD003\n",
      "Now running basin 198. CAN_02OE027\n",
      "Now running basin 199. CAN_02OE032\n",
      "Now running basin 200. CAN_02OG026\n",
      "Now running basin 201. CAN_02OJ024\n",
      "Now running basin 202. CAN_02OJ026\n",
      "Now running basin 203. CAN_02PA007\n",
      "Now running basin 204. CAN_02PB006\n",
      "Now running basin 205. CAN_02PC018\n"
     ]
    },
    {
     "name": "stderr",
     "output_type": "stream",
     "text": [
      "C:\\Globus endpoint\\CAMELS_spat\\camels-spat-env\\lib\\site-packages\\geopandas\\io\\file.py:545: UserWarning: You are attempting to write an empty DataFrame to file. For some drivers, this operation may fail.\n",
      "  _to_file_fiona(df, filename, driver, schema, crs, mode, **kwargs)\n"
     ]
    },
    {
     "name": "stdout",
     "output_type": "stream",
     "text": [
      "Now running basin 206. CAN_02PC019\n",
      "Now running basin 207. CAN_02PD002\n",
      "Now running basin 208. CAN_02PD004\n",
      "Now running basin 209. CAN_02PD012\n"
     ]
    },
    {
     "name": "stderr",
     "output_type": "stream",
     "text": [
      "C:\\Globus endpoint\\CAMELS_spat\\camels-spat-env\\lib\\site-packages\\geopandas\\io\\file.py:545: UserWarning: You are attempting to write an empty DataFrame to file. For some drivers, this operation may fail.\n",
      "  _to_file_fiona(df, filename, driver, schema, crs, mode, **kwargs)\n"
     ]
    },
    {
     "name": "stdout",
     "output_type": "stream",
     "text": [
      "Now running basin 210. CAN_02PD013\n"
     ]
    },
    {
     "name": "stderr",
     "output_type": "stream",
     "text": [
      "C:\\Globus endpoint\\CAMELS_spat\\camels-spat-env\\lib\\site-packages\\geopandas\\io\\file.py:545: UserWarning: You are attempting to write an empty DataFrame to file. For some drivers, this operation may fail.\n",
      "  _to_file_fiona(df, filename, driver, schema, crs, mode, **kwargs)\n"
     ]
    },
    {
     "name": "stdout",
     "output_type": "stream",
     "text": [
      "Now running basin 211. CAN_02PD014\n"
     ]
    },
    {
     "name": "stderr",
     "output_type": "stream",
     "text": [
      "C:\\Globus endpoint\\CAMELS_spat\\camels-spat-env\\lib\\site-packages\\geopandas\\io\\file.py:545: UserWarning: You are attempting to write an empty DataFrame to file. For some drivers, this operation may fail.\n",
      "  _to_file_fiona(df, filename, driver, schema, crs, mode, **kwargs)\n"
     ]
    },
    {
     "name": "stdout",
     "output_type": "stream",
     "text": [
      "Now running basin 212. CAN_02PD015\n"
     ]
    },
    {
     "name": "stderr",
     "output_type": "stream",
     "text": [
      "C:\\Globus endpoint\\CAMELS_spat\\camels-spat-env\\lib\\site-packages\\geopandas\\io\\file.py:545: UserWarning: You are attempting to write an empty DataFrame to file. For some drivers, this operation may fail.\n",
      "  _to_file_fiona(df, filename, driver, schema, crs, mode, **kwargs)\n"
     ]
    },
    {
     "name": "stdout",
     "output_type": "stream",
     "text": [
      "Now running basin 213. CAN_02PE014\n",
      "Now running basin 214. CAN_02PG006\n",
      "Now running basin 215. CAN_02PG022\n",
      "Now running basin 216. CAN_02PJ007\n",
      "Now running basin 217. CAN_02PJ030\n",
      "Now running basin 218. CAN_02PL005\n",
      "Now running basin 219. CAN_02QA002\n",
      "Now running basin 220. CAN_02QC009\n",
      "Now running basin 221. CAN_02RC011\n",
      "Now running basin 222. CAN_02RD003\n",
      "Now running basin 223. CAN_02RF001\n",
      "Now running basin 224. CAN_02RF009\n",
      "Now running basin 225. CAN_02RG005\n",
      "Now running basin 226. CAN_02RH027\n",
      "Now running basin 227. CAN_02RH035\n",
      "Now running basin 228. CAN_02RH045\n",
      "Now running basin 229. CAN_02UA003\n",
      "Now running basin 230. CAN_02UC002\n",
      "Now running basin 231. CAN_02VB004\n",
      "Now running basin 232. CAN_02WB003\n",
      "Now running basin 233. CAN_02XA003\n",
      "Now running basin 234. CAN_02XC001\n",
      "Now running basin 235. CAN_02YA002\n"
     ]
    },
    {
     "name": "stderr",
     "output_type": "stream",
     "text": [
      "C:\\Globus endpoint\\CAMELS_spat\\camels-spat-env\\lib\\site-packages\\geopandas\\io\\file.py:545: UserWarning: You are attempting to write an empty DataFrame to file. For some drivers, this operation may fail.\n",
      "  _to_file_fiona(df, filename, driver, schema, crs, mode, **kwargs)\n"
     ]
    },
    {
     "name": "stdout",
     "output_type": "stream",
     "text": [
      "Now running basin 236. CAN_02YC001\n",
      "Now running basin 237. CAN_02YD002\n",
      "Now running basin 238. CAN_02YE001\n",
      "Now running basin 239. CAN_02YG001\n",
      "Now running basin 240. CAN_02YJ001\n",
      "Now running basin 241. CAN_02YK002\n",
      "Now running basin 242. CAN_02YK005\n",
      "Now running basin 243. CAN_02YK008\n"
     ]
    },
    {
     "name": "stderr",
     "output_type": "stream",
     "text": [
      "C:\\Globus endpoint\\CAMELS_spat\\camels-spat-env\\lib\\site-packages\\geopandas\\io\\file.py:545: UserWarning: You are attempting to write an empty DataFrame to file. For some drivers, this operation may fail.\n",
      "  _to_file_fiona(df, filename, driver, schema, crs, mode, **kwargs)\n"
     ]
    },
    {
     "name": "stdout",
     "output_type": "stream",
     "text": [
      "Now running basin 244. CAN_02YL001\n",
      "Now running basin 245. CAN_02YL004\n",
      "Now running basin 246. CAN_02YL005\n"
     ]
    },
    {
     "name": "stderr",
     "output_type": "stream",
     "text": [
      "C:\\Globus endpoint\\CAMELS_spat\\camels-spat-env\\lib\\site-packages\\geopandas\\io\\file.py:545: UserWarning: You are attempting to write an empty DataFrame to file. For some drivers, this operation may fail.\n",
      "  _to_file_fiona(df, filename, driver, schema, crs, mode, **kwargs)\n"
     ]
    },
    {
     "name": "stdout",
     "output_type": "stream",
     "text": [
      "Now running basin 247. CAN_02YL008\n",
      "Now running basin 248. CAN_02YL011\n"
     ]
    },
    {
     "name": "stderr",
     "output_type": "stream",
     "text": [
      "C:\\Globus endpoint\\CAMELS_spat\\camels-spat-env\\lib\\site-packages\\geopandas\\io\\file.py:545: UserWarning: You are attempting to write an empty DataFrame to file. For some drivers, this operation may fail.\n",
      "  _to_file_fiona(df, filename, driver, schema, crs, mode, **kwargs)\n"
     ]
    },
    {
     "name": "stdout",
     "output_type": "stream",
     "text": [
      "Now running basin 249. CAN_02YM003\n",
      "Now running basin 250. CAN_02YM004\n",
      "Now running basin 251. CAN_02YN002\n",
      "Now running basin 252. CAN_02YO006\n",
      "Now running basin 253. CAN_02YO008\n",
      "Now running basin 254. CAN_02YO012\n",
      "Now running basin 255. CAN_02YQ001\n",
      "Now running basin 256. CAN_02YQ005\n",
      "Now running basin 257. CAN_02YR001\n",
      "Now running basin 258. CAN_02YR003\n",
      "Now running basin 259. CAN_02YS003\n",
      "Now running basin 260. CAN_02YS005\n",
      "Now running basin 261. CAN_02YS006\n",
      "Now running basin 262. CAN_02ZA002\n",
      "Now running basin 263. CAN_02ZB001\n",
      "Now running basin 264. CAN_02ZC002\n",
      "Now running basin 265. CAN_02ZD002\n",
      "Now running basin 266. CAN_02ZE004\n",
      "Now running basin 267. CAN_02ZF001\n",
      "Now running basin 268. CAN_02ZG001\n"
     ]
    },
    {
     "name": "stderr",
     "output_type": "stream",
     "text": [
      "C:\\Globus endpoint\\CAMELS_spat\\camels-spat-env\\lib\\site-packages\\geopandas\\io\\file.py:545: UserWarning: You are attempting to write an empty DataFrame to file. For some drivers, this operation may fail.\n",
      "  _to_file_fiona(df, filename, driver, schema, crs, mode, **kwargs)\n"
     ]
    },
    {
     "name": "stdout",
     "output_type": "stream",
     "text": [
      "Now running basin 269. CAN_02ZG003\n",
      "Now running basin 270. CAN_02ZG004\n",
      "Now running basin 271. CAN_02ZH001\n",
      "Now running basin 272. CAN_02ZH002\n",
      "Now running basin 273. CAN_02ZJ001\n",
      "Now running basin 274. CAN_02ZJ002\n",
      "Now running basin 275. CAN_02ZJ003\n",
      "Now running basin 276. CAN_02ZK001\n",
      "Now running basin 277. CAN_02ZK002\n",
      "Now running basin 278. CAN_02ZK003\n",
      "Now running basin 279. CAN_02ZK004\n",
      "Now running basin 280. CAN_02ZL004\n",
      "Now running basin 281. CAN_02ZL005\n"
     ]
    },
    {
     "name": "stderr",
     "output_type": "stream",
     "text": [
      "C:\\Globus endpoint\\CAMELS_spat\\camels-spat-env\\lib\\site-packages\\geopandas\\io\\file.py:545: UserWarning: You are attempting to write an empty DataFrame to file. For some drivers, this operation may fail.\n",
      "  _to_file_fiona(df, filename, driver, schema, crs, mode, **kwargs)\n"
     ]
    },
    {
     "name": "stdout",
     "output_type": "stream",
     "text": [
      "Now running basin 282. CAN_02ZM006\n"
     ]
    },
    {
     "name": "stderr",
     "output_type": "stream",
     "text": [
      "C:\\Globus endpoint\\CAMELS_spat\\camels-spat-env\\lib\\site-packages\\geopandas\\io\\file.py:545: UserWarning: You are attempting to write an empty DataFrame to file. For some drivers, this operation may fail.\n",
      "  _to_file_fiona(df, filename, driver, schema, crs, mode, **kwargs)\n"
     ]
    },
    {
     "name": "stdout",
     "output_type": "stream",
     "text": [
      "Now running basin 283. CAN_02ZM009\n",
      "Now running basin 284. CAN_02ZM016\n"
     ]
    },
    {
     "name": "stderr",
     "output_type": "stream",
     "text": [
      "C:\\Globus endpoint\\CAMELS_spat\\camels-spat-env\\lib\\site-packages\\geopandas\\io\\file.py:545: UserWarning: You are attempting to write an empty DataFrame to file. For some drivers, this operation may fail.\n",
      "  _to_file_fiona(df, filename, driver, schema, crs, mode, **kwargs)\n"
     ]
    },
    {
     "name": "stdout",
     "output_type": "stream",
     "text": [
      "Now running basin 285. CAN_02ZN002\n"
     ]
    },
    {
     "name": "stderr",
     "output_type": "stream",
     "text": [
      "C:\\Globus endpoint\\CAMELS_spat\\camels-spat-env\\lib\\site-packages\\geopandas\\io\\file.py:545: UserWarning: You are attempting to write an empty DataFrame to file. For some drivers, this operation may fail.\n",
      "  _to_file_fiona(df, filename, driver, schema, crs, mode, **kwargs)\n"
     ]
    },
    {
     "name": "stdout",
     "output_type": "stream",
     "text": [
      "Now running basin 286. CAN_03AB002\n",
      "Now running basin 287. CAN_03AC004\n",
      "Now running basin 288. CAN_03BD002\n",
      "Now running basin 289. CAN_03BF001\n",
      "Now running basin 290. CAN_03ED001\n",
      "Now running basin 291. CAN_03FA003\n",
      "Now running basin 292. CAN_03KC004\n",
      "Now running basin 293. CAN_03MB002\n",
      "Now running basin 294. CAN_03MD001\n",
      "Now running basin 295. CAN_03NF001\n",
      "Now running basin 296. CAN_03OC003\n",
      "Now running basin 297. CAN_03OE010\n",
      "Now running basin 298. CAN_03QC001\n",
      "Now running basin 299. CAN_03QC002\n",
      "Now running basin 300. CAN_04AA004\n",
      "Now running basin 301. CAN_04AB001\n",
      "Now running basin 302. CAN_04AD002\n",
      "Now running basin 303. CAN_04CA002\n",
      "Now running basin 304. CAN_04CA003\n",
      "Now running basin 305. CAN_04CB001\n",
      "Now running basin 306. CAN_04DA001\n",
      "Now running basin 307. CAN_04DB001\n",
      "Now running basin 308. CAN_04DC001\n",
      "Now running basin 309. CAN_04DC002\n",
      "Now running basin 310. CAN_04EA001\n",
      "Now running basin 311. CAN_04FA001\n",
      "Now running basin 312. CAN_04FA003\n",
      "Now running basin 313. CAN_04FB001\n",
      "Now running basin 314. CAN_04FC001\n",
      "Now running basin 315. CAN_04GA002\n",
      "Now running basin 316. CAN_04GB004\n",
      "Now running basin 317. CAN_04GB005\n",
      "Now running basin 318. CAN_04JC002\n",
      "Now running basin 319. CAN_04JD005\n",
      "Now running basin 320. CAN_04JF001\n",
      "Now running basin 321. CAN_04KA001\n",
      "Now running basin 322. CAN_04LJ001\n",
      "Now running basin 323. CAN_04LM001\n",
      "Now running basin 324. CAN_04MD004\n",
      "Now running basin 325. CAN_04MF001\n",
      "Now running basin 326. CAN_04NA001\n",
      "Now running basin 327. CAN_05AA004\n",
      "Now running basin 328. CAN_05AA008\n",
      "Now running basin 329. CAN_05AA011\n",
      "Now running basin 330. CAN_05AA022\n",
      "Now running basin 331. CAN_05AA028\n",
      "Now running basin 332. CAN_05AA909\n",
      "Now running basin 333. CAN_05AB005\n",
      "Now running basin 334. CAN_05AB013\n",
      "Now running basin 335. CAN_05AB029\n",
      "Now running basin 336. CAN_05AC030\n",
      "Now running basin 337. CAN_05AD003\n",
      "Now running basin 338. CAN_05AD035\n",
      "Now running basin 339. CAN_05AE005\n",
      "Now running basin 340. CAN_05AH037\n",
      "Now running basin 341. CAN_05AH041\n",
      "Now running basin 342. CAN_05AH047\n",
      "Now running basin 343. CAN_05AH050\n",
      "Now running basin 344. CAN_05BA001\n",
      "Now running basin 345. CAN_05BB001\n",
      "Now running basin 346. CAN_05BG006\n",
      "Now running basin 347. CAN_05BH013\n",
      "Now running basin 348. CAN_05BJ004\n",
      "Now running basin 349. CAN_05BJ010\n",
      "Now running basin 350. CAN_05BK001\n",
      "Now running basin 351. CAN_05BL013\n",
      "Now running basin 352. CAN_05BL014\n",
      "Now running basin 353. CAN_05BL019\n",
      "Now running basin 354. CAN_05BL022\n",
      "Now running basin 355. CAN_05BL023\n",
      "Now running basin 356. CAN_05BL027\n",
      "Now running basin 357. CAN_05BM014\n",
      "Now running basin 358. CAN_05BM018\n",
      "Now running basin 359. CAN_05CA002\n",
      "Now running basin 360. CAN_05CA004\n",
      "Now running basin 361. CAN_05CA009\n",
      "Now running basin 362. CAN_05CA011\n",
      "Now running basin 363. CAN_05CA012\n",
      "Now running basin 364. CAN_05CB001\n",
      "Now running basin 365. CAN_05CB002\n",
      "Now running basin 366. CAN_05CB004\n",
      "Now running basin 367. CAN_05CC001\n",
      "Now running basin 368. CAN_05CC007\n",
      "Now running basin 369. CAN_05CC008\n",
      "Now running basin 370. CAN_05CC009\n",
      "Now running basin 371. CAN_05CC010\n",
      "Now running basin 372. CAN_05CC011\n",
      "Now running basin 373. CAN_05CD006\n",
      "Now running basin 374. CAN_05CD007\n",
      "Now running basin 375. CAN_05CE002\n",
      "Now running basin 376. CAN_05CE006\n",
      "Now running basin 377. CAN_05CE010\n",
      "Now running basin 378. CAN_05CE011\n",
      "Now running basin 379. CAN_05CE018\n",
      "Now running basin 380. CAN_05CE020\n",
      "Now running basin 381. CAN_05CG004\n",
      "Now running basin 382. CAN_05CG006\n",
      "Now running basin 383. CAN_05CK001\n",
      "Now running basin 384. CAN_05CK005\n",
      "Now running basin 385. CAN_05DA007\n",
      "Now running basin 386. CAN_05DA009\n",
      "Now running basin 387. CAN_05DA010\n"
     ]
    },
    {
     "name": "stderr",
     "output_type": "stream",
     "text": [
      "C:\\Globus endpoint\\CAMELS_spat\\camels-spat-env\\lib\\site-packages\\geopandas\\io\\file.py:545: UserWarning: You are attempting to write an empty DataFrame to file. For some drivers, this operation may fail.\n",
      "  _to_file_fiona(df, filename, driver, schema, crs, mode, **kwargs)\n"
     ]
    },
    {
     "name": "stdout",
     "output_type": "stream",
     "text": [
      "Now running basin 388. CAN_05DB002\n",
      "Now running basin 389. CAN_05DB005\n",
      "Now running basin 390. CAN_05DB006\n",
      "Now running basin 391. CAN_05DC006\n",
      "Now running basin 392. CAN_05DC011\n",
      "Now running basin 393. CAN_05DC012\n",
      "Now running basin 394. CAN_05DD004\n",
      "Now running basin 395. CAN_05DD007\n",
      "Now running basin 396. CAN_05DD009\n",
      "Now running basin 397. CAN_05DE007\n",
      "Now running basin 398. CAN_05DF003\n",
      "Now running basin 399. CAN_05DF004\n",
      "Now running basin 400. CAN_05DF006\n",
      "Now running basin 401. CAN_05DF007\n",
      "Now running basin 402. CAN_05EA001\n",
      "Now running basin 403. CAN_05EA002\n",
      "Now running basin 404. CAN_05EA005\n",
      "Now running basin 405. CAN_05EA010\n",
      "Now running basin 406. CAN_05EB902\n",
      "Now running basin 407. CAN_05EC002\n",
      "Now running basin 408. CAN_05EC005\n",
      "Now running basin 409. CAN_05ED002\n",
      "Now running basin 410. CAN_05EE005\n",
      "Now running basin 411. CAN_05EE006\n"
     ]
    },
    {
     "name": "stderr",
     "output_type": "stream",
     "text": [
      "C:\\Globus endpoint\\CAMELS_spat\\camels-spat-env\\lib\\site-packages\\geopandas\\io\\file.py:545: UserWarning: You are attempting to write an empty DataFrame to file. For some drivers, this operation may fail.\n",
      "  _to_file_fiona(df, filename, driver, schema, crs, mode, **kwargs)\n"
     ]
    },
    {
     "name": "stdout",
     "output_type": "stream",
     "text": [
      "Now running basin 412. CAN_05EE009\n",
      "Now running basin 413. CAN_05EF004\n",
      "Now running basin 414. CAN_05EF005\n",
      "Now running basin 415. CAN_05EF006\n",
      "Now running basin 416. CAN_05EG004\n",
      "Now running basin 417. CAN_05FA001\n",
      "Now running basin 418. CAN_05FA012\n",
      "Now running basin 419. CAN_05FA014\n",
      "Now running basin 420. CAN_05FA024\n",
      "Now running basin 421. CAN_05FB002\n",
      "Now running basin 422. CAN_05FC002\n",
      "Now running basin 423. CAN_05FC004\n",
      "Now running basin 424. CAN_05FC007\n",
      "Now running basin 425. CAN_05FE002\n",
      "Now running basin 426. CAN_05FF003\n",
      "Now running basin 427. CAN_05GA008\n",
      "Now running basin 428. CAN_05GA010\n",
      "Now running basin 429. CAN_05GA012\n",
      "Now running basin 430. CAN_05GB004\n",
      "Now running basin 431. CAN_05GC007\n",
      "Now running basin 432. CAN_05GD002\n",
      "Now running basin 433. CAN_05GF001\n",
      "Now running basin 434. CAN_05GF002\n",
      "Now running basin 435. CAN_05GG010\n",
      "Now running basin 436. CAN_05HA015\n",
      "Now running basin 437. CAN_05HD036\n",
      "Now running basin 438. CAN_05HE001\n",
      "Now running basin 439. CAN_05HG021\n"
     ]
    },
    {
     "name": "stderr",
     "output_type": "stream",
     "text": [
      "C:\\Globus endpoint\\CAMELS_spat\\camels-spat-env\\lib\\site-packages\\geopandas\\io\\file.py:545: UserWarning: You are attempting to write an empty DataFrame to file. For some drivers, this operation may fail.\n",
      "  _to_file_fiona(df, filename, driver, schema, crs, mode, **kwargs)\n"
     ]
    },
    {
     "name": "stdout",
     "output_type": "stream",
     "text": [
      "Now running basin 440. CAN_05HH002\n",
      "Now running basin 441. CAN_05HH003\n",
      "Now running basin 442. CAN_05JA003\n",
      "Now running basin 443. CAN_05JB004\n",
      "Now running basin 444. CAN_05JB007\n",
      "Now running basin 445. CAN_05JC004\n",
      "Now running basin 446. CAN_05JC007\n",
      "Now running basin 447. CAN_05JF011\n",
      "Now running basin 448. CAN_05JF014\n",
      "Now running basin 449. CAN_05JG001\n",
      "Now running basin 450. CAN_05JG013\n",
      "Now running basin 451. CAN_05JH005\n",
      "Now running basin 452. CAN_05JJ009\n",
      "Now running basin 453. CAN_05JK008\n",
      "Now running basin 454. CAN_05JM010\n",
      "Now running basin 455. CAN_05KB003\n",
      "Now running basin 456. CAN_05KB006\n",
      "Now running basin 457. CAN_05KB011\n",
      "Now running basin 458. CAN_05KC001\n",
      "Now running basin 459. CAN_05KE005\n",
      "Now running basin 460. CAN_05KE007\n",
      "Now running basin 461. CAN_05KE010\n",
      "Now running basin 462. CAN_05KF001\n",
      "Now running basin 463. CAN_05KG007\n",
      "Now running basin 464. CAN_05KH007\n",
      "Now running basin 465. CAN_05KJ014\n",
      "Now running basin 466. CAN_05LA003\n",
      "Now running basin 467. CAN_05LB004\n",
      "Now running basin 468. CAN_05LB006\n",
      "Now running basin 469. CAN_05LB008\n",
      "Now running basin 470. CAN_05LB010\n",
      "Now running basin 471. CAN_05LC001\n",
      "Now running basin 472. CAN_05LD001\n",
      "Now running basin 473. CAN_05LD003\n",
      "Now running basin 474. CAN_05LE004\n",
      "Now running basin 475. CAN_05LE005\n",
      "Now running basin 476. CAN_05LE006\n",
      "Now running basin 477. CAN_05LE008\n",
      "Now running basin 478. CAN_05LE010\n",
      "Now running basin 479. CAN_05LE011\n",
      "Now running basin 480. CAN_05LG004\n",
      "Now running basin 481. CAN_05LH005\n",
      "Now running basin 482. CAN_05LJ005\n",
      "Now running basin 483. CAN_05LJ007\n",
      "Now running basin 484. CAN_05LJ027\n",
      "Now running basin 485. CAN_05LJ045\n",
      "Now running basin 486. CAN_05LL014\n",
      "Now running basin 487. CAN_05LL015\n",
      "Now running basin 488. CAN_05LL027\n"
     ]
    },
    {
     "name": "stderr",
     "output_type": "stream",
     "text": [
      "C:\\Globus endpoint\\CAMELS_spat\\camels-spat-env\\lib\\site-packages\\geopandas\\io\\file.py:545: UserWarning: You are attempting to write an empty DataFrame to file. For some drivers, this operation may fail.\n",
      "  _to_file_fiona(df, filename, driver, schema, crs, mode, **kwargs)\n"
     ]
    },
    {
     "name": "stdout",
     "output_type": "stream",
     "text": [
      "Now running basin 489. CAN_05MA020\n",
      "Now running basin 490. CAN_05MA021\n",
      "Now running basin 491. CAN_05MA025\n",
      "Now running basin 492. CAN_05MC001\n",
      "Now running basin 493. CAN_05MC002\n",
      "Now running basin 494. CAN_05MC003\n",
      "Now running basin 495. CAN_05MD005\n",
      "Now running basin 496. CAN_05MD010\n",
      "Now running basin 497. CAN_05ME003\n",
      "Now running basin 498. CAN_05ME005\n",
      "Now running basin 499. CAN_05ME007\n",
      "Now running basin 500. CAN_05MF001\n",
      "Now running basin 501. CAN_05MF008\n",
      "Now running basin 502. CAN_05MG001\n",
      "Now running basin 503. CAN_05MG003\n",
      "Now running basin 504. CAN_05MH006\n",
      "Now running basin 505. CAN_05MH007\n",
      "Now running basin 506. CAN_05MH008\n",
      "Now running basin 507. CAN_05NB033\n",
      "Now running basin 508. CAN_05NB035\n",
      "Now running basin 509. CAN_05ND011\n",
      "Now running basin 510. CAN_05NE003\n",
      "Now running basin 511. CAN_05NF002\n",
      "Now running basin 512. CAN_05NF006\n",
      "Now running basin 513. CAN_05NF008\n",
      "Now running basin 514. CAN_05NF010\n",
      "Now running basin 515. CAN_05NG010\n",
      "Now running basin 516. CAN_05NG012\n",
      "Now running basin 517. CAN_05NG020\n",
      "Now running basin 518. CAN_05OA007\n",
      "Now running basin 519. CAN_05OB010\n",
      "Now running basin 520. CAN_05OB016\n",
      "Now running basin 521. CAN_05OB021\n",
      "Now running basin 522. CAN_05OC016\n",
      "Now running basin 523. CAN_05OC019\n",
      "Now running basin 524. CAN_05OC022\n",
      "Now running basin 525. CAN_05OE004\n",
      "Now running basin 526. CAN_05OE006\n",
      "Now running basin 527. CAN_05OE007\n",
      "Now running basin 528. CAN_05OE009\n",
      "Now running basin 529. CAN_05OE010\n",
      "Now running basin 530. CAN_05OF009\n",
      "Now running basin 531. CAN_05OF011\n",
      "Now running basin 532. CAN_05OF014\n",
      "Now running basin 533. CAN_05OF017\n",
      "Now running basin 534. CAN_05OF018\n",
      "Now running basin 535. CAN_05OF020\n",
      "Now running basin 536. CAN_05OH007\n",
      "Now running basin 537. CAN_05OJ008\n",
      "Now running basin 538. CAN_05OJ016\n",
      "Now running basin 539. CAN_05OJ017\n",
      "Now running basin 540. CAN_05PB014\n",
      "Now running basin 541. CAN_05PB018\n",
      "Now running basin 542. CAN_05PH003\n",
      "Now running basin 543. CAN_05QA004\n",
      "Now running basin 544. CAN_05QE008\n",
      "Now running basin 545. CAN_05QE009\n",
      "Now running basin 546. CAN_05QE012\n",
      "Now running basin 547. CAN_05RA001\n",
      "Now running basin 548. CAN_05RB003\n",
      "Now running basin 549. CAN_05RC001\n",
      "Now running basin 550. CAN_05RE002\n",
      "Now running basin 551. CAN_05SA002\n",
      "Now running basin 552. CAN_05SC002\n",
      "Now running basin 553. CAN_05SD003\n",
      "Now running basin 554. CAN_05TD001\n",
      "Now running basin 555. CAN_05TE002\n",
      "Now running basin 556. CAN_05TF002\n",
      "Now running basin 557. CAN_05TG002\n",
      "Now running basin 558. CAN_05TG003\n",
      "Now running basin 559. CAN_05TG006\n",
      "Now running basin 560. CAN_05UA003\n",
      "Now running basin 561. CAN_05UF004\n",
      "Now running basin 562. CAN_05UG001\n",
      "Now running basin 563. CAN_05UH001\n",
      "Now running basin 564. CAN_05UH002\n",
      "Now running basin 565. CAN_06AA001\n",
      "Now running basin 566. CAN_06AB001\n",
      "Now running basin 567. CAN_06AB002\n",
      "Now running basin 568. CAN_06AD001\n",
      "Now running basin 569. CAN_06AD006\n",
      "Now running basin 570. CAN_06AD008\n",
      "Now running basin 571. CAN_06AD010\n",
      "Now running basin 572. CAN_06AD011\n",
      "Now running basin 573. CAN_06AF001\n",
      "Now running basin 574. CAN_06AG001\n",
      "Now running basin 575. CAN_06AG002\n",
      "Now running basin 576. CAN_06BA002\n",
      "Now running basin 577. CAN_06BB003\n",
      "Now running basin 578. CAN_06BB005\n",
      "Now running basin 579. CAN_06BD001\n",
      "Now running basin 580. CAN_06CD002\n",
      "Now running basin 581. CAN_06DA001\n",
      "Now running basin 582. CAN_06DA002\n",
      "Now running basin 583. CAN_06DA004\n",
      "Now running basin 584. CAN_06DA005\n",
      "Now running basin 585. CAN_06DC001\n",
      "Now running basin 586. CAN_06FA001\n",
      "Now running basin 587. CAN_06FB002\n",
      "Now running basin 588. CAN_06FC001\n",
      "Now running basin 589. CAN_06FD002\n",
      "Now running basin 590. CAN_06GD001\n",
      "Now running basin 591. CAN_06HB002\n",
      "Now running basin 592. CAN_06JB001\n",
      "Now running basin 593. CAN_06JC002\n",
      "Now running basin 594. CAN_06KC003\n",
      "Now running basin 595. CAN_06LA001\n",
      "Now running basin 596. CAN_06LC001\n",
      "Now running basin 597. CAN_06MA006\n",
      "Now running basin 598. CAN_07AA001\n",
      "Now running basin 599. CAN_07AA002\n",
      "Now running basin 600. CAN_07AA007\n",
      "Now running basin 601. CAN_07AC001\n",
      "Now running basin 602. CAN_07AC007\n",
      "Now running basin 603. CAN_07AC008\n",
      "Now running basin 604. CAN_07AD002\n",
      "Now running basin 605. CAN_07AF002\n",
      "Now running basin 606. CAN_07AF003\n",
      "Now running basin 607. CAN_07AF010\n",
      "Now running basin 608. CAN_07AF013\n",
      "Now running basin 609. CAN_07AF014\n",
      "Now running basin 610. CAN_07AF015\n",
      "Now running basin 611. CAN_07AG003\n",
      "Now running basin 612. CAN_07AG004\n",
      "Now running basin 613. CAN_07AG007\n",
      "Now running basin 614. CAN_07AG008\n",
      "Now running basin 615. CAN_07AH001\n",
      "Now running basin 616. CAN_07AH002\n",
      "Now running basin 617. CAN_07AH003\n",
      "Now running basin 618. CAN_07BA002\n",
      "Now running basin 619. CAN_07BB002\n",
      "Now running basin 620. CAN_07BB005\n",
      "Now running basin 621. CAN_07BB011\n",
      "Now running basin 622. CAN_07BB014\n",
      "Now running basin 623. CAN_07BC006\n",
      "Now running basin 624. CAN_07BC007\n",
      "Now running basin 625. CAN_07BE003\n",
      "Now running basin 626. CAN_07BE004\n",
      "Now running basin 627. CAN_07BF001\n",
      "Now running basin 628. CAN_07BF002\n",
      "Now running basin 629. CAN_07BF009\n",
      "Now running basin 630. CAN_07BG004\n"
     ]
    },
    {
     "name": "stderr",
     "output_type": "stream",
     "text": [
      "C:\\Globus endpoint\\CAMELS_spat\\camels-spat-env\\lib\\site-packages\\geopandas\\io\\file.py:545: UserWarning: You are attempting to write an empty DataFrame to file. For some drivers, this operation may fail.\n",
      "  _to_file_fiona(df, filename, driver, schema, crs, mode, **kwargs)\n"
     ]
    },
    {
     "name": "stdout",
     "output_type": "stream",
     "text": [
      "Now running basin 631. CAN_07BJ001\n",
      "Now running basin 632. CAN_07BJ003\n",
      "Now running basin 633. CAN_07BJ006\n",
      "Now running basin 634. CAN_07BK001\n",
      "Now running basin 635. CAN_07BK005\n",
      "Now running basin 636. CAN_07BK007\n",
      "Now running basin 637. CAN_07BK009\n",
      "Now running basin 638. CAN_07CA003\n",
      "Now running basin 639. CAN_07CA005\n",
      "Now running basin 640. CAN_07CA006\n",
      "Now running basin 641. CAN_07CA008\n",
      "Now running basin 642. CAN_07CA012\n",
      "Now running basin 643. CAN_07CA013\n",
      "Now running basin 644. CAN_07CB002\n",
      "Now running basin 645. CAN_07CD001\n",
      "Now running basin 646. CAN_07CD004\n",
      "Now running basin 647. CAN_07CD005\n",
      "Now running basin 648. CAN_07CE002\n",
      "Now running basin 649. CAN_07CE003\n",
      "Now running basin 650. CAN_07DA006\n",
      "Now running basin 651. CAN_07DA008\n",
      "Now running basin 652. CAN_07DA018\n",
      "Now running basin 653. CAN_07DB001\n",
      "Now running basin 654. CAN_07DC001\n",
      "Now running basin 655. CAN_07DD002\n",
      "Now running basin 656. CAN_07EA004\n",
      "Now running basin 657. CAN_07EA005\n",
      "Now running basin 658. CAN_07EA007\n",
      "Now running basin 659. CAN_07EB002\n",
      "Now running basin 660. CAN_07EC002\n",
      "Now running basin 661. CAN_07EC003\n",
      "Now running basin 662. CAN_07EC004\n",
      "Now running basin 663. CAN_07ED003\n",
      "Now running basin 664. CAN_07EE007\n",
      "Now running basin 665. CAN_07EE009\n",
      "Now running basin 666. CAN_07EE010\n",
      "Now running basin 667. CAN_07FA003\n",
      "Now running basin 668. CAN_07FA005\n",
      "Now running basin 669. CAN_07FA006\n",
      "Now running basin 670. CAN_07FB001\n",
      "Now running basin 671. CAN_07FB002\n",
      "Now running basin 672. CAN_07FB003\n",
      "Now running basin 673. CAN_07FB004\n",
      "Now running basin 674. CAN_07FB006\n",
      "Now running basin 675. CAN_07FB008\n",
      "Now running basin 676. CAN_07FB009\n",
      "Now running basin 677. CAN_07FC001\n",
      "Now running basin 678. CAN_07FC003\n",
      "Now running basin 679. CAN_07FD001\n",
      "Now running basin 680. CAN_07FD006\n",
      "Now running basin 681. CAN_07FD007\n",
      "Now running basin 682. CAN_07FD009\n",
      "Now running basin 683. CAN_07FD011\n",
      "Now running basin 684. CAN_07FD012\n",
      "Now running basin 685. CAN_07FD013\n",
      "Now running basin 686. CAN_07GA001\n",
      "Now running basin 687. CAN_07GA002\n",
      "Now running basin 688. CAN_07GB003\n",
      "Now running basin 689. CAN_07GC002\n",
      "Now running basin 690. CAN_07GD001\n",
      "Now running basin 691. CAN_07GD004\n",
      "Now running basin 692. CAN_07GE001\n",
      "Now running basin 693. CAN_07GE003\n",
      "Now running basin 694. CAN_07GE007\n",
      "Now running basin 695. CAN_07GF001\n",
      "Now running basin 696. CAN_07GG001\n",
      "Now running basin 697. CAN_07GG002\n",
      "Now running basin 698. CAN_07GG003\n",
      "Now running basin 699. CAN_07GH002\n",
      "Now running basin 700. CAN_07GH004\n",
      "Now running basin 701. CAN_07GJ001\n",
      "Now running basin 702. CAN_07HA003\n",
      "Now running basin 703. CAN_07HA005\n",
      "Now running basin 704. CAN_07HB001\n",
      "Now running basin 705. CAN_07HC001\n",
      "Now running basin 706. CAN_07HC002\n",
      "Now running basin 707. CAN_07HF002\n",
      "Now running basin 708. CAN_07JA003\n",
      "Now running basin 709. CAN_07JC001\n",
      "Now running basin 710. CAN_07JC002\n",
      "Now running basin 711. CAN_07JD002\n",
      "Now running basin 712. CAN_07JD003\n",
      "Now running basin 713. CAN_07JF002\n",
      "Now running basin 714. CAN_07JF003\n",
      "Now running basin 715. CAN_07KE001\n",
      "Now running basin 716. CAN_07LB002\n",
      "Now running basin 717. CAN_07LE002\n",
      "Now running basin 718. CAN_07MA003\n",
      "Now running basin 719. CAN_07MB001\n",
      "Now running basin 720. CAN_07OA001\n",
      "Now running basin 721. CAN_07OB001\n",
      "Now running basin 722. CAN_07OB003\n",
      "Now running basin 723. CAN_07OB004\n",
      "Now running basin 724. CAN_07OB006\n",
      "Now running basin 725. CAN_07OC001\n",
      "Now running basin 726. CAN_07QD002\n",
      "Now running basin 727. CAN_07RD001\n",
      "Now running basin 728. CAN_07SA002\n",
      "Now running basin 729. CAN_07SA004\n",
      "Now running basin 730. CAN_07SB010\n",
      "Now running basin 731. CAN_07SB013\n",
      "Now running basin 732. CAN_07SB017\n",
      "Now running basin 733. CAN_07SC002\n",
      "Now running basin 734. CAN_07TA001\n",
      "Now running basin 735. CAN_08AA007\n",
      "Now running basin 736. CAN_08AA008\n",
      "Now running basin 737. CAN_08AA009\n",
      "Now running basin 738. CAN_08AC001\n",
      "Now running basin 739. CAN_08AC002\n",
      "Now running basin 740. CAN_08BB005\n",
      "Now running basin 741. CAN_08CD001\n",
      "Now running basin 742. CAN_08CE001\n",
      "Now running basin 743. CAN_08CF003\n",
      "Now running basin 744. CAN_08CG001\n",
      "Now running basin 745. CAN_08DA005\n",
      "Now running basin 746. CAN_08DB001\n",
      "Now running basin 747. CAN_08DB013\n"
     ]
    },
    {
     "name": "stderr",
     "output_type": "stream",
     "text": [
      "C:\\Globus endpoint\\CAMELS_spat\\camels-spat-env\\lib\\site-packages\\geopandas\\io\\file.py:545: UserWarning: You are attempting to write an empty DataFrame to file. For some drivers, this operation may fail.\n",
      "  _to_file_fiona(df, filename, driver, schema, crs, mode, **kwargs)\n"
     ]
    },
    {
     "name": "stdout",
     "output_type": "stream",
     "text": [
      "Now running basin 748. CAN_08DB014\n"
     ]
    },
    {
     "name": "stderr",
     "output_type": "stream",
     "text": [
      "C:\\Globus endpoint\\CAMELS_spat\\camels-spat-env\\lib\\site-packages\\geopandas\\io\\file.py:545: UserWarning: You are attempting to write an empty DataFrame to file. For some drivers, this operation may fail.\n",
      "  _to_file_fiona(df, filename, driver, schema, crs, mode, **kwargs)\n"
     ]
    },
    {
     "name": "stdout",
     "output_type": "stream",
     "text": [
      "Now running basin 749. CAN_08EB004\n",
      "Now running basin 750. CAN_08EB005\n",
      "Now running basin 751. CAN_08ED001\n",
      "Now running basin 752. CAN_08ED002\n",
      "Now running basin 753. CAN_08EE003\n",
      "Now running basin 754. CAN_08EE004\n",
      "Now running basin 755. CAN_08EE008\n",
      "Now running basin 756. CAN_08EE012\n"
     ]
    },
    {
     "name": "stderr",
     "output_type": "stream",
     "text": [
      "C:\\Globus endpoint\\CAMELS_spat\\camels-spat-env\\lib\\site-packages\\geopandas\\io\\file.py:545: UserWarning: You are attempting to write an empty DataFrame to file. For some drivers, this operation may fail.\n",
      "  _to_file_fiona(df, filename, driver, schema, crs, mode, **kwargs)\n"
     ]
    },
    {
     "name": "stdout",
     "output_type": "stream",
     "text": [
      "Now running basin 757. CAN_08EE013\n",
      "Now running basin 758. CAN_08EE020\n",
      "Now running basin 759. CAN_08EE025\n"
     ]
    },
    {
     "name": "stderr",
     "output_type": "stream",
     "text": [
      "C:\\Globus endpoint\\CAMELS_spat\\camels-spat-env\\lib\\site-packages\\geopandas\\io\\file.py:545: UserWarning: You are attempting to write an empty DataFrame to file. For some drivers, this operation may fail.\n",
      "  _to_file_fiona(df, filename, driver, schema, crs, mode, **kwargs)\n"
     ]
    },
    {
     "name": "stdout",
     "output_type": "stream",
     "text": [
      "Now running basin 760. CAN_08EF001\n",
      "Now running basin 761. CAN_08EF005\n",
      "Now running basin 762. CAN_08EG012\n",
      "Now running basin 763. CAN_08FA002\n",
      "Now running basin 764. CAN_08FB004\n",
      "Now running basin 765. CAN_08FB006\n",
      "Now running basin 766. CAN_08FC003\n",
      "Now running basin 767. CAN_08FE003\n",
      "Now running basin 768. CAN_08FF001\n",
      "Now running basin 769. CAN_08FF002\n",
      "Now running basin 770. CAN_08FF003\n",
      "Now running basin 771. CAN_08FF006\n"
     ]
    },
    {
     "name": "stderr",
     "output_type": "stream",
     "text": [
      "C:\\Globus endpoint\\CAMELS_spat\\camels-spat-env\\lib\\site-packages\\geopandas\\io\\file.py:545: UserWarning: You are attempting to write an empty DataFrame to file. For some drivers, this operation may fail.\n",
      "  _to_file_fiona(df, filename, driver, schema, crs, mode, **kwargs)\n"
     ]
    },
    {
     "name": "stdout",
     "output_type": "stream",
     "text": [
      "Now running basin 772. CAN_08GA071\n",
      "Now running basin 773. CAN_08GA072\n",
      "Now running basin 774. CAN_08GA075\n",
      "Now running basin 775. CAN_08GA077\n",
      "Now running basin 776. CAN_08GA079\n",
      "Now running basin 777. CAN_08GB013\n",
      "Now running basin 778. CAN_08GD004\n",
      "Now running basin 779. CAN_08GD008\n",
      "Now running basin 780. CAN_08GE002\n",
      "Now running basin 781. CAN_08HA001\n",
      "Now running basin 782. CAN_08HA003\n",
      "Now running basin 783. CAN_08HA010\n",
      "Now running basin 784. CAN_08HA016\n"
     ]
    },
    {
     "name": "stderr",
     "output_type": "stream",
     "text": [
      "C:\\Globus endpoint\\CAMELS_spat\\camels-spat-env\\lib\\site-packages\\geopandas\\io\\file.py:545: UserWarning: You are attempting to write an empty DataFrame to file. For some drivers, this operation may fail.\n",
      "  _to_file_fiona(df, filename, driver, schema, crs, mode, **kwargs)\n"
     ]
    },
    {
     "name": "stdout",
     "output_type": "stream",
     "text": [
      "Now running basin 785. CAN_08HA068\n"
     ]
    },
    {
     "name": "stderr",
     "output_type": "stream",
     "text": [
      "C:\\Globus endpoint\\CAMELS_spat\\camels-spat-env\\lib\\site-packages\\geopandas\\io\\file.py:545: UserWarning: You are attempting to write an empty DataFrame to file. For some drivers, this operation may fail.\n",
      "  _to_file_fiona(df, filename, driver, schema, crs, mode, **kwargs)\n"
     ]
    },
    {
     "name": "stdout",
     "output_type": "stream",
     "text": [
      "Now running basin 786. CAN_08HB014\n",
      "Now running basin 787. CAN_08HB025\n",
      "Now running basin 788. CAN_08HB048\n"
     ]
    },
    {
     "name": "stderr",
     "output_type": "stream",
     "text": [
      "C:\\Globus endpoint\\CAMELS_spat\\camels-spat-env\\lib\\site-packages\\geopandas\\io\\file.py:545: UserWarning: You are attempting to write an empty DataFrame to file. For some drivers, this operation may fail.\n",
      "  _to_file_fiona(df, filename, driver, schema, crs, mode, **kwargs)\n"
     ]
    },
    {
     "name": "stdout",
     "output_type": "stream",
     "text": [
      "Now running basin 789. CAN_08HB074\n",
      "Now running basin 790. CAN_08HB075\n",
      "Now running basin 791. CAN_08HB086\n",
      "Now running basin 792. CAN_08HD011\n",
      "Now running basin 793. CAN_08HD015\n",
      "Now running basin 794. CAN_08HF004\n",
      "Now running basin 795. CAN_08HF005\n",
      "Now running basin 796. CAN_08HF006\n",
      "Now running basin 797. CAN_08JA015\n",
      "Now running basin 798. CAN_08JB002\n",
      "Now running basin 799. CAN_08JB003\n",
      "Now running basin 800. CAN_08JD006\n",
      "Now running basin 801. CAN_08JE001\n",
      "Now running basin 802. CAN_08JE004\n",
      "Now running basin 803. CAN_08KA001\n",
      "Now running basin 804. CAN_08KA004\n",
      "Now running basin 805. CAN_08KA005\n",
      "Now running basin 806. CAN_08KA007\n",
      "Now running basin 807. CAN_08KA009\n",
      "Now running basin 808. CAN_08KB001\n",
      "Now running basin 809. CAN_08KB003\n",
      "Now running basin 810. CAN_08KB006\n",
      "Now running basin 811. CAN_08KC001\n",
      "Now running basin 812. CAN_08KD007\n",
      "Now running basin 813. CAN_08KE016\n",
      "Now running basin 814. CAN_08KE024\n",
      "Now running basin 815. CAN_08KG001\n",
      "Now running basin 816. CAN_08KH001\n",
      "Now running basin 817. CAN_08KH006\n",
      "Now running basin 818. CAN_08KH010\n",
      "Now running basin 819. CAN_08KH011\n",
      "Now running basin 820. CAN_08KH019\n",
      "Now running basin 821. CAN_08LA001\n",
      "Now running basin 822. CAN_08LB020\n",
      "Now running basin 823. CAN_08LB024\n",
      "Now running basin 824. CAN_08LB038\n",
      "Now running basin 825. CAN_08LB064\n",
      "Now running basin 826. CAN_08LB069\n",
      "Now running basin 827. CAN_08LB076\n",
      "Now running basin 828. CAN_08LC040\n",
      "Now running basin 829. CAN_08LD001\n",
      "Now running basin 830. CAN_08LD003\n",
      "Now running basin 831. CAN_08LE024\n",
      "Now running basin 832. CAN_08LE027\n",
      "Now running basin 833. CAN_08LE031\n",
      "Now running basin 834. CAN_08LE077\n",
      "Now running basin 835. CAN_08LE108\n"
     ]
    },
    {
     "name": "stderr",
     "output_type": "stream",
     "text": [
      "C:\\Globus endpoint\\CAMELS_spat\\camels-spat-env\\lib\\site-packages\\geopandas\\io\\file.py:545: UserWarning: You are attempting to write an empty DataFrame to file. For some drivers, this operation may fail.\n",
      "  _to_file_fiona(df, filename, driver, schema, crs, mode, **kwargs)\n"
     ]
    },
    {
     "name": "stdout",
     "output_type": "stream",
     "text": [
      "Now running basin 836. CAN_08LF023\n",
      "Now running basin 837. CAN_08LF094\n",
      "Now running basin 838. CAN_08LG008\n",
      "Now running basin 839. CAN_08LG016\n",
      "Now running basin 840. CAN_08LG048\n",
      "Now running basin 841. CAN_08LG056\n",
      "Now running basin 842. CAN_08MA001\n",
      "Now running basin 843. CAN_08MA002\n",
      "Now running basin 844. CAN_08MA003\n",
      "Now running basin 845. CAN_08MA006\n",
      "Now running basin 846. CAN_08MB005\n",
      "Now running basin 847. CAN_08MB006\n",
      "Now running basin 848. CAN_08MB007\n",
      "Now running basin 849. CAN_08ME023\n",
      "Now running basin 850. CAN_08ME025\n",
      "Now running basin 851. CAN_08ME027\n",
      "Now running basin 852. CAN_08ME028\n",
      "Now running basin 853. CAN_08MF062\n",
      "Now running basin 854. CAN_08MF065\n",
      "Now running basin 855. CAN_08MF068\n",
      "Now running basin 856. CAN_08MG001\n",
      "Now running basin 857. CAN_08MG005\n",
      "Now running basin 858. CAN_08MG013\n",
      "Now running basin 859. CAN_08MG020\n",
      "Now running basin 860. CAN_08MG022\n",
      "Now running basin 861. CAN_08MH001\n",
      "Now running basin 862. CAN_08MH006\n",
      "Now running basin 863. CAN_08MH016\n",
      "Now running basin 864. CAN_08MH029\n",
      "Now running basin 865. CAN_08MH056\n",
      "Now running basin 866. CAN_08MH076\n",
      "Now running basin 867. CAN_08MH103\n",
      "Now running basin 868. CAN_08MH141\n",
      "Now running basin 869. CAN_08MH147\n",
      "Now running basin 870. CAN_08NA002\n",
      "Now running basin 871. CAN_08NA006\n",
      "Now running basin 872. CAN_08NB005\n",
      "Now running basin 873. CAN_08NB012\n",
      "Now running basin 874. CAN_08NB014\n",
      "Now running basin 875. CAN_08NB016\n",
      "Now running basin 876. CAN_08NB019\n",
      "Now running basin 877. CAN_08NC004\n",
      "Now running basin 878. CAN_08ND012\n",
      "Now running basin 879. CAN_08ND013\n",
      "Now running basin 880. CAN_08NE006\n",
      "Now running basin 881. CAN_08NE008\n",
      "Now running basin 882. CAN_08NE039\n",
      "Now running basin 883. CAN_08NE074\n",
      "Now running basin 884. CAN_08NE077\n",
      "Now running basin 885. CAN_08NE087\n",
      "Now running basin 886. CAN_08NE110\n",
      "Now running basin 887. CAN_08NE114\n",
      "Now running basin 888. CAN_08NF001\n",
      "Now running basin 889. CAN_08NG065\n",
      "Now running basin 890. CAN_08NG076\n",
      "Now running basin 891. CAN_08NG077\n",
      "Now running basin 892. CAN_08NH005\n",
      "Now running basin 893. CAN_08NH006\n",
      "Now running basin 894. CAN_08NH007\n",
      "Now running basin 895. CAN_08NH016\n",
      "Now running basin 896. CAN_08NH032\n",
      "Now running basin 897. CAN_08NH084\n",
      "Now running basin 898. CAN_08NH115\n"
     ]
    },
    {
     "name": "stderr",
     "output_type": "stream",
     "text": [
      "C:\\Globus endpoint\\CAMELS_spat\\camels-spat-env\\lib\\site-packages\\geopandas\\io\\file.py:545: UserWarning: You are attempting to write an empty DataFrame to file. For some drivers, this operation may fail.\n",
      "  _to_file_fiona(df, filename, driver, schema, crs, mode, **kwargs)\n"
     ]
    },
    {
     "name": "stdout",
     "output_type": "stream",
     "text": [
      "Now running basin 899. CAN_08NH119\n",
      "Now running basin 900. CAN_08NH120\n",
      "Now running basin 901. CAN_08NH130\n",
      "Now running basin 902. CAN_08NH132\n",
      "Now running basin 903. CAN_08NJ013\n",
      "Now running basin 904. CAN_08NJ026\n",
      "Now running basin 905. CAN_08NJ061\n",
      "Now running basin 906. CAN_08NJ130\n"
     ]
    },
    {
     "name": "stderr",
     "output_type": "stream",
     "text": [
      "C:\\Globus endpoint\\CAMELS_spat\\camels-spat-env\\lib\\site-packages\\geopandas\\io\\file.py:545: UserWarning: You are attempting to write an empty DataFrame to file. For some drivers, this operation may fail.\n",
      "  _to_file_fiona(df, filename, driver, schema, crs, mode, **kwargs)\n"
     ]
    },
    {
     "name": "stdout",
     "output_type": "stream",
     "text": [
      "Now running basin 907. CAN_08NJ160\n",
      "Now running basin 908. CAN_08NK026\n"
     ]
    },
    {
     "name": "stderr",
     "output_type": "stream",
     "text": [
      "C:\\Globus endpoint\\CAMELS_spat\\camels-spat-env\\lib\\site-packages\\geopandas\\io\\file.py:545: UserWarning: You are attempting to write an empty DataFrame to file. For some drivers, this operation may fail.\n",
      "  _to_file_fiona(df, filename, driver, schema, crs, mode, **kwargs)\n"
     ]
    },
    {
     "name": "stdout",
     "output_type": "stream",
     "text": [
      "Now running basin 909. CAN_08NL004\n",
      "Now running basin 910. CAN_08NL007\n",
      "Now running basin 911. CAN_08NL024\n",
      "Now running basin 912. CAN_08NL038\n",
      "Now running basin 913. CAN_08NL050\n",
      "Now running basin 914. CAN_08NL069\n",
      "Now running basin 915. CAN_08NL070\n",
      "Now running basin 916. CAN_08NL071\n",
      "Now running basin 917. CAN_08NM134\n",
      "Now running basin 918. CAN_08NM142\n",
      "Now running basin 919. CAN_08NM171\n",
      "Now running basin 920. CAN_08NM173\n",
      "Now running basin 921. CAN_08NM174\n",
      "Now running basin 922. CAN_08NM240\n"
     ]
    },
    {
     "name": "stderr",
     "output_type": "stream",
     "text": [
      "C:\\Globus endpoint\\CAMELS_spat\\camels-spat-env\\lib\\site-packages\\geopandas\\io\\file.py:545: UserWarning: You are attempting to write an empty DataFrame to file. For some drivers, this operation may fail.\n",
      "  _to_file_fiona(df, filename, driver, schema, crs, mode, **kwargs)\n"
     ]
    },
    {
     "name": "stdout",
     "output_type": "stream",
     "text": [
      "Now running basin 923. CAN_08NM241\n"
     ]
    },
    {
     "name": "stderr",
     "output_type": "stream",
     "text": [
      "C:\\Globus endpoint\\CAMELS_spat\\camels-spat-env\\lib\\site-packages\\geopandas\\io\\file.py:545: UserWarning: You are attempting to write an empty DataFrame to file. For some drivers, this operation may fail.\n",
      "  _to_file_fiona(df, filename, driver, schema, crs, mode, **kwargs)\n"
     ]
    },
    {
     "name": "stdout",
     "output_type": "stream",
     "text": [
      "Now running basin 924. CAN_08NM242\n"
     ]
    },
    {
     "name": "stderr",
     "output_type": "stream",
     "text": [
      "C:\\Globus endpoint\\CAMELS_spat\\camels-spat-env\\lib\\site-packages\\geopandas\\io\\file.py:545: UserWarning: You are attempting to write an empty DataFrame to file. For some drivers, this operation may fail.\n",
      "  _to_file_fiona(df, filename, driver, schema, crs, mode, **kwargs)\n"
     ]
    },
    {
     "name": "stdout",
     "output_type": "stream",
     "text": [
      "Now running basin 925. CAN_08NN002\n",
      "Now running basin 926. CAN_08NN012\n",
      "Now running basin 927. CAN_08NN013\n",
      "Now running basin 928. CAN_08NN015\n",
      "Now running basin 929. CAN_08NN019\n",
      "Now running basin 930. CAN_08NN023\n",
      "Now running basin 931. CAN_08NP001\n",
      "Now running basin 932. CAN_08NP004\n",
      "Now running basin 933. CAN_08OA002\n",
      "Now running basin 934. CAN_08OA003\n"
     ]
    },
    {
     "name": "stderr",
     "output_type": "stream",
     "text": [
      "C:\\Globus endpoint\\CAMELS_spat\\camels-spat-env\\lib\\site-packages\\geopandas\\io\\file.py:545: UserWarning: You are attempting to write an empty DataFrame to file. For some drivers, this operation may fail.\n",
      "  _to_file_fiona(df, filename, driver, schema, crs, mode, **kwargs)\n"
     ]
    },
    {
     "name": "stdout",
     "output_type": "stream",
     "text": [
      "Now running basin 935. CAN_08OA004\n",
      "Now running basin 936. CAN_08OA005\n"
     ]
    },
    {
     "name": "stderr",
     "output_type": "stream",
     "text": [
      "C:\\Globus endpoint\\CAMELS_spat\\camels-spat-env\\lib\\site-packages\\geopandas\\io\\file.py:545: UserWarning: You are attempting to write an empty DataFrame to file. For some drivers, this operation may fail.\n",
      "  _to_file_fiona(df, filename, driver, schema, crs, mode, **kwargs)\n"
     ]
    },
    {
     "name": "stdout",
     "output_type": "stream",
     "text": [
      "Now running basin 937. CAN_08OB002\n",
      "Now running basin 938. CAN_09AA004\n",
      "Now running basin 939. CAN_09AA012\n",
      "Now running basin 940. CAN_09AA013\n",
      "Now running basin 941. CAN_09AC001\n",
      "Now running basin 942. CAN_09AC007\n",
      "Now running basin 943. CAN_09AE002\n",
      "Now running basin 944. CAN_09AE003\n",
      "Now running basin 945. CAN_09AE006\n",
      "Now running basin 946. CAN_09AG001\n",
      "Now running basin 947. CAN_09AH003\n",
      "Now running basin 948. CAN_09AH004\n",
      "Now running basin 949. CAN_09BA001\n",
      "Now running basin 950. CAN_09BB001\n",
      "Now running basin 951. CAN_09BC001\n",
      "Now running basin 952. CAN_09BC004\n",
      "Now running basin 953. CAN_09CA004\n",
      "Now running basin 954. CAN_09CA006\n",
      "Now running basin 955. CAN_09CB001\n",
      "Now running basin 956. CAN_09CD001\n",
      "Now running basin 957. CAN_09DB001\n",
      "Now running basin 958. CAN_09DD003\n",
      "Now running basin 959. CAN_09DD004\n",
      "Now running basin 960. CAN_09EA003\n",
      "Now running basin 961. CAN_09EA004\n",
      "Now running basin 962. CAN_09EB003\n",
      "Now running basin 963. CAN_09ED001\n",
      "Now running basin 964. CAN_09FB002\n",
      "Now running basin 965. CAN_09FC001\n",
      "Now running basin 966. CAN_09FD002\n",
      "Now running basin 967. CAN_10AA001\n",
      "Now running basin 968. CAN_10AA004\n",
      "Now running basin 969. CAN_10AA005\n",
      "Now running basin 970. CAN_10AB001\n",
      "Now running basin 971. CAN_10AC005\n",
      "Now running basin 972. CAN_10BE001\n",
      "Now running basin 973. CAN_10BE004\n",
      "Now running basin 974. CAN_10BE007\n",
      "Now running basin 975. CAN_10BE009\n",
      "Now running basin 976. CAN_10BE013\n",
      "Now running basin 977. CAN_10CA001\n",
      "Now running basin 978. CAN_10CB001\n",
      "Now running basin 979. CAN_10CD001\n",
      "Now running basin 980. CAN_10CD003\n",
      "Now running basin 981. CAN_10CD004\n",
      "Now running basin 982. CAN_10CD005\n",
      "Now running basin 983. CAN_10EA003\n",
      "Now running basin 984. CAN_10EB001\n",
      "Now running basin 985. CAN_10ED001\n",
      "Now running basin 986. CAN_10ED002\n",
      "Now running basin 987. CAN_10ED003\n",
      "Now running basin 988. CAN_10ED007\n",
      "Now running basin 989. CAN_10ED009\n",
      "Now running basin 990. CAN_10FA002\n",
      "Now running basin 991. CAN_10FB005\n",
      "Now running basin 992. CAN_10GA001\n",
      "Now running basin 993. CAN_10GB006\n",
      "Now running basin 994. CAN_10GC003\n",
      "Now running basin 995. CAN_10JA002\n",
      "Now running basin 996. CAN_10JC003\n",
      "Now running basin 997. CAN_10KA007\n",
      "Now running basin 998. CAN_10KB001\n",
      "Now running basin 999. CAN_10LA002\n",
      "Now running basin 1000. CAN_10LC003\n",
      "Now running basin 1001. CAN_10LC007\n",
      "Now running basin 1002. CAN_10MA001\n",
      "Now running basin 1003. CAN_10MA002\n",
      "Now running basin 1004. CAN_10MA003\n",
      "Now running basin 1005. CAN_10MC002\n",
      "Now running basin 1006. CAN_10NC001\n",
      "Now running basin 1007. CAN_10ND002\n",
      "Now running basin 1008. CAN_10PB001\n",
      "Now running basin 1009. CAN_10PC004\n",
      "Now running basin 1010. CAN_10PC005\n",
      "Now running basin 1011. CAN_10QA001\n",
      "Now running basin 1012. CAN_10QC001\n",
      "Now running basin 1013. CAN_10QD001\n",
      "Now running basin 1014. CAN_10RA001\n",
      "Now running basin 1015. CAN_10RA002\n",
      "Now running basin 1016. CAN_10RC001\n",
      "Now running basin 1017. CAN_10TF001\n",
      "Now running basin 1018. CAN_10UH001\n",
      "Now running basin 1019. CAN_11AA026\n",
      "Now running basin 1020. CAN_11AA032\n",
      "Now running basin 1021. CAN_11AB075\n",
      "Now running basin 1022. CAN_11AB117\n",
      "Now running basin 1023. CAN_11AC025\n",
      "Now running basin 1024. CAN_11AE008\n",
      "Now running basin 1025. CAN_11AE009\n",
      "Now running basin 1026. CAN_11AE014\n",
      "Now running basin 1027. USA_01013500\n",
      "Now running basin 1028. USA_01022500\n",
      "Now running basin 1029. USA_01030500\n",
      "Now running basin 1030. USA_01031500\n",
      "Now running basin 1031. USA_01047000\n",
      "Now running basin 1032. USA_01052500\n",
      "Now running basin 1033. USA_01054200\n",
      "Now running basin 1034. USA_01055000\n",
      "Now running basin 1035. USA_01057000\n",
      "Now running basin 1036. USA_01073000\n",
      "Now running basin 1037. USA_01078000\n",
      "Now running basin 1038. USA_01118300\n"
     ]
    },
    {
     "name": "stderr",
     "output_type": "stream",
     "text": [
      "C:\\Globus endpoint\\CAMELS_spat\\camels-spat-env\\lib\\site-packages\\geopandas\\io\\file.py:545: UserWarning: You are attempting to write an empty DataFrame to file. For some drivers, this operation may fail.\n",
      "  _to_file_fiona(df, filename, driver, schema, crs, mode, **kwargs)\n"
     ]
    },
    {
     "name": "stdout",
     "output_type": "stream",
     "text": [
      "Now running basin 1039. USA_01121000\n",
      "Now running basin 1040. USA_01123000\n",
      "Now running basin 1041. USA_01134500\n",
      "Now running basin 1042. USA_01137500\n",
      "Now running basin 1043. USA_01139000\n",
      "Now running basin 1044. USA_01139800\n"
     ]
    },
    {
     "name": "stderr",
     "output_type": "stream",
     "text": [
      "C:\\Globus endpoint\\CAMELS_spat\\camels-spat-env\\lib\\site-packages\\geopandas\\io\\file.py:545: UserWarning: You are attempting to write an empty DataFrame to file. For some drivers, this operation may fail.\n",
      "  _to_file_fiona(df, filename, driver, schema, crs, mode, **kwargs)\n"
     ]
    },
    {
     "name": "stdout",
     "output_type": "stream",
     "text": [
      "Now running basin 1045. USA_01142500\n",
      "Now running basin 1046. USA_01144000\n",
      "Now running basin 1047. USA_01162500\n",
      "Now running basin 1048. USA_01169000\n",
      "Now running basin 1049. USA_01170100\n",
      "Now running basin 1050. USA_01181000\n",
      "Now running basin 1051. USA_01187300\n",
      "Now running basin 1052. USA_01195100\n"
     ]
    },
    {
     "name": "stderr",
     "output_type": "stream",
     "text": [
      "C:\\Globus endpoint\\CAMELS_spat\\camels-spat-env\\lib\\site-packages\\geopandas\\io\\file.py:545: UserWarning: You are attempting to write an empty DataFrame to file. For some drivers, this operation may fail.\n",
      "  _to_file_fiona(df, filename, driver, schema, crs, mode, **kwargs)\n"
     ]
    },
    {
     "name": "stdout",
     "output_type": "stream",
     "text": [
      "Now running basin 1053. USA_01333000\n",
      "Now running basin 1054. USA_01350000\n",
      "Now running basin 1055. USA_01350080\n",
      "Now running basin 1056. USA_01350140\n",
      "Now running basin 1057. USA_01365000\n",
      "Now running basin 1058. USA_01411300\n",
      "Now running basin 1059. USA_01413500\n",
      "Now running basin 1060. USA_01414500\n",
      "Now running basin 1061. USA_01415000\n",
      "Now running basin 1062. USA_01423000\n",
      "Now running basin 1063. USA_01434025\n"
     ]
    },
    {
     "name": "stderr",
     "output_type": "stream",
     "text": [
      "C:\\Globus endpoint\\CAMELS_spat\\camels-spat-env\\lib\\site-packages\\geopandas\\io\\file.py:545: UserWarning: You are attempting to write an empty DataFrame to file. For some drivers, this operation may fail.\n",
      "  _to_file_fiona(df, filename, driver, schema, crs, mode, **kwargs)\n"
     ]
    },
    {
     "name": "stdout",
     "output_type": "stream",
     "text": [
      "Now running basin 1064. USA_01435000\n",
      "Now running basin 1065. USA_01439500\n",
      "Now running basin 1066. USA_01440000\n",
      "Now running basin 1067. USA_01440400\n",
      "Now running basin 1068. USA_01451800\n",
      "Now running basin 1069. USA_01466500\n"
     ]
    },
    {
     "name": "stderr",
     "output_type": "stream",
     "text": [
      "C:\\Globus endpoint\\CAMELS_spat\\camels-spat-env\\lib\\site-packages\\geopandas\\io\\file.py:545: UserWarning: You are attempting to write an empty DataFrame to file. For some drivers, this operation may fail.\n",
      "  _to_file_fiona(df, filename, driver, schema, crs, mode, **kwargs)\n"
     ]
    },
    {
     "name": "stdout",
     "output_type": "stream",
     "text": [
      "Now running basin 1070. USA_01484100\n"
     ]
    },
    {
     "name": "stderr",
     "output_type": "stream",
     "text": [
      "C:\\Globus endpoint\\CAMELS_spat\\camels-spat-env\\lib\\site-packages\\geopandas\\io\\file.py:545: UserWarning: You are attempting to write an empty DataFrame to file. For some drivers, this operation may fail.\n",
      "  _to_file_fiona(df, filename, driver, schema, crs, mode, **kwargs)\n"
     ]
    },
    {
     "name": "stdout",
     "output_type": "stream",
     "text": [
      "Now running basin 1071. USA_01485500\n",
      "Now running basin 1072. USA_01486000\n",
      "Now running basin 1073. USA_01487000\n",
      "Now running basin 1074. USA_01491000\n",
      "Now running basin 1075. USA_01510000\n",
      "Now running basin 1076. USA_01516500\n",
      "Now running basin 1077. USA_01518862\n",
      "Now running basin 1078. USA_01532000\n",
      "Now running basin 1079. USA_01539000\n",
      "Now running basin 1080. USA_01542810\n"
     ]
    },
    {
     "name": "stderr",
     "output_type": "stream",
     "text": [
      "C:\\Globus endpoint\\CAMELS_spat\\camels-spat-env\\lib\\site-packages\\geopandas\\io\\file.py:545: UserWarning: You are attempting to write an empty DataFrame to file. For some drivers, this operation may fail.\n",
      "  _to_file_fiona(df, filename, driver, schema, crs, mode, **kwargs)\n"
     ]
    },
    {
     "name": "stdout",
     "output_type": "stream",
     "text": [
      "Now running basin 1081. USA_01543000\n",
      "Now running basin 1082. USA_01543500\n",
      "Now running basin 1083. USA_01544500\n",
      "Now running basin 1084. USA_01545600\n",
      "Now running basin 1085. USA_01547700\n",
      "Now running basin 1086. USA_01548500\n",
      "Now running basin 1087. USA_01549500\n",
      "Now running basin 1088. USA_01550000\n",
      "Now running basin 1089. USA_01552000\n",
      "Now running basin 1090. USA_01552500\n",
      "Now running basin 1091. USA_01557500\n",
      "Now running basin 1092. USA_01567500\n",
      "Now running basin 1093. USA_01568000\n",
      "Now running basin 1094. USA_01580000\n",
      "Now running basin 1095. USA_01583500\n",
      "Now running basin 1096. USA_01586610\n",
      "Now running basin 1097. USA_01591400\n",
      "Now running basin 1098. USA_01594950\n"
     ]
    },
    {
     "name": "stderr",
     "output_type": "stream",
     "text": [
      "C:\\Globus endpoint\\CAMELS_spat\\camels-spat-env\\lib\\site-packages\\geopandas\\io\\file.py:545: UserWarning: You are attempting to write an empty DataFrame to file. For some drivers, this operation may fail.\n",
      "  _to_file_fiona(df, filename, driver, schema, crs, mode, **kwargs)\n"
     ]
    },
    {
     "name": "stdout",
     "output_type": "stream",
     "text": [
      "Now running basin 1099. USA_01596500\n",
      "Now running basin 1100. USA_01605500\n",
      "Now running basin 1101. USA_01606500\n",
      "Now running basin 1102. USA_01613050\n",
      "Now running basin 1103. USA_01620500\n",
      "Now running basin 1104. USA_01632000\n",
      "Now running basin 1105. USA_01632900\n",
      "Now running basin 1106. USA_01634500\n",
      "Now running basin 1107. USA_01638480\n",
      "Now running basin 1108. USA_01639500\n",
      "Now running basin 1109. USA_01644000\n",
      "Now running basin 1110. USA_01658500\n"
     ]
    },
    {
     "name": "stderr",
     "output_type": "stream",
     "text": [
      "C:\\Globus endpoint\\CAMELS_spat\\camels-spat-env\\lib\\site-packages\\geopandas\\io\\file.py:545: UserWarning: You are attempting to write an empty DataFrame to file. For some drivers, this operation may fail.\n",
      "  _to_file_fiona(df, filename, driver, schema, crs, mode, **kwargs)\n"
     ]
    },
    {
     "name": "stdout",
     "output_type": "stream",
     "text": [
      "Now running basin 1111. USA_01664000\n",
      "Now running basin 1112. USA_01666500\n",
      "Now running basin 1113. USA_01667500\n",
      "Now running basin 1114. USA_01669000\n",
      "Now running basin 1115. USA_01669520\n",
      "Now running basin 1116. USA_02011400\n",
      "Now running basin 1117. USA_02011460\n",
      "Now running basin 1118. USA_02013000\n",
      "Now running basin 1119. USA_02014000\n",
      "Now running basin 1120. USA_02015700\n",
      "Now running basin 1121. USA_02016000\n",
      "Now running basin 1122. USA_02017500\n",
      "Now running basin 1123. USA_02018000\n",
      "Now running basin 1124. USA_02027000\n",
      "Now running basin 1125. USA_02027500\n",
      "Now running basin 1126. USA_02028500\n",
      "Now running basin 1127. USA_02038850\n"
     ]
    },
    {
     "name": "stderr",
     "output_type": "stream",
     "text": [
      "C:\\Globus endpoint\\CAMELS_spat\\camels-spat-env\\lib\\site-packages\\geopandas\\io\\file.py:545: UserWarning: You are attempting to write an empty DataFrame to file. For some drivers, this operation may fail.\n",
      "  _to_file_fiona(df, filename, driver, schema, crs, mode, **kwargs)\n"
     ]
    },
    {
     "name": "stdout",
     "output_type": "stream",
     "text": [
      "Now running basin 1128. USA_02046000\n",
      "Now running basin 1129. USA_02051000\n",
      "Now running basin 1130. USA_02051500\n",
      "Now running basin 1131. USA_02053200\n",
      "Now running basin 1132. USA_02053800\n",
      "Now running basin 1133. USA_02055100\n",
      "Now running basin 1134. USA_02056900\n",
      "Now running basin 1135. USA_02059500\n",
      "Now running basin 1136. USA_02064000\n",
      "Now running basin 1137. USA_02065500\n",
      "Now running basin 1138. USA_02069700\n",
      "Now running basin 1139. USA_02070000\n",
      "Now running basin 1140. USA_02074500\n",
      "Now running basin 1141. USA_02077200\n",
      "Now running basin 1142. USA_02081500\n",
      "Now running basin 1143. USA_02082950\n",
      "Now running basin 1144. USA_02092500\n",
      "Now running basin 1145. USA_02096846\n"
     ]
    },
    {
     "name": "stderr",
     "output_type": "stream",
     "text": [
      "C:\\Globus endpoint\\CAMELS_spat\\camels-spat-env\\lib\\site-packages\\geopandas\\io\\file.py:545: UserWarning: You are attempting to write an empty DataFrame to file. For some drivers, this operation may fail.\n",
      "  _to_file_fiona(df, filename, driver, schema, crs, mode, **kwargs)\n"
     ]
    },
    {
     "name": "stdout",
     "output_type": "stream",
     "text": [
      "Now running basin 1146. USA_02102908\n"
     ]
    },
    {
     "name": "stderr",
     "output_type": "stream",
     "text": [
      "C:\\Globus endpoint\\CAMELS_spat\\camels-spat-env\\lib\\site-packages\\geopandas\\io\\file.py:545: UserWarning: You are attempting to write an empty DataFrame to file. For some drivers, this operation may fail.\n",
      "  _to_file_fiona(df, filename, driver, schema, crs, mode, **kwargs)\n"
     ]
    },
    {
     "name": "stdout",
     "output_type": "stream",
     "text": [
      "Now running basin 1147. USA_02108000\n",
      "Now running basin 1148. USA_02111180\n",
      "Now running basin 1149. USA_02111500\n",
      "Now running basin 1150. USA_02112120\n",
      "Now running basin 1151. USA_02112360\n",
      "Now running basin 1152. USA_02118500\n",
      "Now running basin 1153. USA_02125000\n",
      "Now running basin 1154. USA_02128000\n",
      "Now running basin 1155. USA_02137727\n",
      "Now running basin 1156. USA_02140991\n",
      "Now running basin 1157. USA_02143000\n",
      "Now running basin 1158. USA_02143040\n",
      "Now running basin 1159. USA_02149000\n",
      "Now running basin 1160. USA_02152100\n",
      "Now running basin 1161. USA_02177000\n",
      "Now running basin 1162. USA_02178400\n",
      "Now running basin 1163. USA_02193340\n",
      "Now running basin 1164. USA_02196000\n",
      "Now running basin 1165. USA_02198100\n",
      "Now running basin 1166. USA_02202600\n",
      "Now running basin 1167. USA_02212600\n",
      "Now running basin 1168. USA_02215100\n",
      "Now running basin 1169. USA_02216180\n",
      "Now running basin 1170. USA_02221525\n",
      "Now running basin 1171. USA_02231000\n",
      "Now running basin 1172. USA_02231342\n",
      "Now running basin 1173. USA_02235200\n",
      "Now running basin 1174. USA_02245500\n",
      "Now running basin 1175. USA_02246000\n",
      "Now running basin 1176. USA_02296500\n",
      "Now running basin 1177. USA_02297155\n",
      "Now running basin 1178. USA_02297310\n",
      "Now running basin 1179. USA_02298123\n",
      "Now running basin 1180. USA_02298608\n",
      "Now running basin 1181. USA_02299950\n",
      "Now running basin 1182. USA_02300700\n",
      "Now running basin 1183. USA_02310947\n",
      "Now running basin 1184. USA_02312200\n",
      "Now running basin 1185. USA_02314500\n",
      "Now running basin 1186. USA_02315500\n",
      "Now running basin 1187. USA_02324400\n",
      "Now running basin 1188. USA_02327100\n",
      "Now running basin 1189. USA_02342933\n",
      "Now running basin 1190. USA_02349900\n",
      "Now running basin 1191. USA_02350900\n",
      "Now running basin 1192. USA_02361000\n",
      "Now running basin 1193. USA_02363000\n",
      "Now running basin 1194. USA_02369800\n",
      "Now running basin 1195. USA_02371500\n",
      "Now running basin 1196. USA_02372250\n",
      "Now running basin 1197. USA_02374500\n",
      "Now running basin 1198. USA_02381600\n"
     ]
    },
    {
     "name": "stderr",
     "output_type": "stream",
     "text": [
      "C:\\Globus endpoint\\CAMELS_spat\\camels-spat-env\\lib\\site-packages\\geopandas\\io\\file.py:545: UserWarning: You are attempting to write an empty DataFrame to file. For some drivers, this operation may fail.\n",
      "  _to_file_fiona(df, filename, driver, schema, crs, mode, **kwargs)\n"
     ]
    },
    {
     "name": "stdout",
     "output_type": "stream",
     "text": [
      "Now running basin 1199. USA_02384540\n"
     ]
    },
    {
     "name": "stderr",
     "output_type": "stream",
     "text": [
      "C:\\Globus endpoint\\CAMELS_spat\\camels-spat-env\\lib\\site-packages\\geopandas\\io\\file.py:545: UserWarning: You are attempting to write an empty DataFrame to file. For some drivers, this operation may fail.\n",
      "  _to_file_fiona(df, filename, driver, schema, crs, mode, **kwargs)\n"
     ]
    },
    {
     "name": "stdout",
     "output_type": "stream",
     "text": [
      "Now running basin 1200. USA_02395120\n",
      "Now running basin 1201. USA_02408540\n",
      "Now running basin 1202. USA_02415000\n",
      "Now running basin 1203. USA_02422500\n",
      "Now running basin 1204. USA_02427250\n",
      "Now running basin 1205. USA_02430085\n",
      "Now running basin 1206. USA_02430615\n",
      "Now running basin 1207. USA_02450250\n",
      "Now running basin 1208. USA_02464000\n",
      "Now running basin 1209. USA_02464146\n"
     ]
    },
    {
     "name": "stderr",
     "output_type": "stream",
     "text": [
      "C:\\Globus endpoint\\CAMELS_spat\\camels-spat-env\\lib\\site-packages\\geopandas\\io\\file.py:545: UserWarning: You are attempting to write an empty DataFrame to file. For some drivers, this operation may fail.\n",
      "  _to_file_fiona(df, filename, driver, schema, crs, mode, **kwargs)\n"
     ]
    },
    {
     "name": "stdout",
     "output_type": "stream",
     "text": [
      "Now running basin 1210. USA_02464360\n",
      "Now running basin 1211. USA_02465493\n",
      "Now running basin 1212. USA_02469800\n",
      "Now running basin 1213. USA_02472000\n",
      "Now running basin 1214. USA_02472500\n",
      "Now running basin 1215. USA_02479155\n",
      "Now running basin 1216. USA_02479300\n",
      "Now running basin 1217. USA_02479560\n",
      "Now running basin 1218. USA_02481000\n",
      "Now running basin 1219. USA_02481510\n",
      "Now running basin 1220. USA_03010655\n",
      "Now running basin 1221. USA_03011800\n",
      "Now running basin 1222. USA_03015500\n",
      "Now running basin 1223. USA_03021350\n",
      "Now running basin 1224. USA_03026500\n"
     ]
    },
    {
     "name": "stderr",
     "output_type": "stream",
     "text": [
      "C:\\Globus endpoint\\CAMELS_spat\\camels-spat-env\\lib\\site-packages\\geopandas\\io\\file.py:545: UserWarning: You are attempting to write an empty DataFrame to file. For some drivers, this operation may fail.\n",
      "  _to_file_fiona(df, filename, driver, schema, crs, mode, **kwargs)\n"
     ]
    },
    {
     "name": "stdout",
     "output_type": "stream",
     "text": [
      "Now running basin 1225. USA_03028000\n",
      "Now running basin 1226. USA_03049000\n",
      "Now running basin 1227. USA_03049800\n"
     ]
    },
    {
     "name": "stderr",
     "output_type": "stream",
     "text": [
      "C:\\Globus endpoint\\CAMELS_spat\\camels-spat-env\\lib\\site-packages\\geopandas\\io\\file.py:545: UserWarning: You are attempting to write an empty DataFrame to file. For some drivers, this operation may fail.\n",
      "  _to_file_fiona(df, filename, driver, schema, crs, mode, **kwargs)\n"
     ]
    },
    {
     "name": "stdout",
     "output_type": "stream",
     "text": [
      "Now running basin 1228. USA_03050000\n",
      "Now running basin 1229. USA_03066000\n",
      "Now running basin 1230. USA_03069500\n",
      "Now running basin 1231. USA_03070500\n",
      "Now running basin 1232. USA_03076600\n",
      "Now running basin 1233. USA_03078000\n",
      "Now running basin 1234. USA_03140000\n",
      "Now running basin 1235. USA_03144000\n",
      "Now running basin 1236. USA_03159540\n",
      "Now running basin 1237. USA_03161000\n",
      "Now running basin 1238. USA_03164000\n",
      "Now running basin 1239. USA_03165000\n",
      "Now running basin 1240. USA_03170000\n",
      "Now running basin 1241. USA_03173000\n",
      "Now running basin 1242. USA_03180500\n",
      "Now running basin 1243. USA_03182500\n",
      "Now running basin 1244. USA_03186500\n",
      "Now running basin 1245. USA_03187500\n",
      "Now running basin 1246. USA_03213700\n",
      "Now running basin 1247. USA_03237280\n",
      "Now running basin 1248. USA_03237500\n",
      "Now running basin 1249. USA_03238500\n",
      "Now running basin 1250. USA_03241500\n",
      "Now running basin 1251. USA_03280700\n",
      "Now running basin 1252. USA_03281100\n",
      "Now running basin 1253. USA_03281500\n",
      "Now running basin 1254. USA_03285000\n",
      "Now running basin 1255. USA_03291780\n",
      "Now running basin 1256. USA_03300400\n",
      "Now running basin 1257. USA_03338780\n",
      "Now running basin 1258. USA_03340800\n",
      "Now running basin 1259. USA_03346000\n",
      "Now running basin 1260. USA_03357350\n"
     ]
    },
    {
     "name": "stderr",
     "output_type": "stream",
     "text": [
      "C:\\Globus endpoint\\CAMELS_spat\\camels-spat-env\\lib\\site-packages\\geopandas\\io\\file.py:545: UserWarning: You are attempting to write an empty DataFrame to file. For some drivers, this operation may fail.\n",
      "  _to_file_fiona(df, filename, driver, schema, crs, mode, **kwargs)\n"
     ]
    },
    {
     "name": "stdout",
     "output_type": "stream",
     "text": [
      "Now running basin 1261. USA_03364500\n",
      "Now running basin 1262. USA_03366500\n",
      "Now running basin 1263. USA_03368000\n",
      "Now running basin 1264. USA_03384450\n",
      "Now running basin 1265. USA_03439000\n",
      "Now running basin 1266. USA_03450000\n"
     ]
    },
    {
     "name": "stderr",
     "output_type": "stream",
     "text": [
      "C:\\Globus endpoint\\CAMELS_spat\\camels-spat-env\\lib\\site-packages\\geopandas\\io\\file.py:545: UserWarning: You are attempting to write an empty DataFrame to file. For some drivers, this operation may fail.\n",
      "  _to_file_fiona(df, filename, driver, schema, crs, mode, **kwargs)\n"
     ]
    },
    {
     "name": "stdout",
     "output_type": "stream",
     "text": [
      "Now running basin 1267. USA_03455500\n",
      "Now running basin 1268. USA_03456500\n",
      "Now running basin 1269. USA_03460000\n",
      "Now running basin 1270. USA_03463300\n",
      "Now running basin 1271. USA_03471500\n",
      "Now running basin 1272. USA_03473000\n",
      "Now running basin 1273. USA_03479000\n",
      "Now running basin 1274. USA_03488000\n",
      "Now running basin 1275. USA_03498500\n",
      "Now running basin 1276. USA_03500000\n",
      "Now running basin 1277. USA_03500240\n",
      "Now running basin 1278. USA_03504000\n",
      "Now running basin 1279. USA_03574500\n",
      "Now running basin 1280. USA_03592718\n",
      "Now running basin 1281. USA_03604000\n",
      "Now running basin 1282. USA_04015330\n",
      "Now running basin 1283. USA_04024430\n",
      "Now running basin 1284. USA_04027000\n",
      "Now running basin 1285. USA_04040500\n",
      "Now running basin 1286. USA_04043050\n",
      "Now running basin 1287. USA_04045500\n",
      "Now running basin 1288. USA_04056500\n",
      "Now running basin 1289. USA_04057510\n",
      "Now running basin 1290. USA_04057800\n",
      "Now running basin 1291. USA_04059500\n",
      "Now running basin 1292. USA_04063700\n",
      "Now running basin 1293. USA_04074950\n",
      "Now running basin 1294. USA_04105700\n",
      "Now running basin 1295. USA_04115265\n",
      "Now running basin 1296. USA_04122200\n",
      "Now running basin 1297. USA_04122500\n",
      "Now running basin 1298. USA_04124000\n",
      "Now running basin 1299. USA_04127918\n",
      "Now running basin 1300. USA_04127997\n",
      "Now running basin 1301. USA_04161580\n",
      "Now running basin 1302. USA_04185000\n",
      "Now running basin 1303. USA_04196800\n",
      "Now running basin 1304. USA_04197100\n",
      "Now running basin 1305. USA_04197170\n",
      "Now running basin 1306. USA_04213000\n",
      "Now running basin 1307. USA_04213075\n"
     ]
    },
    {
     "name": "stderr",
     "output_type": "stream",
     "text": [
      "C:\\Globus endpoint\\CAMELS_spat\\camels-spat-env\\lib\\site-packages\\geopandas\\io\\file.py:545: UserWarning: You are attempting to write an empty DataFrame to file. For some drivers, this operation may fail.\n",
      "  _to_file_fiona(df, filename, driver, schema, crs, mode, **kwargs)\n"
     ]
    },
    {
     "name": "stdout",
     "output_type": "stream",
     "text": [
      "Now running basin 1308. USA_04216418\n",
      "Now running basin 1309. USA_04221000\n",
      "Now running basin 1310. USA_04224775\n",
      "Now running basin 1311. USA_04233000\n",
      "Now running basin 1312. USA_04256000\n",
      "Now running basin 1313. USA_04296000\n",
      "Now running basin 1314. USA_05056000\n",
      "Now running basin 1315. USA_05057000\n",
      "Now running basin 1316. USA_05057200\n",
      "Now running basin 1317. USA_05062500\n",
      "Now running basin 1318. USA_05087500\n",
      "Now running basin 1319. USA_05120500\n",
      "Now running basin 1320. USA_05123400\n",
      "Now running basin 1321. USA_05129115\n",
      "Now running basin 1322. USA_05131500\n",
      "Now running basin 1323. USA_05291000\n",
      "Now running basin 1324. USA_05362000\n",
      "Now running basin 1325. USA_05393500\n",
      "Now running basin 1326. USA_05399500\n",
      "Now running basin 1327. USA_05408000\n",
      "Now running basin 1328. USA_05412500\n",
      "Now running basin 1329. USA_05413500\n",
      "Now running basin 1330. USA_05414000\n",
      "Now running basin 1331. USA_05444000\n",
      "Now running basin 1332. USA_05454000\n",
      "Now running basin 1333. USA_05458000\n",
      "Now running basin 1334. USA_05466500\n",
      "Now running basin 1335. USA_05487980\n",
      "Now running basin 1336. USA_05488200\n",
      "Now running basin 1337. USA_05489000\n",
      "Now running basin 1338. USA_05495000\n",
      "Now running basin 1339. USA_05495500\n",
      "Now running basin 1340. USA_05501000\n",
      "Now running basin 1341. USA_05503800\n",
      "Now running basin 1342. USA_05507600\n",
      "Now running basin 1343. USA_05508805\n",
      "Now running basin 1344. USA_05514500\n",
      "Now running basin 1345. USA_05525500\n",
      "Now running basin 1346. USA_05556500\n",
      "Now running basin 1347. USA_05584500\n",
      "Now running basin 1348. USA_05585000\n",
      "Now running basin 1349. USA_05591550\n",
      "Now running basin 1350. USA_05592050\n",
      "Now running basin 1351. USA_05592575\n",
      "Now running basin 1352. USA_05593575\n",
      "Now running basin 1353. USA_05593900\n",
      "Now running basin 1354. USA_05595730\n",
      "Now running basin 1355. USA_06037500\n",
      "Now running basin 1356. USA_06043500\n",
      "Now running basin 1357. USA_06154410\n",
      "Now running basin 1358. USA_06188000\n",
      "Now running basin 1359. USA_06191500\n",
      "Now running basin 1360. USA_06221400\n",
      "Now running basin 1361. USA_06224000\n",
      "Now running basin 1362. USA_06278300\n",
      "Now running basin 1363. USA_06280300\n",
      "Now running basin 1364. USA_06289000\n",
      "Now running basin 1365. USA_06291500\n",
      "Now running basin 1366. USA_06311000\n",
      "Now running basin 1367. USA_06332515\n",
      "Now running basin 1368. USA_06339100\n",
      "Now running basin 1369. USA_06339500\n",
      "Now running basin 1370. USA_06344600\n",
      "Now running basin 1371. USA_06350000\n",
      "Now running basin 1372. USA_06352000\n",
      "Now running basin 1373. USA_06353000\n",
      "Now running basin 1374. USA_06354000\n",
      "Now running basin 1375. USA_06360500\n",
      "Now running basin 1376. USA_06404000\n",
      "Now running basin 1377. USA_06406000\n",
      "Now running basin 1378. USA_06408700\n"
     ]
    },
    {
     "name": "stderr",
     "output_type": "stream",
     "text": [
      "C:\\Globus endpoint\\CAMELS_spat\\camels-spat-env\\lib\\site-packages\\geopandas\\io\\file.py:545: UserWarning: You are attempting to write an empty DataFrame to file. For some drivers, this operation may fail.\n",
      "  _to_file_fiona(df, filename, driver, schema, crs, mode, **kwargs)\n"
     ]
    },
    {
     "name": "stdout",
     "output_type": "stream",
     "text": [
      "Now running basin 1379. USA_06409000\n",
      "Now running basin 1380. USA_06431500\n",
      "Now running basin 1381. USA_06440200\n",
      "Now running basin 1382. USA_06441500\n",
      "Now running basin 1383. USA_06447000\n",
      "Now running basin 1384. USA_06447500\n",
      "Now running basin 1385. USA_06450500\n",
      "Now running basin 1386. USA_06452000\n",
      "Now running basin 1387. USA_06453600\n",
      "Now running basin 1388. USA_06464500\n",
      "Now running basin 1389. USA_06468170\n",
      "Now running basin 1390. USA_06468250\n",
      "Now running basin 1391. USA_06470800\n",
      "Now running basin 1392. USA_06477500\n",
      "Now running basin 1393. USA_06479215\n",
      "Now running basin 1394. USA_06479438\n",
      "Now running basin 1395. USA_06601000\n",
      "Now running basin 1396. USA_06614800\n"
     ]
    },
    {
     "name": "stderr",
     "output_type": "stream",
     "text": [
      "C:\\Globus endpoint\\CAMELS_spat\\camels-spat-env\\lib\\site-packages\\geopandas\\io\\file.py:545: UserWarning: You are attempting to write an empty DataFrame to file. For some drivers, this operation may fail.\n",
      "  _to_file_fiona(df, filename, driver, schema, crs, mode, **kwargs)\n"
     ]
    },
    {
     "name": "stdout",
     "output_type": "stream",
     "text": [
      "Now running basin 1397. USA_06622700\n",
      "Now running basin 1398. USA_06623800\n",
      "Now running basin 1399. USA_06632400\n",
      "Now running basin 1400. USA_06746095\n"
     ]
    },
    {
     "name": "stderr",
     "output_type": "stream",
     "text": [
      "C:\\Globus endpoint\\CAMELS_spat\\camels-spat-env\\lib\\site-packages\\geopandas\\io\\file.py:545: UserWarning: You are attempting to write an empty DataFrame to file. For some drivers, this operation may fail.\n",
      "  _to_file_fiona(df, filename, driver, schema, crs, mode, **kwargs)\n"
     ]
    },
    {
     "name": "stdout",
     "output_type": "stream",
     "text": [
      "Now running basin 1401. USA_06784000\n",
      "Now running basin 1402. USA_06803510\n",
      "Now running basin 1403. USA_06803530\n",
      "Now running basin 1404. USA_06814000\n",
      "Now running basin 1405. USA_06847900\n",
      "Now running basin 1406. USA_06853800\n",
      "Now running basin 1407. USA_06876700\n",
      "Now running basin 1408. USA_06878000\n",
      "Now running basin 1409. USA_06879650\n"
     ]
    },
    {
     "name": "stderr",
     "output_type": "stream",
     "text": [
      "C:\\Globus endpoint\\CAMELS_spat\\camels-spat-env\\lib\\site-packages\\geopandas\\io\\file.py:545: UserWarning: You are attempting to write an empty DataFrame to file. For some drivers, this operation may fail.\n",
      "  _to_file_fiona(df, filename, driver, schema, crs, mode, **kwargs)\n"
     ]
    },
    {
     "name": "stdout",
     "output_type": "stream",
     "text": [
      "Now running basin 1410. USA_06885500\n",
      "Now running basin 1411. USA_06888500\n",
      "Now running basin 1412. USA_06889200\n",
      "Now running basin 1413. USA_06889500\n",
      "Now running basin 1414. USA_06892000\n",
      "Now running basin 1415. USA_06903400\n",
      "Now running basin 1416. USA_06906800\n",
      "Now running basin 1417. USA_06910800\n",
      "Now running basin 1418. USA_06911900\n",
      "Now running basin 1419. USA_06917000\n",
      "Now running basin 1420. USA_06918460\n",
      "Now running basin 1421. USA_06919500\n",
      "Now running basin 1422. USA_06921070\n",
      "Now running basin 1423. USA_06921200\n",
      "Now running basin 1424. USA_06934000\n",
      "Now running basin 1425. USA_07014500\n",
      "Now running basin 1426. USA_07056000\n",
      "Now running basin 1427. USA_07057500\n",
      "Now running basin 1428. USA_07060710\n",
      "Now running basin 1429. USA_07066000\n",
      "Now running basin 1430. USA_07067000\n",
      "Now running basin 1431. USA_07068000\n",
      "Now running basin 1432. USA_07071500\n",
      "Now running basin 1433. USA_07083000\n",
      "Now running basin 1434. USA_07142300\n",
      "Now running basin 1435. USA_07145700\n",
      "Now running basin 1436. USA_07148400\n",
      "Now running basin 1437. USA_07149000\n",
      "Now running basin 1438. USA_07151500\n",
      "Now running basin 1439. USA_07167500\n",
      "Now running basin 1440. USA_07180500\n",
      "Now running basin 1441. USA_07184000\n",
      "Now running basin 1442. USA_07195800\n",
      "Now running basin 1443. USA_07196900\n",
      "Now running basin 1444. USA_07197000\n",
      "Now running basin 1445. USA_07208500\n",
      "Now running basin 1446. USA_07226500\n",
      "Now running basin 1447. USA_07261000\n",
      "Now running basin 1448. USA_07263295\n",
      "Now running basin 1449. USA_07290650\n",
      "Now running basin 1450. USA_07291000\n",
      "Now running basin 1451. USA_07292500\n",
      "Now running basin 1452. USA_07295000\n",
      "Now running basin 1453. USA_07299670\n",
      "Now running basin 1454. USA_07301410\n",
      "Now running basin 1455. USA_07301500\n",
      "Now running basin 1456. USA_07315200\n",
      "Now running basin 1457. USA_07315700\n",
      "Now running basin 1458. USA_07335700\n",
      "Now running basin 1459. USA_07340300\n",
      "Now running basin 1460. USA_07346045\n",
      "Now running basin 1461. USA_07359610\n",
      "Now running basin 1462. USA_07362100\n",
      "Now running basin 1463. USA_07362587\n",
      "Now running basin 1464. USA_07373000\n",
      "Now running basin 1465. USA_07375000\n",
      "Now running basin 1466. USA_07376000\n",
      "Now running basin 1467. USA_08013000\n",
      "Now running basin 1468. USA_08014500\n",
      "Now running basin 1469. USA_08023080\n",
      "Now running basin 1470. USA_08025500\n",
      "Now running basin 1471. USA_08029500\n",
      "Now running basin 1472. USA_08050800\n",
      "Now running basin 1473. USA_08066200\n",
      "Now running basin 1474. USA_08066300\n",
      "Now running basin 1475. USA_08070000\n",
      "Now running basin 1476. USA_08070200\n",
      "Now running basin 1477. USA_08079600\n",
      "Now running basin 1478. USA_08082700\n",
      "Now running basin 1479. USA_08086212\n",
      "Now running basin 1480. USA_08086290\n",
      "Now running basin 1481. USA_08101000\n",
      "Now running basin 1482. USA_08103900\n",
      "Now running basin 1483. USA_08104900\n",
      "Now running basin 1484. USA_08109700\n",
      "Now running basin 1485. USA_08150800\n",
      "Now running basin 1486. USA_08155200\n",
      "Now running basin 1487. USA_08158700\n",
      "Now running basin 1488. USA_08158810\n",
      "Now running basin 1489. USA_08164000\n",
      "Now running basin 1490. USA_08164300\n",
      "Now running basin 1491. USA_08164600\n",
      "Now running basin 1492. USA_08165300\n",
      "Now running basin 1493. USA_08171300\n",
      "Now running basin 1494. USA_08175000\n",
      "Now running basin 1495. USA_08176900\n",
      "Now running basin 1496. USA_08178880\n",
      "Now running basin 1497. USA_08189500\n",
      "Now running basin 1498. USA_08190000\n",
      "Now running basin 1499. USA_08190500\n",
      "Now running basin 1500. USA_08194200\n",
      "Now running basin 1501. USA_08195000\n",
      "Now running basin 1502. USA_08196000\n",
      "Now running basin 1503. USA_08198500\n",
      "Now running basin 1504. USA_08200000\n",
      "Now running basin 1505. USA_08202700\n",
      "Now running basin 1506. USA_08267500\n",
      "Now running basin 1507. USA_08269000\n",
      "Now running basin 1508. USA_08271000\n",
      "Now running basin 1509. USA_08324000\n",
      "Now running basin 1510. USA_08377900\n",
      "Now running basin 1511. USA_08378500\n",
      "Now running basin 1512. USA_08380500\n",
      "Now running basin 1513. USA_09034900\n"
     ]
    },
    {
     "name": "stderr",
     "output_type": "stream",
     "text": [
      "C:\\Globus endpoint\\CAMELS_spat\\camels-spat-env\\lib\\site-packages\\geopandas\\io\\file.py:545: UserWarning: You are attempting to write an empty DataFrame to file. For some drivers, this operation may fail.\n",
      "  _to_file_fiona(df, filename, driver, schema, crs, mode, **kwargs)\n"
     ]
    },
    {
     "name": "stdout",
     "output_type": "stream",
     "text": [
      "Now running basin 1514. USA_09035800\n"
     ]
    },
    {
     "name": "stderr",
     "output_type": "stream",
     "text": [
      "C:\\Globus endpoint\\CAMELS_spat\\camels-spat-env\\lib\\site-packages\\geopandas\\io\\file.py:545: UserWarning: You are attempting to write an empty DataFrame to file. For some drivers, this operation may fail.\n",
      "  _to_file_fiona(df, filename, driver, schema, crs, mode, **kwargs)\n"
     ]
    },
    {
     "name": "stdout",
     "output_type": "stream",
     "text": [
      "Now running basin 1515. USA_09035900\n",
      "Now running basin 1516. USA_09047700\n"
     ]
    },
    {
     "name": "stderr",
     "output_type": "stream",
     "text": [
      "C:\\Globus endpoint\\CAMELS_spat\\camels-spat-env\\lib\\site-packages\\geopandas\\io\\file.py:545: UserWarning: You are attempting to write an empty DataFrame to file. For some drivers, this operation may fail.\n",
      "  _to_file_fiona(df, filename, driver, schema, crs, mode, **kwargs)\n"
     ]
    },
    {
     "name": "stdout",
     "output_type": "stream",
     "text": [
      "Now running basin 1517. USA_09065500\n",
      "Now running basin 1518. USA_09066000\n",
      "Now running basin 1519. USA_09066200\n"
     ]
    },
    {
     "name": "stderr",
     "output_type": "stream",
     "text": [
      "C:\\Globus endpoint\\CAMELS_spat\\camels-spat-env\\lib\\site-packages\\geopandas\\io\\file.py:545: UserWarning: You are attempting to write an empty DataFrame to file. For some drivers, this operation may fail.\n",
      "  _to_file_fiona(df, filename, driver, schema, crs, mode, **kwargs)\n"
     ]
    },
    {
     "name": "stdout",
     "output_type": "stream",
     "text": [
      "Now running basin 1520. USA_09066300\n"
     ]
    },
    {
     "name": "stderr",
     "output_type": "stream",
     "text": [
      "C:\\Globus endpoint\\CAMELS_spat\\camels-spat-env\\lib\\site-packages\\geopandas\\io\\file.py:545: UserWarning: You are attempting to write an empty DataFrame to file. For some drivers, this operation may fail.\n",
      "  _to_file_fiona(df, filename, driver, schema, crs, mode, **kwargs)\n"
     ]
    },
    {
     "name": "stdout",
     "output_type": "stream",
     "text": [
      "Now running basin 1521. USA_09081600\n",
      "Now running basin 1522. USA_09107000\n",
      "Now running basin 1523. USA_09210500\n",
      "Now running basin 1524. USA_09223000\n",
      "Now running basin 1525. USA_09306242\n",
      "Now running basin 1526. USA_09312600\n",
      "Now running basin 1527. USA_09352900\n",
      "Now running basin 1528. USA_09378170\n"
     ]
    },
    {
     "name": "stderr",
     "output_type": "stream",
     "text": [
      "C:\\Globus endpoint\\CAMELS_spat\\camels-spat-env\\lib\\site-packages\\geopandas\\io\\file.py:545: UserWarning: You are attempting to write an empty DataFrame to file. For some drivers, this operation may fail.\n",
      "  _to_file_fiona(df, filename, driver, schema, crs, mode, **kwargs)\n"
     ]
    },
    {
     "name": "stdout",
     "output_type": "stream",
     "text": [
      "Now running basin 1529. USA_09378630\n"
     ]
    },
    {
     "name": "stderr",
     "output_type": "stream",
     "text": [
      "C:\\Globus endpoint\\CAMELS_spat\\camels-spat-env\\lib\\site-packages\\geopandas\\io\\file.py:545: UserWarning: You are attempting to write an empty DataFrame to file. For some drivers, this operation may fail.\n",
      "  _to_file_fiona(df, filename, driver, schema, crs, mode, **kwargs)\n"
     ]
    },
    {
     "name": "stdout",
     "output_type": "stream",
     "text": [
      "Now running basin 1530. USA_09386900\n",
      "Now running basin 1531. USA_09404450\n",
      "Now running basin 1532. USA_09430500\n",
      "Now running basin 1533. USA_09430600\n",
      "Now running basin 1534. USA_09447800\n",
      "Now running basin 1535. USA_09480000\n",
      "Now running basin 1536. USA_09484000\n",
      "Now running basin 1537. USA_09484600\n",
      "Now running basin 1538. USA_09492400\n",
      "Now running basin 1539. USA_09494000\n",
      "Now running basin 1540. USA_09497800\n",
      "Now running basin 1541. USA_09497980\n",
      "Now running basin 1542. USA_09505200\n",
      "Now running basin 1543. USA_09505350\n",
      "Now running basin 1544. USA_09505800\n",
      "Now running basin 1545. USA_09508300\n",
      "Now running basin 1546. USA_09510200\n",
      "Now running basin 1547. USA_09512280\n",
      "Now running basin 1548. USA_09513780\n",
      "Now running basin 1549. USA_10023000\n",
      "Now running basin 1550. USA_10166430\n",
      "Now running basin 1551. USA_10172700\n",
      "Now running basin 1552. USA_10172800\n"
     ]
    },
    {
     "name": "stderr",
     "output_type": "stream",
     "text": [
      "C:\\Globus endpoint\\CAMELS_spat\\camels-spat-env\\lib\\site-packages\\geopandas\\io\\file.py:545: UserWarning: You are attempting to write an empty DataFrame to file. For some drivers, this operation may fail.\n",
      "  _to_file_fiona(df, filename, driver, schema, crs, mode, **kwargs)\n"
     ]
    },
    {
     "name": "stdout",
     "output_type": "stream",
     "text": [
      "Now running basin 1553. USA_10173450\n",
      "Now running basin 1554. USA_10205030\n",
      "Now running basin 1555. USA_10234500\n",
      "Now running basin 1556. USA_10242000\n",
      "Now running basin 1557. USA_10244950\n",
      "Now running basin 1558. USA_10249300\n",
      "Now running basin 1559. USA_10258000\n",
      "Now running basin 1560. USA_10258500\n",
      "Now running basin 1561. USA_10259000\n"
     ]
    },
    {
     "name": "stderr",
     "output_type": "stream",
     "text": [
      "C:\\Globus endpoint\\CAMELS_spat\\camels-spat-env\\lib\\site-packages\\geopandas\\io\\file.py:545: UserWarning: You are attempting to write an empty DataFrame to file. For some drivers, this operation may fail.\n",
      "  _to_file_fiona(df, filename, driver, schema, crs, mode, **kwargs)\n"
     ]
    },
    {
     "name": "stdout",
     "output_type": "stream",
     "text": [
      "Now running basin 1562. USA_10259200\n",
      "Now running basin 1563. USA_10263500\n",
      "Now running basin 1564. USA_10310500\n",
      "Now running basin 1565. USA_10316500\n",
      "Now running basin 1566. USA_10329500\n",
      "Now running basin 1567. USA_10336645\n"
     ]
    },
    {
     "name": "stderr",
     "output_type": "stream",
     "text": [
      "C:\\Globus endpoint\\CAMELS_spat\\camels-spat-env\\lib\\site-packages\\geopandas\\io\\file.py:545: UserWarning: You are attempting to write an empty DataFrame to file. For some drivers, this operation may fail.\n",
      "  _to_file_fiona(df, filename, driver, schema, crs, mode, **kwargs)\n"
     ]
    },
    {
     "name": "stdout",
     "output_type": "stream",
     "text": [
      "Now running basin 1568. USA_10336660\n",
      "Now running basin 1569. USA_10336740\n"
     ]
    },
    {
     "name": "stderr",
     "output_type": "stream",
     "text": [
      "C:\\Globus endpoint\\CAMELS_spat\\camels-spat-env\\lib\\site-packages\\geopandas\\io\\file.py:545: UserWarning: You are attempting to write an empty DataFrame to file. For some drivers, this operation may fail.\n",
      "  _to_file_fiona(df, filename, driver, schema, crs, mode, **kwargs)\n"
     ]
    },
    {
     "name": "stdout",
     "output_type": "stream",
     "text": [
      "Now running basin 1570. USA_10343500\n",
      "Now running basin 1571. USA_10348850\n"
     ]
    },
    {
     "name": "stderr",
     "output_type": "stream",
     "text": [
      "C:\\Globus endpoint\\CAMELS_spat\\camels-spat-env\\lib\\site-packages\\geopandas\\io\\file.py:545: UserWarning: You are attempting to write an empty DataFrame to file. For some drivers, this operation may fail.\n",
      "  _to_file_fiona(df, filename, driver, schema, crs, mode, **kwargs)\n"
     ]
    },
    {
     "name": "stdout",
     "output_type": "stream",
     "text": [
      "Now running basin 1572. USA_10396000\n",
      "Now running basin 1573. USA_11098000\n",
      "Now running basin 1574. USA_11124500\n",
      "Now running basin 1575. USA_11141280\n",
      "Now running basin 1576. USA_11143000\n",
      "Now running basin 1577. USA_11148900\n",
      "Now running basin 1578. USA_11151300\n",
      "Now running basin 1579. USA_11162500\n",
      "Now running basin 1580. USA_11176400\n",
      "Now running basin 1581. USA_11180500\n"
     ]
    },
    {
     "name": "stderr",
     "output_type": "stream",
     "text": [
      "C:\\Globus endpoint\\CAMELS_spat\\camels-spat-env\\lib\\site-packages\\geopandas\\io\\file.py:545: UserWarning: You are attempting to write an empty DataFrame to file. For some drivers, this operation may fail.\n",
      "  _to_file_fiona(df, filename, driver, schema, crs, mode, **kwargs)\n"
     ]
    },
    {
     "name": "stdout",
     "output_type": "stream",
     "text": [
      "Now running basin 1582. USA_11180960\n"
     ]
    },
    {
     "name": "stderr",
     "output_type": "stream",
     "text": [
      "C:\\Globus endpoint\\CAMELS_spat\\camels-spat-env\\lib\\site-packages\\geopandas\\io\\file.py:545: UserWarning: You are attempting to write an empty DataFrame to file. For some drivers, this operation may fail.\n",
      "  _to_file_fiona(df, filename, driver, schema, crs, mode, **kwargs)\n"
     ]
    },
    {
     "name": "stdout",
     "output_type": "stream",
     "text": [
      "Now running basin 1583. USA_11224500\n",
      "Now running basin 1584. USA_11230500\n",
      "Now running basin 1585. USA_11237500\n",
      "Now running basin 1586. USA_11253310\n",
      "Now running basin 1587. USA_11264500\n",
      "Now running basin 1588. USA_11266500\n",
      "Now running basin 1589. USA_11274500\n",
      "Now running basin 1590. USA_11274630\n",
      "Now running basin 1591. USA_11284400\n",
      "Now running basin 1592. USA_11299600\n",
      "Now running basin 1593. USA_11381500\n",
      "Now running basin 1594. USA_11383500\n",
      "Now running basin 1595. USA_11451100\n",
      "Now running basin 1596. USA_11468500\n",
      "Now running basin 1597. USA_11473900\n",
      "Now running basin 1598. USA_11475560\n"
     ]
    },
    {
     "name": "stderr",
     "output_type": "stream",
     "text": [
      "C:\\Globus endpoint\\CAMELS_spat\\camels-spat-env\\lib\\site-packages\\geopandas\\io\\file.py:545: UserWarning: You are attempting to write an empty DataFrame to file. For some drivers, this operation may fail.\n",
      "  _to_file_fiona(df, filename, driver, schema, crs, mode, **kwargs)\n"
     ]
    },
    {
     "name": "stdout",
     "output_type": "stream",
     "text": [
      "Now running basin 1599. USA_11476600\n",
      "Now running basin 1600. USA_11478500\n",
      "Now running basin 1601. USA_11480390\n",
      "Now running basin 1602. USA_11481200\n",
      "Now running basin 1603. USA_11482500\n",
      "Now running basin 1604. USA_11522500\n",
      "Now running basin 1605. USA_11523200\n",
      "Now running basin 1606. USA_11528700\n",
      "Now running basin 1607. USA_11532500\n",
      "Now running basin 1608. USA_12010000\n",
      "Now running basin 1609. USA_12013500\n",
      "Now running basin 1610. USA_12020000\n",
      "Now running basin 1611. USA_12025000\n",
      "Now running basin 1612. USA_12025700\n",
      "Now running basin 1613. USA_12035000\n",
      "Now running basin 1614. USA_12040500\n",
      "Now running basin 1615. USA_12041200\n",
      "Now running basin 1616. USA_12043000\n",
      "Now running basin 1617. USA_12048000\n",
      "Now running basin 1618. USA_12054000\n",
      "Now running basin 1619. USA_12056500\n",
      "Now running basin 1620. USA_12073500\n"
     ]
    },
    {
     "name": "stderr",
     "output_type": "stream",
     "text": [
      "C:\\Globus endpoint\\CAMELS_spat\\camels-spat-env\\lib\\site-packages\\geopandas\\io\\file.py:545: UserWarning: You are attempting to write an empty DataFrame to file. For some drivers, this operation may fail.\n",
      "  _to_file_fiona(df, filename, driver, schema, crs, mode, **kwargs)\n"
     ]
    },
    {
     "name": "stdout",
     "output_type": "stream",
     "text": [
      "Now running basin 1621. USA_12082500\n",
      "Now running basin 1622. USA_12092000\n",
      "Now running basin 1623. USA_12095000\n",
      "Now running basin 1624. USA_12114500\n",
      "Now running basin 1625. USA_12115000\n",
      "Now running basin 1626. USA_12115500\n",
      "Now running basin 1627. USA_12117000\n",
      "Now running basin 1628. USA_12141300\n",
      "Now running basin 1629. USA_12143600\n",
      "Now running basin 1630. USA_12144000\n",
      "Now running basin 1631. USA_12145500\n",
      "Now running basin 1632. USA_12147500\n",
      "Now running basin 1633. USA_12147600\n"
     ]
    },
    {
     "name": "stderr",
     "output_type": "stream",
     "text": [
      "C:\\Globus endpoint\\CAMELS_spat\\camels-spat-env\\lib\\site-packages\\geopandas\\io\\file.py:545: UserWarning: You are attempting to write an empty DataFrame to file. For some drivers, this operation may fail.\n",
      "  _to_file_fiona(df, filename, driver, schema, crs, mode, **kwargs)\n"
     ]
    },
    {
     "name": "stdout",
     "output_type": "stream",
     "text": [
      "Now running basin 1634. USA_12167000\n",
      "Now running basin 1635. USA_12175500\n",
      "Now running basin 1636. USA_12178100\n",
      "Now running basin 1637. USA_12186000\n",
      "Now running basin 1638. USA_12189500\n",
      "Now running basin 1639. USA_12358500\n",
      "Now running basin 1640. USA_12374250\n",
      "Now running basin 1641. USA_12375900\n"
     ]
    },
    {
     "name": "stderr",
     "output_type": "stream",
     "text": [
      "C:\\Globus endpoint\\CAMELS_spat\\camels-spat-env\\lib\\site-packages\\geopandas\\io\\file.py:545: UserWarning: You are attempting to write an empty DataFrame to file. For some drivers, this operation may fail.\n",
      "  _to_file_fiona(df, filename, driver, schema, crs, mode, **kwargs)\n"
     ]
    },
    {
     "name": "stdout",
     "output_type": "stream",
     "text": [
      "Now running basin 1642. USA_12377150\n",
      "Now running basin 1643. USA_12381400\n",
      "Now running basin 1644. USA_12383500\n"
     ]
    },
    {
     "name": "stderr",
     "output_type": "stream",
     "text": [
      "C:\\Globus endpoint\\CAMELS_spat\\camels-spat-env\\lib\\site-packages\\geopandas\\io\\file.py:545: UserWarning: You are attempting to write an empty DataFrame to file. For some drivers, this operation may fail.\n",
      "  _to_file_fiona(df, filename, driver, schema, crs, mode, **kwargs)\n"
     ]
    },
    {
     "name": "stdout",
     "output_type": "stream",
     "text": [
      "Now running basin 1645. USA_12388400\n",
      "Now running basin 1646. USA_12390700\n",
      "Now running basin 1647. USA_12411000\n",
      "Now running basin 1648. USA_12414500\n",
      "Now running basin 1649. USA_12447390\n",
      "Now running basin 1650. USA_12451000\n",
      "Now running basin 1651. USA_12488500\n",
      "Now running basin 1652. USA_13011500\n",
      "Now running basin 1653. USA_13011900\n",
      "Now running basin 1654. USA_13018300\n",
      "Now running basin 1655. USA_13023000\n",
      "Now running basin 1656. USA_13083000\n",
      "Now running basin 1657. USA_13161500\n",
      "Now running basin 1658. USA_13235000\n",
      "Now running basin 1659. USA_13240000\n",
      "Now running basin 1660. USA_13310700\n",
      "Now running basin 1661. USA_13313000\n",
      "Now running basin 1662. USA_13331500\n",
      "Now running basin 1663. USA_13337000\n",
      "Now running basin 1664. USA_13338500\n",
      "Now running basin 1665. USA_13340000\n",
      "Now running basin 1666. USA_13340600\n",
      "Now running basin 1667. USA_14020000\n",
      "Now running basin 1668. USA_14092750\n",
      "Now running basin 1669. USA_14096850\n",
      "Now running basin 1670. USA_14137000\n",
      "Now running basin 1671. USA_14138800\n"
     ]
    },
    {
     "name": "stderr",
     "output_type": "stream",
     "text": [
      "C:\\Globus endpoint\\CAMELS_spat\\camels-spat-env\\lib\\site-packages\\geopandas\\io\\file.py:545: UserWarning: You are attempting to write an empty DataFrame to file. For some drivers, this operation may fail.\n",
      "  _to_file_fiona(df, filename, driver, schema, crs, mode, **kwargs)\n"
     ]
    },
    {
     "name": "stdout",
     "output_type": "stream",
     "text": [
      "Now running basin 1672. USA_14138870\n"
     ]
    },
    {
     "name": "stderr",
     "output_type": "stream",
     "text": [
      "C:\\Globus endpoint\\CAMELS_spat\\camels-spat-env\\lib\\site-packages\\geopandas\\io\\file.py:545: UserWarning: You are attempting to write an empty DataFrame to file. For some drivers, this operation may fail.\n",
      "  _to_file_fiona(df, filename, driver, schema, crs, mode, **kwargs)\n"
     ]
    },
    {
     "name": "stdout",
     "output_type": "stream",
     "text": [
      "Now running basin 1673. USA_14138900\n"
     ]
    },
    {
     "name": "stderr",
     "output_type": "stream",
     "text": [
      "C:\\Globus endpoint\\CAMELS_spat\\camels-spat-env\\lib\\site-packages\\geopandas\\io\\file.py:545: UserWarning: You are attempting to write an empty DataFrame to file. For some drivers, this operation may fail.\n",
      "  _to_file_fiona(df, filename, driver, schema, crs, mode, **kwargs)\n"
     ]
    },
    {
     "name": "stdout",
     "output_type": "stream",
     "text": [
      "Now running basin 1674. USA_14139800\n",
      "Now running basin 1675. USA_14141500\n",
      "Now running basin 1676. USA_14154500\n",
      "Now running basin 1677. USA_14158500\n",
      "Now running basin 1678. USA_14158790\n",
      "Now running basin 1679. USA_14166500\n",
      "Now running basin 1680. USA_14182500\n",
      "Now running basin 1681. USA_14185000\n",
      "Now running basin 1682. USA_14185900\n",
      "Now running basin 1683. USA_14187000\n",
      "Now running basin 1684. USA_14216500\n",
      "Now running basin 1685. USA_14222500\n",
      "Now running basin 1686. USA_14236200\n",
      "Now running basin 1687. USA_14301000\n",
      "Now running basin 1688. USA_14303200\n"
     ]
    },
    {
     "name": "stderr",
     "output_type": "stream",
     "text": [
      "C:\\Globus endpoint\\CAMELS_spat\\camels-spat-env\\lib\\site-packages\\geopandas\\io\\file.py:545: UserWarning: You are attempting to write an empty DataFrame to file. For some drivers, this operation may fail.\n",
      "  _to_file_fiona(df, filename, driver, schema, crs, mode, **kwargs)\n"
     ]
    },
    {
     "name": "stdout",
     "output_type": "stream",
     "text": [
      "Now running basin 1689. USA_14305500\n",
      "Now running basin 1690. USA_14306340\n"
     ]
    },
    {
     "name": "stderr",
     "output_type": "stream",
     "text": [
      "C:\\Globus endpoint\\CAMELS_spat\\camels-spat-env\\lib\\site-packages\\geopandas\\io\\file.py:545: UserWarning: You are attempting to write an empty DataFrame to file. For some drivers, this operation may fail.\n",
      "  _to_file_fiona(df, filename, driver, schema, crs, mode, **kwargs)\n"
     ]
    },
    {
     "name": "stdout",
     "output_type": "stream",
     "text": [
      "Now running basin 1691. USA_14306500\n",
      "Now running basin 1692. USA_14308990\n",
      "Now running basin 1693. USA_14309500\n",
      "Now running basin 1694. USA_14316700\n",
      "Now running basin 1695. USA_14325000\n",
      "Now running basin 1696. USA_14362250\n",
      "Now running basin 1697. USA_14400000\n"
     ]
    }
   ],
   "source": [
    "for i,_ in cs_meta.iterrows():\n",
    "    delineation_loop(i)"
   ]
  },
  {
   "cell_type": "code",
   "execution_count": 11,
   "id": "8f8eb0d4",
   "metadata": {},
   "outputs": [],
   "source": [
    "# Remove the temporary directory\n",
    "shutil.rmtree(tmp_dir)"
   ]
  },
  {
   "cell_type": "markdown",
   "id": "36beee00",
   "metadata": {},
   "source": [
    "### Update metadata with confidence ratings"
   ]
  },
  {
   "cell_type": "code",
   "execution_count": 12,
   "id": "267fa2d4",
   "metadata": {},
   "outputs": [],
   "source": [
    "# Add a Delineation_confidence column\n",
    "# Set the default to high, and update below in cases where we don't like the delineation that MERIT data gives us, but we\n",
    "#   cannot easily fix this\n",
    "cs_meta['Delineation_confidence'] = 'high'\n",
    "cs_meta['Delineation_notes'] = 'n/a'"
   ]
  },
  {
   "cell_type": "code",
   "execution_count": 13,
   "id": "7fc6dea9",
   "metadata": {},
   "outputs": [],
   "source": [
    "# Define the notes we want to make\n",
    "# The will go in a list that we will later integrate into the metadata dataframe\n",
    "# [country, gauge, confidence, note]\n",
    "# Confidence:\n",
    "# - low:    I believe the MERIT DEM is somehow wrong. I'll also asign 'low' if it's not clear if MERIT is wrong, \n",
    "#             but difference with reference shape feels too large\n",
    "# - medium: uncertain to say which DEM (MERIT or whatever was used for the reference shape) is correct\n",
    "# - high:   I believe the MERIT delineation is OK\n",
    "# This is based on visual inspection of the MERIT accumulated area GeoTIFF, reference shape, and Google Maps satellite imagery\n",
    "#  using a threshold of 90% area overlap with reference shape to initiate a manual check\n",
    "notes = []\n",
    "notes.append(['CAN','01AK006', 'medium', 'Very flat region, difference with reference shape likely explained by DEM differences'])\n",
    "notes.append(['CAN','01AL004', 'low',    'Very flat region, DEM accuracy is debatable due to potholes'])\n",
    "notes.append(['CAN','01ED007', 'low',    'Very flat region, DEM accuracy is debatable due to potholes'])\n",
    "notes.append(['CAN','01EE005', 'medium', 'Very flat region, difference with reference shape likely explained by DEM differences'])\n",
    "notes.append(['CAN','02AB014', 'medium', 'Very flat region, difference with reference shape likely explained by DEM differences due to presence of lakes/potholes'])\n",
    "notes.append(['CAN','02AB017', 'medium', 'Very flat region, difference with reference shape likely explained by DEM differences due to presence of lakes/potholes'])\n",
    "notes.append(['CAN','02AC001', 'medium', 'Very flat region, difference with reference shape likely explained by DEM differences'])\n",
    "notes.append(['CAN','02AE001', 'medium', 'Very flat region, difference with reference shape likely explained by DEM differences due to presence of lakes/potholes'])\n",
    "notes.append(['CAN','02BA003', 'medium', 'Very flat region, MERIT DEM connects another subbasin to this outlet through a region of marshland; see 02BB003'])\n",
    "notes.append(['CAN','02BB003', 'medium', 'Very flat region, MERIT DEM connects part of this basin to another outlet through a region of marshland; see 02BA003'])\n",
    "notes.append(['CAN','02BF005', 'high',   'Part of a series of nested gauges: 02BF005, 02BF006, 02BF013, 02BF007, 02BF008, 02BF009, 02BF012'])\n",
    "notes.append(['CAN','02BF005', 'high',   'Part of a series of nested gauges: 02BF005, 02BF006, 02BF013, 02BF007, 02BF008, 02BF009, 02BF012'])\n",
    "notes.append(['CAN','02BF007', 'high',   'Part of a series of nested gauges: 02BF005, 02BF006, 02BF013, 02BF007, 02BF008, 02BF009, 02BF012'])\n",
    "notes.append(['CAN','02BF008', 'high',   'Part of a series of nested gauges: 02BF005, 02BF006, 02BF013, 02BF007, 02BF008, 02BF009, 02BF012'])\n",
    "notes.append(['CAN','02BF009', 'high',   'Part of a series of nested gauges: 02BF005, 02BF006, 02BF013, 02BF007, 02BF008, 02BF009, 02BF012'])\n",
    "notes.append(['CAN','02BF012', 'high',   'Part of a series of nested gauges: 02BF005, 02BF006, 02BF013, 02BF007, 02BF008, 02BF009, 02BF012'])\n",
    "notes.append(['CAN','02BF013', 'high',   'Part of a series of nested gauges: 02BF005, 02BF006, 02BF013, 02BF007, 02BF008, 02BF009, 02BF012'])\n",
    "notes.append(['CAN','02CA002', 'low',    'Very flat region, MERIT DEM connects out parts of this basin to other basins by mistakenly identifying roads as rivers'])\n",
    "notes.append(['CAN','02CF011', 'medium', 'Very flat region, MERIT DEM connects another subbasin to this outlet through a region of flat terrain'])\n",
    "notes.append(['CAN','02CG003', 'medium', 'Very flat region, difference with reference shape likely explained by DEM differences'])\n",
    "notes.append(['CAN','02DD013', 'medium', 'Very flat region, difference with reference shape due to DEM (mistakenly?) connecting rivers across a road'])\n",
    "notes.append(['CAN','02DD015', 'low',    'Very flat region, difference with reference shape due to DEM (mistakenly?) connecting rivers across a road'])\n",
    "notes.append(['CAN','02ED013', 'medium', 'Very flat region, difference with reference shape due to DEM (mistakenly?) connecting rivers across a road'])\n",
    "notes.append(['CAN','02FA002', 'medium', 'Very flat region, difference with reference shape likely explained by DEM differences'])\n",
    "notes.append(['CAN','02FC017', 'high',   'Very flat region, difference with reference shape likely explained by DEM differences'])\n",
    "notes.append(['CAN','02GC010', 'high',   'Very flat region, difference with reference shape likely explained by DEM differences'])\n",
    "notes.append(['CAN','02GC021', 'medium', 'Very flat region, difference with reference shape likely explained by DEM differences'])\n",
    "notes.append(['CAN','02GC031', 'medium', 'Very flat region, difference with reference shape likely explained by DEM differences'])\n",
    "notes.append(['CAN','02GD004', 'medium', 'Very flat region, difference with reference shape likely explained by DEM differences'])\n",
    "notes.append(['CAN','02GD019', 'medium', 'Very flat region, difference with reference shape likely explained by DEM differences'])\n",
    "notes.append(['CAN','02GH002', 'medium', 'Very flat region, difference with reference shape likely explained by DEM differences'])\n",
    "notes.append(['CAN','02GH003', 'low',    'Very flat region, difference with reference shape likely explained by DEM differences. Large difference with reference shape'])\n",
    "notes.append(['CAN','02HB012', 'medium', 'Very flat region, difference with reference shape likely explained by DEM differences'])\n",
    "notes.append(['CAN','02HB022', 'low',    'Very flat region, difference with reference shape likely explained by DEM differences'])\n",
    "notes.append(['CAN','02HB023', 'low',    'Very flat region, difference with reference shape due to DEM (mistakenly?) connecting rivers across a road'])\n",
    "notes.append(['CAN','02LB008', 'medium', 'Very flat region, difference with reference shape likely explained by DEM differences'])\n",
    "notes.append(['CAN','02LB017', 'high',   'Very flat region, difference with reference shape likely explained by DEM differences'])\n",
    "notes.append(['CAN','02PA007', 'medium', 'Very flat region, difference with reference shape due to DEM (mistakenly?) connecting rivers across a road'])\n",
    "notes.append(['CAN','02PC018', 'high',   'Very flat region, difference with reference shape likely explained by DEM differences'])\n",
    "notes.append(['CAN','02PD002', 'low',    'Very flat region, difference with reference shape due to DEM (mistakenly?) connecting rivers across a road. Part of a series of nested gauges: 02PD002, 02PD004, 02PD012, 02PD013, 02PD014, 02PD015'])\n",
    "notes.append(['CAN','02PD004', 'low',    'Very flat region, difference with reference shape due to DEM (mistakenly?) connecting rivers across a road. Part of a series of nested gauges: 02PD002, 02PD004, 02PD012, 02PD013, 02PD014, 02PD015'])\n",
    "notes.append(['CAN','02PD012', 'medium', 'Very flat region, difference with reference shape likely explained by DEM differences. Part of a series of nested gauges: 02PD002, 02PD004, 02PD012, 02PD013, 02PD014, 02PD015'])\n",
    "notes.append(['CAN','02PD013', 'high',   'Very flat region, difference with reference shape likely explained by DEM differences. Part of a series of nested gauges: 02PD002, 02PD004, 02PD012, 02PD013, 02PD014, 02PD015'])\n",
    "notes.append(['CAN','02PD014', 'medium', 'Very flat region, difference with reference shape likely explained by DEM differences. Part of a series of nested gauges: 02PD002, 02PD004, 02PD012, 02PD013, 02PD014, 02PD015'])\n",
    "notes.append(['CAN','02PD015', 'high',   'Very flat region, difference with reference shape likely explained by DEM differences. Part of a series of nested gauges: 02PD002, 02PD004, 02PD012, 02PD013, 02PD014, 02PD015'])\n",
    "notes.append(['CAN','02UA003', 'medium', 'Very flat region, difference with reference shape likely explained by DEM differences due to presence of lakes/potholes'])\n",
    "notes.append(['CAN','02YA002', 'medium', 'Very flat region, difference with reference shape likely explained by DEM differences due to presence of lakes/potholes'])\n",
    "notes.append(['CAN','02YK005', 'medium', 'Very flat region, difference with reference shape likely explained by DEM differences due to presence of lakes/potholes'])\n",
    "notes.append(['CAN','02YK008', 'medium', 'Very flat region, difference with reference shape likely explained by DEM differences due to presence of lakes/potholes'])\n",
    "notes.append(['CAN','02YM004', 'low',    'Very flat region, difference with reference shape likely explained by DEM differences due to presence of lakes/potholes'])\n",
    "notes.append(['CAN','02ZC002', 'medium', 'Very flat region, difference with reference shape likely explained by DEM differences due to presence of lakes/potholes'])\n",
    "notes.append(['CAN','02ZD002', 'low',    'Very flat region, difference with reference shape due to DEM (mistakenly?) connecting rivers across a road and due to presence of lakes'])\n",
    "notes.append(['CAN','02ZC002', 'medium', 'Very flat region, difference with reference shape likely explained by DEM differences due to presence of lakes/potholes'])\n",
    "notes.append(['CAN','02ZE004', 'medium', 'Very flat region, difference with reference shape due to DEM (mistakenly?) connecting rivers across a road and due to presence of lakes'])\n",
    "notes.append(['CAN','02ZG001', 'low',    'Very flat region, difference with reference shape likely explained by DEM misidentifying a channel as land'])\n",
    "notes.append(['CAN','02ZG004', 'medium', 'Very flat region, difference with reference shape likely explained by DEM differences due to presence of lakes/potholes'])\n",
    "notes.append(['CAN','02ZH002', 'medium', 'Very flat region, difference with reference shape likely explained by DEM differences due to presence of lakes/potholes'])\n",
    "notes.append(['CAN','02ZL005', 'medium', 'Very flat region, difference with reference shape likely explained by DEM differences due to presence of lakes/potholes'])\n",
    "notes.append(['CAN','02ZN002', 'medium', 'Very flat region, difference with reference shape likely explained by DEM differences due to presence of lakes/potholes'])\n",
    "notes.append(['CAN','03BD002', 'unknown','No reference shape available'])\n",
    "notes.append(['CAN','03ED001', 'unknown','No reference shape available'])\n",
    "notes.append(['CAN','04CB001', 'medium', 'Very flat region, difference with reference shape likely explained by DEM differences due to presence of lakes/potholes'])\n",
    "notes.append(['CAN','04EA001', 'low',    'Very flat region, difference with reference shape likely explained by DEM misidentifying a channel as land'])\n",
    "notes.append(['CAN','04GB004', 'medium', 'Very flat region, difference with reference shape likely explained by DEM differences due to presence of lakes/potholes'])\n",
    "notes.append(['CAN','04JC002', 'medium', 'Very flat region, difference with reference shape likely explained by DEM differences due to presence of lakes/potholes'])\n",
    "notes.append(['CAN','04JD005', 'low',    'Very flat region, difference with reference shape likely (?) explained by DEM misidentifying a channel as land'])\n",
    "notes.append(['CAN','04KA001', 'low',    'Very flat region, difference with reference shape likely (?) explained by DEM misidentifying a channel as land'])\n",
    "notes.append(['CAN','04LJ001', 'medium', 'Very flat region, difference with reference shape likely explained by DEM differences due to presence of lakes/potholes'])\n",
    "notes.append(['CAN','04MD004', 'medium', 'Very flat region, difference with reference shape likely explained by DEM differences due to presence of lakes/potholes'])\n",
    "notes.append(['CAN','05AA008', 'low',    'Difference with reference shape likely explained by DEM not recognizing channel trajectory through a tunnel'])\n",
    "notes.append(['CAN','05AC030', 'medium', 'Very flat region, difference with reference shape likely explained by DEM differences'])\n",
    "notes.append(['CAN','05AH047', 'unknown','No reference shape available'])\n",
    "notes.append(['CAN','05CB004', 'medium', 'Very flat region, difference with reference shape likely explained by DEM differences'])\n",
    "notes.append(['CAN','05CG004', 'medium', 'Very flat region, MERIT DEM connects another subbasin to this outlet through a region of flat terrain'])\n",
    "notes.append(['CAN','05DA010', 'medium', 'Mountainous region, difference with reference shape likely explained by DEM differences due to presence of trees'])\n",
    "notes.append(['CAN','05DF007', 'medium', 'Very flat region, difference with reference shape likely explained by DEM differences'])\n",
    "notes.append(['CAN','05EC002', 'medium', 'Very flat region, difference with reference shape likely explained by DEM differences'])\n",
    "notes.append(['CAN','05ED002', 'medium', 'Very flat region, difference with reference shape likely explained by DEM differences'])\n",
    "notes.append(['CAN','05EE005', 'medium', 'Very flat region, difference with reference shape likely explained by DEM differences'])\n",
    "notes.append(['CAN','05EE006', 'low',    'Very flat region, MERIT DEM divides the reference shape into multiple subbasins with oulets in different directions'])\n",
    "notes.append(['CAN','05EE009', 'medium', 'Very flat region, difference with reference shape likely explained by DEM differences due to presence of lakes/potholes'])\n",
    "notes.append(['CAN','05EF005', 'medium', 'Very flat region, difference with reference shape likely explained by DEM differences due to presence of lakes/potholes'])\n",
    "notes.append(['CAN','05FA014', 'medium', 'Very flat region, difference with reference shape likely explained by DEM differences'])\n",
    "notes.append(['CAN','05FC007', 'low',    'Difference with reference shape likely explained by DEM not recognizing channel trajectory through a region of flat terrain'])\n",
    "notes.append(['CAN','05FE002', 'medium', 'Very flat region, reference shape includes a subbasin that is identified as an endorheic basin in MERIT'])\n",
    "notes.append(['CAN','05GA008', 'medium', 'Very flat region, MERIT DEM connects another subbasin to this outlet through a region of flat terrain'])\n",
    "notes.append(['CAN','05GA010', 'medium', 'Very flat region, difference with reference shape due to DEM (mistakenly?) connecting rivers across a road and due to presence of lakes'])\n",
    "notes.append(['CAN','05GA012', 'medium', 'Very flat region, MERIT DEM connects another subbasin to this outlet through a region of flat terrain'])\n",
    "notes.append(['CAN','05GB004', 'medium', 'Very flat region, difference with reference shape likely explained by DEM differences due to presence of lakes/potholes'])\n",
    "notes.append(['CAN','05GC007', 'medium', 'Very flat region, difference with reference shape likely explained by DEM differences due to presence of lakes/potholes'])\n",
    "notes.append(['CAN','05GD002', 'medium', 'Very flat region, difference with reference shape likely explained by DEM differences'])\n",
    "notes.append(['CAN','05HG021', 'medium', 'Very flat region, difference with reference shape likely explained by DEM differences'])\n",
    "notes.append(['CAN','05HH003', 'medium', 'Very flat region, difference with reference shape likely explained by DEM differences'])\n",
    "notes.append(['CAN','05JB004', 'medium', 'Very flat region, difference with reference shape likely explained by DEM differences'])\n",
    "notes.append(['CAN','05JB007', 'medium', 'Very flat region, difference with reference shape likely explained by DEM differences'])\n",
    "notes.append(['CAN','05JC004', 'medium', 'Very flat region, difference with reference shape likely explained by DEM differences'])\n",
    "notes.append(['CAN','05JC007', 'medium', 'Very flat region, difference with reference shape likely explained by DEM differences'])\n",
    "notes.append(['CAN','05JF011', 'medium', 'Very flat region, MERIT DEM divides the reference shape into multiple subbasins with oulets in different directions'])\n",
    "notes.append(['CAN','05JF014', 'medium', 'Very flat region, difference with reference shape likely explained by DEM differences'])\n",
    "notes.append(['CAN','05JG001', 'medium', 'Very flat region, difference with reference shape likely explained by DEM differences due to presence of lakes/potholes'])\n",
    "notes.append(['CAN','05JG013', 'medium', 'Very flat region, difference with reference shape likely explained by DEM differences due to presence of lakes/potholes'])\n",
    "notes.append(['CAN','05JH005', 'medium', 'Very flat region, difference with reference shape likely explained by DEM differences due to presence of lakes/potholes'])\n",
    "notes.append(['CAN','05JJ009', 'medium', 'Very flat region, difference with reference shape likely explained by DEM differences due to presence of lakes/potholes'])\n",
    "notes.append(['CAN','05JK008', 'medium', 'Very flat region, difference with reference shape likely explained by DEM differences due to presence of lakes/potholes'])\n",
    "notes.append(['CAN','05JM010', 'medium', 'Very flat region, difference with reference shape likely explained by DEM differences due to presence of lakes/potholes; also likely (?) explained by DEM misidentifying a channel as land'])\n",
    "notes.append(['CAN','05KB003', 'medium', 'Very flat region, reference shape includes subbasins that are identified as endorheic basins in MERIT. Part of a series of nested gauges: 05KB003, 05KB006, 05KB011, 05KC001, 05KH007, 05MA025'])\n",
    "notes.append(['CAN','05KB006', 'medium', 'Very flat region, difference with reference shape likely explained by DEM differences due to presence of lakes/potholes. Part of a series of nested gauges: 05KB003, 05KB006, 05KB011, 05KC001, 05KH007, 05MA025'])\n",
    "notes.append(['CAN','05KB011', 'medium', 'Very flat region, difference with reference shape likely explained by DEM differences due to presence of lakes/potholes. Part of a series of nested gauges: 05KB003, 05KB006, 05KB011, 05KC001, 05KH007, 05MA025'])\n",
    "notes.append(['CAN','05KC001', 'medium', 'Very flat region, reference shape includes subbasins that are identified as endorheic basins in MERIT. Part of a series of nested gauges: 05KB003, 05KB006, 05KB011, 05KC001, 05KH007, 05MA025'])\n",
    "notes.append(['CAN','05KE005', 'medium', 'Very flat region, difference with reference shape likely explained by DEM differences due to presence of lakes/potholes'])\n",
    "notes.append(['CAN','05KE007', 'medium', 'Very flat region, difference with reference shape likely explained by DEM differences due to presence of lakes/potholes'])\n",
    "notes.append(['CAN','05KH007', 'medium', 'Very flat region, reference shape includes subbasins that are identified as endorheic basins in MERIT. Part of a series of nested gauges: 05KB003, 05KB006, 05KB011, 05KC001, 05KH007, 05MA025'])\n",
    "notes.append(['CAN','05LA003', 'medium', 'Very flat region, difference with reference shape likely explained by DEM differences due to presence of lakes/potholes'])\n",
    "notes.append(['CAN','05LB004', 'medium', 'Very flat region, difference with reference shape likely explained by DEM differences due to presence of lakes/potholes'])\n",
    "notes.append(['CAN','05LB006', 'low',    'Very flat region, difference with reference shape likely (?) explained by DEM misidentifying a channel as land'])\n",
    "notes.append(['CAN','05LB008', 'medium', 'Very flat region, difference with reference shape likely explained by DEM differences due to presence of lakes/potholes'])\n",
    "notes.append(['CAN','05LB010', 'medium', 'Very flat region, difference with reference shape likely explained by DEM differences due to presence of lakes/potholes'])\n",
    "notes.append(['CAN','05LD001', 'low',    'Very flat region, difference with reference shape likely (?) explained by DEM misidentifying a channel as land'])\n",
    "notes.append(['CAN','05LE011', 'medium', 'Very flat region, difference with reference shape likely explained by DEM differences due to presence of lakes/potholes'])\n",
    "notes.append(['CAN','05LJ027', 'medium', 'Very flat region, difference with reference shape likely explained by DEM differences'])\n",
    "notes.append(['CAN','05LL014', 'medium', 'Very flat region, difference with reference shape likely explained by DEM differences'])\n",
    "notes.append(['CAN','05LL015', 'medium', 'Very flat region, difference with reference shape likely explained by DEM differences'])\n",
    "notes.append(['CAN','05LL027', 'medium', 'Very flat region, difference with reference shape likely explained by DEM differences'])\n",
    "notes.append(['CAN','05MA020', 'medium', 'Very flat region, difference with reference shape likely explained by DEM differences due to presence of lakes/potholes'])\n",
    "notes.append(['CAN','05MA021', 'medium', 'Very flat region, difference with reference shape likely explained by DEM differences due to presence of lakes/potholes'])\n",
    "notes.append(['CAN','05MA025', 'low',    'Very flat region, difference with reference shape likely (?) explained by DEM misidentifying a channel as land. Part of a series of nested gauges: 05KB003, 05KB006, 05KB011, 05KC001, 05KH007, 05MA025'])\n",
    "notes.append(['CAN','05MC002', 'medium', 'Very flat region, difference with reference shape likely explained by DEM differences due to presence of lakes/potholes'])\n",
    "notes.append(['CAN','05MC003', 'medium', 'Very flat region, difference with reference shape likely explained by DEM differences due to presence of lakes/potholes'])\n",
    "notes.append(['CAN','05MD010', 'medium', 'Very flat region, difference with reference shape likely explained by DEM differences due to presence of lakes/potholes'])\n",
    "notes.append(['CAN','05ME005', 'medium', 'Very flat region, difference with reference shape likely explained by DEM differences due to presence of lakes/potholes'])\n",
    "notes.append(['CAN','05ME007', 'medium', 'Very flat region, difference with reference shape likely explained by DEM differences due to presence of lakes/potholes'])\n",
    "notes.append(['CAN','05MG001', 'medium', 'Very flat region, difference with reference shape likely explained by DEM differences due to presence of lakes/potholes'])\n",
    "notes.append(['CAN','05MG003', 'medium', 'Very flat region, difference with reference shape likely explained by DEM differences due to presence of lakes/potholes'])\n",
    "notes.append(['CAN','05MH006', 'medium', 'Very flat region, MERIT DEM connects another subbasin to this outlet through a region of flat terrain'])\n",
    "notes.append(['CAN','05MH007', 'medium', 'Very flat region, difference with reference shape likely explained by DEM differences'])\n",
    "notes.append(['CAN','05MH008', 'medium', 'Very flat region, difference with reference shape likely explained by DEM differences'])\n",
    "notes.append(['CAN','05NB033', 'medium', 'Very flat region, difference with reference shape likely explained by DEM differences due to presence of lakes/potholes'])\n",
    "notes.append(['CAN','05NB035', 'low',    'Very flat region, difference with reference shape likely (?) explained by DEM misidentifying a channel as land'])\n",
    "notes.append(['CAN','05ND011', 'medium', 'Very flat region, difference with reference shape likely explained by DEM differences due to presence of lakes/potholes'])\n",
    "notes.append(['CAN','05NE003', 'low',    'Very flat region, difference with reference shape likely (?) explained by DEM misidentifying a channel as land'])\n",
    "notes.append(['CAN','05NF002', 'medium', 'Very flat region, difference with reference shape likely explained by DEM differences due to presence of lakes/potholes'])\n",
    "notes.append(['CAN','05NF006', 'medium', 'Very flat region, difference with reference shape likely explained by DEM differences due to presence of lakes/potholes'])\n",
    "notes.append(['CAN','05NF008', 'low',    'Very flat region, difference with reference shape likely explained by DEM misidentifying a channel as land'])\n",
    "notes.append(['CAN','05NF010', 'low',    'Very flat region, difference with reference shape due to DEM (mistakenly?) connecting rivers across a road'])\n",
    "notes.append(['CAN','05NG010', 'medium', 'Very flat region, difference with reference shape likely explained by DEM differences due to presence of lakes/potholes'])\n",
    "notes.append(['CAN','05NG012', 'medium', 'Very flat region, difference with reference shape likely explained by DEM differences due to presence of lakes/potholes'])\n",
    "notes.append(['CAN','05NG020', 'low',    'Very flat region, difference with reference shape likely explained by DEM differences due to presence of lakes/potholes'])\n",
    "notes.append(['CAN','05OB016', 'medium', 'Very flat region, difference with reference shape likely explained by DEM differences due to presence of lakes/potholes'])\n",
    "notes.append(['CAN','05OB021', 'medium', 'Very flat region, difference with reference shape likely explained by DEM differences due to presence of lakes/potholes and  built-up areas'])\n",
    "notes.append(['CAN','05OC016', 'low',    'Very flat region, difference with reference shape likely explained by DEM misidentifying a channel as land'])\n",
    "notes.append(['CAN','05OC019', 'medium', 'Very flat region, difference with reference shape likely explained by DEM differences due to presence of lakes/potholes'])\n",
    "notes.append(['CAN','05OC022', 'medium', 'Very flat region, difference with reference shape likely explained by DEM differences'])\n",
    "notes.append(['CAN','05OE007', 'medium', 'Very flat region, difference with reference shape likely explained by DEM differences due to the presence of roads'])\n",
    "notes.append(['CAN','05OE009', 'low',    'Very flat region, difference with reference shape likely explained by DEM differences due to the presence of roads'])\n",
    "notes.append(['CAN','05OE010', 'medium', 'Very flat region, difference with reference shape likely explained by DEM differences due to the presence of roads'])\n",
    "notes.append(['CAN','05OF009', 'low',    'Very flat region, difference with reference shape likely explained by DEM differences due to presence of lakes/potholes and roads'])\n",
    "notes.append(['CAN','05OF014', 'medium', 'Very flat region, difference with reference shape likely explained by DEM differences'])\n",
    "notes.append(['CAN','05OF017', 'medium', 'Very flat region, difference with reference shape likely explained by DEM differences'])\n",
    "notes.append(['CAN','05OF018', 'low',    'Very flat region, difference with reference shape likely (?) explained by DEM misidentifying a road as a channel'])\n",
    "notes.append(['CAN','05OF020', 'low',    'Very flat region, difference with reference shape due to DEM (mistakenly?) connecting rivers across a road instead of identifying the correct channel'])\n",
    "notes.append(['CAN','05OH007', 'medium', 'Very flat region, difference with reference shape likely explained by DEM differences partly due to the presence of roads'])\n",
    "notes.append(['CAN','05OJ008', 'medium', 'Very flat region, difference with reference shape likely explained by DEM differences'])\n",
    "notes.append(['CAN','05OJ016', 'medium', 'Very flat region, difference with reference shape likely explained by DEM differences due to the presence of roads'])\n",
    "notes.append(['CAN','05OJ017', 'medium', 'Very flat region, difference with reference shape likely partly explained by DEM differences due to presence of  built-up areas'])\n",
    "notes.append(['CAN','05QA004', 'low',    'Very flat region, difference with reference shape likely partly explained by DEM misidentifying a channel as land'])\n",
    "notes.append(['CAN','05RA001', 'medium', 'Very flat region, difference with reference shape likely explained by DEM differences due to presence of lakes/potholes'])\n",
    "notes.append(['CAN','05RB003', 'medium', 'Very flat region, difference with reference shape likely explained by DEM differences due to presence of lakes/potholes'])\n",
    "notes.append(['CAN','05RE002', 'medium', 'Very flat region, difference with reference shape likely explained by DEM differences due to presence of lakes/potholes'])\n",
    "notes.append(['CAN','05SC002', 'medium', 'Very flat region, difference with reference shape likely explained by DEM differences due to presence of lakes/potholes'])\n",
    "notes.append(['CAN','05SD003', 'medium', 'Very flat region, difference with reference shape likely explained by DEM differences due to presence of lakes/potholes'])\n",
    "notes.append(['CAN','05UA003', 'medium', 'Very flat region, difference with reference shape likely (?) explained by DEM misidentifying a channel as land'])\n",
    "notes.append(['CAN','05UF004', 'low',    'Very flat region, difference with reference shape likely explained by DEM misidentifying a channel as land'])\n",
    "notes.append(['CAN','05UH001', 'high',   'Very flat region, difference with reference shape likely explained by DEM differences'])\n",
    "notes.append(['CAN','06AD008', 'low',    'Very flat region, difference with reference shape likely explained by DEM misidentifying a channel as land'])\n",
    "notes.append(['CAN','07AA007', 'high',   'Very flat region, difference with reference shape likely explained by DEM differences'])\n",
    "notes.append(['CAN','07AF010', 'high',   'Very flat region, difference with reference shape likely explained by DEM differences'])\n",
    "notes.append(['CAN','07AG003', 'medium', 'Very flat region, difference with reference shape likely explained by DEM differences'])\n",
    "notes.append(['CAN','07AH001', 'low',    'Very flat region, difference with reference shape likely explained by DEM misidentifying a channel as land'])\n",
    "notes.append(['CAN','07AH002', 'medium', 'Very flat region, difference with reference shape likely explained by DEM differences due to presence of lakes/potholes'])\n",
    "notes.append(['CAN','07BA002', 'medium', 'Very flat region, difference with reference shape likely explained by DEM differences due to presence of lakes/potholes'])\n",
    "notes.append(['CAN','07BB014', 'medium', 'Very flat region, difference with reference shape likely explained by DEM differences. MERIT river network does not pass through station location'])\n",
    "notes.append(['CAN','07BC006', 'medium', 'Very flat region, difference with reference shape likely explained by DEM differences'])\n",
    "notes.append(['CAN','07BE003', 'low',    'Very flat region, MERIT DEM does not have a stream near this station and also connects another subbasin to this outlet through a region of flat terrain'])\n",
    "notes.append(['CAN','07BE004', 'low',    'Very flat region, difference with reference shape likely explained by DEM differences. Very large difference with reference shape'])\n",
    "notes.append(['CAN','07BF002', 'low',    'Very flat region, difference with reference shape due to DEM mistakenly connecting rivers across a road instead of identifying the correct channel. Note that this leads to only relatively small differences with reference shape'])\n",
    "notes.append(['CAN','07BJ001', 'low',    'Very flat region, difference with reference shape due to DEM mistakenly connecting rivers across a road instead of identifying the correct channel. Note that this leads to only relatively small differences with reference shape'])\n",
    "notes.append(['CAN','07BK005', 'low',    'Very flat region, difference with reference shape due to DEM mistakenly connecting rivers across a road instead of identifying the correct channel. Note that this leads to only relatively small differences with reference shape'])\n",
    "notes.append(['CAN','07CA003', 'medium', 'Very flat region, difference with reference shape likely explained by DEM differences due to presence of lakes/potholes'])\n",
    "notes.append(['CAN','07CA005', 'medium', 'Very flat region, difference with reference shape likely explained by DEM differences due to presence of lakes/potholes'])\n",
    "notes.append(['CAN','07CA006', 'low',    'Very flat region, difference with reference shape likely (?) explained by DEM misidentifying channels in 2 subbasins as land'])\n",
    "notes.append(['CAN','07CA008', 'medium', 'Very flat region, difference with reference shape likely explained by DEM differences due to presence of lakes/potholes'])\n",
    "notes.append(['CAN','07CD004', 'medium', 'Very flat region, difference with reference shape likely explained by DEM differences'])\n",
    "notes.append(['CAN','07CE003', 'medium', 'Very flat region, difference with reference shape likely explained by DEM differences due to presence of lakes/potholes'])\n",
    "notes.append(['CAN','07DA018', 'medium', 'Very flat region, difference with reference shape likely explained by DEM differences due to presence of lakes/potholes'])\n",
    "notes.append(['CAN','07DB001', 'medium', 'Very flat region, difference with reference shape likely (?) explained by DEM misidentifying a channel as land'])\n",
    "notes.append(['CAN','07EC003', 'unknown','No reference shape available'])\n",
    "notes.append(['CAN','07FD013', 'medium', 'Very flat region, difference with reference shape likely explained by DEM differences due to presence of lakes/potholes'])\n",
    "notes.append(['CAN','07GE003', 'medium', 'Very flat region, difference with reference shape likely explained by DEM differences'])\n",
    "notes.append(['CAN','07GE007', 'medium', 'Very flat region, difference with reference shape likely explained by DEM differences due to presence of lakes/potholes'])\n",
    "notes.append(['CAN','07GH004', 'low',    'Very flat region, difference with reference shape likely explained by DEM differences. Large difference with reference shape'])\n",
    "notes.append(['CAN','07HB001', 'low',    'Very flat region, difference with reference shape likely explained by DEM misidentifying a channel as land'])\n",
    "notes.append(['CAN','07HC002', 'low',    'Very flat region, difference with reference shape likely explained by DEM misidentifying a channel as land'])\n",
    "notes.append(['CAN','07JA003', 'medium', 'Very flat region, difference with reference shape partly due to DEM misidentifying the correct channel as land and also presence of lakes/potholes'])\n",
    "notes.append(['CAN','07JC001', 'medium', 'Very flat region, difference with reference shape likely explained by DEM differences due to presence of lakes/potholes'])\n",
    "notes.append(['CAN','07JC002', 'low',    'Very flat region, difference with reference shape likely explained by DEM misidentifying a channel as land'])\n",
    "notes.append(['CAN','07LB002', 'medium', 'Very flat region, difference with reference shape likely explained by DEM differences due to presence of lakes/potholes'])\n",
    "notes.append(['CAN','07OB006', 'low',    'Very flat region, difference with reference shape likely explained by DEM differences due to presence of lakes/potholes. Large difference with reference shape'])\n",
    "notes.append(['CAN','07SA002', 'medium', 'Very flat region, difference with reference shape likely explained by DEM differences due to presence of lakes/potholes'])\n",
    "notes.append(['CAN','07SC002', 'medium', 'Very flat region, difference with reference shape likely explained by DEM differences due to presence of lakes/potholes'])\n",
    "notes.append(['CAN','08EE012', 'low',    'Moved gauge to correct DEM adding another subbasin to this outlet due to misidentifying the correct channel as land. Note that this leads to only relatively small differences with reference shape'])\n",
    "notes.append(['CAN','08EE025', 'medium', 'Difference with reference shape likely explained by DEM differences due to presence of trees'])\n",
    "notes.append(['CAN','08HA016', 'medium', 'Difference with reference shape likely explained by DEM differences due to presence of built-up areas'])\n",
    "notes.append(['CAN','08HA068', 'medium', 'Difference with reference shape likely explained by DEM differences due to presence of trees'])\n",
    "notes.append(['CAN','08HB048', 'medium', 'Difference with reference shape likely explained by DEM differences due to presence of trees'])\n",
    "notes.append(['CAN','08HB075', 'low',    'Difference with reference shape likely explained by DEM differences due to presence of trees. Large difference with reference shape'])\n",
    "notes.append(['CAN','08HF004', 'low',    'Difference with reference shape likely explained by DEM connecting another subbasin to this outlet due to misidentifying a channel as land. See 08HF005'])\n",
    "notes.append(['CAN','08HF005', 'low',    'Difference with reference shape likely explained by DEM disconnecting another subbasin to this outlet due to misidentifying a channel as land. See 08HF004'])\n",
    "notes.append(['CAN','08JD006', 'low',    'Difference with reference shape likely explained by DEM misidentifying a channel as land'])\n",
    "notes.append(['CAN','08JE004', 'low',    'Difference with reference shape likely explained by DEM connecting another subbasin to this outlet through a region with trees'])\n",
    "notes.append(['CAN','08LE108', 'medium', 'Difference with reference shape likely explained by DEM differences'])\n",
    "notes.append(['CAN','08LG056', 'medium', 'Difference with reference shape likely explained by DEM differences'])\n",
    "notes.append(['CAN','08MH029', 'medium', 'Flat region, difference with reference shape likely explained by DEM differences'])\n",
    "notes.append(['CAN','08NE008', 'low',    'Difference with reference shape likely explained by DEM misidentifying a channel as land'])\n",
    "notes.append(['CAN','08NE077', 'medium', 'Difference with reference shape likely explained by DEM differences'])\n",
    "notes.append(['CAN','08NG076', 'low',    'Difference with reference shape likely explained by DEM differences. Large difference with reference shape'])\n",
    "notes.append(['CAN','08NJ130', 'medium', 'Difference with reference shape likely explained by DEM differences due to presence of trees'])\n",
    "notes.append(['CAN','08NM134', 'medium', 'Difference with reference shape likely explained by DEM differences'])\n",
    "notes.append(['CAN','08NM173', 'medium', 'Difference with reference shape likely explained by DEM differences'])\n",
    "notes.append(['CAN','08NM241', 'medium', 'Difference with reference shape likely explained by DEM differences'])\n",
    "notes.append(['CAN','08NM242', 'medium', 'Difference with reference shape likely explained by DEM differences'])\n",
    "notes.append(['CAN','08OA003', 'medium', 'Difference with reference shape likely explained by DEM differences'])\n",
    "notes.append(['CAN','08OB002', 'medium', 'Difference with reference shape likely explained by DEM differences'])\n",
    "notes.append(['CAN','09AC007', 'medium', 'MERIT DEM connects another subbasin to this outlet through a region of flat terrain'])\n",
    "notes.append(['CAN','10AA004', 'medium', 'MERIT DEM connects another subbasin to this outlet through a region of flat terrain'])\n",
    "notes.append(['CAN','10ED007', 'low',    'Difference with reference shape likely explained by DEM misidentifying a channel as land'])\n",
    "notes.append(['CAN','10ED009', 'medium', 'Difference with reference shape likely explained by DEM differences'])\n",
    "notes.append(['CAN','10LC003', 'low',    'Difference with reference shape likely explained by DEM misidentifying a channel as land'])\n",
    "notes.append(['CAN','10QC001', 'unknown','No reference shape available'])\n",
    "notes.append(['CAN','10RA001', 'unknown','No reference shape available'])\n",
    "notes.append(['CAN','10TF001', 'medium', 'Flat regio, difference with reference shape likely explained by DEM differences'])\n",
    "notes.append(['CAN','11AE008', 'low',    'Difference with reference shape explained by DEM misidentifying a channel as land'])\n",
    "notes.append(['CAN','11AE014', 'medium', 'Difference with reference shape likely explained by DEM differences'])\n",
    "\n",
    "notes.append(['USA','01118300', 'high',   'Gauge location is inside the reference shape. USGS (pers. comm., 2023-01-24) confims gauge location is accurate and reference shape is thus too large'])\n",
    "notes.append(['USA','01121000', 'high',   'Gauge location is inside the reference shape. Assuming the reference shape is too large here (see: USA 1118300)'])\n",
    "notes.append(['USA','01123000', 'high',   'Gauge location is inside the reference shape. Assuming the reference shape is too large here (see: USA 1118300)'])\n",
    "notes.append(['USA','01195100', 'medium', 'Gauge location is inside the reference shape. Assuming the reference shape is too large here (see: USA 1118300). Also DEM differences.'])\n",
    "notes.append(['USA','01466500', 'high',   'Gauge location is inside the reference shape. Assuming the reference shape is too large here (see: USA 1118300)'])\n",
    "notes.append(['USA','01484100', 'medium', 'Difference with reference shape likely explained by DEM differences due to the presence of a town'])\n",
    "notes.append(['USA','01485500', 'medium', 'Difference with reference shape likely explained by DEM differences'])\n",
    "notes.append(['USA','01486000', 'low',    'Difference with reference shape likely explained by DEM differences due to various errors (channels misidentified, presumably flat landscape)'])\n",
    "notes.append(['USA','01487000', 'medium', 'Difference with reference shape likely explained by DEM differences'])\n",
    "notes.append(['USA','01606500', 'low',    'Difference with reference shape likely explained by DEM misidentifying a channel as land'])\n",
    "notes.append(['USA','01620500', 'high',   'Gauge location is inside the reference shape. Assuming the reference shape is too large here (see: USA 1118300)'])\n",
    "notes.append(['USA','01658500', 'high',   'Gauge location is inside the reference shape. Assuming the reference shape is too large here (see: USA 1118300)'])\n",
    "notes.append(['USA','02011460', 'high',   'Gauge location is inside the reference shape. Assuming the reference shape is too large here (see: USA 1118300)'])\n",
    "notes.append(['USA','02038850', 'high',   'Gauge location is inside the reference shape. Assuming the reference shape is too large here (see: USA 1118300)'])\n",
    "notes.append(['USA','02055100', 'high',   'Gauge location is inside the reference shape. Assuming the reference shape is too large here (see: USA 1118300)'])\n",
    "notes.append(['USA','02202600', 'medium', 'Difference with reference shape likely explained by DEM differences'])\n",
    "notes.append(['USA','02231000', 'medium', 'Very flat region, difference with reference shape likely explained by DEM differences'])\n",
    "notes.append(['USA','02231342', 'low',    'Very flat region, difference with reference shape likely explained by DEM differences. Large difference with reference shape'])\n",
    "notes.append(['USA','02235200', 'medium', 'Very flat region, had to move gauge substantially to get approximate match with reference shape'])\n",
    "notes.append(['USA','02296500', 'medium', 'Very flat region, difference with reference shape likely explained by DEM differences'])\n",
    "notes.append(['USA','02297155', 'medium', 'Very flat region, difference with reference shape likely explained by DEM differences'])\n",
    "notes.append(['USA','02297310', 'medium', 'Very flat region, difference with reference shape likely explained by DEM differences'])\n",
    "notes.append(['USA','02298123', 'medium', 'Very flat region, difference with reference shape likely explained by DEM differences'])\n",
    "notes.append(['USA','02299950', 'medium', 'Very flat region, difference with reference shape likely explained by DEM differences'])\n",
    "notes.append(['USA','02300700', 'medium', 'Very flat region, difference with reference shape likely explained by DEM differences due the presence of a town'])\n",
    "notes.append(['USA','02310947', 'medium', 'Very flat region, difference with reference shape likely explained by DEM differences'])\n",
    "notes.append(['USA','02310947', 'medium', 'Very flat region, difference with reference shape likely explained by DEM differences'])\n",
    "notes.append(['USA','02314500', 'medium', 'Very flat region, difference with reference shape likely explained by DEM differences'])\n",
    "notes.append(['USA','02315500', 'medium', 'Very flat region, difference with reference shape likely explained by DEM differences'])\n",
    "notes.append(['USA','02324400', 'medium', 'Very flat region, difference with reference shape likely explained by DEM differences'])\n",
    "notes.append(['USA','02327100', 'medium', 'Very flat region, difference with reference shape likely explained by DEM differences'])\n",
    "notes.append(['USA','02369800', 'medium', 'Difference with reference shape likely explained by DEM differences'])\n",
    "notes.append(['USA','02422500', 'medium', 'Difference with reference shape likely explained by DEM differences due the presence of a town'])\n",
    "notes.append(['USA','02430615', 'high',   'Gauge location is inside the reference shape. Assuming the reference shape is too large here (see: USA 1118300)'])\n",
    "notes.append(['USA','03165000', 'high',   'Gauge location is inside the reference shape. Assuming the reference shape is too large here (see: USA 1118300)'])\n",
    "notes.append(['USA','03368000', 'medium', 'Difference with reference shape likely explained by DEM differences'])\n",
    "notes.append(['USA','04115265', 'medium', 'Difference with reference shape likely explained by DEM differences'])\n",
    "notes.append(['USA','04122200', 'low',    'Very flat region, difference with reference shape likely partly explained by DEM misidentifying a channel as land'])\n",
    "notes.append(['USA','04122500', 'medium', 'Very flat region, difference with reference shape likely explained by DEM differences'])\n",
    "notes.append(['USA','04127918', 'medium', 'Difference with reference shape likely explained by DEM differences'])\n",
    "notes.append(['USA','04197170', 'medium', 'Very flat region, difference with reference shape likely explained by DEM differences'])\n",
    "notes.append(['USA','04213000', 'medium', 'Very flat region, difference with reference shape likely explained by DEM differences'])\n",
    "notes.append(['USA','04213075', 'medium', 'Difference with reference shape likely explained by DEM differences'])\n",
    "notes.append(['USA','04233000', 'medium', 'Difference with reference shape likely explained by DEM differences'])\n",
    "notes.append(['USA','04256000', 'medium', 'Difference with reference shape likely explained by DEM differences'])\n",
    "notes.append(['USA','05056000', 'medium', 'Difference with reference shape likely explained by DEM differences. Partly due to DEM containing non-contributing area'])\n",
    "notes.append(['USA','05057000', 'medium', 'Difference with reference shape likely explained by DEM differences. Partly due to DEM containing non-contributing area and presence of lakes/potholes'])\n",
    "notes.append(['USA','05087500', 'high',   'Difference with reference shape likely explained by DEM differences. Gauge location is also inside the reference shape. Assuming the reference shape is too large here (see: USA 1118300)'])\n",
    "notes.append(['USA','05120500', 'medium', 'Difference with reference shape likely explained by DEM differences due to the presence of lakes/potholes'])\n",
    "notes.append(['USA','05123400', 'low',    'Difference with reference shape likely explained by DEM differences due to the presence of lakes/potholes and DEM misidentifying a channel as land'])\n",
    "notes.append(['USA','05525500', 'low',    'Difference with reference shape likely explained by DEM connecting rivers across a road'])\n",
    "notes.append(['USA','05591550', 'low',    'Difference with reference shape likely explained by DEM misidentifying a channel as land'])\n",
    "notes.append(['USA','05592050', 'medium', 'Difference with reference shape likely explained by DEM differences'])\n",
    "notes.append(['USA','05592575', 'medium', 'Difference with reference shape likely explained by DEM differences'])\n",
    "notes.append(['USA','06154410', 'high',   'Gauge location is inside the reference shape. Assuming the reference shape is too large here (see: USA 1118300)'])\n",
    "notes.append(['USA','06350000', 'high',   'Nested gauge of 6354000'])\n",
    "notes.append(['USA','06353000', 'high',   'Nested gauge of 6354000'])\n",
    "notes.append(['USA','06352000', 'high',   'Nested gauge of 6353000, 6354000'])\n",
    "notes.append(['USA','06404000', 'high',   'Nested gauge of 6406000'])\n",
    "notes.append(['USA','06408700', 'high',   'Gauge location is inside the reference shape. Assuming the reference shape is too large here (see: USA 1118300)'])\n",
    "notes.append(['USA','06440200', 'high',   'Nested gauge of 6441500'])\n",
    "notes.append(['USA','06447000', 'high',   'Nested gauge of 6452000'])\n",
    "notes.append(['USA','06447500', 'medium', 'Difference with reference shape likely explained by DEM differences. Nested gauge of 6450500, 6452000'])\n",
    "notes.append(['USA','06450500', 'high',   'Nested gauge of 6452000'])\n",
    "notes.append(['USA','06468170', 'high',   'Nested gauge of 6468250'])\n",
    "notes.append(['USA','06479215', 'high',   'Nested gauge of 6479438'])\n",
    "notes.append(['USA','06479438', 'low',    'Difference with reference shape likely explained by DEM differences. Large difference with reference shape'])\n",
    "notes.append(['USA','06614800', 'medium', 'Difference with reference shape likely explained by DEM differences'])\n",
    "notes.append(['USA','06746095', 'medium', 'Difference with reference shape likely explained by DEM differences'])\n",
    "notes.append(['USA','06784000', 'medium', 'Difference with reference shape likely explained by DEM differences'])\n",
    "notes.append(['USA','06889200', 'high',   'Nested gauge of 6889500'])\n",
    "notes.append(['USA','07066000', 'high',   'Nested gauge of 7067000, 7068000'])\n",
    "notes.append(['USA','07067000', 'high',   'Nested gauge of 7068000'])\n",
    "notes.append(['USA','07142300', 'medium', 'Difference with reference shape likely explained by DEM differences'])\n",
    "notes.append(['USA','07196900', 'high',   'Nested gauge of 7197000'])\n",
    "notes.append(['USA','07301410', 'high',   'Nested gauge of 7301500'])\n",
    "notes.append(['USA','08029500', 'high',   'Gauge location is inside the reference shape. Assuming the reference shape is too large here (see: USA 1118300)'])\n",
    "notes.append(['USA','08066300', 'low',    'Difference with reference shape likely explained by DEM differences. Large difference with reference shape'])\n",
    "notes.append(['USA','08070000', 'high',   'Nested gauge of 8070200'])\n",
    "notes.append(['USA','08079600', 'medium', 'Difference with reference shape likely explained by DEM differences. Note the near-exact match of MERIT Hydro delineation with Gages II area'])\n",
    "notes.append(['USA','08164600', 'medium', 'Difference with reference shape likely explained by DEM differences'])\n",
    "notes.append(['USA','08377900', 'high',   'Nested gauge of 8378500'])\n",
    "notes.append(['USA','09034900', 'high',   'Gauge location is inside the reference shape. Assuming the reference shape is too large here (see: USA 1118300)'])\n",
    "notes.append(['USA','09378630', 'high',   'Gauge location is inside the reference shape. Assuming the reference shape is too large here (see: USA 1118300)'])\n",
    "notes.append(['USA','09480000', 'high',   'Gauge location is inside the reference shape. Assuming the reference shape is too large here (see: USA 1118300)'])\n",
    "notes.append(['USA','09492400', 'high',   'Nested gauge of 9494000'])\n",
    "notes.append(['USA','10023000','high',   'Gauge location is inside the reference shape. Assuming the reference shape is too large here (see: USA 1118300)'])\n",
    "notes.append(['USA','10166430','high',   'Gauge location is inside the reference shape. This reference shape is likely incorrect'])\n",
    "notes.append(['USA','10172700','high',   'Gauge location is inside the reference shape. This reference shape is likely incorrect'])\n",
    "notes.append(['USA','10172800','high',   'Gauge location is inside the reference shape. Assuming the reference shape is too large here (see: USA 1118300)'])\n",
    "notes.append(['USA','10205030','high',   'Gauge location is inside the reference shape. Assuming the reference shape is too large here (see: USA 1118300)'])\n",
    "notes.append(['USA','10242000','high',   'Gauge location is inside the reference shape. Assuming the reference shape is too large here (see: USA 1118300)'])\n",
    "notes.append(['USA','10249300','high',   'Gauge location is inside the reference shape. This reference shape is likely incorrect'])\n",
    "notes.append(['USA','10258000','high',   'Gauge location is inside the reference shape. Assuming the reference shape is too large here (see: USA 1118300)'])\n",
    "notes.append(['USA','10258500','medium', 'Difference with reference shape likely explained by DEM differences'])\n",
    "notes.append(['USA','10259200','high',   'Gauge location is inside the reference shape. Assuming the reference shape is too large here (see: USA 1118300)'])\n",
    "notes.append(['USA','10263500','high',   'Gauge location is inside the reference shape. Assuming the reference shape is too large here (see: USA 1118300)'])\n",
    "notes.append(['USA','10310500','high',   'Gauge location is inside the reference shape. Assuming the reference shape is too large here (see: USA 1118300)'])\n",
    "notes.append(['USA','10316500','high',   'Gauge location is inside the reference shape. This reference shape is likely incorrect'])\n",
    "notes.append(['USA','10329500','high',   'Gauge location is inside the reference shape. This reference shape is likely incorrect'])\n",
    "notes.append(['USA','10336660','high',   'Gauge location is inside the reference shape. This reference shape is likely incorrect'])\n",
    "notes.append(['USA','10336740','medium', 'Difference with reference shape likely explained by DEM differences. Note the near-exact match of MERIT Hydro delineation with Gages II area'])\n",
    "notes.append(['USA','10348850','medium', 'Difference with reference shape likely explained by DEM differences'])\n",
    "notes.append(['USA','10396000','high',   'Gauge location is inside the reference shape. This reference shape is likely incorrect'])\n",
    "notes.append(['USA','11098000','medium', 'Difference with reference shape likely explained by DEM differences'])\n",
    "notes.append(['USA','11180500','high',   'Gauge location is inside the reference shape. Assuming the reference shape is too large here (see: USA 1118300)'])\n",
    "notes.append(['USA','11180960','high',   'Gauge location is inside the reference shape. Assuming the reference shape is too large here (see: USA 1118300)'])\n",
    "notes.append(['USA','11224500','high',   'Gauge location is inside the reference shape. This reference shape is likely incorrect'])\n",
    "notes.append(['USA','11253310','high',   'Gauge location is inside the reference shape. Assuming the reference shape is too large here (see: USA 1118300)'])\n",
    "notes.append(['USA','11264500','high',   'Nested gauge of 11266500'])\n",
    "notes.append(['USA','11274500','high',   'Gauge location is inside the reference shape. This reference shape is likely incorrect'])\n",
    "notes.append(['USA','11274630','high',   'Gauge location is inside the reference shape. This reference shape is likely incorrect'])\n",
    "notes.append(['USA','11299600','medium', 'Difference with reference shape likely explained by DEM differences'])\n",
    "notes.append(['USA','11383500','high',   'Gauge location is inside the reference shape. This reference shape is likely incorrect'])\n",
    "notes.append(['USA','12095000','medium', 'Difference with reference shape likely explained by DEM differences'])\n",
    "notes.append(['USA','12114500','high',   'Nested gauge of 12115000'])\n",
    "notes.append(['USA','12115500','high',   'Gauge location is inside the reference shape. Assuming the reference shape is too large here (see: USA 1118300)'])\n",
    "notes.append(['USA','12117000','medium', 'Difference with reference shape likely explained by DEM differences'])\n",
    "notes.append(['USA','12143600','high',   'Nested gauge of 12144000'])\n",
    "notes.append(['USA','12147600','high',   'Gauge location is inside the reference shape. Assuming the reference shape is too large here (see: USA 1118300)'])\n",
    "notes.append(['USA','12186000','high',   'Nested gauge of 12189500'])\n",
    "notes.append(['USA','12388400','high',   'Gauge location is inside the reference shape. Assuming the reference shape is too large here (see: USA 1118300)'])\n",
    "notes.append(['USA','13083000','high',   'Gauge location is inside the reference shape. This reference shape is likely incorrect'])\n",
    "notes.append(['USA','13337000','high',   'Nested gauge of 13340000'])\n",
    "notes.append(['USA','13338500','high',   'Nested gauge of 13340000'])\n",
    "notes.append(['USA','14092750','high',   'Gauge location is inside the reference shape. Assuming the reference shape is too large here (see: USA 1118300)'])\n",
    "notes.append(['USA','14138870','high',   'Gauge location is inside the reference shape. Assuming the reference shape is too large here (see: USA 1118300)'])\n",
    "notes.append(['USA','14158500','high',   'Gauge location is inside the reference shape. This reference shape is likely incorrect'])\n",
    "notes.append(['USA','14158790','medium', 'Difference with reference shape likely explained by DEM differences'])\n",
    "notes.append(['USA','14303200','high',   'Gauge location is inside the reference shape. Assuming the reference shape is too large here (see: USA 1118300)'])\n",
    "notes.append(['USA','14306340','high',   'Nested gauge of 14306500'])"
   ]
  },
  {
   "cell_type": "code",
   "execution_count": 14,
   "id": "ea818e50",
   "metadata": {},
   "outputs": [],
   "source": [
    "# Ensure we have the correct column IDs\n",
    "c_note, c_conf = 25,24\n",
    "assert (cs_meta.columns[c_note] == 'Delineation_notes') # If these aren't true, they'll pop an error\n",
    "assert (cs_meta.columns[c_conf] == 'Delineation_confidence')"
   ]
  },
  {
   "cell_type": "code",
   "execution_count": 15,
   "id": "5d39f110",
   "metadata": {},
   "outputs": [],
   "source": [
    "# Apply the changes to the metadata file\n",
    "for note in notes:\n",
    "    \n",
    "    country = note[0]\n",
    "    station = note[1]\n",
    "    confidence = note[2]\n",
    "    remarks = note[3]\n",
    "    \n",
    "    idx = cs_meta.index[(cs_meta['Country'] == country) & (cs_meta['Station_id'] == station)][0] # There can be only one\n",
    "    \n",
    "    cs_meta.iat[idx,c_note] = remarks\n",
    "    cs_meta.iat[idx,c_conf] = confidence"
   ]
  },
  {
   "cell_type": "code",
   "execution_count": 16,
   "id": "21c34ca1",
   "metadata": {
    "scrolled": true
   },
   "outputs": [],
   "source": [
    "# Save the metadata file\n",
    "cs_meta.to_csv(cs_meta_path / cs_meta_name, encoding='utf-8', index=False)"
   ]
  },
  {
   "cell_type": "code",
   "execution_count": 17,
   "id": "659ccb4b",
   "metadata": {},
   "outputs": [
    {
     "data": {
      "text/html": [
       "<div>\n",
       "<style scoped>\n",
       "    .dataframe tbody tr th:only-of-type {\n",
       "        vertical-align: middle;\n",
       "    }\n",
       "\n",
       "    .dataframe tbody tr th {\n",
       "        vertical-align: top;\n",
       "    }\n",
       "\n",
       "    .dataframe thead th {\n",
       "        text-align: right;\n",
       "    }\n",
       "</style>\n",
       "<table border=\"1\" class=\"dataframe\">\n",
       "  <thead>\n",
       "    <tr style=\"text-align: right;\">\n",
       "      <th></th>\n",
       "      <th>Country</th>\n",
       "      <th>Station_id</th>\n",
       "      <th>Station_name</th>\n",
       "      <th>Station_lat</th>\n",
       "      <th>Station_lon</th>\n",
       "      <th>Station_source</th>\n",
       "      <th>Outlet_lat</th>\n",
       "      <th>Outlet_lon</th>\n",
       "      <th>Outlet_source</th>\n",
       "      <th>Mapped_lat</th>\n",
       "      <th>...</th>\n",
       "      <th>Ref_area_1_km2</th>\n",
       "      <th>Ref_area_2_src</th>\n",
       "      <th>Ref_area_2_km2</th>\n",
       "      <th>Ref_shape</th>\n",
       "      <th>Ref_shape_source</th>\n",
       "      <th>Ref_shape_area_km2</th>\n",
       "      <th>Ref_and_new_shape_fractional_overlap</th>\n",
       "      <th>Manual_delineation_notes</th>\n",
       "      <th>Delineation_confidence</th>\n",
       "      <th>Delineation_notes</th>\n",
       "    </tr>\n",
       "  </thead>\n",
       "  <tbody>\n",
       "    <tr>\n",
       "      <th>0</th>\n",
       "      <td>CAN</td>\n",
       "      <td>01AD002</td>\n",
       "      <td>SAINT JOHN RIVER AT FORT KENT</td>\n",
       "      <td>47.25806</td>\n",
       "      <td>-68.59583</td>\n",
       "      <td>WSC 20222 data set</td>\n",
       "      <td>47.257877</td>\n",
       "      <td>-68.594919</td>\n",
       "      <td>WSC 20222 data set</td>\n",
       "      <td>47.257312</td>\n",
       "      <td>...</td>\n",
       "      <td>14700.00</td>\n",
       "      <td>HYDAT effective drainage area</td>\n",
       "      <td>NaN</td>\n",
       "      <td>yes</td>\n",
       "      <td>WSC 2022 data set</td>\n",
       "      <td>14677.400000</td>\n",
       "      <td>0.993792</td>\n",
       "      <td>NaN</td>\n",
       "      <td>high</td>\n",
       "      <td>n/a</td>\n",
       "    </tr>\n",
       "    <tr>\n",
       "      <th>1</th>\n",
       "      <td>CAN</td>\n",
       "      <td>01AD003</td>\n",
       "      <td>ST. FRANCIS RIVER AT OUTLET OF GLASIER LAKE</td>\n",
       "      <td>47.20661</td>\n",
       "      <td>-68.95694</td>\n",
       "      <td>WSC 20222 data set</td>\n",
       "      <td>47.206016</td>\n",
       "      <td>-68.956727</td>\n",
       "      <td>WSC 20222 data set</td>\n",
       "      <td>47.205895</td>\n",
       "      <td>...</td>\n",
       "      <td>1350.00</td>\n",
       "      <td>HYDAT effective drainage area</td>\n",
       "      <td>NaN</td>\n",
       "      <td>yes</td>\n",
       "      <td>WSC 2022 data set</td>\n",
       "      <td>1348.300000</td>\n",
       "      <td>0.985513</td>\n",
       "      <td>NaN</td>\n",
       "      <td>high</td>\n",
       "      <td>n/a</td>\n",
       "    </tr>\n",
       "    <tr>\n",
       "      <th>2</th>\n",
       "      <td>CAN</td>\n",
       "      <td>01AE001</td>\n",
       "      <td>FISH RIVER NEAR FORT KENT</td>\n",
       "      <td>47.23750</td>\n",
       "      <td>-68.58278</td>\n",
       "      <td>WSC 20222 data set</td>\n",
       "      <td>47.237438</td>\n",
       "      <td>-68.581991</td>\n",
       "      <td>WSC 20222 data set</td>\n",
       "      <td>47.237438</td>\n",
       "      <td>...</td>\n",
       "      <td>2260.00</td>\n",
       "      <td>HYDAT effective drainage area</td>\n",
       "      <td>NaN</td>\n",
       "      <td>yes</td>\n",
       "      <td>WSC 2022 data set</td>\n",
       "      <td>2238.950000</td>\n",
       "      <td>0.979374</td>\n",
       "      <td>NaN</td>\n",
       "      <td>high</td>\n",
       "      <td>n/a</td>\n",
       "    </tr>\n",
       "    <tr>\n",
       "      <th>3</th>\n",
       "      <td>CAN</td>\n",
       "      <td>01AF007</td>\n",
       "      <td>GRANDE RIVIERE AT VIOLETTE BRIDGE</td>\n",
       "      <td>47.24697</td>\n",
       "      <td>-67.92128</td>\n",
       "      <td>WSC 20222 data set</td>\n",
       "      <td>47.246908</td>\n",
       "      <td>-67.921271</td>\n",
       "      <td>WSC 20222 data set</td>\n",
       "      <td>47.246667</td>\n",
       "      <td>...</td>\n",
       "      <td>339.00</td>\n",
       "      <td>HYDAT effective drainage area</td>\n",
       "      <td>NaN</td>\n",
       "      <td>yes</td>\n",
       "      <td>WSC 2022 data set</td>\n",
       "      <td>325.196000</td>\n",
       "      <td>0.977787</td>\n",
       "      <td>NaN</td>\n",
       "      <td>high</td>\n",
       "      <td>n/a</td>\n",
       "    </tr>\n",
       "    <tr>\n",
       "      <th>4</th>\n",
       "      <td>CAN</td>\n",
       "      <td>01AF009</td>\n",
       "      <td>IROQUOIS RIVER AT MOULIN MORNEAULT</td>\n",
       "      <td>47.45783</td>\n",
       "      <td>-68.35683</td>\n",
       "      <td>WSC 20222 data set</td>\n",
       "      <td>47.457622</td>\n",
       "      <td>-68.356710</td>\n",
       "      <td>WSC 20222 data set</td>\n",
       "      <td>47.457622</td>\n",
       "      <td>...</td>\n",
       "      <td>182.00</td>\n",
       "      <td>HYDAT effective drainage area</td>\n",
       "      <td>NaN</td>\n",
       "      <td>yes</td>\n",
       "      <td>WSC 2022 data set</td>\n",
       "      <td>183.430000</td>\n",
       "      <td>0.986569</td>\n",
       "      <td>NaN</td>\n",
       "      <td>high</td>\n",
       "      <td>n/a</td>\n",
       "    </tr>\n",
       "    <tr>\n",
       "      <th>...</th>\n",
       "      <td>...</td>\n",
       "      <td>...</td>\n",
       "      <td>...</td>\n",
       "      <td>...</td>\n",
       "      <td>...</td>\n",
       "      <td>...</td>\n",
       "      <td>...</td>\n",
       "      <td>...</td>\n",
       "      <td>...</td>\n",
       "      <td>...</td>\n",
       "      <td>...</td>\n",
       "      <td>...</td>\n",
       "      <td>...</td>\n",
       "      <td>...</td>\n",
       "      <td>...</td>\n",
       "      <td>...</td>\n",
       "      <td>...</td>\n",
       "      <td>...</td>\n",
       "      <td>...</td>\n",
       "      <td>...</td>\n",
       "      <td>...</td>\n",
       "    </tr>\n",
       "    <tr>\n",
       "      <th>1693</th>\n",
       "      <td>USA</td>\n",
       "      <td>14309500</td>\n",
       "      <td>WEST FORK COW CREEK NEAR GLENDALE, OR</td>\n",
       "      <td>42.80400</td>\n",
       "      <td>-123.61091</td>\n",
       "      <td>CAMELS-US</td>\n",
       "      <td>-999.000000</td>\n",
       "      <td>-999.000000</td>\n",
       "      <td>NaN</td>\n",
       "      <td>42.804462</td>\n",
       "      <td>...</td>\n",
       "      <td>224.92</td>\n",
       "      <td>Geospatial fabric area</td>\n",
       "      <td>226.31</td>\n",
       "      <td>yes</td>\n",
       "      <td>CAMELS-US data set (HCDN)</td>\n",
       "      <td>226.314346</td>\n",
       "      <td>0.988873</td>\n",
       "      <td>NaN</td>\n",
       "      <td>high</td>\n",
       "      <td>n/a</td>\n",
       "    </tr>\n",
       "    <tr>\n",
       "      <th>1694</th>\n",
       "      <td>USA</td>\n",
       "      <td>14316700</td>\n",
       "      <td>STEAMBOAT CREEK NEAR GLIDE, OR</td>\n",
       "      <td>43.34984</td>\n",
       "      <td>-122.72894</td>\n",
       "      <td>CAMELS-US</td>\n",
       "      <td>-999.000000</td>\n",
       "      <td>-999.000000</td>\n",
       "      <td>NaN</td>\n",
       "      <td>43.349840</td>\n",
       "      <td>...</td>\n",
       "      <td>587.90</td>\n",
       "      <td>Geospatial fabric area</td>\n",
       "      <td>588.01</td>\n",
       "      <td>yes</td>\n",
       "      <td>CAMELS-US data set (HCDN)</td>\n",
       "      <td>588.025033</td>\n",
       "      <td>0.995104</td>\n",
       "      <td>NaN</td>\n",
       "      <td>high</td>\n",
       "      <td>n/a</td>\n",
       "    </tr>\n",
       "    <tr>\n",
       "      <th>1695</th>\n",
       "      <td>USA</td>\n",
       "      <td>14325000</td>\n",
       "      <td>SOUTH FORK COQUILLE RIVER AT POWERS, OR</td>\n",
       "      <td>42.89150</td>\n",
       "      <td>-124.07065</td>\n",
       "      <td>CAMELS-US</td>\n",
       "      <td>-999.000000</td>\n",
       "      <td>-999.000000</td>\n",
       "      <td>NaN</td>\n",
       "      <td>42.892325</td>\n",
       "      <td>...</td>\n",
       "      <td>443.07</td>\n",
       "      <td>Geospatial fabric area</td>\n",
       "      <td>444.92</td>\n",
       "      <td>yes</td>\n",
       "      <td>CAMELS-US data set (HCDN)</td>\n",
       "      <td>444.925651</td>\n",
       "      <td>0.991051</td>\n",
       "      <td>NaN</td>\n",
       "      <td>high</td>\n",
       "      <td>n/a</td>\n",
       "    </tr>\n",
       "    <tr>\n",
       "      <th>1696</th>\n",
       "      <td>USA</td>\n",
       "      <td>14362250</td>\n",
       "      <td>STAR GULCH NEAR RUCH, OR.</td>\n",
       "      <td>42.15401</td>\n",
       "      <td>-123.07532</td>\n",
       "      <td>CAMELS-US</td>\n",
       "      <td>-999.000000</td>\n",
       "      <td>-999.000000</td>\n",
       "      <td>NaN</td>\n",
       "      <td>42.155000</td>\n",
       "      <td>...</td>\n",
       "      <td>41.42</td>\n",
       "      <td>Geospatial fabric area</td>\n",
       "      <td>43.88</td>\n",
       "      <td>yes</td>\n",
       "      <td>CAMELS-US data set (HCDN)</td>\n",
       "      <td>43.877901</td>\n",
       "      <td>0.937207</td>\n",
       "      <td>NaN</td>\n",
       "      <td>high</td>\n",
       "      <td>n/a</td>\n",
       "    </tr>\n",
       "    <tr>\n",
       "      <th>1697</th>\n",
       "      <td>USA</td>\n",
       "      <td>14400000</td>\n",
       "      <td>CHETCO RIVER NEAR BROOKINGS, OR</td>\n",
       "      <td>42.12344</td>\n",
       "      <td>-124.18731</td>\n",
       "      <td>CAMELS-US</td>\n",
       "      <td>-999.000000</td>\n",
       "      <td>-999.000000</td>\n",
       "      <td>NaN</td>\n",
       "      <td>42.123065</td>\n",
       "      <td>...</td>\n",
       "      <td>702.63</td>\n",
       "      <td>Geospatial fabric area</td>\n",
       "      <td>703.37</td>\n",
       "      <td>yes</td>\n",
       "      <td>CAMELS-US data set (HCDN)</td>\n",
       "      <td>703.386532</td>\n",
       "      <td>0.995317</td>\n",
       "      <td>NaN</td>\n",
       "      <td>high</td>\n",
       "      <td>n/a</td>\n",
       "    </tr>\n",
       "  </tbody>\n",
       "</table>\n",
       "<p>1698 rows × 26 columns</p>\n",
       "</div>"
      ],
      "text/plain": [
       "     Country Station_id                                 Station_name  \\\n",
       "0        CAN    01AD002                SAINT JOHN RIVER AT FORT KENT   \n",
       "1        CAN    01AD003  ST. FRANCIS RIVER AT OUTLET OF GLASIER LAKE   \n",
       "2        CAN    01AE001                    FISH RIVER NEAR FORT KENT   \n",
       "3        CAN    01AF007            GRANDE RIVIERE AT VIOLETTE BRIDGE   \n",
       "4        CAN    01AF009           IROQUOIS RIVER AT MOULIN MORNEAULT   \n",
       "...      ...        ...                                          ...   \n",
       "1693     USA   14309500        WEST FORK COW CREEK NEAR GLENDALE, OR   \n",
       "1694     USA   14316700               STEAMBOAT CREEK NEAR GLIDE, OR   \n",
       "1695     USA   14325000      SOUTH FORK COQUILLE RIVER AT POWERS, OR   \n",
       "1696     USA   14362250                    STAR GULCH NEAR RUCH, OR.   \n",
       "1697     USA   14400000              CHETCO RIVER NEAR BROOKINGS, OR   \n",
       "\n",
       "      Station_lat  Station_lon      Station_source  Outlet_lat  Outlet_lon  \\\n",
       "0        47.25806    -68.59583  WSC 20222 data set   47.257877  -68.594919   \n",
       "1        47.20661    -68.95694  WSC 20222 data set   47.206016  -68.956727   \n",
       "2        47.23750    -68.58278  WSC 20222 data set   47.237438  -68.581991   \n",
       "3        47.24697    -67.92128  WSC 20222 data set   47.246908  -67.921271   \n",
       "4        47.45783    -68.35683  WSC 20222 data set   47.457622  -68.356710   \n",
       "...           ...          ...                 ...         ...         ...   \n",
       "1693     42.80400   -123.61091           CAMELS-US -999.000000 -999.000000   \n",
       "1694     43.34984   -122.72894           CAMELS-US -999.000000 -999.000000   \n",
       "1695     42.89150   -124.07065           CAMELS-US -999.000000 -999.000000   \n",
       "1696     42.15401   -123.07532           CAMELS-US -999.000000 -999.000000   \n",
       "1697     42.12344   -124.18731           CAMELS-US -999.000000 -999.000000   \n",
       "\n",
       "           Outlet_source  Mapped_lat  ...  Ref_area_1_km2  \\\n",
       "0     WSC 20222 data set   47.257312  ...        14700.00   \n",
       "1     WSC 20222 data set   47.205895  ...         1350.00   \n",
       "2     WSC 20222 data set   47.237438  ...         2260.00   \n",
       "3     WSC 20222 data set   47.246667  ...          339.00   \n",
       "4     WSC 20222 data set   47.457622  ...          182.00   \n",
       "...                  ...         ...  ...             ...   \n",
       "1693                 NaN   42.804462  ...          224.92   \n",
       "1694                 NaN   43.349840  ...          587.90   \n",
       "1695                 NaN   42.892325  ...          443.07   \n",
       "1696                 NaN   42.155000  ...           41.42   \n",
       "1697                 NaN   42.123065  ...          702.63   \n",
       "\n",
       "                     Ref_area_2_src  Ref_area_2_km2 Ref_shape  \\\n",
       "0     HYDAT effective drainage area             NaN       yes   \n",
       "1     HYDAT effective drainage area             NaN       yes   \n",
       "2     HYDAT effective drainage area             NaN       yes   \n",
       "3     HYDAT effective drainage area             NaN       yes   \n",
       "4     HYDAT effective drainage area             NaN       yes   \n",
       "...                             ...             ...       ...   \n",
       "1693         Geospatial fabric area          226.31       yes   \n",
       "1694         Geospatial fabric area          588.01       yes   \n",
       "1695         Geospatial fabric area          444.92       yes   \n",
       "1696         Geospatial fabric area           43.88       yes   \n",
       "1697         Geospatial fabric area          703.37       yes   \n",
       "\n",
       "               Ref_shape_source Ref_shape_area_km2  \\\n",
       "0             WSC 2022 data set       14677.400000   \n",
       "1             WSC 2022 data set        1348.300000   \n",
       "2             WSC 2022 data set        2238.950000   \n",
       "3             WSC 2022 data set         325.196000   \n",
       "4             WSC 2022 data set         183.430000   \n",
       "...                         ...                ...   \n",
       "1693  CAMELS-US data set (HCDN)         226.314346   \n",
       "1694  CAMELS-US data set (HCDN)         588.025033   \n",
       "1695  CAMELS-US data set (HCDN)         444.925651   \n",
       "1696  CAMELS-US data set (HCDN)          43.877901   \n",
       "1697  CAMELS-US data set (HCDN)         703.386532   \n",
       "\n",
       "      Ref_and_new_shape_fractional_overlap Manual_delineation_notes  \\\n",
       "0                                 0.993792                      NaN   \n",
       "1                                 0.985513                      NaN   \n",
       "2                                 0.979374                      NaN   \n",
       "3                                 0.977787                      NaN   \n",
       "4                                 0.986569                      NaN   \n",
       "...                                    ...                      ...   \n",
       "1693                              0.988873                      NaN   \n",
       "1694                              0.995104                      NaN   \n",
       "1695                              0.991051                      NaN   \n",
       "1696                              0.937207                      NaN   \n",
       "1697                              0.995317                      NaN   \n",
       "\n",
       "      Delineation_confidence Delineation_notes  \n",
       "0                       high               n/a  \n",
       "1                       high               n/a  \n",
       "2                       high               n/a  \n",
       "3                       high               n/a  \n",
       "4                       high               n/a  \n",
       "...                      ...               ...  \n",
       "1693                    high               n/a  \n",
       "1694                    high               n/a  \n",
       "1695                    high               n/a  \n",
       "1696                    high               n/a  \n",
       "1697                    high               n/a  \n",
       "\n",
       "[1698 rows x 26 columns]"
      ]
     },
     "execution_count": 17,
     "metadata": {},
     "output_type": "execute_result"
    }
   ],
   "source": [
    "cs_meta"
   ]
  },
  {
   "cell_type": "markdown",
   "id": "0d0cda2b",
   "metadata": {},
   "source": [
    "## Check if we have notes where we need them\n",
    "We decided to investigate at least every shape where overlap between the new delineation and the reference shapefile is `< 0.90`."
   ]
  },
  {
   "cell_type": "code",
   "execution_count": 18,
   "id": "d7f759d9",
   "metadata": {},
   "outputs": [],
   "source": [
    "for ix,row in cs_meta.iterrows():\n",
    "        \n",
    "    # Skip to next if we don't have a reference shape\n",
    "    # This simplifies the next if statement because rows with no reference shape have a 'n/a' value rather than a float \n",
    "    #   in the row.Ref_and_new_shape_fractional_overlap field\n",
    "    if row.Ref_shape == 'no':\n",
    "        continue \n",
    "        \n",
    "    # Do the actual check\n",
    "    if (row.Ref_and_new_shape_fractional_overlap < 0.9) and (row.Delineation_notes == 'n/a'):\n",
    "        print(f'Fractional overlap for basin {row.Station_id} (index {ix}) is {row.Ref_and_new_shape_fractional_overlap} but notes are {row.Delineation_notes}')"
   ]
  },
  {
   "cell_type": "code",
   "execution_count": null,
   "id": "e7936410",
   "metadata": {},
   "outputs": [],
   "source": []
  }
 ],
 "metadata": {
  "kernelspec": {
   "display_name": "camels-spat-env",
   "language": "python",
   "name": "camels-spat-env"
  },
  "language_info": {
   "codemirror_mode": {
    "name": "ipython",
    "version": 3
   },
   "file_extension": ".py",
   "mimetype": "text/x-python",
   "name": "python",
   "nbconvert_exporter": "python",
   "pygments_lexer": "ipython3",
   "version": "3.8.2"
  }
 },
 "nbformat": 4,
 "nbformat_minor": 5
}
