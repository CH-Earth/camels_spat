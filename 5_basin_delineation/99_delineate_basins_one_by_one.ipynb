{
 "cells": [
  {
   "cell_type": "markdown",
   "id": "121fd83e",
   "metadata": {},
   "source": [
    "# Delineate basins 1-by-1\n",
    "This is a working script used to delineate basins using the MERIT Hydro data (DEM, flow direction, basin discretization). CAMELS-US and RHBN metadata about station locations do not always lead to accurate basin delineation. In this script we go through the basins one by one, so that we can manually modify the outlet location in the CAMELS-spat metadata file for basins for which the original station or outlet location is not a good fit with the MERIT DEM. This also lets us add extra notes about the confidence we have in this manually moved outlet and therefore the resulting basin outline. \n",
    "\n",
    "Workflow:\n",
    "1. Load the required data:\n",
    "    1. CAMELS-spat metadata file\n",
    "    2. MERIT Hydro DEM\n",
    "    3. MERIT Hydro flow direction\n",
    "    4. MERIT Hydro basin discretization\n",
    "2. Manually loop over all catchments. For each catchment:\n",
    "    1. Read the station or outlet locations\n",
    "    2. Delineate basin from station/outlet location:\n",
    "        1. Create a subset of the GeoTIFF files for quicker processing\n",
    "        2. Delineate basin\n",
    "        3. Get the appropriate MERIT Hydro shapefiles\n",
    "            1. Extract the river network if it exists for this station\n",
    "            2. Use the river network IDs to extract the correct basins\n",
    "            3. Clip the basins to the station location\n",
    "    3. Perform checks and add results to metadata file\n",
    "        1. Calculate new basin area\n",
    "        2. If reference area(s) exist, print a comparison\n",
    "        3. If reference shapefile exists, compute overlap between reference and new shape\n",
    "    4. Make a decision:\n",
    "        1. If area and overlap are OK, use the current station or outlet location\n",
    "        2. If no area or reference shape are available, do a manual check\n",
    "        3. If area and overlap are not OK, go to file `1_manually_define_outlets` and:\n",
    "            1. Update outlet location\n",
    "            2. Record what changes were made and why\n",
    "    5. Save new shape:\n",
    "        1. As a lumped catchment discretization\n",
    "        2. As a spatially-distributed discretization\n",
    "3. Save the updated metadata file"
   ]
  },
  {
   "cell_type": "code",
   "execution_count": 1,
   "id": "e78b91f8",
   "metadata": {},
   "outputs": [],
   "source": [
    "import sys\n",
    "import warnings\n",
    "import pandas as pd\n",
    "import geopandas as gpd\n",
    "from pathlib import Path\n",
    "sys.path.append(str(Path().absolute().parent))\n",
    "import python_cs_functions as cs"
   ]
  },
  {
   "cell_type": "markdown",
   "id": "73793dff",
   "metadata": {},
   "source": [
    "### Config handling"
   ]
  },
  {
   "cell_type": "code",
   "execution_count": 2,
   "id": "0bd4a19f",
   "metadata": {},
   "outputs": [],
   "source": [
    "# Specify where the config file can be found\n",
    "config_file = '../0_config/config.txt'"
   ]
  },
  {
   "cell_type": "code",
   "execution_count": 3,
   "id": "4855e428",
   "metadata": {},
   "outputs": [],
   "source": [
    "# Get the required info from the config file\n",
    "data_path     = cs.read_from_config(config_file,'data_path')\n",
    "\n",
    "# CAMELS-spat metadata\n",
    "cs_meta_path  = cs.read_from_config(config_file,'cs_basin_path')\n",
    "cs_meta_name  = cs.read_from_config(config_file,'cs_meta_name')\n",
    "\n",
    "# MERIT Hydro data\n",
    "merit_path = cs.read_from_config(config_file, 'merit_path')\n",
    "merit_acc = Path(data_path) / merit_path / 'flow_accumulation_grid' / 'merit_hydro_acc.tif'\n",
    "merit_dir = Path(data_path) / merit_path / 'flow_direction_grid' / 'merit_hydro_dir.tif'\n",
    "merit_bas = Path(data_path) / merit_path / 'shapes' / 'basins' / 'cat_pfaf_7_8_MERIT_Hydro_v07_Basins_v01_bugfix1_hillslopes_pfaf_7_8_clean_fixed.shp'\n",
    "merit_riv = Path(data_path) / merit_path / 'shapes' / 'rivers' / 'riv_pfaf_7_8_MERIT_Hydro_v07_Basins_v01_bugfix1.shp'\n",
    "\n",
    "# Basin folder\n",
    "cs_basin_folder = cs.read_from_config(config_file, 'cs_basin_path')"
   ]
  },
  {
   "cell_type": "markdown",
   "id": "59f6f7d7",
   "metadata": {},
   "source": [
    "### Data loading"
   ]
  },
  {
   "cell_type": "code",
   "execution_count": 4,
   "id": "6c6e1dc7",
   "metadata": {},
   "outputs": [],
   "source": [
    "# CAMELS-spat metadata file\n",
    "cs_meta_path = Path(data_path) / cs_meta_path\n",
    "cs_meta = pd.read_csv(cs_meta_path / cs_meta_name)"
   ]
  },
  {
   "cell_type": "code",
   "execution_count": 11,
   "id": "84f6eb60",
   "metadata": {},
   "outputs": [],
   "source": [
    "# Shapefiles\n",
    "basins_shp = gpd.read_file(merit_bas)\n",
    "rivers_shp = gpd.read_file(merit_riv)"
   ]
  },
  {
   "cell_type": "markdown",
   "id": "dae6bef1",
   "metadata": {},
   "source": [
    "## DEV"
   ]
  },
  {
   "cell_type": "code",
   "execution_count": 5,
   "id": "404e58fa",
   "metadata": {},
   "outputs": [],
   "source": [
    "# Create a temporary directory for subsetting files\n",
    "tmp_dir = Path(data_path) / 'tmp'\n",
    "tmp_dir.mkdir(parents=True, exist_ok=True)"
   ]
  },
  {
   "cell_type": "code",
   "execution_count": 6,
   "id": "8fa03fd7",
   "metadata": {},
   "outputs": [],
   "source": [
    "ii = 0"
   ]
  },
  {
   "cell_type": "code",
   "execution_count": 7,
   "id": "de7edf66",
   "metadata": {},
   "outputs": [],
   "source": [
    "# 1. Prepare file paths and names\n",
    "# --------------------------------------------------------------------------------------\n",
    "shp_lump_path, shp_dist_path, ref_path, plot_path = cs.prepare_delineation_outputs(cs_meta, ii, Path(data_path)/cs_basin_folder)"
   ]
  },
  {
   "cell_type": "code",
   "execution_count": 8,
   "id": "9b5bc6da",
   "metadata": {},
   "outputs": [
    {
     "name": "stdout",
     "output_type": "stream",
     "text": [
      "C:\\Globus endpoint\\CAMELS_spat\\camels-spat-data\\basin_data\\CAN_01AD002\\shapefiles\\lumped\\lumped_01AD002.shp\n",
      "C:\\Globus endpoint\\CAMELS_spat\\camels-spat-data\\basin_data\\CAN_01AD002\\shapefiles\\distributed\\distributed_01AD002_{}.shp\n",
      "C:\\Globus endpoint\\CAMELS_spat\\camels-spat-data\\basin_data\\CAN_01AD002\\shapefiles\\reference\\reference_01AD002.shp\n",
      "C:\\Globus endpoint\\CAMELS_spat\\camels-spat-data\\basin_data\\CAN_01AD002\\shapefiles\\delineation_results_01AD002.png\n"
     ]
    }
   ],
   "source": [
    "print(shp_lump_path)\n",
    "print(shp_dist_path)\n",
    "print(ref_path)\n",
    "print(plot_path)"
   ]
  },
  {
   "cell_type": "code",
   "execution_count": 9,
   "id": "99f50806",
   "metadata": {},
   "outputs": [],
   "source": [
    "# 2. Get the station or outlet location\n",
    "# --------------------------------------------------------------------------------------\n",
    "lat,lon = cs.read_delineation_coords(cs_meta,ii)"
   ]
  },
  {
   "cell_type": "code",
   "execution_count": 10,
   "id": "8442c422",
   "metadata": {},
   "outputs": [
    {
     "name": "stdout",
     "output_type": "stream",
     "text": [
      "47.2577 -68.59414\n"
     ]
    }
   ],
   "source": [
    "print(lat,lon)"
   ]
  },
  {
   "cell_type": "code",
   "execution_count": null,
   "id": "8a41295c",
   "metadata": {},
   "outputs": [],
   "source": [
    "# 3. Delineate the basin\n",
    "# --------------------------------------------------------------------------------------"
   ]
  },
  {
   "cell_type": "code",
   "execution_count": 12,
   "id": "905a5be5",
   "metadata": {},
   "outputs": [],
   "source": [
    "# 3a. Subset the Geotiffs for quicker processing\n",
    "subset_window = cs.determine_pysheds_data_loading_window(lat,lon, str(merit_acc))\n",
    "temp_acc,temp_dir = cs.subset_tifs_around_gauge(subset_window, \n",
    "                                               str(merit_acc), \n",
    "                                               str(merit_dir),\n",
    "                                               temp_dir = tmp_dir)\n",
    "grid,acc,fdir = cs.load_tifs_with_pysheds(str(temp_acc),str(temp_dir))"
   ]
  },
  {
   "cell_type": "code",
   "execution_count": 13,
   "id": "e9eae138",
   "metadata": {},
   "outputs": [
    {
     "name": "stdout",
     "output_type": "stream",
     "text": [
      "(-83.59414, 37.2577, -53.594139999999996, 57.2577)\n",
      "C:\\Globus endpoint\\CAMELS_spat\\tmp\\small_acc.tif C:\\Globus endpoint\\CAMELS_spat\\tmp\\small_fdir.tif\n"
     ]
    }
   ],
   "source": [
    "print(subset_window)\n",
    "print(temp_acc, temp_dir)"
   ]
  },
  {
   "cell_type": "code",
   "execution_count": 14,
   "id": "054ee30e",
   "metadata": {},
   "outputs": [],
   "source": [
    "# 3b. Extract the full basin with pysheds"
   ]
  },
  {
   "cell_type": "code",
   "execution_count": 15,
   "id": "c0a59cb9",
   "metadata": {},
   "outputs": [],
   "source": [
    "with warnings.catch_warnings():\n",
    "    warnings.simplefilter(action='ignore',category=FutureWarning)\n",
    "    lump_basin = cs.delineate_catchment_with_pysheds(grid,lon,lat,fdir,shp_lump_path)"
   ]
  },
  {
   "cell_type": "code",
   "execution_count": 16,
   "id": "9ce61cb1",
   "metadata": {},
   "outputs": [],
   "source": [
    "# 3c. Extract the MERIT Hydro basins and river network"
   ]
  },
  {
   "cell_type": "code",
   "execution_count": 17,
   "id": "405b5290",
   "metadata": {},
   "outputs": [],
   "source": [
    "with warnings.catch_warnings():\n",
    "    warnings.simplefilter(action='ignore',category=FutureWarning)\n",
    "    dist_basin, dist_river = cs.subset_merit_hydro_to_basin(basins_shp, rivers_shp, lump_basin, shp_dist_path, lat, lon)"
   ]
  },
  {
   "cell_type": "code",
   "execution_count": 43,
   "id": "5ffd7d81",
   "metadata": {},
   "outputs": [],
   "source": [
    "# 4. Delineation checks\n",
    "# --------------------------------------------------------------------------------------"
   ]
  },
  {
   "cell_type": "code",
   "execution_count": 27,
   "id": "a384c743",
   "metadata": {},
   "outputs": [],
   "source": [
    "# 4a. Assert shape validity\n",
    "if not all(lump_basin.is_valid): print('ERROR: Lumped shape not valid')\n",
    "if not all(dist_basin.is_valid): print('ERROR: Distributed shape not valid')"
   ]
  },
  {
   "cell_type": "code",
   "execution_count": null,
   "id": "cc89736b",
   "metadata": {},
   "outputs": [],
   "source": []
  },
  {
   "cell_type": "code",
   "execution_count": 50,
   "id": "a489fbf0",
   "metadata": {},
   "outputs": [],
   "source": [
    "def plot_discretization_results(lump_shp, basin_shp, river_shp, ref_file, lat, lon):\n",
    "    \n",
    "    '''Plots lumped and distributed discretization outcomes and reference shape (if available)'''\n",
    "    \n",
    "    import os.path\n",
    "    import geopandas as gpd\n",
    "    import matplotlib.pyplot as plt\n",
    "    \n",
    "    # Handle reference shape\n",
    "    have_ref = False\n",
    "    if os.path.isfile(ref_file):\n",
    "        have_ref = True\n",
    "        ref_shp = gpd.read_file(ref_file)\n",
    "      \n",
    "    # Create the plot\n",
    "    fig, axs = plt.subplots(1,2,figsize=(10,5))\n",
    "    \n",
    "    lump_shp.plot(ax=axs[0])\n",
    "    if have_ref: ref_shp.boundary.plot(ax=axs[0], color='r')\n",
    "    axs[0].plot(lon,lat,'ok')\n",
    "    \n",
    "    \n",
    "    return # nothing"
   ]
  },
  {
   "cell_type": "code",
   "execution_count": 51,
   "id": "6cbd1bd3",
   "metadata": {},
   "outputs": [
    {
     "data": {
      "image/png": "[encoded data removed]",
      "text/plain": [
       "<Figure size 1000x500 with 2 Axes>"
      ]
     },
     "metadata": {},
     "output_type": "display_data"
    }
   ],
   "source": [
    "plot_discretization_results(lump_basin, dist_basin, dist_river, ref_path, lat, lon)"
   ]
  },
  {
   "cell_type": "code",
   "execution_count": null,
   "id": "f5aa103e",
   "metadata": {},
   "outputs": [],
   "source": []
  },
  {
   "cell_type": "code",
   "execution_count": 36,
   "id": "ad9ea399",
   "metadata": {},
   "outputs": [],
   "source": [
    "import matplotlib.pyplot as plt"
   ]
  },
  {
   "cell_type": "code",
   "execution_count": 38,
   "id": "1e06993c",
   "metadata": {},
   "outputs": [
    {
     "data": {
      "image/png": "[encoded data removed]",
      "text/plain": [
       "<Figure size 1000x500 with 2 Axes>"
      ]
     },
     "metadata": {},
     "output_type": "display_data"
    }
   ],
   "source": [
    "fig,axs = plt.subplots(1,2,figsize=(10,5))\n",
    "lump_basin.plot(ax=axs[0])\n",
    "dist_basin.plot(ax=axs[1])\n",
    "dist_river.plot(ax=axs[1],color='b')\n",
    "plt.tight_layout()"
   ]
  },
  {
   "cell_type": "code",
   "execution_count": null,
   "id": "52fd7097",
   "metadata": {},
   "outputs": [],
   "source": []
  },
  {
   "cell_type": "code",
   "execution_count": null,
   "id": "4a20c0be",
   "metadata": {},
   "outputs": [],
   "source": []
  },
  {
   "cell_type": "code",
   "execution_count": 19,
   "id": "62e74eca",
   "metadata": {},
   "outputs": [
    {
     "name": "stdout",
     "output_type": "stream",
     "text": [
      "14664.864\n"
     ]
    }
   ],
   "source": [
    "# 4. Update metadata with delineation outcomes\n",
    "# --------------------------------------------------------------------------------------\n",
    "basin_area = cs.get_merit_hydro_accumulated_upstream_area(grid,acc,lon,lat)\n",
    "print(basin_area)"
   ]
  },
  {
   "cell_type": "code",
   "execution_count": null,
   "id": "dca0570e",
   "metadata": {},
   "outputs": [],
   "source": []
  },
  {
   "cell_type": "markdown",
   "id": "c84067a6",
   "metadata": {},
   "source": [
    "## END DEV"
   ]
  },
  {
   "cell_type": "markdown",
   "id": "ccab40ca",
   "metadata": {},
   "source": [
    "### Delineation"
   ]
  },
  {
   "cell_type": "code",
   "execution_count": 22,
   "id": "b18645ff",
   "metadata": {},
   "outputs": [],
   "source": [
    "def delineation_loop(i):\n",
    "    \n",
    "    '''Delineates basin for station at index i in the CAMELS-spat metadata file'''\n",
    "    \n",
    "    # Input:\n",
    "    # i - index in CAMELS-spat metadata file to process\n",
    "    \n",
    "    # 1. Prepare file paths and names\n",
    "    # --------------------------------------------------------------------------------------\n",
    "    shp_lump_path, shp_dist_path = cs.prepare_delineation_outputs(cs_meta,i)\n",
    "    \n",
    "    # 2. Get the station or outlet location\n",
    "    # --------------------------------------------------------------------------------------\n",
    "    lat,lon = cs.read_delineation_coords(cs_meta,i)\n",
    "    \n",
    "    # 3. Delineate the basin\n",
    "    # --------------------------------------------------------------------------------------\n",
    "    # 3a. Subset the Geotiffs for quicker processing\n",
    "    subset_window = cs.determine_pysheds_data_loading_window(lat,lon, str(merit_acc))\n",
    "    temp_acc,temp_dir = cs.subset_tifs_around_gauge(subset_window, \n",
    "                                                    str(merit_acc), \n",
    "                                                    str(merit_dir),\n",
    "                                                    temp_dir = tmp_dir)\n",
    "    grid,acc,fdir = cs.load_tifs_with_pysheds(temp_acc,temp_dir) # Load the GeoTIFFs\n",
    "        \n",
    "    # 3b. Basin extraction\n",
    "    # Ignore future warnings for this part of the code to avoid screen spam by Shapely and Pandas\n",
    "    with warnings.catch_warnings():\n",
    "        warnings.simplefilter(action='ignore', category=FutureWarning)\n",
    "        \n",
    "        # Extract the full basin with pysheds\n",
    "        lump_basin = cs.delineate_catchment_with_pysheds(grid,lon,lat,fdir,shp_lump_path) # Saves file as part of function\n",
    "        \n",
    "        # Extract the MERIT Hydro basins and river network\n",
    "        dist_basin, dist_river = cs.subset_merit_hydro_to_basin(basins_shp,rivers_shp,lump_basin,shp_dist_path,lat,lon) # Ditto\n",
    "    \n",
    "    # 4. Delineation checks\n",
    "    # --------------------------------------------------------------------------------------\n",
    "    # 4a. Assert shape validity\n",
    "    if not all(lump_basin.is_valid): print('ERROR: Lumped shape not valid') # assert() throws SyntaxWarning over .is_valid\n",
    "    if not all(dist_basin.is_valid): print('ERROR: Distributed shape not valid')\n",
    "    \n",
    "    # 4b. Create an overview figure\n",
    "    \n",
    "    \n",
    "    # 4. Update metadata with delineation outcomes\n",
    "    # --------------------------------------------------------------------------------------\n",
    "    basin_area = cs.get_merit_hydro_accumulated_upstream_area(grid,acc,lon,lat) # [km^2]\n",
    "    \n",
    "    \n",
    "    return"
   ]
  },
  {
   "cell_type": "code",
   "execution_count": 11,
   "id": "f5585e23",
   "metadata": {},
   "outputs": [
    {
     "data": {
      "text/html": [
       "<div>\n",
       "<style scoped>\n",
       "    .dataframe tbody tr th:only-of-type {\n",
       "        vertical-align: middle;\n",
       "    }\n",
       "\n",
       "    .dataframe tbody tr th {\n",
       "        vertical-align: top;\n",
       "    }\n",
       "\n",
       "    .dataframe thead th {\n",
       "        text-align: right;\n",
       "    }\n",
       "</style>\n",
       "<table border=\"1\" class=\"dataframe\">\n",
       "  <thead>\n",
       "    <tr style=\"text-align: right;\">\n",
       "      <th></th>\n",
       "      <th>Country</th>\n",
       "      <th>Station_id</th>\n",
       "      <th>Station_name</th>\n",
       "      <th>Station_lat</th>\n",
       "      <th>Station_lon</th>\n",
       "      <th>Station_source</th>\n",
       "      <th>Outlet_lat</th>\n",
       "      <th>Outlet_lon</th>\n",
       "      <th>Outlet_source</th>\n",
       "      <th>Basin_area_km2</th>\n",
       "      <th>Ref_area_1_src</th>\n",
       "      <th>Ref_area_1_km2</th>\n",
       "      <th>Ref_area_2_src</th>\n",
       "      <th>Ref_area_2_km2</th>\n",
       "      <th>Ref_shape</th>\n",
       "      <th>Ref_shape_source</th>\n",
       "      <th>Ref_shape_area_km2</th>\n",
       "    </tr>\n",
       "  </thead>\n",
       "  <tbody>\n",
       "    <tr>\n",
       "      <th>0</th>\n",
       "      <td>CAN</td>\n",
       "      <td>01AD002</td>\n",
       "      <td>SAINT JOHN RIVER AT FORT KENT</td>\n",
       "      <td>47.25806</td>\n",
       "      <td>-68.59583</td>\n",
       "      <td>WSC 20222 data set</td>\n",
       "      <td>47.257877</td>\n",
       "      <td>-68.594919</td>\n",
       "      <td>WSC 20222 data set</td>\n",
       "      <td>-999</td>\n",
       "      <td>HYDAT gross drainage area</td>\n",
       "      <td>14700.00</td>\n",
       "      <td>HYDAT effective drainage area</td>\n",
       "      <td>NaN</td>\n",
       "      <td>yes</td>\n",
       "      <td>WSC 2022 data set</td>\n",
       "      <td>14677.400000</td>\n",
       "    </tr>\n",
       "    <tr>\n",
       "      <th>1</th>\n",
       "      <td>CAN</td>\n",
       "      <td>01AD003</td>\n",
       "      <td>ST. FRANCIS RIVER AT OUTLET OF GLASIER LAKE</td>\n",
       "      <td>47.20661</td>\n",
       "      <td>-68.95694</td>\n",
       "      <td>WSC 20222 data set</td>\n",
       "      <td>47.206016</td>\n",
       "      <td>-68.956727</td>\n",
       "      <td>WSC 20222 data set</td>\n",
       "      <td>-999</td>\n",
       "      <td>HYDAT gross drainage area</td>\n",
       "      <td>1350.00</td>\n",
       "      <td>HYDAT effective drainage area</td>\n",
       "      <td>NaN</td>\n",
       "      <td>yes</td>\n",
       "      <td>WSC 2022 data set</td>\n",
       "      <td>1348.300000</td>\n",
       "    </tr>\n",
       "    <tr>\n",
       "      <th>2</th>\n",
       "      <td>CAN</td>\n",
       "      <td>01AE001</td>\n",
       "      <td>FISH RIVER NEAR FORT KENT</td>\n",
       "      <td>47.23750</td>\n",
       "      <td>-68.58278</td>\n",
       "      <td>WSC 20222 data set</td>\n",
       "      <td>47.237438</td>\n",
       "      <td>-68.581991</td>\n",
       "      <td>WSC 20222 data set</td>\n",
       "      <td>-999</td>\n",
       "      <td>HYDAT gross drainage area</td>\n",
       "      <td>2260.00</td>\n",
       "      <td>HYDAT effective drainage area</td>\n",
       "      <td>NaN</td>\n",
       "      <td>yes</td>\n",
       "      <td>WSC 2022 data set</td>\n",
       "      <td>2238.950000</td>\n",
       "    </tr>\n",
       "    <tr>\n",
       "      <th>3</th>\n",
       "      <td>CAN</td>\n",
       "      <td>01AF007</td>\n",
       "      <td>GRANDE RIVIERE AT VIOLETTE BRIDGE</td>\n",
       "      <td>47.24697</td>\n",
       "      <td>-67.92128</td>\n",
       "      <td>WSC 20222 data set</td>\n",
       "      <td>47.246908</td>\n",
       "      <td>-67.921271</td>\n",
       "      <td>WSC 20222 data set</td>\n",
       "      <td>-999</td>\n",
       "      <td>HYDAT gross drainage area</td>\n",
       "      <td>339.00</td>\n",
       "      <td>HYDAT effective drainage area</td>\n",
       "      <td>NaN</td>\n",
       "      <td>yes</td>\n",
       "      <td>WSC 2022 data set</td>\n",
       "      <td>325.196000</td>\n",
       "    </tr>\n",
       "    <tr>\n",
       "      <th>4</th>\n",
       "      <td>CAN</td>\n",
       "      <td>01AF009</td>\n",
       "      <td>IROQUOIS RIVER AT MOULIN MORNEAULT</td>\n",
       "      <td>47.45783</td>\n",
       "      <td>-68.35683</td>\n",
       "      <td>WSC 20222 data set</td>\n",
       "      <td>47.457622</td>\n",
       "      <td>-68.356710</td>\n",
       "      <td>WSC 20222 data set</td>\n",
       "      <td>-999</td>\n",
       "      <td>HYDAT gross drainage area</td>\n",
       "      <td>182.00</td>\n",
       "      <td>HYDAT effective drainage area</td>\n",
       "      <td>NaN</td>\n",
       "      <td>yes</td>\n",
       "      <td>WSC 2022 data set</td>\n",
       "      <td>183.430000</td>\n",
       "    </tr>\n",
       "    <tr>\n",
       "      <th>...</th>\n",
       "      <td>...</td>\n",
       "      <td>...</td>\n",
       "      <td>...</td>\n",
       "      <td>...</td>\n",
       "      <td>...</td>\n",
       "      <td>...</td>\n",
       "      <td>...</td>\n",
       "      <td>...</td>\n",
       "      <td>...</td>\n",
       "      <td>...</td>\n",
       "      <td>...</td>\n",
       "      <td>...</td>\n",
       "      <td>...</td>\n",
       "      <td>...</td>\n",
       "      <td>...</td>\n",
       "      <td>...</td>\n",
       "      <td>...</td>\n",
       "    </tr>\n",
       "    <tr>\n",
       "      <th>1693</th>\n",
       "      <td>USA</td>\n",
       "      <td>14309500</td>\n",
       "      <td>WEST FORK COW CREEK NEAR GLENDALE, OR</td>\n",
       "      <td>42.80400</td>\n",
       "      <td>-123.61091</td>\n",
       "      <td>CAMELS-US</td>\n",
       "      <td>-999.000000</td>\n",
       "      <td>-999.000000</td>\n",
       "      <td>NaN</td>\n",
       "      <td>-999</td>\n",
       "      <td>GAGES II area</td>\n",
       "      <td>224.92</td>\n",
       "      <td>Geospatial fabric area</td>\n",
       "      <td>226.31</td>\n",
       "      <td>yes</td>\n",
       "      <td>CAMELS-US data set (HCDN)</td>\n",
       "      <td>226.314346</td>\n",
       "    </tr>\n",
       "    <tr>\n",
       "      <th>1694</th>\n",
       "      <td>USA</td>\n",
       "      <td>14316700</td>\n",
       "      <td>STEAMBOAT CREEK NEAR GLIDE, OR</td>\n",
       "      <td>43.34984</td>\n",
       "      <td>-122.72894</td>\n",
       "      <td>CAMELS-US</td>\n",
       "      <td>-999.000000</td>\n",
       "      <td>-999.000000</td>\n",
       "      <td>NaN</td>\n",
       "      <td>-999</td>\n",
       "      <td>GAGES II area</td>\n",
       "      <td>587.90</td>\n",
       "      <td>Geospatial fabric area</td>\n",
       "      <td>588.01</td>\n",
       "      <td>yes</td>\n",
       "      <td>CAMELS-US data set (HCDN)</td>\n",
       "      <td>588.025033</td>\n",
       "    </tr>\n",
       "    <tr>\n",
       "      <th>1695</th>\n",
       "      <td>USA</td>\n",
       "      <td>14325000</td>\n",
       "      <td>SOUTH FORK COQUILLE RIVER AT POWERS, OR</td>\n",
       "      <td>42.89150</td>\n",
       "      <td>-124.07065</td>\n",
       "      <td>CAMELS-US</td>\n",
       "      <td>-999.000000</td>\n",
       "      <td>-999.000000</td>\n",
       "      <td>NaN</td>\n",
       "      <td>-999</td>\n",
       "      <td>GAGES II area</td>\n",
       "      <td>443.07</td>\n",
       "      <td>Geospatial fabric area</td>\n",
       "      <td>444.92</td>\n",
       "      <td>yes</td>\n",
       "      <td>CAMELS-US data set (HCDN)</td>\n",
       "      <td>444.925651</td>\n",
       "    </tr>\n",
       "    <tr>\n",
       "      <th>1696</th>\n",
       "      <td>USA</td>\n",
       "      <td>14362250</td>\n",
       "      <td>STAR GULCH NEAR RUCH, OR.</td>\n",
       "      <td>42.15401</td>\n",
       "      <td>-123.07532</td>\n",
       "      <td>CAMELS-US</td>\n",
       "      <td>-999.000000</td>\n",
       "      <td>-999.000000</td>\n",
       "      <td>NaN</td>\n",
       "      <td>-999</td>\n",
       "      <td>GAGES II area</td>\n",
       "      <td>41.42</td>\n",
       "      <td>Geospatial fabric area</td>\n",
       "      <td>43.88</td>\n",
       "      <td>yes</td>\n",
       "      <td>CAMELS-US data set (HCDN)</td>\n",
       "      <td>43.877901</td>\n",
       "    </tr>\n",
       "    <tr>\n",
       "      <th>1697</th>\n",
       "      <td>USA</td>\n",
       "      <td>14400000</td>\n",
       "      <td>CHETCO RIVER NEAR BROOKINGS, OR</td>\n",
       "      <td>42.12344</td>\n",
       "      <td>-124.18731</td>\n",
       "      <td>CAMELS-US</td>\n",
       "      <td>-999.000000</td>\n",
       "      <td>-999.000000</td>\n",
       "      <td>NaN</td>\n",
       "      <td>-999</td>\n",
       "      <td>GAGES II area</td>\n",
       "      <td>702.63</td>\n",
       "      <td>Geospatial fabric area</td>\n",
       "      <td>703.37</td>\n",
       "      <td>yes</td>\n",
       "      <td>CAMELS-US data set (HCDN)</td>\n",
       "      <td>703.386532</td>\n",
       "    </tr>\n",
       "  </tbody>\n",
       "</table>\n",
       "<p>1698 rows × 17 columns</p>\n",
       "</div>"
      ],
      "text/plain": [
       "     Country Station_id                                 Station_name  \\\n",
       "0        CAN    01AD002                SAINT JOHN RIVER AT FORT KENT   \n",
       "1        CAN    01AD003  ST. FRANCIS RIVER AT OUTLET OF GLASIER LAKE   \n",
       "2        CAN    01AE001                    FISH RIVER NEAR FORT KENT   \n",
       "3        CAN    01AF007            GRANDE RIVIERE AT VIOLETTE BRIDGE   \n",
       "4        CAN    01AF009           IROQUOIS RIVER AT MOULIN MORNEAULT   \n",
       "...      ...        ...                                          ...   \n",
       "1693     USA   14309500        WEST FORK COW CREEK NEAR GLENDALE, OR   \n",
       "1694     USA   14316700               STEAMBOAT CREEK NEAR GLIDE, OR   \n",
       "1695     USA   14325000      SOUTH FORK COQUILLE RIVER AT POWERS, OR   \n",
       "1696     USA   14362250                    STAR GULCH NEAR RUCH, OR.   \n",
       "1697     USA   14400000              CHETCO RIVER NEAR BROOKINGS, OR   \n",
       "\n",
       "      Station_lat  Station_lon      Station_source  Outlet_lat  Outlet_lon  \\\n",
       "0        47.25806    -68.59583  WSC 20222 data set   47.257877  -68.594919   \n",
       "1        47.20661    -68.95694  WSC 20222 data set   47.206016  -68.956727   \n",
       "2        47.23750    -68.58278  WSC 20222 data set   47.237438  -68.581991   \n",
       "3        47.24697    -67.92128  WSC 20222 data set   47.246908  -67.921271   \n",
       "4        47.45783    -68.35683  WSC 20222 data set   47.457622  -68.356710   \n",
       "...           ...          ...                 ...         ...         ...   \n",
       "1693     42.80400   -123.61091           CAMELS-US -999.000000 -999.000000   \n",
       "1694     43.34984   -122.72894           CAMELS-US -999.000000 -999.000000   \n",
       "1695     42.89150   -124.07065           CAMELS-US -999.000000 -999.000000   \n",
       "1696     42.15401   -123.07532           CAMELS-US -999.000000 -999.000000   \n",
       "1697     42.12344   -124.18731           CAMELS-US -999.000000 -999.000000   \n",
       "\n",
       "           Outlet_source  Basin_area_km2             Ref_area_1_src  \\\n",
       "0     WSC 20222 data set            -999  HYDAT gross drainage area   \n",
       "1     WSC 20222 data set            -999  HYDAT gross drainage area   \n",
       "2     WSC 20222 data set            -999  HYDAT gross drainage area   \n",
       "3     WSC 20222 data set            -999  HYDAT gross drainage area   \n",
       "4     WSC 20222 data set            -999  HYDAT gross drainage area   \n",
       "...                  ...             ...                        ...   \n",
       "1693                 NaN            -999              GAGES II area   \n",
       "1694                 NaN            -999              GAGES II area   \n",
       "1695                 NaN            -999              GAGES II area   \n",
       "1696                 NaN            -999              GAGES II area   \n",
       "1697                 NaN            -999              GAGES II area   \n",
       "\n",
       "      Ref_area_1_km2                 Ref_area_2_src  Ref_area_2_km2 Ref_shape  \\\n",
       "0           14700.00  HYDAT effective drainage area             NaN       yes   \n",
       "1            1350.00  HYDAT effective drainage area             NaN       yes   \n",
       "2            2260.00  HYDAT effective drainage area             NaN       yes   \n",
       "3             339.00  HYDAT effective drainage area             NaN       yes   \n",
       "4             182.00  HYDAT effective drainage area             NaN       yes   \n",
       "...              ...                            ...             ...       ...   \n",
       "1693          224.92         Geospatial fabric area          226.31       yes   \n",
       "1694          587.90         Geospatial fabric area          588.01       yes   \n",
       "1695          443.07         Geospatial fabric area          444.92       yes   \n",
       "1696           41.42         Geospatial fabric area           43.88       yes   \n",
       "1697          702.63         Geospatial fabric area          703.37       yes   \n",
       "\n",
       "               Ref_shape_source  Ref_shape_area_km2  \n",
       "0             WSC 2022 data set        14677.400000  \n",
       "1             WSC 2022 data set         1348.300000  \n",
       "2             WSC 2022 data set         2238.950000  \n",
       "3             WSC 2022 data set          325.196000  \n",
       "4             WSC 2022 data set          183.430000  \n",
       "...                         ...                 ...  \n",
       "1693  CAMELS-US data set (HCDN)          226.314346  \n",
       "1694  CAMELS-US data set (HCDN)          588.025033  \n",
       "1695  CAMELS-US data set (HCDN)          444.925651  \n",
       "1696  CAMELS-US data set (HCDN)           43.877901  \n",
       "1697  CAMELS-US data set (HCDN)          703.386532  \n",
       "\n",
       "[1698 rows x 17 columns]"
      ]
     },
     "execution_count": 11,
     "metadata": {},
     "output_type": "execute_result"
    }
   ],
   "source": [
    "cs_meta"
   ]
  },
  {
   "cell_type": "code",
   "execution_count": 10,
   "id": "d37e72b5",
   "metadata": {},
   "outputs": [],
   "source": [
    "# Create a temporary directory for subsetting files\n",
    "tmp_dir = Path(data_path) / 'tmp'\n",
    "tmp_dir.mkdir(parents=True, exist_ok=True)"
   ]
  },
  {
   "cell_type": "code",
   "execution_count": null,
   "id": "8f8eb0d4",
   "metadata": {},
   "outputs": [],
   "source": [
    "# Remove the temporary directory"
   ]
  }
 ],
 "metadata": {
  "kernelspec": {
   "display_name": "camels-spat-env",
   "language": "python",
   "name": "camels-spat-env"
  },
  "language_info": {
   "codemirror_mode": {
    "name": "ipython",
    "version": 3
   },
   "file_extension": ".py",
   "mimetype": "text/x-python",
   "name": "python",
   "nbconvert_exporter": "python",
   "pygments_lexer": "ipython3",
   "version": "3.8.2"
  }
 },
 "nbformat": 4,
 "nbformat_minor": 5
}
