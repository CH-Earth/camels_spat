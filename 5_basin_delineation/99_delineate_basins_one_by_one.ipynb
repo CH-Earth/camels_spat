{
 "cells": [
  {
   "cell_type": "markdown",
   "id": "121fd83e",
   "metadata": {},
   "source": [
    "# Delineate basins 1-by-1\n",
    "This is a working script used to delineate basins using the MERIT Hydro data (DEM, flow direction, basin discretization). CAMELS-US and RHBN metadata about station locations do not always lead to accurate basin delineation. In this script we go through the basins one by one, so that we can manually modify the outlet location in the CAMELS-spat metadata file for basins for which the original station or outlet location is not a good fit with the MERIT DEM. This also lets us add extra notes about the confidence we have in this manually moved outlet and therefore the resulting basin outline. \n",
    "\n",
    "Workflow:\n",
    "1. Load the required data:\n",
    "    1. CAMELS-spat metadata file\n",
    "    2. MERIT Hydro DEM\n",
    "    3. MERIT Hydro flow direction\n",
    "    4. MERIT Hydro basin discretization\n",
    "2. Manually loop over all catchments. For each catchment:\n",
    "    1. Read the station or outlet locations\n",
    "    2. Delineate basin from station/outlet location:\n",
    "        1. Create a subset of the GeoTIFF files for quicker processing\n",
    "        2. Delineate basin\n",
    "        3. Get the appropriate MERIT Hydro shapefiles\n",
    "        4. Fix up the most downstream MERIT Hydro polygon\n",
    "    3. Perform checks and add results to metadata file\n",
    "        1. Calculate new basin area\n",
    "        2. If reference area(s) exist, print a comparison\n",
    "        3. If reference shapefile exists, compute overlap between reference and new shape\n",
    "    4. Make a decision:\n",
    "        1. If area and overlap are OK, use the current station or outlet location\n",
    "        2. If no area or reference shape are available, do a manual check\n",
    "        3. If area and overlap are not OK, go to file `1_manually_define_outlets` and:\n",
    "            1. Update outlet location\n",
    "            2. Record what changes were made and why\n",
    "    5. Save new shape:\n",
    "        1. As a lumped catchment discretization\n",
    "        2. As a spatially-distributed discretization\n",
    "3. Save the updated metadata file"
   ]
  },
  {
   "cell_type": "code",
   "execution_count": 1,
   "id": "e78b91f8",
   "metadata": {},
   "outputs": [],
   "source": [
    "import sys\n",
    "import pandas as pd\n",
    "import geopandas as gpd\n",
    "from pathlib import Path\n",
    "sys.path.append(str(Path().absolute().parent))\n",
    "import python_cs_functions as cs"
   ]
  },
  {
   "cell_type": "markdown",
   "id": "73793dff",
   "metadata": {},
   "source": [
    "### Config handling"
   ]
  },
  {
   "cell_type": "code",
   "execution_count": 2,
   "id": "0bd4a19f",
   "metadata": {},
   "outputs": [],
   "source": [
    "# Specify where the config file can be found\n",
    "config_file = '../0_config/config.txt'"
   ]
  },
  {
   "cell_type": "code",
   "execution_count": 3,
   "id": "4855e428",
   "metadata": {},
   "outputs": [],
   "source": [
    "# Get the required info from the config file\n",
    "data_path     = cs.read_from_config(config_file,'data_path')\n",
    "\n",
    "# CAMELS-spat metadata\n",
    "cs_meta_path  = cs.read_from_config(config_file,'cs_basin_path')\n",
    "cs_meta_name  = cs.read_from_config(config_file,'cs_meta_name')\n",
    "\n",
    "# MERIT Hydro data\n",
    "merit_path = cs.read_from_config(config_file, 'merit_path')\n",
    "merit_acc = Path(data_path) / merit_path / 'flow_accumulation_grid' / 'merit_hydro_acc.tif'\n",
    "merit_dir = Path(data_path) / merit_path / 'flow_direction_grid' / 'merit_hydro_dir.tif'\n",
    "merit_bas = Path(data_path) / merit_path / 'shapes' / 'basins' / 'cat_pfaf_7_8_MERIT_Hydro_v07_Basins_v01_bugfix1_hillslopes_pfaf_7_8_clean_fixed.shp'\n",
    "merit_riv = Path(data_path) / merit_path / 'shapes' / 'rivers' / 'riv_pfaf_7_8_MERIT_Hydro_v07_Basins_v01_bugfix1.shp'\n",
    "\n",
    "# Basin folder\n",
    "cs_basin_folder = cs.read_from_config(config_file, 'cs_basin_path')"
   ]
  },
  {
   "cell_type": "markdown",
   "id": "59f6f7d7",
   "metadata": {},
   "source": [
    "### Data loading"
   ]
  },
  {
   "cell_type": "code",
   "execution_count": 4,
   "id": "6c6e1dc7",
   "metadata": {},
   "outputs": [],
   "source": [
    "# CAMELS-spat metadata file\n",
    "cs_meta_path = Path(data_path) / cs_meta_path\n",
    "cs_meta = pd.read_csv(cs_meta_path / cs_meta_name)"
   ]
  },
  {
   "cell_type": "code",
   "execution_count": 5,
   "id": "84f6eb60",
   "metadata": {},
   "outputs": [],
   "source": [
    "# Shapefiles\n",
    "basins_shp = gpd.read_file(merit_bas)\n",
    "rivers_shp = gpd.read_file(merit_riv)"
   ]
  },
  {
   "cell_type": "markdown",
   "id": "dae6bef1",
   "metadata": {},
   "source": [
    "## DEV"
   ]
  },
  {
   "cell_type": "code",
   "execution_count": 6,
   "id": "404e58fa",
   "metadata": {},
   "outputs": [],
   "source": [
    "# Create a temporary directory for subsetting files\n",
    "tmp_dir = Path(data_path) / 'tmp'\n",
    "tmp_dir.mkdir(parents=True, exist_ok=True)"
   ]
  },
  {
   "cell_type": "code",
   "execution_count": 7,
   "id": "8fa03fd7",
   "metadata": {},
   "outputs": [],
   "source": [
    "ii = 0"
   ]
  },
  {
   "cell_type": "code",
   "execution_count": 8,
   "id": "de7edf66",
   "metadata": {},
   "outputs": [
    {
     "name": "stdout",
     "output_type": "stream",
     "text": [
      "C:\\Globus endpoint\\CAMELS_spat\\camels-spat-data\\basin_data\\CAN_01AD002\\shapefiles\\lumped\\lumped_01AD002.shp \n",
      " C:\\Globus endpoint\\CAMELS_spat\\camels-spat-data\\basin_data\\CAN_01AD002\\shapefiles\\distributed\\distributed_01AD002_{}.shp\n"
     ]
    }
   ],
   "source": [
    "# 1. Prepare file paths and names\n",
    "# --------------------------------------------------------------------------------------\n",
    "shp_lump_path, shp_dist_path = cs.prepare_delineation_outputs(cs_meta, ii, Path(data_path)/cs_basin_folder)\n",
    "print(shp_lump_path, '\\n', shp_dist_path)"
   ]
  },
  {
   "cell_type": "code",
   "execution_count": 9,
   "id": "99f50806",
   "metadata": {},
   "outputs": [
    {
     "name": "stdout",
     "output_type": "stream",
     "text": [
      "47.2577 -68.59414\n"
     ]
    }
   ],
   "source": [
    "# 2. Get the station or outlet location\n",
    "# --------------------------------------------------------------------------------------\n",
    "lat,lon = cs.read_delineation_coords(cs_meta,ii)\n",
    "print(lat,lon)"
   ]
  },
  {
   "cell_type": "code",
   "execution_count": 10,
   "id": "8a41295c",
   "metadata": {},
   "outputs": [],
   "source": [
    "# 3. Delineate the basin\n",
    "# --------------------------------------------------------------------------------------"
   ]
  },
  {
   "cell_type": "code",
   "execution_count": 11,
   "id": "905a5be5",
   "metadata": {},
   "outputs": [
    {
     "name": "stdout",
     "output_type": "stream",
     "text": [
      "(-83.59414, 37.2577, -53.594139999999996, 57.2577)\n",
      "C:\\Globus endpoint\\CAMELS_spat\\tmp\\small_acc.tif C:\\Globus endpoint\\CAMELS_spat\\tmp\\small_fdir.tif\n"
     ]
    }
   ],
   "source": [
    "# 3a. Subset the Geotiffs for quicker processing\n",
    "subset_window = cs.determine_pysheds_data_loading_window(lat,lon, str(merit_acc))\n",
    "print(subset_window)\n",
    "\n",
    "temp_acc,temp_dir = cs.subset_tifs_around_gauge(subset_window, \n",
    "                                               str(merit_acc), \n",
    "                                               str(merit_dir),\n",
    "                                               temp_dir = tmp_dir)\n",
    "print(temp_acc, temp_dir)"
   ]
  },
  {
   "cell_type": "code",
   "execution_count": 12,
   "id": "054ee30e",
   "metadata": {},
   "outputs": [],
   "source": [
    "# 3b. Extract the full basin with pysheds\n",
    "grid,acc,fdir = cs.load_tifs_with_pysheds(str(temp_acc),str(temp_dir))"
   ]
  },
  {
   "cell_type": "code",
   "execution_count": 13,
   "id": "c0a59cb9",
   "metadata": {},
   "outputs": [],
   "source": [
    "lump_basin = cs.delineate_catchment_with_pysheds(grid,lon,lat,fdir,shp_lump_path)"
   ]
  },
  {
   "cell_type": "code",
   "execution_count": 14,
   "id": "a60863a3",
   "metadata": {},
   "outputs": [
    {
     "data": {
      "text/plain": [
       "<AxesSubplot: >"
      ]
     },
     "execution_count": 14,
     "metadata": {},
     "output_type": "execute_result"
    },
    {
     "data": {
      "image/png": "[encoded data removed]",
      "text/plain": [
       "<Figure size 640x480 with 1 Axes>"
      ]
     },
     "metadata": {},
     "output_type": "display_data"
    }
   ],
   "source": [
    "lump_basin.plot()"
   ]
  },
  {
   "cell_type": "code",
   "execution_count": 41,
   "id": "bcd2cb00",
   "metadata": {},
   "outputs": [
    {
     "name": "stderr",
     "output_type": "stream",
     "text": [
      "C:\\Globus endpoint\\CAMELS_spat\\camels-spat-env\\lib\\site-packages\\geopandas\\tools\\clip.py:67: FutureWarning: In a future version, `df.iloc[:, i] = newvals` will attempt to set the values inplace instead of always setting a new array. To retain the old behavior, use either `df[df.columns[i]] = newvals` or, if columns are non-unique, `df.isetitem(i, newvals)`\n",
      "  clipped.loc[\n",
      "C:\\Globus endpoint\\CAMELS_spat\\camels-spat-env\\lib\\site-packages\\geopandas\\tools\\clip.py:67: FutureWarning: In a future version, `df.iloc[:, i] = newvals` will attempt to set the values inplace instead of always setting a new array. To retain the old behavior, use either `df[df.columns[i]] = newvals` or, if columns are non-unique, `df.isetitem(i, newvals)`\n",
      "  clipped.loc[\n"
     ]
    }
   ],
   "source": [
    "# 3c. Extract the MERIT Hydro basins and river network\n",
    "dist_basin, dist_river = subset_merit_hydro_to_basin(basins_shp, rivers_shp, lump_basin, shp_dist_path)"
   ]
  },
  {
   "cell_type": "code",
   "execution_count": 38,
   "id": "f17e8ee9",
   "metadata": {},
   "outputs": [],
   "source": [
    "def subset_merit_hydro_to_basin(basins, rivers, mask, shapefile_path):\n",
    "    \n",
    "    '''Subsets the larger MERIT Hydro shapes (basins and rivers) to the delineated lumped basin outline. \n",
    "    \n",
    "    This /should/ work because both lumped and existing MERIT Hydro basin delineations are based on the \n",
    "    same DEM, and therefore lumped basin outline should map almost perfectly on the existing MERIT Hydro\n",
    "    outlines. As an added benefit we automatically subset the most downstream MERIT Hydro sub-basin to\n",
    "    end exactly at the station location.\n",
    "    \n",
    "    Inputs:\n",
    "    - basins: MERIT Hydro basin delineation in EPSG:4326\n",
    "    - rivers: MERIT Hydro river delineation in EPSG:4326\n",
    "    - mask: Lumped catchment outline delineated with Pysheds in EPSG:4326\n",
    "    - shapefile_path: path and name of where to save the resulting .shp, with a wildcard to add basin/river specification.\n",
    "                      Example: /path/to/shape_{}.shp\n",
    "    \n",
    "    Returns:\n",
    "    - Shapefile containing the distributed basin outlines\n",
    "    - Shapefile containing the distributed river locations\n",
    "    '''\n",
    "    \n",
    "    import geopandas as gpd\n",
    "    \n",
    "    # Basins\n",
    "    dist_basin = subset_shape(basins, mask, 'COMID')\n",
    "    dist_basin['unitarea'] = calculate_area(dist_basin, ) # Area of most downstream geometry needs to be updated\n",
    "    dist_basin.to_file( str(shp_dist_path).format('basins') )\n",
    "    \n",
    "    # Rivers\n",
    "    dist_river = subset_shape(rivers, mask, 'COMID')\n",
    "    dist_river.to_file( str(shp_dist_path).format('river') )\n",
    "    \n",
    "    return dist_basin, dist_river"
   ]
  },
  {
   "cell_type": "code",
   "execution_count": 40,
   "id": "15870f6c",
   "metadata": {},
   "outputs": [],
   "source": [
    "def subset_shape(shape_in, mask, dissolve_column):\n",
    "    \n",
    "    '''Subsets a shape by another and dissolves the result based on column values.\n",
    "    \n",
    "    This is needed because the MERIT Hydro basins and the lumped shape overlap almost\n",
    "    exactly, and this results in tons of very small polygons along the edges of the \n",
    "    lumped shape when using Geopandas.clip(MERIT, lumped).\n",
    "    \n",
    "    Inputs:\n",
    "    - shape_in: larger shape\n",
    "    - mask: smaller shape\n",
    "    - dissolve_column: name of the column to dissolve by\n",
    "    \n",
    "    Returns:\n",
    "    - Subset of [shape_in] to [mask], dissolved by [dissolve_column]\n",
    "    '''\n",
    "    \n",
    "    # Get the cut-out\n",
    "    # keep_geom_type = True ensures we end up with just polygons and not Linestrings, because Linestrings don't save nicely\n",
    "    shape_out = gpd.clip(shape_in, mask, keep_geom_type=True)\n",
    "    \n",
    "    # Merge all 1-pixel polygons into their parent polygon\n",
    "    shape_out = shape_out.dissolve(by=dissolve_column)\n",
    "    \n",
    "    return shape_out"
   ]
  },
  {
   "cell_type": "code",
   "execution_count": null,
   "id": "a90934e4",
   "metadata": {},
   "outputs": [],
   "source": [
    "def calculate_area(shape, crs='ESRI:102008'):\n",
    "    \n",
    "    '''Calculates the area for each geometry inside a shapefile using the specified Coordinate Reference System'''\n",
    "    \n",
    "    \n",
    "    "
   ]
  },
  {
   "cell_type": "code",
   "execution_count": null,
   "id": "4aa037a1",
   "metadata": {},
   "outputs": [],
   "source": []
  },
  {
   "cell_type": "code",
   "execution_count": null,
   "id": "a7e49cc6",
   "metadata": {},
   "outputs": [],
   "source": []
  },
  {
   "cell_type": "code",
   "execution_count": 45,
   "id": "cc01411e",
   "metadata": {},
   "outputs": [],
   "source": [
    "dist_basin_albers = dist_basin.to_crs('ESRI:102008')"
   ]
  },
  {
   "cell_type": "code",
   "execution_count": 49,
   "id": "0d31e8fb",
   "metadata": {},
   "outputs": [],
   "source": [
    "dist_basin_albers['new_area'] = dist_basin_albers.area / 10**6"
   ]
  },
  {
   "cell_type": "code",
   "execution_count": 50,
   "id": "c2b9a69a",
   "metadata": {},
   "outputs": [
    {
     "data": {
      "text/html": [
       "<div>\n",
       "<style scoped>\n",
       "    .dataframe tbody tr th:only-of-type {\n",
       "        vertical-align: middle;\n",
       "    }\n",
       "\n",
       "    .dataframe tbody tr th {\n",
       "        vertical-align: top;\n",
       "    }\n",
       "\n",
       "    .dataframe thead th {\n",
       "        text-align: right;\n",
       "    }\n",
       "</style>\n",
       "<table border=\"1\" class=\"dataframe\">\n",
       "  <thead>\n",
       "    <tr style=\"text-align: right;\">\n",
       "      <th></th>\n",
       "      <th>geometry</th>\n",
       "      <th>unitarea</th>\n",
       "      <th>new_area</th>\n",
       "    </tr>\n",
       "    <tr>\n",
       "      <th>COMID</th>\n",
       "      <th></th>\n",
       "      <th></th>\n",
       "      <th></th>\n",
       "    </tr>\n",
       "  </thead>\n",
       "  <tbody>\n",
       "    <tr>\n",
       "      <th>72034983</th>\n",
       "      <td>POLYGON ((1870243.339 1153615.133, 1870270.642...</td>\n",
       "      <td>4.787341</td>\n",
       "      <td>4.787341e+00</td>\n",
       "    </tr>\n",
       "    <tr>\n",
       "      <th>72035003</th>\n",
       "      <td>MULTIPOLYGON (((1893156.099 1147998.252, 18931...</td>\n",
       "      <td>236.375941</td>\n",
       "      <td>2.155653e-07</td>\n",
       "    </tr>\n",
       "    <tr>\n",
       "      <th>72035038</th>\n",
       "      <td>POLYGON ((1865240.688 1152170.306, 1865295.148...</td>\n",
       "      <td>44.897822</td>\n",
       "      <td>4.489782e+01</td>\n",
       "    </tr>\n",
       "    <tr>\n",
       "      <th>72036048</th>\n",
       "      <td>MULTIPOLYGON (((1870042.021 1161331.330, 18700...</td>\n",
       "      <td>37.734791</td>\n",
       "      <td>3.773479e+01</td>\n",
       "    </tr>\n",
       "    <tr>\n",
       "      <th>72036142</th>\n",
       "      <td>POLYGON ((1869304.173 1163879.626, 1869440.810...</td>\n",
       "      <td>9.269285</td>\n",
       "      <td>9.269285e+00</td>\n",
       "    </tr>\n",
       "    <tr>\n",
       "      <th>...</th>\n",
       "      <td>...</td>\n",
       "      <td>...</td>\n",
       "      <td>...</td>\n",
       "    </tr>\n",
       "    <tr>\n",
       "      <th>73000406</th>\n",
       "      <td>MULTIPOLYGON (((1884010.519 995100.619, 188406...</td>\n",
       "      <td>98.408483</td>\n",
       "      <td>4.822220e-08</td>\n",
       "    </tr>\n",
       "    <tr>\n",
       "      <th>73000409</th>\n",
       "      <td>MULTIPOLYGON (((1916748.286 1013719.442, 19167...</td>\n",
       "      <td>88.432548</td>\n",
       "      <td>2.890867e-07</td>\n",
       "    </tr>\n",
       "    <tr>\n",
       "      <th>73000411</th>\n",
       "      <td>MULTIPOLYGON (((1881819.785 1009209.440, 18818...</td>\n",
       "      <td>77.054231</td>\n",
       "      <td>5.962680e-13</td>\n",
       "    </tr>\n",
       "    <tr>\n",
       "      <th>73000415</th>\n",
       "      <td>MULTIPOLYGON (((1883254.637 1021793.429, 18832...</td>\n",
       "      <td>38.741971</td>\n",
       "      <td>2.558227e-07</td>\n",
       "    </tr>\n",
       "    <tr>\n",
       "      <th>73000416</th>\n",
       "      <td>MULTIPOLYGON (((1879172.570 1013878.058, 18791...</td>\n",
       "      <td>65.305384</td>\n",
       "      <td>6.395702e-08</td>\n",
       "    </tr>\n",
       "  </tbody>\n",
       "</table>\n",
       "<p>418 rows × 3 columns</p>\n",
       "</div>"
      ],
      "text/plain": [
       "                                                   geometry    unitarea  \\\n",
       "COMID                                                                     \n",
       "72034983  POLYGON ((1870243.339 1153615.133, 1870270.642...    4.787341   \n",
       "72035003  MULTIPOLYGON (((1893156.099 1147998.252, 18931...  236.375941   \n",
       "72035038  POLYGON ((1865240.688 1152170.306, 1865295.148...   44.897822   \n",
       "72036048  MULTIPOLYGON (((1870042.021 1161331.330, 18700...   37.734791   \n",
       "72036142  POLYGON ((1869304.173 1163879.626, 1869440.810...    9.269285   \n",
       "...                                                     ...         ...   \n",
       "73000406  MULTIPOLYGON (((1884010.519 995100.619, 188406...   98.408483   \n",
       "73000409  MULTIPOLYGON (((1916748.286 1013719.442, 19167...   88.432548   \n",
       "73000411  MULTIPOLYGON (((1881819.785 1009209.440, 18818...   77.054231   \n",
       "73000415  MULTIPOLYGON (((1883254.637 1021793.429, 18832...   38.741971   \n",
       "73000416  MULTIPOLYGON (((1879172.570 1013878.058, 18791...   65.305384   \n",
       "\n",
       "              new_area  \n",
       "COMID                   \n",
       "72034983  4.787341e+00  \n",
       "72035003  2.155653e-07  \n",
       "72035038  4.489782e+01  \n",
       "72036048  3.773479e+01  \n",
       "72036142  9.269285e+00  \n",
       "...                ...  \n",
       "73000406  4.822220e-08  \n",
       "73000409  2.890867e-07  \n",
       "73000411  5.962680e-13  \n",
       "73000415  2.558227e-07  \n",
       "73000416  6.395702e-08  \n",
       "\n",
       "[418 rows x 3 columns]"
      ]
     },
     "execution_count": 50,
     "metadata": {},
     "output_type": "execute_result"
    }
   ],
   "source": [
    "dist_basin_albers"
   ]
  },
  {
   "cell_type": "code",
   "execution_count": null,
   "id": "c3172598",
   "metadata": {},
   "outputs": [],
   "source": []
  },
  {
   "cell_type": "code",
   "execution_count": null,
   "id": "74d4c7c5",
   "metadata": {},
   "outputs": [],
   "source": []
  },
  {
   "cell_type": "code",
   "execution_count": 15,
   "id": "f4753f13",
   "metadata": {},
   "outputs": [],
   "source": [
    "from shapely.validation import make_valid"
   ]
  },
  {
   "cell_type": "code",
   "execution_count": 35,
   "id": "4074f8ad",
   "metadata": {},
   "outputs": [],
   "source": [
    "def fix_geom(in_feature):\n",
    "    \n",
    "    '''Fixes polygon geometries if invalid\n",
    "       \n",
    "       Source: https://stackoverflow.com/a/71231092\n",
    "       Modified by Wouter Knoben, University of Saskatchewan, 2022\n",
    "    '''\n",
    "\n",
    "    # avoid changing original geodf\n",
    "    in_feature = in_feature.copy(deep=True)    \n",
    "        \n",
    "    # drop any missing geometries\n",
    "    in_feature = in_feature[~(in_feature.is_empty)]\n",
    "    \n",
    "    # Repair broken geometries\n",
    "    for index, row in in_feature.iterrows(): # Looping over all polygons\n",
    "        if row['geometry'].is_valid:\n",
    "            next\n",
    "        else:\n",
    "            fix = make_valid(row['geometry'])\n",
    "\n",
    "            try:\n",
    "                in_feature.loc[[index],'geometry'] =  fix # issue with Poly > Multipolygon\n",
    "            except ValueError:\n",
    "                in_feature.loc[[index],'geometry'] =  in_feature.loc[[index], 'geometry'].buffer(0)\n",
    "    return in_feature"
   ]
  },
  {
   "cell_type": "code",
   "execution_count": 38,
   "id": "31daac28",
   "metadata": {},
   "outputs": [
    {
     "data": {
      "text/plain": [
       "0    False\n",
       "dtype: bool"
      ]
     },
     "execution_count": 38,
     "metadata": {},
     "output_type": "execute_result"
    }
   ],
   "source": [
    "full_basin.is_valid"
   ]
  },
  {
   "cell_type": "code",
   "execution_count": 39,
   "id": "759da1bc",
   "metadata": {},
   "outputs": [
    {
     "name": "stderr",
     "output_type": "stream",
     "text": [
      "C:\\Globus endpoint\\CAMELS_spat\\camels-spat-env\\lib\\site-packages\\numpy\\core\\fromnumeric.py:3156: ShapelyDeprecationWarning: __len__ for multi-part geometries is deprecated and will be removed in Shapely 2.0. Check the length of the `geoms` property instead to get the  number of parts of a multi-part geometry.\n",
      "  return asarray(a).ndim\n",
      "C:\\Globus endpoint\\CAMELS_spat\\camels-spat-env\\lib\\site-packages\\numpy\\core\\fromnumeric.py:3156: ShapelyDeprecationWarning: Iteration over multi-part geometries is deprecated and will be removed in Shapely 2.0. Use the `geoms` property to access the constituent parts of a multi-part geometry.\n",
      "  return asarray(a).ndim\n",
      "C:\\Globus endpoint\\CAMELS_spat\\camels-spat-env\\lib\\site-packages\\pandas\\core\\indexing.py:1836: ShapelyDeprecationWarning: __len__ for multi-part geometries is deprecated and will be removed in Shapely 2.0. Check the length of the `geoms` property instead to get the  number of parts of a multi-part geometry.\n",
      "  elif len(ilocs) == 1 and lplane_indexer == len(value) and not is_scalar(pi):\n",
      "C:\\Globus endpoint\\CAMELS_spat\\camels-spat-env\\lib\\site-packages\\pandas\\core\\indexing.py:1840: ShapelyDeprecationWarning: __len__ for multi-part geometries is deprecated and will be removed in Shapely 2.0. Check the length of the `geoms` property instead to get the  number of parts of a multi-part geometry.\n",
      "  elif len(ilocs) == 1 and 0 != lplane_indexer != len(value):\n",
      "C:\\Globus endpoint\\CAMELS_spat\\camels-spat-env\\lib\\site-packages\\pandas\\core\\indexing.py:1845: ShapelyDeprecationWarning: __len__ for multi-part geometries is deprecated and will be removed in Shapely 2.0. Check the length of the `geoms` property instead to get the  number of parts of a multi-part geometry.\n",
      "  if len(value) == 1 and not is_integer(info_axis):\n",
      "C:\\Users\\wmk934\\AppData\\Local\\Temp\\1\\ipykernel_17880\\1748989139.py:19: FutureWarning: In a future version, `df.iloc[:, i] = newvals` will attempt to set the values inplace instead of always setting a new array. To retain the old behavior, use either `df[df.columns[i]] = newvals` or, if columns are non-unique, `df.isetitem(i, newvals)`\n",
      "  in_feature.loc[[index],'geometry'] =  in_feature.loc[[index], 'geometry'].buffer(0)\n"
     ]
    }
   ],
   "source": [
    "lump_basin_fixed = fix_geom(lump_basin)"
   ]
  },
  {
   "cell_type": "code",
   "execution_count": null,
   "id": "4a20c0be",
   "metadata": {},
   "outputs": [],
   "source": []
  },
  {
   "cell_type": "code",
   "execution_count": 19,
   "id": "62e74eca",
   "metadata": {},
   "outputs": [
    {
     "name": "stdout",
     "output_type": "stream",
     "text": [
      "14664.864\n"
     ]
    }
   ],
   "source": [
    "# 4. Update metadata with delineation outcomes\n",
    "# --------------------------------------------------------------------------------------\n",
    "basin_area = cs.get_merit_hydro_accumulated_upstream_area(grid,acc,lon,lat)\n",
    "print(basin_area)"
   ]
  },
  {
   "cell_type": "code",
   "execution_count": null,
   "id": "dca0570e",
   "metadata": {},
   "outputs": [],
   "source": []
  },
  {
   "cell_type": "markdown",
   "id": "c84067a6",
   "metadata": {},
   "source": [
    "## END DEV"
   ]
  },
  {
   "cell_type": "markdown",
   "id": "ccab40ca",
   "metadata": {},
   "source": [
    "### Delineation"
   ]
  },
  {
   "cell_type": "code",
   "execution_count": 22,
   "id": "b18645ff",
   "metadata": {},
   "outputs": [],
   "source": [
    "def delineation_loop(i):\n",
    "    \n",
    "    '''Delineates basin for station at index i in the CAMELS-spat metadata file'''\n",
    "    \n",
    "    # Input:\n",
    "    # i - index in CAMELS-spat metadata file to process\n",
    "    \n",
    "    # 1. Prepare file paths and names\n",
    "    # --------------------------------------------------------------------------------------\n",
    "    shp_lump_path, shp_dist_path = cs.prepare_delineation_outputs(cs_meta,i)\n",
    "    \n",
    "    # 2. Get the station or outlet location\n",
    "    # --------------------------------------------------------------------------------------\n",
    "    lat,lon = cs.read_delineation_coords(cs_meta,i)\n",
    "    \n",
    "    # 3. Delineate the basin\n",
    "    # --------------------------------------------------------------------------------------\n",
    "    # 3a. Subset the Geotiffs for quicker processing\n",
    "    subset_window = cs.determine_pysheds_data_loading_window(lat,lon, str(merit_acc))\n",
    "    temp_acc,temp_dir = cs.subset_tifs_around_gauge(subset_window, \n",
    "                                                    str(merit_acc), \n",
    "                                                    str(merit_dir),\n",
    "                                                    temp_dir = tmp_dir)\n",
    "    \n",
    "    # 3b. Extract the full basin with pysheds\n",
    "    grid,acc,fdir = cs.load_tifs_with_pysheds(temp_acc,temp_dir) # Load the GeoTIFFs\n",
    "    lump_basin = cs.delineate_catchment_with_pysheds(grid,lon,lat,fdir,shp_lump_path) # Saves lumped file as part of function\n",
    "        \n",
    "    # 3c. Extract the MERIT Hydro basins and river network\n",
    "    \n",
    "    \n",
    "    \n",
    "    # 4. Update metadata with delineation outcomes\n",
    "    # --------------------------------------------------------------------------------------\n",
    "    basin_area = cs.get_merit_hydro_accumulated_upstream_area(grid,acc,lon,lat) # [km^2]\n",
    "    \n",
    "    \n",
    "    return"
   ]
  },
  {
   "cell_type": "code",
   "execution_count": 11,
   "id": "f5585e23",
   "metadata": {},
   "outputs": [
    {
     "data": {
      "text/html": [
       "<div>\n",
       "<style scoped>\n",
       "    .dataframe tbody tr th:only-of-type {\n",
       "        vertical-align: middle;\n",
       "    }\n",
       "\n",
       "    .dataframe tbody tr th {\n",
       "        vertical-align: top;\n",
       "    }\n",
       "\n",
       "    .dataframe thead th {\n",
       "        text-align: right;\n",
       "    }\n",
       "</style>\n",
       "<table border=\"1\" class=\"dataframe\">\n",
       "  <thead>\n",
       "    <tr style=\"text-align: right;\">\n",
       "      <th></th>\n",
       "      <th>Country</th>\n",
       "      <th>Station_id</th>\n",
       "      <th>Station_name</th>\n",
       "      <th>Station_lat</th>\n",
       "      <th>Station_lon</th>\n",
       "      <th>Station_source</th>\n",
       "      <th>Outlet_lat</th>\n",
       "      <th>Outlet_lon</th>\n",
       "      <th>Outlet_source</th>\n",
       "      <th>Basin_area_km2</th>\n",
       "      <th>Ref_area_1_src</th>\n",
       "      <th>Ref_area_1_km2</th>\n",
       "      <th>Ref_area_2_src</th>\n",
       "      <th>Ref_area_2_km2</th>\n",
       "      <th>Ref_shape</th>\n",
       "      <th>Ref_shape_source</th>\n",
       "      <th>Ref_shape_area_km2</th>\n",
       "    </tr>\n",
       "  </thead>\n",
       "  <tbody>\n",
       "    <tr>\n",
       "      <th>0</th>\n",
       "      <td>CAN</td>\n",
       "      <td>01AD002</td>\n",
       "      <td>SAINT JOHN RIVER AT FORT KENT</td>\n",
       "      <td>47.25806</td>\n",
       "      <td>-68.59583</td>\n",
       "      <td>WSC 20222 data set</td>\n",
       "      <td>47.257877</td>\n",
       "      <td>-68.594919</td>\n",
       "      <td>WSC 20222 data set</td>\n",
       "      <td>-999</td>\n",
       "      <td>HYDAT gross drainage area</td>\n",
       "      <td>14700.00</td>\n",
       "      <td>HYDAT effective drainage area</td>\n",
       "      <td>NaN</td>\n",
       "      <td>yes</td>\n",
       "      <td>WSC 2022 data set</td>\n",
       "      <td>14677.400000</td>\n",
       "    </tr>\n",
       "    <tr>\n",
       "      <th>1</th>\n",
       "      <td>CAN</td>\n",
       "      <td>01AD003</td>\n",
       "      <td>ST. FRANCIS RIVER AT OUTLET OF GLASIER LAKE</td>\n",
       "      <td>47.20661</td>\n",
       "      <td>-68.95694</td>\n",
       "      <td>WSC 20222 data set</td>\n",
       "      <td>47.206016</td>\n",
       "      <td>-68.956727</td>\n",
       "      <td>WSC 20222 data set</td>\n",
       "      <td>-999</td>\n",
       "      <td>HYDAT gross drainage area</td>\n",
       "      <td>1350.00</td>\n",
       "      <td>HYDAT effective drainage area</td>\n",
       "      <td>NaN</td>\n",
       "      <td>yes</td>\n",
       "      <td>WSC 2022 data set</td>\n",
       "      <td>1348.300000</td>\n",
       "    </tr>\n",
       "    <tr>\n",
       "      <th>2</th>\n",
       "      <td>CAN</td>\n",
       "      <td>01AE001</td>\n",
       "      <td>FISH RIVER NEAR FORT KENT</td>\n",
       "      <td>47.23750</td>\n",
       "      <td>-68.58278</td>\n",
       "      <td>WSC 20222 data set</td>\n",
       "      <td>47.237438</td>\n",
       "      <td>-68.581991</td>\n",
       "      <td>WSC 20222 data set</td>\n",
       "      <td>-999</td>\n",
       "      <td>HYDAT gross drainage area</td>\n",
       "      <td>2260.00</td>\n",
       "      <td>HYDAT effective drainage area</td>\n",
       "      <td>NaN</td>\n",
       "      <td>yes</td>\n",
       "      <td>WSC 2022 data set</td>\n",
       "      <td>2238.950000</td>\n",
       "    </tr>\n",
       "    <tr>\n",
       "      <th>3</th>\n",
       "      <td>CAN</td>\n",
       "      <td>01AF007</td>\n",
       "      <td>GRANDE RIVIERE AT VIOLETTE BRIDGE</td>\n",
       "      <td>47.24697</td>\n",
       "      <td>-67.92128</td>\n",
       "      <td>WSC 20222 data set</td>\n",
       "      <td>47.246908</td>\n",
       "      <td>-67.921271</td>\n",
       "      <td>WSC 20222 data set</td>\n",
       "      <td>-999</td>\n",
       "      <td>HYDAT gross drainage area</td>\n",
       "      <td>339.00</td>\n",
       "      <td>HYDAT effective drainage area</td>\n",
       "      <td>NaN</td>\n",
       "      <td>yes</td>\n",
       "      <td>WSC 2022 data set</td>\n",
       "      <td>325.196000</td>\n",
       "    </tr>\n",
       "    <tr>\n",
       "      <th>4</th>\n",
       "      <td>CAN</td>\n",
       "      <td>01AF009</td>\n",
       "      <td>IROQUOIS RIVER AT MOULIN MORNEAULT</td>\n",
       "      <td>47.45783</td>\n",
       "      <td>-68.35683</td>\n",
       "      <td>WSC 20222 data set</td>\n",
       "      <td>47.457622</td>\n",
       "      <td>-68.356710</td>\n",
       "      <td>WSC 20222 data set</td>\n",
       "      <td>-999</td>\n",
       "      <td>HYDAT gross drainage area</td>\n",
       "      <td>182.00</td>\n",
       "      <td>HYDAT effective drainage area</td>\n",
       "      <td>NaN</td>\n",
       "      <td>yes</td>\n",
       "      <td>WSC 2022 data set</td>\n",
       "      <td>183.430000</td>\n",
       "    </tr>\n",
       "    <tr>\n",
       "      <th>...</th>\n",
       "      <td>...</td>\n",
       "      <td>...</td>\n",
       "      <td>...</td>\n",
       "      <td>...</td>\n",
       "      <td>...</td>\n",
       "      <td>...</td>\n",
       "      <td>...</td>\n",
       "      <td>...</td>\n",
       "      <td>...</td>\n",
       "      <td>...</td>\n",
       "      <td>...</td>\n",
       "      <td>...</td>\n",
       "      <td>...</td>\n",
       "      <td>...</td>\n",
       "      <td>...</td>\n",
       "      <td>...</td>\n",
       "      <td>...</td>\n",
       "    </tr>\n",
       "    <tr>\n",
       "      <th>1693</th>\n",
       "      <td>USA</td>\n",
       "      <td>14309500</td>\n",
       "      <td>WEST FORK COW CREEK NEAR GLENDALE, OR</td>\n",
       "      <td>42.80400</td>\n",
       "      <td>-123.61091</td>\n",
       "      <td>CAMELS-US</td>\n",
       "      <td>-999.000000</td>\n",
       "      <td>-999.000000</td>\n",
       "      <td>NaN</td>\n",
       "      <td>-999</td>\n",
       "      <td>GAGES II area</td>\n",
       "      <td>224.92</td>\n",
       "      <td>Geospatial fabric area</td>\n",
       "      <td>226.31</td>\n",
       "      <td>yes</td>\n",
       "      <td>CAMELS-US data set (HCDN)</td>\n",
       "      <td>226.314346</td>\n",
       "    </tr>\n",
       "    <tr>\n",
       "      <th>1694</th>\n",
       "      <td>USA</td>\n",
       "      <td>14316700</td>\n",
       "      <td>STEAMBOAT CREEK NEAR GLIDE, OR</td>\n",
       "      <td>43.34984</td>\n",
       "      <td>-122.72894</td>\n",
       "      <td>CAMELS-US</td>\n",
       "      <td>-999.000000</td>\n",
       "      <td>-999.000000</td>\n",
       "      <td>NaN</td>\n",
       "      <td>-999</td>\n",
       "      <td>GAGES II area</td>\n",
       "      <td>587.90</td>\n",
       "      <td>Geospatial fabric area</td>\n",
       "      <td>588.01</td>\n",
       "      <td>yes</td>\n",
       "      <td>CAMELS-US data set (HCDN)</td>\n",
       "      <td>588.025033</td>\n",
       "    </tr>\n",
       "    <tr>\n",
       "      <th>1695</th>\n",
       "      <td>USA</td>\n",
       "      <td>14325000</td>\n",
       "      <td>SOUTH FORK COQUILLE RIVER AT POWERS, OR</td>\n",
       "      <td>42.89150</td>\n",
       "      <td>-124.07065</td>\n",
       "      <td>CAMELS-US</td>\n",
       "      <td>-999.000000</td>\n",
       "      <td>-999.000000</td>\n",
       "      <td>NaN</td>\n",
       "      <td>-999</td>\n",
       "      <td>GAGES II area</td>\n",
       "      <td>443.07</td>\n",
       "      <td>Geospatial fabric area</td>\n",
       "      <td>444.92</td>\n",
       "      <td>yes</td>\n",
       "      <td>CAMELS-US data set (HCDN)</td>\n",
       "      <td>444.925651</td>\n",
       "    </tr>\n",
       "    <tr>\n",
       "      <th>1696</th>\n",
       "      <td>USA</td>\n",
       "      <td>14362250</td>\n",
       "      <td>STAR GULCH NEAR RUCH, OR.</td>\n",
       "      <td>42.15401</td>\n",
       "      <td>-123.07532</td>\n",
       "      <td>CAMELS-US</td>\n",
       "      <td>-999.000000</td>\n",
       "      <td>-999.000000</td>\n",
       "      <td>NaN</td>\n",
       "      <td>-999</td>\n",
       "      <td>GAGES II area</td>\n",
       "      <td>41.42</td>\n",
       "      <td>Geospatial fabric area</td>\n",
       "      <td>43.88</td>\n",
       "      <td>yes</td>\n",
       "      <td>CAMELS-US data set (HCDN)</td>\n",
       "      <td>43.877901</td>\n",
       "    </tr>\n",
       "    <tr>\n",
       "      <th>1697</th>\n",
       "      <td>USA</td>\n",
       "      <td>14400000</td>\n",
       "      <td>CHETCO RIVER NEAR BROOKINGS, OR</td>\n",
       "      <td>42.12344</td>\n",
       "      <td>-124.18731</td>\n",
       "      <td>CAMELS-US</td>\n",
       "      <td>-999.000000</td>\n",
       "      <td>-999.000000</td>\n",
       "      <td>NaN</td>\n",
       "      <td>-999</td>\n",
       "      <td>GAGES II area</td>\n",
       "      <td>702.63</td>\n",
       "      <td>Geospatial fabric area</td>\n",
       "      <td>703.37</td>\n",
       "      <td>yes</td>\n",
       "      <td>CAMELS-US data set (HCDN)</td>\n",
       "      <td>703.386532</td>\n",
       "    </tr>\n",
       "  </tbody>\n",
       "</table>\n",
       "<p>1698 rows × 17 columns</p>\n",
       "</div>"
      ],
      "text/plain": [
       "     Country Station_id                                 Station_name  \\\n",
       "0        CAN    01AD002                SAINT JOHN RIVER AT FORT KENT   \n",
       "1        CAN    01AD003  ST. FRANCIS RIVER AT OUTLET OF GLASIER LAKE   \n",
       "2        CAN    01AE001                    FISH RIVER NEAR FORT KENT   \n",
       "3        CAN    01AF007            GRANDE RIVIERE AT VIOLETTE BRIDGE   \n",
       "4        CAN    01AF009           IROQUOIS RIVER AT MOULIN MORNEAULT   \n",
       "...      ...        ...                                          ...   \n",
       "1693     USA   14309500        WEST FORK COW CREEK NEAR GLENDALE, OR   \n",
       "1694     USA   14316700               STEAMBOAT CREEK NEAR GLIDE, OR   \n",
       "1695     USA   14325000      SOUTH FORK COQUILLE RIVER AT POWERS, OR   \n",
       "1696     USA   14362250                    STAR GULCH NEAR RUCH, OR.   \n",
       "1697     USA   14400000              CHETCO RIVER NEAR BROOKINGS, OR   \n",
       "\n",
       "      Station_lat  Station_lon      Station_source  Outlet_lat  Outlet_lon  \\\n",
       "0        47.25806    -68.59583  WSC 20222 data set   47.257877  -68.594919   \n",
       "1        47.20661    -68.95694  WSC 20222 data set   47.206016  -68.956727   \n",
       "2        47.23750    -68.58278  WSC 20222 data set   47.237438  -68.581991   \n",
       "3        47.24697    -67.92128  WSC 20222 data set   47.246908  -67.921271   \n",
       "4        47.45783    -68.35683  WSC 20222 data set   47.457622  -68.356710   \n",
       "...           ...          ...                 ...         ...         ...   \n",
       "1693     42.80400   -123.61091           CAMELS-US -999.000000 -999.000000   \n",
       "1694     43.34984   -122.72894           CAMELS-US -999.000000 -999.000000   \n",
       "1695     42.89150   -124.07065           CAMELS-US -999.000000 -999.000000   \n",
       "1696     42.15401   -123.07532           CAMELS-US -999.000000 -999.000000   \n",
       "1697     42.12344   -124.18731           CAMELS-US -999.000000 -999.000000   \n",
       "\n",
       "           Outlet_source  Basin_area_km2             Ref_area_1_src  \\\n",
       "0     WSC 20222 data set            -999  HYDAT gross drainage area   \n",
       "1     WSC 20222 data set            -999  HYDAT gross drainage area   \n",
       "2     WSC 20222 data set            -999  HYDAT gross drainage area   \n",
       "3     WSC 20222 data set            -999  HYDAT gross drainage area   \n",
       "4     WSC 20222 data set            -999  HYDAT gross drainage area   \n",
       "...                  ...             ...                        ...   \n",
       "1693                 NaN            -999              GAGES II area   \n",
       "1694                 NaN            -999              GAGES II area   \n",
       "1695                 NaN            -999              GAGES II area   \n",
       "1696                 NaN            -999              GAGES II area   \n",
       "1697                 NaN            -999              GAGES II area   \n",
       "\n",
       "      Ref_area_1_km2                 Ref_area_2_src  Ref_area_2_km2 Ref_shape  \\\n",
       "0           14700.00  HYDAT effective drainage area             NaN       yes   \n",
       "1            1350.00  HYDAT effective drainage area             NaN       yes   \n",
       "2            2260.00  HYDAT effective drainage area             NaN       yes   \n",
       "3             339.00  HYDAT effective drainage area             NaN       yes   \n",
       "4             182.00  HYDAT effective drainage area             NaN       yes   \n",
       "...              ...                            ...             ...       ...   \n",
       "1693          224.92         Geospatial fabric area          226.31       yes   \n",
       "1694          587.90         Geospatial fabric area          588.01       yes   \n",
       "1695          443.07         Geospatial fabric area          444.92       yes   \n",
       "1696           41.42         Geospatial fabric area           43.88       yes   \n",
       "1697          702.63         Geospatial fabric area          703.37       yes   \n",
       "\n",
       "               Ref_shape_source  Ref_shape_area_km2  \n",
       "0             WSC 2022 data set        14677.400000  \n",
       "1             WSC 2022 data set         1348.300000  \n",
       "2             WSC 2022 data set         2238.950000  \n",
       "3             WSC 2022 data set          325.196000  \n",
       "4             WSC 2022 data set          183.430000  \n",
       "...                         ...                 ...  \n",
       "1693  CAMELS-US data set (HCDN)          226.314346  \n",
       "1694  CAMELS-US data set (HCDN)          588.025033  \n",
       "1695  CAMELS-US data set (HCDN)          444.925651  \n",
       "1696  CAMELS-US data set (HCDN)           43.877901  \n",
       "1697  CAMELS-US data set (HCDN)          703.386532  \n",
       "\n",
       "[1698 rows x 17 columns]"
      ]
     },
     "execution_count": 11,
     "metadata": {},
     "output_type": "execute_result"
    }
   ],
   "source": [
    "cs_meta"
   ]
  },
  {
   "cell_type": "code",
   "execution_count": 10,
   "id": "d37e72b5",
   "metadata": {},
   "outputs": [],
   "source": [
    "# Create a temporary directory for subsetting files\n",
    "tmp_dir = Path(data_path) / 'tmp'\n",
    "tmp_dir.mkdir(parents=True, exist_ok=True)"
   ]
  },
  {
   "cell_type": "code",
   "execution_count": null,
   "id": "8f8eb0d4",
   "metadata": {},
   "outputs": [],
   "source": [
    "# Remove the temporary directory"
   ]
  }
 ],
 "metadata": {
  "kernelspec": {
   "display_name": "camels-spat-env",
   "language": "python",
   "name": "camels-spat-env"
  },
  "language_info": {
   "codemirror_mode": {
    "name": "ipython",
    "version": 3
   },
   "file_extension": ".py",
   "mimetype": "text/x-python",
   "name": "python",
   "nbconvert_exporter": "python",
   "pygments_lexer": "ipython3",
   "version": "3.8.2"
  }
 },
 "nbformat": 4,
 "nbformat_minor": 5
}
