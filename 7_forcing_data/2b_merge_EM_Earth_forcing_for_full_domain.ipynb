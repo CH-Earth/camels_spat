{
 "cells": [
  {
   "cell_type": "markdown",
   "id": "2d620cd8",
   "metadata": {},
   "source": [
    "# Merge EM-Earth data for full domain\n",
    "We have EM-Earth data on a monthly basis, but spread over two files for different variables. Here we merge those into one monthly file for further processing.\n",
    "\n",
    "Code based on: https://github.com/CH-Earth/CWARHM/tree/main/3a_forcing/2_merge_forcing"
   ]
  },
  {
   "cell_type": "code",
   "execution_count": 1,
   "id": "abf2114b",
   "metadata": {},
   "outputs": [],
   "source": [
    "import os\n",
    "import re\n",
    "import glob\n",
    "import sys\n",
    "import pandas as pd\n",
    "from pathlib import Path\n",
    "sys.path.append(str(Path().absolute().parent))\n",
    "import python_cs_functions as cs"
   ]
  },
  {
   "cell_type": "markdown",
   "id": "73793dff",
   "metadata": {},
   "source": [
    "### Config handling"
   ]
  },
  {
   "cell_type": "code",
   "execution_count": 2,
   "id": "0bd4a19f",
   "metadata": {},
   "outputs": [],
   "source": [
    "# Specify where the config file can be found\n",
    "config_file = '../0_config/config.txt'"
   ]
  },
  {
   "cell_type": "code",
   "execution_count": 3,
   "id": "4855e428",
   "metadata": {},
   "outputs": [],
   "source": [
    "# Get the required info from the config file\n",
    "temp_folder = cs.read_from_config(config_file, 'temp_path') # Should exist at this point"
   ]
  },
  {
   "cell_type": "markdown",
   "id": "ad98bc25",
   "metadata": {},
   "source": [
    "## Processing"
   ]
  },
  {
   "cell_type": "code",
   "execution_count": 4,
   "id": "4c7ca428-ab4f-4d98-93c8-e4bfcb8f0191",
   "metadata": {},
   "outputs": [],
   "source": [
    "# Find the EM-Earth files and ensure they are sorted\n",
    "em_earth_fold = temp_folder + '/EM_Earth_v1/deterministic_hourly'\n",
    "p_files = sorted(glob.glob(str(em_earth_fold + '/prcp/NorthAmerica/*.nc'))) # list\n",
    "t_files = sorted(glob.glob(str(em_earth_fold + '/tmean/NorthAmerica/*.nc'))) # list"
   ]
  },
  {
   "cell_type": "code",
   "execution_count": 5,
   "id": "c0513fcb-5868-456b-88a6-c22947e826d9",
   "metadata": {},
   "outputs": [],
   "source": [
    "# Make a folder for the merged files\n",
    "merged_path = Path(em_earth_fold) / 'merged'\n",
    "merged_path.mkdir(exist_ok=True, parents=True)"
   ]
  },
  {
   "cell_type": "code",
   "execution_count": 7,
   "id": "2b658165-8c31-4a6a-b4af-d0c2b7c7848a",
   "metadata": {},
   "outputs": [],
   "source": [
    "# Prepare file name replacement so that we have consistent notations between ERA5 files (YYYY-MM) and EM-Earth\n",
    "\n",
    "# Define a regular expression pattern to match the format 'YYYYMM'\n",
    "pattern = r'(\\d{4})(\\d{2})'\n",
    "\n",
    "# Define a replacement pattern with groups to insert '-'\n",
    "replacement = r'\\1-\\2'"
   ]
  },
  {
   "cell_type": "code",
   "execution_count": 6,
   "id": "1c919480-1160-46b5-bc00-d52d3bd7a25f",
   "metadata": {},
   "outputs": [],
   "source": [
    "debug_message = f'!!! Warning: Check debugging status:\\n-Full run in progress'"
   ]
  },
  {
   "cell_type": "code",
   "execution_count": 8,
   "id": "7a1ef676-8e7d-4197-9b5b-a2f4f317e441",
   "metadata": {},
   "outputs": [
    {
     "name": "stdout",
     "output_type": "stream",
     "text": [
      "!!! Warning: Check debugging status:\n",
      "-Full run in progress\n",
      "!!! Warning: Check debugging status:\n",
      "-Full run in progress\n"
     ]
    }
   ],
   "source": [
    "# Loop over the files, check that they match temporally, and merge\n",
    "print(debug_message)\n",
    "for p_file, t_file in zip(p_files,t_files):\n",
    "        \n",
    "    # Check that dimensions match\n",
    "    flag,msg = cs.compare_em_earth_netcdf_dimensions(p_file, t_file)\n",
    "    if not flag: \n",
    "        print(msg)\n",
    "        continue # Print error and skip to next set of files if dimensions for the current files don't match\n",
    "\n",
    "    # Merge\n",
    "    file_name = re.sub(pattern, replacement, os.path.basename(p_file)) # Use re.sub to replace YYYYMM format with YYYY-MM\n",
    "    merged_file = merged_path / file_name\n",
    "    cs.merge_em_earth_prcp_and_tmean_files(p_file,t_file,merged_file)\n",
    "\n",
    "print(debug_message)"
   ]
  },
  {
   "cell_type": "code",
   "execution_count": null,
   "id": "16d5b969-8279-4c5f-bbb4-ef1cd2927a8b",
   "metadata": {},
   "outputs": [],
   "source": []
  }
 ],
 "metadata": {
  "kernelspec": {
   "display_name": "camels-spat-env",
   "language": "python",
   "name": "camels-spat-env"
  },
  "language_info": {
   "codemirror_mode": {
    "name": "ipython",
    "version": 3
   },
   "file_extension": ".py",
   "mimetype": "text/x-python",
   "name": "python",
   "nbconvert_exporter": "python",
   "pygments_lexer": "ipython3",
   "version": "3.8.2"
  }
 },
 "nbformat": 4,
 "nbformat_minor": 5
}
