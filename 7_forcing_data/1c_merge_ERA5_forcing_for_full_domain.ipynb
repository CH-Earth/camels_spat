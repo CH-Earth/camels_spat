{
 "cells": [
  {
   "cell_type": "markdown",
   "id": "2d620cd8",
   "metadata": {},
   "source": [
    "# Merge ERA5 data for full domain\n",
    "We have ERA5 data on a monthly basis, but spread over two files for different variables. Here we merge those into one monthly file for further processing.\n",
    "\n",
    "Code based on: https://github.com/CH-Earth/CWARHM/tree/main/3a_forcing/2_merge_forcing"
   ]
  },
  {
   "cell_type": "code",
   "execution_count": 1,
   "id": "abf2114b",
   "metadata": {},
   "outputs": [],
   "source": [
    "import glob\n",
    "import sys\n",
    "import netCDF4 as nc4\n",
    "import pandas as pd\n",
    "from pathlib import Path\n",
    "sys.path.append(str(Path().absolute().parent))\n",
    "import python_cs_functions as cs"
   ]
  },
  {
   "cell_type": "markdown",
   "id": "73793dff",
   "metadata": {},
   "source": [
    "### Config handling"
   ]
  },
  {
   "cell_type": "code",
   "execution_count": 2,
   "id": "0bd4a19f",
   "metadata": {},
   "outputs": [],
   "source": [
    "# Specify where the config file can be found\n",
    "config_file = '../0_config/config.txt'"
   ]
  },
  {
   "cell_type": "code",
   "execution_count": 3,
   "id": "4855e428",
   "metadata": {},
   "outputs": [],
   "source": [
    "# Get the required info from the config file\n",
    "temp_folder = cs.read_from_config(config_file, 'temp_path') # Should exist at this point"
   ]
  },
  {
   "cell_type": "markdown",
   "id": "ad98bc25",
   "metadata": {},
   "source": [
    "## Processing"
   ]
  },
  {
   "cell_type": "code",
   "execution_count": 4,
   "id": "4c7ca428-ab4f-4d98-93c8-e4bfcb8f0191",
   "metadata": {},
   "outputs": [],
   "source": [
    "# Find the files and sort them according to date\n",
    "surface_files  = sorted( glob.glob(temp_folder + '/ERA5_*_surface_variables.nc') )\n",
    "pressure_files = sorted( glob.glob(temp_folder + '/ERA5_*_pressure_variables.nc') )"
   ]
  },
  {
   "cell_type": "code",
   "execution_count": 5,
   "id": "1c919480-1160-46b5-bc00-d52d3bd7a25f",
   "metadata": {},
   "outputs": [],
   "source": [
    "debug_message = f'!!! Warning: Check debugging status:\\n-Full run in progress'"
   ]
  },
  {
   "cell_type": "code",
   "execution_count": 6,
   "id": "7a1ef676-8e7d-4197-9b5b-a2f4f317e441",
   "metadata": {},
   "outputs": [
    {
     "name": "stdout",
     "output_type": "stream",
     "text": [
      "!!! Warning: Check debugging status:\n",
      "-Full run in progress\n",
      "!!! Warning: Check debugging status:\n",
      "-Full run in progress\n"
     ]
    }
   ],
   "source": [
    "# Loop over the files, check that they match temporally, and merge\n",
    "print(debug_message)\n",
    "for surface_file, pressure_file in zip(surface_files,pressure_files):\n",
    "        \n",
    "    # Check that dimensions match\n",
    "    flag,msg = cs.compare_era5_netcdf_dimensions(surface_file, pressure_file)\n",
    "    if not flag: \n",
    "        print(msg)\n",
    "        continue # Print error and skip to next set of files if dimensions for the current files don't match\n",
    "\n",
    "    # Merge\n",
    "    merged_file = surface_file.replace('_surface_variables','')\n",
    "    cs.merge_era5_surface_and_pressure_files(surface_file, pressure_file, merged_file)\n",
    "\n",
    "print(debug_message)"
   ]
  },
  {
   "cell_type": "code",
   "execution_count": null,
   "id": "43538eb6-79a3-4156-b3b3-2f040a12f36d",
   "metadata": {},
   "outputs": [],
   "source": []
  }
 ],
 "metadata": {
  "kernelspec": {
   "display_name": "camels-spat-env",
   "language": "python",
   "name": "camels-spat-env"
  },
  "language_info": {
   "codemirror_mode": {
    "name": "ipython",
    "version": 3
   },
   "file_extension": ".py",
   "mimetype": "text/x-python",
   "name": "python",
   "nbconvert_exporter": "python",
   "pygments_lexer": "ipython3",
   "version": "3.8.2"
  }
 },
 "nbformat": 4,
 "nbformat_minor": 5
}
