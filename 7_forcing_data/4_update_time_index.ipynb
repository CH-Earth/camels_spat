{
 "cells": [
  {
   "cell_type": "markdown",
   "id": "202f594b-c819-4a3d-b5c0-650c1554f3a7",
   "metadata": {},
   "source": [
    "# UTC to LST\n",
    "We want all the forcing to be in local standard time to match the streamflow observations."
   ]
  },
  {
   "cell_type": "code",
   "execution_count": 1,
   "id": "b5528e90-c311-4486-97f0-2341d763b81b",
   "metadata": {},
   "outputs": [],
   "source": [
    "import glob\n",
    "import os\n",
    "import sys\n",
    "import netCDF4 as nc4\n",
    "import pandas as pd\n",
    "import shutil\n",
    "import xarray as xr\n",
    "from pathlib import Path\n",
    "sys.path.append(str(Path().absolute().parent))\n",
    "import python_cs_functions as cs"
   ]
  },
  {
   "cell_type": "markdown",
   "id": "dddfda0f-a1f2-4d65-a54b-f6217de18c6a",
   "metadata": {},
   "source": [
    "### Config handling"
   ]
  },
  {
   "cell_type": "code",
   "execution_count": 2,
   "id": "852509a3-70c3-46f0-9248-0268f893801b",
   "metadata": {},
   "outputs": [],
   "source": [
    "# Specify where the config file can be found\n",
    "config_file = '../0_config/config.txt'"
   ]
  },
  {
   "cell_type": "code",
   "execution_count": 3,
   "id": "4dca8ac1-708d-46eb-8cbf-f7659a69e73c",
   "metadata": {},
   "outputs": [],
   "source": [
    "# Get the required info from the config file\n",
    "data_path = cs.read_from_config(config_file,'data_path')\n",
    "\n",
    "# CAMELS-spat metadata\n",
    "cs_meta_path = cs.read_from_config(config_file,'cs_basin_path')\n",
    "cs_meta_name = cs.read_from_config(config_file,'cs_meta_name')\n",
    "cs_unusable_name = cs.read_from_config(config_file,'cs_unusable_name')\n",
    "\n",
    "# Basin folder\n",
    "cs_basin_folder = cs.read_from_config(config_file, 'cs_basin_path')\n",
    "basins_path = Path(data_path) / cs_basin_folder"
   ]
  },
  {
   "cell_type": "markdown",
   "id": "e39e0694-7612-4106-b758-1ea87a033ef3",
   "metadata": {},
   "source": [
    "### Data loading"
   ]
  },
  {
   "cell_type": "code",
   "execution_count": 4,
   "id": "a6b9c929-bae2-4954-8cd5-6c5120612edd",
   "metadata": {},
   "outputs": [],
   "source": [
    "# CAMELS-spat metadata file\n",
    "cs_meta_path = Path(data_path) / cs_meta_path\n",
    "cs_meta = pd.read_csv(cs_meta_path / cs_meta_name)\n",
    "cs_unusable = pd.read_csv(cs_meta_path / cs_unusable_name,  dtype={'Station_id': object}) # Enforce reading IDs as string to keep leading 0's"
   ]
  },
  {
   "cell_type": "markdown",
   "id": "b513f145-6f09-44d0-b9ac-466a873d40a1",
   "metadata": {},
   "source": [
    "### Processing"
   ]
  },
  {
   "cell_type": "code",
   "execution_count": 5,
   "id": "85c88535-fe67-464a-96f4-e3a55f96e903",
   "metadata": {},
   "outputs": [],
   "source": [
    "debug_message = f'\\n!!! CHECK DEBUGGING STATUS: \\n- Testing 1 basin\\n'"
   ]
  },
  {
   "cell_type": "code",
   "execution_count": 7,
   "id": "459e707c-62d3-46ee-bf93-605efb4852b9",
   "metadata": {},
   "outputs": [
    {
     "name": "stdout",
     "output_type": "stream",
     "text": [
      "\n",
      "!!! CHECK DEBUGGING STATUS: \n",
      "- Testing 1 basin\n",
      "\n",
      "--- Now running basin 0. CAN_01AD002\n",
      "Processing /Users/wmk934/data/CAMELS_spat/camels-spat-data/basin_data/CAN_01AD002/forcing/raw/EM_Earth_1950-01.nc\n",
      "Processing /Users/wmk934/data/CAMELS_spat/camels-spat-data/basin_data/CAN_01AD002/forcing/raw/ERA5_1950-01.nc\n",
      "Processing /Users/wmk934/data/CAMELS_spat/camels-spat-data/basin_data/CAN_01AD002/forcing/raw/ERA5_1950-02.nc\n",
      "Processing /Users/wmk934/data/CAMELS_spat/camels-spat-data/basin_data/CAN_01AD002/forcing/raw/ERA5_1950-03.nc\n",
      "Processing /Users/wmk934/data/CAMELS_spat/camels-spat-data/basin_data/CAN_01AD002/forcing/raw/ERA5_1950-04.nc\n",
      "Processing /Users/wmk934/data/CAMELS_spat/camels-spat-data/basin_data/CAN_01AD002/forcing/raw/ERA5_2023-01-01_invariants.nc\n",
      "Processing /Users/wmk934/data/CAMELS_spat/camels-spat-data/basin_data/CAN_01AD002/forcing/lumped/EM-Earth_lumped_remapped_1950-01-01-00-00-00.nc\n",
      "Processing /Users/wmk934/data/CAMELS_spat/camels-spat-data/basin_data/CAN_01AD002/forcing/lumped/ERA5_lumped_remapped_1950-01-01-00-00-00.nc\n",
      "Processing /Users/wmk934/data/CAMELS_spat/camels-spat-data/basin_data/CAN_01AD002/forcing/lumped/ERA5_lumped_remapped_1950-02-01-00-00-00.nc\n",
      "Processing /Users/wmk934/data/CAMELS_spat/camels-spat-data/basin_data/CAN_01AD002/forcing/distributed/EM-Earth_dist_remapped_1950-01-01-00-00-00.nc\n",
      "Processing /Users/wmk934/data/CAMELS_spat/camels-spat-data/basin_data/CAN_01AD002/forcing/distributed/ERA5_dist_remapped_1950-01-01-00-00-00.nc\n",
      "Processing /Users/wmk934/data/CAMELS_spat/camels-spat-data/basin_data/CAN_01AD002/forcing/distributed/ERA5_dist_remapped_1950-02-01-00-00-00.nc\n",
      "\n",
      "!!! CHECK DEBUGGING STATUS: \n",
      "- Testing 1 basin\n",
      "\n"
     ]
    }
   ],
   "source": [
    "print(debug_message)\n",
    "for ix,row in cs_meta.iterrows():\n",
    "\n",
    "    # DEBUGGING\n",
    "    if ix != 0: continue\n",
    "    \n",
    "    # Get forcing paths\n",
    "    basin_id, _, _, _, _ = cs.prepare_delineation_outputs(cs_meta, ix, Path(data_path)/cs_basin_folder)\n",
    "    raw_fold, lump_fold, dist_fold = cs.prepare_forcing_outputs(cs_meta, ix, Path(data_path)/cs_basin_folder) # Returns folders only, not file names\n",
    "    print('--- Now running basin {}. {}'.format(ix, basin_id))\n",
    "    \n",
    "    # Check if we need to run downloads for this station at all\n",
    "    missing = cs.flow_obs_unavailable(cs_unusable, row.Country, row.Station_id)\n",
    "    if 'iv' in missing and 'dv' in missing: \n",
    "        continue # with next station, because we have no observations at all for this station\n",
    "    \n",
    "    # Find the files\n",
    "    raw_files = sorted(glob.glob(str(raw_fold/'*.nc'))) # list\n",
    "    lump_files = sorted(glob.glob(str(lump_fold/'*.nc'))) # list\n",
    "    dist_files = sorted(glob.glob(str(dist_fold/'*.nc'))) # list\n",
    "    all_files = raw_files + lump_files + dist_files\n",
    "\n",
    "    # Find LST\n",
    "    # We can simply use dv_flow_obs_timezone here because we already know the USA gauges\n",
    "    #  show consistent LSTs for IV and DV observations, and for CAN we only have DV LST\n",
    "    #  anyway.\n",
    "    lst = row['dv_flow_obs_timezone']\n",
    "    utc = cs.tz_abbreviation_to_utc(lst) # e.g. 'UTC-04'\n",
    "    offset = cs.relative_utc_to_float_offset_in_hours(utc) # e.g. -4.0\n",
    "    \n",
    "    # Open files wat xarray, update time values with pandas and replace in file\n",
    "    for file in all_files:\n",
    "        print(f'Processing {file}')\n",
    "        with nc4.Dataset(file, 'a') as f:\n",
    "            time_variable = f.variables['time']\n",
    "            time_variable[:] = time_variable[:] + offset\n",
    "print(debug_message)"
   ]
  },
  {
   "cell_type": "code",
   "execution_count": null,
   "id": "a707c961-1648-4d0f-8262-9413722772e5",
   "metadata": {},
   "outputs": [],
   "source": []
  }
 ],
 "metadata": {
  "kernelspec": {
   "display_name": "camels-spat-env",
   "language": "python",
   "name": "camels-spat-env"
  },
  "language_info": {
   "codemirror_mode": {
    "name": "ipython",
    "version": 3
   },
   "file_extension": ".py",
   "mimetype": "text/x-python",
   "name": "python",
   "nbconvert_exporter": "python",
   "pygments_lexer": "ipython3",
   "version": "3.11.5"
  }
 },
 "nbformat": 4,
 "nbformat_minor": 5
}
