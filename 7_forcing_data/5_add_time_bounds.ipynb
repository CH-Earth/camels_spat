{
 "cells": [
  {
   "cell_type": "markdown",
   "id": "7d2c203b-fc07-4cbc-b299-b3d04b2bfbf0",
   "metadata": {},
   "source": [
    "# Add time_bnds to forcing\n",
    "Forcing data currently come without time bounds information. This has to be gathered from docs (ERA5) or personal communication (EM-Earth). Here we add a `time_bnds` variable to forcing files so that validity of the values is clear.\n",
    "\n",
    "- ERA5: https://confluence.ecmwf.int/pages/viewpage.action?pageId=82870405#ERA5:datadocumentation-Table4 (access: 2024-01-03)\n",
    "- EM-Earth: `For precipitation, it is accumulated value using the period-beginning format. For example, 0:00 value is the accumulated precipitation 0:00-1:00.` (G. Tang, personal communication, 2024)\n"
   ]
  },
  {
   "cell_type": "code",
   "execution_count": 1,
   "id": "f51abd4a-5cc5-4842-8a28-51449a97f7c3",
   "metadata": {},
   "outputs": [],
   "source": [
    "import glob\n",
    "import sys\n",
    "import pandas as pd\n",
    "from pathlib import Path\n",
    "sys.path.append(str(Path().absolute().parent))\n",
    "import python_cs_functions as cs"
   ]
  },
  {
   "cell_type": "markdown",
   "id": "44cc25c7-83b2-4233-b117-8c16047fbc95",
   "metadata": {},
   "source": [
    "### Config handling"
   ]
  },
  {
   "cell_type": "code",
   "execution_count": 2,
   "id": "ed5b4c3b-94da-46cc-8580-58a0dfdb0d16",
   "metadata": {},
   "outputs": [],
   "source": [
    "# Specify where the config file can be found\n",
    "config_file = '../0_config/config.txt'"
   ]
  },
  {
   "cell_type": "code",
   "execution_count": 3,
   "id": "c7f1268d-507b-45a7-ba65-1b393f1b58bd",
   "metadata": {},
   "outputs": [],
   "source": [
    "# Get the required info from the config file\n",
    "data_path     = cs.read_from_config(config_file,'data_path')\n",
    "\n",
    "# CAMELS-spat metadata\n",
    "cs_meta_path  = cs.read_from_config(config_file,'cs_basin_path')\n",
    "cs_meta_name  = cs.read_from_config(config_file,'cs_meta_name')\n",
    "cs_unusable_name = cs.read_from_config(config_file,'cs_unusable_name')\n",
    "\n",
    "# Basin folder\n",
    "cs_basin_folder = cs.read_from_config(config_file, 'cs_basin_path')\n",
    "basins_path = Path(data_path) / cs_basin_folder"
   ]
  },
  {
   "cell_type": "markdown",
   "id": "c83fefe9-7f7d-4fc9-b089-fd86c11ef98f",
   "metadata": {},
   "source": [
    "### Data loading"
   ]
  },
  {
   "cell_type": "code",
   "execution_count": 4,
   "id": "d881fcb6-a84d-4a00-b83d-4a60057389c7",
   "metadata": {},
   "outputs": [],
   "source": [
    "# CAMELS-spat metadata file\n",
    "cs_meta_path = Path(data_path) / cs_meta_path\n",
    "cs_meta = pd.read_csv(cs_meta_path / cs_meta_name)\n",
    "cs_unusable = pd.read_csv(cs_meta_path / cs_unusable_name,  dtype={'Station_id': object}) # Enforce reading IDs as string to keep leading 0's"
   ]
  },
  {
   "cell_type": "markdown",
   "id": "12082703-6734-472e-a289-867491645dee",
   "metadata": {},
   "source": [
    "### Processing\n",
    "- Loop over all catchments\n",
    "    - List all forcing files\n",
    "    - if ERA5: period-ending time_bnds\n",
    "    - if EM-Earth: period-starting time_bnds"
   ]
  },
  {
   "cell_type": "code",
   "execution_count": 5,
   "id": "70519f30-110c-4042-b310-2ab4df70a8a0",
   "metadata": {},
   "outputs": [],
   "source": [
    "debug_message = f'\\n!!! CHECK DEBUGGING STATUS: \\n- Testing 1 basin\\n'"
   ]
  },
  {
   "cell_type": "code",
   "execution_count": 6,
   "id": "8321a292-539b-4dda-a390-d243e6177d64",
   "metadata": {},
   "outputs": [
    {
     "name": "stdout",
     "output_type": "stream",
     "text": [
      "\n",
      "!!! CHECK DEBUGGING STATUS: \n",
      "- Testing 1 basin\n",
      "\n",
      "--- Now running basin 0. CAN_01AD002\n",
      "\n",
      "!!! CHECK DEBUGGING STATUS: \n",
      "- Testing 1 basin\n",
      "\n"
     ]
    }
   ],
   "source": [
    "print(debug_message)\n",
    "for ix,row in cs_meta.iterrows():\n",
    "\n",
    "    # DEBUGGING\n",
    "    if ix != 0: continue\n",
    "    \n",
    "    # Get forcing paths\n",
    "    basin_id, _, _, _, _ = cs.prepare_delineation_outputs(cs_meta, ix, Path(data_path)/cs_basin_folder)\n",
    "    raw_fold, lump_fold, dist_fold = cs.prepare_forcing_outputs(cs_meta, ix, Path(data_path)/cs_basin_folder) # Returns folders only, not file names\n",
    "    print('--- Now running basin {}. {}'.format(ix, basin_id))\n",
    "    \n",
    "    # Check if we need to run downloads for this station at all\n",
    "    missing = cs.flow_obs_unavailable(cs_unusable, row.Country, row.Station_id)\n",
    "    if 'iv' in missing and 'dv' in missing: \n",
    "        continue # with next station, because we have no observations at all for this station\n",
    "    \n",
    "    # Find the files\n",
    "    raw_files = sorted(glob.glob(str(raw_fold/'*.nc'))) # list\n",
    "    lump_files = sorted(glob.glob(str(lump_fold/'*.nc'))) # list\n",
    "    dist_files = sorted(glob.glob(str(dist_fold/'*.nc'))) # list\n",
    "    all_files = raw_files + lump_files + dist_files\n",
    "\n",
    "    # Get LST for this station\n",
    "    LST = row['dv_flow_obs_timezone']\n",
    "    \n",
    "    # Open files, add time_bnds, and close\n",
    "    for file in all_files:\n",
    "\n",
    "        # ERA5_2023-01-01_invariants.nc' doesn't have a time variable and \n",
    "        #  thus doesn't need a time_bnds addition\n",
    "        if 'invariant' in file:\n",
    "            continue \n",
    "\n",
    "        # Add time_bnds specific to how each data set treats timestamps\n",
    "        if 'era5' in file.lower():\n",
    "            cs.add_time_bnds(file,'era5',LST)\n",
    "        elif 'earth' in file.lower():\n",
    "            cs.add_time_bnds(file,'em-earth',LST)\n",
    "\n",
    "print(debug_message)"
   ]
  },
  {
   "cell_type": "markdown",
   "id": "52e78d8b-41d9-4f03-814e-7b41afc3700a",
   "metadata": {},
   "source": [
    "### Checks"
   ]
  },
  {
   "cell_type": "code",
   "execution_count": 7,
   "id": "dd05f55e-8c38-469c-aed8-0a2332240ae1",
   "metadata": {},
   "outputs": [],
   "source": [
    "import xarray as xr"
   ]
  },
  {
   "cell_type": "code",
   "execution_count": 8,
   "id": "2e4aba09-001a-4ed8-b919-7609ae982385",
   "metadata": {},
   "outputs": [
    {
     "name": "stdout",
     "output_type": "stream",
     "text": [
      "\n",
      "EM-Earth file\n",
      "First timestamp:   1950-01-01T00:00:00.000000000\n",
      "         bounds: ['1950-01-01T00:00:00.000000000' '1950-01-01T01:00:00.000000000']\n",
      " Last timestamp:   1950-01-31T23:00:00.000000000\n",
      "         bounds: ['1950-01-31T23:00:00.000000000' '1950-02-01T00:00:00.000000000']\n",
      "\n",
      "ERA5 file\n",
      "First timestamp:   1950-01-01T00:00:00.000000000\n",
      "         bounds: ['1949-12-31T23:00:00.000000000' '1950-01-01T00:00:00.000000000']\n",
      " Last timestamp:   1950-01-31T23:00:00.000000000\n",
      "         bounds: ['1950-01-31T22:00:00.000000000' '1950-01-31T23:00:00.000000000']\n",
      "\n",
      "ERA5 file\n",
      "First timestamp:   1950-02-01T00:00:00.000000000\n",
      "         bounds: ['1950-01-31T23:00:00.000000000' '1950-02-01T00:00:00.000000000']\n",
      " Last timestamp:   1950-02-28T23:00:00.000000000\n",
      "         bounds: ['1950-02-28T22:00:00.000000000' '1950-02-28T23:00:00.000000000']\n",
      "\n",
      "ERA5 file\n",
      "First timestamp:   1950-03-01T00:00:00.000000000\n",
      "         bounds: ['1950-02-28T23:00:00.000000000' '1950-03-01T00:00:00.000000000']\n",
      " Last timestamp:   1950-03-31T23:00:00.000000000\n",
      "         bounds: ['1950-03-31T22:00:00.000000000' '1950-03-31T23:00:00.000000000']\n",
      "\n",
      "ERA5 file\n",
      "First timestamp:   1950-04-01T00:00:00.000000000\n",
      "         bounds: ['1950-03-31T23:00:00.000000000' '1950-04-01T00:00:00.000000000']\n",
      " Last timestamp:   1950-04-30T23:00:00.000000000\n",
      "         bounds: ['1950-04-30T22:00:00.000000000' '1950-04-30T23:00:00.000000000']\n",
      "\n",
      "Skipping /Users/wmk934/data/CAMELS_spat/camels-spat-data/basin_data/CAN_01AD002/forcing/raw/ERA5_2023-01-01_invariants.nc\n",
      "\n",
      "EM-Earth file\n",
      "First timestamp:   1950-01-01T00:00:00.000000000\n",
      "         bounds: ['1950-01-01T00:00:00.000000000' '1950-01-01T01:00:00.000000000']\n",
      " Last timestamp:   1950-01-31T23:00:00.000000000\n",
      "         bounds: ['1950-01-31T23:00:00.000000000' '1950-02-01T00:00:00.000000000']\n",
      "\n",
      "ERA5 file\n",
      "First timestamp:   1950-01-01T00:00:00.000000000\n",
      "         bounds: ['1949-12-31T23:00:00.000000000' '1950-01-01T00:00:00.000000000']\n",
      " Last timestamp:   1950-01-31T23:00:00.000000000\n",
      "         bounds: ['1950-01-31T22:00:00.000000000' '1950-01-31T23:00:00.000000000']\n",
      "\n",
      "ERA5 file\n",
      "First timestamp:   1950-02-01T00:00:00.000000000\n",
      "         bounds: ['1950-01-31T23:00:00.000000000' '1950-02-01T00:00:00.000000000']\n",
      " Last timestamp:   1950-02-28T23:00:00.000000000\n",
      "         bounds: ['1950-02-28T22:00:00.000000000' '1950-02-28T23:00:00.000000000']\n",
      "\n",
      "EM-Earth file\n",
      "First timestamp:   1950-01-01T00:00:00.000000000\n",
      "         bounds: ['1950-01-01T00:00:00.000000000' '1950-01-01T01:00:00.000000000']\n",
      " Last timestamp:   1950-01-31T23:00:00.000000000\n",
      "         bounds: ['1950-01-31T23:00:00.000000000' '1950-02-01T00:00:00.000000000']\n",
      "\n",
      "ERA5 file\n",
      "First timestamp:   1950-01-01T00:00:00.000000000\n",
      "         bounds: ['1949-12-31T23:00:00.000000000' '1950-01-01T00:00:00.000000000']\n",
      " Last timestamp:   1950-01-31T23:00:00.000000000\n",
      "         bounds: ['1950-01-31T22:00:00.000000000' '1950-01-31T23:00:00.000000000']\n",
      "\n",
      "ERA5 file\n",
      "First timestamp:   1950-02-01T00:00:00.000000000\n",
      "         bounds: ['1950-01-31T23:00:00.000000000' '1950-02-01T00:00:00.000000000']\n",
      " Last timestamp:   1950-02-28T23:00:00.000000000\n",
      "         bounds: ['1950-02-28T22:00:00.000000000' '1950-02-28T23:00:00.000000000']\n"
     ]
    }
   ],
   "source": [
    "for file in all_files:\n",
    "    if 'invariant' in file:\n",
    "        print(f'\\nSkipping {file}')\n",
    "        continue\n",
    "    \n",
    "    if 'era5' in file.lower():\n",
    "        print(f'\\nERA5 file')\n",
    "    elif 'earth' in file.lower():\n",
    "        print(f'\\nEM-Earth file')\n",
    "    \n",
    "    test = xr.open_dataset(file)\n",
    "    \n",
    "    t = 0\n",
    "    ts = test['time'].values[t]\n",
    "    tb = test['time_bnds'].values[:,t]\n",
    "    print(f'First timestamp:   {ts}')\n",
    "    print(f'         bounds: {tb}')\n",
    "    \n",
    "    t = -1\n",
    "    ts = test['time'].values[t]\n",
    "    tb = test['time_bnds'].values[:,t]\n",
    "    print(f' Last timestamp:   {ts}')\n",
    "    print(f'         bounds: {tb}')\n",
    "    \n",
    "    test.close()"
   ]
  },
  {
   "cell_type": "markdown",
   "id": "9d340319-07fe-4621-8813-ed05b9e67fd6",
   "metadata": {},
   "source": [
    "### Functions"
   ]
  },
  {
   "cell_type": "code",
   "execution_count": 6,
   "id": "0413d013-23be-4294-b241-10136191c61e",
   "metadata": {},
   "outputs": [],
   "source": [
    "import netCDF4 as nc4\n",
    "import numpy as np\n",
    "import time"
   ]
  },
  {
   "cell_type": "code",
   "execution_count": 7,
   "id": "eb21aa50-cf98-40fb-a5e2-ca692358a8e6",
   "metadata": {},
   "outputs": [],
   "source": [
    "def add_time_bnds(file, dataset=[], timezone=[]):\n",
    "\n",
    "    '''Adds a time_bnds variable to a netcdf'''\n",
    "\n",
    "    with nc4.Dataset(file, 'a') as f: # (a)ppend\n",
    "\n",
    "        # Check that the approach within this function is valid\n",
    "        assert 'hours' in f['time'].getncattr('units'), f'ERROR: time units in {file} not in hours'\n",
    "\n",
    "        # Check that a source dataset is specified\n",
    "        assert (dataset.lower() == 'era5') | (dataset.lower() == 'em-earth'), \\\n",
    "            f'add_time_bnds() contains no settings for dataset = {dataset}'\n",
    "\n",
    "        # Connect variable 'time_bounds' to variable 'time' through time attribute 'bounds'\n",
    "        f['time'].setncattr('bounds','time_bnds')\n",
    "\n",
    "        # Add nbnds dimension\n",
    "        f.createDimension('nbnds', 2)\n",
    "        f.createVariable('nbnds', 'i', 'nbnds')\n",
    "        f.variables['nbnds'][:] = [1,2]\n",
    "        f['nbnds'].setncattr('standard_name','bounds for timestep intervals')\n",
    "\n",
    "        # Add time_bnds variable\n",
    "        f.createVariable('time_bnds', f.variables['time'].datatype, ('nbnds','time'), fill_value = False, zlib=True, shuffle=True)\n",
    "        f['time_bnds'].setncattr('long_name', 'start and end points of each time step')\n",
    "        f['time_bnds'].setncattr('time_zone', timezone)\n",
    "        f['time_bnds'].setncattr('calendar', f['time'].getncattr('calendar'))\n",
    "        f['time_bnds'].setncattr('units', f['time'].getncattr('units'))\n",
    "\n",
    "        # Add the actual data\n",
    "        if dataset.lower() == 'era5':\n",
    "            f['time_bnds'][:] = np.array([f['time'][:]-1, f['time'][:]]) # Period-ending timestamps: t(n) is valid over t(n-1) to t(n)\n",
    "        if dataset.lower() == 'em-earth':\n",
    "            f['time_bnds'][:] = np.array([f['time'][:], f['time'][:]+1]) # Period-starting timestamps: t(n) is valid over t(n) to t(n+1)\n",
    "\n",
    "        # Update the file history\n",
    "        new_history = f' On {time.ctime(time.time())}: add_time_bnds().'\n",
    "        old_history = f.History\n",
    "        hist = f'{old_history} {new_history}'\n",
    "        f.setncattr('History',hist)"
   ]
  },
  {
   "cell_type": "code",
   "execution_count": null,
   "id": "d210ee7f-754c-49eb-a9f2-84c7033a7baa",
   "metadata": {},
   "outputs": [],
   "source": []
  }
 ],
 "metadata": {
  "kernelspec": {
   "display_name": "camels-spat-env",
   "language": "python",
   "name": "camels-spat-env"
  },
  "language_info": {
   "codemirror_mode": {
    "name": "ipython",
    "version": 3
   },
   "file_extension": ".py",
   "mimetype": "text/x-python",
   "name": "python",
   "nbconvert_exporter": "python",
   "pygments_lexer": "ipython3",
   "version": "3.11.5"
  }
 },
 "nbformat": 4,
 "nbformat_minor": 5
}
