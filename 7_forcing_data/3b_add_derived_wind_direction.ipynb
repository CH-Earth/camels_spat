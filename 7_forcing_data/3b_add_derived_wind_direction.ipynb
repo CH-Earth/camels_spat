{
 "cells": [
  {
   "cell_type": "markdown",
   "id": "1d46f903-bbd7-48d0-9ff7-6ca8362fa4f7",
   "metadata": {},
   "source": [
    "### Add derived wind direction \n",
    "We added derived variables to the ERA5 files before the basin-averaging step, but cannot easily average wind direction with EASYMORE's current capabilities: this would require some form of circular averaging that is currently unavailable. Therefore we add the derived wind direction to all files (raw, subbasin, lumped) individually, using the `u` and `v` values in each. \n",
    "\n",
    "See: https://confluence.ecmwf.int/pages/viewpage.action?pageId=133262398"
   ]
  },
  {
   "cell_type": "code",
   "execution_count": 8,
   "id": "420765e2-4a4f-4aec-b314-89e5dcf06439",
   "metadata": {},
   "outputs": [],
   "source": [
    "import glob\n",
    "import sys\n",
    "import netCDF4 as nc4\n",
    "import pandas as pd\n",
    "from pathlib import Path\n",
    "sys.path.append(str(Path().absolute().parent))\n",
    "import python_cs_functions as cs"
   ]
  },
  {
   "cell_type": "markdown",
   "id": "3a36f760-70b8-42ad-a271-4cdc37bce0cb",
   "metadata": {},
   "source": [
    "### Config handling"
   ]
  },
  {
   "cell_type": "code",
   "execution_count": 2,
   "id": "e5e6ada7-7a54-443c-879d-dd0587ecf5a0",
   "metadata": {},
   "outputs": [],
   "source": [
    "# Specify where the config file can be found\n",
    "config_file = '../0_config/config.txt'"
   ]
  },
  {
   "cell_type": "code",
   "execution_count": 3,
   "id": "b3f09664-7cef-4209-add0-adca43fc6290",
   "metadata": {},
   "outputs": [],
   "source": [
    "# Get the required info from the config file\n",
    "data_path = cs.read_from_config(config_file,'data_path')\n",
    "\n",
    "# CAMELS-spat metadata\n",
    "cs_meta_path = cs.read_from_config(config_file,'cs_basin_path')\n",
    "cs_meta_name = cs.read_from_config(config_file,'cs_meta_name')\n",
    "cs_unusable_name = cs.read_from_config(config_file,'cs_unusable_name')\n",
    "\n",
    "# Basin folder\n",
    "cs_basin_folder = cs.read_from_config(config_file, 'cs_basin_path')\n",
    "basins_path = Path(data_path) / cs_basin_folder"
   ]
  },
  {
   "cell_type": "markdown",
   "id": "fa118600-06c3-4254-84ea-a4d35319dc62",
   "metadata": {},
   "source": [
    "### Data loading"
   ]
  },
  {
   "cell_type": "code",
   "execution_count": 4,
   "id": "735eb246-161c-4679-8b0e-8f598f9b79ff",
   "metadata": {},
   "outputs": [],
   "source": [
    "# CAMELS-spat metadata file\n",
    "cs_meta_path = Path(data_path) / cs_meta_path\n",
    "cs_meta = pd.read_csv(cs_meta_path / cs_meta_name)"
   ]
  },
  {
   "cell_type": "code",
   "execution_count": 5,
   "id": "1e7acb5b-df99-474b-a05b-06db85d10f7f",
   "metadata": {},
   "outputs": [],
   "source": [
    "# Open list of unusable stations; Enforce reading IDs as string to keep leading 0's\n",
    "cs_unusable = pd.read_csv(cs_meta_path / cs_unusable_name, dtype={'Station_id': object})"
   ]
  },
  {
   "cell_type": "markdown",
   "id": "f08c1df6-7d90-46a0-b87e-91a045ac2d70",
   "metadata": {},
   "source": [
    "### Processing"
   ]
  },
  {
   "cell_type": "code",
   "execution_count": 6,
   "id": "f5b3254c-ccc7-45ac-9383-442ace19154d",
   "metadata": {},
   "outputs": [],
   "source": [
    "debug_message = f'\\n!!! CHECK DEBUGGING STATUS: \\n- Testing 1 basin\\n'"
   ]
  },
  {
   "cell_type": "code",
   "execution_count": 9,
   "id": "3fb29a06-0242-4d3b-ab00-53e21e0351f4",
   "metadata": {},
   "outputs": [
    {
     "name": "stdout",
     "output_type": "stream",
     "text": [
      "\n",
      "!!! CHECK DEBUGGING STATUS: \n",
      "- Testing 1 basin\n",
      "\n",
      "--- Now running basin 1. CAN_01AD003\n",
      "Processing /Users/wmk934/data/CAMELS_spat/camels-spat-data/basin_data/CAN_01AD003/forcing/raw/ERA5_1951-10.nc\n",
      "Processing /Users/wmk934/data/CAMELS_spat/camels-spat-data/basin_data/CAN_01AD003/forcing/lumped/ERA5_lumped_remapped_1951-10-01-00-00-00.nc\n",
      "Processing /Users/wmk934/data/CAMELS_spat/camels-spat-data/basin_data/CAN_01AD003/forcing/distributed/ERA5_dist_remapped_1951-10-01-00-00-00.nc\n",
      "\n",
      "!!! CHECK DEBUGGING STATUS: \n",
      "- Testing 1 basin\n",
      "\n"
     ]
    }
   ],
   "source": [
    "print(debug_message)\n",
    "for ix,row in cs_meta.iterrows():\n",
    "\n",
    "    # DEBUGGING\n",
    "    if ix != 1: continue\n",
    "    \n",
    "    # Get shapefile path to determine download coordinates, and forcing destination path\n",
    "    basin_id, shp_lump_path, shp_dist_path, _, _ = cs.prepare_delineation_outputs(cs_meta, ix, Path(data_path)/cs_basin_folder)\n",
    "    raw_fold, lump_fold, dist_fold = cs.prepare_forcing_outputs(cs_meta, ix, Path(data_path)/cs_basin_folder) # Returns folders only, not file names\n",
    "    print('--- Now running basin {}. {}'.format(ix, basin_id))\n",
    "    \n",
    "    # Check if we need to run downloads for this station at all\n",
    "    missing = cs.flow_obs_unavailable(cs_unusable, row.Country, row.Station_id)\n",
    "    if 'iv' in missing and 'dv' in missing: \n",
    "        continue # with next station, because we have no observations at all for this station\n",
    "\n",
    "    # Find the files\n",
    "    era5_merged_files = sorted(glob.glob(str(raw_fold/'ERA5_[0-9][0-9][0-9][0-9]-[0-9][0-9].nc'))) # list\n",
    "    era5_lump_files = sorted(glob.glob(str(lump_fold/'ERA5_lumped_*.nc'))) # list\n",
    "    era5_dist_files = sorted(glob.glob(str(dist_fold/'ERA5_dist_*.nc'))) # list\n",
    "    era5_all_files = era5_merged_files + era5_lump_files + era5_dist_files\n",
    "\n",
    "    # Loop over the files and add new variables\n",
    "    for file in era5_all_files:\n",
    "        print(f'Processing {file}')\n",
    "        with nc4.Dataset(file, 'r+') as f:\n",
    "            # Add wind direction, function argument 'dims' toggles a switch away from\n",
    "            #  default behavior in make_nc_variable() which assumes lat & lon dims exist\n",
    "            if 'hru' in f.dimensions:\n",
    "                f = cs.derive_wind_direction(f,dims='hru')\n",
    "            else:\n",
    "                f = cs.derive_wind_direction(f)\n",
    "\n",
    "print(debug_message)"
   ]
  },
  {
   "cell_type": "code",
   "execution_count": null,
   "id": "69c4cb85-e61b-49ee-93d0-269f74061a42",
   "metadata": {},
   "outputs": [],
   "source": []
  }
 ],
 "metadata": {
  "kernelspec": {
   "display_name": "camels-spat-env",
   "language": "python",
   "name": "camels-spat-env"
  },
  "language_info": {
   "codemirror_mode": {
    "name": "ipython",
    "version": 3
   },
   "file_extension": ".py",
   "mimetype": "text/x-python",
   "name": "python",
   "nbconvert_exporter": "python",
   "pygments_lexer": "ipython3",
   "version": "3.11.5"
  }
 },
 "nbformat": 4,
 "nbformat_minor": 5
}
