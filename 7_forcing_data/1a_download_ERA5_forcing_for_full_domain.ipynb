{
 "cells": [
  {
   "cell_type": "markdown",
   "id": "2d620cd8",
   "metadata": {},
   "source": [
    "# Download ERA5 data for full domain\n",
    "ERA5 needs to be downloaded through the Copernicus Data Store. Processing time on the CDS side is mostly independent from domain size. For example:\n",
    "- Downloading 1 month of data for a basin that covers 1 ERA5 grid cell takes in the order of several minutes;\n",
    "- Downloading 1 month of data for a spatial doamin that includes all basins takes in the order of 20 minutes.\n",
    "\n",
    "It is thus vastly more time-efficient to download data for the whole continent first, and subset to individual basins later. \n",
    "\n",
    "We need to download data for the largest time period required by the data, so we need to determine that too.\n",
    "\n",
    "We want to extract data on a per-month basis, particularly for MARS request (i.e. tape archive) because this maximizes the amount of information we extract from a single tape. This prevents unnecessary tape switching. This hopefully strikes a good balance between needs.\n",
    "\n",
    "See:\n",
    "- https://confluence.ecmwf.int/display/UDOC/Retrieve#Retrieve-Datacollocation"
   ]
  },
  {
   "cell_type": "code",
   "execution_count": 2,
   "id": "abf2114b",
   "metadata": {},
   "outputs": [],
   "source": [
    "import sys\n",
    "import concurrent.futures\n",
    "from datetime import datetime, timedelta\n",
    "import pandas as pd\n",
    "from pathlib import Path\n",
    "sys.path.append(str(Path().absolute().parent))\n",
    "import python_cs_functions as cs"
   ]
  },
  {
   "cell_type": "markdown",
   "id": "73793dff",
   "metadata": {},
   "source": [
    "### Config handling"
   ]
  },
  {
   "cell_type": "code",
   "execution_count": 3,
   "id": "0bd4a19f",
   "metadata": {},
   "outputs": [],
   "source": [
    "# Specify where the config file can be found\n",
    "config_file = '../0_config/config.txt'"
   ]
  },
  {
   "cell_type": "code",
   "execution_count": 9,
   "id": "4855e428",
   "metadata": {},
   "outputs": [],
   "source": [
    "# Get the required info from the config file\n",
    "data_path = cs.read_from_config(config_file,'data_path')\n",
    "\n",
    "# CAMELS-spat metadata\n",
    "cs_meta_path = cs.read_from_config(config_file,'cs_basin_path')\n",
    "cs_meta_name = cs.read_from_config(config_file,'cs_meta_name')\n",
    "cs_unusable_name = cs.read_from_config(config_file,'cs_unusable_name')\n",
    "\n",
    "# Basin folder\n",
    "cs_basin_folder = cs.read_from_config(config_file, 'cs_basin_path')\n",
    "basins_path = Path(data_path) / cs_basin_folder\n",
    "\n",
    "# Merged shape\n",
    "merged_shape_folder = cs.read_from_config(config_file, 'merged_shp_dir')\n",
    "merged_shape_name   = cs.read_from_config(config_file, 'merged_shp_name')\n",
    "\n",
    "# Temporary download path\n",
    "temp_folder = Path( cs.read_from_config(config_file, 'temp_path') )"
   ]
  },
  {
   "cell_type": "code",
   "execution_count": 5,
   "id": "3fc4e875-7994-46ab-9370-55947c5b0bb4",
   "metadata": {},
   "outputs": [],
   "source": [
    "# Specify the paths\n",
    "merged_shape_path = Path(data_path) / cs_basin_folder / merged_shape_folder"
   ]
  },
  {
   "cell_type": "code",
   "execution_count": 11,
   "id": "9c1c543e-6fb0-4999-80e7-24816f749ef6",
   "metadata": {},
   "outputs": [],
   "source": [
    "temp_folder.mkdir(parents=True, exist_ok=True)"
   ]
  },
  {
   "cell_type": "markdown",
   "id": "59f6f7d7",
   "metadata": {},
   "source": [
    "### Data loading"
   ]
  },
  {
   "cell_type": "code",
   "execution_count": 12,
   "id": "6c6e1dc7",
   "metadata": {},
   "outputs": [],
   "source": [
    "# CAMELS-spat metadata file\n",
    "cs_meta_path = Path(data_path) / cs_meta_path\n",
    "cs_meta = pd.read_csv(cs_meta_path / cs_meta_name)"
   ]
  },
  {
   "cell_type": "code",
   "execution_count": 13,
   "id": "9374522b",
   "metadata": {},
   "outputs": [],
   "source": [
    "# Open list of unusable stations; Enforce reading IDs as string to keep leading 0's\n",
    "cs_unusable = pd.read_csv(cs_meta_path / cs_unusable_name, dtype={'Station_id': object}) "
   ]
  },
  {
   "cell_type": "markdown",
   "id": "ad98bc25",
   "metadata": {},
   "source": [
    "## Processing"
   ]
  },
  {
   "cell_type": "markdown",
   "id": "da7179c9-6471-4639-a7a1-53f487538475",
   "metadata": {},
   "source": [
    "### Define the spatial extent of the whole domain"
   ]
  },
  {
   "cell_type": "code",
   "execution_count": 14,
   "id": "4b7aa991-cdc9-42af-a920-f78ddda8e4e3",
   "metadata": {},
   "outputs": [],
   "source": [
    "# Find bounding box\n",
    "bounds = cs.find_shapefile_bounds(merged_shape_path/merged_shape_name)"
   ]
  },
  {
   "cell_type": "code",
   "execution_count": 15,
   "id": "5c2f274f-8925-4a22-a035-b22b67dbd1d6",
   "metadata": {},
   "outputs": [],
   "source": [
    "# Convert bounding box to download coordinates\n",
    "coords_era5, _, _ = cs.find_download_coords_from_bounds(bounds, target='ERA5')"
   ]
  },
  {
   "cell_type": "code",
   "execution_count": 16,
   "id": "b9d51b45-972e-4f46-976c-f1c23d04d635",
   "metadata": {},
   "outputs": [
    {
     "name": "stdout",
     "output_type": "stream",
     "text": [
      "Spatial extent of download domain \n",
      "Bounds : [-143.87791667   26.95125     -52.80791667   69.35791667] \n",
      "Coords : 69.25/-144.0/27.0/-52.75\n"
     ]
    }
   ],
   "source": [
    "print(f'Spatial extent of download domain \\nBounds : {bounds} \\nCoords : {coords_era5}')"
   ]
  },
  {
   "cell_type": "markdown",
   "id": "c293a7d2-fa3d-4b59-9d1e-5d6cb08415e7",
   "metadata": {},
   "source": [
    "### Define the temporal extent of the whole domain"
   ]
  },
  {
   "cell_type": "code",
   "execution_count": 17,
   "id": "04468e7a-5c42-48f8-ba6c-3be59d75b84d",
   "metadata": {},
   "outputs": [],
   "source": [
    "# Start with some dates that we will overwrite with the true values in the next cell\n",
    "start_date = '2023-12-31' \n",
    "final_date = '1900-01-01'"
   ]
  },
  {
   "cell_type": "code",
   "execution_count": 18,
   "id": "95e5e074-da69-468f-871a-ce4e148c2c48",
   "metadata": {},
   "outputs": [],
   "source": [
    "for ix,row in cs_meta.iterrows():\n",
    "\n",
    "    # Check if any flow observations are missing\n",
    "    missing = cs.flow_obs_unavailable(cs_unusable, row.Country, row.Station_id)\n",
    "    if 'iv' in missing and 'dv' in missing: \n",
    "        continue # with next station, because we have no observations at all for this station\n",
    "\n",
    "    # From meta-data, get download period\n",
    "    times_flow = cs.find_flow_obs_times_from_metadata(row, missing)\n",
    "    times_era5 = cs.round_flow_obs_to_days(times_flow)\n",
    "\n",
    "    # Compare these times with what we already have, and update if we need to extend the download window on either side\n",
    "    start_date = min(start_date, times_era5[0])\n",
    "    final_date = max(final_date, times_era5[1])"
   ]
  },
  {
   "cell_type": "code",
   "execution_count": 23,
   "id": "06c97842-ea38-4f06-991f-5eddb649a779",
   "metadata": {},
   "outputs": [],
   "source": [
    "# Convert to datetimes\n",
    "start_date = datetime.strptime(start_date, '%Y-%m-%d')\n",
    "final_date = datetime.strptime(final_date, '%Y-%m-%d')"
   ]
  },
  {
   "cell_type": "code",
   "execution_count": 19,
   "id": "785c4e5e-9c74-45d3-85f4-b32ac0a76715",
   "metadata": {},
   "outputs": [
    {
     "name": "stdout",
     "output_type": "stream",
     "text": [
      "Temporal extent of download domain \n",
      "Start : 1950-01-01 \n",
      "End   : 2023-01-03\n"
     ]
    }
   ],
   "source": [
    "print(f'Temporal extent of download domain \\nStart : {start_date} \\nEnd   : {final_date}')"
   ]
  },
  {
   "cell_type": "markdown",
   "id": "0fa0005e-dde8-492b-8727-d6ac9535adb6",
   "metadata": {},
   "source": [
    "### Download the data"
   ]
  },
  {
   "cell_type": "code",
   "execution_count": null,
   "id": "dc110752-c3d9-4c20-9f16-c3439a9117d6",
   "metadata": {},
   "outputs": [],
   "source": [
    "# Get the time-invariant data\n",
    "cs.download_era5_time_invariant_data_to_netcdf(coords_era5, temp_folder/'ERA5_2023-01-01_invariants.nc')"
   ]
  },
  {
   "cell_type": "code",
   "execution_count": 24,
   "id": "e2d89e4d-a3fd-4075-bdfe-7513e685f8ee",
   "metadata": {},
   "outputs": [],
   "source": [
    "# Convert start and end dates into two lists of start and end dates, that we'll iterate over\n",
    "start_list,end_list = cs.convert_start_and_end_dates_to_era5_download_lists(start_date,final_date)"
   ]
  },
  {
   "cell_type": "code",
   "execution_count": 51,
   "id": "3bad6d9c-ef0f-4709-bf14-ad7e05605022",
   "metadata": {},
   "outputs": [],
   "source": [
    "# Function to call inside the parallel loop\n",
    "def download_era5(start, end):\n",
    "\n",
    "    # Convert to relevant\n",
    "    yyyy_mm = start.strftime('%Y-%m') # filename\n",
    "    start   = start.strftime('%Y-%m-%d') # yyyy-mm-dd for use with cdsapi\n",
    "    end     = end.strftime('%Y-%m-%d')\n",
    "\n",
    "    # Download\n",
    "    cs.download_era5_surface_level_data_to_netcdf(coords_era5, start, end, temp_folder/f'ERA5_{yyyy_mm}_surface_variables.nc')\n",
    "    cs.download_era5_pressure_level_data_to_netcdf(coords_era5, start, end, temp_folder/f'ERA5_{yyyy_mm}_pressure_variables.nc')\n",
    "\n",
    "    return print('Download successful')"
   ]
  },
  {
   "cell_type": "code",
   "execution_count": 42,
   "id": "e2f31673-26b3-4d1f-8f97-7bb52595976f",
   "metadata": {},
   "outputs": [],
   "source": [
    "test_s = start_list[:4]\n",
    "test_e = end_list[:4]"
   ]
  },
  {
   "cell_type": "code",
   "execution_count": 40,
   "id": "67c8cffe-42c8-4512-b171-99a02799ad50",
   "metadata": {},
   "outputs": [],
   "source": [
    "# Number of threads or processes to use\n",
    "num_workers = 2  # Adjust as needed"
   ]
  },
  {
   "cell_type": "code",
   "execution_count": null,
   "id": "21617761-3013-4bd5-9cd4-2823929b3842",
   "metadata": {},
   "outputs": [
    {
     "name": "stdout",
     "output_type": "stream",
     "text": [
      "Download successful\n"
     ]
    },
    {
     "name": "stderr",
     "output_type": "stream",
     "text": [
      "2023-08-22 13:50:04,827 INFO Welcome to the CDS\n",
      "2023-08-22 13:50:04,827 INFO Welcome to the CDS\n",
      "2023-08-22 13:50:04,827 INFO Sending request to https://cds.climate.copernicus.eu/api/v2/resources/reanalysis-era5-single-levels\n",
      "2023-08-22 13:50:04,827 INFO Sending request to https://cds.climate.copernicus.eu/api/v2/resources/reanalysis-era5-single-levels\n",
      "2023-08-22 13:50:05,085 INFO Request is queued\n",
      "2023-08-22 13:50:05,101 INFO Request is queued\n",
      "2023-08-22 13:50:06,306 INFO Request is running\n",
      "2023-08-22 13:56:26,902 INFO Request is running\n",
      "2023-08-22 13:56:26,912 INFO Request is completed\n",
      "2023-08-22 13:56:26,912 INFO Downloading https://download-0019.copernicus-climate.eu/cache-compute-0019/cache/data1/adaptor.mars.internal-1692734047.052998-7002-14-f2ad91fe-22d3-4a5a-af06-9fb800cc84be.nc to C:\\Globus endpoint\\CAMELS_spat\\camels-spat-data\\temp\\ERA5_1950-02_surface_variables.nc (558.3M)\n",
      "2023-08-22 13:57:07,842 INFO Download rate 13.6M/s   \n"
     ]
    },
    {
     "name": "stdout",
     "output_type": "stream",
     "text": [
      "Successfully downloaded C:\\Globus endpoint\\CAMELS_spat\\camels-spat-data\\temp\\ERA5_1950-02_surface_variables.nc\n"
     ]
    },
    {
     "name": "stderr",
     "output_type": "stream",
     "text": [
      "2023-08-22 13:57:08,243 INFO Welcome to the CDS\n",
      "2023-08-22 13:57:08,243 INFO Sending request to https://cds.climate.copernicus.eu/api/v2/resources/reanalysis-era5-complete\n",
      "2023-08-22 13:57:08,469 INFO Request is queued\n",
      "2023-08-22 14:00:27,330 INFO Request is completed\n",
      "2023-08-22 14:00:27,330 INFO Downloading https://download-0000-clone.copernicus-climate.eu/cache-compute-0000/cache/data1/adaptor.mars.internal-1692734337.7442143-536-12-d805660b-db92-4931-8f2d-179170a4e740.nc to C:\\Globus endpoint\\CAMELS_spat\\camels-spat-data\\temp\\ERA5_1950-03_surface_variables.nc (618.1M)\n",
      "2023-08-22 14:01:40,024 INFO Download rate 8.5M/s    \n"
     ]
    },
    {
     "name": "stdout",
     "output_type": "stream",
     "text": [
      "Successfully downloaded C:\\Globus endpoint\\CAMELS_spat\\camels-spat-data\\temp\\ERA5_1950-03_surface_variables.nc\n"
     ]
    },
    {
     "name": "stderr",
     "output_type": "stream",
     "text": [
      "2023-08-22 14:01:40,442 INFO Welcome to the CDS\n",
      "2023-08-22 14:01:40,442 INFO Sending request to https://cds.climate.copernicus.eu/api/v2/resources/reanalysis-era5-complete\n",
      "2023-08-22 14:01:40,663 INFO Request is queued\n",
      "2023-08-22 14:05:29,049 INFO Request is running\n",
      "2023-08-22 14:10:01,230 INFO Request is running\n",
      "2023-08-22 14:11:31,582 INFO Request is completed\n",
      "2023-08-22 14:11:31,582 INFO Downloading https://download-0015-clone.copernicus-climate.eu/cache-compute-0015/cache/data9/adaptor.mars.external-1692734965.3097308-26368-5-ec1f78ce-bf81-4b42-b286-5097fc325b23.nc to C:\\Globus endpoint\\CAMELS_spat\\camels-spat-data\\temp\\ERA5_1950-02_pressure_variables.nc (319M)\n",
      "2023-08-22 14:11:55,927 INFO Download rate 13.1M/s   \n"
     ]
    },
    {
     "name": "stdout",
     "output_type": "stream",
     "text": [
      "Successfully downloaded C:\\Globus endpoint\\CAMELS_spat\\camels-spat-data\\temp\\ERA5_1950-02_pressure_variables.nc\n",
      "Download successful\n"
     ]
    },
    {
     "name": "stderr",
     "output_type": "stream",
     "text": [
      "2023-08-22 14:11:56,338 INFO Welcome to the CDS\n",
      "2023-08-22 14:11:56,338 INFO Sending request to https://cds.climate.copernicus.eu/api/v2/resources/reanalysis-era5-single-levels\n",
      "2023-08-22 14:11:56,607 INFO Request is queued\n",
      "2023-08-22 14:11:57,819 INFO Request is running\n",
      "2023-08-22 14:16:02,504 INFO Request is completed\n",
      "2023-08-22 14:16:02,504 INFO Downloading https://download-0021.copernicus-climate.eu/cache-compute-0021/cache/data6/adaptor.mars.external-1692735261.6455355-24694-13-4cf3adc8-f066-4bb2-b80a-34f7c31d2170.nc to C:\\Globus endpoint\\CAMELS_spat\\camels-spat-data\\temp\\ERA5_1950-03_pressure_variables.nc (353.2M)\n",
      "2023-08-22 14:16:29,465 INFO Download rate 13.1M/s   \n"
     ]
    },
    {
     "name": "stdout",
     "output_type": "stream",
     "text": [
      "Successfully downloaded C:\\Globus endpoint\\CAMELS_spat\\camels-spat-data\\temp\\ERA5_1950-03_pressure_variables.nc\n",
      "Download successful\n"
     ]
    },
    {
     "name": "stderr",
     "output_type": "stream",
     "text": [
      "2023-08-22 14:18:17,685 INFO Request is completed\n",
      "2023-08-22 14:18:17,685 INFO Downloading https://download-0015-clone.copernicus-climate.eu/cache-compute-0015/cache/data3/adaptor.mars.internal-1692735375.078634-1435-4-404badcc-786a-4a4f-a1dd-0329f0776a16.nc to C:\\Globus endpoint\\CAMELS_spat\\camels-spat-data\\temp\\ERA5_1950-04_surface_variables.nc (598.1M)\n",
      "2023-08-22 14:19:57,589 INFO Download rate 6M/s      \n",
      "2023-08-22 14:19:58,701 INFO Welcome to the CDS\n"
     ]
    },
    {
     "name": "stdout",
     "output_type": "stream",
     "text": [
      "Successfully downloaded C:\\Globus endpoint\\CAMELS_spat\\camels-spat-data\\temp\\ERA5_1950-04_surface_variables.nc\n"
     ]
    },
    {
     "name": "stderr",
     "output_type": "stream",
     "text": [
      "2023-08-22 14:19:58,701 INFO Sending request to https://cds.climate.copernicus.eu/api/v2/resources/reanalysis-era5-complete\n",
      "2023-08-22 14:19:58,929 INFO Request is queued\n"
     ]
    }
   ],
   "source": [
    "with concurrent.futures.ThreadPoolExecutor(max_workers=num_workers) as executor:\n",
    "    results = list( executor.map(download_era5, test_s, test_e) )"
   ]
  },
  {
   "cell_type": "code",
   "execution_count": null,
   "id": "b48aaabb-2fba-4954-8cef-4ec3ff3497f2",
   "metadata": {},
   "outputs": [],
   "source": [
    "results"
   ]
  },
  {
   "cell_type": "markdown",
   "id": "4a3fa130-74d2-4bcf-8fd4-5e3c799fe84e",
   "metadata": {},
   "source": [
    "## Checks"
   ]
  },
  {
   "cell_type": "markdown",
   "id": "d0b51a5f-7397-47f2-b98d-057c4d028ce5",
   "metadata": {},
   "source": [
    "### Match domain and bounding box"
   ]
  },
  {
   "cell_type": "code",
   "execution_count": 10,
   "id": "55234df6-506c-4c32-ba3c-ce0605facc5b",
   "metadata": {},
   "outputs": [],
   "source": [
    "import geopandas as gpd\n",
    "import matplotlib.pyplot as plt\n",
    "from matplotlib.patches import Rectangle"
   ]
  },
  {
   "cell_type": "code",
   "execution_count": 11,
   "id": "bb874399-e953-44ce-88bb-f81afcc0cf99",
   "metadata": {},
   "outputs": [],
   "source": [
    "shp = gpd.read_file(merged_shape_path/merged_shape_name)"
   ]
  },
  {
   "cell_type": "code",
   "execution_count": 12,
   "id": "04cf0272-c3c0-44e6-82a9-a95e235a3f6a",
   "metadata": {},
   "outputs": [],
   "source": [
    "# define the bounding box as a patch object\n",
    "bounds = cs.find_shapefile_bounds(merged_shape_path/merged_shape_name)\n",
    "bounding_box = Rectangle((bounds[0],bounds[1]),bounds[2]-bounds[0],bounds[3]-bounds[1], edgecolor='r', facecolor='None')"
   ]
  },
  {
   "cell_type": "code",
   "execution_count": 13,
   "id": "111ff8c2-c3f3-47e1-8ec9-6ea6047120e4",
   "metadata": {},
   "outputs": [
    {
     "data": {
      "text/plain": [
       "<matplotlib.patches.Rectangle at 0x1cb6d3b4ca0>"
      ]
     },
     "execution_count": 13,
     "metadata": {},
     "output_type": "execute_result"
    },
    {
     "data": {
      "image/png": "[encoded data removed]",
      "text/plain": [
       "<Figure size 640x480 with 1 Axes>"
      ]
     },
     "metadata": {},
     "output_type": "display_data"
    }
   ],
   "source": [
    "# figure\n",
    "ax = plt.subplot()\n",
    "shp.plot(ax=ax)\n",
    "ax.add_patch(bounding_box)"
   ]
  },
  {
   "cell_type": "code",
   "execution_count": null,
   "id": "4c7ca428-ab4f-4d98-93c8-e4bfcb8f0191",
   "metadata": {},
   "outputs": [],
   "source": []
  }
 ],
 "metadata": {
  "kernelspec": {
   "display_name": "camels-spat-env",
   "language": "python",
   "name": "camels-spat-env"
  },
  "language_info": {
   "codemirror_mode": {
    "name": "ipython",
    "version": 3
   },
   "file_extension": ".py",
   "mimetype": "text/x-python",
   "name": "python",
   "nbconvert_exporter": "python",
   "pygments_lexer": "ipython3",
   "version": "3.8.2"
  }
 },
 "nbformat": 4,
 "nbformat_minor": 5
}
