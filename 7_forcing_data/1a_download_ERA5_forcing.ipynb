{
 "cells": [
  {
   "cell_type": "markdown",
   "id": "2d620cd8",
   "metadata": {},
   "source": [
    "# Download forcing\n",
    "Downloads ERA5 forcing data. Time period to download is based on availability of both flow and forcing data.\n",
    "- Flow: catchment-dependent\n",
    "- ERA5: 1940-current\n",
    "- EM-Earth: 1950-2019\n",
    "\n",
    "\n",
    "We want to extract data on a per-month basis, particularly for MARS request (i.e. tape archive) because this maximizes the amount of information we extract from a single tape. This prevents unnecessary tape switching. This hopefully strikes a good balance between needs.\n",
    "\n",
    "See:\n",
    "- https://confluence.ecmwf.int/display/UDOC/Retrieve#Retrieve-Datacollocation"
   ]
  },
  {
   "cell_type": "code",
   "execution_count": 1,
   "id": "abf2114b",
   "metadata": {},
   "outputs": [],
   "source": [
    "import sys\n",
    "from datetime import datetime, timedelta\n",
    "import pandas as pd\n",
    "from pathlib import Path\n",
    "sys.path.append(str(Path().absolute().parent))\n",
    "import python_cs_functions as cs"
   ]
  },
  {
   "cell_type": "markdown",
   "id": "73793dff",
   "metadata": {},
   "source": [
    "### Config handling"
   ]
  },
  {
   "cell_type": "code",
   "execution_count": 2,
   "id": "0bd4a19f",
   "metadata": {},
   "outputs": [],
   "source": [
    "# Specify where the config file can be found\n",
    "config_file = '../0_config/config.txt'"
   ]
  },
  {
   "cell_type": "code",
   "execution_count": 3,
   "id": "4855e428",
   "metadata": {},
   "outputs": [],
   "source": [
    "# Get the required info from the config file\n",
    "data_path = cs.read_from_config(config_file,'data_path')\n",
    "\n",
    "# CAMELS-spat metadata\n",
    "cs_meta_path = cs.read_from_config(config_file,'cs_basin_path')\n",
    "cs_meta_name = cs.read_from_config(config_file,'cs_meta_name')\n",
    "cs_unusable_name = cs.read_from_config(config_file,'cs_unusable_name')\n",
    "\n",
    "# Basin folder\n",
    "cs_basin_folder = cs.read_from_config(config_file, 'cs_basin_path')\n",
    "basins_path = Path(data_path) / cs_basin_folder"
   ]
  },
  {
   "cell_type": "markdown",
   "id": "59f6f7d7",
   "metadata": {},
   "source": [
    "### Data loading"
   ]
  },
  {
   "cell_type": "code",
   "execution_count": 4,
   "id": "6c6e1dc7",
   "metadata": {},
   "outputs": [],
   "source": [
    "# CAMELS-spat metadata file\n",
    "cs_meta_path = Path(data_path) / cs_meta_path\n",
    "cs_meta = pd.read_csv(cs_meta_path / cs_meta_name)"
   ]
  },
  {
   "cell_type": "code",
   "execution_count": 5,
   "id": "9374522b",
   "metadata": {},
   "outputs": [],
   "source": [
    "# Open list of unusable stations; Enforce reading IDs as string to keep leading 0's\n",
    "cs_unusable = pd.read_csv(cs_meta_path / cs_unusable_name, dtype={'Station_id': object}) "
   ]
  },
  {
   "cell_type": "markdown",
   "id": "ad98bc25",
   "metadata": {},
   "source": [
    "## Processing"
   ]
  },
  {
   "cell_type": "code",
   "execution_count": null,
   "id": "1799e176",
   "metadata": {},
   "outputs": [],
   "source": [
    "# Per basin:\n",
    "# 1. Determine download coordinates (code from cwarhm)\n",
    "# 2. Determine download period (from cs_meta)\n",
    "# 3. Download ERA5 \n",
    "# 4. Download deterministic EM-Earth"
   ]
  },
  {
   "cell_type": "code",
   "execution_count": 8,
   "id": "d076fb86-d457-421a-a225-45c21b2eafa7",
   "metadata": {},
   "outputs": [],
   "source": [
    "debug_message = f'!!! CHECK DEBUGGING STATUS: \\n- only running one month \\n'"
   ]
  },
  {
   "cell_type": "code",
   "execution_count": null,
   "id": "a6273a11",
   "metadata": {},
   "outputs": [
    {
     "name": "stdout",
     "output_type": "stream",
     "text": [
      "!!! CHECK DEBUGGING STATUS: \n",
      "- only running one month \n",
      "\n",
      "--- Now running basin 0. CAN_01AD002\n",
      "    Basin coordinates:         [-70.43208333  45.98541667 -68.07125     47.83791667]\n",
      "    ERA5 download coordinates: [47.75/-70.5/46.0/-68.0]\n",
      "    Flow obs unavailable:      ['iv']\n",
      "    Download times:            ['1950-01-01', '2020-12-31']\n",
      "--- Downloads for basin 0 complete.\n",
      "--- Now running basin 1. CAN_01AD003\n",
      "    Basin coordinates:         [-69.46458333  47.19458333 -68.94958333  47.83791667]\n",
      "    ERA5 download coordinates: [47.75/-69.5/47.25/-69.0]\n",
      "    Flow obs unavailable:      []\n",
      "    Download times:            ['1951-10-01', '2023-01-02']\n",
      "--- Downloads for basin 1 complete.\n",
      "--- Now running basin 2. CAN_01AE001\n",
      "    Basin coordinates:         [-68.96541667  46.68291667 -68.07125     47.30541667]\n",
      "    ERA5 download coordinates: [47.25/-69.0/46.75/-68.0]\n",
      "    Flow obs unavailable:      ['iv']\n",
      "    Download times:            ['1981-01-01', '2020-12-31']\n"
     ]
    },
    {
     "name": "stderr",
     "output_type": "stream",
     "text": [
      "2023-08-21 12:20:49,383 INFO Welcome to the CDS\n",
      "2023-08-21 12:20:49,383 INFO Sending request to https://cds.climate.copernicus.eu/api/v2/resources/reanalysis-era5-complete\n",
      "2023-08-21 12:20:49,602 INFO Request is queued\n",
      "2023-08-21 12:20:52,512 INFO Request is running\n",
      "2023-08-21 12:20:54,982 INFO Request is completed\n",
      "2023-08-21 12:20:54,982 INFO Downloading https://download-0019.copernicus-climate.eu/cache-compute-0019/cache/data4/adaptor.mars.external-1692642053.0498903-17402-16-81f4fe56-977a-4095-b30b-4a876ab0098c.nc to C:\\Globus endpoint\\CAMELS_spat\\camels-spat-data\\basin_data\\CAN_01AE001\\forcing\\raw\\ERA5_2023-01-01_invariants.nc (4.7K)\n",
      "2023-08-21 12:20:55,982 INFO Download rate 4.7K/s\n",
      "2023-08-21 12:20:56,372 INFO Welcome to the CDS\n"
     ]
    },
    {
     "name": "stdout",
     "output_type": "stream",
     "text": [
      "Successfully downloaded C:\\Globus endpoint\\CAMELS_spat\\camels-spat-data\\basin_data\\CAN_01AE001\\forcing\\raw\\ERA5_2023-01-01_invariants.nc\n"
     ]
    },
    {
     "name": "stderr",
     "output_type": "stream",
     "text": [
      "2023-08-21 12:20:56,372 INFO Sending request to https://cds.climate.copernicus.eu/api/v2/resources/reanalysis-era5-single-levels\n",
      "2023-08-21 12:20:56,612 INFO Request is queued\n",
      "2023-08-21 12:20:57,812 INFO Request is running\n",
      "2023-08-21 12:25:17,272 INFO Request is completed\n",
      "2023-08-21 12:25:17,272 INFO Downloading https://download-0001-clone.copernicus-climate.eu/cache-compute-0001/cache/data3/adaptor.mars.internal-1692642289.8627245-29267-6-4bc792bc-28f6-4fec-bfff-f0d42af0e7dd.nc to C:\\Globus endpoint\\CAMELS_spat\\camels-spat-data\\basin_data\\CAN_01AE001\\forcing\\raw\\ERA5_1981-01_surface_variables.nc (158.2K)\n",
      "2023-08-21 12:25:18,865 INFO Download rate 99.3K/s \n",
      "2023-08-21 12:25:19,271 INFO Welcome to the CDS\n"
     ]
    },
    {
     "name": "stdout",
     "output_type": "stream",
     "text": [
      "Successfully downloaded C:\\Globus endpoint\\CAMELS_spat\\camels-spat-data\\basin_data\\CAN_01AE001\\forcing\\raw\\ERA5_1981-01_surface_variables.nc\n"
     ]
    },
    {
     "name": "stderr",
     "output_type": "stream",
     "text": [
      "2023-08-21 12:25:19,271 INFO Sending request to https://cds.climate.copernicus.eu/api/v2/resources/reanalysis-era5-complete\n",
      "2023-08-21 12:25:19,491 INFO Request is queued\n",
      "2023-08-21 12:25:24,971 INFO Request is running\n",
      "2023-08-21 12:29:40,336 INFO Request is completed\n",
      "2023-08-21 12:29:40,337 INFO Downloading https://download-0017.copernicus-climate.eu/cache-compute-0017/cache/data4/adaptor.mars.external-1692642481.5472121-25021-11-0a3101a3-3b2f-4faa-8e8f-464ad8e178e4.nc to C:\\Globus endpoint\\CAMELS_spat\\camels-spat-data\\basin_data\\CAN_01AE001\\forcing\\raw\\ERA5_1981-01_pressure_variables.nc (92.1K)\n",
      "2023-08-21 12:29:41,914 INFO Download rate 58.4K/s  \n"
     ]
    },
    {
     "name": "stdout",
     "output_type": "stream",
     "text": [
      "Successfully downloaded C:\\Globus endpoint\\CAMELS_spat\\camels-spat-data\\basin_data\\CAN_01AE001\\forcing\\raw\\ERA5_1981-01_pressure_variables.nc\n",
      "--- Downloads for basin 2 complete.\n",
      "--- Now running basin 3. CAN_01AF007\n",
      "    Basin coordinates:         [-67.93541667  47.19958333 -67.53708333  47.45375   ]\n",
      "    ERA5 download coordinates: [47.5/-68.0/47.25/-67.5]\n",
      "    Flow obs unavailable:      []\n",
      "    Download times:            ['1977-01-01', '2023-01-02']\n"
     ]
    },
    {
     "name": "stderr",
     "output_type": "stream",
     "text": [
      "2023-08-21 12:29:42,355 INFO Welcome to the CDS\n",
      "2023-08-21 12:29:42,355 INFO Sending request to https://cds.climate.copernicus.eu/api/v2/resources/reanalysis-era5-complete\n",
      "2023-08-21 12:29:42,592 INFO Request is queued\n",
      "2023-08-21 12:29:45,526 INFO Request is running\n",
      "2023-08-21 12:29:48,017 INFO Request is completed\n",
      "2023-08-21 12:29:48,018 INFO Downloading https://download-0009-clone.copernicus-climate.eu/cache-compute-0009/cache/data4/adaptor.mars.external-1692642586.3713133-32354-5-a787ce34-bab5-4b77-ace2-f872049c56c9.nc to C:\\Globus endpoint\\CAMELS_spat\\camels-spat-data\\basin_data\\CAN_01AF007\\forcing\\raw\\ERA5_2023-01-01_invariants.nc (4.5K)\n",
      "2023-08-21 12:29:49,029 INFO Download rate 4.4K/s\n",
      "2023-08-21 12:29:49,440 INFO Welcome to the CDS\n"
     ]
    },
    {
     "name": "stdout",
     "output_type": "stream",
     "text": [
      "Successfully downloaded C:\\Globus endpoint\\CAMELS_spat\\camels-spat-data\\basin_data\\CAN_01AF007\\forcing\\raw\\ERA5_2023-01-01_invariants.nc\n"
     ]
    },
    {
     "name": "stderr",
     "output_type": "stream",
     "text": [
      "2023-08-21 12:29:49,441 INFO Sending request to https://cds.climate.copernicus.eu/api/v2/resources/reanalysis-era5-single-levels\n",
      "2023-08-21 12:29:49,659 INFO Request is queued\n",
      "2023-08-21 12:29:50,873 INFO Request is running\n",
      "2023-08-21 12:36:11,309 INFO Request is completed\n",
      "2023-08-21 12:36:11,310 INFO Downloading https://download-0012-clone.copernicus-climate.eu/cache-compute-0012/cache/data1/adaptor.mars.internal-1692642863.5874598-19104-2-1ab743c1-00ba-4f2a-9ae9-6de411be4153.nc to C:\\Globus endpoint\\CAMELS_spat\\camels-spat-data\\basin_data\\CAN_01AF007\\forcing\\raw\\ERA5_1977-01_surface_variables.nc (66.6K)\n",
      "2023-08-21 12:36:12,730 INFO Download rate 46.9K/s  \n",
      "2023-08-21 12:36:13,136 INFO Welcome to the CDS\n"
     ]
    },
    {
     "name": "stdout",
     "output_type": "stream",
     "text": [
      "Successfully downloaded C:\\Globus endpoint\\CAMELS_spat\\camels-spat-data\\basin_data\\CAN_01AF007\\forcing\\raw\\ERA5_1977-01_surface_variables.nc\n"
     ]
    },
    {
     "name": "stderr",
     "output_type": "stream",
     "text": [
      "2023-08-21 12:36:13,137 INFO Sending request to https://cds.climate.copernicus.eu/api/v2/resources/reanalysis-era5-complete\n",
      "2023-08-21 12:36:13,382 INFO Request is queued\n",
      "2023-08-21 12:36:16,297 INFO Request is running\n",
      "2023-08-21 12:40:34,138 INFO Request is completed\n",
      "2023-08-21 12:40:34,138 INFO Downloading https://download-0014-clone.copernicus-climate.eu/cache-compute-0014/cache/data5/adaptor.mars.external-1692643136.1828034-31406-15-8bd1bb56-3764-4c8b-98fc-7eac95a8bc4b.nc to C:\\Globus endpoint\\CAMELS_spat\\camels-spat-data\\basin_data\\CAN_01AF007\\forcing\\raw\\ERA5_1977-01_pressure_variables.nc (39.7K)\n",
      "2023-08-21 12:40:35,338 INFO Download rate 33.1K/s  \n"
     ]
    },
    {
     "name": "stdout",
     "output_type": "stream",
     "text": [
      "Successfully downloaded C:\\Globus endpoint\\CAMELS_spat\\camels-spat-data\\basin_data\\CAN_01AF007\\forcing\\raw\\ERA5_1977-01_pressure_variables.nc\n",
      "--- Downloads for basin 3 complete.\n",
      "--- Now running basin 4. CAN_01AF009\n",
      "    Basin coordinates:         [-68.45541667  47.45541667 -68.29791667  47.68708333]\n",
      "    ERA5 download coordinates: [47.75/-68.5/47.5/-68.25]\n",
      "    Flow obs unavailable:      []\n",
      "    Download times:            ['1991-01-01', '2022-12-10']\n"
     ]
    },
    {
     "name": "stderr",
     "output_type": "stream",
     "text": [
      "2023-08-21 12:40:35,758 INFO Welcome to the CDS\n",
      "2023-08-21 12:40:35,758 INFO Sending request to https://cds.climate.copernicus.eu/api/v2/resources/reanalysis-era5-complete\n",
      "2023-08-21 12:40:35,988 INFO Request is queued\n",
      "2023-08-21 12:40:37,188 INFO Request is running\n",
      "2023-08-21 12:40:41,338 INFO Request is completed\n",
      "2023-08-21 12:40:41,338 INFO Downloading https://download-0013-clone.copernicus-climate.eu/cache-compute-0013/cache/data4/adaptor.mars.external-1692643237.9960916-28202-9-46dc853a-ef46-48e2-b8c3-bff5e5ea04b5.nc to C:\\Globus endpoint\\CAMELS_spat\\camels-spat-data\\basin_data\\CAN_01AF009\\forcing\\raw\\ERA5_2023-01-01_invariants.nc (4.4K)\n",
      "2023-08-21 12:40:42,372 INFO Download rate 4.3K/s\n",
      "2023-08-21 12:40:42,768 INFO Welcome to the CDS\n"
     ]
    },
    {
     "name": "stdout",
     "output_type": "stream",
     "text": [
      "Successfully downloaded C:\\Globus endpoint\\CAMELS_spat\\camels-spat-data\\basin_data\\CAN_01AF009\\forcing\\raw\\ERA5_2023-01-01_invariants.nc\n"
     ]
    },
    {
     "name": "stderr",
     "output_type": "stream",
     "text": [
      "2023-08-21 12:40:42,768 INFO Sending request to https://cds.climate.copernicus.eu/api/v2/resources/reanalysis-era5-single-levels\n",
      "2023-08-21 12:40:43,002 INFO Request is queued\n",
      "2023-08-21 12:40:44,203 INFO Request is running\n",
      "2023-08-21 12:45:03,818 INFO Request is completed\n",
      "2023-08-21 12:45:03,818 INFO Downloading https://download-0014-clone.copernicus-climate.eu/cache-compute-0014/cache/data8/adaptor.mars.internal-1692643470.9627874-8466-4-6657cc25-06c6-4d0f-9cfc-367387b56e2d.nc to C:\\Globus endpoint\\CAMELS_spat\\camels-spat-data\\basin_data\\CAN_01AF009\\forcing\\raw\\ERA5_1991-01_surface_variables.nc (46.3K)\n",
      "2023-08-21 12:45:05,178 INFO Download rate 34K/s    \n",
      "2023-08-21 12:45:05,598 INFO Welcome to the CDS\n"
     ]
    },
    {
     "name": "stdout",
     "output_type": "stream",
     "text": [
      "Successfully downloaded C:\\Globus endpoint\\CAMELS_spat\\camels-spat-data\\basin_data\\CAN_01AF009\\forcing\\raw\\ERA5_1991-01_surface_variables.nc\n"
     ]
    },
    {
     "name": "stderr",
     "output_type": "stream",
     "text": [
      "2023-08-21 12:45:05,598 INFO Sending request to https://cds.climate.copernicus.eu/api/v2/resources/reanalysis-era5-complete\n",
      "2023-08-21 12:45:05,838 INFO Request is queued\n",
      "2023-08-21 12:45:27,938 INFO Request is running\n",
      "2023-08-21 12:49:26,651 INFO Request is completed\n",
      "2023-08-21 12:49:26,651 INFO Downloading https://download-0001-clone.copernicus-climate.eu/cache-compute-0001/cache/data9/adaptor.mars.external-1692643682.5736504-9700-10-ae211af0-ef87-4fd7-9c27-a5cc8a41d149.nc to C:\\Globus endpoint\\CAMELS_spat\\camels-spat-data\\basin_data\\CAN_01AF009\\forcing\\raw\\ERA5_1991-01_pressure_variables.nc (28.1K)\n",
      "2023-08-21 12:49:27,907 INFO Download rate 22.4K/s  \n"
     ]
    },
    {
     "name": "stdout",
     "output_type": "stream",
     "text": [
      "Successfully downloaded C:\\Globus endpoint\\CAMELS_spat\\camels-spat-data\\basin_data\\CAN_01AF009\\forcing\\raw\\ERA5_1991-01_pressure_variables.nc\n",
      "--- Downloads for basin 4 complete.\n",
      "--- Now running basin 5. CAN_01AJ003\n",
      "    Basin coordinates:         [-68.13125     45.89875    -67.66208333  46.45958333]\n",
      "    ERA5 download coordinates: [46.5/-68.25/46.0/-67.75]\n",
      "    Flow obs unavailable:      []\n",
      "    Download times:            ['1967-12-01', '2022-12-10']\n"
     ]
    },
    {
     "name": "stderr",
     "output_type": "stream",
     "text": [
      "2023-08-21 12:49:28,328 INFO Welcome to the CDS\n",
      "2023-08-21 12:49:28,328 INFO Sending request to https://cds.climate.copernicus.eu/api/v2/resources/reanalysis-era5-complete\n",
      "2023-08-21 12:49:28,551 INFO Request is queued\n",
      "2023-08-21 12:49:29,761 INFO Request is running\n",
      "2023-08-21 12:49:33,929 INFO Request is completed\n",
      "2023-08-21 12:49:33,929 INFO Downloading https://download-0015-clone.copernicus-climate.eu/cache-compute-0015/cache/data9/adaptor.mars.external-1692643771.1716938-31455-5-3d3823ea-7ba7-4a6d-bf45-da9149f8f2d3.nc to C:\\Globus endpoint\\CAMELS_spat\\camels-spat-data\\basin_data\\CAN_01AJ003\\forcing\\raw\\ERA5_2023-01-01_invariants.nc (4.6K)\n",
      "2023-08-21 12:49:34,951 INFO Download rate 4.5K/s\n"
     ]
    },
    {
     "name": "stdout",
     "output_type": "stream",
     "text": [
      "Successfully downloaded C:\\Globus endpoint\\CAMELS_spat\\camels-spat-data\\basin_data\\CAN_01AJ003\\forcing\\raw\\ERA5_2023-01-01_invariants.nc\n",
      "--- Downloads for basin 5 complete.\n",
      "--- Now running basin 6. CAN_01AJ004\n",
      "    Basin coordinates:         [-68.00875     46.34375    -67.72541667  46.72208333]\n",
      "    ERA5 download coordinates: [46.75/-68.0/46.25/-67.75]\n",
      "    Flow obs unavailable:      []\n",
      "    Download times:            ['1967-11-01', '2023-01-02']\n"
     ]
    },
    {
     "name": "stderr",
     "output_type": "stream",
     "text": [
      "2023-08-21 12:49:35,378 INFO Welcome to the CDS\n",
      "2023-08-21 12:49:35,378 INFO Sending request to https://cds.climate.copernicus.eu/api/v2/resources/reanalysis-era5-complete\n",
      "2023-08-21 12:49:35,627 INFO Request is queued\n",
      "2023-08-21 12:49:36,818 INFO Request is running\n",
      "2023-08-21 12:49:38,520 INFO Request is completed\n",
      "2023-08-21 12:49:38,521 INFO Downloading https://download-0006-clone.copernicus-climate.eu/cache-compute-0006/cache/data5/adaptor.mars.external-1692643777.5554233-17351-6-49751aec-4a2a-448d-8d36-4d7b9fbdec50.nc to C:\\Globus endpoint\\CAMELS_spat\\camels-spat-data\\basin_data\\CAN_01AJ004\\forcing\\raw\\ERA5_2023-01-01_invariants.nc (4.5K)\n",
      "2023-08-21 12:49:39,582 INFO Download rate 4.2K/s\n",
      "2023-08-21 12:49:39,980 INFO Welcome to the CDS\n"
     ]
    },
    {
     "name": "stdout",
     "output_type": "stream",
     "text": [
      "Successfully downloaded C:\\Globus endpoint\\CAMELS_spat\\camels-spat-data\\basin_data\\CAN_01AJ004\\forcing\\raw\\ERA5_2023-01-01_invariants.nc\n"
     ]
    },
    {
     "name": "stderr",
     "output_type": "stream",
     "text": [
      "2023-08-21 12:49:39,981 INFO Sending request to https://cds.climate.copernicus.eu/api/v2/resources/reanalysis-era5-single-levels\n",
      "2023-08-21 12:49:40,209 INFO Request is queued\n",
      "2023-08-21 12:49:41,421 INFO Request is running\n",
      "2023-08-21 12:56:01,815 INFO Request is completed\n",
      "2023-08-21 12:56:01,815 INFO Downloading https://download-0020.copernicus-climate.eu/cache-compute-0020/cache/data6/adaptor.mars.internal-1692644056.637492-32230-8-6a80cf71-ac1c-4352-ad51-463dd15d95ae.nc to C:\\Globus endpoint\\CAMELS_spat\\camels-spat-data\\basin_data\\CAN_01AJ004\\forcing\\raw\\ERA5_1967-11_surface_variables.nc (64.6K)\n",
      "2023-08-21 12:56:03,245 INFO Download rate 45.2K/s  \n",
      "2023-08-21 12:56:03,646 INFO Welcome to the CDS\n"
     ]
    },
    {
     "name": "stdout",
     "output_type": "stream",
     "text": [
      "Successfully downloaded C:\\Globus endpoint\\CAMELS_spat\\camels-spat-data\\basin_data\\CAN_01AJ004\\forcing\\raw\\ERA5_1967-11_surface_variables.nc\n"
     ]
    },
    {
     "name": "stderr",
     "output_type": "stream",
     "text": [
      "2023-08-21 12:56:03,646 INFO Sending request to https://cds.climate.copernicus.eu/api/v2/resources/reanalysis-era5-complete\n",
      "2023-08-21 12:56:03,876 INFO Request is queued\n",
      "2023-08-21 12:56:05,074 INFO Request is running\n",
      "2023-08-21 13:00:24,598 INFO Request is completed\n",
      "2023-08-21 13:00:24,598 INFO Downloading https://download-0000-clone.copernicus-climate.eu/cache-compute-0000/cache/data2/adaptor.mars.external-1692644329.2252772-29579-5-b879b1f5-598a-409b-bea0-520ce9e4f04c.nc to C:\\Globus endpoint\\CAMELS_spat\\camels-spat-data\\basin_data\\CAN_01AJ004\\forcing\\raw\\ERA5_1967-11_pressure_variables.nc (38.5K)\n",
      "2023-08-21 13:00:25,823 INFO Download rate 31.5K/s  \n"
     ]
    },
    {
     "name": "stdout",
     "output_type": "stream",
     "text": [
      "Successfully downloaded C:\\Globus endpoint\\CAMELS_spat\\camels-spat-data\\basin_data\\CAN_01AJ004\\forcing\\raw\\ERA5_1967-11_pressure_variables.nc\n",
      "--- Downloads for basin 6 complete.\n",
      "--- Now running basin 7. CAN_01AJ010\n",
      "    Basin coordinates:         [-67.46541667  46.19041667 -67.15125     46.43625   ]\n",
      "    ERA5 download coordinates: [46.5/-67.5/46.25/-67.25]\n",
      "    Flow obs unavailable:      []\n",
      "    Download times:            ['1973-06-01', '2022-12-10']\n"
     ]
    },
    {
     "name": "stderr",
     "output_type": "stream",
     "text": [
      "2023-08-21 13:00:26,278 INFO Welcome to the CDS\n",
      "2023-08-21 13:00:26,278 INFO Sending request to https://cds.climate.copernicus.eu/api/v2/resources/reanalysis-era5-complete\n",
      "2023-08-21 13:00:26,483 INFO Request is queued\n",
      "2023-08-21 13:00:27,685 INFO Request is running\n",
      "2023-08-21 13:00:29,412 INFO Request is completed\n",
      "2023-08-21 13:00:29,413 INFO Downloading https://download-0018.copernicus-climate.eu/cache-compute-0018/cache/data1/adaptor.mars.external-1692644428.169305-15726-11-408652e7-2964-4007-8fab-631bc349580d.nc to C:\\Globus endpoint\\CAMELS_spat\\camels-spat-data\\basin_data\\CAN_01AJ010\\forcing\\raw\\ERA5_2023-01-01_invariants.nc (4.4K)\n",
      "2023-08-21 13:00:30,458 INFO Download rate 4.2K/s\n",
      "2023-08-21 13:00:30,866 INFO Welcome to the CDS\n"
     ]
    },
    {
     "name": "stdout",
     "output_type": "stream",
     "text": [
      "Successfully downloaded C:\\Globus endpoint\\CAMELS_spat\\camels-spat-data\\basin_data\\CAN_01AJ010\\forcing\\raw\\ERA5_2023-01-01_invariants.nc\n"
     ]
    },
    {
     "name": "stderr",
     "output_type": "stream",
     "text": [
      "2023-08-21 13:00:30,867 INFO Sending request to https://cds.climate.copernicus.eu/api/v2/resources/reanalysis-era5-single-levels\n",
      "2023-08-21 13:00:31,100 INFO Request is queued\n",
      "2023-08-21 13:00:32,318 INFO Request is running\n",
      "2023-08-21 13:06:52,822 INFO Request is completed\n",
      "2023-08-21 13:06:52,822 INFO Downloading https://download-0015-clone.copernicus-climate.eu/cache-compute-0015/cache/data9/adaptor.mars.internal-1692644684.398785-30406-10-6288fc80-9daa-4742-bada-5db69bb31937.nc to C:\\Globus endpoint\\CAMELS_spat\\camels-spat-data\\basin_data\\CAN_01AJ010\\forcing\\raw\\ERA5_1973-06_surface_variables.nc (44.9K)\n",
      "2023-08-21 13:06:54,221 INFO Download rate 32.1K/s  \n"
     ]
    },
    {
     "name": "stdout",
     "output_type": "stream",
     "text": [
      "Successfully downloaded C:\\Globus endpoint\\CAMELS_spat\\camels-spat-data\\basin_data\\CAN_01AJ010\\forcing\\raw\\ERA5_1973-06_surface_variables.nc\n"
     ]
    },
    {
     "name": "stderr",
     "output_type": "stream",
     "text": [
      "2023-08-21 13:06:54,641 INFO Welcome to the CDS\n",
      "2023-08-21 13:06:54,641 INFO Sending request to https://cds.climate.copernicus.eu/api/v2/resources/reanalysis-era5-complete\n",
      "2023-08-21 13:06:54,842 INFO Request is queued\n",
      "2023-08-21 13:06:56,072 INFO Request is running\n",
      "2023-08-21 13:11:15,644 INFO Request is completed\n",
      "2023-08-21 13:11:15,644 INFO Downloading https://download-0000-clone.copernicus-climate.eu/cache-compute-0000/cache/data3/adaptor.mars.external-1692644982.3532124-2905-2-c21437d3-8f11-4091-9d61-fdfd6373af62.nc to C:\\Globus endpoint\\CAMELS_spat\\camels-spat-data\\basin_data\\CAN_01AJ010\\forcing\\raw\\ERA5_1973-06_pressure_variables.nc (27.3K)\n",
      "2023-08-21 13:11:16,828 INFO Download rate 23K/s    \n"
     ]
    },
    {
     "name": "stdout",
     "output_type": "stream",
     "text": [
      "Successfully downloaded C:\\Globus endpoint\\CAMELS_spat\\camels-spat-data\\basin_data\\CAN_01AJ010\\forcing\\raw\\ERA5_1973-06_pressure_variables.nc\n",
      "--- Downloads for basin 7 complete.\n",
      "--- Now running basin 8. CAN_01AK001\n",
      "    Basin coordinates:         [-67.49375     45.72208333 -67.27291667  45.94625   ]\n",
      "    ERA5 download coordinates: [46.0/-67.5/45.75/-67.25]\n",
      "    Flow obs unavailable:      []\n",
      "    Download times:            ['1950-01-01', '2023-01-02']\n"
     ]
    },
    {
     "name": "stderr",
     "output_type": "stream",
     "text": [
      "2023-08-21 13:11:17,274 INFO Welcome to the CDS\n",
      "2023-08-21 13:11:17,274 INFO Sending request to https://cds.climate.copernicus.eu/api/v2/resources/reanalysis-era5-complete\n",
      "2023-08-21 13:11:17,513 INFO Request is queued\n",
      "2023-08-21 13:11:18,723 INFO Request is running\n",
      "2023-08-21 13:11:20,443 INFO Request is completed\n",
      "2023-08-21 13:11:20,443 INFO Downloading https://download-0010-clone.copernicus-climate.eu/cache-compute-0010/cache/data4/adaptor.mars.external-1692645079.2619443-928-6-97b5a243-833e-4de0-bdbc-656df24b6845.nc to C:\\Globus endpoint\\CAMELS_spat\\camels-spat-data\\basin_data\\CAN_01AK001\\forcing\\raw\\ERA5_2023-01-01_invariants.nc (4.4K)\n",
      "2023-08-21 13:11:21,467 INFO Download rate 4.3K/s\n",
      "2023-08-21 13:11:21,874 INFO Welcome to the CDS\n"
     ]
    },
    {
     "name": "stdout",
     "output_type": "stream",
     "text": [
      "Successfully downloaded C:\\Globus endpoint\\CAMELS_spat\\camels-spat-data\\basin_data\\CAN_01AK001\\forcing\\raw\\ERA5_2023-01-01_invariants.nc\n"
     ]
    },
    {
     "name": "stderr",
     "output_type": "stream",
     "text": [
      "2023-08-21 13:11:21,874 INFO Sending request to https://cds.climate.copernicus.eu/api/v2/resources/reanalysis-era5-single-levels\n",
      "2023-08-21 13:11:22,093 INFO Request is queued\n",
      "2023-08-21 13:11:23,318 INFO Request is running\n",
      "2023-08-21 13:17:43,781 INFO Request is completed\n",
      "2023-08-21 13:17:43,781 INFO Downloading https://download-0011-clone.copernicus-climate.eu/cache-compute-0011/cache/data4/adaptor.mars.internal-1692645354.8550835-23325-7-53964420-9030-4214-99b3-6937617a063f.nc to C:\\Globus endpoint\\CAMELS_spat\\camels-spat-data\\basin_data\\CAN_01AK001\\forcing\\raw\\ERA5_1950-01_surface_variables.nc (46.3K)\n",
      "2023-08-21 13:17:45,201 INFO Download rate 32.6K/s  \n"
     ]
    },
    {
     "name": "stdout",
     "output_type": "stream",
     "text": [
      "Successfully downloaded C:\\Globus endpoint\\CAMELS_spat\\camels-spat-data\\basin_data\\CAN_01AK001\\forcing\\raw\\ERA5_1950-01_surface_variables.nc\n"
     ]
    },
    {
     "name": "stderr",
     "output_type": "stream",
     "text": [
      "2023-08-21 13:17:45,621 INFO Welcome to the CDS\n",
      "2023-08-21 13:17:45,621 INFO Sending request to https://cds.climate.copernicus.eu/api/v2/resources/reanalysis-era5-complete\n",
      "2023-08-21 13:17:45,861 INFO Request is queued\n",
      "2023-08-21 13:17:54,850 INFO Request is running\n",
      "2023-08-21 13:22:06,643 INFO Request is completed\n",
      "2023-08-21 13:22:06,643 INFO Downloading https://download-0005-clone.copernicus-climate.eu/cache-compute-0005/cache/data9/adaptor.mars.external-1692645634.1243815-24461-2-cb825000-f005-4e82-832d-281454cf087b.nc to C:\\Globus endpoint\\CAMELS_spat\\camels-spat-data\\basin_data\\CAN_01AK001\\forcing\\raw\\ERA5_1950-01_pressure_variables.nc (28.1K)\n",
      "2023-08-21 13:22:07,901 INFO Download rate 22.3K/s  \n"
     ]
    },
    {
     "name": "stdout",
     "output_type": "stream",
     "text": [
      "Successfully downloaded C:\\Globus endpoint\\CAMELS_spat\\camels-spat-data\\basin_data\\CAN_01AK001\\forcing\\raw\\ERA5_1950-01_pressure_variables.nc\n",
      "--- Downloads for basin 8 complete.\n",
      "--- Now running basin 9. CAN_01AK006\n",
      "    Basin coordinates:         [-66.77875     46.08125    -66.73208333  46.12125   ]\n",
      "    ERA5 download coordinates: [46.0/-66.75/46.0/-66.75]\n",
      "    Flow obs unavailable:      []\n",
      "    Download times:            ['1966-11-01', '2022-12-10']\n"
     ]
    },
    {
     "name": "stderr",
     "output_type": "stream",
     "text": [
      "2023-08-21 13:22:08,335 INFO Welcome to the CDS\n",
      "2023-08-21 13:22:08,339 INFO Sending request to https://cds.climate.copernicus.eu/api/v2/resources/reanalysis-era5-complete\n",
      "2023-08-21 13:22:08,565 INFO Request is queued\n",
      "2023-08-21 13:22:13,926 INFO Request is running\n",
      "2023-08-21 13:22:17,547 INFO Request is completed\n",
      "2023-08-21 13:22:17,549 INFO Downloading https://download-0005-clone.copernicus-climate.eu/cache-compute-0005/cache/data4/adaptor.mars.external-1692645734.8404844-24638-10-de6b1894-2e0b-4fc5-bfb1-b1dd91efca01.nc to C:\\Globus endpoint\\CAMELS_spat\\camels-spat-data\\basin_data\\CAN_01AK006\\forcing\\raw\\ERA5_2023-01-01_invariants.nc (4.3K)\n",
      "2023-08-21 13:22:17,756 INFO Download rate 21.1K/s\n",
      "2023-08-21 13:22:18,157 INFO Welcome to the CDS\n"
     ]
    },
    {
     "name": "stdout",
     "output_type": "stream",
     "text": [
      "Successfully downloaded C:\\Globus endpoint\\CAMELS_spat\\camels-spat-data\\basin_data\\CAN_01AK006\\forcing\\raw\\ERA5_2023-01-01_invariants.nc\n"
     ]
    },
    {
     "name": "stderr",
     "output_type": "stream",
     "text": [
      "2023-08-21 13:22:18,158 INFO Sending request to https://cds.climate.copernicus.eu/api/v2/resources/reanalysis-era5-single-levels\n",
      "2023-08-21 13:22:18,401 INFO Request is queued\n",
      "2023-08-21 13:22:19,609 INFO Request is running\n",
      "2023-08-21 13:28:40,146 INFO Request is completed\n",
      "2023-08-21 13:28:40,146 INFO Downloading https://download-0005-clone.copernicus-climate.eu/cache-compute-0005/cache/data0/adaptor.mars.internal-1692646001.406307-24928-7-12adafb9-4d5e-4853-ba9d-375fcb4c1df6.nc to C:\\Globus endpoint\\CAMELS_spat\\camels-spat-data\\basin_data\\CAN_01AK006\\forcing\\raw\\ERA5_1966-11_surface_variables.nc (15.3K)\n",
      "2023-08-21 13:28:41,376 INFO Download rate 12.5K/s  \n"
     ]
    },
    {
     "name": "stdout",
     "output_type": "stream",
     "text": [
      "Successfully downloaded C:\\Globus endpoint\\CAMELS_spat\\camels-spat-data\\basin_data\\CAN_01AK006\\forcing\\raw\\ERA5_1966-11_surface_variables.nc\n"
     ]
    },
    {
     "name": "stderr",
     "output_type": "stream",
     "text": [
      "2023-08-21 13:28:41,789 INFO Welcome to the CDS\n",
      "2023-08-21 13:28:41,789 INFO Sending request to https://cds.climate.copernicus.eu/api/v2/resources/reanalysis-era5-complete\n",
      "2023-08-21 13:28:42,034 INFO Request is queued\n",
      "2023-08-21 13:28:47,416 INFO Request is running\n",
      "2023-08-21 13:33:02,704 INFO Request is completed\n",
      "2023-08-21 13:33:02,704 INFO Downloading https://download-0006-clone.copernicus-climate.eu/cache-compute-0006/cache/data4/adaptor.mars.external-1692646295.7631516-3117-2-ad412b94-61bc-4838-a92e-97dea080a385.nc to C:\\Globus endpoint\\CAMELS_spat\\camels-spat-data\\basin_data\\CAN_01AK006\\forcing\\raw\\ERA5_1966-11_pressure_variables.nc (10.4K)\n",
      "2023-08-21 13:33:03,764 INFO Download rate 9.8K/s\n"
     ]
    },
    {
     "name": "stdout",
     "output_type": "stream",
     "text": [
      "Successfully downloaded C:\\Globus endpoint\\CAMELS_spat\\camels-spat-data\\basin_data\\CAN_01AK006\\forcing\\raw\\ERA5_1966-11_pressure_variables.nc\n",
      "--- Downloads for basin 9 complete.\n",
      "--- Now running basin 10. CAN_01AK007\n",
      "    Basin coordinates:         [-67.43791667  46.04708333 -67.20208333  46.27208333]\n",
      "    ERA5 download coordinates: [46.25/-67.5/46.0/-67.25]\n",
      "    Flow obs unavailable:      []\n",
      "    Download times:            ['1967-11-01', '2022-12-10']\n"
     ]
    },
    {
     "name": "stderr",
     "output_type": "stream",
     "text": [
      "2023-08-21 13:33:04,194 INFO Welcome to the CDS\n",
      "2023-08-21 13:33:04,204 INFO Sending request to https://cds.climate.copernicus.eu/api/v2/resources/reanalysis-era5-complete\n",
      "2023-08-21 13:33:04,424 INFO Request is queued\n",
      "2023-08-21 13:33:07,314 INFO Request is running\n",
      "2023-08-21 13:33:09,784 INFO Request is completed\n",
      "2023-08-21 13:33:09,784 INFO Downloading https://download-0020.copernicus-climate.eu/cache-compute-0020/cache/data2/adaptor.mars.external-1692646387.1596305-20051-15-4284138a-2738-4fe4-a885-111c3a3e0bdd.nc to C:\\Globus endpoint\\CAMELS_spat\\camels-spat-data\\basin_data\\CAN_01AK007\\forcing\\raw\\ERA5_2023-01-01_invariants.nc (4.4K)\n",
      "2023-08-21 13:33:10,785 INFO Download rate 4.4K/s\n",
      "2023-08-21 13:33:11,184 INFO Welcome to the CDS\n"
     ]
    },
    {
     "name": "stdout",
     "output_type": "stream",
     "text": [
      "Successfully downloaded C:\\Globus endpoint\\CAMELS_spat\\camels-spat-data\\basin_data\\CAN_01AK007\\forcing\\raw\\ERA5_2023-01-01_invariants.nc\n"
     ]
    },
    {
     "name": "stderr",
     "output_type": "stream",
     "text": [
      "2023-08-21 13:33:11,184 INFO Sending request to https://cds.climate.copernicus.eu/api/v2/resources/reanalysis-era5-single-levels\n",
      "2023-08-21 13:33:11,434 INFO Request is queued\n",
      "2023-08-21 13:33:12,654 INFO Request is running\n",
      "2023-08-21 13:39:33,033 INFO Request is completed\n",
      "2023-08-21 13:39:33,033 INFO Downloading https://download-0017.copernicus-climate.eu/cache-compute-0017/cache/data7/adaptor.mars.internal-1692646651.2732701-28451-10-c52515ba-250d-40fc-b116-ebeba8df1a74.nc to C:\\Globus endpoint\\CAMELS_spat\\camels-spat-data\\basin_data\\CAN_01AK007\\forcing\\raw\\ERA5_1967-11_surface_variables.nc (44.9K)\n",
      "2023-08-21 13:39:34,466 INFO Download rate 31.3K/s  \n",
      "2023-08-21 13:39:34,873 INFO Welcome to the CDS\n"
     ]
    },
    {
     "name": "stdout",
     "output_type": "stream",
     "text": [
      "Successfully downloaded C:\\Globus endpoint\\CAMELS_spat\\camels-spat-data\\basin_data\\CAN_01AK007\\forcing\\raw\\ERA5_1967-11_surface_variables.nc\n"
     ]
    },
    {
     "name": "stderr",
     "output_type": "stream",
     "text": [
      "2023-08-21 13:39:34,873 INFO Sending request to https://cds.climate.copernicus.eu/api/v2/resources/reanalysis-era5-complete\n",
      "2023-08-21 13:39:35,123 INFO Request is queued\n",
      "2023-08-21 13:39:49,413 INFO Request is running\n",
      "2023-08-21 13:43:56,050 INFO Request is completed\n",
      "2023-08-21 13:43:56,051 INFO Downloading https://download-0016.copernicus-climate.eu/cache-compute-0016/cache/data5/adaptor.mars.external-1692646970.2866797-2666-17-5458c03c-b025-4d14-bfb1-e015d900a794.nc to C:\\Globus endpoint\\CAMELS_spat\\camels-spat-data\\basin_data\\CAN_01AK007\\forcing\\raw\\ERA5_1967-11_pressure_variables.nc (27.3K)\n",
      "2023-08-21 13:43:57,256 INFO Download rate 22.6K/s  \n"
     ]
    },
    {
     "name": "stdout",
     "output_type": "stream",
     "text": [
      "Successfully downloaded C:\\Globus endpoint\\CAMELS_spat\\camels-spat-data\\basin_data\\CAN_01AK007\\forcing\\raw\\ERA5_1967-11_pressure_variables.nc\n",
      "--- Downloads for basin 10 complete.\n",
      "--- Now running basin 11. CAN_01AL002\n",
      "    Basin coordinates:         [-67.26958333  46.10708333 -66.41125     46.49708333]\n",
      "    ERA5 download coordinates: [46.5/-67.25/46.0/-66.5]\n",
      "    Flow obs unavailable:      []\n",
      "    Download times:            ['1962-01-01', '2023-01-02']\n"
     ]
    },
    {
     "name": "stderr",
     "output_type": "stream",
     "text": [
      "2023-08-21 13:43:57,697 INFO Welcome to the CDS\n",
      "2023-08-21 13:43:57,697 INFO Sending request to https://cds.climate.copernicus.eu/api/v2/resources/reanalysis-era5-complete\n",
      "2023-08-21 13:43:57,928 INFO Request is queued\n",
      "2023-08-21 13:43:59,137 INFO Request is running\n",
      "2023-08-21 13:44:03,317 INFO Request is completed\n",
      "2023-08-21 13:44:03,322 INFO Downloading https://download-0016.copernicus-climate.eu/cache-compute-0016/cache/data4/adaptor.mars.external-1692647041.1615767-13381-4-193a1764-f24c-438e-b398-fcae685f6af7.nc to C:\\Globus endpoint\\CAMELS_spat\\camels-spat-data\\basin_data\\CAN_01AL002\\forcing\\raw\\ERA5_2023-01-01_invariants.nc (4.6K)\n",
      "2023-08-21 13:44:03,537 INFO Download rate 21.5K/s\n",
      "2023-08-21 13:44:03,933 INFO Welcome to the CDS\n"
     ]
    },
    {
     "name": "stdout",
     "output_type": "stream",
     "text": [
      "Successfully downloaded C:\\Globus endpoint\\CAMELS_spat\\camels-spat-data\\basin_data\\CAN_01AL002\\forcing\\raw\\ERA5_2023-01-01_invariants.nc\n"
     ]
    },
    {
     "name": "stderr",
     "output_type": "stream",
     "text": [
      "2023-08-21 13:44:03,933 INFO Sending request to https://cds.climate.copernicus.eu/api/v2/resources/reanalysis-era5-single-levels\n",
      "2023-08-21 13:44:04,208 INFO Request is queued\n",
      "2023-08-21 13:44:05,417 INFO Request is running\n",
      "2023-08-21 13:50:25,875 INFO Request is completed\n",
      "2023-08-21 13:50:25,875 INFO Downloading https://download-0007-clone.copernicus-climate.eu/cache-compute-0007/cache/data3/adaptor.mars.internal-1692647307.6331496-21839-10-fe532b15-ae4f-48bb-b243-c7a71e4b891e.nc to C:\\Globus endpoint\\CAMELS_spat\\camels-spat-data\\basin_data\\CAN_01AL002\\forcing\\raw\\ERA5_1962-01_surface_variables.nc (127.7K)\n",
      "2023-08-21 13:50:27,464 INFO Download rate 80.4K/s \n"
     ]
    },
    {
     "name": "stdout",
     "output_type": "stream",
     "text": [
      "Successfully downloaded C:\\Globus endpoint\\CAMELS_spat\\camels-spat-data\\basin_data\\CAN_01AL002\\forcing\\raw\\ERA5_1962-01_surface_variables.nc\n"
     ]
    },
    {
     "name": "stderr",
     "output_type": "stream",
     "text": [
      "2023-08-21 13:50:27,858 INFO Welcome to the CDS\n",
      "2023-08-21 13:50:27,864 INFO Sending request to https://cds.climate.copernicus.eu/api/v2/resources/reanalysis-era5-complete\n",
      "2023-08-21 13:50:28,074 INFO Request is queued\n",
      "2023-08-21 13:50:33,464 INFO Request is running\n",
      "2023-08-21 13:54:48,753 INFO Request is completed\n",
      "2023-08-21 13:54:48,756 INFO Downloading https://download-0017.copernicus-climate.eu/cache-compute-0017/cache/data3/adaptor.mars.external-1692647606.9920945-9623-4-afa078b5-1419-4380-9c6b-7c3fc7e5f0d7.nc to C:\\Globus endpoint\\CAMELS_spat\\camels-spat-data\\basin_data\\CAN_01AL002\\forcing\\raw\\ERA5_1962-01_pressure_variables.nc (74.6K)\n",
      "2023-08-21 13:54:50,182 INFO Download rate 52.3K/s  \n"
     ]
    },
    {
     "name": "stdout",
     "output_type": "stream",
     "text": [
      "Successfully downloaded C:\\Globus endpoint\\CAMELS_spat\\camels-spat-data\\basin_data\\CAN_01AL002\\forcing\\raw\\ERA5_1962-01_pressure_variables.nc\n",
      "--- Downloads for basin 11 complete.\n",
      "--- Now running basin 12. CAN_01AL004\n",
      "    Basin coordinates:         [-67.04625     46.27041667 -67.01875     46.29041667]\n",
      "    ERA5 download coordinates: [46.25/-67.0/46.25/-67.0]\n",
      "    Flow obs unavailable:      []\n",
      "    Download times:            ['1972-01-01', '2022-12-11']\n",
      "--- Downloads for basin 12 complete.\n",
      "--- Now running basin 13. CAN_01AM001\n",
      "    Basin coordinates:         [-67.07791667  45.52541667 -66.66958333  45.80458333]\n",
      "    ERA5 download coordinates: [45.75/-67.0/45.5/-66.75]\n",
      "    Flow obs unavailable:      []\n",
      "    Download times:            ['1962-10-01', '2023-01-02']\n"
     ]
    },
    {
     "name": "stderr",
     "output_type": "stream",
     "text": [
      "2023-08-21 13:54:50,642 INFO Welcome to the CDS\n",
      "2023-08-21 13:54:50,642 INFO Sending request to https://cds.climate.copernicus.eu/api/v2/resources/reanalysis-era5-complete\n",
      "2023-08-21 13:54:50,896 INFO Request is queued\n",
      "2023-08-21 13:54:52,103 INFO Request is running\n",
      "2023-08-21 13:54:56,283 INFO Request is completed\n",
      "2023-08-21 13:54:56,283 INFO Downloading https://download-0004-clone.copernicus-climate.eu/cache-compute-0004/cache/data8/adaptor.mars.external-1692647693.4451797-12320-18-b5f313aa-a222-4599-b12d-b567554cb2c6.nc to C:\\Globus endpoint\\CAMELS_spat\\camels-spat-data\\basin_data\\CAN_01AM001\\forcing\\raw\\ERA5_2023-01-01_invariants.nc (4.4K)\n",
      "2023-08-21 13:54:57,293 INFO Download rate 4.4K/s\n",
      "2023-08-21 13:54:57,692 INFO Welcome to the CDS\n"
     ]
    },
    {
     "name": "stdout",
     "output_type": "stream",
     "text": [
      "Successfully downloaded C:\\Globus endpoint\\CAMELS_spat\\camels-spat-data\\basin_data\\CAN_01AM001\\forcing\\raw\\ERA5_2023-01-01_invariants.nc\n"
     ]
    },
    {
     "name": "stderr",
     "output_type": "stream",
     "text": [
      "2023-08-21 13:54:57,692 INFO Sending request to https://cds.climate.copernicus.eu/api/v2/resources/reanalysis-era5-single-levels\n",
      "2023-08-21 13:54:58,063 INFO Request is queued\n",
      "2023-08-21 13:54:59,273 INFO Request is running\n",
      "2023-08-21 14:01:19,727 INFO Request is completed\n",
      "2023-08-21 14:01:19,736 INFO Downloading https://download-0007-clone.copernicus-climate.eu/cache-compute-0007/cache/data8/adaptor.mars.internal-1692647962.598844-13331-4-26361e03-416b-40ae-849b-4c5624abf076.nc to C:\\Globus endpoint\\CAMELS_spat\\camels-spat-data\\basin_data\\CAN_01AM001\\forcing\\raw\\ERA5_1962-10_surface_variables.nc (46.3K)\n",
      "2023-08-21 14:01:21,127 INFO Download rate 33.3K/s  \n",
      "2023-08-21 14:01:21,537 INFO Welcome to the CDS\n"
     ]
    },
    {
     "name": "stdout",
     "output_type": "stream",
     "text": [
      "Successfully downloaded C:\\Globus endpoint\\CAMELS_spat\\camels-spat-data\\basin_data\\CAN_01AM001\\forcing\\raw\\ERA5_1962-10_surface_variables.nc\n"
     ]
    },
    {
     "name": "stderr",
     "output_type": "stream",
     "text": [
      "2023-08-21 14:01:21,537 INFO Sending request to https://cds.climate.copernicus.eu/api/v2/resources/reanalysis-era5-complete\n",
      "2023-08-21 14:01:21,806 INFO Request is queued\n",
      "2023-08-21 14:01:43,867 INFO Request is running\n",
      "2023-08-21 14:05:42,528 INFO Request is completed\n",
      "2023-08-21 14:05:42,528 INFO Downloading https://download-0019.copernicus-climate.eu/cache-compute-0019/cache/data7/adaptor.mars.external-1692648258.1039221-8040-4-bc21f242-ea58-48b5-90c1-91fa204b9f50.nc to C:\\Globus endpoint\\CAMELS_spat\\camels-spat-data\\basin_data\\CAN_01AM001\\forcing\\raw\\ERA5_1962-10_pressure_variables.nc (28.1K)\n",
      "2023-08-21 14:05:43,744 INFO Download rate 23.1K/s  \n"
     ]
    },
    {
     "name": "stdout",
     "output_type": "stream",
     "text": [
      "Successfully downloaded C:\\Globus endpoint\\CAMELS_spat\\camels-spat-data\\basin_data\\CAN_01AM001\\forcing\\raw\\ERA5_1962-10_pressure_variables.nc\n",
      "--- Downloads for basin 13 complete.\n",
      "--- Now running basin 14. CAN_01AN002\n",
      "    Basin coordinates:         [-65.82041667  46.20958333 -65.21375     46.55291667]\n",
      "    ERA5 download coordinates: [46.5/-65.75/46.25/-65.25]\n",
      "    Flow obs unavailable:      []\n",
      "    Download times:            ['1974-01-01', '2023-01-02']\n"
     ]
    },
    {
     "name": "stderr",
     "output_type": "stream",
     "text": [
      "2023-08-21 14:05:44,202 INFO Welcome to the CDS\n",
      "2023-08-21 14:05:44,204 INFO Sending request to https://cds.climate.copernicus.eu/api/v2/resources/reanalysis-era5-complete\n",
      "2023-08-21 14:05:44,441 INFO Request is queued\n",
      "2023-08-21 14:05:45,648 INFO Request is running\n",
      "2023-08-21 14:05:49,841 INFO Request is completed\n",
      "2023-08-21 14:05:49,841 INFO Downloading https://download-0002-clone.copernicus-climate.eu/cache-compute-0002/cache/data5/adaptor.mars.external-1692648346.9525206-27729-6-9adcc984-aee3-4b74-8721-444e0ef5c572.nc to C:\\Globus endpoint\\CAMELS_spat\\camels-spat-data\\basin_data\\CAN_01AN002\\forcing\\raw\\ERA5_2023-01-01_invariants.nc (4.5K)\n",
      "2023-08-21 14:05:50,859 INFO Download rate 4.4K/s\n",
      "2023-08-21 14:05:51,250 INFO Welcome to the CDS\n"
     ]
    },
    {
     "name": "stdout",
     "output_type": "stream",
     "text": [
      "Successfully downloaded C:\\Globus endpoint\\CAMELS_spat\\camels-spat-data\\basin_data\\CAN_01AN002\\forcing\\raw\\ERA5_2023-01-01_invariants.nc\n"
     ]
    },
    {
     "name": "stderr",
     "output_type": "stream",
     "text": [
      "2023-08-21 14:05:51,250 INFO Sending request to https://cds.climate.copernicus.eu/api/v2/resources/reanalysis-era5-single-levels\n",
      "2023-08-21 14:05:51,489 INFO Request is queued\n",
      "2023-08-21 14:05:52,699 INFO Request is running\n",
      "2023-08-21 14:12:13,047 INFO Request is completed\n",
      "2023-08-21 14:12:13,048 INFO Downloading https://download-0000-clone.copernicus-climate.eu/cache-compute-0000/cache/data9/adaptor.mars.internal-1692648615.3457105-1500-3-d2b301c9-4ebd-4d24-bc70-15015ef30619.nc to C:\\Globus endpoint\\CAMELS_spat\\camels-spat-data\\basin_data\\CAN_01AN002\\forcing\\raw\\ERA5_1974-01_surface_variables.nc (66.6K)\n",
      "2023-08-21 14:12:14,484 INFO Download rate 46.4K/s  \n",
      "2023-08-21 14:12:14,902 INFO Welcome to the CDS\n"
     ]
    },
    {
     "name": "stdout",
     "output_type": "stream",
     "text": [
      "Successfully downloaded C:\\Globus endpoint\\CAMELS_spat\\camels-spat-data\\basin_data\\CAN_01AN002\\forcing\\raw\\ERA5_1974-01_surface_variables.nc\n"
     ]
    },
    {
     "name": "stderr",
     "output_type": "stream",
     "text": [
      "2023-08-21 14:12:14,903 INFO Sending request to https://cds.climate.copernicus.eu/api/v2/resources/reanalysis-era5-complete\n",
      "2023-08-21 14:12:15,139 INFO Request is queued\n",
      "2023-08-21 14:12:16,345 INFO Request is running\n",
      "2023-08-21 14:16:35,966 INFO Request is completed\n",
      "2023-08-21 14:16:35,966 INFO Downloading https://download-0005-clone.copernicus-climate.eu/cache-compute-0005/cache/data2/adaptor.mars.external-1692648896.9205623-11241-17-f79e4574-5eb0-4711-b6df-20f76735c8da.nc to C:\\Globus endpoint\\CAMELS_spat\\camels-spat-data\\basin_data\\CAN_01AN002\\forcing\\raw\\ERA5_1974-01_pressure_variables.nc (39.7K)\n",
      "2023-08-21 14:16:37,145 INFO Download rate 33.7K/s  \n"
     ]
    },
    {
     "name": "stdout",
     "output_type": "stream",
     "text": [
      "Successfully downloaded C:\\Globus endpoint\\CAMELS_spat\\camels-spat-data\\basin_data\\CAN_01AN002\\forcing\\raw\\ERA5_1974-01_pressure_variables.nc\n",
      "--- Downloads for basin 14 complete.\n",
      "--- Now running basin 15. CAN_01AP002\n",
      "    Basin coordinates:         [-65.41708333  45.93875    -65.02791667  46.30375   ]\n",
      "    ERA5 download coordinates: [46.25/-65.5/46.0/-65.0]\n",
      "    Flow obs unavailable:      []\n",
      "    Download times:            ['1962-10-01', '2023-01-02']\n"
     ]
    },
    {
     "name": "stderr",
     "output_type": "stream",
     "text": [
      "2023-08-21 14:16:37,586 INFO Welcome to the CDS\n",
      "2023-08-21 14:16:37,586 INFO Sending request to https://cds.climate.copernicus.eu/api/v2/resources/reanalysis-era5-complete\n",
      "2023-08-21 14:16:37,815 INFO Request is queued\n",
      "2023-08-21 14:16:40,712 INFO Request is running\n",
      "2023-08-21 14:16:43,168 INFO Request is completed\n",
      "2023-08-21 14:16:43,168 INFO Downloading https://download-0017.copernicus-climate.eu/cache-compute-0017/cache/data4/adaptor.mars.external-1692649000.4390347-15202-17-b9f3491b-7a56-473f-bdff-72d86e78bc80.nc to C:\\Globus endpoint\\CAMELS_spat\\camels-spat-data\\basin_data\\CAN_01AP002\\forcing\\raw\\ERA5_2023-01-01_invariants.nc (4.5K)\n",
      "2023-08-21 14:16:44,226 INFO Download rate 4.2K/s\n",
      "2023-08-21 14:16:44,626 INFO Welcome to the CDS\n"
     ]
    },
    {
     "name": "stdout",
     "output_type": "stream",
     "text": [
      "Successfully downloaded C:\\Globus endpoint\\CAMELS_spat\\camels-spat-data\\basin_data\\CAN_01AP002\\forcing\\raw\\ERA5_2023-01-01_invariants.nc\n"
     ]
    },
    {
     "name": "stderr",
     "output_type": "stream",
     "text": [
      "2023-08-21 14:16:44,626 INFO Sending request to https://cds.climate.copernicus.eu/api/v2/resources/reanalysis-era5-single-levels\n",
      "2023-08-21 14:16:44,845 INFO Request is queued\n",
      "2023-08-21 14:16:46,055 INFO Request is running\n",
      "2023-08-21 14:23:06,357 INFO Request is completed\n",
      "2023-08-21 14:23:06,367 INFO Downloading https://download-0016.copernicus-climate.eu/cache-compute-0016/cache/data6/adaptor.mars.internal-1692649265.7705908-27423-3-7f9d34d3-8425-4001-8824-36cc0e4e5e02.nc to C:\\Globus endpoint\\CAMELS_spat\\camels-spat-data\\basin_data\\CAN_01AP002\\forcing\\raw\\ERA5_1962-10_surface_variables.nc (66.6K)\n",
      "2023-08-21 14:23:07,947 INFO Download rate 42.2K/s  \n",
      "2023-08-21 14:23:08,337 INFO Welcome to the CDS\n"
     ]
    },
    {
     "name": "stdout",
     "output_type": "stream",
     "text": [
      "Successfully downloaded C:\\Globus endpoint\\CAMELS_spat\\camels-spat-data\\basin_data\\CAN_01AP002\\forcing\\raw\\ERA5_1962-10_surface_variables.nc\n"
     ]
    },
    {
     "name": "stderr",
     "output_type": "stream",
     "text": [
      "2023-08-21 14:23:08,337 INFO Sending request to https://cds.climate.copernicus.eu/api/v2/resources/reanalysis-era5-complete\n",
      "2023-08-21 14:23:08,557 INFO Request is queued\n",
      "2023-08-21 14:23:09,767 INFO Request is running\n",
      "2023-08-21 14:26:01,899 INFO Request is completed\n",
      "2023-08-21 14:26:01,899 INFO Downloading https://download-0017.copernicus-climate.eu/cache-compute-0017/cache/data3/adaptor.mars.external-1692649545.6726615-26398-8-dc3c1a83-fab2-4d92-aeff-0701a8362335.nc to C:\\Globus endpoint\\CAMELS_spat\\camels-spat-data\\basin_data\\CAN_01AP002\\forcing\\raw\\ERA5_1962-10_pressure_variables.nc (39.7K)\n",
      "2023-08-21 14:26:03,104 INFO Download rate 33K/s    \n"
     ]
    },
    {
     "name": "stdout",
     "output_type": "stream",
     "text": [
      "Successfully downloaded C:\\Globus endpoint\\CAMELS_spat\\camels-spat-data\\basin_data\\CAN_01AP002\\forcing\\raw\\ERA5_1962-10_pressure_variables.nc\n",
      "--- Downloads for basin 15 complete.\n",
      "--- Now running basin 16. CAN_01AP004\n",
      "    Basin coordinates:         [-65.70958333  45.58958333 -65.13958333  45.95708333]\n",
      "    ERA5 download coordinates: [46.0/-65.75/45.5/-65.25]\n",
      "    Flow obs unavailable:      []\n",
      "    Download times:            ['1961-06-01', '2023-01-02']\n"
     ]
    },
    {
     "name": "stderr",
     "output_type": "stream",
     "text": [
      "2023-08-21 14:26:03,524 INFO Welcome to the CDS\n",
      "2023-08-21 14:26:03,524 INFO Sending request to https://cds.climate.copernicus.eu/api/v2/resources/reanalysis-era5-complete\n",
      "2023-08-21 14:26:03,855 INFO Request is queued\n",
      "2023-08-21 14:26:05,065 INFO Request is running\n",
      "2023-08-21 14:26:09,239 INFO Request is completed\n",
      "2023-08-21 14:26:09,243 INFO Downloading https://download-0000-clone.copernicus-climate.eu/cache-compute-0000/cache/data1/adaptor.mars.external-1692649566.3251128-13447-4-aa46e094-e21d-4da4-b9fe-d6e8539e6288.nc to C:\\Globus endpoint\\CAMELS_spat\\camels-spat-data\\basin_data\\CAN_01AP004\\forcing\\raw\\ERA5_2023-01-01_invariants.nc (4.6K)\n",
      "2023-08-21 14:26:10,265 INFO Download rate 4.5K/s\n",
      "2023-08-21 14:26:10,666 INFO Welcome to the CDS\n"
     ]
    },
    {
     "name": "stdout",
     "output_type": "stream",
     "text": [
      "Successfully downloaded C:\\Globus endpoint\\CAMELS_spat\\camels-spat-data\\basin_data\\CAN_01AP004\\forcing\\raw\\ERA5_2023-01-01_invariants.nc\n"
     ]
    },
    {
     "name": "stderr",
     "output_type": "stream",
     "text": [
      "2023-08-21 14:26:10,666 INFO Sending request to https://cds.climate.copernicus.eu/api/v2/resources/reanalysis-era5-single-levels\n",
      "2023-08-21 14:26:10,927 INFO Request is queued\n",
      "2023-08-21 14:26:12,129 INFO Request is running\n",
      "2023-08-21 14:32:32,489 INFO Request is completed\n",
      "2023-08-21 14:32:32,490 INFO Downloading https://download-0011-clone.copernicus-climate.eu/cache-compute-0011/cache/data9/adaptor.mars.internal-1692649821.9931216-23911-19-ed734eb6-5f57-4444-9329-86ab673443bf.nc to C:\\Globus endpoint\\CAMELS_spat\\camels-spat-data\\basin_data\\CAN_01AP004\\forcing\\raw\\ERA5_1961-06_surface_variables.nc (94.1K)\n",
      "2023-08-21 14:32:33,939 INFO Download rate 64.9K/s  \n"
     ]
    },
    {
     "name": "stdout",
     "output_type": "stream",
     "text": [
      "Successfully downloaded C:\\Globus endpoint\\CAMELS_spat\\camels-spat-data\\basin_data\\CAN_01AP004\\forcing\\raw\\ERA5_1961-06_surface_variables.nc\n"
     ]
    },
    {
     "name": "stderr",
     "output_type": "stream",
     "text": [
      "2023-08-21 14:32:34,334 INFO Welcome to the CDS\n",
      "2023-08-21 14:32:34,334 INFO Sending request to https://cds.climate.copernicus.eu/api/v2/resources/reanalysis-era5-complete\n",
      "2023-08-21 14:32:34,539 INFO Request is queued\n",
      "2023-08-21 14:35:27,920 INFO Request is running\n"
     ]
    }
   ],
   "source": [
    "print(debug_message)\n",
    "for ix,row in cs_meta.iterrows():\n",
    "    \n",
    "    # Get shapefile path to determine download coordinates, and forcing destination path\n",
    "    basin_id, shp_lump_path, _, _, _ = cs.prepare_delineation_outputs(cs_meta, ix, Path(data_path)/cs_basin_folder)\n",
    "    raw_fold, _, _ = cs.prepare_forcing_outputs(cs_meta, ix, Path(data_path)/cs_basin_folder) # Returns folders only, not file names\n",
    "    print('--- Now running basin {}. {}'.format(ix, basin_id))\n",
    "    \n",
    "    # From shapefile, get bounding coordinates. Then determine download coordinates from those\n",
    "    bounds = cs.find_shapefile_bounds(shp_lump_path)\n",
    "    coords_era5, _, _ = cs.find_download_coords_from_bounds(bounds, target='ERA5')\n",
    "    \n",
    "    # Check if we need to run downloads for this station at all\n",
    "    missing = cs.flow_obs_unavailable(cs_unusable, row.Country, row.Station_id)\n",
    "    if 'iv' in missing and 'dv' in missing: \n",
    "        continue # with next station, because we have no observations at all for this station\n",
    "\n",
    "    # From meta-data, get download period\n",
    "    times_flow = cs.find_flow_obs_times_from_metadata(row, missing)\n",
    "    times_era5 = cs.round_flow_obs_to_days(times_flow)\n",
    "    start_date = datetime.strptime(times_era5[0], '%Y-%m-%d')\n",
    "    final_date = datetime.strptime(times_era5[1], '%Y-%m-%d')\n",
    "    \n",
    "    print(f'    Basin coordinates:         {bounds}')\n",
    "    print(f'    ERA5 download coordinates: [{coords_era5}]')\n",
    "    print(f'    Flow obs unavailable:      {missing}')\n",
    "    print(f'    Download times:            {times_era5}')\n",
    "\n",
    "    # !!!\n",
    "    # TESTING: 1 month of downloads only\n",
    "    final_date = start_date.replace(month=(start_date + timedelta(days=31)).month) - timedelta(days=1)\n",
    "    \n",
    "    # Convert start and end dates into two lists of start and end dates, that we'll iterate over\n",
    "    start_list,end_list = cs.convert_start_and_end_dates_to_era5_download_lists(start_date,final_date)\n",
    "    \n",
    "    # Download data into destination folder\n",
    "    cs.download_era5_time_invariant_data_to_netcdf(coords_era5, raw_fold/'ERA5_2023-01-01_invariants.nc')\n",
    "\n",
    "    for start,end in zip(start_list,end_list):\n",
    "\n",
    "        # Convert to relevant\n",
    "        yyyy_mm = start.strftime('%Y-%m') # filename\n",
    "        start   = start.strftime('%Y-%m-%d') # yyyy-mm-dd for use with cdsapi\n",
    "        end     = end.strftime('%Y-%m-%d')\n",
    "\n",
    "        # Get the data\n",
    "        cs.download_era5_surface_level_data_to_netcdf(coords_era5, start, end, raw_fold/f'ERA5_{yyyy_mm}_surface_variables.nc')\n",
    "        cs.download_era5_pressure_level_data_to_netcdf(coords_era5, start, end, raw_fold/f'ERA5_{yyyy_mm}_pressure_variables.nc')\n",
    "\n",
    "    print('--- Downloads for basin {} complete.'.format(basin_id))\n",
    "\n",
    "print(debug_message)"
   ]
  },
  {
   "cell_type": "markdown",
   "id": "e5ba8b8b",
   "metadata": {},
   "source": [
    "### Functions"
   ]
  },
  {
   "cell_type": "code",
   "execution_count": 8,
   "id": "292f5186",
   "metadata": {},
   "outputs": [],
   "source": [
    "from datetime import datetime, timedelta\n",
    "import geopandas as gpd\n",
    "import math\n",
    "import cdsapi\n",
    "import os"
   ]
  },
  {
   "cell_type": "code",
   "execution_count": 9,
   "id": "1d52d8bb-6ac9-4ec8-b80e-65f9f29e802d",
   "metadata": {},
   "outputs": [],
   "source": [
    "def prepare_forcing_outputs(df,i,data_path):\n",
    "    \n",
    "    '''Prepares output folders for lumped and distributed forcing downloads outcomes'''\n",
    "    \n",
    "    from pathlib import Path\n",
    "    \n",
    "    # Get identifiers\n",
    "    country = df.iloc[i].Country\n",
    "    basin_id = df.iloc[i].Station_id\n",
    "    full_id = country + '_' + basin_id\n",
    "    \n",
    "    # Construct the paths\n",
    "    main_folder = Path(data_path) / 'basin_data' / (country + '_' + basin_id) / 'forcing' \n",
    "    lump_folder = main_folder / 'lumped'\n",
    "    dist_folder = main_folder / 'distributed'\n",
    "    raw_folder  = main_folder / 'raw'\n",
    "    \n",
    "    # Make the paths\n",
    "    lump_folder.mkdir(parents=True, exist_ok=True)\n",
    "    dist_folder.mkdir(parents=True, exist_ok=True)\n",
    "    raw_folder.mkdir(parents=True, exist_ok=True)\n",
    "   \n",
    "    return raw_folder, lump_folder, dist_folder"
   ]
  },
  {
   "cell_type": "code",
   "execution_count": 10,
   "id": "40007d4b-e26e-4f2a-bb31-d2e191233958",
   "metadata": {},
   "outputs": [],
   "source": [
    "def download_era5_surface_level_data_to_netcdf(coordinates,date_s,date_e,file,retries_max=10):\n",
    "    \n",
    "    '''Downloads specified ERA5 surface level parameters for a specified bounding box'''\n",
    "    # Pressure level variables: \n",
    "\n",
    "    if not os.path.isfile(file):\n",
    "        # Make sure the connection is re-tried if it fails\n",
    "        retries_cur = 1\n",
    "        while retries_cur <= retries_max:\n",
    "            try:\n",
    "    \n",
    "                # connect to Copernicus (requires .cdsapirc file in $HOME)\n",
    "                c = cdsapi.Client()\n",
    "            \n",
    "                # specify and retrieve data\n",
    "                c.retrieve('reanalysis-era5-single-levels', { # do not change this!\n",
    "                           'product_type': 'reanalysis',\n",
    "                           'format'      : 'netcdf',\n",
    "                           'variable'    : [\n",
    "                               'mean_surface_downward_long_wave_radiation_flux',\n",
    "                               'mean_surface_net_long_wave_radiation_flux',\n",
    "                               'mean_surface_downward_short_wave_radiation_flux',\n",
    "                               'mean_surface_net_short_wave_radiation_flux',\n",
    "                               'mean_total_precipitation_rate',\n",
    "                               'surface_pressure',\n",
    "                               'mean_potential_evaporation_rate',\n",
    "                           ],\n",
    "                           'date': f'{date_s}/{date_e}', # 'yyyy-mm-dd'\n",
    "                           'time': '00/to/23/by/1',\n",
    "                           'area': coordinates, # expected as [lat_max, lon_min, lat_min, lon_max], e.g. [51.75/-116.5/51.0/-115.5]\n",
    "                           'grid': '0.25/0.25', # Latitude/longitude grid: east-west (longitude) and north-south resolution (latitude).\n",
    "                    },\n",
    "                    file) # file path and name\n",
    "\n",
    "                # track progress\n",
    "                print('Successfully downloaded ' + str(file))\n",
    "\n",
    "            except:\n",
    "                print('Error downloading ' + str(file) + ' on try ' + str(retries_cur))\n",
    "                retries_cur += 1\n",
    "                continue\n",
    "            else:\n",
    "                break\n",
    "    return"
   ]
  },
  {
   "cell_type": "code",
   "execution_count": 11,
   "id": "77aee1ed-70b9-469a-96de-d5471a335309",
   "metadata": {},
   "outputs": [],
   "source": [
    "def download_era5_pressure_level_data_to_netcdf(coordinates,date_s,date_e,file,retries_max=10):\n",
    "    \n",
    "    '''Downloads specified ERA5 pressure level parameters for a specified bounding box'''\n",
    "    # Pressure level variables: https://confluence.ecmwf.int/pages/viewpage.action?pageId=82870405#ERA5:datadocumentation-Table9\n",
    "    # MARS requests: https://confluence.ecmwf.int/display/UDOC/HRES%3A+Atmospheric+%28oper%29%2C+Model+level+%28ml%29%2C+Forecast+%28fc%29%3A+Guidelines+to+write+efficient+MARS+requests\n",
    "    \n",
    "    if not os.path.isfile(file):\n",
    "        # Make sure the connection is re-tried if it fails\n",
    "        retries_cur = 1\n",
    "        while retries_cur <= retries_max:\n",
    "            try:\n",
    "    \n",
    "                # connect to Copernicus (requires .cdsapirc file in $HOME)\n",
    "                c = cdsapi.Client()\n",
    "            \n",
    "                # specify and retrieve data\n",
    "                c.retrieve('reanalysis-era5-complete', {    # do not change this!\n",
    "                           'class'   : 'ea',\n",
    "                           'expver'  : '1',\n",
    "                           'stream'  : 'oper',\n",
    "                           'type'    : 'an',\n",
    "                           'levtype' : 'ml',\n",
    "                           'levelist': '137',\n",
    "                           'param'   : '130/131/132/133', # i.e., Temperature, U and V wind, specific humidity\n",
    "                           'date'    : f'{date_s}/to/{date_e}', # 'yyyy-mm-dd'\n",
    "                           'time'    : '00/to/23/by/1', \n",
    "                           'area'    : coordinates, # expected as [lat_max, lon_min, lat_min, lon_max], e.g. [51.75/-116.5/51.0/-115.5]\n",
    "                           'grid'    : '0.25/0.25', # Latitude/longitude grid: east-west (longitude) and north-south resolution (latitude).\n",
    "                           'format'  : 'netcdf',\n",
    "                    }, file)\n",
    "\n",
    "                # track progress\n",
    "                print('Successfully downloaded ' + str(file))\n",
    "\n",
    "            except:\n",
    "                print('Error downloading ' + str(file) + ' on try ' + str(retries_cur))\n",
    "                retries_cur += 1\n",
    "                continue\n",
    "            else:\n",
    "                break\n",
    "    return"
   ]
  },
  {
   "cell_type": "code",
   "execution_count": 12,
   "id": "52020f19-c666-46d8-b9f7-0eb6075d230b",
   "metadata": {},
   "outputs": [],
   "source": [
    "def download_era5_time_invariant_data_to_netcdf(coordinates,fileretries_max=10):\n",
    "    \n",
    "    '''Downloads all ERA5 time-invariant parameters for a specified bounding box'''\n",
    "    # Time-invariants: https://confluence.ecmwf.int/pages/viewpage.action?pageId=82870405#ERA5:datadocumentation-Table1\n",
    "\n",
    "    if not os.path.isfile(file):\n",
    "        # Make sure the connection is re-tried if it fails\n",
    "        retries_cur = 1\n",
    "        while retries_cur <= retries_max:\n",
    "            try:\n",
    "    \n",
    "                # connect to Copernicus (requires .cdsapirc file in $HOME)\n",
    "                c = cdsapi.Client()\n",
    "            \n",
    "                # specify and retrieve data\n",
    "                c.retrieve('reanalysis-era5-complete', {    # do not change this!\n",
    "                           'stream' : 'oper',\n",
    "                           'levtype': 'sf',\n",
    "                           'param'  : '26/228007/27/28/29/30/43/74/129/160/161/162/163/172', # i.e., all time-invariant values\n",
    "                           'date'   : '2023-01-01', # arbitrary date\n",
    "                           'time'   : '00', # time-invariant data; no need to get more than a single time step\n",
    "                           'area'   : coordinates, # expected as [lat_max, lon_min, lat_min, lon_max], e.g. [51.75/-116.5/51.0/-115.5]\n",
    "                           'grid'   : '0.25/0.25', # Latitude/longitude grid: east-west (longitude) and north-south resolution (latitude).\n",
    "                           'format' : 'netcdf',\n",
    "                    }, file)\n",
    "\n",
    "                # track progress\n",
    "                print('Successfully downloaded ' + str(file))\n",
    "\n",
    "            except:\n",
    "                print('Error downloading ' + str(file) + ' on try ' + str(retries_cur))\n",
    "                retries_cur += 1\n",
    "                continue\n",
    "            else:\n",
    "                break\n",
    "    return"
   ]
  },
  {
   "cell_type": "code",
   "execution_count": 13,
   "id": "0670bfb0-c916-402f-a38a-5909a4acf74c",
   "metadata": {},
   "outputs": [],
   "source": [
    "def convert_start_and_end_dates_to_era5_download_lists(start,end):\n",
    "\n",
    "    '''Takes two datetime.datetime(y,m,d,h,min) objects and returns two lists with start and end dates for ERA5 downloads at monthly intervals'''\n",
    "\n",
    "    # Initiate the date we're current working with\n",
    "    cur = start \n",
    "    \n",
    "    # Initiate the lists\n",
    "    start_l = []\n",
    "    end_l = []\n",
    "    \n",
    "    # Loop over the dates, until we have the end date\n",
    "    while cur < end:\n",
    "        \n",
    "        # Add to start list\n",
    "        start_l.append(cur)\n",
    "        \n",
    "        # Figure out the index of the next month and if the year changes:\n",
    "        tmp = cur + timedelta(days=31) # Add 31 days to current date to ensure we're in the next month, might also switch the year\n",
    "        next_month = tmp.month #  Extract 'month' from this object\n",
    "        next_year = tmp.year # Extract the year too. If we ticked over into a new year we need to track this, otherwise we never increment the year\n",
    "\n",
    "        # Create the end-of-month date\n",
    "        cur = cur.replace(year=next_year, month=next_month) - timedelta(days=1)\n",
    "        \n",
    "        # Ensure this does not step over our end date\n",
    "        if cur >= end:\n",
    "            cur = end\n",
    "\n",
    "        # Add to end list\n",
    "        end_l.append(cur)\n",
    "\n",
    "        # Add 1 day to create the new start-of-month date\n",
    "        cur = cur + timedelta(days=1)\n",
    "        \n",
    "    return start_l,end_l"
   ]
  },
  {
   "cell_type": "code",
   "execution_count": 14,
   "id": "0c465f15",
   "metadata": {},
   "outputs": [],
   "source": [
    "def convert_to_date_only(time_string, original_format=\"%Y-%m-%d %H:%M:%S\", target_format=\"%Y-%m-%d\"):\n",
    "    try:\n",
    "        datetime_obj = datetime.strptime(time_string, original_format)\n",
    "        date_only_string = datetime_obj.strftime(target_format)\n",
    "        return date_only_string\n",
    "    except ValueError:\n",
    "        return None"
   ]
  },
  {
   "cell_type": "code",
   "execution_count": 15,
   "id": "3cf6d572",
   "metadata": {},
   "outputs": [],
   "source": [
    "def round_flow_obs_to_days(times):\n",
    "    \n",
    "    '''Takes two times ([time1,time2]) in 'YYYY-MM-DD hh:mm:ss' and rounds to days '''\n",
    "    \n",
    "    return [convert_to_date_only(times[0]),\n",
    "            convert_to_date_only(times[1])]"
   ]
  },
  {
   "cell_type": "code",
   "execution_count": 16,
   "id": "19da0092",
   "metadata": {},
   "outputs": [],
   "source": [
    "def flow_obs_unavailable(df,country,station):\n",
    "    \n",
    "    '''Checks in the \"unusable\" dataframe if iv, dv or both are unavailable for a station'''\n",
    "    \n",
    "    missing = []\n",
    "    for ix,row in df.iterrows():\n",
    "        if row.Country != country:\n",
    "            continue\n",
    "        if row.Station_id == station:\n",
    "            missing.append(row.Missing)\n",
    "    \n",
    "    return missing"
   ]
  },
  {
   "cell_type": "code",
   "execution_count": 17,
   "id": "e39f3bd4",
   "metadata": {},
   "outputs": [],
   "source": [
    "def find_flow_obs_times_from_metadata(row,missing):\n",
    "    \n",
    "    '''Finds required data start and end times from flow observations in meta-data file'''\n",
    "    \n",
    "    # Start and end dates come as 'YYYY-MM-DD hh:mm:ss' strings so we can directly compare them\n",
    "    # Source: https://stackoverflow.com/a/54987418\n",
    "    \n",
    "    # Shorthands\n",
    "    iv_s = row.iv_flow_obs_availability_start\n",
    "    iv_e = row.iv_flow_obs_availability_end\n",
    "    dv_s = row.dv_flow_obs_availability_start\n",
    "    dv_e = row.dv_flow_obs_availability_end\n",
    "    \n",
    "    # Missing data cases\n",
    "    if ('iv' in missing) and ('dv' in missing):\n",
    "        return []\n",
    "    \n",
    "    elif 'iv' in missing:\n",
    "        times = [dv_s,dv_e]\n",
    "        for time in times: \n",
    "            assert is_valid_date_format(time), f'{time} not in expected format'\n",
    "        return [dv_s,dv_e]\n",
    "    \n",
    "    elif 'dv' in missing:\n",
    "        times = [iv_s,iv_e]\n",
    "        for time in times: \n",
    "            assert is_valid_date_format(time), f'{time} not in expected format'\n",
    "        return [iv_s,iv_e]\n",
    "    \n",
    "    else:\n",
    "        times = [iv_s,iv_e,dv_s,dv_e]\n",
    "        for time in times: \n",
    "            assert is_valid_date_format(time), f'{time} not in expected format'\n",
    "    return [min(iv_s,dv_s),max(iv_e,dv_e)]"
   ]
  },
  {
   "cell_type": "code",
   "execution_count": 18,
   "id": "764067be",
   "metadata": {},
   "outputs": [],
   "source": [
    "def is_valid_date_format(date_string, date_format='%Y-%m-%d %H:%M:%S'):\n",
    "    try:\n",
    "        datetime.strptime(date_string, date_format)\n",
    "        return True\n",
    "    except ValueError:\n",
    "        return False"
   ]
  },
  {
   "cell_type": "code",
   "execution_count": 19,
   "id": "978aa39a",
   "metadata": {},
   "outputs": [],
   "source": [
    "# Find shapefile bounding box\n",
    "def find_shapefile_bounds(path):\n",
    "    \n",
    "    # Modified from: https://github.com/CH-Earth/CWARHM/blob/main/0_tools/ERA5_find_download_coordinates_from_shapefile.ipynb\n",
    "    shp = gpd.read_file(path)\n",
    "    \n",
    "    return shp.total_bounds"
   ]
  },
  {
   "cell_type": "code",
   "execution_count": 20,
   "id": "6833d03a",
   "metadata": {},
   "outputs": [],
   "source": [
    "def find_download_coords_from_bounds(coords, target='ERA5'):\n",
    "    \n",
    "    '''\n",
    "    Determines download coordinates from shapefile bounds for a given data set.\n",
    "    Assumes coodinates are an array: [lon_min, lat_min, lon_max, lat_max] (bottom-left, top-right).\n",
    "    Returns separate lat and lon vectors.\n",
    "    '''\n",
    "\n",
    "    # Source: https://github.com/CH-Earth/CWARHM/blob/main/3a_forcing/1a_download_forcing/download_ERA5_pressureLevel_annual.ipynb   \n",
    "    \n",
    "    # Extract values\n",
    "    lon = [coords[0],coords[2]]\n",
    "    lat = [coords[1],coords[3]]\n",
    "    \n",
    "    if target == 'ERA5':\n",
    "        \n",
    "        # Round to ERA5 0.25 degree resolution\n",
    "        rounded_lon = [math.floor(lon[0]*4)/4, math.ceil(lon[1]*4)/4]\n",
    "        rounded_lat = [math.floor(lat[0]*4)/4, math.ceil(lat[1]*4)/4]\n",
    "\n",
    "        # Find if we are still in the representative area of a different ERA5 grid cell\n",
    "        if lat[0] > rounded_lat[0]+0.125:\n",
    "            rounded_lat[0] += 0.25\n",
    "        if lon[0] > rounded_lon[0]+0.125:\n",
    "            rounded_lon[0] += 0.25\n",
    "        if lat[1] < rounded_lat[1]-0.125:\n",
    "            rounded_lat[1] -= 0.25\n",
    "        if lon[1] < rounded_lon[1]-0.125:\n",
    "            rounded_lon[1] -= 0.25\n",
    "    \n",
    "        # Make a download string ready for ERA5 (cdsapi) format\n",
    "        dl_string = '{}/{}/{}/{}'.format(rounded_lat[1],rounded_lon[0],rounded_lat[0],rounded_lon[1])\n",
    "    \n",
    "    return dl_string, rounded_lat, rounded_lon"
   ]
  },
  {
   "cell_type": "code",
   "execution_count": null,
   "id": "d1cd45ba",
   "metadata": {},
   "outputs": [],
   "source": []
  }
 ],
 "metadata": {
  "kernelspec": {
   "display_name": "camels-spat-env",
   "language": "python",
   "name": "camels-spat-env"
  },
  "language_info": {
   "codemirror_mode": {
    "name": "ipython",
    "version": 3
   },
   "file_extension": ".py",
   "mimetype": "text/x-python",
   "name": "python",
   "nbconvert_exporter": "python",
   "pygments_lexer": "ipython3",
   "version": "3.8.2"
  }
 },
 "nbformat": 4,
 "nbformat_minor": 5
}
