{
 "cells": [
  {
   "cell_type": "markdown",
   "id": "7db3e732-426b-4b22-b055-b9395f29fa09",
   "metadata": {},
   "source": [
    "## Calculate attributes\n",
    "Takes prepared geospatial data and computes various attributes."
   ]
  },
  {
   "cell_type": "code",
   "execution_count": 1,
   "id": "2ac7b17d-07d9-4985-bb9c-8508fb2c7554",
   "metadata": {},
   "outputs": [],
   "source": [
    "import pandas as pd\n",
    "import sys\n",
    "from pathlib import Path\n",
    "sys.path.append(str(Path().absolute().parent))\n",
    "from python_cs_functions import config as cs, attributes as csa\n",
    "from python_cs_functions.delineate import prepare_delineation_outputs"
   ]
  },
  {
   "cell_type": "markdown",
   "id": "d8bcba8f-d99c-4058-9de9-23ae255c19e9",
   "metadata": {},
   "source": [
    "### Config handling"
   ]
  },
  {
   "cell_type": "code",
   "execution_count": 2,
   "id": "6dfdcc03-f734-4df6-8bee-25ae59f5560e",
   "metadata": {},
   "outputs": [],
   "source": [
    "# Specify where the config file can be found\n",
    "config_file = '../0_config/config.txt'"
   ]
  },
  {
   "cell_type": "code",
   "execution_count": 6,
   "id": "5aa42aa7-cf4d-4c51-8555-05638e2ffc3d",
   "metadata": {},
   "outputs": [],
   "source": [
    "# Get the required info from the config file\n",
    "data_path            = cs.read_from_config(config_file,'data_path')\n",
    "\n",
    "# CAMELS-spat metadata\n",
    "cs_meta_path = cs.read_from_config(config_file,'cs_basin_path')\n",
    "cs_meta_name = cs.read_from_config(config_file,'cs_meta_name')\n",
    "cs_unusable_name = cs.read_from_config(config_file,'cs_unusable_name')\n",
    "\n",
    "# Basin folder\n",
    "cs_basin_folder = cs.read_from_config(config_file, 'cs_basin_path')\n",
    "basins_path = Path(data_path) / cs_basin_folder\n",
    "\n",
    "# Get the temporary data folder\n",
    "cs_temp_folder = cs.read_from_config(config_file, 'temp_path')\n",
    "temp_path = Path(cs_temp_folder)\n",
    "temp_path.mkdir(exist_ok=True, parents=True)\n",
    "\n",
    "# Get the attribute folder\n",
    "att_folder = cs.read_from_config(config_file, 'att_path')\n",
    "att_path = basins_path / att_folder\n",
    "att_path.mkdir(parents=True, exist_ok=True)"
   ]
  },
  {
   "cell_type": "markdown",
   "id": "933dae9c-b5fe-42d2-9cc9-2ee54661e2c7",
   "metadata": {},
   "source": [
    "### Data loading"
   ]
  },
  {
   "cell_type": "code",
   "execution_count": 7,
   "id": "333bd63a-b0a1-417d-b9c6-d28306a0120d",
   "metadata": {},
   "outputs": [],
   "source": [
    "# CAMELS-spat metadata file\n",
    "cs_meta_path = Path(data_path) / cs_meta_path\n",
    "cs_meta = pd.read_csv(cs_meta_path / cs_meta_name)"
   ]
  },
  {
   "cell_type": "code",
   "execution_count": 8,
   "id": "d5a497a0-a9a2-404c-9b2a-8173cbb1436b",
   "metadata": {},
   "outputs": [],
   "source": [
    "# Open list of unusable stations; Enforce reading IDs as string to keep leading 0's\n",
    "cs_unusable = pd.read_csv(cs_meta_path / cs_unusable_name, dtype={'Station_id': object})"
   ]
  },
  {
   "cell_type": "markdown",
   "id": "e87113cc-bfb3-48dd-bae1-4c7f19fd39b3",
   "metadata": {},
   "source": [
    "### Processing"
   ]
  },
  {
   "cell_type": "code",
   "execution_count": 9,
   "id": "3185dc90-2a46-46b2-bdd1-c0032c2c452e",
   "metadata": {},
   "outputs": [],
   "source": [
    "debug_message = f'\\n!!! CHECK DEBUGGING STATUS: \\n- Testing 1 file \\n- Testing 1 basin'"
   ]
  },
  {
   "cell_type": "code",
   "execution_count": 10,
   "id": "f9c395a8-7e5d-4140-b61d-65581fc05a23",
   "metadata": {},
   "outputs": [],
   "source": [
    "data_subfolders = ['era5', 'worldclim', 'hydrology', 'lai', 'forest_height', 'glclu2019', 'modis_land', 'lgrip30', 'merit', 'hydrolakes', 'pelletier', 'soilgrids', 'glhymps']"
   ]
  },
  {
   "cell_type": "code",
   "execution_count": 11,
   "id": "11e6b92c-35d3-4358-a3fe-0daec6cd96f4",
   "metadata": {},
   "outputs": [],
   "source": [
    "# Every attribute needs a list, so that we can efficiently construct a dataframe later\n",
    "l_gauges = [] # station ID"
   ]
  },
  {
   "cell_type": "code",
   "execution_count": 12,
   "id": "2b44331c-4cd6-4b2a-ba99-db3a767f9ddd",
   "metadata": {},
   "outputs": [
    {
     "name": "stdout",
     "output_type": "stream",
     "text": [
      "\n",
      "!!! CHECK DEBUGGING STATUS: \n",
      "- Testing 1 file \n",
      "- Testing 1 basin\n",
      "Processing geospatial data into attributes for CAN_01AD002\n",
      " - processing era5\n",
      " - processing worldclim\n"
     ]
    },
    {
     "name": "stderr",
     "output_type": "stream",
     "text": [
      "/Users/wmk934/data/CAMELS_spat/camels-spat-env-TRIAL/lib/python3.11/site-packages/rasterstats/io.py:328: NodataWarning: Setting nodata to -999; specify nodata explicitly\n",
      "  warnings.warn(\n"
     ]
    },
    {
     "name": "stdout",
     "output_type": "stream",
     "text": [
      " - processing hydrology\n"
     ]
    },
    {
     "name": "stderr",
     "output_type": "stream",
     "text": [
      "OMP: Info #276: omp_set_nested routine deprecated, please use omp_set_max_active_levels instead.\n"
     ]
    },
    {
     "name": "stdout",
     "output_type": "stream",
     "text": [
      " - processing lai\n",
      " - processing forest_height\n",
      " - processing glclu2019\n",
      " - processing modis_land\n",
      " - processing lgrip30\n",
      " - processing merit\n",
      " - processing hydrolakes\n",
      " - processing pelletier\n",
      " - processing soilgrids\n",
      " - processing glhymps\n",
      "\n",
      "!!! CHECK DEBUGGING STATUS: \n",
      "- Testing 1 file \n",
      "- Testing 1 basin\n"
     ]
    }
   ],
   "source": [
    "print(debug_message)\n",
    "for ix,row in cs_meta.iterrows():\n",
    "\n",
    "    # DEBUGGING\n",
    "    if ix != 46: continue\n",
    "\n",
    "    # Get the paths\n",
    "    basin_id, shp_lump_path, shp_dist_path, _, _ = prepare_delineation_outputs(cs_meta, ix, basins_path)\n",
    "    geo_folder = basins_path / 'basin_data' / basin_id / 'geospatial'\n",
    "    met_folder = basins_path / 'basin_data' / basin_id / 'forcing'\n",
    "    hyd_folder = basins_path / 'basin_data' / basin_id / 'observations'\n",
    "\n",
    "    # Data storage\n",
    "    l_gauges.append(basin_id) # Update the Station list\n",
    "    l_values = [] # Initialize an empty list where we'll store this basin's attributes\n",
    "    l_index = [] # Initialize an empty list where we'll store the attribute descriptions\n",
    "\n",
    "    # Define the shapefiles\n",
    "    shp = str(shp_lump_path) # because zonalstats wants a file path, not a geodataframe\n",
    "    riv = str(shp_dist_path).format('river') # For topographic attributes\n",
    "    \n",
    "    # Data-specific processing\n",
    "    print(f'Processing geospatial data into attributes for {basin_id}')\n",
    "    for dataset in data_subfolders:\n",
    "        print(f' - processing {dataset}')\n",
    "\n",
    "        ## CLIMATE\n",
    "        if dataset == 'era5':\n",
    "            l_values, l_index, ds_precip, ds_era5 = csa.attributes_from_era5(met_folder, shp, 'era5', l_values, l_index)                                \n",
    "        if dataset == 'worldclim':\n",
    "            csa.oudin_pet_from_worldclim(geo_folder, dataset) # Get an extra PET estimate to sanity check ERA5 outcomes\n",
    "            csa.aridity_and_fraction_snow_from_worldclim(geo_folder, dataset) # Get monthly aridity and fraction snow maps\n",
    "            l_values, l_index = csa.attributes_from_worldclim(geo_folder, dataset, shp, l_values, l_index)\n",
    "\n",
    "        ## LAND COVER\n",
    "        if dataset == 'forest_height':\n",
    "            l_values, l_index = csa.attributes_from_forest_height(geo_folder, dataset, shp, l_values, l_index)\n",
    "        if dataset == 'lai':\n",
    "            l_values, l_index = csa.attributes_from_lai(geo_folder, dataset, temp_path, shp, l_values, l_index)\n",
    "        if dataset == 'glclu2019':\n",
    "            l_values, l_index = csa.attributes_from_glclu2019(geo_folder, dataset, shp, l_values, l_index)\n",
    "        if dataset == 'modis_land':\n",
    "            l_values, l_index = csa.attributes_from_modis_land(geo_folder, dataset, shp, l_values, l_index)\n",
    "        if dataset == 'lgrip30':\n",
    "            l_values, l_index = csa.attributes_from_lgrip30(geo_folder, dataset, shp, l_values, l_index)\n",
    "\n",
    "        ## TOPOGRAPHY\n",
    "        if dataset == 'merit':\n",
    "            l_values, l_index = csa.attributes_from_merit(geo_folder, dataset, shp, riv, row, l_values, l_index)\n",
    "\n",
    "        ## OPENWATER\n",
    "        if dataset == 'hydrolakes':\n",
    "            l_values, l_index = csa.attributes_from_hydrolakes(geo_folder, dataset, l_values, l_index)\n",
    "        if dataset == 'hydrology':\n",
    "            l_values, l_index = csa.attributes_from_streamflow(hyd_folder, dataset, basin_id, ds_precip, row, l_values, l_index)\n",
    "\n",
    "        ## SOIL\n",
    "        if dataset == 'pelletier':\n",
    "            l_values, l_index = csa.attributes_from_pelletier(geo_folder, dataset, shp, l_values, l_index)\n",
    "        if dataset == 'soilgrids':\n",
    "            l_values, l_index = csa.attributes_from_soilgrids(geo_folder, dataset, shp, l_values, l_index)\n",
    "\n",
    "        ## GEOLOGY\n",
    "        if dataset == 'glhymps':\n",
    "            l_values, l_index = csa.attributes_from_glhymps(geo_folder, dataset, l_values, l_index)\n",
    "            \n",
    "print(debug_message)"
   ]
  },
  {
   "cell_type": "code",
   "execution_count": 13,
   "id": "9d197b84-b519-487b-aaf4-b14929671829",
   "metadata": {},
   "outputs": [
    {
     "data": {
      "text/plain": [
       "(1128, 1128)"
      ]
     },
     "execution_count": 13,
     "metadata": {},
     "output_type": "execute_result"
    }
   ],
   "source": [
    "len(l_values),len(l_index)"
   ]
  },
  {
   "cell_type": "markdown",
   "id": "5f740e80-faf5-4c56-a379-48b3fb2b6b5f",
   "metadata": {},
   "source": [
    "#### Make the dataframe"
   ]
  },
  {
   "cell_type": "code",
   "execution_count": 14,
   "id": "9f038ae6-5dff-43cf-a462-8d31eea3d39a",
   "metadata": {},
   "outputs": [
    {
     "data": {
      "text/html": [
       "<div>\n",
       "<style scoped>\n",
       "    .dataframe tbody tr th:only-of-type {\n",
       "        vertical-align: middle;\n",
       "    }\n",
       "\n",
       "    .dataframe tbody tr th {\n",
       "        vertical-align: top;\n",
       "    }\n",
       "\n",
       "    .dataframe thead th {\n",
       "        text-align: right;\n",
       "    }\n",
       "</style>\n",
       "<table border=\"1\" class=\"dataframe\">\n",
       "  <thead>\n",
       "    <tr style=\"text-align: right;\">\n",
       "      <th></th>\n",
       "      <th></th>\n",
       "      <th></th>\n",
       "      <th></th>\n",
       "      <th>CAN_01AD002</th>\n",
       "    </tr>\n",
       "    <tr>\n",
       "      <th>Category</th>\n",
       "      <th>Attribute</th>\n",
       "      <th>Unit</th>\n",
       "      <th>Source</th>\n",
       "      <th></th>\n",
       "    </tr>\n",
       "  </thead>\n",
       "  <tbody>\n",
       "    <tr>\n",
       "      <th rowspan=\"5\" valign=\"top\">Climate</th>\n",
       "      <th>num_years_era5</th>\n",
       "      <th>years</th>\n",
       "      <th>ERA5</th>\n",
       "      <td>70</td>\n",
       "    </tr>\n",
       "    <tr>\n",
       "      <th>mtpr_mean</th>\n",
       "      <th>mm</th>\n",
       "      <th>ERA5</th>\n",
       "      <td>1137.1210937712333</td>\n",
       "    </tr>\n",
       "    <tr>\n",
       "      <th>mtpr_std</th>\n",
       "      <th>mm</th>\n",
       "      <th>ERA5</th>\n",
       "      <td>136.74820016873835</td>\n",
       "    </tr>\n",
       "    <tr>\n",
       "      <th>mper_mean</th>\n",
       "      <th>mm</th>\n",
       "      <th>ERA5</th>\n",
       "      <td>209.9189803019856</td>\n",
       "    </tr>\n",
       "    <tr>\n",
       "      <th>mper_std</th>\n",
       "      <th>mm</th>\n",
       "      <th>ERA5</th>\n",
       "      <td>12.083002663320935</td>\n",
       "    </tr>\n",
       "    <tr>\n",
       "      <th>...</th>\n",
       "      <th>...</th>\n",
       "      <th>...</th>\n",
       "      <th>...</th>\n",
       "      <td>...</td>\n",
       "    </tr>\n",
       "    <tr>\n",
       "      <th rowspan=\"5\" valign=\"top\">Geology</th>\n",
       "      <th>porosity_std</th>\n",
       "      <th>-</th>\n",
       "      <th>GLHYMPS</th>\n",
       "      <td>0.07108</td>\n",
       "    </tr>\n",
       "    <tr>\n",
       "      <th>log_permeability_min</th>\n",
       "      <th>m^2</th>\n",
       "      <th>GLHYMPS</th>\n",
       "      <td>-16.5</td>\n",
       "    </tr>\n",
       "    <tr>\n",
       "      <th>log_permeability_mean</th>\n",
       "      <th>m^2</th>\n",
       "      <th>GLHYMPS</th>\n",
       "      <td>-14.377311</td>\n",
       "    </tr>\n",
       "    <tr>\n",
       "      <th>log_permeability_max</th>\n",
       "      <th>m^2</th>\n",
       "      <th>GLHYMPS</th>\n",
       "      <td>-12.5</td>\n",
       "    </tr>\n",
       "    <tr>\n",
       "      <th>log_permeability_std</th>\n",
       "      <th>m^2</th>\n",
       "      <th>GLHYMPS</th>\n",
       "      <td>1.234355</td>\n",
       "    </tr>\n",
       "  </tbody>\n",
       "</table>\n",
       "<p>1128 rows × 1 columns</p>\n",
       "</div>"
      ],
      "text/plain": [
       "                                                     CAN_01AD002\n",
       "Category Attribute             Unit  Source                     \n",
       "Climate  num_years_era5        years ERA5                     70\n",
       "         mtpr_mean             mm    ERA5     1137.1210937712333\n",
       "         mtpr_std              mm    ERA5     136.74820016873835\n",
       "         mper_mean             mm    ERA5      209.9189803019856\n",
       "         mper_std              mm    ERA5     12.083002663320935\n",
       "...                                                          ...\n",
       "Geology  porosity_std          -     GLHYMPS             0.07108\n",
       "         log_permeability_min  m^2   GLHYMPS               -16.5\n",
       "         log_permeability_mean m^2   GLHYMPS          -14.377311\n",
       "         log_permeability_max  m^2   GLHYMPS               -12.5\n",
       "         log_permeability_std  m^2   GLHYMPS            1.234355\n",
       "\n",
       "[1128 rows x 1 columns]"
      ]
     },
     "execution_count": 14,
     "metadata": {},
     "output_type": "execute_result"
    }
   ],
   "source": [
    "# Test with a fake second station\n",
    "l_gauges = ['CAN_01AD002','CAN_01AD003']\n",
    "\n",
    "# Make the dataframe\n",
    "input_dict = dict(zip(l_gauges, [l_values,l_values]))\n",
    "df = pd.DataFrame(input_dict)\n",
    "\n",
    "# Set the index\n",
    "multi_index = pd.MultiIndex.from_tuples(l_index, names=['Category', 'Attribute', 'Unit', 'Source'])\n",
    "df.index = multi_index\n",
    "\n",
    "# Drop the fake extra column\n",
    "df = df.drop(columns=['CAN_01AD003'], axis=1)\n",
    "\n",
    "df"
   ]
  },
  {
   "cell_type": "code",
   "execution_count": 17,
   "id": "309ae298-c51c-4fff-b74f-201e02ba5567",
   "metadata": {},
   "outputs": [],
   "source": [
    "att_file = f'attributes_{basin_id}.csv'\n",
    "df.to_csv(att_path/att_file)"
   ]
  },
  {
   "cell_type": "code",
   "execution_count": null,
   "id": "d0f90a83-2162-4d9d-ac9e-79fc89641910",
   "metadata": {},
   "outputs": [],
   "source": []
  }
 ],
 "metadata": {
  "kernelspec": {
   "display_name": "camels-spat-env-jupyter",
   "language": "python",
   "name": "camels-spat-env-jupyter"
  },
  "language_info": {
   "codemirror_mode": {
    "name": "ipython",
    "version": 3
   },
   "file_extension": ".py",
   "mimetype": "text/x-python",
   "name": "python",
   "nbconvert_exporter": "python",
   "pygments_lexer": "ipython3",
   "version": "3.10.2"
  }
 },
 "nbformat": 4,
 "nbformat_minor": 5
}
