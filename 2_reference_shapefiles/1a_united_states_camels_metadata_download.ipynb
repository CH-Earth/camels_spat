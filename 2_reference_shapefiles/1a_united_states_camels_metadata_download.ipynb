{
 "cells": [
  {
   "cell_type": "markdown",
   "id": "2c5d6509",
   "metadata": {},
   "source": [
    "# Download CAMELS-US metadata data\n",
    "Metadata consists of two files:\n",
    "- `camels_attributes_v2.0.xlsx`: description of all headers used in `.txt` files\n",
    "- `camels_topo.txt`: topograhic data for each station"
   ]
  },
  {
   "cell_type": "code",
   "execution_count": 1,
   "id": "049654a1",
   "metadata": {},
   "outputs": [],
   "source": [
    "import sys\n",
    "from pathlib import Path\n",
    "sys.path.append(str(Path().absolute().parent))\n",
    "import python_cs_functions as cs"
   ]
  },
  {
   "cell_type": "markdown",
   "id": "73793dff",
   "metadata": {},
   "source": [
    "### Config handling"
   ]
  },
  {
   "cell_type": "code",
   "execution_count": 2,
   "id": "0bd4a19f",
   "metadata": {},
   "outputs": [],
   "source": [
    "# Specify where the config file can be found\n",
    "config_file = '../0_config/config.txt'"
   ]
  },
  {
   "cell_type": "code",
   "execution_count": 3,
   "id": "4855e428",
   "metadata": {},
   "outputs": [],
   "source": [
    "# Get the required info from the config file\n",
    "data_path = cs.read_from_config(config_file,'data_path')\n",
    "shps_path = cs.read_from_config(config_file,'ref_shps_path')\n",
    "meta_url  = cs.read_from_config(config_file,'us_camels_meta_url')\n",
    "topo_url  = cs.read_from_config(config_file,'us_camels_topo_url')\n",
    "name_url  = cs.read_from_config(config_file,'us_camels_name_url')"
   ]
  },
  {
   "cell_type": "markdown",
   "id": "f51e3ac2",
   "metadata": {},
   "source": [
    "### Make output folder"
   ]
  },
  {
   "cell_type": "code",
   "execution_count": 4,
   "id": "4fa8ede1",
   "metadata": {},
   "outputs": [],
   "source": [
    "# Construct the download location\n",
    "download_folder = Path(data_path) / shps_path / 'CAMELS-US'"
   ]
  },
  {
   "cell_type": "code",
   "execution_count": 5,
   "id": "ac6e3ce1",
   "metadata": {},
   "outputs": [],
   "source": [
    "# Make sure the download folder exists\n",
    "download_folder.mkdir(parents=True, exist_ok=True)"
   ]
  },
  {
   "cell_type": "markdown",
   "id": "af18e7de",
   "metadata": {},
   "source": [
    "### Get the data"
   ]
  },
  {
   "cell_type": "code",
   "execution_count": 7,
   "id": "7da4da1d",
   "metadata": {},
   "outputs": [
    {
     "name": "stdout",
     "output_type": "stream",
     "text": [
      "Successfully downloaded https://gdex.ucar.edu/dataset/camels/file/camels_attributes_v2.0.xlsx\n",
      "Successfully downloaded https://gdex.ucar.edu/dataset/camels/file/camels_topo.txt\n",
      "Successfully downloaded https://gdex.ucar.edu/dataset/camels/file/camels_name.txt\n"
     ]
    }
   ],
   "source": [
    "for file_url in [meta_url,topo_url,name_url]:\n",
    "    cs.download_url_into_folder(file_url,download_folder)"
   ]
  },
  {
   "cell_type": "code",
   "execution_count": null,
   "id": "8052cc2a",
   "metadata": {},
   "outputs": [],
   "source": []
  }
 ],
 "metadata": {
  "kernelspec": {
   "display_name": "Python 3 (ipykernel)",
   "language": "python",
   "name": "python3"
  },
  "language_info": {
   "codemirror_mode": {
    "name": "ipython",
    "version": 3
   },
   "file_extension": ".py",
   "mimetype": "text/x-python",
   "name": "python",
   "nbconvert_exporter": "python",
   "pygments_lexer": "ipython3",
   "version": "3.8.2"
  }
 },
 "nbformat": 4,
 "nbformat_minor": 5
}
