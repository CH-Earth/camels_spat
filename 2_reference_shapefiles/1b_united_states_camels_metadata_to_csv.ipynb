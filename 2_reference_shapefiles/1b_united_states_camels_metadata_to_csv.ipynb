{
 "cells": [
  {
   "cell_type": "markdown",
   "id": "b308c8ac",
   "metadata": {},
   "source": [
    "# Convert CAMELS-US metadata file type\n",
    "Metadata file is provided as `.txt`. We want this as `.csv` to be consistent with how we'll use the Canadian equivalent."
   ]
  },
  {
   "cell_type": "code",
   "execution_count": 1,
   "id": "2ec73ac7",
   "metadata": {},
   "outputs": [],
   "source": [
    "import sys\n",
    "from pathlib import Path\n",
    "sys.path.append(str(Path().absolute().parent))\n",
    "import python_cs_functions as cs\n",
    "import pandas as pd"
   ]
  },
  {
   "cell_type": "markdown",
   "id": "73793dff",
   "metadata": {},
   "source": [
    "### Config handling"
   ]
  },
  {
   "cell_type": "code",
   "execution_count": 2,
   "id": "0bd4a19f",
   "metadata": {},
   "outputs": [],
   "source": [
    "# Specify where the config file can be found\n",
    "config_file = '../0_config/config.txt'"
   ]
  },
  {
   "cell_type": "code",
   "execution_count": 3,
   "id": "4855e428",
   "metadata": {},
   "outputs": [],
   "source": [
    "# Get the required info from the config file\n",
    "data_path = cs.read_from_config(config_file,'data_path')\n",
    "shps_path = cs.read_from_config(config_file,'ref_shps_path')\n",
    "file_url  = cs.read_from_config(config_file,'us_camels_meta_url')"
   ]
  },
  {
   "cell_type": "markdown",
   "id": "f51e3ac2",
   "metadata": {},
   "source": [
    "### Define file location"
   ]
  },
  {
   "cell_type": "code",
   "execution_count": 4,
   "id": "4fa8ede1",
   "metadata": {},
   "outputs": [],
   "source": [
    "# Construct the download location\n",
    "download_folder = Path(data_path) / shps_path / 'CAMELS-US'"
   ]
  },
  {
   "cell_type": "code",
   "execution_count": 5,
   "id": "261976aa",
   "metadata": {},
   "outputs": [],
   "source": [
    "# Make the file name\n",
    "file_name_txt = file_url.split('/')[-1].strip() # Get the last part of the url, strip whitespace and characters"
   ]
  },
  {
   "cell_type": "code",
   "execution_count": 7,
   "id": "43180473",
   "metadata": {},
   "outputs": [],
   "source": [
    "file_name_csv = file_name_txt.replace('txt','csv')"
   ]
  },
  {
   "cell_type": "markdown",
   "id": "4597b33b",
   "metadata": {},
   "source": [
    "### Process file\n",
    "File organization: semi-colon seperated value file."
   ]
  },
  {
   "cell_type": "code",
   "execution_count": 12,
   "id": "ff2b03bc",
   "metadata": {},
   "outputs": [],
   "source": [
    "# Open the file\n",
    "df = pd.read_csv(str(download_folder/file_name_txt), delimiter=';')"
   ]
  },
  {
   "cell_type": "code",
   "execution_count": 14,
   "id": "7270518a",
   "metadata": {},
   "outputs": [],
   "source": [
    "df.to_csv(download_folder/file_name_csv, encoding='utf-8', index=False)"
   ]
  },
  {
   "cell_type": "code",
   "execution_count": null,
   "id": "9104987a",
   "metadata": {},
   "outputs": [],
   "source": []
  }
 ],
 "metadata": {
  "kernelspec": {
   "display_name": "camels-spat-env",
   "language": "python",
   "name": "camels-spat-env"
  },
  "language_info": {
   "codemirror_mode": {
    "name": "ipython",
    "version": 3
   },
   "file_extension": ".py",
   "mimetype": "text/x-python",
   "name": "python",
   "nbconvert_exporter": "python",
   "pygments_lexer": "ipython3",
   "version": "3.8.2"
  }
 },
 "nbformat": 4,
 "nbformat_minor": 5
}
