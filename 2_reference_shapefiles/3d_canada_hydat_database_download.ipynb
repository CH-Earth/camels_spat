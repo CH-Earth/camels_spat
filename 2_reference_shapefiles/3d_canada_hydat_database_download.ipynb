{
 "cells": [
  {
   "cell_type": "markdown",
   "id": "b308c8ac",
   "metadata": {},
   "source": [
    "# Download Canada HYDAT database\n",
    "HYDAT database contains station information such as drainage area and location."
   ]
  },
  {
   "cell_type": "code",
   "execution_count": 1,
   "id": "2ec73ac7",
   "metadata": {},
   "outputs": [],
   "source": [
    "import sys\n",
    "from pathlib import Path\n",
    "sys.path.append(str(Path().absolute().parent))\n",
    "import python_cs_functions as cs"
   ]
  },
  {
   "cell_type": "markdown",
   "id": "73793dff",
   "metadata": {},
   "source": [
    "### Config handling"
   ]
  },
  {
   "cell_type": "code",
   "execution_count": 2,
   "id": "0bd4a19f",
   "metadata": {},
   "outputs": [],
   "source": [
    "# Specify where the config file can be found\n",
    "config_file = '../0_config/config.txt'"
   ]
  },
  {
   "cell_type": "code",
   "execution_count": 3,
   "id": "4855e428",
   "metadata": {},
   "outputs": [],
   "source": [
    "# Get the required info from the config file\n",
    "data_path = cs.read_from_config(config_file,'data_path')\n",
    "shps_path = cs.read_from_config(config_file,'ref_shps_path')\n",
    "db_file_url = cs.read_from_config(config_file,'can_hydat_db_url')\n",
    "meta_file_url = cs.read_from_config(config_file,'can_hydat_meta_url')"
   ]
  },
  {
   "cell_type": "markdown",
   "id": "f51e3ac2",
   "metadata": {},
   "source": [
    "### Make output folder"
   ]
  },
  {
   "cell_type": "code",
   "execution_count": 4,
   "id": "4fa8ede1",
   "metadata": {},
   "outputs": [],
   "source": [
    "# Construct the download location\n",
    "download_folder = Path(data_path) / shps_path / 'RHBN-CAN'"
   ]
  },
  {
   "cell_type": "code",
   "execution_count": 6,
   "id": "ac6e3ce1",
   "metadata": {},
   "outputs": [],
   "source": [
    "# Make sure the download folder exists\n",
    "download_folder.mkdir(parents=True, exist_ok=True)"
   ]
  },
  {
   "cell_type": "markdown",
   "id": "4597b33b",
   "metadata": {},
   "source": [
    "### Get the data\n",
    "Note: apparently there is no clean way to check if a file has been downloaded correctly without comparing hash strings, so we'll just assume that it downloads correctly."
   ]
  },
  {
   "cell_type": "code",
   "execution_count": 7,
   "id": "e761bcbe",
   "metadata": {},
   "outputs": [
    {
     "name": "stdout",
     "output_type": "stream",
     "text": [
      "Successfully downloaded https://collaboration.cmc.ec.gc.ca/cmc/hydrometrics/www/Hydat_sqlite3_20230505.zip\n",
      "Successfully downloaded https://collaboration.cmc.ec.gc.ca/cmc/hydrometrics/www/HYDAT_Definition_EN.pdf\n"
     ]
    }
   ],
   "source": [
    "cs.download_url_into_folder(db_file_url,download_folder) # Database\n",
    "cs.download_url_into_folder(meta_file_url,download_folder) # Metadata"
   ]
  },
  {
   "cell_type": "code",
   "execution_count": null,
   "id": "e2b23216",
   "metadata": {},
   "outputs": [],
   "source": []
  }
 ],
 "metadata": {
  "kernelspec": {
   "display_name": "camels-spat-env",
   "language": "python",
   "name": "camels-spat-env"
  },
  "language_info": {
   "codemirror_mode": {
    "name": "ipython",
    "version": 3
   },
   "file_extension": ".py",
   "mimetype": "text/x-python",
   "name": "python",
   "nbconvert_exporter": "python",
   "pygments_lexer": "ipython3",
   "version": "3.8.2"
  }
 },
 "nbformat": 4,
 "nbformat_minor": 5
}
