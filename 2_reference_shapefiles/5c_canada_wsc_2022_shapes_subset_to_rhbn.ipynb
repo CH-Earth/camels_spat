{
 "cells": [
  {
   "cell_type": "markdown",
   "id": "b308c8ac",
   "metadata": {},
   "source": [
    "# Subset Water Survey of Canada 2022 shapefiles\n",
    "The source data contains 7000+ stations. We only want to retain those that are part of the Reference Hydrometric Basin Network."
   ]
  },
  {
   "cell_type": "code",
   "execution_count": 13,
   "id": "2ec73ac7",
   "metadata": {},
   "outputs": [],
   "source": [
    "import os\n",
    "import sys\n",
    "import shutil\n",
    "import zipfile\n",
    "import pandas as pd\n",
    "from pathlib import Path\n",
    "sys.path.append(str(Path().absolute().parent))\n",
    "import python_cs_functions as cs"
   ]
  },
  {
   "cell_type": "markdown",
   "id": "73793dff",
   "metadata": {},
   "source": [
    "### Config handling"
   ]
  },
  {
   "cell_type": "code",
   "execution_count": 5,
   "id": "0bd4a19f",
   "metadata": {},
   "outputs": [],
   "source": [
    "# Specify where the config file can be found\n",
    "config_file = '../0_config/config.txt'"
   ]
  },
  {
   "cell_type": "code",
   "execution_count": 9,
   "id": "4855e428",
   "metadata": {},
   "outputs": [],
   "source": [
    "# Get the required info from the config file\n",
    "data_path = cs.read_from_config(config_file,'data_path')\n",
    "shps_path = cs.read_from_config(config_file,'ref_shps_path')\n",
    "rhbn_meta = cs.read_from_config(config_file,'can_rhbn_meta_url')"
   ]
  },
  {
   "cell_type": "markdown",
   "id": "f51e3ac2",
   "metadata": {},
   "source": [
    "### Define file folder "
   ]
  },
  {
   "cell_type": "code",
   "execution_count": 7,
   "id": "4fa8ede1",
   "metadata": {},
   "outputs": [],
   "source": [
    "# Construct the data location\n",
    "data_folder = Path(data_path) / shps_path / 'RHBN-CAN' / 'WSC2022' / 'temp'"
   ]
  },
  {
   "cell_type": "markdown",
   "id": "4f5e58b9",
   "metadata": {},
   "source": [
    "### Define where the meta data file is"
   ]
  },
  {
   "cell_type": "code",
   "execution_count": 10,
   "id": "d91a7584",
   "metadata": {},
   "outputs": [],
   "source": [
    "# Construct the download location\n",
    "meta_folder = Path(data_path) / shps_path / 'RHBN-CAN'"
   ]
  },
  {
   "cell_type": "code",
   "execution_count": 11,
   "id": "b466a374",
   "metadata": {},
   "outputs": [],
   "source": [
    "# Make the file name: Get the last part of the url, strip whitespace and characters, replace extension\n",
    "meta_name = rhbn_meta.split('/')[-1].strip().replace('xlsx','csv') "
   ]
  },
  {
   "cell_type": "markdown",
   "id": "158d1a57",
   "metadata": {},
   "source": [
    "### Subset WSC 2022 shapes to RHBN 2020 basins"
   ]
  },
  {
   "cell_type": "code",
   "execution_count": 15,
   "id": "7ff1271f",
   "metadata": {},
   "outputs": [],
   "source": [
    "# Open the RHBN 2020 list\n",
    "df = pd.read_csv(str(meta_folder/meta_name))"
   ]
  },
  {
   "cell_type": "code",
   "execution_count": 17,
   "id": "cf385f48",
   "metadata": {},
   "outputs": [],
   "source": [
    "# Find the stations for which we have WSC 2022 shapefiles\n",
    "stations = [ f.name for f in os.scandir(data_folder) if f.is_dir() ]"
   ]
  },
  {
   "cell_type": "code",
   "execution_count": 46,
   "id": "1490ee16",
   "metadata": {},
   "outputs": [],
   "source": [
    "# Remove any stations not in the list\n",
    "for station in stations:\n",
    "    if station not in df.STATION_NUMBER.values:\n",
    "        shutil.rmtree(data_folder / station)\n",
    "        os.remove(data_folder / (station + '.qgz'))"
   ]
  },
  {
   "cell_type": "code",
   "execution_count": null,
   "id": "5ecf044c",
   "metadata": {},
   "outputs": [],
   "source": []
  }
 ],
 "metadata": {
  "kernelspec": {
   "display_name": "camels-spat-env",
   "language": "python",
   "name": "camels-spat-env"
  },
  "language_info": {
   "codemirror_mode": {
    "name": "ipython",
    "version": 3
   },
   "file_extension": ".py",
   "mimetype": "text/x-python",
   "name": "python",
   "nbconvert_exporter": "python",
   "pygments_lexer": "ipython3",
   "version": "3.8.2"
  }
 },
 "nbformat": 4,
 "nbformat_minor": 5
}
