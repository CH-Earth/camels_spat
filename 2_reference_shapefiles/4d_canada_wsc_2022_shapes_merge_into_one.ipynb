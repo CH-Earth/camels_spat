{
 "cells": [
  {
   "cell_type": "markdown",
   "id": "b308c8ac",
   "metadata": {},
   "source": [
    "# Merge Water Survey of Canada 2022 shapefiles\n",
    "The source data contains different shapefiles provided per basin. Here we combine the shapefiles for different basins into a single shapefile. We repeat this for the three different pieces of geospatial information the WSC 2022 database provides:\n",
    "- `[station]_DrainageBasin_BassinDeDrainage.shp`: basin outline\n",
    "- `[station]_PourPoint_PointExutoire.shp`: pour point used for basin delineation (typically in the river)\n",
    "- `[station]_Station.shp`: station location (typically on the river bank)"
   ]
  },
  {
   "cell_type": "code",
   "execution_count": 13,
   "id": "2ec73ac7",
   "metadata": {},
   "outputs": [],
   "source": [
    "import os\n",
    "import sys\n",
    "import shutil\n",
    "import pandas as pd\n",
    "import geopandas as gpd\n",
    "from pathlib import Path\n",
    "sys.path.append(str(Path().absolute().parent))\n",
    "import python_cs_functions as cs"
   ]
  },
  {
   "cell_type": "markdown",
   "id": "73793dff",
   "metadata": {},
   "source": [
    "### Config handling"
   ]
  },
  {
   "cell_type": "code",
   "execution_count": 2,
   "id": "0bd4a19f",
   "metadata": {},
   "outputs": [],
   "source": [
    "# Specify where the config file can be found\n",
    "config_file = '../0_config/config.txt'"
   ]
  },
  {
   "cell_type": "code",
   "execution_count": 7,
   "id": "4855e428",
   "metadata": {},
   "outputs": [],
   "source": [
    "# Get the required info from the config file\n",
    "data_path,_ = cs.read_from_config(config_file,'data_path')\n",
    "shps_path,_ = cs.read_from_config(config_file,'ref_shps_path')\n",
    "rhbn_meta,_ = cs.read_from_config(config_file,'can_rhbn_meta_url')"
   ]
  },
  {
   "cell_type": "markdown",
   "id": "f51e3ac2",
   "metadata": {},
   "source": [
    "### Define file folders"
   ]
  },
  {
   "cell_type": "code",
   "execution_count": 5,
   "id": "4fa8ede1",
   "metadata": {},
   "outputs": [],
   "source": [
    "# Construct the data location\n",
    "data_folder = Path(data_path) / shps_path / 'RHBN-CAN' / 'WSC2022' / 'temp'"
   ]
  },
  {
   "cell_type": "code",
   "execution_count": 21,
   "id": "ab751458",
   "metadata": {},
   "outputs": [],
   "source": [
    "# Construct the output folder\n",
    "merged_folder = Path(data_path) / shps_path / 'RHBN-CAN' / 'WSC2022'"
   ]
  },
  {
   "cell_type": "markdown",
   "id": "4f5e58b9",
   "metadata": {},
   "source": [
    "### Define where the meta data file is\n",
    "We don't need this for the merging itself, but it will let us check how many of the RHBN shapes we have."
   ]
  },
  {
   "cell_type": "code",
   "execution_count": 6,
   "id": "d91a7584",
   "metadata": {},
   "outputs": [],
   "source": [
    "# Construct the download location\n",
    "meta_folder = Path(data_path) / shps_path / 'RHBN-CAN'"
   ]
  },
  {
   "cell_type": "code",
   "execution_count": 8,
   "id": "b466a374",
   "metadata": {},
   "outputs": [],
   "source": [
    "# Make the file name: Get the last part of the url, strip whitespace and characters, replace extension\n",
    "meta_name = rhbn_meta.split('/')[-1].strip().replace('xlsx','csv') "
   ]
  },
  {
   "cell_type": "code",
   "execution_count": 11,
   "id": "7ff1271f",
   "metadata": {},
   "outputs": [],
   "source": [
    "# Open the RHBN 2020 list\n",
    "df = pd.read_csv(str(meta_folder/meta_name))"
   ]
  },
  {
   "cell_type": "markdown",
   "id": "158d1a57",
   "metadata": {},
   "source": [
    "### Merge the WSC 2022 shapes"
   ]
  },
  {
   "cell_type": "code",
   "execution_count": 14,
   "id": "cf385f48",
   "metadata": {},
   "outputs": [],
   "source": [
    "# Find the RHBN stations for which we have WSC 2022 shapefiles\n",
    "stations = [ f.name for f in os.scandir(data_folder) if f.is_dir() ]"
   ]
  },
  {
   "cell_type": "code",
   "execution_count": 17,
   "id": "94ec915a",
   "metadata": {},
   "outputs": [],
   "source": [
    "# Get a list of all existing shapefiles in the RBN database\n",
    "basin_files = []\n",
    "pourpoint_files = []\n",
    "station_files = []\n",
    "for root,dirs,all_files in os.walk(data_folder):\n",
    "    for file in all_files:\n",
    "        if file.endswith('DrainageBasin_BassinDeDrainage.shp'):\n",
    "            basin_files.append(os.path.join(root,file))\n",
    "        elif file.endswith('PourPoint_PointExutoire.shp'):\n",
    "            pourpoint_files.append(os.path.join(root,file))\n",
    "        elif file.endswith('Station.shp'):\n",
    "            station_files.append(os.path.join(root,file))"
   ]
  },
  {
   "cell_type": "code",
   "execution_count": 19,
   "id": "f8e5bb2f",
   "metadata": {},
   "outputs": [],
   "source": [
    "# Merge the individual files into aggregated shapes\n",
    "gdf_basins     = pd.concat([ gpd.read_file(file) for file in basin_files     ]).pipe(gpd.GeoDataFrame)\n",
    "gdf_pourpoints = pd.concat([ gpd.read_file(file) for file in pourpoint_files ]).pipe(gpd.GeoDataFrame)\n",
    "gdf_stations   = pd.concat([ gpd.read_file(file) for file in station_files   ]).pipe(gpd.GeoDataFrame)"
   ]
  },
  {
   "cell_type": "code",
   "execution_count": 22,
   "id": "06fa46f5",
   "metadata": {
    "scrolled": true
   },
   "outputs": [],
   "source": [
    "# Save the files\n",
    "gdf_basins.to_file(    merged_folder / 'WSC2022_basins.shp')\n",
    "gdf_pourpoints.to_file(merged_folder / 'WSC2022_pourpoints.shp')\n",
    "gdf_stations.to_file(  merged_folder / 'WSC2022_stations.shp')"
   ]
  },
  {
   "cell_type": "code",
   "execution_count": 23,
   "id": "1b6244dd",
   "metadata": {},
   "outputs": [
    {
     "name": "stdout",
     "output_type": "stream",
     "text": [
      "Found 1008 shapefiles matching one of 1027 Reference Hydrometric Basins\n"
     ]
    }
   ],
   "source": [
    "# check how many of the basins we have shapefiles for\n",
    "print('Found {} shapefiles matching one of {} Reference Hydrometric Basins'.format(len(gdf_basins),len(df)))"
   ]
  },
  {
   "cell_type": "markdown",
   "id": "502405d4",
   "metadata": {},
   "source": [
    "### Remove temporary files"
   ]
  },
  {
   "cell_type": "code",
   "execution_count": 24,
   "id": "1490ee16",
   "metadata": {},
   "outputs": [],
   "source": [
    "shutil.rmtree(data_folder)"
   ]
  },
  {
   "cell_type": "code",
   "execution_count": null,
   "id": "5ecf044c",
   "metadata": {},
   "outputs": [],
   "source": []
  }
 ],
 "metadata": {
  "kernelspec": {
   "display_name": "camels-spat-env",
   "language": "python",
   "name": "camels-spat-env"
  },
  "language_info": {
   "codemirror_mode": {
    "name": "ipython",
    "version": 3
   },
   "file_extension": ".py",
   "mimetype": "text/x-python",
   "name": "python",
   "nbconvert_exporter": "python",
   "pygments_lexer": "ipython3",
   "version": "3.8.2"
  }
 },
 "nbformat": 4,
 "nbformat_minor": 5
}
