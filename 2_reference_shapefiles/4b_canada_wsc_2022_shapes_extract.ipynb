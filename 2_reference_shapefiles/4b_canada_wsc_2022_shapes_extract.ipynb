{
 "cells": [
  {
   "cell_type": "markdown",
   "id": "b308c8ac",
   "metadata": {},
   "source": [
    "# Extract Water Survey of Canada shapefiles\n",
    "Extracts the `.zip` files and deletes them after unzipping is complete. "
   ]
  },
  {
   "cell_type": "code",
   "execution_count": 1,
   "id": "2ec73ac7",
   "metadata": {},
   "outputs": [],
   "source": [
    "import os\n",
    "import sys\n",
    "import shutil\n",
    "import zipfile\n",
    "from pathlib import Path\n",
    "sys.path.append(str(Path().absolute().parent))\n",
    "import python_cs_functions as cs"
   ]
  },
  {
   "cell_type": "markdown",
   "id": "73793dff",
   "metadata": {},
   "source": [
    "### Config handling"
   ]
  },
  {
   "cell_type": "code",
   "execution_count": 2,
   "id": "0bd4a19f",
   "metadata": {},
   "outputs": [],
   "source": [
    "# Specify where the config file can be found\n",
    "config_file = '../0_config/config.txt'"
   ]
  },
  {
   "cell_type": "code",
   "execution_count": 3,
   "id": "4855e428",
   "metadata": {},
   "outputs": [],
   "source": [
    "# Get the required info from the config file\n",
    "data_path,_ = cs.read_from_config(config_file,'data_path')\n",
    "shps_path,_ = cs.read_from_config(config_file,'ref_shps_path')\n",
    "file_url,_  = cs.read_from_config(config_file,'can_wsc_2022_shps_url')"
   ]
  },
  {
   "cell_type": "markdown",
   "id": "f51e3ac2",
   "metadata": {},
   "source": [
    "### Define file folder "
   ]
  },
  {
   "cell_type": "code",
   "execution_count": 4,
   "id": "4fa8ede1",
   "metadata": {},
   "outputs": [],
   "source": [
    "# Construct the download location\n",
    "download_folder = Path(data_path) / shps_path / 'RHBN-CAN' / 'WSC2022'"
   ]
  },
  {
   "cell_type": "code",
   "execution_count": 5,
   "id": "de236637",
   "metadata": {},
   "outputs": [],
   "source": [
    "# Create a temporary sub-folder to store everything in\n",
    "unzip_folder = download_folder / 'temp'"
   ]
  },
  {
   "cell_type": "code",
   "execution_count": 6,
   "id": "ab065693",
   "metadata": {},
   "outputs": [],
   "source": [
    "# Make sure the download folder exists\n",
    "unzip_folder.mkdir(parents=True, exist_ok=True)"
   ]
  },
  {
   "cell_type": "markdown",
   "id": "4597b33b",
   "metadata": {},
   "source": [
    "### Extract the data"
   ]
  },
  {
   "cell_type": "code",
   "execution_count": 9,
   "id": "5cfed703",
   "metadata": {},
   "outputs": [],
   "source": [
    "# The files are stored on the server with names 01.zip, 02.zip, ..., 11.zip\n",
    "file_names = [\"%.2d\" % i for i in range(1,12)]"
   ]
  },
  {
   "cell_type": "code",
   "execution_count": 10,
   "id": "261976aa",
   "metadata": {},
   "outputs": [],
   "source": [
    "# Make the file name\n",
    "file_template = file_url.split('/')[-1].strip() # Get the last part of the url, strip whitespace and characters"
   ]
  },
  {
   "cell_type": "code",
   "execution_count": 11,
   "id": "2c302e15",
   "metadata": {},
   "outputs": [],
   "source": [
    "for file_name in file_names:\n",
    "    this_file = file_template.replace('*',file_name)\n",
    "    with zipfile.ZipFile(download_folder / this_file, 'r') as zip_ref:\n",
    "        zip_ref.extractall(unzip_folder)    "
   ]
  },
  {
   "cell_type": "markdown",
   "id": "8c811bf0",
   "metadata": {},
   "source": [
    "### Remove the zip files"
   ]
  },
  {
   "cell_type": "code",
   "execution_count": 12,
   "id": "a9b32b62",
   "metadata": {},
   "outputs": [],
   "source": [
    "for file_name in file_names:\n",
    "    this_file = file_template.replace('*',file_name)\n",
    "    os.remove(download_folder / this_file)"
   ]
  },
  {
   "cell_type": "code",
   "execution_count": null,
   "id": "48cfc503",
   "metadata": {},
   "outputs": [],
   "source": []
  }
 ],
 "metadata": {
  "kernelspec": {
   "display_name": "camels-spat-env",
   "language": "python",
   "name": "camels-spat-env"
  },
  "language_info": {
   "codemirror_mode": {
    "name": "ipython",
    "version": 3
   },
   "file_extension": ".py",
   "mimetype": "text/x-python",
   "name": "python",
   "nbconvert_exporter": "python",
   "pygments_lexer": "ipython3",
   "version": "3.8.2"
  }
 },
 "nbformat": 4,
 "nbformat_minor": 5
}
