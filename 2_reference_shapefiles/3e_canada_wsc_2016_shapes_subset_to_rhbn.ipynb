{
 "cells": [
  {
   "cell_type": "markdown",
   "id": "b308c8ac",
   "metadata": {},
   "source": [
    "# Subset Water Survey of Canada 2016 shapefiles\n",
    "The source data contains 1675 stations. We only want to retain those that are part of the Reference Hydrometric Basin Network."
   ]
  },
  {
   "cell_type": "code",
   "execution_count": 1,
   "id": "2ec73ac7",
   "metadata": {},
   "outputs": [],
   "source": [
    "import sys\n",
    "import fiona\n",
    "import pandas as pd\n",
    "import geopandas as gpd\n",
    "from pathlib import Path\n",
    "sys.path.append(str(Path().absolute().parent))\n",
    "import python_cs_functions as cs"
   ]
  },
  {
   "cell_type": "markdown",
   "id": "73793dff",
   "metadata": {},
   "source": [
    "### Config handling"
   ]
  },
  {
   "cell_type": "code",
   "execution_count": 2,
   "id": "0bd4a19f",
   "metadata": {},
   "outputs": [],
   "source": [
    "# Specify where the config file can be found\n",
    "config_file = '../0_config/config.txt'"
   ]
  },
  {
   "cell_type": "code",
   "execution_count": 3,
   "id": "4855e428",
   "metadata": {},
   "outputs": [],
   "source": [
    "# Get the required info from the config file\n",
    "data_path,_ = cs.read_from_config(config_file,'data_path')\n",
    "shps_path,_ = cs.read_from_config(config_file,'ref_shps_path')\n",
    "rhbn_meta,_ = cs.read_from_config(config_file,'can_rhbn_meta_url')"
   ]
  },
  {
   "cell_type": "markdown",
   "id": "f51e3ac2",
   "metadata": {},
   "source": [
    "### Define where the shapefile is"
   ]
  },
  {
   "cell_type": "code",
   "execution_count": 4,
   "id": "4fa8ede1",
   "metadata": {},
   "outputs": [],
   "source": [
    "# Construct the download location\n",
    "data_folder = Path(data_path) / shps_path / 'RHBN-CAN' / 'WSC2016'"
   ]
  },
  {
   "cell_type": "code",
   "execution_count": 5,
   "id": "261976aa",
   "metadata": {},
   "outputs": [],
   "source": [
    "# Make the file name\n",
    "file_name = 'WSC2016_basins.shp'"
   ]
  },
  {
   "cell_type": "markdown",
   "id": "cdbbd8df",
   "metadata": {},
   "source": [
    "### Define where the meta data file is"
   ]
  },
  {
   "cell_type": "code",
   "execution_count": 6,
   "id": "a1d5ce04",
   "metadata": {},
   "outputs": [],
   "source": [
    "# Construct the download location\n",
    "meta_folder = Path(data_path) / shps_path / 'RHBN-CAN'"
   ]
  },
  {
   "cell_type": "code",
   "execution_count": 7,
   "id": "2f722854",
   "metadata": {},
   "outputs": [],
   "source": [
    "# Make the file name: Get the last part of the url, strip whitespace and characters, replace extension\n",
    "meta_name = rhbn_meta.split('/')[-1].strip().replace('xlsx','csv') "
   ]
  },
  {
   "cell_type": "markdown",
   "id": "390ddffc",
   "metadata": {},
   "source": [
    "### Subset WSC 2016 shapes to RHBN 2020 basins"
   ]
  },
  {
   "cell_type": "code",
   "execution_count": 8,
   "id": "ddca6e60",
   "metadata": {},
   "outputs": [],
   "source": [
    "# Open the RHBN 2020 list\n",
    "df = pd.read_csv(str(meta_folder/meta_name))"
   ]
  },
  {
   "cell_type": "code",
   "execution_count": 9,
   "id": "31065342",
   "metadata": {},
   "outputs": [],
   "source": [
    "# Open the WSC2016 shapefile\n",
    "gdf = gpd.read_file(data_folder/file_name)"
   ]
  },
  {
   "cell_type": "code",
   "execution_count": 29,
   "id": "af2ec7a4",
   "metadata": {},
   "outputs": [],
   "source": [
    "# Create a mask of stations in the shapefile that match a station in metadata list\n",
    "mask = gdf.Station.isin(df.STATION_NUMBER)"
   ]
  },
  {
   "cell_type": "code",
   "execution_count": 30,
   "id": "b38dd8ec",
   "metadata": {},
   "outputs": [],
   "source": [
    "# Create a new geodataframe containing only those catchments that are in the RHBN list\n",
    "rhbn_shp = gdf[mask]"
   ]
  },
  {
   "cell_type": "code",
   "execution_count": 32,
   "id": "c97d5cbb",
   "metadata": {},
   "outputs": [],
   "source": [
    "rhbn_shp.to_file(data_folder/file_name)"
   ]
  },
  {
   "cell_type": "code",
   "execution_count": 15,
   "id": "a5faec86",
   "metadata": {},
   "outputs": [
    {
     "name": "stdout",
     "output_type": "stream",
     "text": [
      "Found 876 shapefiles matching one of 1027 Reference Hydrometric Basins\n"
     ]
    }
   ],
   "source": [
    "# check how many of the basins we have shapefiles for\n",
    "print('Found {} shapefiles matching one of {} Reference Hydrometric Basins'.format(len(rhbn_shp),len(df)))"
   ]
  },
  {
   "cell_type": "code",
   "execution_count": null,
   "id": "98c3bade",
   "metadata": {},
   "outputs": [],
   "source": []
  }
 ],
 "metadata": {
  "kernelspec": {
   "display_name": "camels-spat-env",
   "language": "python",
   "name": "camels-spat-env"
  },
  "language_info": {
   "codemirror_mode": {
    "name": "ipython",
    "version": 3
   },
   "file_extension": ".py",
   "mimetype": "text/x-python",
   "name": "python",
   "nbconvert_exporter": "python",
   "pygments_lexer": "ipython3",
   "version": "3.8.2"
  }
 },
 "nbformat": 4,
 "nbformat_minor": 5
}
