{
 "cells": [
  {
   "cell_type": "markdown",
   "id": "b308c8ac",
   "metadata": {},
   "source": [
    "# Download Water Survey of Canada shapefiles\n",
    "This is the 2016 release of shapefiles. A more recent release exists, but that does not 100% cover the same basins. Therefore we need both."
   ]
  },
  {
   "cell_type": "code",
   "execution_count": 1,
   "id": "2ec73ac7",
   "metadata": {},
   "outputs": [],
   "source": [
    "import sys\n",
    "import shutil\n",
    "import requests\n",
    "from pathlib import Path\n",
    "sys.path.append(str(Path().absolute().parent))\n",
    "import python_cs_functions as cs"
   ]
  },
  {
   "cell_type": "markdown",
   "id": "73793dff",
   "metadata": {},
   "source": [
    "### Config handling"
   ]
  },
  {
   "cell_type": "code",
   "execution_count": 2,
   "id": "0bd4a19f",
   "metadata": {},
   "outputs": [],
   "source": [
    "# Specify where the config file can be found\n",
    "config_file = '../0_config/config.txt'"
   ]
  },
  {
   "cell_type": "code",
   "execution_count": 3,
   "id": "4855e428",
   "metadata": {},
   "outputs": [],
   "source": [
    "# Get the required info from the config file\n",
    "data_path,_ = cs.read_from_config(config_file,'data_path')\n",
    "shps_path,_ = cs.read_from_config(config_file,'ref_shps_path')\n",
    "file_url,_  = cs.read_from_config(config_file,'can_wsc_2016_shps_url')"
   ]
  },
  {
   "cell_type": "markdown",
   "id": "f51e3ac2",
   "metadata": {},
   "source": [
    "### Make output folder"
   ]
  },
  {
   "cell_type": "code",
   "execution_count": 6,
   "id": "4fa8ede1",
   "metadata": {},
   "outputs": [],
   "source": [
    "# Construct the download location\n",
    "download_folder = Path(data_path) / shps_path / 'RHBN-CAN' / 'WSC2016'"
   ]
  },
  {
   "cell_type": "code",
   "execution_count": 7,
   "id": "ac6e3ce1",
   "metadata": {},
   "outputs": [],
   "source": [
    "# Make sure the download folder exists\n",
    "download_folder.mkdir(parents=True, exist_ok=True)"
   ]
  },
  {
   "cell_type": "markdown",
   "id": "4597b33b",
   "metadata": {},
   "source": [
    "### Get the data\n",
    "Note: apparently there is no clean way to check if a file has been downloaded correctly without comparing hash strings, so we'll just assume that it downloads correctly."
   ]
  },
  {
   "cell_type": "code",
   "execution_count": 8,
   "id": "6fdf1c95",
   "metadata": {},
   "outputs": [],
   "source": [
    "# Retry settings\n",
    "retries_max = 10"
   ]
  },
  {
   "cell_type": "code",
   "execution_count": 9,
   "id": "261976aa",
   "metadata": {},
   "outputs": [],
   "source": [
    "# Make the file name\n",
    "file_name = file_url.split('/')[-1].strip() # Get the last part of the url, strip whitespace and characters"
   ]
  },
  {
   "cell_type": "code",
   "execution_count": 19,
   "id": "cec7d5c2",
   "metadata": {},
   "outputs": [],
   "source": [
    "# Server blocks requests that do not specify a user agent, so specify that\n",
    "# Value found by:\n",
    "# 1. Open download page (https://donnees.ec.gc.ca/data/water/products/national-hydrometric-network-basin-polygons/) in Chrome\n",
    "# 2. Opening developer tools (F12)\n",
    "# 3. Initiating download manually\n",
    "# 4. Restarting request with recording option (ctrl + r)\n",
    "# 5. Checking the User-Agent value on the Network tab in dev tools\n",
    "headers = {'User-Agent': 'Mozilla/5.0 (Windows NT 10.0; Win64; x64) AppleWebKit/537.36 (KHTML, like Gecko) Chrome/104.0.0.0 Safari/537.36'}"
   ]
  },
  {
   "cell_type": "code",
   "execution_count": 15,
   "id": "edba5229",
   "metadata": {},
   "outputs": [],
   "source": [
    "# Make sure the connection is re-tried if it fails\n",
    "retries_cur = 1\n",
    "while retries_cur <= retries_max:\n",
    "    try: \n",
    "\n",
    "        # Send a HTTP request to the server and save the HTTP response in a response object called resp\n",
    "        # 'stream = True' ensures that only response headers are downloaded initially \n",
    "        with requests.get(file_url.strip(), headers=headers, stream=True) as response:\n",
    "\n",
    "            # Decode the response\n",
    "            response.raw.decode_content = True\n",
    "            content = response.raw\n",
    "\n",
    "            # Write to file\n",
    "            with open(download_folder / file_name, 'wb') as data:\n",
    "                shutil.copyfileobj(content, data)\n",
    "                \n",
    "    except Exception as e:\n",
    "        print('Error downloading ' + file_url + ' on try ' + str(retries_cur) + ' with error: ' + str(e))\n",
    "        retries_cur += 1\n",
    "        continue\n",
    "    else:\n",
    "        break           "
   ]
  }
 ],
 "metadata": {
  "kernelspec": {
   "display_name": "camels-spat-env",
   "language": "python",
   "name": "camels-spat-env"
  },
  "language_info": {
   "codemirror_mode": {
    "name": "ipython",
    "version": 3
   },
   "file_extension": ".py",
   "mimetype": "text/x-python",
   "name": "python",
   "nbconvert_exporter": "python",
   "pygments_lexer": "ipython3",
   "version": "3.8.2"
  }
 },
 "nbformat": 4,
 "nbformat_minor": 5
}
