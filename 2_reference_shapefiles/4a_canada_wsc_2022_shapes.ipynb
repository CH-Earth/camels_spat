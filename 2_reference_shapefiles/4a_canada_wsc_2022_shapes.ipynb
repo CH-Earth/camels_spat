{
 "cells": [
  {
   "cell_type": "markdown",
   "id": "b308c8ac",
   "metadata": {},
   "source": [
    "# Download Water Survey of Canada shapefiles\n",
    "This is the 2022 release of shapefiles. An older release exists, but that does not 100% cover the same basins. Therefore we need both."
   ]
  },
  {
   "cell_type": "code",
   "execution_count": 1,
   "id": "2ec73ac7",
   "metadata": {},
   "outputs": [],
   "source": [
    "import sys\n",
    "import shutil\n",
    "import requests\n",
    "from pathlib import Path\n",
    "sys.path.append(str(Path().absolute().parent))\n",
    "import python_cs_functions as cs"
   ]
  },
  {
   "cell_type": "markdown",
   "id": "73793dff",
   "metadata": {},
   "source": [
    "### Config handling"
   ]
  },
  {
   "cell_type": "code",
   "execution_count": 2,
   "id": "0bd4a19f",
   "metadata": {},
   "outputs": [],
   "source": [
    "# Specify where the config file can be found\n",
    "config_file = '../0_config/config.txt'"
   ]
  },
  {
   "cell_type": "code",
   "execution_count": 15,
   "id": "4855e428",
   "metadata": {},
   "outputs": [],
   "source": [
    "# Get the required info from the config file\n",
    "data_path,_ = cs.read_from_config(config_file,'data_path')\n",
    "shps_path,_ = cs.read_from_config(config_file,'ref_shps_path')\n",
    "file_url,_  = cs.read_from_config(config_file,'can_wsc_2022_shps_url')\n",
    "meta_url,_  = cs.read_from_config(config_file,'can_wsc_2022_meta_url')\n",
    "rdme_url,_  = cs.read_from_config(config_file,'can_wsc_2022_rdme_url')"
   ]
  },
  {
   "cell_type": "markdown",
   "id": "f51e3ac2",
   "metadata": {},
   "source": [
    "### Make output folder"
   ]
  },
  {
   "cell_type": "code",
   "execution_count": 4,
   "id": "4fa8ede1",
   "metadata": {},
   "outputs": [],
   "source": [
    "# Construct the download location\n",
    "download_folder = Path(data_path) / shps_path / 'RHBN-CAN' / 'WSC2022'"
   ]
  },
  {
   "cell_type": "code",
   "execution_count": 5,
   "id": "ac6e3ce1",
   "metadata": {},
   "outputs": [],
   "source": [
    "# Make sure the download folder exists\n",
    "download_folder.mkdir(parents=True, exist_ok=True)"
   ]
  },
  {
   "cell_type": "markdown",
   "id": "6fb1fdf7",
   "metadata": {},
   "source": [
    "### Prep downloads"
   ]
  },
  {
   "cell_type": "code",
   "execution_count": 24,
   "id": "96506e37",
   "metadata": {},
   "outputs": [],
   "source": [
    "''' Attempts to download [file_url] into [download_folder]/[file_name]; [retries_max=10] attempts. '''\n",
    "def download_file(file_url,download_folder,file_name,\n",
    "                  retries_max = 10):\n",
    "    \n",
    "    # Make sure the connection is re-tried if it fails\n",
    "    retries_cur = 1\n",
    "    while retries_cur <= retries_max:\n",
    "        try: \n",
    "\n",
    "            # Send a HTTP request to the server and save the HTTP response in a response object called resp\n",
    "            # 'stream = True' ensures that only response headers are downloaded initially \n",
    "            with requests.get(file_url.strip(), stream=True) as response:\n",
    "\n",
    "                # Decode the response\n",
    "                response.raw.decode_content = True\n",
    "                content = response.raw\n",
    "\n",
    "                # Write to file\n",
    "                with open(download_folder / file_name, 'wb') as data:\n",
    "                    shutil.copyfileobj(content, data)\n",
    "\n",
    "        except Exception as e:\n",
    "            print('Error downloading ' + file_url + ' on try ' + str(retries_cur) + ' with error: ' + str(e))\n",
    "            retries_cur += 1\n",
    "            continue\n",
    "        else:\n",
    "            break  \n",
    "    \n",
    "    return"
   ]
  },
  {
   "cell_type": "markdown",
   "id": "2de80723",
   "metadata": {},
   "source": [
    "### Get the meta data files"
   ]
  },
  {
   "cell_type": "code",
   "execution_count": 26,
   "id": "f2cf34d4",
   "metadata": {},
   "outputs": [],
   "source": [
    "# Prepare filenames\n",
    "meta_name = meta_url.split('/')[-1].strip() # Get the last part of the url, strip whitespace and characters\n",
    "rdme_name = rdme_url.split('/')[-1].strip()"
   ]
  },
  {
   "cell_type": "code",
   "execution_count": 25,
   "id": "2c9a16b9",
   "metadata": {},
   "outputs": [],
   "source": [
    "download_file(meta_url,download_folder,meta_name)"
   ]
  },
  {
   "cell_type": "code",
   "execution_count": 29,
   "id": "759e0d6a",
   "metadata": {},
   "outputs": [],
   "source": [
    "download_file(rdme_url,download_folder,rdme_name)"
   ]
  },
  {
   "cell_type": "markdown",
   "id": "4597b33b",
   "metadata": {},
   "source": [
    "### Get the data\n",
    "Note: apparently there is no clean way to check if a file has been downloaded correctly without comparing hash strings, so we'll just assume that it downloads correctly."
   ]
  },
  {
   "cell_type": "code",
   "execution_count": 35,
   "id": "5721a882",
   "metadata": {},
   "outputs": [
    {
     "data": {
      "text/plain": [
       "['01', '02', '03', '04', '05', '06', '07', '08', '09', '10', '11']"
      ]
     },
     "execution_count": 35,
     "metadata": {},
     "output_type": "execute_result"
    }
   ],
   "source": [
    "# The files are stored on the server with names 01.zip, 02.zip, ..., 11.zip\n",
    "file_names = [\"%.2d\" % i for i in range(1,12)]\n",
    "file_names"
   ]
  },
  {
   "cell_type": "code",
   "execution_count": 36,
   "id": "4b20234d",
   "metadata": {},
   "outputs": [],
   "source": [
    "for file_name in file_names:\n",
    "    this_url  = file_url.replace('*',file_name)\n",
    "    this_file = file_name + '.zip'\n",
    "    download_file(this_url,download_folder,this_file)"
   ]
  },
  {
   "cell_type": "code",
   "execution_count": null,
   "id": "f96b1a57",
   "metadata": {},
   "outputs": [],
   "source": []
  }
 ],
 "metadata": {
  "kernelspec": {
   "display_name": "camels-spat-env",
   "language": "python",
   "name": "camels-spat-env"
  },
  "language_info": {
   "codemirror_mode": {
    "name": "ipython",
    "version": 3
   },
   "file_extension": ".py",
   "mimetype": "text/x-python",
   "name": "python",
   "nbconvert_exporter": "python",
   "pygments_lexer": "ipython3",
   "version": "3.8.2"
  }
 },
 "nbformat": 4,
 "nbformat_minor": 5
}
