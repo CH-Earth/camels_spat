{
 "cells": [
  {
   "cell_type": "markdown",
   "id": "b308c8ac",
   "metadata": {},
   "source": [
    "# Convert Water Survey of Canada 2016 file type\n",
    "Converts the `.gdb` to `.shp` to make later processing easier."
   ]
  },
  {
   "cell_type": "code",
   "execution_count": 1,
   "id": "2ec73ac7",
   "metadata": {},
   "outputs": [],
   "source": [
    "import os\n",
    "import sys\n",
    "import fiona\n",
    "import shutil\n",
    "import pandas as pd\n",
    "import geopandas as gpd\n",
    "from pathlib import Path\n",
    "sys.path.append(str(Path().absolute().parent))\n",
    "import python_cs_functions as cs"
   ]
  },
  {
   "cell_type": "markdown",
   "id": "73793dff",
   "metadata": {},
   "source": [
    "### Config handling"
   ]
  },
  {
   "cell_type": "code",
   "execution_count": 2,
   "id": "0bd4a19f",
   "metadata": {},
   "outputs": [],
   "source": [
    "# Specify where the config file can be found\n",
    "config_file = '../0_config/config.txt'"
   ]
  },
  {
   "cell_type": "code",
   "execution_count": 3,
   "id": "4855e428",
   "metadata": {},
   "outputs": [],
   "source": [
    "# Get the required info from the config file\n",
    "data_path = cs.read_from_config(config_file,'data_path')\n",
    "shps_path = cs.read_from_config(config_file,'ref_shps_path')\n",
    "file_url  = cs.read_from_config(config_file,'can_wsc_2016_shps_url')"
   ]
  },
  {
   "cell_type": "markdown",
   "id": "f51e3ac2",
   "metadata": {},
   "source": [
    "### Make output folder"
   ]
  },
  {
   "cell_type": "code",
   "execution_count": 4,
   "id": "4fa8ede1",
   "metadata": {},
   "outputs": [],
   "source": [
    "# Construct the download location\n",
    "download_folder = Path(data_path) / shps_path / 'RHBN-CAN' / 'WSC2016'"
   ]
  },
  {
   "cell_type": "markdown",
   "id": "4597b33b",
   "metadata": {},
   "source": [
    "### Convert data type"
   ]
  },
  {
   "cell_type": "code",
   "execution_count": 5,
   "id": "261976aa",
   "metadata": {},
   "outputs": [],
   "source": [
    "# Make the file name\n",
    "gdb_file_name = file_url.split('/')[-1].strip().replace('.zip','') # Get the last part of the url, strip whitespace and characters\n",
    "shp_file_name = 'WSC2016_basins.shp'"
   ]
  },
  {
   "cell_type": "code",
   "execution_count": 6,
   "id": "6385552b",
   "metadata": {},
   "outputs": [],
   "source": [
    "# This Geodatabase (.gdb) file consists of multiple layers; 1 for each polygon\n",
    "layers = fiona.listlayers(download_folder/gdb_file_name)"
   ]
  },
  {
   "cell_type": "code",
   "execution_count": 8,
   "id": "539a33ee",
   "metadata": {},
   "outputs": [],
   "source": [
    "gdb = pd.concat([gpd.read_file(download_folder/gdb_file_name, layer=layer) for layer in layers])"
   ]
  },
  {
   "cell_type": "code",
   "execution_count": 9,
   "id": "3cec99e3",
   "metadata": {},
   "outputs": [
    {
     "name": "stderr",
     "output_type": "stream",
     "text": [
      "C:\\Users\\wmk934\\AppData\\Local\\Temp\\1\\ipykernel_4744\\2905193307.py:1: UserWarning: Column names longer than 10 characters will be truncated when saved to ESRI Shapefile.\n",
      "  gdb.to_file(download_folder/shp_file_name)\n"
     ]
    }
   ],
   "source": [
    "gdb.to_file(download_folder/shp_file_name)"
   ]
  },
  {
   "cell_type": "markdown",
   "id": "9bf6e89a",
   "metadata": {},
   "source": [
    "### Remove the geodatabase"
   ]
  },
  {
   "cell_type": "code",
   "execution_count": 7,
   "id": "8af86a3e",
   "metadata": {},
   "outputs": [],
   "source": [
    "shutil.rmtree(download_folder / gdb_file_name)"
   ]
  },
  {
   "cell_type": "code",
   "execution_count": null,
   "id": "dc8601e5",
   "metadata": {},
   "outputs": [],
   "source": []
  }
 ],
 "metadata": {
  "kernelspec": {
   "display_name": "camels-spat-env",
   "language": "python",
   "name": "camels-spat-env"
  },
  "language_info": {
   "codemirror_mode": {
    "name": "ipython",
    "version": 3
   },
   "file_extension": ".py",
   "mimetype": "text/x-python",
   "name": "python",
   "nbconvert_exporter": "python",
   "pygments_lexer": "ipython3",
   "version": "3.8.2"
  }
 },
 "nbformat": 4,
 "nbformat_minor": 5
}
