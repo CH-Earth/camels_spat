{
 "cells": [
  {
   "cell_type": "markdown",
   "id": "b308c8ac",
   "metadata": {},
   "source": [
    "# Download Water Survey of Canada shapefiles\n",
    "This is the 2022 release of shapefiles. An older release exists, but that does not 100% cover the same basins. Therefore we need both."
   ]
  },
  {
   "cell_type": "code",
   "execution_count": 1,
   "id": "2ec73ac7",
   "metadata": {},
   "outputs": [],
   "source": [
    "import sys\n",
    "from pathlib import Path\n",
    "sys.path.append(str(Path().absolute().parent))\n",
    "import python_cs_functions as cs"
   ]
  },
  {
   "cell_type": "markdown",
   "id": "73793dff",
   "metadata": {},
   "source": [
    "### Config handling"
   ]
  },
  {
   "cell_type": "code",
   "execution_count": 2,
   "id": "0bd4a19f",
   "metadata": {},
   "outputs": [],
   "source": [
    "# Specify where the config file can be found\n",
    "config_file = '../0_config/config.txt'"
   ]
  },
  {
   "cell_type": "code",
   "execution_count": 10,
   "id": "4855e428",
   "metadata": {},
   "outputs": [],
   "source": [
    "# Get the required info from the config file\n",
    "data_path = cs.read_from_config(config_file,'data_path')\n",
    "shps_path = cs.read_from_config(config_file,'ref_shps_path')\n",
    "file_url  = cs.read_from_config(config_file,'can_wsc_2022_shps_url')\n",
    "meta_url  = cs.read_from_config(config_file,'can_wsc_2022_meta_url')\n",
    "rdme_url  = cs.read_from_config(config_file,'can_wsc_2022_rdme_url')"
   ]
  },
  {
   "cell_type": "markdown",
   "id": "f51e3ac2",
   "metadata": {},
   "source": [
    "### Make output folder"
   ]
  },
  {
   "cell_type": "code",
   "execution_count": 4,
   "id": "4fa8ede1",
   "metadata": {},
   "outputs": [],
   "source": [
    "# Construct the download location\n",
    "download_folder = Path(data_path) / shps_path / 'RHBN-CAN' / 'WSC2022'"
   ]
  },
  {
   "cell_type": "code",
   "execution_count": 5,
   "id": "ac6e3ce1",
   "metadata": {},
   "outputs": [],
   "source": [
    "# Make sure the download folder exists\n",
    "download_folder.mkdir(parents=True, exist_ok=True)"
   ]
  },
  {
   "cell_type": "markdown",
   "id": "b27a499a",
   "metadata": {},
   "source": [
    "### Download the metadata files"
   ]
  },
  {
   "cell_type": "code",
   "execution_count": 11,
   "id": "5ab22616",
   "metadata": {},
   "outputs": [],
   "source": [
    "for download_url in [meta_url,rdme_url]:\n",
    "    cs.download_url_into_folder(download_url,download_folder)"
   ]
  },
  {
   "cell_type": "markdown",
   "id": "8865abfe",
   "metadata": {},
   "source": [
    "### Download the data"
   ]
  },
  {
   "cell_type": "code",
   "execution_count": 12,
   "id": "5721a882",
   "metadata": {},
   "outputs": [
    {
     "data": {
      "text/plain": [
       "['01', '02', '03', '04', '05', '06', '07', '08', '09', '10', '11']"
      ]
     },
     "execution_count": 12,
     "metadata": {},
     "output_type": "execute_result"
    }
   ],
   "source": [
    "# The files are stored on the server with names 01.zip, 02.zip, ..., 11.zip\n",
    "file_names = [\"%.2d\" % i for i in range(1,12)]\n",
    "file_names"
   ]
  },
  {
   "cell_type": "code",
   "execution_count": 13,
   "id": "4b20234d",
   "metadata": {},
   "outputs": [],
   "source": [
    "for file_name in file_names:\n",
    "    this_url  = file_url.replace('*',file_name)\n",
    "    cs.download_url_into_folder(this_url,download_folder)"
   ]
  },
  {
   "cell_type": "code",
   "execution_count": null,
   "id": "d279e954",
   "metadata": {},
   "outputs": [],
   "source": []
  }
 ],
 "metadata": {
  "kernelspec": {
   "display_name": "camels-spat-env",
   "language": "python",
   "name": "camels-spat-env"
  },
  "language_info": {
   "codemirror_mode": {
    "name": "ipython",
    "version": 3
   },
   "file_extension": ".py",
   "mimetype": "text/x-python",
   "name": "python",
   "nbconvert_exporter": "python",
   "pygments_lexer": "ipython3",
   "version": "3.8.2"
  }
 },
 "nbformat": 4,
 "nbformat_minor": 5
}
