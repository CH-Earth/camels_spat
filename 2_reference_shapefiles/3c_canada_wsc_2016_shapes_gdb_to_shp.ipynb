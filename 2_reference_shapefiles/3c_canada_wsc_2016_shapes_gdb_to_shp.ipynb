{
 "cells": [
  {
   "cell_type": "markdown",
   "id": "b308c8ac",
   "metadata": {},
   "source": [
    "# Convert Water Survey of Canada 2016 file type\n",
    "Converts the `.gdb` to `.shp` to make later processing easier."
   ]
  },
  {
   "cell_type": "code",
   "execution_count": 2,
   "id": "2ec73ac7",
   "metadata": {},
   "outputs": [
    {
     "ename": "ModuleNotFoundError",
     "evalue": "No module named 'geopandas'",
     "output_type": "error",
     "traceback": [
      "\u001b[1;31m---------------------------------------------------------------------------\u001b[0m",
      "\u001b[1;31mModuleNotFoundError\u001b[0m                       Traceback (most recent call last)",
      "Input \u001b[1;32mIn [2]\u001b[0m, in \u001b[0;36m<cell line: 4>\u001b[1;34m()\u001b[0m\n\u001b[0;32m      2\u001b[0m \u001b[38;5;28;01mimport\u001b[39;00m \u001b[38;5;21;01msys\u001b[39;00m\n\u001b[0;32m      3\u001b[0m \u001b[38;5;28;01mimport\u001b[39;00m \u001b[38;5;21;01mshutil\u001b[39;00m\n\u001b[1;32m----> 4\u001b[0m \u001b[38;5;28;01mimport\u001b[39;00m \u001b[38;5;21;01mgeopandas\u001b[39;00m \u001b[38;5;28;01mas\u001b[39;00m \u001b[38;5;21;01mgpd\u001b[39;00m\n\u001b[0;32m      5\u001b[0m \u001b[38;5;28;01mfrom\u001b[39;00m \u001b[38;5;21;01mpathlib\u001b[39;00m \u001b[38;5;28;01mimport\u001b[39;00m Path\n\u001b[0;32m      6\u001b[0m sys\u001b[38;5;241m.\u001b[39mpath\u001b[38;5;241m.\u001b[39mappend(\u001b[38;5;28mstr\u001b[39m(Path()\u001b[38;5;241m.\u001b[39mabsolute()\u001b[38;5;241m.\u001b[39mparent))\n",
      "\u001b[1;31mModuleNotFoundError\u001b[0m: No module named 'geopandas'"
     ]
    }
   ],
   "source": [
    "import os\n",
    "import sys\n",
    "import shutil\n",
    "import geopandas as gpd\n",
    "from pathlib import Path\n",
    "sys.path.append(str(Path().absolute().parent))\n",
    "import python_cs_functions as cs"
   ]
  },
  {
   "cell_type": "code",
   "execution_count": 3,
   "id": "b5ad77d4",
   "metadata": {},
   "outputs": [
    {
     "name": "stdout",
     "output_type": "stream",
     "text": [
      "64\n"
     ]
    }
   ],
   "source": [
    "import struct;print(struct.calcsize(\"P\") * 8 )"
   ]
  },
  {
   "cell_type": "code",
   "execution_count": null,
   "id": "619aec44",
   "metadata": {},
   "outputs": [],
   "source": []
  },
  {
   "cell_type": "markdown",
   "id": "5b884cae",
   "metadata": {},
   "source": [
    "GDAL install (Windows):\n",
    "1. Instructions: https://webcache.googleusercontent.com/search?q=cache:tqkIvNu3Ni0J:https://opensourceoptions.com/blog/how-to-install-gdal-for-python-with-pip-on-windows/&cd=1&hl=en&ct=clnk&gl=ca&client=firefox-b-d\n",
    "2. Wheels: https://www.lfd.uci.edu/~gohlke/pythonlibs/#gdal"
   ]
  },
  {
   "cell_type": "markdown",
   "id": "9b4db0ff",
   "metadata": {},
   "source": [
    "Approach:\n",
    "1. Find right wheel\n",
    "2. Install using instructions, using a Windows/Linux branching statement in the Python config `.sh` file\n",
    "3. Share wheel as part of Python config folder"
   ]
  },
  {
   "cell_type": "code",
   "execution_count": null,
   "id": "7be29d03",
   "metadata": {},
   "outputs": [],
   "source": []
  },
  {
   "cell_type": "code",
   "execution_count": null,
   "id": "17ef0bbd",
   "metadata": {},
   "outputs": [],
   "source": []
  },
  {
   "cell_type": "markdown",
   "id": "73793dff",
   "metadata": {},
   "source": [
    "### Config handling"
   ]
  },
  {
   "cell_type": "code",
   "execution_count": 2,
   "id": "0bd4a19f",
   "metadata": {},
   "outputs": [],
   "source": [
    "# Specify where the config file can be found\n",
    "config_file = '../0_config/config.txt'"
   ]
  },
  {
   "cell_type": "code",
   "execution_count": 3,
   "id": "4855e428",
   "metadata": {},
   "outputs": [],
   "source": [
    "# Get the required info from the config file\n",
    "data_path,_ = cs.read_from_config(config_file,'data_path')\n",
    "shps_path,_ = cs.read_from_config(config_file,'ref_shps_path')\n",
    "file_url,_  = cs.read_from_config(config_file,'can_wsc_2016_shps_url')"
   ]
  },
  {
   "cell_type": "markdown",
   "id": "f51e3ac2",
   "metadata": {},
   "source": [
    "### Make output folder"
   ]
  },
  {
   "cell_type": "code",
   "execution_count": 4,
   "id": "4fa8ede1",
   "metadata": {},
   "outputs": [],
   "source": [
    "# Construct the download location\n",
    "download_folder = Path(data_path) / shps_path / 'RHBN-CAN' / 'WSC2016'"
   ]
  },
  {
   "cell_type": "markdown",
   "id": "4597b33b",
   "metadata": {},
   "source": [
    "### Extract the data"
   ]
  },
  {
   "cell_type": "code",
   "execution_count": 5,
   "id": "261976aa",
   "metadata": {},
   "outputs": [],
   "source": [
    "# Make the file name\n",
    "file_name = file_url.split('/')[-1].strip() # Get the last part of the url, strip whitespace and characters"
   ]
  },
  {
   "cell_type": "code",
   "execution_count": 6,
   "id": "16d53b5d",
   "metadata": {},
   "outputs": [],
   "source": [
    "with zipfile.ZipFile(download_folder / file_name, 'r') as zip_ref:\n",
    "    zip_ref.extractall(download_folder)"
   ]
  },
  {
   "cell_type": "markdown",
   "id": "8c811bf0",
   "metadata": {},
   "source": [
    "### Remove the zip file"
   ]
  },
  {
   "cell_type": "code",
   "execution_count": 7,
   "id": "a9b32b62",
   "metadata": {},
   "outputs": [],
   "source": [
    "os.remove(download_folder / file_name)"
   ]
  }
 ],
 "metadata": {
  "kernelspec": {
   "display_name": "camels-spat-env",
   "language": "python",
   "name": "camels-spat-env"
  },
  "language_info": {
   "codemirror_mode": {
    "name": "ipython",
    "version": 3
   },
   "file_extension": ".py",
   "mimetype": "text/x-python",
   "name": "python",
   "nbconvert_exporter": "python",
   "pygments_lexer": "ipython3",
   "version": "3.8.2"
  }
 },
 "nbformat": 4,
 "nbformat_minor": 5
}
