{
 "cells": [
  {
   "cell_type": "markdown",
   "id": "b308c8ac",
   "metadata": {},
   "source": [
    "# Update Water Survey of Canada 2016 shapefiles\n",
    "The source `.gdn` contains columns in two different formats (`StationNam` vs `STATIONN_1`) and this transfers into the `.shp` file. Here we merge that into one."
   ]
  },
  {
   "cell_type": "code",
   "execution_count": 2,
   "id": "2ec73ac7",
   "metadata": {},
   "outputs": [],
   "source": [
    "import sys\n",
    "import geopandas as gpd\n",
    "from pathlib import Path\n",
    "sys.path.append(str(Path().absolute().parent))\n",
    "import python_cs_functions as cs"
   ]
  },
  {
   "cell_type": "markdown",
   "id": "73793dff",
   "metadata": {},
   "source": [
    "### Config handling"
   ]
  },
  {
   "cell_type": "code",
   "execution_count": 4,
   "id": "0bd4a19f",
   "metadata": {},
   "outputs": [],
   "source": [
    "# Specify where the config file can be found\n",
    "config_file = '../0_config/config.txt'"
   ]
  },
  {
   "cell_type": "code",
   "execution_count": 5,
   "id": "4855e428",
   "metadata": {},
   "outputs": [],
   "source": [
    "# Get the required info from the config file\n",
    "data_path,_ = cs.read_from_config(config_file,'data_path')\n",
    "shps_path,_ = cs.read_from_config(config_file,'ref_shps_path')"
   ]
  },
  {
   "cell_type": "markdown",
   "id": "f51e3ac2",
   "metadata": {},
   "source": [
    "### Define where the shapefile is"
   ]
  },
  {
   "cell_type": "code",
   "execution_count": 4,
   "id": "4fa8ede1",
   "metadata": {},
   "outputs": [],
   "source": [
    "# Construct the download location\n",
    "data_folder = Path(data_path) / shps_path / 'RHBN-CAN' / 'WSC2016'"
   ]
  },
  {
   "cell_type": "code",
   "execution_count": 5,
   "id": "261976aa",
   "metadata": {},
   "outputs": [],
   "source": [
    "# Make the file name\n",
    "file_name = 'WSC2016_basins.shp'"
   ]
  },
  {
   "cell_type": "markdown",
   "id": "ab73a67d",
   "metadata": {},
   "source": [
    "### Fix the column names"
   ]
  },
  {
   "cell_type": "code",
   "execution_count": 8,
   "id": "03419a0f",
   "metadata": {},
   "outputs": [],
   "source": [
    "# Open the WSC2016 shapefile\n",
    "shp = gpd.read_file(data_folder/file_name)"
   ]
  },
  {
   "cell_type": "code",
   "execution_count": 9,
   "id": "dc8601e5",
   "metadata": {
    "scrolled": false
   },
   "outputs": [],
   "source": [
    "# Check in every row if the info is in the right columns\n",
    "for index,row in shp.iterrows():\n",
    "    \n",
    "    # Find out if we need to start moving stuff\n",
    "    if row['Station'] == None:\n",
    "        shp.loc[index, 'Station'] = shp.loc[index, 'STATION_1']\n",
    "        shp.loc[index, 'StationNam'] = shp.loc[index, 'STATIONN_1']\n",
    "        shp.loc[index, 'Stn_UID'] = shp.loc[index, 'STN_UID_1']\n",
    "        shp.loc[index, 'Shp_Area'] = shp.loc[index, 'SHP_AREA_1']\n",
    "        shp.loc[index, 'Shp_Perime'] = shp.loc[index, 'SHP_PERI_1']"
   ]
  },
  {
   "cell_type": "code",
   "execution_count": 11,
   "id": "96a6a83b",
   "metadata": {},
   "outputs": [],
   "source": [
    "# Remove the now superfluous columns\n",
    "shp = shp.drop(['STATION_1','STATIONN_1','STN_UID_1','SHP_AREA_1','SHP_PERI_1'], axis=1)"
   ]
  },
  {
   "cell_type": "code",
   "execution_count": 14,
   "id": "06ad0ff8",
   "metadata": {},
   "outputs": [],
   "source": [
    "# Save the resulting shapefile\n",
    "shp.to_file(data_folder / file_name)"
   ]
  },
  {
   "cell_type": "code",
   "execution_count": null,
   "id": "f90146c2",
   "metadata": {},
   "outputs": [],
   "source": []
  }
 ],
 "metadata": {
  "kernelspec": {
   "display_name": "camels-spat-env",
   "language": "python",
   "name": "camels-spat-env"
  },
  "language_info": {
   "codemirror_mode": {
    "name": "ipython",
    "version": 3
   },
   "file_extension": ".py",
   "mimetype": "text/x-python",
   "name": "python",
   "nbconvert_exporter": "python",
   "pygments_lexer": "ipython3",
   "version": "3.8.2"
  }
 },
 "nbformat": 4,
 "nbformat_minor": 5
}
