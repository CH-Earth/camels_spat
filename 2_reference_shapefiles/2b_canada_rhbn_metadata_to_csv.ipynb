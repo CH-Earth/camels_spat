{
 "cells": [
  {
   "cell_type": "markdown",
   "id": "b308c8ac",
   "metadata": {},
   "source": [
    "# Convert Canada Reference Basin Hydrometric Network metadata file type\n",
    "Metadata file is provided as `.xlsx`. We want this as `.csv` for easier use with HYDAT downloads in R."
   ]
  },
  {
   "cell_type": "code",
   "execution_count": 1,
   "id": "2ec73ac7",
   "metadata": {},
   "outputs": [],
   "source": [
    "import sys\n",
    "from pathlib import Path\n",
    "sys.path.append(str(Path().absolute().parent))\n",
    "import python_cs_functions as cs\n",
    "import pandas as pd"
   ]
  },
  {
   "cell_type": "markdown",
   "id": "73793dff",
   "metadata": {},
   "source": [
    "### Config handling"
   ]
  },
  {
   "cell_type": "code",
   "execution_count": 2,
   "id": "0bd4a19f",
   "metadata": {},
   "outputs": [],
   "source": [
    "# Specify where the config file can be found\n",
    "config_file = '../0_config/config.txt'"
   ]
  },
  {
   "cell_type": "code",
   "execution_count": 3,
   "id": "4855e428",
   "metadata": {},
   "outputs": [],
   "source": [
    "# Get the required info from the config file\n",
    "data_path = cs.read_from_config(config_file,'data_path')\n",
    "shps_path = cs.read_from_config(config_file,'ref_shps_path')\n",
    "file_url  = cs.read_from_config(config_file,'can_rhbn_meta_url')"
   ]
  },
  {
   "cell_type": "markdown",
   "id": "f51e3ac2",
   "metadata": {},
   "source": [
    "### Define file location"
   ]
  },
  {
   "cell_type": "code",
   "execution_count": 4,
   "id": "4fa8ede1",
   "metadata": {},
   "outputs": [],
   "source": [
    "# Construct the download location\n",
    "download_folder = Path(data_path) / shps_path / 'RHBN-CAN'"
   ]
  },
  {
   "cell_type": "code",
   "execution_count": 24,
   "id": "261976aa",
   "metadata": {},
   "outputs": [],
   "source": [
    "# Make the file name\n",
    "file_name_xlsx = file_url.split('/')[-1].strip() # Get the last part of the url, strip whitespace and characters"
   ]
  },
  {
   "cell_type": "code",
   "execution_count": 26,
   "id": "43180473",
   "metadata": {},
   "outputs": [],
   "source": [
    "file_name_csv = file_name_xlsx.replace('xlsx','csv')"
   ]
  },
  {
   "cell_type": "markdown",
   "id": "4597b33b",
   "metadata": {},
   "source": [
    "### Process file\n",
    "File organization (when read as Pandas dataframe):\n",
    "- Headers: Long description of column in English\n",
    "- Row 0: Long description of column in French\n",
    "- Row 1: Column name in English\n",
    "- Row 2: Column name in French\n",
    "- Row 3-1284: data"
   ]
  },
  {
   "cell_type": "code",
   "execution_count": 15,
   "id": "ff2b03bc",
   "metadata": {},
   "outputs": [],
   "source": [
    "# Open the file\n",
    "df = pd.read_excel(str(download_folder/file_name_xlsx))"
   ]
  },
  {
   "cell_type": "code",
   "execution_count": 16,
   "id": "7e1ff8f2",
   "metadata": {},
   "outputs": [],
   "source": [
    "# Replace long English header with short one\n",
    "df = df.rename(columns=df.loc[1])"
   ]
  },
  {
   "cell_type": "code",
   "execution_count": 18,
   "id": "a815525f",
   "metadata": {},
   "outputs": [],
   "source": [
    "# Drop the rows with the long descriptions (French) and the column names (English [now headers] & French)\n",
    "# Retain the English column names (row 1)\n",
    "df = df.drop(labels=[0,1,2], axis=0)"
   ]
  },
  {
   "cell_type": "code",
   "execution_count": 22,
   "id": "85535bef",
   "metadata": {},
   "outputs": [],
   "source": [
    "# Reset the row index to avoid issues later\n",
    "df = df.reset_index(drop=True)"
   ]
  },
  {
   "cell_type": "code",
   "execution_count": 30,
   "id": "7270518a",
   "metadata": {},
   "outputs": [],
   "source": [
    "df.to_csv(download_folder/file_name_csv, encoding='utf-8', index=False)"
   ]
  },
  {
   "cell_type": "code",
   "execution_count": null,
   "id": "9104987a",
   "metadata": {},
   "outputs": [],
   "source": []
  }
 ],
 "metadata": {
  "kernelspec": {
   "display_name": "camels-spat-env",
   "language": "python",
   "name": "camels-spat-env"
  },
  "language_info": {
   "codemirror_mode": {
    "name": "ipython",
    "version": 3
   },
   "file_extension": ".py",
   "mimetype": "text/x-python",
   "name": "python",
   "nbconvert_exporter": "python",
   "pygments_lexer": "ipython3",
   "version": "3.8.2"
  }
 },
 "nbformat": 4,
 "nbformat_minor": 5
}
